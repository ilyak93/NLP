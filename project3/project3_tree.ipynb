{
  "nbformat": 4,
  "nbformat_minor": 0,
  "metadata": {
    "colab": {
      "name": "Copy of project3_tree.ipynb",
      "provenance": [],
      "collapsed_sections": [],
      "toc_visible": true
    },
    "kernelspec": {
      "display_name": "Python 3",
      "language": "python",
      "name": "python3"
    },
    "language_info": {
      "codemirror_mode": {
        "name": "ipython",
        "version": 3
      },
      "file_extension": ".py",
      "mimetype": "text/x-python",
      "name": "python",
      "nbconvert_exporter": "python",
      "pygments_lexer": "ipython3",
      "version": "3.7.5-final"
    },
    "title": "236299 Project Segment 3: Parsing – The CKY Algorithm"
  },
  "cells": [
    {
      "cell_type": "code",
      "metadata": {
        "colab": {
          "base_uri": "https://localhost:8080/"
        },
        "collapsed": true,
        "id": "6tRR4H5taXxK",
        "outputId": "bbe835ae-a4de-44da-d7cb-3c3bb427c63a"
      },
      "source": [
        "# Please do not change this cell because some hidden tests might depend on it.\n",
        "import os\n",
        "\n",
        "# Otter grader does not handle ! commands well, so we define and use our\n",
        "# own function to execute shell commands.\n",
        "def shell(commands, warn=True):\n",
        "    \"\"\"Executes the string `commands` as a sequence of shell commands.\n",
        "     \n",
        "       Prints the result to stdout and returns the exit status. \n",
        "       Provides a printed warning on non-zero exit status unless `warn` \n",
        "       flag is unset.\n",
        "    \"\"\"\n",
        "    file = os.popen(commands)\n",
        "    print (file.read().rstrip('\\n'))\n",
        "    exit_status = file.close()\n",
        "    if warn and exit_status != None:\n",
        "        print(f\"Completed with errors. Exit status: {exit_status}\\n\")\n",
        "    return exit_status\n",
        "\n",
        "shell(\"\"\"\n",
        "ls requirements.txt >/dev/null 2>&1\n",
        "if [ ! $? = 0 ]; then\n",
        " rm -rf .tmp\n",
        " git clone https://github.com/cs236299-2020/project3.git .tmp\n",
        " mv .tmp/requirements.txt ./\n",
        " rm -rf .tmp\n",
        "fi\n",
        "pip install -q -r requirements.txt\n",
        "\"\"\")"
      ],
      "execution_count": null,
      "outputs": [
        {
          "output_type": "stream",
          "text": [
            "\n"
          ],
          "name": "stdout"
        }
      ]
    },
    {
      "cell_type": "code",
      "metadata": {
        "id": "qfWLUpuKaXxV"
      },
      "source": [
        "# Initialize Otter\n",
        "import otter\n",
        "grader = otter.Notebook()"
      ],
      "execution_count": null,
      "outputs": []
    },
    {
      "cell_type": "markdown",
      "metadata": {
        "id": "dLz7tmLAsIYn"
      },
      "source": [
        "%%latex\n",
        "\\newcommand{\\vect}[1]{\\mathbf{#1}}\n",
        "\\newcommand{\\cnt}[1]{\\sharp(#1)}\n",
        "\\newcommand{\\argmax}[1]{\\underset{#1}{\\operatorname{argmax}}}\n",
        "\\newcommand{\\softmax}{\\operatorname{softmax}}\n",
        "\\newcommand{\\Prob}{\\Pr}\n",
        "\\newcommand{\\given}{\\,|\\,}"
      ]
    },
    {
      "cell_type": "markdown",
      "metadata": {
        "id": "xQVfC9hHsC5j"
      },
      "source": [
        "$$\n",
        "\\renewcommand{\\vect}[1]{\\mathbf{#1}}\n",
        "\\renewcommand{\\cnt}[1]{\\sharp(#1)}\n",
        "\\renewcommand{\\argmax}[1]{\\underset{#1}{\\operatorname{argmax}}}\n",
        "\\renewcommand{\\softmax}{\\operatorname{softmax}}\n",
        "\\renewcommand{\\Prob}{\\Pr}\n",
        "\\renewcommand{\\given}{\\,|\\,}\n",
        "$$"
      ]
    },
    {
      "cell_type": "markdown",
      "metadata": {
        "id": "_6w_YiZWHiVi"
      },
      "source": [
        "# Project 3: Parsing – The CKY Algorithm\n",
        "\n",
        "Constituency parsing is the recovery of a labeled hierarchical structure, a _parse tree_ for a sentence of a natural language. It is a core intermediary task in natural-language processing, as the meanings of sentences are related to their structure.\n",
        "\n",
        "In this project, you will implement the CKY algorithm for parsing strings relative to context-free grammars (CFG). You will implement versions for both non-probabilistic context-free grammars (CFG) and probabilistic grammars (PCFG).\n",
        "\n",
        "## Parts\n",
        "\n",
        "1. Finish a CFG for the ATIS dataset. \n",
        "2. Implement the CKY algorithm for _recognizing_ grammatical sentences, that is, determining whether a parse exists for a given sentence.\n",
        "3. Extend the CKY algorithm for _parsing_ sentences, that is, constructing the parse trees for a given sentence.\n",
        "4. Construct a probabilistic context-free grammar (PCFG) based on a CFG.\n",
        "5. Extend the CKY algorithm to PCFGs, allowing the construction of the most probable parse tree for a sentence according to a PCFG.\n",
        "\n",
        "## Setup"
      ]
    },
    {
      "cell_type": "code",
      "metadata": {
        "colab": {
          "base_uri": "https://localhost:8080/"
        },
        "id": "aDVF1vt_aXxZ",
        "outputId": "b4235b4b-8631-4f1a-89fd-e5df51258302"
      },
      "source": [
        "# Download needed files and scripts\n",
        "shell(\"\"\"\n",
        "  # ATIS queries\n",
        "  wget -nv -N -P data https://raw.githubusercontent.com/nlp-236299/data/master/ATIS/train.nl\n",
        "\n",
        "  # Corresponding parse trees\n",
        "  wget -nv -N -P data https://raw.githubusercontent.com/nlp-236299/data/master/ATIS/train.trees\n",
        "  wget -nv -N -P data https://raw.githubusercontent.com/nlp-236299/data/master/ATIS/test.trees\n",
        "\n",
        "  # Code for comparing and evaluating parse trees\n",
        "  wget -nv -N -P scripts https://raw.githubusercontent.com/nlp-236299/data/master/scripts/trees/evalb.py\n",
        "  wget -nv -N -P scripts https://raw.githubusercontent.com/nlp-236299/data/master/scripts/trees/transform.py\n",
        "  wget -nv -N -P scripts https://raw.githubusercontent.com/nlp-236299/data/master/scripts/trees/tree.py\n",
        "\"\"\")"
      ],
      "execution_count": null,
      "outputs": [
        {
          "output_type": "stream",
          "text": [
            "\n"
          ],
          "name": "stdout"
        }
      ]
    },
    {
      "cell_type": "code",
      "metadata": {
        "id": "oD-BdNMDaXxa"
      },
      "source": [
        "import shutil\n",
        "\n",
        "import nltk\n",
        "\n",
        "import sys\n",
        "\n",
        "from collections import defaultdict, Counter\n",
        "\n",
        "from nltk import treetransforms\n",
        "from nltk.grammar import ProbabilisticProduction, PCFG, Nonterminal\n",
        "from nltk.tree import Tree\n",
        "\n",
        "from tqdm import tqdm\n",
        "\n",
        "# Import functions for transforming augmented grammars\n",
        "sys.path.insert(1, './scripts')\n",
        "import transform as xform"
      ],
      "execution_count": null,
      "outputs": []
    },
    {
      "cell_type": "code",
      "metadata": {
        "id": "DdYa7n2yaXxb"
      },
      "source": [
        "## Debug flag used below for turning on and off some useful tracing\n",
        "DEBUG = False"
      ],
      "execution_count": null,
      "outputs": []
    },
    {
      "cell_type": "markdown",
      "metadata": {
        "id": "NwhiYW0SFDDp"
      },
      "source": [
        "## A custom ATIS grammar"
      ]
    },
    {
      "cell_type": "markdown",
      "metadata": {
        "id": "DP-62dlTFDDp"
      },
      "source": [
        "To parse, we need a grammar. In this project, you will use a hand-crafted grammar for a fragment of the ATIS dataset. The grammar is written in a \"semantic grammar\" style, in which the nonterminals tend to correspond to semantic classes of phrases, rather than syntactic classes. By using this style, we can more closely tune the grammar to the application, though we lose generality and transferability to other applications. The grammar will be used again in the next project segment for a question-answering application.\n",
        "\n",
        "We download the grammar to make it available."
      ]
    },
    {
      "cell_type": "code",
      "metadata": {
        "id": "YoiEVYneaXxc"
      },
      "source": [
        "if not os.path.exists('./data/grammar_distrib3'):\n",
        "  shell(\"wget -nv -N -P data https://raw.githubusercontent.com/nlp-236299/data/master/ATIS/grammar_distrib3\")\n",
        "if os.path.exists('./data/grammar_distrib3') and (not os.path.exists('./data/grammar')):\n",
        "  shutil.copy('./data/grammar_distrib3', './data/grammar')"
      ],
      "execution_count": null,
      "outputs": []
    },
    {
      "cell_type": "markdown",
      "metadata": {
        "id": "4sS-jZcfaXxd"
      },
      "source": [
        "Take a look at the file `data/grammar_distrib3` that you've just downloaded. The grammar is written in a format that extends the NLTK format expected by `CFG.fromstring`. We've provided functions to make use of this format in the file `scripts/transform.py`. You should familiarize yourself with this format by checking out the documentation in that file.\n",
        "\n",
        "> We made a copy of this grammar for you as `data/grammar`. This is the file you'll be modifying in the next section. You can leave it alone for now.\n",
        "\n",
        "As described there, we can read in the grammar and convert it into NLTK's grammar format using the provided `xform.read_augmented_grammar` function."
      ]
    },
    {
      "cell_type": "code",
      "metadata": {
        "id": "37s5jbAu2kk7"
      },
      "source": [
        "atis_grammar_distrib, _ = xform.read_augmented_grammar(\"grammar_distrib3\", path=\"data\")"
      ],
      "execution_count": null,
      "outputs": []
    },
    {
      "cell_type": "markdown",
      "metadata": {
        "id": "87gkthuVaXxd"
      },
      "source": [
        "To verify that the ATIS grammar that we distributed is working, we can parse a sentence using a built-in NLTK parser. We'll use a tokenizer built with NLTK's tokenizing apparatus."
      ]
    },
    {
      "cell_type": "code",
      "metadata": {
        "colab": {
          "base_uri": "https://localhost:8080/"
        },
        "id": "nLjy18ejaXxe",
        "outputId": "cb5ec63d-a67d-40ed-fd28-ddb65c66455b"
      },
      "source": [
        "## Tokenizer\n",
        "tokenizer = nltk.tokenize.RegexpTokenizer('\\d+|[\\w-]+|\\$[\\d\\.]+|\\S+')\n",
        "def tokenize(string):\n",
        "  return tokenizer.tokenize(string.lower())\n",
        "\n",
        "## Demonstrating the tokenizer\n",
        "## Note especially the handling of `\"11pm\"` and hyphenated words.\n",
        "print(tokenize(\"Are there any first-class flights at 11pm for less than $3.50?\"))"
      ],
      "execution_count": null,
      "outputs": [
        {
          "output_type": "stream",
          "text": [
            "['are', 'there', 'any', 'first-class', 'flights', 'at', '11', 'pm', 'for', 'less', 'than', '$3.50', '?']\n"
          ],
          "name": "stdout"
        }
      ]
    },
    {
      "cell_type": "code",
      "metadata": {
        "colab": {
          "base_uri": "https://localhost:8080/"
        },
        "id": "iW4FChwjaXxe",
        "outputId": "02d3118c-4f96-49d6-d2cb-c4fa45deb680"
      },
      "source": [
        "## Test sentence\n",
        "test_sentence_1 = tokenize(\"show me the flights before noon\")\n",
        "\n",
        "## Construct parser from distribution grammar\n",
        "atis_parser_distrib = nltk.parse.BottomUpChartParser(atis_grammar_distrib)\n",
        "\n",
        "## Parse and print the parses\n",
        "parses = [p for p in atis_parser_distrib.parse(test_sentence_1)]\n",
        "for parse in parses:\n",
        "  parse.pretty_print()"
      ],
      "execution_count": null,
      "outputs": [
        {
          "output_type": "stream",
          "text": [
            "                                                 S                                                \n",
            "                        _________________________|________________________                         \n",
            "                       |                                              NP_FLIGHT                   \n",
            "                       |                                                  |                        \n",
            "                       |                                              NOM_FLIGHT                  \n",
            "                       |                                                  |                        \n",
            "                       |                                               N_FLIGHT                   \n",
            "                       |                                        __________|_________               \n",
            "                   PREIGNORE                                   |                    PP            \n",
            "        _______________|____________                           |                    |              \n",
            "       |                        PREIGNORE                      |                 PP_TIME          \n",
            "       |                ____________|____________              |           _________|________      \n",
            "       |               |                     PREIGNORE      N_FLIGHT      |               NP_TIME \n",
            "       |               |                         |             |          |                  |     \n",
            "PREIGNORESYMBOL PREIGNORESYMBOL           PREIGNORESYMBOL TERM_FLIGHT   P_TIME           TERM_TIME\n",
            "       |               |                         |             |          |                  |     \n",
            "      show             me                       the         flights     before              noon  \n",
            "\n",
            "                                           S                                                    \n",
            "                     ______________________|__________________                                   \n",
            "                    |                                     NP_FLIGHT                             \n",
            "                    |                       __________________|_________                         \n",
            "                    |                      |                        NOM_FLIGHT                  \n",
            "                    |                      |                            |                        \n",
            "                    |                      |                         N_FLIGHT                   \n",
            "                    |                      |        ____________________|_________               \n",
            "                    |                      |       |                              PP            \n",
            "                    |                      |       |                              |              \n",
            "                PREIGNORE                  |       |                           PP_TIME          \n",
            "        ____________|____________          |       |                     _________|________      \n",
            "       |                     PREIGNORE     |    N_FLIGHT                |               NP_TIME \n",
            "       |                         |         |       |                    |                  |     \n",
            "PREIGNORESYMBOL           PREIGNORESYMBOL DET TERM_FLIGHT             P_TIME           TERM_TIME\n",
            "       |                         |         |       |                    |                  |     \n",
            "      show                       me       the   flights               before              noon  \n",
            "\n"
          ],
          "name": "stdout"
        }
      ]
    },
    {
      "cell_type": "markdown",
      "metadata": {
        "id": "oob8FgHQNXtx"
      },
      "source": [
        "### Testing the coverage of the grammar\n",
        "\n",
        "We can get a sense of how well the grammar covers the ATIS query language by measuring the proportion of queries in the training set that are parsed by the grammar. We define a `coverage` function to carry out this evaluation.\n",
        "\n",
        "> Warning: It may take a long time to parse all of the sentence in the training corpus, on the order of 30 minutes. You may want to start with just the first few sentences in the corpus. The `coverage` function below makes it easy to do so, and in the code below we just test coverage on the first 50 sentences."
      ]
    },
    {
      "cell_type": "code",
      "metadata": {
        "id": "SIGPLYzpaXxg"
      },
      "source": [
        "## Read in the training corpus\n",
        "with open('data/train.nl') as file:\n",
        "  training_corpus = [tokenize(line) for line in file]"
      ],
      "execution_count": null,
      "outputs": []
    },
    {
      "cell_type": "code",
      "metadata": {
        "id": "zxdGJWzLaXxh"
      },
      "source": [
        "def coverage(recognizer, corpus, n=0):\n",
        "  \"\"\"Returns the proportion of the first `n` sentences in the `corpus` \n",
        "  that are recognized by the `recognizer`, which should return a boolean.\n",
        "  `n` is taken to be the whole corpus if n is not provided or is\n",
        "  non-positive.\n",
        "  \"\"\"\n",
        "  n = len(corpus) if n <= 0 else n\n",
        "  parsed = 0\n",
        "  total = 0\n",
        "  for sent in tqdm(corpus[:n]):\n",
        "    total += 1\n",
        "    try:\n",
        "      parses = recognizer(sent)\n",
        "    except:\n",
        "      parses = None\n",
        "    if parses:\n",
        "      parsed += 1\n",
        "    elif DEBUG:\n",
        "      print(f\"failed: {sent}\")\n",
        "  if DEBUG: print(f\"{parsed} of {total}\")\n",
        "  return parsed/total"
      ],
      "execution_count": null,
      "outputs": []
    },
    {
      "cell_type": "code",
      "metadata": {
        "colab": {
          "base_uri": "https://localhost:8080/"
        },
        "id": "IWDwqu0uaXxi",
        "outputId": "d4f6702f-c095-4b8f-adef-51399b063869"
      },
      "source": [
        "coverage(lambda sent: 0 < len(list(atis_parser_distrib.parse(sent))),  # trick for turning parser into recognizer\n",
        "         training_corpus, n=-1)"
      ],
      "execution_count": null,
      "outputs": [
        {
          "output_type": "stream",
          "text": [
            "100%|██████████| 4379/4379 [00:13<00:00, 325.69it/s]\n"
          ],
          "name": "stderr"
        },
        {
          "output_type": "execute_result",
          "data": {
            "text/plain": [
              "0.00045672527974423386"
            ]
          },
          "metadata": {
            "tags": []
          },
          "execution_count": 297
        }
      ]
    },
    {
      "cell_type": "markdown",
      "metadata": {
        "id": "hLNcTwgUaXxi"
      },
      "source": [
        "Sadly, you'll find that the coverage of the grammar is extraordinarily poor. That's because it is missing curcial parts of the grammar, especially phrases about place, which play a role in essentially every ATIS query. You'll need to complete the grammar before it can be useful."
      ]
    },
    {
      "cell_type": "markdown",
      "metadata": {
        "id": "D_JNkHfm2qjl"
      },
      "source": [
        "### Part 1: Finish the CFG for the ATIS dataset\n",
        "\n",
        "Consider the following query:"
      ]
    },
    {
      "cell_type": "code",
      "metadata": {
        "id": "a46DMSo2aXxj"
      },
      "source": [
        "test_sentence_2 = tokenize(\"show me the united flights from boston\")"
      ],
      "execution_count": null,
      "outputs": []
    },
    {
      "cell_type": "markdown",
      "metadata": {
        "id": "kl-XoDCraXxk"
      },
      "source": [
        "You'll notice that the grammar we distributed doesn't handle this query because it doesn't have a subgrammar for airline information (`\"united\"`) or for places (`\"from boston\"`)."
      ]
    },
    {
      "cell_type": "code",
      "metadata": {
        "colab": {
          "base_uri": "https://localhost:8080/"
        },
        "id": "SBfVw3zQaXxk",
        "outputId": "f64f0a01-6339-4022-ec96-d9f157814978"
      },
      "source": [
        "len(list(atis_parser_distrib.parse(test_sentence_2)))"
      ],
      "execution_count": null,
      "outputs": [
        {
          "output_type": "execute_result",
          "data": {
            "text/plain": [
              "0"
            ]
          },
          "metadata": {
            "tags": []
          },
          "execution_count": 299
        }
      ]
    },
    {
      "cell_type": "markdown",
      "metadata": {
        "id": "i-pRwVy-aXxl"
      },
      "source": [
        "Follow the instructions in the grammar file `data/grammar` to add further coverage to the grammar. (You can and should leave the `data/grammar_distrib3` copy alone and use it for reference.) \n",
        "\n",
        "We'll define a parser based on your modified grammar, so we can compare it against the distributed grammar. Once you've modified the grammar, this test sentence should have at least one parse.\n",
        "\n",
        "> You can search for \"TODO\" in `data/grammar` to find the two places to add grammar rules."
      ]
    },
    {
      "cell_type": "code",
      "metadata": {
        "id": "S9oILijmaXxm",
        "colab": {
          "base_uri": "https://localhost:8080/"
        },
        "outputId": "6285311d-4b8e-462e-89b4-b9895191a223"
      },
      "source": [
        "atis_grammar_expanded, _ = xform.read_augmented_grammar(\"grammar\", path=\"data\")\n",
        "atis_parser_expanded = nltk.parse.BottomUpChartParser(atis_grammar_expanded)\n",
        "\n",
        "parses = [p for p in atis_parser_expanded.parse(test_sentence_2)]\n",
        "for parse in parses:\n",
        "  parse.pretty_print()\n"
      ],
      "execution_count": null,
      "outputs": [
        {
          "output_type": "stream",
          "text": [
            "                                                                S                                                            \n",
            "                        ________________________________________|_______________________                                      \n",
            "                       |                                                            NP_FLIGHT                                \n",
            "                       |                                                                |                                     \n",
            "                       |                                                            NOM_FLIGHT                               \n",
            "                       |                                         _______________________|__________                           \n",
            "                       |                                        |                              NOM_FLIGHT                    \n",
            "                       |                                        |                                  |                          \n",
            "                   PREIGNORE                                    |                               N_FLIGHT                     \n",
            "        _______________|____________                            |             _____________________|_________                 \n",
            "       |                        PREIGNORE                      ADJ           |                               PP              \n",
            "       |                ____________|____________               |            |                               |                \n",
            "       |               |                     PREIGNORE     ADJ_AIRLINE    N_FLIGHT                        PP_PLACE           \n",
            "       |               |                         |              |            |                      _________|_________       \n",
            "PREIGNORESYMBOL PREIGNORESYMBOL           PREIGNORESYMBOL TERM_AIRBRAND TERM_FLIGHT             P_PLACE            TERM_PLACE\n",
            "       |               |                         |              |            |                     |                   |      \n",
            "      show             me                       the           united      flights                 from               boston  \n",
            "\n",
            "                                                    S                                                            \n",
            "                     _______________________________|____________                                                 \n",
            "                    |                                        NP_FLIGHT                                           \n",
            "                    |                       _____________________|__________                                      \n",
            "                    |                      |                            NOM_FLIGHT                               \n",
            "                    |                      |         _______________________|__________                           \n",
            "                    |                      |        |                              NOM_FLIGHT                    \n",
            "                    |                      |        |                                  |                          \n",
            "                    |                      |        |                               N_FLIGHT                     \n",
            "                    |                      |        |             _____________________|_________                 \n",
            "                PREIGNORE                  |       ADJ           |                               PP              \n",
            "        ____________|____________          |        |            |                               |                \n",
            "       |                     PREIGNORE     |   ADJ_AIRLINE    N_FLIGHT                        PP_PLACE           \n",
            "       |                         |         |        |            |                      _________|_________       \n",
            "PREIGNORESYMBOL           PREIGNORESYMBOL DET TERM_AIRBRAND TERM_FLIGHT             P_PLACE            TERM_PLACE\n",
            "       |                         |         |        |            |                     |                   |      \n",
            "      show                       me       the     united      flights                 from               boston  \n",
            "\n"
          ],
          "name": "stdout"
        }
      ]
    },
    {
      "cell_type": "code",
      "metadata": {
        "id": "V1_Myw2FaXxn",
        "colab": {
          "base_uri": "https://localhost:8080/"
        },
        "outputId": "eaa7239b-7ee1-4b9c-fb7f-a8d464b8edad"
      },
      "source": [
        "test_sentence_3 = tokenize('what is the most expensive one way flight from boston to atlanta on american airlines')\n",
        "parses = [p for p in atis_parser_expanded.parse(test_sentence_3)]\n",
        "for parse in parses:\n",
        "  parse.pretty_print()\n"
      ],
      "execution_count": null,
      "outputs": [
        {
          "output_type": "stream",
          "text": [
            "                                                                                                                 S                                                                                                      \n",
            "                        _________________________________________________________________________________________|__________                                                                                             \n",
            "                       |                                                                                                NP_FLIGHT                                                                                       \n",
            "                       |                                                                                                    |                                                                                            \n",
            "                       |                                                                                                NOM_FLIGHT                                                                                      \n",
            "                       |                                            ________________________________________________________|___________________                                                                         \n",
            "                       |                                           |                                                                        NOM_FLIGHT                                                                  \n",
            "                       |                                           |                           _________________________________________________|__________                                                              \n",
            "                       |                                           |                          |                                                        NOM_FLIGHT                                                       \n",
            "                       |                                           |                          |                                                            |                                                             \n",
            "                       |                                           |                          |                                                         N_FLIGHT                                                        \n",
            "                       |                                           |                          |                                                  __________|____________________________________                         \n",
            "                       |                                           |                          |                                              N_FLIGHT                                           |                       \n",
            "                       |                                           |                          |                              ___________________|____________________                           |                        \n",
            "                   PREIGNORE                                       |                          |                          N_FLIGHT                                    |                          |                       \n",
            "        _______________|____________                               |                          |                   __________|_________                               |                          |                        \n",
            "       |                        PREIGNORE                          |                         ADJ                 |                    PP                             PP                         PP                      \n",
            "       |                ____________|____________                  |                          |                  |                    |                              |                          |                        \n",
            "       |               |                     PREIGNORE            ADJ                   ADJ_FLIGHTTYPE        N_FLIGHT             PP_PLACE                       PP_PLACE                  PP_AIRLINE                  \n",
            "       |               |                         |                 |                          |                  |           _________|_________            _________|_________         ________|______________          \n",
            "PREIGNORESYMBOL PREIGNORESYMBOL           PREIGNORESYMBOL      ADJ_PRICE               ADJ_FLIGHTTYPESI     TERM_FLIGHT  P_PLACE            TERM_PLACE  P_PLACE            TERM_PLACE  |  TERM_AIRBRAND TERM_AIRBRANDTYP\n",
            "       |               |                         |                 |                         MPLE                |          |                   |          |                   |       |        |              E        \n",
            "       |               |                         |          _______|_________        _________|__________        |          |                   |          |                   |       |        |              |         \n",
            "      what             is                       the       most           expensive one                  way    flight      from               boston       to               atlanta    on    american       airlines    \n",
            "\n",
            "                                                                                                                 S                                                                                    \n",
            "                        _________________________________________________________________________________________|__________                                                                           \n",
            "                       |                                                                                                NP_FLIGHT                                                                     \n",
            "                       |                                                                                                    |                                                                          \n",
            "                       |                                                                                                NOM_FLIGHT                                                                    \n",
            "                       |                                            ________________________________________________________|__________                                                                \n",
            "                       |                                           |                                                               NOM_FLIGHT                                                         \n",
            "                       |                                           |                           ________________________________________|__________                                                     \n",
            "                       |                                           |                          |                                               NOM_FLIGHT                                              \n",
            "                       |                                           |                          |                                                   |                                                    \n",
            "                       |                                           |                          |                                                N_FLIGHT                                               \n",
            "                       |                                           |                          |                              _____________________|___________________________                         \n",
            "                   PREIGNORE                                       |                          |                          N_FLIGHT                                             |                       \n",
            "        _______________|____________                               |                          |                   __________|__________                                       |                        \n",
            "       |                        PREIGNORE                          |                         ADJ                 |                     PP                                     PP                      \n",
            "       |                ____________|____________                  |                          |                  |                     |                                      |                        \n",
            "       |               |                     PREIGNORE            ADJ                   ADJ_FLIGHTTYPE        N_FLIGHT              PP_PLACE                              PP_AIRLINE                  \n",
            "       |               |                         |                 |                          |                  |           __________|_____________________         ________|______________          \n",
            "PREIGNORESYMBOL PREIGNORESYMBOL           PREIGNORESYMBOL      ADJ_PRICE               ADJ_FLIGHTTYPESI     TERM_FLIGHT  P_PLACE   TERM_PLACE  P_PLACE   TERM_PLACE  |  TERM_AIRBRAND TERM_AIRBRANDTYP\n",
            "       |               |                         |                 |                         MPLE                |          |          |          |          |       |        |              E        \n",
            "       |               |                         |          _______|_________        _________|__________        |          |          |          |          |       |        |              |         \n",
            "      what             is                       the       most           expensive one                  way    flight      from      boston       to      atlanta    on    american       airlines    \n",
            "\n",
            "                                           S                                                                                                                                                                      \n",
            "                     ______________________|_______________________________                                                                                                                                        \n",
            "                    |                                                  NP_FLIGHT                                                                                                                                  \n",
            "                    |                       _______________________________|__________________________________________                                                                                             \n",
            "                    |                      |                                                                      NOM_FLIGHT                                                                                      \n",
            "                    |                      |            ______________________________________________________________|___________________                                                                         \n",
            "                    |                      |           |                                                                              NOM_FLIGHT                                                                  \n",
            "                    |                      |           |                                 _________________________________________________|__________                                                              \n",
            "                    |                      |           |                                |                                                        NOM_FLIGHT                                                       \n",
            "                    |                      |           |                                |                                                            |                                                             \n",
            "                    |                      |           |                                |                                                         N_FLIGHT                                                        \n",
            "                    |                      |           |                                |                                                  __________|____________________________________                         \n",
            "                    |                      |           |                                |                                              N_FLIGHT                                           |                       \n",
            "                    |                      |           |                                |                              ___________________|____________________                           |                        \n",
            "                    |                      |           |                                |                          N_FLIGHT                                    |                          |                       \n",
            "                    |                      |           |                                |                   __________|_________                               |                          |                        \n",
            "                PREIGNORE                  |           |                               ADJ                 |                    PP                             PP                         PP                      \n",
            "        ____________|____________          |           |                                |                  |                    |                              |                          |                        \n",
            "       |                     PREIGNORE     |          ADJ                         ADJ_FLIGHTTYPE        N_FLIGHT             PP_PLACE                       PP_PLACE                  PP_AIRLINE                  \n",
            "       |                         |         |           |                                |                  |           _________|_________            _________|_________         ________|______________          \n",
            "PREIGNORESYMBOL           PREIGNORESYMBOL DET      ADJ_PRICE                     ADJ_FLIGHTTYPESI     TERM_FLIGHT  P_PLACE            TERM_PLACE  P_PLACE            TERM_PLACE  |  TERM_AIRBRAND TERM_AIRBRANDTYP\n",
            "       |                         |         |           |                               MPLE                |          |                   |          |                   |       |        |              E        \n",
            "       |                         |         |    _______|_________           ____________|__________        |          |                   |          |                   |       |        |              |         \n",
            "      what                       is       the most           expensive    one                     way    flight      from               boston       to               atlanta    on    american       airlines    \n",
            "\n",
            "                                           S                                                                                                                                                    \n",
            "                     ______________________|_______________________________                                                                                                                      \n",
            "                    |                                                  NP_FLIGHT                                                                                                                \n",
            "                    |                       _______________________________|__________________________________________                                                                           \n",
            "                    |                      |                                                                      NOM_FLIGHT                                                                    \n",
            "                    |                      |            ______________________________________________________________|__________                                                                \n",
            "                    |                      |           |                                                                     NOM_FLIGHT                                                         \n",
            "                    |                      |           |                                 ________________________________________|__________                                                     \n",
            "                    |                      |           |                                |                                               NOM_FLIGHT                                              \n",
            "                    |                      |           |                                |                                                   |                                                    \n",
            "                    |                      |           |                                |                                                N_FLIGHT                                               \n",
            "                    |                      |           |                                |                              _____________________|___________________________                         \n",
            "                    |                      |           |                                |                          N_FLIGHT                                             |                       \n",
            "                    |                      |           |                                |                   __________|__________                                       |                        \n",
            "                PREIGNORE                  |           |                               ADJ                 |                     PP                                     PP                      \n",
            "        ____________|____________          |           |                                |                  |                     |                                      |                        \n",
            "       |                     PREIGNORE     |          ADJ                         ADJ_FLIGHTTYPE        N_FLIGHT              PP_PLACE                              PP_AIRLINE                  \n",
            "       |                         |         |           |                                |                  |           __________|_____________________         ________|______________          \n",
            "PREIGNORESYMBOL           PREIGNORESYMBOL DET      ADJ_PRICE                     ADJ_FLIGHTTYPESI     TERM_FLIGHT  P_PLACE   TERM_PLACE  P_PLACE   TERM_PLACE  |  TERM_AIRBRAND TERM_AIRBRANDTYP\n",
            "       |                         |         |           |                               MPLE                |          |          |          |          |       |        |              E        \n",
            "       |                         |         |    _______|_________           ____________|__________        |          |          |          |          |       |        |              |         \n",
            "      what                       is       the most           expensive    one                     way    flight      from      boston       to      atlanta    on    american       airlines    \n",
            "\n"
          ],
          "name": "stdout"
        }
      ]
    },
    {
      "cell_type": "code",
      "metadata": {
        "id": "zqzXa2gKTJj0"
      },
      "source": [
        ""
      ],
      "execution_count": null,
      "outputs": []
    },
    {
      "cell_type": "markdown",
      "metadata": {
        "id": "7sMHUZUJaXxo"
      },
      "source": [
        "Once you're done adding to the grammar, to check your grammar, we'll compute the grammar's coverage of the ATIS training corpus as before.\n",
        "**This grammar should be expected to cover about half of the sentences in the first 50 sentences, and a third of the entire training corpus.**"
      ]
    },
    {
      "cell_type": "code",
      "metadata": {
        "id": "C72TUVVtaXxp",
        "colab": {
          "base_uri": "https://localhost:8080/"
        },
        "outputId": "88ee8377-d2d1-4da3-bda2-fcfd3929ac3f"
      },
      "source": [
        "coverage(lambda sent: 0 < len(list(atis_parser_expanded.parse(sent))),  # trick for turning parser into recognizer\n",
        "         training_corpus, n=-1)"
      ],
      "execution_count": null,
      "outputs": [
        {
          "output_type": "stream",
          "text": [
            "100%|██████████| 4379/4379 [00:25<00:00, 169.63it/s]\n"
          ],
          "name": "stderr"
        },
        {
          "output_type": "execute_result",
          "data": {
            "text/plain": [
              "0.349623201644211"
            ]
          },
          "metadata": {
            "tags": []
          },
          "execution_count": 302
        }
      ]
    },
    {
      "cell_type": "markdown",
      "metadata": {
        "id": "jAwisi1cehil"
      },
      "source": [
        "## CFG recognition via the CKY algorithm\n",
        "\n",
        "Now we turn to implementing recognizers and parsers using the CKY algorithm. We start with a recognizer, which should return `True` or `False` if a grammar does or does not admit a sentence as grammatical.\n",
        "\n",
        "### Converting the grammar to CNF for use by the CKY algorithm\n",
        "\n",
        "The CKY algorithm requires the grammar to be in Chomsky normal form (CNF). That is, only rules of the forms\n",
        "\\begin{align*}\n",
        "A &\\rightarrow B\\, C\\\\\n",
        "A &\\rightarrow a\n",
        "\\end{align*}\n",
        "are allowed, where $A$, $B$, $C$ are nonterminals and $a$ is a terminal symbol. \n",
        "\n",
        "However, in some downstream applications (such as the next project segment) we want to use grammar rules of more general forms, such as $A \\rightarrow B\\, C\\, D$. Indeed, the ATIS grammar you've been working on makes use of the additional expressivity beyond CNF.\n",
        "\n",
        "To satisfy both of these constraints, we will convert the grammar to CNF, parse using CKY, and then convert the returned parse trees back to the form of the original grammar. We provide some useful functions for performing these transformations in the file `scripts/transform.py`, already loaded above and imported as `xform`.\n",
        "\n",
        "To convert a grammar to CNF:\n",
        "\n",
        "`cnf_grammar, cnf_grammar_wunaries = xform.get_cnf_grammar(grammar)`\n",
        "\n",
        "To convert a tree output from CKY back to the original form of the grammar:\n",
        "\n",
        "`xform.un_cnf(tree, cnf_grammar_wunaries)`\n",
        "\n",
        "> We pass into `un_cnf` a version of the grammar before removing unary nonterminal productions, `cnf_grammar_wunaries`. The `cnf_grammar_wunaries` is returened as the second part of the returned value of `get_cnf_grammar` for just this purpose."
      ]
    },
    {
      "cell_type": "code",
      "metadata": {
        "id": "sZodQaD0aXxq"
      },
      "source": [
        "atis_grammar_cnf, atis_grammar_wunaries = xform.get_cnf_grammar(atis_grammar_expanded)\n",
        "assert(atis_grammar_cnf.is_chomsky_normal_form())"
      ],
      "execution_count": null,
      "outputs": []
    },
    {
      "cell_type": "markdown",
      "metadata": {
        "id": "X2D6ZVFPaXxr"
      },
      "source": [
        "In the next sections, you'll write your own recognizers and parsers based on the CKY algorithm that can operate on this grammar. But first, there are parts of the ATIS grammar that need to be completed."
      ]
    },
    {
      "cell_type": "markdown",
      "metadata": {
        "id": "zdrkkiSAFDDt"
      },
      "source": [
        "### Part 2: Implement a CKY recognizer\n",
        "\n",
        "Implement a recognizer using the CKY algorithm to determine if a sentence `tokens` is parsable. The labs and J&M Chapter 13 may be useful references here.\n",
        "\n",
        "> Hint: recall that you can get the production rules of a grammar using `grammar.productions()`."
      ]
    },
    {
      "cell_type": "code",
      "metadata": {
        "id": "sHkvnLV7FDDu"
      },
      "source": [
        "## TODO – Implement a CKY recognizer\n",
        "import pandas as pd\n",
        "\n",
        "def create_table(tokens, collection):\n",
        "    tk = tokens.copy()\n",
        "    tk.insert(0, '')\n",
        "    N = len(tk)\n",
        "    data = []\n",
        "    for i in range(N):\n",
        "        row = []\n",
        "        for j in range(N):\n",
        "            if i >= j:\n",
        "                row.append('---')\n",
        "            else:\n",
        "                row.append(collection.copy())\n",
        "        data.append(row)\n",
        "    indices = [str(x) for x in list(range(N))]\n",
        "    table = pd.DataFrame(data, columns=tk, index=indices)\n",
        "    table.columns = pd.MultiIndex.from_arrays([table.columns] + [indices])\n",
        "    return table\n",
        "\n",
        "def fill_diag(table, words, tree, j):\n",
        "    for prod in tree.productions():\n",
        "        if words[j] in list(prod.rhs()):\n",
        "            table.iloc[j,j+1].add(str(prod.lhs()))\n",
        "\n",
        "def fill_non_diag(table, back, words, tree, j):\n",
        "    prods = tree.productions()\n",
        "    for i in range(j-2+1, 0-1, -1):\n",
        "        for split in range(i+1, j+1):\n",
        "            B = table.iloc[i, split]\n",
        "            C = table.iloc[split, j+1]\n",
        "            BC = [[b,c] for b in B for c in C]\n",
        "            if len(BC) == 0:\n",
        "                continue\n",
        "            prods_left_right = [(prod.lhs(), list(map(str, prod.rhs()))) for prod in prods]\n",
        "            A_e_BC_idx = set([(str(lhs_rhs[0]), BC.index(lhs_rhs[1])) for lhs_rhs in prods_left_right if lhs_rhs[1] in BC])\n",
        "            A_s = [A_e_BC_i[0] for A_e_BC_i in A_e_BC_idx]\n",
        "            table.iloc[i, j+1].update(list(A_s))\n",
        "            for (A, idx) in A_e_BC_idx:\n",
        "                [b, c] = BC[idx]\n",
        "                back.iloc[i, j+1][A].add((split, b, c))\n",
        "\n",
        "def my_cky_parse(table, back, words, grammer):\n",
        "    words_len = len(words)\n",
        "    parser = nltk.parse.BottomUpChartParser(grammer)\n",
        "    for j in range(0, words_len):\n",
        "        for tree in parser.parse(words):\n",
        "            fill_diag(table, words,tree, j)\n",
        "            fill_non_diag(table, back, words, tree, j)\n",
        "\n",
        "def cky_recognize(grammar, tokens):\n",
        "  \"\"\"Returns True if and only if the list of tokens `tokens` is admitted\n",
        "  by the `grammar`.\n",
        "\n",
        "  Implements the CKY algorithm, and therefore assumes `grammar` is in\n",
        "  Chomsky normal form.\n",
        "  \"\"\"\n",
        "  assert(grammar.is_chomsky_normal_form())\n",
        "\n",
        "  table = create_table(tokens, set())\n",
        "  back = create_table(tokens, defaultdict(set))\n",
        "\n",
        "  my_cky_parse(table, back, tokens, grammar)\n",
        "  N = len(tokens)\n",
        "  answer = True if str(grammar.start()) in table.iloc[0, N] else False\n",
        "  return answer"
      ],
      "execution_count": null,
      "outputs": []
    },
    {
      "cell_type": "markdown",
      "metadata": {
        "id": "cxJo57LyHJXy"
      },
      "source": [
        "You can test your recognizer on a few examples, both grammatical and ungrammatical, as below."
      ]
    },
    {
      "cell_type": "code",
      "metadata": {
        "id": "8fLuSWDUFotR",
        "colab": {
          "base_uri": "https://localhost:8080/"
        },
        "outputId": "b1670b34-455d-4795-907c-3d414a1432fd"
      },
      "source": [
        "test_sentences = [\"show me flights from boston\",\n",
        "                  \"show me united flights before noon\",\n",
        "                  \"are there any twa flights available tomorrow\",\n",
        "                  \"show me flights united are there any\"]\n",
        "\n",
        "for sentence in test_sentences:\n",
        "  recognized = \"+\" if cky_recognize(atis_grammar_cnf, tokenize(sentence)) else \"-\"\n",
        "  print(f\"{recognized:5}{sentence}\")"
      ],
      "execution_count": null,
      "outputs": [
        {
          "output_type": "stream",
          "text": [
            "+    show me flights from boston\n",
            "+    show me united flights before noon\n",
            "+    are there any twa flights available tomorrow\n",
            "-    show me flights united are there any\n"
          ],
          "name": "stdout"
        }
      ]
    },
    {
      "cell_type": "markdown",
      "metadata": {
        "id": "ZLf-wYAiaXxt"
      },
      "source": [
        "You can also verify that the CKY recognizer verifies the same coverage as the NLTK parser."
      ]
    },
    {
      "cell_type": "code",
      "metadata": {
        "id": "r-djgD5ZaXxt",
        "colab": {
          "base_uri": "https://localhost:8080/"
        },
        "outputId": "b9b25fa7-b940-4308-90f5-230c6b16de55"
      },
      "source": [
        "coverage(lambda sent: cky_recognize(atis_grammar_cnf, sent),\n",
        "         training_corpus, n=-1)"
      ],
      "execution_count": null,
      "outputs": [
        {
          "output_type": "stream",
          "text": [
            "100%|██████████| 4379/4379 [11:21<00:00,  6.42it/s]\n"
          ],
          "name": "stderr"
        },
        {
          "output_type": "execute_result",
          "data": {
            "text/plain": [
              "0.349623201644211"
            ]
          },
          "metadata": {
            "tags": []
          },
          "execution_count": 306
        }
      ]
    },
    {
      "cell_type": "markdown",
      "metadata": {
        "id": "G8ggOqqbFDDw"
      },
      "source": [
        "### Part 3: Implement a CKY parser\n",
        "\n",
        "Implement the CKY algorithm for parsing with CFGs as a function `cky_parse`, which takes a grammar and a list of tokens and returns a single parse of the tokens as specified by the grammar, or `None` if there are no parses. You should only need to add a few lines of code to your CKY recognizer to achieve this, to implement the necessary back-pointers. The function should return an NLTK tree, which can be constructed using `Tree.fromstring`.\n",
        "\n",
        "A standard tree string will be of the following form:\n",
        "\n",
        "```\n",
        "(S (A B) (C (D E) (F G)))\n",
        "```\n",
        "\n",
        "which corresponds to the following tree (drawn using tree.pretty_print()):\n",
        "```\n",
        "     S         \n",
        "  ___|___       \n",
        " |       C     \n",
        " |    ___|___   \n",
        " A   D       F \n",
        " |   |       |  \n",
        " B   E       G \n",
        "```"
      ]
    },
    {
      "cell_type": "code",
      "metadata": {
        "id": "sqLD6i1CFDDy"
      },
      "source": [
        "## TODO -- Implement a CKY parser\n",
        "\n",
        "def back_to_tree(back, idx1, idx2):\n",
        "    if idx1+1 == idx2:\n",
        "        return [back.columns[idx2][0]]\n",
        "    split_dict = back.iloc[idx1, idx2]\n",
        "    for k, v in split_dict.items():\n",
        "        for (split, cnstnt1, cnstnt2) in v:\n",
        "            o1 = back_to_tree(back, idx1, split)\n",
        "            o2 = back_to_tree(back, split, idx2)\n",
        "            new_o = [[cnstnt1]+o1]+[[cnstnt2]+o2]\n",
        "            return new_o\n",
        " \n",
        "def cky_parse(grammar, tokens):\n",
        "  \"\"\"Returns an NLTK parse tree of the list of tokens `tokens` as \n",
        "  specified by the `grammar`.\n",
        "\n",
        "  Returns None if `tokens` is not parsable.\n",
        "  Implements the CKY algorithm, and therefore assumes `grammar` is in \n",
        "  Chomsky normal form.\n",
        "  \"\"\"\n",
        "  assert(grammar.is_chomsky_normal_form())\n",
        "\n",
        "  table = create_table(tokens, set())\n",
        "  back = create_table(tokens, defaultdict(set))\n",
        "\n",
        "  my_cky_parse(table, back, tokens, grammar)\n",
        "  N = len(tokens)\n",
        "  if str(grammar.start()) not in table.iloc[0, N]:\n",
        "      return None\n",
        "\n",
        "  s = back_to_tree(back, 0, len(tokens))\n",
        "  s = str([str(grammar.start())] + s)\n",
        "  s = s.replace('\\'', '')\n",
        "  s = s.replace('[', '(')\n",
        "  s = s.replace(']', ')')\n",
        "  s = s.replace(',', '')\n",
        "\n",
        "  answer = nltk.Tree.fromstring(s)\n",
        "  return answer   "
      ],
      "execution_count": null,
      "outputs": []
    },
    {
      "cell_type": "markdown",
      "metadata": {
        "id": "JT_CRbISLPsJ"
      },
      "source": [
        "You can test your code on the test sentences provided above:"
      ]
    },
    {
      "cell_type": "code",
      "metadata": {
        "id": "n7lbJQVGLThU",
        "colab": {
          "base_uri": "https://localhost:8080/"
        },
        "outputId": "b74c91d2-58d3-4748-cd83-0f32c6c80d10"
      },
      "source": [
        "for sentence in test_sentences:\n",
        "  tree = cky_parse(atis_grammar_cnf, tokenize(sentence))\n",
        "  if not tree:\n",
        "    print(f\"failed to parse: {sentence}\")\n",
        "  else:\n",
        "    xform.un_cnf(tree, atis_grammar_wunaries)\n",
        "    tree.pretty_print()"
      ],
      "execution_count": null,
      "outputs": [
        {
          "output_type": "stream",
          "text": [
            "                                               S                                    \n",
            "                     __________________________|__________                           \n",
            "                    |                                 NP_FLIGHT                     \n",
            "                    |                                     |                          \n",
            "                    |                                 NOM_FLIGHT                    \n",
            "                    |                                     |                          \n",
            "                    |                                  N_FLIGHT                     \n",
            "                    |                           __________|_________                 \n",
            "                PREIGNORE                      |                    PP              \n",
            "        ____________|____________              |                    |                \n",
            "       |                     PREIGNORE      N_FLIGHT             PP_PLACE           \n",
            "       |                         |             |           _________|_________       \n",
            "PREIGNORESYMBOL           PREIGNORESYMBOL TERM_FLIGHT  P_PLACE            TERM_PLACE\n",
            "       |                         |             |          |                   |      \n",
            "      show                       me         flights      from               boston  \n",
            "\n",
            "                                                S                                                          \n",
            "                     ___________________________|_______________________                                    \n",
            "                    |                                               NP_FLIGHT                              \n",
            "                    |                                                   |                                   \n",
            "                    |                                               NOM_FLIGHT                             \n",
            "                    |                            _______________________|__________                         \n",
            "                    |                           |                              NOM_FLIGHT                  \n",
            "                    |                           |                                  |                        \n",
            "                    |                           |                               N_FLIGHT                   \n",
            "                    |                           |             _____________________|_________               \n",
            "                    |                           |            |                               PP            \n",
            "                    |                           |            |                               |              \n",
            "                PREIGNORE                      ADJ           |                            PP_TIME          \n",
            "        ____________|____________               |            |                      _________|________      \n",
            "       |                     PREIGNORE     ADJ_AIRLINE    N_FLIGHT                 |               NP_TIME \n",
            "       |                         |              |            |                     |                  |     \n",
            "PREIGNORESYMBOL           PREIGNORESYMBOL TERM_AIRBRAND TERM_FLIGHT              P_TIME           TERM_TIME\n",
            "       |                         |              |            |                     |                  |     \n",
            "      show                       me           united      flights                before              noon  \n",
            "\n",
            "                                                    S                                                 \n",
            "                     _______________________________|____________                                      \n",
            "                    |                                        NP_FLIGHT                                \n",
            "                    |                       _____________________|__________                           \n",
            "                    |                      |                            NOM_FLIGHT                    \n",
            "                    |                      |         _______________________|__________                \n",
            "                    |                      |        |                              NOM_FLIGHT         \n",
            "                    |                      |        |                                  |               \n",
            "                    |                      |        |                               N_FLIGHT          \n",
            "                    |                      |        |                        __________|_________      \n",
            "                    |                      |        |                    N_FLIGHT                |    \n",
            "                    |                      |        |             __________|__________          |     \n",
            "                PREIGNORE                  |       ADJ           |                     PP        PP   \n",
            "        ____________|____________          |        |            |                     |         |     \n",
            "       |                     PREIGNORE     |   ADJ_AIRLINE    N_FLIGHT              PP_CLASS  PP_DATE \n",
            "       |                         |         |        |            |                     |         |     \n",
            "PREIGNORESYMBOL           PREIGNORESYMBOL DET TERM_AIRBRAND TERM_FLIGHT            ADJ_CLASS  NP_DATE \n",
            "       |                         |         |        |            |                     |         |     \n",
            "      are                      there      any      twa        flights              available  tomorrow\n",
            "\n",
            "failed to parse: show me flights united are there any\n"
          ],
          "name": "stdout"
        }
      ]
    },
    {
      "cell_type": "markdown",
      "metadata": {
        "id": "7VQVVkBoMITY"
      },
      "source": [
        "You can also compare against the built-in NLTK parser that we constructed above:"
      ]
    },
    {
      "cell_type": "code",
      "metadata": {
        "id": "BvSxIFBKMPMa",
        "colab": {
          "base_uri": "https://localhost:8080/"
        },
        "outputId": "5abf48e4-095f-4cfd-d4e9-5228c8931c80"
      },
      "source": [
        "for sentence in test_sentences:\n",
        "  refparses = [p for p in atis_parser_expanded.parse(tokenize(sentence))]\n",
        "  predparse = cky_parse(atis_grammar_cnf, tokenize(sentence))\n",
        "  if predparse:\n",
        "    xform.un_cnf(predparse, atis_grammar_wunaries)\n",
        "\n",
        "  print('Reference parses:')\n",
        "  for reftree in refparses:\n",
        "    print(reftree)\n",
        "\n",
        "  print('\\nPredicted parse:')\n",
        "  print(predparse)\n",
        "\n",
        "  if (not predparse and len(refparses) == 0) or predparse in refparses:\n",
        "    print(\"\\nSUCCESS!\")\n",
        "  else:\n",
        "    print(\"\\nOops. No match.\")"
      ],
      "execution_count": null,
      "outputs": [
        {
          "output_type": "stream",
          "text": [
            "Reference parses:\n",
            "(S\n",
            "  (PREIGNORE (PREIGNORESYMBOL show) (PREIGNORE (PREIGNORESYMBOL me)))\n",
            "  (NP_FLIGHT\n",
            "    (NOM_FLIGHT\n",
            "      (N_FLIGHT\n",
            "        (N_FLIGHT (TERM_FLIGHT flights))\n",
            "        (PP (PP_PLACE (P_PLACE from) (TERM_PLACE boston)))))))\n",
            "\n",
            "Predicted parse:\n",
            "(S\n",
            "  (PREIGNORE (PREIGNORESYMBOL show) (PREIGNORE (PREIGNORESYMBOL me)))\n",
            "  (NP_FLIGHT\n",
            "    (NOM_FLIGHT\n",
            "      (N_FLIGHT\n",
            "        (N_FLIGHT (TERM_FLIGHT flights))\n",
            "        (PP (PP_PLACE (P_PLACE from) (TERM_PLACE boston)))))))\n",
            "\n",
            "SUCCESS!\n",
            "Reference parses:\n",
            "(S\n",
            "  (PREIGNORE (PREIGNORESYMBOL show) (PREIGNORE (PREIGNORESYMBOL me)))\n",
            "  (NP_FLIGHT\n",
            "    (NOM_FLIGHT\n",
            "      (ADJ (ADJ_AIRLINE (TERM_AIRBRAND united)))\n",
            "      (NOM_FLIGHT\n",
            "        (N_FLIGHT\n",
            "          (N_FLIGHT (TERM_FLIGHT flights))\n",
            "          (PP (PP_TIME (P_TIME before) (NP_TIME (TERM_TIME noon)))))))))\n",
            "\n",
            "Predicted parse:\n",
            "(S\n",
            "  (PREIGNORE (PREIGNORESYMBOL show) (PREIGNORE (PREIGNORESYMBOL me)))\n",
            "  (NP_FLIGHT\n",
            "    (NOM_FLIGHT\n",
            "      (ADJ (ADJ_AIRLINE (TERM_AIRBRAND united)))\n",
            "      (NOM_FLIGHT\n",
            "        (N_FLIGHT\n",
            "          (N_FLIGHT (TERM_FLIGHT flights))\n",
            "          (PP (PP_TIME (P_TIME before) (NP_TIME (TERM_TIME noon)))))))))\n",
            "\n",
            "SUCCESS!\n",
            "Reference parses:\n",
            "(S\n",
            "  (PREIGNORE\n",
            "    (PREIGNORESYMBOL are)\n",
            "    (PREIGNORE (PREIGNORESYMBOL there)))\n",
            "  (NP_FLIGHT\n",
            "    (DET any)\n",
            "    (NOM_FLIGHT\n",
            "      (ADJ (ADJ_AIRLINE (TERM_AIRBRAND twa)))\n",
            "      (NOM_FLIGHT\n",
            "        (N_FLIGHT\n",
            "          (N_FLIGHT\n",
            "            (N_FLIGHT (TERM_FLIGHT flights))\n",
            "            (PP (PP_CLASS (ADJ_CLASS available))))\n",
            "          (PP (PP_DATE (NP_DATE tomorrow))))))))\n",
            "\n",
            "Predicted parse:\n",
            "(S\n",
            "  (PREIGNORE\n",
            "    (PREIGNORESYMBOL are)\n",
            "    (PREIGNORE (PREIGNORESYMBOL there)))\n",
            "  (NP_FLIGHT\n",
            "    (DET any)\n",
            "    (NOM_FLIGHT\n",
            "      (ADJ (ADJ_AIRLINE (TERM_AIRBRAND twa)))\n",
            "      (NOM_FLIGHT\n",
            "        (N_FLIGHT\n",
            "          (N_FLIGHT\n",
            "            (N_FLIGHT (TERM_FLIGHT flights))\n",
            "            (PP (PP_CLASS (ADJ_CLASS available))))\n",
            "          (PP (PP_DATE (NP_DATE tomorrow))))))))\n",
            "\n",
            "SUCCESS!\n",
            "Reference parses:\n",
            "\n",
            "Predicted parse:\n",
            "None\n",
            "\n",
            "SUCCESS!\n"
          ],
          "name": "stdout"
        }
      ]
    },
    {
      "cell_type": "markdown",
      "metadata": {
        "id": "s6aUdWNNaXxv"
      },
      "source": [
        "Again, we test the coverage as a way of verifying that your parser works consistently with the recognizer and the NLTK parser."
      ]
    },
    {
      "cell_type": "code",
      "metadata": {
        "id": "kd_BRwjJOFTz",
        "colab": {
          "base_uri": "https://localhost:8080/"
        },
        "outputId": "fe4fba2e-25cd-416b-b4c6-86e9d70feee8"
      },
      "source": [
        "coverage(lambda sent: cky_parse(atis_grammar_cnf, sent),\n",
        "         training_corpus, n=-1)"
      ],
      "execution_count": null,
      "outputs": [
        {
          "output_type": "stream",
          "text": [
            "100%|██████████| 4379/4379 [11:20<00:00,  6.44it/s]\n"
          ],
          "name": "stderr"
        },
        {
          "output_type": "execute_result",
          "data": {
            "text/plain": [
              "0.349623201644211"
            ]
          },
          "metadata": {
            "tags": []
          },
          "execution_count": 310
        }
      ]
    },
    {
      "cell_type": "markdown",
      "metadata": {
        "id": "2fzMMPiUFDD7"
      },
      "source": [
        "## Probabilistic CFG parsing via the CKY algorithm\n",
        "\n",
        "In practice, we want to work with grammars that cover nearly all the language we expect to come across for a given application. This leads to an explosion of rules and a large number of possible parses for any one sentence. To remove ambiguity between the different parses, it's desirable to move to probabilistic context-free grammars (PCFG). In this part of the assignment, you will construct a PCFG from training data, parse using a probabilistic version of CKY, and evaluate the quality of the resulting parses against gold trees.\n",
        "\n",
        "### Part 4: PCFG construction\n",
        "\n",
        "Compared to CFGs, PCFGs need to assign probabilities to grammar rules. For this goal, you'll write a function `pcfg_from_trees` that takes a list of strings describing a corpus of trees and returns an NLTK PCFG trained on that set of trees.\n",
        "\n",
        "Note that we want the PCFG to be in CNF format because the probabilistic version of CKY also requires the grammar to be in CNF. However, the gold trees are not in CNF form, so in this case you will need to convert the gold *trees* to CNF before building the PCFG. To accomplish this, you should use the `treetransforms` package from `nltk`, which includes functions for converting to and from CNF. In particular, you'll want to make use of `treetransforms.collapse_unary` followed by `treetransforms.chomsky_normal_form` to convert a tree to its binarized version. You can then get the counts for all of the productions used in the trees, and then normalize them to probabilities so that the probabilities of all rules with the same left-hand side sum to 1.\n",
        "\n",
        "We'll use the `pcfg_from_trees` function that you define later for parsing.\n",
        "\n",
        "> To convert an NLTK.Tree object `t` to CNF, we can use the below code. Note that it's different from the xform functions we used before as we are converting trees, not grammars.\n",
        "```\n",
        "treetransforms.collapse_unary(t, collapsePOS=True)\n",
        "treetransforms.chomsky_normal_form(t) # After this the tree will be in CNF\n",
        "```\n",
        "> To construct a PCFG from a set of productions, you can use [`PCFG(start, productions)`](https://www.nltk.org/api/nltk.html#nltk.grammar.PCFG)."
      ]
    },
    {
      "cell_type": "code",
      "metadata": {
        "id": "1LjD1QElFDD7"
      },
      "source": [
        "from nltk.tree import Tree\n",
        "\n",
        "\n",
        "def rule_counter(sentence_list):\n",
        "    d = {}\n",
        "    for sentence in sentence_list:\n",
        "        #tree = Tree.fromstring(sentence)\n",
        "        #treetransforms.collapse_unary(tree, collapsePOS=True)\n",
        "        #treetransforms.chomsky_normal_form(tree) # After this the tree will be in CNF\n",
        "        prods = sentence.productions()\n",
        "        for prod in prods:\n",
        "            d[prod] = d.get(prod, 0) + 1\n",
        "    return d\n",
        "\n",
        "\n",
        "# TODO\n",
        "def lhs_counter(sentence_list):\n",
        "    d = {}\n",
        "    for sentence in sentence_list:\n",
        "        #tree = Tree.fromstring(sentence)\n",
        "        #treetransforms.collapse_unary(tree, collapsePOS=True)\n",
        "        #treetransforms.chomsky_normal_form(tree) # After this the tree will be in CNF\n",
        "        prods = sentence.productions()\n",
        "        for prod in prods:\n",
        "            d[prod.lhs()] = d.get(prod.lhs(), 0) + 1\n",
        "    return d\n",
        "\n",
        "\n",
        "# TODO\n",
        "def rule_probs(sentence_list):\n",
        "    d = {}\n",
        "    left_dict = lhs_counter(sentence_list)\n",
        "    rule_dict = rule_counter(sentence_list)\n",
        "    for sentence in sentence_list:\n",
        "        #tree = Tree.fromstring(sentence)\n",
        "        #treetransforms.collapse_unary(tree, collapsePOS=True)\n",
        "        #treetransforms.chomsky_normal_form(tree) # After this the tree will be in CNF\n",
        "        prods = sentence.productions()\n",
        "        for prod in prods:\n",
        "            d[prod] = rule_dict[prod] / left_dict[prod.lhs()]\n",
        "    return d\n",
        "\n",
        "\n",
        "def pcfg_from_trees(trees, start=Nonterminal('TOP')):\n",
        "    \"\"\"Returns an NLTK PCFG in CNF with rules and counts extracted from `trees`.\n",
        "\n",
        "    The `trees` argument is a list of strings in the form interpretable by\n",
        "    `Tree.fromstring`. The trees are converted to CNF using NLTK's\n",
        "    treetransforms.collapse_unary and treetransforms.chomsky_normal_form.\"\"\"\n",
        "\n",
        "    #productions_with_probs_dict = rule_probs(trees)\n",
        "    cnfTrees = []\n",
        "    productionSet = set()\n",
        "    for t in trees:\n",
        "        tree = nltk.Tree.fromstring(t)\n",
        "        treetransforms.collapse_unary(tree, collapsePOS=True)\n",
        "        treetransforms.chomsky_normal_form(tree)\n",
        "        cnfTrees.append(tree)\n",
        "        for production in tree.productions():\n",
        "            productionSet.add(production)\n",
        "    probs = rule_probs(cnfTrees)\n",
        "    newProdSet = set()\n",
        "    for p in productionSet:\n",
        "        newProdSet.add(nltk.grammar.ProbabilisticProduction(lhs=p.lhs(), rhs=p.rhs(), prob = probs[p]))\n",
        "    productions_with_probs = newProdSet\n",
        "    #productions_with_probs = [ProbabilisticProduction(rule.lhs(), rule.rhs(), prob=prob) for (rule,prob) in productions_with_probs_dict.items()]\n",
        "\n",
        "    return PCFG(start, productions_with_probs)"
      ],
      "execution_count": null,
      "outputs": []
    },
    {
      "cell_type": "markdown",
      "metadata": {
        "id": "wSpuE7J0aXxx"
      },
      "source": [
        "We can now train a PCFG on the *train* split `train.trees` that we downloaded in the setup at the start of the notebook."
      ]
    },
    {
      "cell_type": "code",
      "metadata": {
        "id": "nOUuhe1-aXxx"
      },
      "source": [
        "with open('data/train.trees') as file:\n",
        "  ## Convert the probabilistic productions to an NLTK probabilistic CFG.\n",
        "  pgrammar = pcfg_from_trees(file.readlines())\n",
        "    \n",
        "## Verify that the grammar is in CNF\n",
        "assert(pgrammar.is_chomsky_normal_form())"
      ],
      "execution_count": null,
      "outputs": []
    },
    {
      "cell_type": "markdown",
      "metadata": {
        "id": "ErGCrNo2FDD9"
      },
      "source": [
        "### Part 5: Probabilistic CKY parsing\n",
        "\n",
        "Finally, we are ready to implement probabilistic CKY parsing under PCFGs. Adapt the CKY parser from Part 3 to return the most likely parse and its **log probability** (base 2) given a PCFG. Note that to avoid underflows we want to work in the log space.\n",
        "> production.logprob() will return the log probability of a production rule `production`."
      ]
    },
    {
      "cell_type": "code",
      "metadata": {
        "id": "1lGbGYxeVg43"
      },
      "source": [
        "## TODO – Implement a CKY parser under PCFGs\n",
        "def pcfg_to_dict(pcfg):\n",
        "    d = {}\n",
        "    for prod in pcfg.productions():\n",
        "        (lhs, rhs, prob) = (prod.lhs(), prod.rhs(), prod.logprob())\n",
        "        d[nltk.grammar.Production(lhs, rhs)] = prob\n",
        "    return d\n",
        "\n",
        "\n",
        "def parse_probability(tree, pcfg):\n",
        "    prod_to_prob = pcfg_to_dict(pcfg)\n",
        "    tree_prob = 1\n",
        "    for prod in tree.productions():\n",
        "        tree_prob += prod_to_prob.get(prod, float('-inf'))\n",
        "    return tree_prob\n",
        "\n",
        "\n",
        "def probablistic_fill_diag(table, words, tree, j, pcfg_dict):\n",
        "    for prod in tree.productions():\n",
        "        if words[j] in list(prod.rhs()):\n",
        "            table.iloc[j, j + 1][prod.lhs()] = pcfg_dict[prod]\n",
        "\n",
        "\n",
        "def probablistic_fill_non_diag(table, back, words, tree, j, pcfg_dict):\n",
        "    prods = tree.productions()\n",
        "    for i in range(j - 2 + 1, 0 - 1, -1):\n",
        "        for split in range(i + 1, j + 1):\n",
        "            B = table.iloc[i, split]\n",
        "            C = table.iloc[split, j + 1]\n",
        "            BC = [(b, c) for b in B for c in C]\n",
        "            BC = [pair for pair in BC if pair.__contains__(None) == False]\n",
        "            if len(BC) == 0:\n",
        "                continue\n",
        "            prods_left_right = [(prod.lhs(), prod.rhs()) for prod in prods]\n",
        "            A_e_BC_idx = set([(lhs_rhs[0], BC.index(lhs_rhs[1])) for lhs_rhs in prods_left_right if lhs_rhs[1] in BC])\n",
        "            # A_s = [A_e_BC_i[0] for A_e_BC_i in A_e_BC_idx]\n",
        "            A_BC_rules = [nltk.Production(A, BC[BC_idx]) for (A, BC_idx) in A_e_BC_idx]\n",
        "            for rule in A_BC_rules:\n",
        "                new_prob = pcfg_dict[rule] + table.iloc[i, split][rule.rhs()[0]] + table.iloc[split, j + 1][\n",
        "                    rule.rhs()[1]]\n",
        "                old_prob = table.iloc[i, j + 1].get(rule.lhs(), float('-inf'))\n",
        "                if old_prob < new_prob:\n",
        "                    table.iloc[i, j + 1][rule.lhs()] = new_prob\n",
        "                    back.iloc[i, j + 1][rule.lhs()] = set([(split, rule.rhs()[0], rule.rhs()[1])])\n",
        "            # for (A, idx) in A_e_BC_idx:\n",
        "            # [b, c] = BC[idx]\n",
        "            # back.iloc[i, j+1][A].add((split, b, c))\n",
        "\n",
        "\n",
        "def my_probablistic_cky_parse(table, back, words, grammer):\n",
        "    words_len = len(words)\n",
        "    parser = nltk.parse.InsideChartParser(grammer)\n",
        "    pcfg_dict = pcfg_to_dict(grammer)\n",
        "    for j in range(0, words_len):\n",
        "        for tree in parser.parse(words):\n",
        "            probablistic_fill_diag(table, words, tree, j, pcfg_dict)\n",
        "            probablistic_fill_non_diag(table, back, words, tree, j, pcfg_dict)\n",
        "\n",
        "\n",
        "def cky_parse_probabilistic(grammar, tokens):\n",
        "    \"\"\"Returns the NLTK parse tree of `tokens` with the highest probability\n",
        "    as specified by the PCFG `grammar` and its probability as a tuple.\n",
        "\n",
        "    Returns (None, -float('inf')) if `tokens` is not parsable.\n",
        "    Implements the CKY algorithm, and therefore assumes `grammar` is in\n",
        "    Chomsky normal form.\n",
        "    \"\"\"\n",
        "    assert (grammar.is_chomsky_normal_form())\n",
        "\n",
        "    table = create_table(tokens, dict())\n",
        "    back = create_table(tokens, dict())\n",
        "    my_probablistic_cky_parse(table, back, tokens, grammar)\n",
        "    N = len(tokens)\n",
        "\n",
        "    if grammar.start() not in table.iloc[0, N]:\n",
        "        return (None, 0)\n",
        "\n",
        "    s = back_to_tree(back, 0, len(tokens))\n",
        "    s = str([str(grammar.start())] + s)\n",
        "    s = s.replace('\\'', '')\n",
        "    s = s.replace('[', '(')\n",
        "    s = s.replace(']', ')')\n",
        "    s = s.replace(',', '')\n",
        "    tree = nltk.Tree.fromstring(s)\n",
        "    prob = 2 ** table.iloc[0, N][grammar.start()]\n",
        "    answer = (tree, prob)\n",
        "\n",
        "    return answer"
      ],
      "execution_count": null,
      "outputs": []
    },
    {
      "cell_type": "markdown",
      "metadata": {
        "id": "FH5mtHL3aXxy"
      },
      "source": [
        "As an aid in debugging, you may want to start by testing your implementation of probabilistic CKY on a much smaller grammar than the one you trained from the ATIS corpus. Here's a little grammar that you can play with."
      ]
    },
    {
      "cell_type": "code",
      "metadata": {
        "id": "HRm8mz12aXxy"
      },
      "source": [
        "grammar = PCFG.fromstring(\"\"\"\n",
        "  S -> NP VP [1.0]\n",
        "  VP -> V NP [1.0]\n",
        "  PP -> P NP [1.0]\n",
        "  NP -> 'sam' [.3]\n",
        "  NP -> 'ham' [.7]\n",
        "  V -> 'likes' [1.0]\n",
        "  \"\"\")"
      ],
      "execution_count": null,
      "outputs": []
    },
    {
      "cell_type": "code",
      "metadata": {
        "id": "LxuPy36vaXxz",
        "colab": {
          "base_uri": "https://localhost:8080/"
        },
        "outputId": "dbe1a41d-1043-4bde-fca2-0874931d0782"
      },
      "source": [
        "tree, prob = cky_parse_probabilistic(grammar, tokenize('sam likes ham'))\n",
        "tree.pretty_print()"
      ],
      "execution_count": null,
      "outputs": [
        {
          "output_type": "stream",
          "text": [
            "      S          \n",
            "  ____|____       \n",
            " |         VP    \n",
            " |     ____|___   \n",
            " NP   V        NP\n",
            " |    |        |  \n",
            "sam likes     ham\n",
            "\n"
          ],
          "name": "stdout"
        }
      ]
    },
    {
      "cell_type": "code",
      "metadata": {
        "id": "uqBB8ZvlaXxz",
        "colab": {
          "base_uri": "https://localhost:8080/"
        },
        "outputId": "4b21d1a3-df16-4b85-e864-f45c130cf556"
      },
      "source": [
        "# We don't use our tokenizer because the gold trees do not lowercase tokens\n",
        "sent = \"Flights from Cleveland to Kansas City .\".split()\n",
        "tree, prob = cky_parse_probabilistic(pgrammar, sent)\n",
        "tree.un_chomsky_normal_form()\n",
        "tree.pretty_print()"
      ],
      "execution_count": null,
      "outputs": [
        {
          "output_type": "stream",
          "text": [
            "                           TOP                     \n",
            "                      ______|___________________    \n",
            "                    FRAG                        |  \n",
            "                     |                          |   \n",
            "                     NP                         |  \n",
            "    _________________|___________               |   \n",
            "   |          PP                 PP             |  \n",
            "   |      ____|______        ____|_____         |   \n",
            "   NP    |           NP     |          NP       |  \n",
            "   |     |           |      |     _____|___     |   \n",
            "  NNS    IN         NNP     TO  NNP       NNP  PUNC\n",
            "   |     |           |      |    |         |    |   \n",
            "Flights from     Cleveland  to Kansas     City  .  \n",
            "\n"
          ],
          "name": "stdout"
        }
      ]
    },
    {
      "cell_type": "markdown",
      "metadata": {
        "id": "57Hn9aPNFDD_"
      },
      "source": [
        "#### Evaluation\n",
        "\n",
        "There are a number of ways to evaluate parsing algorithms. In this assignment we will use the [\"industry-standard\" `evalb` implementation](https://nlp.cs.nyu.edu/evalb/) for computing constituent precision, recall, and F1 scores. We downloaded `evalb` during setup.\n",
        "\n",
        "We read in the test data..."
      ]
    },
    {
      "cell_type": "code",
      "metadata": {
        "id": "mkyYdRYtFDED"
      },
      "source": [
        "with open('data/test.trees') as file:\n",
        "  test_trees = [Tree.fromstring(line.strip()) for line in file.readlines()]\n",
        "\n",
        "test_sents = [tree.leaves() for tree in test_trees]"
      ],
      "execution_count": null,
      "outputs": []
    },
    {
      "cell_type": "markdown",
      "metadata": {
        "id": "AQAi73xLEiPA"
      },
      "source": [
        "...and parse the test sentences using your probabilistic CKY implementation, writing the output trees to a file."
      ]
    },
    {
      "cell_type": "code",
      "metadata": {
        "id": "zseXjAuLXc36",
        "colab": {
          "base_uri": "https://localhost:8080/"
        },
        "outputId": "993f97a7-f9b5-47da-a878-bdb343c7e968"
      },
      "source": [
        "trees_out = []\n",
        "for sent in tqdm(test_sents):\n",
        "  tree, prob = cky_parse_probabilistic(pgrammar, sent)\n",
        "  if tree is not None:\n",
        "    tree.un_chomsky_normal_form()\n",
        "    trees_out.append(tree.pformat(margin=9999999999))\n",
        "  else:\n",
        "    trees_out.append('()')\n",
        "  \n",
        "with open('data/outp.trees', 'w') as file:\n",
        "  for line in trees_out:\n",
        "    file.write(line + '\\n')"
      ],
      "execution_count": null,
      "outputs": [
        {
          "output_type": "stream",
          "text": [
            "100%|██████████| 58/58 [01:45<00:00,  1.82s/it]\n"
          ],
          "name": "stderr"
        }
      ]
    },
    {
      "cell_type": "markdown",
      "metadata": {
        "id": "uizwMEW-zzTW"
      },
      "source": [
        "Now we can compare the predicted trees to the ground truth trees, using `evalb`. You should expect to achieve F1 of 0.83."
      ]
    },
    {
      "cell_type": "code",
      "metadata": {
        "id": "9hTRGwpiXe62",
        "colab": {
          "base_uri": "https://localhost:8080/"
        },
        "outputId": "390ed291-7b2d-464d-aa99-cb3903919f59"
      },
      "source": [
        "shell(\"python scripts/evalb.py data/outp.trees data/test.trees\")"
      ],
      "execution_count": null,
      "outputs": [
        {
          "output_type": "stream",
          "text": [
            "data/outp.trees\t345 brackets\n",
            "data/test.trees\t471 brackets\n",
            "matching\t339 brackets\n",
            "precision\t0.9826086956521739\n",
            "recall\t0.7197452229299363\n",
            "F1\t0.8308823529411764\n"
          ],
          "name": "stdout"
        }
      ]
    },
    {
      "cell_type": "markdown",
      "metadata": {
        "id": "YB4Ye6kWaXx2"
      },
      "source": [
        "<!-- BEGIN QUESTION -->\n",
        "\n",
        "## Debrief\n",
        "\n",
        "**Question:** We're interested in any thoughts you have about this project segment so that we can improve it for later years, and to inform later segments for this year. Please list any issues that arose or comments you have to improve the project segment. Useful things to comment on include the following: \n",
        "\n",
        "* Was the project segment clear or unclear? Which portions?\n",
        "* Were the readings appropriate background for the project segment? \n",
        "* Are there additions or changes you think would make the project segment better?\n",
        "\n",
        "<!--\n",
        "BEGIN QUESTION\n",
        "name: open_response_debrief\n",
        "manual: true\n",
        "-->"
      ]
    },
    {
      "cell_type": "markdown",
      "metadata": {
        "id": "fWpZhNBsaXx2"
      },
      "source": [
        "* The project was clear and all the previous labs and the reading materail gave good background.\r\n",
        "\r\n",
        "* a few comments about my implementation: in the first part I used my implementation from the 3.2 lab where I've implemeneted the general cky algorithm, little bit less general then here, that's why I've took it with little adjustments, and used primarly the whole cky algorithm as a recognizer in the second part, and then in the third part as the parser with an implementation of a function which translates back table to tree. In the fourth part I used generaly my implementations from the labs. The fifth part was similiar to the third with some minor adjustments in the probablistic context.\r\n",
        "\r\n",
        "* I had one a little bit awkward behavior, which I researched a lot and stil didn't managed to handle or explain, which is about part 4, where pgrammer is defined and built from the train.trees file. I got a few times that some words which appeared in the test, didn't appeared in the train, that's why I've got exception on this when I tried to parse the test tree expression. I've handled it as catching the exception in my cky function and returning None as my algorithm couldn't parse an expression with words it's grammer doesn't cover because it never had seen them in the training set. \r\n",
        "\r\n",
        "* On second thought, as much as I saw, those words actually didn't appeared in the train.trees, so maybe my handle was correct, because the expception appeared in using the parser from nltk which uses the pgrammer, so if it encountered a word, which it hadn't seen before, it is expectable to get an exception.  \r\n",
        "\r\n",
        "* Manualy adding examples with words that appeared in test set but didn't appeared in train fixed the problem I was talking about.\r\n",
        "\r\n",
        "Thank you.\r\n"
      ]
    },
    {
      "cell_type": "markdown",
      "metadata": {
        "id": "jPElOqsBaXx3"
      },
      "source": [
        "<!-- END QUESTION -->\n",
        "\n",
        "\n",
        "\n",
        "Instructions for submission of the project segment\n",
        "This project segment should be submitted to Gradescope, which will be made available some time before the due date.\n",
        "\n",
        "Project segment notebooks are manually graded, not autograded using otter as labs are. (Otter is used within project segment notebooks to synchronize distribution and solution code however.) We will not run your notebook before grading it. Instead, we ask that you submit the already freshly run notebook. The best method is to \"restart kernel and run all cells\", allowing time for all cells to be run to completion.\n",
        "\n",
        "We also request that you submit a PDF of the freshly run notebook. The simplest method is to use \"Export notebook to PDF\", which will render the notebook to PDF via LaTeX. If that doesn't work, the method that seems to be most reliable is to export the notebook as HTML (if you are using Jupyter Notebook, you can do so using File -> Print Preview), open the HTML in a browser, and print it to a file. Then make sure to add the file to your git commit. Please name the file the same name as this notebook, but with a .pdf extension. (Conveniently, the methods just described will use that name by default.) You can then perform a git commit and push and submit the commit to Gradescope."
      ]
    },
    {
      "cell_type": "markdown",
      "metadata": {
        "id": "6AESGeoCaXx3"
      },
      "source": [
        "# End of project segment 3"
      ]
    }
  ]
}