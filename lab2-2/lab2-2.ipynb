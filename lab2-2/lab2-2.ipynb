{
  "nbformat": 4,
  "nbformat_minor": 0,
  "metadata": {
    "kernelspec": {
      "display_name": "Python 3",
      "language": "python",
      "name": "python3"
    },
    "language_info": {
      "codemirror_mode": {
        "name": "ipython",
        "version": 3
      },
      "file_extension": ".py",
      "mimetype": "text/x-python",
      "name": "python",
      "nbconvert_exporter": "python",
      "pygments_lexer": "ipython3",
      "version": "3.8.3"
    },
    "title": "CS187 Lab 2-2 – Recurrent neural networks",
    "colab": {
      "name": "lab2_2.ipynb",
      "provenance": [],
      "collapsed_sections": [
        "oTBUfUUCwj2-",
        "cpSQkA2Rwj2-",
        "lpSXzRYowj3B",
        "NTRfLsd-wj3B"
      ]
    }
  },
  "cells": [
    {
      "cell_type": "code",
      "metadata": {
        "deletable": false,
        "editable": false,
        "jupyter": {
          "outputs_hidden": true,
          "source_hidden": true
        },
        "colab": {
          "base_uri": "https://localhost:8080/"
        },
        "id": "X11jQTTCwj28",
        "outputId": "db3d4777-4200-45d0-e0ce-18713c42790a"
      },
      "source": [
        "# Please do not change this cell because some hidden tests might depend on it.\n",
        "import os\n",
        "\n",
        "# Otter grader does not handle ! commands well, so we define and use our\n",
        "# own function to execute shell commands.\n",
        "def shell(commands, warn=True):\n",
        "    \"\"\"Executes the string `commands` as a sequence of shell commands.\n",
        "     \n",
        "       Prints the result to stdout and returns the exit status. \n",
        "       Provides a printed warning on non-zero exit status unless `warn` \n",
        "       flag is unset.\n",
        "    \"\"\"\n",
        "    file = os.popen(commands)\n",
        "    print (file.read().rstrip('\\n'))\n",
        "    exit_status = file.close()\n",
        "    if warn and exit_status != None:\n",
        "        print(f\"Completed with errors. Exit status: {exit_status}\\n\")\n",
        "    return exit_status\n",
        "\n",
        "shell(\"\"\"\n",
        "ls requirements.txt >/dev/null 2>&1\n",
        "if [ ! $? = 0 ]; then\n",
        " rm -rf .tmp\n",
        " git clone https://github.com/cs236299-2020/lab2-2.git .tmp\n",
        " mv .tmp/tests ./\n",
        " mv .tmp/requirements.txt ./\n",
        " rm -rf .tmp\n",
        "fi\n",
        "pip install -q -r requirements.txt\n",
        "\"\"\")"
      ],
      "execution_count": 110,
      "outputs": [
        {
          "output_type": "stream",
          "text": [
            "\n"
          ],
          "name": "stdout"
        }
      ]
    },
    {
      "cell_type": "code",
      "metadata": {
        "deletable": false,
        "editable": false,
        "id": "2jihZYFfwj29"
      },
      "source": [
        "# Initialize Otter\n",
        "import otter\n",
        "grader = otter.Notebook()"
      ],
      "execution_count": 111,
      "outputs": []
    },
    {
      "cell_type": "markdown",
      "metadata": {
        "id": "naAm--gewj29"
      },
      "source": [
        "%%latex\n",
        "\\newcommand{\\vect}[1]{\\mathbf{#1}}\n",
        "\\newcommand{\\cnt}[1]{\\sharp(#1)}\n",
        "\\newcommand{\\argmax}[1]{\\underset{#1}{\\operatorname{argmax}}}\n",
        "\\newcommand{\\softmax}{\\operatorname{softmax}}\n",
        "\\newcommand{\\Prob}{\\Pr}\n",
        "\\newcommand{\\given}{\\,|\\,}"
      ]
    },
    {
      "cell_type": "markdown",
      "metadata": {
        "id": "M-1YFVzzwj29"
      },
      "source": [
        "$$\n",
        "\\renewcommand{\\vect}[1]{\\mathbf{#1}}\n",
        "\\renewcommand{\\cnt}[1]{\\sharp(#1)}\n",
        "\\renewcommand{\\argmax}[1]{\\underset{#1}{\\operatorname{argmax}}}\n",
        "\\renewcommand{\\softmax}{\\operatorname{softmax}}\n",
        "\\renewcommand{\\Prob}{\\Pr}\n",
        "\\renewcommand{\\given}{\\,|\\,}\n",
        "$$"
      ]
    },
    {
      "cell_type": "markdown",
      "metadata": {
        "id": "fnw0JGyCwj29"
      },
      "source": [
        "# Course 236299\n",
        "## Lab 2-2 – Recurrent neural networks\n",
        "\n",
        "You've read about recurrent neural networks, but there's nothing like carrying out the calculations yourself to really understand what's going on in these systems. In this lab, you'll carry out RNN calculations by hand or by programming – both forward (calculating outputs from inputs) and backward (computing gradients) – and use RNNs to simulate bigram language models."
      ]
    },
    {
      "cell_type": "markdown",
      "metadata": {
        "id": "o4kuRHcmwj29"
      },
      "source": [
        "New bits of Python used for the first time in the _solution set_ for this lab, and which you may therefore find useful:\n",
        "\n",
        "* [`torch.clamp`](https://pytorch.org/docs/stable/generated/torch.clamp.html#torch.clamp): restricts all elements of a tensor to a specific range\n",
        "* [`torch.diag`](https://pytorch.org/docs/stable/generated/torch.diag.html#torch-diag): creates a tensor with the given inputs as the diagonal\n",
        "* [`torch.eye`](https://pytorch.org/docs/stable/generated/torch.eye.html#torch-eye): creates an identity matrix\n",
        "* [`torch.mv`](https://pytorch.org/docs/stable/generated/torch.mv.html#torch-mv) (typically invoked via the `@` operator): matrix-vector multiplication\n",
        "* [`torch.prod`](https://pytorch.org/docs/stable/generated/torch.prod.html#torch-prod): takes the product of elements in a vector\n",
        "* [`torch.T`](https://pytorch.org/docs/stable/generated/torch.t.html#torch.t): returns the transpose of a tensor\n",
        "* [`torch.zeros`](https://pytorch.org/docs/stable/generated/torch.zeros.html#torch-zeros): creates a matrix of zeros"
      ]
    },
    {
      "cell_type": "markdown",
      "metadata": {
        "id": "GrJ9Moqywj29"
      },
      "source": [
        "## Preparation – Loading packages"
      ]
    },
    {
      "cell_type": "code",
      "metadata": {
        "deletable": false,
        "editable": false,
        "colab": {
          "base_uri": "https://localhost:8080/"
        },
        "id": "6X3Is2ADwj29",
        "outputId": "2f048f55-109b-4be9-c3e1-ef58dccd279c"
      },
      "source": [
        "import torch\n",
        "\n",
        "# Script for visualizing computation graphs\n",
        "shell(f'wget -nv -N \"https://raw.githubusercontent.com/nlp-236299/data/master/scripts/makedot.py\"')\n",
        "from makedot import make_dot"
      ],
      "execution_count": 112,
      "outputs": [
        {
          "output_type": "stream",
          "text": [
            "\n"
          ],
          "name": "stdout"
        }
      ]
    },
    {
      "cell_type": "code",
      "metadata": {
        "id": "SQx8zF9twj29"
      },
      "source": [
        "import warnings\n",
        "warnings.filterwarnings(\"ignore\", category=UserWarning)"
      ],
      "execution_count": 113,
      "outputs": []
    },
    {
      "cell_type": "markdown",
      "metadata": {
        "id": "7SvLdwSpwj29"
      },
      "source": [
        "## The forward step\n",
        "\n",
        "A recurrent neural network (RNN) works by calculating a sequence of hidden states $\\vect{h} = \\langle h_0, \\ldots, h_N \\rangle$ and outputs $\\vect{o} = \\langle o_1, \\ldots, o_N \\rangle$ from a sequence of inputs $\\vect{x} =  \\langle x_1, \\ldots, x_N \\rangle$. (We're notating the elements, like $x_t$, $h_t$, and $o_t$ as if they are scalars, but you should keep in mind that they might well be vectors themselves.)\n",
        "\n",
        "Each hidden state $h_t$ and output $o_t$ of an RNN is calculated from an input $x_{t}$ and the previous hidden state $h_{t - 1}$ using a set of weights $\\vect{U}$, $\\vect{V}$, and $\\vect{W}$ according to the following equations. (We ignore all biases for simplicity, and due to the fact that in large neural networks they make no big difference.)\n",
        "\n",
        "\\begin{align}\n",
        "h_t &= \\sigma(\\vect{U}x_t + \\vect{V}h_{t - 1}) \\\\\n",
        "o_t &= \\vect{W}h_t \n",
        "\\end{align}"
      ]
    },
    {
      "cell_type": "markdown",
      "metadata": {
        "deletable": false,
        "editable": false,
        "id": "oxDhk9oXwj29"
      },
      "source": [
        "<!-- BEGIN QUESTION -->\n",
        "\n",
        "---\n",
        "\n",
        "<!--\n",
        "BEGIN QUESTION\n",
        "name: open_response_numbering\n",
        "manual: true\n",
        "-->\n",
        "\n",
        "**Question:** To check your understanding, notice that we've defined $\\vect{h}$ so that it has one more element than $\\vect{x}$ and $\\vect{o}$. Why is this?"
      ]
    },
    {
      "cell_type": "markdown",
      "metadata": {
        "id": "OpS7tS1Mwj29"
      },
      "source": [
        "The number of outputs corresponds to the number of inputs, that's why there is same number of x and o (for each input an output). For each input there is the \"memory\" of the reccurent neural network, i.e the hidden state, so for each input there is the hidden state which remembers it, i.e there are at least N hidden states. There is an additional one for the initial input, as: h_1 = activation_func(U@x_1+V@h_0), so we need also h_0, as an initial state which is probably 0 without any prior knowledge or rnn preloading and e.t.c (but it can be anything according to user's will)."
      ]
    },
    {
      "cell_type": "markdown",
      "metadata": {
        "id": "ewvRIFp5wj29"
      },
      "source": [
        "<!-- END QUESTION -->\n",
        "\n",
        "\n",
        "\n",
        "---\n",
        "\n",
        "### Defining the RNN and its input\n",
        "\n",
        "To better understand this process, we set up some RNN parameters and values for $x_1$ and $x_2$ in the next cell, so that you can carry out the RNN operations yourself to calculate $h_1$, $h_2$, $o_1$, and $o_2$.\n"
      ]
    },
    {
      "cell_type": "code",
      "metadata": {
        "id": "BwbwK2eUwj29"
      },
      "source": [
        "# RNN parameters\n",
        "U = torch.Tensor([ [-0.3,  0.6],\n",
        "                   [ 0.2,  0.1] ])\n",
        "V = torch.Tensor([ [ 0.4,  0.4],\n",
        "                   [ 0.9, -0.7] ])\n",
        "W = torch.Tensor([ [ 0.2,  0.1],\n",
        "                   [-0.2,  0.5] ])\n",
        "\n",
        "# inputs\n",
        "x1 = torch.Tensor([0.0, 1.0])\n",
        "x2 = torch.Tensor([0.3, 0.4])\n",
        "\n",
        "# initial value for the hidden state, a zero vector\n",
        "h0 = torch.Tensor([0, 0])\n",
        "\n",
        "# Set which nodes to visualize later\n",
        "visualized_nodes = [U, V, W, x1, x2, h0]\n",
        "for p in visualized_nodes:\n",
        "    p.requires_grad = True"
      ],
      "execution_count": 114,
      "outputs": []
    },
    {
      "cell_type": "markdown",
      "metadata": {
        "deletable": false,
        "editable": false,
        "id": "E_cSB3m8wj29"
      },
      "source": [
        "### Carrying out the forward step\n",
        "\n",
        "Given these definitions, calculate values for $h_1$, $h_2$, $o_1$, and $o_2$ using `torch` operations.\n",
        "\n",
        "You may assume for this problem that the nonlinearity $\\sigma$ used in calculating $h_t$ is a Rectified Linear Unit (ReLU), defined by \n",
        "\n",
        "$$\\operatorname{ReLU}(x) = \\max(0, x)$$ \n",
        "\n",
        "> ReLU can be implemented as `torch.clamp(x, min=0)`\n",
        "\n",
        "<!--\n",
        "BEGIN QUESTION\n",
        "name: forward\n",
        "-->"
      ]
    },
    {
      "cell_type": "code",
      "metadata": {
        "id": "WPFN4KUNwj29"
      },
      "source": [
        "# TODO: calculate h1, h2, o1, and o2 using torch operations\n",
        "h1 = torch.clamp(U@x1+V@h0, 0)\n",
        "o1 = W@h1\n",
        "h2 = torch.clamp(U@x2+V@h1, 0)\n",
        "o2 = W@h2"
      ],
      "execution_count": 115,
      "outputs": []
    },
    {
      "cell_type": "code",
      "metadata": {
        "deletable": false,
        "editable": false,
        "colab": {
          "base_uri": "https://localhost:8080/",
          "height": 46
        },
        "id": "to8zjx13wj29",
        "outputId": "cc8191c7-5540-4d41-b1b8-08e81cb8af0b"
      },
      "source": [
        "grader.check(\"forward\")"
      ],
      "execution_count": 116,
      "outputs": [
        {
          "output_type": "execute_result",
          "data": {
            "text/html": [
              "\n",
              "    \n",
              "    \n",
              "        <p>All tests passed!</p>\n",
              "    \n",
              "    "
            ],
            "text/plain": [
              "\n",
              "    All tests passed!\n",
              "    "
            ]
          },
          "metadata": {
            "tags": []
          },
          "execution_count": 116
        }
      ]
    },
    {
      "cell_type": "markdown",
      "metadata": {
        "id": "yg1kP7BBwj29"
      },
      "source": [
        "We print out the results for manual verification"
      ]
    },
    {
      "cell_type": "code",
      "metadata": {
        "colab": {
          "base_uri": "https://localhost:8080/"
        },
        "id": "GAl1axBLwj29",
        "outputId": "da9691e3-a6b6-4dc1-8ba6-1f91c595e32c"
      },
      "source": [
        "print (f\"o1:\\t{o1} \\n\"\n",
        "       f\"o2:\\t{o2}\")"
      ],
      "execution_count": 117,
      "outputs": [
        {
          "output_type": "stream",
          "text": [
            "o1:\ttensor([ 0.1300, -0.0700], grad_fn=<MvBackward>) \n",
            "o2:\ttensor([0.1430, 0.1990], grad_fn=<MvBackward>)\n"
          ],
          "name": "stdout"
        }
      ]
    },
    {
      "cell_type": "markdown",
      "metadata": {
        "id": "Iwzi-qyXwj29"
      },
      "source": [
        "### Visualizing the computation graph\n",
        "\n",
        "Now, we can visualize the computation graph, that is, the graph of how $o_1$ and $o_2$ are computed from other variables and parameters. \n",
        "\n",
        "> Note that to make the below code work, you need to install `graphviz`:\n",
        ">\n",
        "> * MacOS: `brew install graphviz`\n",
        "> * Deepnote: already installed\n",
        "> * Google Colab: already installed\n",
        "> * Ubuntu: `sudo apt-get install graphviz`\n",
        ">\n",
        "> On Deepnote, the below code might not show anything, but you can check the generated PDF in `computation_graph.pdf`."
      ]
    },
    {
      "cell_type": "code",
      "metadata": {
        "colab": {
          "base_uri": "https://localhost:8080/",
          "height": 661
        },
        "id": "qY-nqFANwj2-",
        "outputId": "ed118235-a1ce-4325-95a7-5d78cd2698f0"
      },
      "source": [
        "# Define the mapping from variable name to variable,\n",
        "# such that the nodes in our computation graph can be labeled\n",
        "params = {k: eval(k) for k in ['U', 'V', 'W', \n",
        "                               'x1', 'x2', \n",
        "                               'h0', \n",
        "                               'h1', 'o1', \n",
        "                               'h2', 'o2']}\n",
        "\n",
        "# Visualize the computation graph constructed by PyTorch\n",
        "dot = make_dot((o1, o2), params=params)\n",
        "\n",
        "# Save Graph to `computation_graph.pdf`\n",
        "dot.render('computation_graph')\n",
        "\n",
        "# Visualize (not working in Deepnote)\n",
        "dot"
      ],
      "execution_count": 118,
      "outputs": [
        {
          "output_type": "execute_result",
          "data": {
            "text/plain": [
              "<graphviz.dot.Digraph at 0x7f11bd9f2e80>"
            ],
            "image/svg+xml": "<?xml version=\"1.0\" encoding=\"UTF-8\" standalone=\"no\"?>\n<!DOCTYPE svg PUBLIC \"-//W3C//DTD SVG 1.1//EN\"\n \"http://www.w3.org/Graphics/SVG/1.1/DTD/svg11.dtd\">\n<!-- Generated by graphviz version 2.40.1 (20161225.0304)\n -->\n<!-- Title: %3 Pages: 1 -->\n<svg width=\"350pt\" height=\"480pt\"\n viewBox=\"0.00 0.00 350.00 480.00\" xmlns=\"http://www.w3.org/2000/svg\" xmlns:xlink=\"http://www.w3.org/1999/xlink\">\n<g id=\"graph0\" class=\"graph\" transform=\"scale(1 1) rotate(0) translate(4 476)\">\n<title>%3</title>\n<polygon fill=\"#ffffff\" stroke=\"transparent\" points=\"-4,4 -4,-476 346,-476 346,4 -4,4\"/>\n<!-- 139714172497648 -->\n<g id=\"node1\" class=\"node\">\n<title>139714172497648</title>\n<polygon fill=\"#caff70\" stroke=\"#000000\" points=\"132,-231 78,-231 78,-197 132,-197 132,-231\"/>\n<text text-anchor=\"middle\" x=\"105\" y=\"-217.4\" font-family=\"Times,serif\" font-size=\"12.00\" fill=\"#000000\">Mul</text>\n<text text-anchor=\"middle\" x=\"105\" y=\"-204.4\" font-family=\"Times,serif\" font-size=\"12.00\" fill=\"#000000\">o1</text>\n</g>\n<!-- 139714172496528 -->\n<g id=\"node2\" class=\"node\">\n<title>139714172496528</title>\n<polygon fill=\"#add8e6\" stroke=\"#000000\" points=\"104,-294.5 50,-294.5 50,-273.5 104,-273.5 104,-294.5\"/>\n<text text-anchor=\"middle\" x=\"77\" y=\"-280.9\" font-family=\"Times,serif\" font-size=\"12.00\" fill=\"#000000\">W</text>\n</g>\n<!-- 139714172496528&#45;&gt;139714172497648 -->\n<g id=\"edge1\" class=\"edge\">\n<title>139714172496528&#45;&gt;139714172497648</title>\n<path fill=\"none\" stroke=\"#000000\" d=\"M81.2526,-273.3685C84.7314,-264.6716 89.8042,-251.9895 94.369,-240.5775\"/>\n<polygon fill=\"#000000\" stroke=\"#000000\" points=\"97.7326,-241.5925 98.1969,-231.0079 91.2332,-238.9928 97.7326,-241.5925\"/>\n</g>\n<!-- 139714172495744 -->\n<g id=\"node11\" class=\"node\">\n<title>139714172495744</title>\n<polygon fill=\"#caff70\" stroke=\"#000000\" points=\"132,-34 78,-34 78,0 132,0 132,-34\"/>\n<text text-anchor=\"middle\" x=\"105\" y=\"-20.4\" font-family=\"Times,serif\" font-size=\"12.00\" fill=\"#000000\">Mul</text>\n<text text-anchor=\"middle\" x=\"105\" y=\"-7.4\" font-family=\"Times,serif\" font-size=\"12.00\" fill=\"#000000\">o2</text>\n</g>\n<!-- 139714172496528&#45;&gt;139714172495744 -->\n<g id=\"edge10\" class=\"edge\">\n<title>139714172496528&#45;&gt;139714172495744</title>\n<path fill=\"none\" stroke=\"#000000\" d=\"M74.9388,-273.4941C72.9607,-262.8386 70.1142,-245.8472 69,-231 63.8905,-162.9154 84.056,-83.9834 96.2722,-43.6814\"/>\n<polygon fill=\"#000000\" stroke=\"#000000\" points=\"99.6345,-44.6557 99.2598,-34.0675 92.9498,-42.5783 99.6345,-44.6557\"/>\n</g>\n<!-- 139714172496360 -->\n<g id=\"node3\" class=\"node\">\n<title>139714172496360</title>\n<polygon fill=\"#add8e6\" stroke=\"#000000\" points=\"242,-301 188,-301 188,-267 242,-267 242,-301\"/>\n<text text-anchor=\"middle\" x=\"215\" y=\"-287.4\" font-family=\"Times,serif\" font-size=\"12.00\" fill=\"#000000\">Clamp</text>\n<text text-anchor=\"middle\" x=\"215\" y=\"-274.4\" font-family=\"Times,serif\" font-size=\"12.00\" fill=\"#000000\">h1</text>\n</g>\n<!-- 139714172496360&#45;&gt;139714172497648 -->\n<g id=\"edge2\" class=\"edge\">\n<title>139714172496360&#45;&gt;139714172497648</title>\n<path fill=\"none\" stroke=\"#000000\" d=\"M188.091,-266.8761C173.8416,-257.8083 156.1537,-246.5523 140.7644,-236.7592\"/>\n<polygon fill=\"#000000\" stroke=\"#000000\" points=\"142.3282,-233.6057 132.0125,-231.1898 138.57,-239.5114 142.3282,-233.6057\"/>\n</g>\n<!-- 139714172432848 -->\n<g id=\"node16\" class=\"node\">\n<title>139714172432848</title>\n<polygon fill=\"#d3d3d3\" stroke=\"#000000\" points=\"242,-224.5 188,-224.5 188,-203.5 242,-203.5 242,-224.5\"/>\n<text text-anchor=\"middle\" x=\"215\" y=\"-210.9\" font-family=\"Times,serif\" font-size=\"12.00\" fill=\"#000000\">Mul</text>\n</g>\n<!-- 139714172496360&#45;&gt;139714172432848 -->\n<g id=\"edge18\" class=\"edge\">\n<title>139714172496360&#45;&gt;139714172432848</title>\n<path fill=\"none\" stroke=\"#000000\" d=\"M215,-266.6966C215,-257.0634 215,-245.003 215,-234.8518\"/>\n<polygon fill=\"#000000\" stroke=\"#000000\" points=\"218.5001,-234.7912 215,-224.7913 211.5001,-234.7913 218.5001,-234.7912\"/>\n</g>\n<!-- 139714172497760 -->\n<g id=\"node4\" class=\"node\">\n<title>139714172497760</title>\n<polygon fill=\"#d3d3d3\" stroke=\"#000000\" points=\"242,-358 188,-358 188,-337 242,-337 242,-358\"/>\n<text text-anchor=\"middle\" x=\"215\" y=\"-344.4\" font-family=\"Times,serif\" font-size=\"12.00\" fill=\"#000000\">Add</text>\n</g>\n<!-- 139714172497760&#45;&gt;139714172496360 -->\n<g id=\"edge3\" class=\"edge\">\n<title>139714172497760&#45;&gt;139714172496360</title>\n<path fill=\"none\" stroke=\"#000000\" d=\"M215,-336.7281C215,-329.7087 215,-320.2132 215,-311.2141\"/>\n<polygon fill=\"#000000\" stroke=\"#000000\" points=\"218.5001,-311.0559 215,-301.056 211.5001,-311.056 218.5001,-311.0559\"/>\n</g>\n<!-- 139714172497872 -->\n<g id=\"node5\" class=\"node\">\n<title>139714172497872</title>\n<polygon fill=\"#d3d3d3\" stroke=\"#000000\" points=\"198,-415 144,-415 144,-394 198,-394 198,-415\"/>\n<text text-anchor=\"middle\" x=\"171\" y=\"-401.4\" font-family=\"Times,serif\" font-size=\"12.00\" fill=\"#000000\">Mul</text>\n</g>\n<!-- 139714172497872&#45;&gt;139714172497760 -->\n<g id=\"edge4\" class=\"edge\">\n<title>139714172497872&#45;&gt;139714172497760</title>\n<path fill=\"none\" stroke=\"#000000\" d=\"M179.2761,-393.7787C185.2374,-386.0561 193.4371,-375.4337 200.4774,-366.3134\"/>\n<polygon fill=\"#000000\" stroke=\"#000000\" points=\"203.4211,-368.2278 206.761,-358.1732 197.8799,-363.9504 203.4211,-368.2278\"/>\n</g>\n<!-- 139714172432568 -->\n<g id=\"node6\" class=\"node\">\n<title>139714172432568</title>\n<polygon fill=\"#add8e6\" stroke=\"#000000\" points=\"126,-472 72,-472 72,-451 126,-451 126,-472\"/>\n<text text-anchor=\"middle\" x=\"99\" y=\"-458.4\" font-family=\"Times,serif\" font-size=\"12.00\" fill=\"#000000\">U</text>\n</g>\n<!-- 139714172432568&#45;&gt;139714172497872 -->\n<g id=\"edge5\" class=\"edge\">\n<title>139714172432568&#45;&gt;139714172497872</title>\n<path fill=\"none\" stroke=\"#000000\" d=\"M112.5426,-450.7787C122.901,-442.5784 137.3893,-431.1085 149.3504,-421.6393\"/>\n<polygon fill=\"#000000\" stroke=\"#000000\" points=\"151.8501,-424.1244 157.5181,-415.1732 147.5051,-418.6361 151.8501,-424.1244\"/>\n</g>\n<!-- 139714172432792 -->\n<g id=\"node14\" class=\"node\">\n<title>139714172432792</title>\n<polygon fill=\"#d3d3d3\" stroke=\"#000000\" points=\"126,-415 72,-415 72,-394 126,-394 126,-415\"/>\n<text text-anchor=\"middle\" x=\"99\" y=\"-401.4\" font-family=\"Times,serif\" font-size=\"12.00\" fill=\"#000000\">Mul</text>\n</g>\n<!-- 139714172432568&#45;&gt;139714172432792 -->\n<g id=\"edge14\" class=\"edge\">\n<title>139714172432568&#45;&gt;139714172432792</title>\n<path fill=\"none\" stroke=\"#000000\" d=\"M99,-450.7787C99,-443.6134 99,-433.9517 99,-425.3097\"/>\n<polygon fill=\"#000000\" stroke=\"#000000\" points=\"102.5001,-425.1732 99,-415.1732 95.5001,-425.1732 102.5001,-425.1732\"/>\n</g>\n<!-- 139714172432624 -->\n<g id=\"node7\" class=\"node\">\n<title>139714172432624</title>\n<polygon fill=\"#add8e6\" stroke=\"#000000\" points=\"198,-472 144,-472 144,-451 198,-451 198,-472\"/>\n<text text-anchor=\"middle\" x=\"171\" y=\"-458.4\" font-family=\"Times,serif\" font-size=\"12.00\" fill=\"#000000\">x1</text>\n</g>\n<!-- 139714172432624&#45;&gt;139714172497872 -->\n<g id=\"edge6\" class=\"edge\">\n<title>139714172432624&#45;&gt;139714172497872</title>\n<path fill=\"none\" stroke=\"#000000\" d=\"M171,-450.7787C171,-443.6134 171,-433.9517 171,-425.3097\"/>\n<polygon fill=\"#000000\" stroke=\"#000000\" points=\"174.5001,-425.1732 171,-415.1732 167.5001,-425.1732 174.5001,-425.1732\"/>\n</g>\n<!-- 139714172432456 -->\n<g id=\"node8\" class=\"node\">\n<title>139714172432456</title>\n<polygon fill=\"#d3d3d3\" stroke=\"#000000\" points=\"270,-415 216,-415 216,-394 270,-394 270,-415\"/>\n<text text-anchor=\"middle\" x=\"243\" y=\"-401.4\" font-family=\"Times,serif\" font-size=\"12.00\" fill=\"#000000\">Mul</text>\n</g>\n<!-- 139714172432456&#45;&gt;139714172497760 -->\n<g id=\"edge7\" class=\"edge\">\n<title>139714172432456&#45;&gt;139714172497760</title>\n<path fill=\"none\" stroke=\"#000000\" d=\"M237.7334,-393.7787C234.0572,-386.2949 229.0432,-376.088 224.6594,-367.1638\"/>\n<polygon fill=\"#000000\" stroke=\"#000000\" points=\"227.7935,-365.6056 220.243,-358.1732 221.5106,-368.6919 227.7935,-365.6056\"/>\n</g>\n<!-- 139714172432680 -->\n<g id=\"node9\" class=\"node\">\n<title>139714172432680</title>\n<polygon fill=\"#add8e6\" stroke=\"#000000\" points=\"342,-472 288,-472 288,-451 342,-451 342,-472\"/>\n<text text-anchor=\"middle\" x=\"315\" y=\"-458.4\" font-family=\"Times,serif\" font-size=\"12.00\" fill=\"#000000\">V</text>\n</g>\n<!-- 139714172432680&#45;&gt;139714172432456 -->\n<g id=\"edge8\" class=\"edge\">\n<title>139714172432680&#45;&gt;139714172432456</title>\n<path fill=\"none\" stroke=\"#000000\" d=\"M301.4574,-450.7787C291.099,-442.5784 276.6107,-431.1085 264.6496,-421.6393\"/>\n<polygon fill=\"#000000\" stroke=\"#000000\" points=\"266.4949,-418.6361 256.4819,-415.1732 262.1499,-424.1244 266.4949,-418.6361\"/>\n</g>\n<!-- 139714172432680&#45;&gt;139714172432848 -->\n<g id=\"edge17\" class=\"edge\">\n<title>139714172432680&#45;&gt;139714172432848</title>\n<path fill=\"none\" stroke=\"#000000\" d=\"M312.6374,-450.9804C305.7018,-421.1158 283.8021,-333.663 251,-267 245.1344,-255.0796 236.9059,-242.7456 229.796,-232.9786\"/>\n<polygon fill=\"#000000\" stroke=\"#000000\" points=\"232.4779,-230.7209 223.681,-224.8162 226.8756,-234.9179 232.4779,-230.7209\"/>\n</g>\n<!-- 139714172432736 -->\n<g id=\"node10\" class=\"node\">\n<title>139714172432736</title>\n<polygon fill=\"#add8e6\" stroke=\"#000000\" points=\"270,-472 216,-472 216,-451 270,-451 270,-472\"/>\n<text text-anchor=\"middle\" x=\"243\" y=\"-458.4\" font-family=\"Times,serif\" font-size=\"12.00\" fill=\"#000000\">h0</text>\n</g>\n<!-- 139714172432736&#45;&gt;139714172432456 -->\n<g id=\"edge9\" class=\"edge\">\n<title>139714172432736&#45;&gt;139714172432456</title>\n<path fill=\"none\" stroke=\"#000000\" d=\"M243,-450.7787C243,-443.6134 243,-433.9517 243,-425.3097\"/>\n<polygon fill=\"#000000\" stroke=\"#000000\" points=\"246.5001,-425.1732 243,-415.1732 239.5001,-425.1732 246.5001,-425.1732\"/>\n</g>\n<!-- 139714172497480 -->\n<g id=\"node12\" class=\"node\">\n<title>139714172497480</title>\n<polygon fill=\"#add8e6\" stroke=\"#000000\" points=\"160,-104 106,-104 106,-70 160,-70 160,-104\"/>\n<text text-anchor=\"middle\" x=\"133\" y=\"-90.4\" font-family=\"Times,serif\" font-size=\"12.00\" fill=\"#000000\">Clamp</text>\n<text text-anchor=\"middle\" x=\"133\" y=\"-77.4\" font-family=\"Times,serif\" font-size=\"12.00\" fill=\"#000000\">h2</text>\n</g>\n<!-- 139714172497480&#45;&gt;139714172495744 -->\n<g id=\"edge11\" class=\"edge\">\n<title>139714172497480&#45;&gt;139714172495744</title>\n<path fill=\"none\" stroke=\"#000000\" d=\"M126.0786,-69.6966C122.9253,-61.8132 119.1217,-52.3042 115.6186,-43.5464\"/>\n<polygon fill=\"#000000\" stroke=\"#000000\" points=\"118.8054,-42.0892 111.8417,-34.1043 112.306,-44.689 118.8054,-42.0892\"/>\n</g>\n<!-- 139714172497704 -->\n<g id=\"node13\" class=\"node\">\n<title>139714172497704</title>\n<polygon fill=\"#d3d3d3\" stroke=\"#000000\" points=\"187,-161 133,-161 133,-140 187,-140 187,-161\"/>\n<text text-anchor=\"middle\" x=\"160\" y=\"-147.4\" font-family=\"Times,serif\" font-size=\"12.00\" fill=\"#000000\">Add</text>\n</g>\n<!-- 139714172497704&#45;&gt;139714172497480 -->\n<g id=\"edge12\" class=\"edge\">\n<title>139714172497704&#45;&gt;139714172497480</title>\n<path fill=\"none\" stroke=\"#000000\" d=\"M155.4198,-139.7281C152.3379,-132.4798 148.1333,-122.5913 144.1977,-113.3354\"/>\n<polygon fill=\"#000000\" stroke=\"#000000\" points=\"147.3861,-111.8891 140.2521,-104.056 140.9442,-114.6282 147.3861,-111.8891\"/>\n</g>\n<!-- 139714172432792&#45;&gt;139714172497704 -->\n<g id=\"edge13\" class=\"edge\">\n<title>139714172432792&#45;&gt;139714172497704</title>\n<path fill=\"none\" stroke=\"#000000\" d=\"M101.5778,-393.9431C108.1821,-366.8771 126.2288,-292.7917 141,-231 145.8556,-210.6879 151.3264,-187.4733 155.1463,-171.2099\"/>\n<polygon fill=\"#000000\" stroke=\"#000000\" points=\"158.6222,-171.7174 157.4992,-161.1822 151.8073,-170.1183 158.6222,-171.7174\"/>\n</g>\n<!-- 139714172432960 -->\n<g id=\"node15\" class=\"node\">\n<title>139714172432960</title>\n<polygon fill=\"#add8e6\" stroke=\"#000000\" points=\"54,-472 0,-472 0,-451 54,-451 54,-472\"/>\n<text text-anchor=\"middle\" x=\"27\" y=\"-458.4\" font-family=\"Times,serif\" font-size=\"12.00\" fill=\"#000000\">x2</text>\n</g>\n<!-- 139714172432960&#45;&gt;139714172432792 -->\n<g id=\"edge15\" class=\"edge\">\n<title>139714172432960&#45;&gt;139714172432792</title>\n<path fill=\"none\" stroke=\"#000000\" d=\"M40.5426,-450.7787C50.901,-442.5784 65.3893,-431.1085 77.3504,-421.6393\"/>\n<polygon fill=\"#000000\" stroke=\"#000000\" points=\"79.8501,-424.1244 85.5181,-415.1732 75.5051,-418.6361 79.8501,-424.1244\"/>\n</g>\n<!-- 139714172432848&#45;&gt;139714172497704 -->\n<g id=\"edge16\" class=\"edge\">\n<title>139714172432848&#45;&gt;139714172497704</title>\n<path fill=\"none\" stroke=\"#000000\" d=\"M205.67,-203.2281C197.5617,-193.8667 185.6389,-180.1012 176.0086,-168.9826\"/>\n<polygon fill=\"#000000\" stroke=\"#000000\" points=\"178.3849,-166.3802 169.1922,-161.1128 173.0937,-170.9632 178.3849,-166.3802\"/>\n</g>\n</g>\n</svg>\n"
          },
          "metadata": {
            "tags": []
          },
          "execution_count": 118
        }
      ]
    },
    {
      "cell_type": "markdown",
      "metadata": {
        "id": "0OaUxbG3wj2-"
      },
      "source": [
        "Is the generated computation graph what you expected?"
      ]
    },
    {
      "cell_type": "markdown",
      "metadata": {
        "id": "RslYy3CUwj2-"
      },
      "source": [
        "## Expressing bigram language models via RNNs\n",
        "\n",
        "In this section, as an exercise in understanding how RNNs work, you'll design an RNN to behave like a bigram model, thereby showing that RNNs are (not surprisingly) more expressive than bigram language models.\n",
        "\n",
        "### Bigram language models\n",
        "\n",
        "Recall that a bigram language model uses the previous word to predict the next word in a sequence $w_1 \\cdots w_N$. A bigram model over a vocabulary $\\vect{v} = \\{v_1, \\ldots, v_V\\}$ is specified by a set of probabilities $\\Prob(w_{t+1} = v_j \\given w_t = v_i)$, the probability that a word of type $v_j$ follows a word of type $v_i$. \n",
        "(As usual, we'll abbreviate this probability $\\Prob(v_j \\given v_i)$, since the probability is assumed to be the same for all $t$.)\n",
        "\n",
        "We can pack these probabilities into a single table $T$ with $V$ rows and $V$ columns such that  \n",
        "\n",
        "$$T_{ij} = \\Prob(w_{t+1} = v_j \\given w_t = v_i)$$\n",
        "\n",
        "Importantly, the sum $\\sum_{j=1}^{V} T_{ij}$ is $1$ for all $i$. The vector $T_i$ (the $i$-th row of table $T$) thus constitutes the probability distribution for the word following $v_i$.\n",
        "\n",
        "For this activity, we use a vocabulary with only two tokens (we can think of them as $a$ and $b$) encoded as one-hot vectors ($v_1=$ `[1,0]` and $v_2=$  `[0,1]`) and we provide a transition table $T$. We also define two sample sequences representing $aaaaaabbaa$ and $babbbbabbb$."
      ]
    },
    {
      "cell_type": "code",
      "metadata": {
        "id": "kow0JqaCwj2-"
      },
      "source": [
        "# the vocabulary\n",
        "Vocab = torch.Tensor([ [1, 0], \n",
        "                       [0, 1] ])\n",
        "\n",
        "# the transition matrix\n",
        "T = torch.Tensor([ [0.6, 0.4],\n",
        "                   [0.3, 0.7] ])\n",
        "\n",
        "# two sample sequences\n",
        "seq1 = torch.Tensor(\n",
        "    [ [1,0], [1,0], [1,0], [1,0], [1,0], \n",
        "      [1,0], [0,1], [0,1], [1,0], [1,0] ])\n",
        "seq2 = torch.Tensor(\n",
        "    [ [0,1], [1,0], [0,1], [0,1], [0,1],\n",
        "      [0,1], [1,0], [0,1], [0,1], [0,1] ])"
      ],
      "execution_count": 119,
      "outputs": []
    },
    {
      "cell_type": "markdown",
      "metadata": {
        "deletable": false,
        "editable": false,
        "id": "geup6jBwwj2-"
      },
      "source": [
        "Before proceeding, take a guess as to which of the two sequences would be more likely according ot the provided bigram model. (We won't hold you to the guess.)\n",
        "\n",
        "Now write a function `sequence_probability` to find the probability of a sequence according to the bigram model. Below, we'll use that function to check your guess.\n",
        "\n",
        "<!--\n",
        "BEGIN QUESTION\n",
        "name: bigram\n",
        "-->"
      ]
    },
    {
      "cell_type": "code",
      "metadata": {
        "id": "k0TwEGt7wj2-"
      },
      "source": [
        "import math\n",
        "# TODO -- Write a function to find the probability of a sequence given a bigram table\n",
        "def sequence_probability(seq, T):\n",
        "    res  =  1.0\n",
        "    for ind in range(len(seq)-1):\n",
        "        res *=  T.T@seq[ind-1]@seq[ind]\n",
        "    return res.item()"
      ],
      "execution_count": 120,
      "outputs": []
    },
    {
      "cell_type": "code",
      "metadata": {
        "deletable": false,
        "editable": false,
        "colab": {
          "base_uri": "https://localhost:8080/",
          "height": 46
        },
        "id": "mE4TWf6pwj2-",
        "outputId": "e356cd6b-fce5-4c57-a6f5-53d7c621cb36"
      },
      "source": [
        "grader.check(\"bigram\")"
      ],
      "execution_count": 121,
      "outputs": [
        {
          "output_type": "execute_result",
          "data": {
            "text/html": [
              "\n",
              "    \n",
              "    \n",
              "        <p>All tests passed!</p>\n",
              "    \n",
              "    "
            ],
            "text/plain": [
              "\n",
              "    All tests passed!\n",
              "    "
            ]
          },
          "metadata": {
            "tags": []
          },
          "execution_count": 121
        }
      ]
    },
    {
      "cell_type": "markdown",
      "metadata": {
        "id": "uZ-c_K-7wj2-"
      },
      "source": [
        "We can use the `sequence_probability` function to find the probabilities of the two sequences."
      ]
    },
    {
      "cell_type": "code",
      "metadata": {
        "colab": {
          "base_uri": "https://localhost:8080/"
        },
        "id": "J48riJ-9wj2-",
        "outputId": "46d9575b-ffe3-4915-95a6-bd2f67d3f384"
      },
      "source": [
        "print(f\"Probability of A: {sequence_probability(seq1, T):.5f}\\n\"\n",
        "      f\"Probability of B: {sequence_probability(seq2, T):.5f}\")"
      ],
      "execution_count": 122,
      "outputs": [
        {
          "output_type": "stream",
          "text": [
            "Probability of A: 0.00392\n",
            "Probability of B: 0.00242\n"
          ],
          "name": "stdout"
        }
      ]
    },
    {
      "cell_type": "markdown",
      "metadata": {
        "id": "mcBnubhdwj2-"
      },
      "source": [
        "Was your guess correct?"
      ]
    },
    {
      "cell_type": "markdown",
      "metadata": {
        "deletable": false,
        "editable": false,
        "id": "EGK-zq58wj2-"
      },
      "source": [
        "### Tiny bigram RNN\n",
        "\n",
        "In theory, given enough capacity, [an RNN can approximate any function arbitrarily well](https://citeseerx.ist.psu.edu/viewdoc/download?doi=10.1.1.16.7590&rep=rep1&type=pdf). (In practice, we don't have infinite capacity, and even if we do, that doesn't mean that a particular optimization method, like stochastic gradient descent that we've been using in project segment 1, can find the global optimum.) \n",
        "\n",
        "In this section, you'll show that an RNN is at least as expressive as a bigram language model. You'll design the activation function $\\sigma$ and the parameters $\\vect{U}$, $\\vect{V}$, and $\\vect{W}$ of an RNN such that it behaves exactly like the bigram model above, by taking as input a sequence of one-hot representations of words, and outputting at each step a vector with the probabilities of the next word.\n",
        "\n",
        "For instance, the probabilities for the word following $v_i$ should be $T_i$, the row from the transition matrix. Given a sequence beginning with $v_1$, represented by the one-hot encoding [1, 0], your RNN's first output should be\n",
        "\n",
        "$$ o_1 = \\vect{W}h_1= \\vect{W} \\sigma\\left(\\vect{U} \\begin{bmatrix} 1 \\\\ 0 \\end{bmatrix} \n",
        "                            + \\vect{V} h_0\n",
        "                            \\right) \n",
        "       = T_1 $$\n",
        "\n",
        "etc. Assume that $h_0$, the initial $h$ value, is $\\begin{bmatrix} 0 \\\\ 0 \\end{bmatrix}$. \n",
        "\n",
        "> Hint 1: Use $\\sigma(x) = x$ for simplicity. \n",
        ">\n",
        "> Hint 2: You're going to want to work this out on paper before filling in your solution in the next cell.\n",
        "\n",
        "<!--\n",
        "BEGIN QUESTION\n",
        "name: tiny_bigram_RNN\n",
        "-->"
      ]
    },
    {
      "cell_type": "code",
      "metadata": {
        "id": "fJKTnbf-wj2-"
      },
      "source": [
        "#TODO -- Define the parameters of the model\n",
        "h0 = torch.zeros(2)\n",
        "sigma = lambda x: x\n",
        "U = torch.eye(2)\n",
        "V = torch.zeros(2)\n",
        "W = T.T                                  "
      ],
      "execution_count": 123,
      "outputs": []
    },
    {
      "cell_type": "code",
      "metadata": {
        "deletable": false,
        "editable": false,
        "colab": {
          "base_uri": "https://localhost:8080/",
          "height": 46
        },
        "id": "crjeNIdMwj2-",
        "outputId": "df3106e6-9d06-4260-a355-3474cd4242dc"
      },
      "source": [
        "grader.check(\"tiny_bigram_RNN\")"
      ],
      "execution_count": 124,
      "outputs": [
        {
          "output_type": "execute_result",
          "data": {
            "text/html": [
              "\n",
              "    \n",
              "    \n",
              "        <p>All tests passed!</p>\n",
              "    \n",
              "    "
            ],
            "text/plain": [
              "\n",
              "    All tests passed!\n",
              "    "
            ]
          },
          "metadata": {
            "tags": []
          },
          "execution_count": 124
        }
      ]
    },
    {
      "cell_type": "markdown",
      "metadata": {
        "id": "rGv3SAdHwj2-"
      },
      "source": [
        "---\n",
        "\n",
        "## The backward step\n",
        "\n",
        "The remainder of the lab needs you to do math derivations. Online drawing tools such as [SketchTogether](https://sketchtogether.com/) might be helpful. In these exercises you will both build your intuition and gain a concrete understanding of how back-propagation works in an RNN.\n",
        "\n",
        "Back-propagation is the method used to compute the gradients of an RNN. First, the RNN runs forward on some inputs, and then we calculate the loss as a function of the output (a measure of how far off the RNN's output $o_t$ was from the desired output $y_t$). The loss function we will be using is the squared error:\n",
        "\n",
        "$$ L = \\sum_{t = 1}^{N} (y_{t} - o_{t})^2 $$\n",
        "\n",
        "For the particular case of a language model, the \"desired output\" is just the next word in the sequence, so we have \n",
        "\n",
        "$$ L = \\sum_{t = 1}^{N} (x_{t+1} - o_{t})^2 $$\n",
        "\n",
        "> There's a little issue with the last step, since $x_{N+1}$ doesn't exist. Let's pretend that $x_{N+1}$ exists below for brevity of notations.\n",
        "\n",
        "> Note that we use squared error loss here mainly for simplicity. In real language modeling tasks people use cross entropy loss, which you've seen in project segment 1.\n",
        "\n",
        "We then find the derivatives of the loss with respect to each parameter and use the derivatives to make small adjustments to the parameters to reduce the loss. This process is repeated until the loss is minimized.\n",
        "\n",
        "To minimize the loss function, we need to calculate the derivative of the loss $L$ with respect to all parameters. In this lab, we only consider how to calculate the derivative of $L$ with respect to $\\vect{U}$, but other parameters work similarly.\n",
        "\n",
        "For simplicity, let's assume for now that $h_0, \\ldots, h_N$, $x_1, \\ldots, x_N$ and $o_1, \\ldots, o_N$ are all scalars. Therefore, the parameters $\\vect{U}$, $\\vect{V}$, $\\vect{W}$ are all scalars as well. Such an assumption avoids taking gradients of vectors and matrices, although the below results can be easily generalized.\n",
        "\n",
        "In the next few subsections, you'll derive the gradient formulas for RNNs operating on sequences first of length 1, then 2, then 3, and finally on arbitrary length sequences."
      ]
    },
    {
      "cell_type": "markdown",
      "metadata": {
        "id": "oTBUfUUCwj2-"
      },
      "source": [
        "### RNN backprop on very very short sequences\n",
        "\n",
        "Consider an RNN run on an input sequence of length 1. This RNN's output sequence will therefore consist only of a single output $o_1$.\n",
        "\n",
        "As you can see from the loss function given above, $L = (x_2 - o_1)^2$ is a function of $o_1$ and $x_2$, therefore we can find \n",
        "\n",
        "$$\\frac{\\partial L(o_1, x_2)}{\\partial o_1} = 2(o_1 - x_2)$$\n",
        "\n",
        "Furthermore, $o_1$ is a function of $h_1$ and $\\vect{W}$, so we can find $\\frac{\\partial o_1(h_1, \\vect{W})}{\\partial h_1}$. Finally, $h_1$ is a function of $\\vect{U}$, $\\vect{V}$, $h_0$, and $x_1$, so we can find $\\frac{\\partial h_1(\\vect{U}, \\vect{V}, h_0, x_1)}{\\partial \\vect{U}}$."
      ]
    },
    {
      "cell_type": "markdown",
      "metadata": {
        "id": "irR_yudjwj2-"
      },
      "source": [
        "First, let's visualize the computation graph for more intuition. Note that different from the previous computation graph, we only show the variables that we are interested in."
      ]
    },
    {
      "cell_type": "code",
      "metadata": {
        "colab": {
          "base_uri": "https://localhost:8080/",
          "height": 568
        },
        "id": "_gOObwe4wj2-",
        "outputId": "e78d0f2f-2367-413e-d600-00a2c468d4d6"
      },
      "source": [
        "# RNN parameters\n",
        "U_ = torch.Tensor([0.1]) # we use U_ instead of U (etc.) to avoid autograding issues\n",
        "V_ = torch.Tensor([0.2])\n",
        "W_ = torch.Tensor([0.3])\n",
        "\n",
        "# inputs\n",
        "x1_ = torch.Tensor([0.5])\n",
        "x2_ = torch.Tensor([0.6])\n",
        "x3_ = torch.Tensor([0.7])\n",
        "\n",
        "# initial value for the hidden state, a zero vector\n",
        "h0_ = torch.Tensor([0])\n",
        "\n",
        "# Set which nodes to visualize later\n",
        "visualized_nodes = [U_, ]\n",
        "for p in visualized_nodes:\n",
        "    p.requires_grad = True\n",
        "\n",
        "# Calculate h1, o1\n",
        "h1_ = torch.clamp(U_ * x1_ + V_ * h0_, min=0)\n",
        "o1_ = W_ * h1_\n",
        "\n",
        "L_ = (o1_ - x2_) ** 2\n",
        "\n",
        "params = {k: eval(k+'_') for k in ['L', 'U', 'h1', 'o1']}\n",
        "dot = make_dot(L_, params=params)\n",
        "# Save Graph to `computation_graph_1.pdf`\n",
        "dot.render('computation_graph_1')\n",
        "dot"
      ],
      "execution_count": 125,
      "outputs": [
        {
          "output_type": "execute_result",
          "data": {
            "text/plain": [
              "<graphviz.dot.Digraph at 0x7f11bda88940>"
            ],
            "image/svg+xml": "<?xml version=\"1.0\" encoding=\"UTF-8\" standalone=\"no\"?>\n<!DOCTYPE svg PUBLIC \"-//W3C//DTD SVG 1.1//EN\"\n \"http://www.w3.org/Graphics/SVG/1.1/DTD/svg11.dtd\">\n<!-- Generated by graphviz version 2.40.1 (20161225.0304)\n -->\n<!-- Title: %3 Pages: 1 -->\n<svg width=\"62pt\" height=\"410pt\"\n viewBox=\"0.00 0.00 62.00 410.00\" xmlns=\"http://www.w3.org/2000/svg\" xmlns:xlink=\"http://www.w3.org/1999/xlink\">\n<g id=\"graph0\" class=\"graph\" transform=\"scale(1 1) rotate(0) translate(4 406)\">\n<title>%3</title>\n<polygon fill=\"#ffffff\" stroke=\"transparent\" points=\"-4,4 -4,-406 58,-406 58,4 -4,4\"/>\n<!-- 139714172497480 -->\n<g id=\"node1\" class=\"node\">\n<title>139714172497480</title>\n<polygon fill=\"#caff70\" stroke=\"#000000\" points=\"54,-34 0,-34 0,0 54,0 54,-34\"/>\n<text text-anchor=\"middle\" x=\"27\" y=\"-20.4\" font-family=\"Times,serif\" font-size=\"12.00\" fill=\"#000000\">Pow</text>\n<text text-anchor=\"middle\" x=\"27\" y=\"-7.4\" font-family=\"Times,serif\" font-size=\"12.00\" fill=\"#000000\">L</text>\n</g>\n<!-- 139714173112104 -->\n<g id=\"node2\" class=\"node\">\n<title>139714173112104</title>\n<polygon fill=\"#d3d3d3\" stroke=\"#000000\" points=\"54,-91 0,-91 0,-70 54,-70 54,-91\"/>\n<text text-anchor=\"middle\" x=\"27\" y=\"-77.4\" font-family=\"Times,serif\" font-size=\"12.00\" fill=\"#000000\">Sub</text>\n</g>\n<!-- 139714173112104&#45;&gt;139714172497480 -->\n<g id=\"edge1\" class=\"edge\">\n<title>139714173112104&#45;&gt;139714172497480</title>\n<path fill=\"none\" stroke=\"#000000\" d=\"M27,-69.7281C27,-62.7087 27,-53.2132 27,-44.2141\"/>\n<polygon fill=\"#000000\" stroke=\"#000000\" points=\"30.5001,-44.0559 27,-34.056 23.5001,-44.056 30.5001,-44.0559\"/>\n</g>\n<!-- 139714173108632 -->\n<g id=\"node3\" class=\"node\">\n<title>139714173108632</title>\n<polygon fill=\"#add8e6\" stroke=\"#000000\" points=\"54,-161 0,-161 0,-127 54,-127 54,-161\"/>\n<text text-anchor=\"middle\" x=\"27\" y=\"-147.4\" font-family=\"Times,serif\" font-size=\"12.00\" fill=\"#000000\">Mul</text>\n<text text-anchor=\"middle\" x=\"27\" y=\"-134.4\" font-family=\"Times,serif\" font-size=\"12.00\" fill=\"#000000\">o1</text>\n</g>\n<!-- 139714173108632&#45;&gt;139714173112104 -->\n<g id=\"edge2\" class=\"edge\">\n<title>139714173108632&#45;&gt;139714173112104</title>\n<path fill=\"none\" stroke=\"#000000\" d=\"M27,-126.9832C27,-119.1157 27,-109.6973 27,-101.4019\"/>\n<polygon fill=\"#000000\" stroke=\"#000000\" points=\"30.5001,-101.3686 27,-91.3687 23.5001,-101.3687 30.5001,-101.3686\"/>\n</g>\n<!-- 139714172496360 -->\n<g id=\"node4\" class=\"node\">\n<title>139714172496360</title>\n<polygon fill=\"#add8e6\" stroke=\"#000000\" points=\"54,-231 0,-231 0,-197 54,-197 54,-231\"/>\n<text text-anchor=\"middle\" x=\"27\" y=\"-217.4\" font-family=\"Times,serif\" font-size=\"12.00\" fill=\"#000000\">Clamp</text>\n<text text-anchor=\"middle\" x=\"27\" y=\"-204.4\" font-family=\"Times,serif\" font-size=\"12.00\" fill=\"#000000\">h1</text>\n</g>\n<!-- 139714172496360&#45;&gt;139714173108632 -->\n<g id=\"edge3\" class=\"edge\">\n<title>139714172496360&#45;&gt;139714173108632</title>\n<path fill=\"none\" stroke=\"#000000\" d=\"M27,-196.6966C27,-188.9827 27,-179.7125 27,-171.1124\"/>\n<polygon fill=\"#000000\" stroke=\"#000000\" points=\"30.5001,-171.1043 27,-161.1043 23.5001,-171.1044 30.5001,-171.1043\"/>\n</g>\n<!-- 139714186760824 -->\n<g id=\"node5\" class=\"node\">\n<title>139714186760824</title>\n<polygon fill=\"#d3d3d3\" stroke=\"#000000\" points=\"54,-288 0,-288 0,-267 54,-267 54,-288\"/>\n<text text-anchor=\"middle\" x=\"27\" y=\"-274.4\" font-family=\"Times,serif\" font-size=\"12.00\" fill=\"#000000\">Add</text>\n</g>\n<!-- 139714186760824&#45;&gt;139714172496360 -->\n<g id=\"edge4\" class=\"edge\">\n<title>139714186760824&#45;&gt;139714172496360</title>\n<path fill=\"none\" stroke=\"#000000\" d=\"M27,-266.7281C27,-259.7087 27,-250.2132 27,-241.2141\"/>\n<polygon fill=\"#000000\" stroke=\"#000000\" points=\"30.5001,-241.0559 27,-231.056 23.5001,-241.056 30.5001,-241.0559\"/>\n</g>\n<!-- 139714186762672 -->\n<g id=\"node6\" class=\"node\">\n<title>139714186762672</title>\n<polygon fill=\"#d3d3d3\" stroke=\"#000000\" points=\"54,-345 0,-345 0,-324 54,-324 54,-345\"/>\n<text text-anchor=\"middle\" x=\"27\" y=\"-331.4\" font-family=\"Times,serif\" font-size=\"12.00\" fill=\"#000000\">Mul</text>\n</g>\n<!-- 139714186762672&#45;&gt;139714186760824 -->\n<g id=\"edge5\" class=\"edge\">\n<title>139714186762672&#45;&gt;139714186760824</title>\n<path fill=\"none\" stroke=\"#000000\" d=\"M27,-323.7787C27,-316.6134 27,-306.9517 27,-298.3097\"/>\n<polygon fill=\"#000000\" stroke=\"#000000\" points=\"30.5001,-298.1732 27,-288.1732 23.5001,-298.1732 30.5001,-298.1732\"/>\n</g>\n<!-- 139714186762448 -->\n<g id=\"node7\" class=\"node\">\n<title>139714186762448</title>\n<polygon fill=\"#add8e6\" stroke=\"#000000\" points=\"54,-402 0,-402 0,-381 54,-381 54,-402\"/>\n<text text-anchor=\"middle\" x=\"27\" y=\"-388.4\" font-family=\"Times,serif\" font-size=\"12.00\" fill=\"#000000\">U</text>\n</g>\n<!-- 139714186762448&#45;&gt;139714186762672 -->\n<g id=\"edge6\" class=\"edge\">\n<title>139714186762448&#45;&gt;139714186762672</title>\n<path fill=\"none\" stroke=\"#000000\" d=\"M27,-380.7787C27,-373.6134 27,-363.9517 27,-355.3097\"/>\n<polygon fill=\"#000000\" stroke=\"#000000\" points=\"30.5001,-355.1732 27,-345.1732 23.5001,-355.1732 30.5001,-355.1732\"/>\n</g>\n</g>\n</svg>\n"
          },
          "metadata": {
            "tags": []
          },
          "execution_count": 125
        }
      ]
    },
    {
      "cell_type": "markdown",
      "metadata": {
        "deletable": false,
        "editable": false,
        "id": "wRDLYIeHwj2-"
      },
      "source": [
        "<!-- BEGIN QUESTION -->\n",
        "\n",
        "---\n",
        "\n",
        "**Question:** Find a formula for $\\frac{\\partial L(\\vect{U}, \\vect{V}, \\vect{W}, x_1, x_2, h_0)}{\\partial \\vect{U}}$ in terms of $\\frac{\\partial L(o_1, x_2)}{\\partial o_1}$, $\\frac{\\partial o_1(\\vect{W}, h_1)}{\\partial h_1}$ ,and $\\frac{\\partial h_1(\\vect{U}, \\vect{V}, h_0, x_1)}{\\partial \\vect{U}}$. You might find the above computation graph useful: how does $L$ depend on $\\vect{U}$? \n",
        "\n",
        ">Note that in your answer you can omit the arguments of the functions for brevity (e.g., you can use $\\frac{\\partial L}{\\partial o_1}$ instead of $\\frac{\\partial L(o_1, x_2)}{\\partial o_1}$), but keep in mind that the arguments are important: e.g., $o_1$ eventually depends on $\\vect{U}$, so $\\frac{\\partial o_1(\\vect{U}, \\vect{V}, \\vect{W}, x_1, x_2, h_0)}{\\partial \\vect{U}}$ is likely not zero, but if instead we assume its arguments are $h_1$ and $\\vect{W}$, i.e., $o_1 = o_1(h_1, \\vect{W})$, then $\\frac{\\partial o_1}{\\partial U}$ is undefined or 0, as when we take partial derivatives, we hold other arguments ($h_1$ and $\\vect{W}$ in this case) as constant.\n",
        "\n",
        ">Hint: Use the chain rule.\n",
        "\n",
        "<!--\n",
        "BEGIN QUESTION\n",
        "name: open_response_backprop1\n",
        "manual: true\n",
        "-->"
      ]
    },
    {
      "cell_type": "markdown",
      "metadata": {
        "id": "yvU9AFegwj2-"
      },
      "source": [
        "Clariffication about f(Ux_0): it is a matrix of 0 and 1 of size of U, where there is 1 anywhere where u_i,j*x_0 is bigger or equal to zero (if u_i,j*x_0 >= 0 then in f(Ux_0)_i,j there wiil be 1. Otherwise 0).\n",
        "The derivatives is ofcourse taken using the chain rule:\n",
        "\n",
        "![img-5417ada6f87d3f7a.png](data:image/png;base64,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)"
      ]
    },
    {
      "cell_type": "markdown",
      "metadata": {
        "deletable": false,
        "editable": false,
        "id": "_XMWfex8wj2-"
      },
      "source": [
        "<!-- END QUESTION -->\n",
        "\n",
        "Implement the backward step that you found for $\\frac{\\partial L}{\\partial \\vect{U}}$. Then, you will be able to verify your solution compared to the gradients achieved by PyTorch.\n",
        "\n",
        "<!--\n",
        "BEGIN QUESTION\n",
        "name: backward\n",
        "-->"
      ]
    },
    {
      "cell_type": "code",
      "metadata": {
        "id": "rMIk2m4Pwj2-"
      },
      "source": [
        "# TODO: Implement dL/dU\n",
        "def dL_dU(x1, x2, o1, h0, U, V, W):\n",
        "    relu_d = (U*x1+V*h0 > 0).type(torch.FloatTensor)\n",
        "    return 2*(o1-x2)*W*relu_d*x1\n"
      ],
      "execution_count": 126,
      "outputs": []
    },
    {
      "cell_type": "code",
      "metadata": {
        "deletable": false,
        "editable": false,
        "colab": {
          "base_uri": "https://localhost:8080/",
          "height": 46
        },
        "id": "wVr48Ptawj2-",
        "outputId": "b4c653fb-24ac-4fc4-ec84-198a0af98f26"
      },
      "source": [
        "grader.check(\"backward\")"
      ],
      "execution_count": 127,
      "outputs": [
        {
          "output_type": "execute_result",
          "data": {
            "text/html": [
              "\n",
              "    \n",
              "    \n",
              "        <p>All tests passed!</p>\n",
              "    \n",
              "    "
            ],
            "text/plain": [
              "\n",
              "    All tests passed!\n",
              "    "
            ]
          },
          "metadata": {
            "tags": []
          },
          "execution_count": 127
        }
      ]
    },
    {
      "cell_type": "markdown",
      "metadata": {
        "id": "cpSQkA2Rwj2-"
      },
      "source": [
        "---\n",
        "\n",
        "### RNN backprop on very short sequences\n",
        "\n",
        "Consider an RNN run on an input sequence of length 2. This RNN's output sequence $o$ will consist of $o_1$ and $o_2$ and the loss will be\n",
        "\n",
        "$$ L = (x_2 - o_1)^2 + (x_3 - o_2)^2 $$\n",
        "\n",
        "Let's visualize the computation graph."
      ]
    },
    {
      "cell_type": "code",
      "metadata": {
        "colab": {
          "base_uri": "https://localhost:8080/",
          "height": 906
        },
        "id": "_6SgptLjwj2-",
        "outputId": "e832dae8-37a1-40e5-e76c-7d931105a9be"
      },
      "source": [
        "# RNN parameters\n",
        "U_ = torch.Tensor([0.1])\n",
        "V_ = torch.Tensor([0.2])\n",
        "W_ = torch.Tensor([0.3])\n",
        "\n",
        "# inputs\n",
        "x1_ = torch.Tensor([0.5])\n",
        "x2_ = torch.Tensor([0.6])\n",
        "x3_ = torch.Tensor([0.7])\n",
        "\n",
        "# initial value for the hidden state, a zero vector\n",
        "h0_ = torch.Tensor([0])\n",
        "\n",
        "# Set which nodes to visualize later\n",
        "visualized_nodes = [U_, ]\n",
        "for p in visualized_nodes:\n",
        "    p.requires_grad = True\n",
        "\n",
        "# Calculate h1, o1\n",
        "h1_ = torch.clamp(U_ * x1_ + V_ * h0_, min=0)\n",
        "h2_ = torch.clamp(U_ * x2_ + V_ * h1_, min=0)\n",
        "o2_ = W_ * h2_\n",
        "o1_ = W_ * h1_\n",
        "\n",
        "L_ = (o1_ - x2_)**2 + (o2_ - x3_)**2\n",
        "\n",
        "params = {k: eval(k+'_') for k in ['L', 'U', 'h1', 'o1', 'h2', 'o2']}\n",
        "\n",
        "dot = make_dot(L_, params=params)\n",
        "# Save Graph to `computation_graph_2.pdf`\n",
        "dot.render('computation_graph_2')\n",
        "dot"
      ],
      "execution_count": 128,
      "outputs": [
        {
          "output_type": "execute_result",
          "data": {
            "text/plain": [
              "<graphviz.dot.Digraph at 0x7f11bd9f2c88>"
            ],
            "image/svg+xml": "<?xml version=\"1.0\" encoding=\"UTF-8\" standalone=\"no\"?>\n<!DOCTYPE svg PUBLIC \"-//W3C//DTD SVG 1.1//EN\"\n \"http://www.w3.org/Graphics/SVG/1.1/DTD/svg11.dtd\">\n<!-- Generated by graphviz version 2.40.1 (20161225.0304)\n -->\n<!-- Title: %3 Pages: 1 -->\n<svg width=\"172pt\" height=\"664pt\"\n viewBox=\"0.00 0.00 172.00 664.00\" xmlns=\"http://www.w3.org/2000/svg\" xmlns:xlink=\"http://www.w3.org/1999/xlink\">\n<g id=\"graph0\" class=\"graph\" transform=\"scale(1 1) rotate(0) translate(4 660)\">\n<title>%3</title>\n<polygon fill=\"#ffffff\" stroke=\"transparent\" points=\"-4,4 -4,-660 168,-660 168,4 -4,4\"/>\n<!-- 139714172496696 -->\n<g id=\"node1\" class=\"node\">\n<title>139714172496696</title>\n<polygon fill=\"#caff70\" stroke=\"#000000\" points=\"89,-34 35,-34 35,0 89,0 89,-34\"/>\n<text text-anchor=\"middle\" x=\"62\" y=\"-20.4\" font-family=\"Times,serif\" font-size=\"12.00\" fill=\"#000000\">Add</text>\n<text text-anchor=\"middle\" x=\"62\" y=\"-7.4\" font-family=\"Times,serif\" font-size=\"12.00\" fill=\"#000000\">L</text>\n</g>\n<!-- 139714172497256 -->\n<g id=\"node2\" class=\"node\">\n<title>139714172497256</title>\n<polygon fill=\"#d3d3d3\" stroke=\"#000000\" points=\"54,-211.5 0,-211.5 0,-190.5 54,-190.5 54,-211.5\"/>\n<text text-anchor=\"middle\" x=\"27\" y=\"-197.9\" font-family=\"Times,serif\" font-size=\"12.00\" fill=\"#000000\">Pow</text>\n</g>\n<!-- 139714172497256&#45;&gt;139714172496696 -->\n<g id=\"edge1\" class=\"edge\">\n<title>139714172497256&#45;&gt;139714172496696</title>\n<path fill=\"none\" stroke=\"#000000\" d=\"M29.033,-190.3121C34.3881,-162.1596 49.008,-85.3007 56.8568,-44.0384\"/>\n<polygon fill=\"#000000\" stroke=\"#000000\" points=\"60.3116,-44.6056 58.742,-34.1277 53.4349,-43.2974 60.3116,-44.6056\"/>\n</g>\n<!-- 139714172495688 -->\n<g id=\"node3\" class=\"node\">\n<title>139714172495688</title>\n<polygon fill=\"#d3d3d3\" stroke=\"#000000\" points=\"54,-281.5 0,-281.5 0,-260.5 54,-260.5 54,-281.5\"/>\n<text text-anchor=\"middle\" x=\"27\" y=\"-267.9\" font-family=\"Times,serif\" font-size=\"12.00\" fill=\"#000000\">Sub</text>\n</g>\n<!-- 139714172495688&#45;&gt;139714172497256 -->\n<g id=\"edge2\" class=\"edge\">\n<title>139714172495688&#45;&gt;139714172497256</title>\n<path fill=\"none\" stroke=\"#000000\" d=\"M27,-260.3685C27,-250.1925 27,-234.5606 27,-221.8912\"/>\n<polygon fill=\"#000000\" stroke=\"#000000\" points=\"30.5001,-221.7315 27,-211.7315 23.5001,-221.7316 30.5001,-221.7315\"/>\n</g>\n<!-- 139714172497480 -->\n<g id=\"node4\" class=\"node\">\n<title>139714172497480</title>\n<polygon fill=\"#add8e6\" stroke=\"#000000\" points=\"54,-358 0,-358 0,-324 54,-324 54,-358\"/>\n<text text-anchor=\"middle\" x=\"27\" y=\"-344.4\" font-family=\"Times,serif\" font-size=\"12.00\" fill=\"#000000\">Mul</text>\n<text text-anchor=\"middle\" x=\"27\" y=\"-331.4\" font-family=\"Times,serif\" font-size=\"12.00\" fill=\"#000000\">o1</text>\n</g>\n<!-- 139714172497480&#45;&gt;139714172495688 -->\n<g id=\"edge3\" class=\"edge\">\n<title>139714172497480&#45;&gt;139714172495688</title>\n<path fill=\"none\" stroke=\"#000000\" d=\"M27,-323.6966C27,-314.0634 27,-302.003 27,-291.8518\"/>\n<polygon fill=\"#000000\" stroke=\"#000000\" points=\"30.5001,-291.7912 27,-281.7913 23.5001,-291.7913 30.5001,-291.7912\"/>\n</g>\n<!-- 139714172497424 -->\n<g id=\"node5\" class=\"node\">\n<title>139714172497424</title>\n<polygon fill=\"#add8e6\" stroke=\"#000000\" points=\"92,-485 38,-485 38,-451 92,-451 92,-485\"/>\n<text text-anchor=\"middle\" x=\"65\" y=\"-471.4\" font-family=\"Times,serif\" font-size=\"12.00\" fill=\"#000000\">Clamp</text>\n<text text-anchor=\"middle\" x=\"65\" y=\"-458.4\" font-family=\"Times,serif\" font-size=\"12.00\" fill=\"#000000\">h1</text>\n</g>\n<!-- 139714172497424&#45;&gt;139714172497480 -->\n<g id=\"edge4\" class=\"edge\">\n<title>139714172497424&#45;&gt;139714172497480</title>\n<path fill=\"none\" stroke=\"#000000\" d=\"M58.4321,-450.9495C54.5695,-440.6255 49.7282,-427.148 46,-415 41.2864,-399.6411 36.7798,-382.2501 33.3395,-368.1883\"/>\n<polygon fill=\"#000000\" stroke=\"#000000\" points=\"36.6721,-367.0772 30.9308,-358.1728 29.8662,-368.7141 36.6721,-367.0772\"/>\n</g>\n<!-- 139714172496192 -->\n<g id=\"node15\" class=\"node\">\n<title>139714172496192</title>\n<polygon fill=\"#d3d3d3\" stroke=\"#000000\" points=\"109,-415 55,-415 55,-394 109,-394 109,-415\"/>\n<text text-anchor=\"middle\" x=\"82\" y=\"-401.4\" font-family=\"Times,serif\" font-size=\"12.00\" fill=\"#000000\">Mul</text>\n</g>\n<!-- 139714172497424&#45;&gt;139714172496192 -->\n<g id=\"edge16\" class=\"edge\">\n<title>139714172497424&#45;&gt;139714172496192</title>\n<path fill=\"none\" stroke=\"#000000\" d=\"M69.5557,-450.9832C71.6856,-443.0273 74.2401,-433.4855 76.4789,-425.1228\"/>\n<polygon fill=\"#000000\" stroke=\"#000000\" points=\"79.885,-425.9337 79.0903,-415.3687 73.1232,-424.1233 79.885,-425.9337\"/>\n</g>\n<!-- 139714172494288 -->\n<g id=\"node6\" class=\"node\">\n<title>139714172494288</title>\n<polygon fill=\"#d3d3d3\" stroke=\"#000000\" points=\"92,-542 38,-542 38,-521 92,-521 92,-542\"/>\n<text text-anchor=\"middle\" x=\"65\" y=\"-528.4\" font-family=\"Times,serif\" font-size=\"12.00\" fill=\"#000000\">Add</text>\n</g>\n<!-- 139714172494288&#45;&gt;139714172497424 -->\n<g id=\"edge5\" class=\"edge\">\n<title>139714172494288&#45;&gt;139714172497424</title>\n<path fill=\"none\" stroke=\"#000000\" d=\"M65,-520.7281C65,-513.7087 65,-504.2132 65,-495.2141\"/>\n<polygon fill=\"#000000\" stroke=\"#000000\" points=\"68.5001,-495.0559 65,-485.056 61.5001,-495.056 68.5001,-495.0559\"/>\n</g>\n<!-- 139714172496752 -->\n<g id=\"node7\" class=\"node\">\n<title>139714172496752</title>\n<polygon fill=\"#d3d3d3\" stroke=\"#000000\" points=\"100,-599 46,-599 46,-578 100,-578 100,-599\"/>\n<text text-anchor=\"middle\" x=\"73\" y=\"-585.4\" font-family=\"Times,serif\" font-size=\"12.00\" fill=\"#000000\">Mul</text>\n</g>\n<!-- 139714172496752&#45;&gt;139714172494288 -->\n<g id=\"edge6\" class=\"edge\">\n<title>139714172496752&#45;&gt;139714172494288</title>\n<path fill=\"none\" stroke=\"#000000\" d=\"M71.4953,-577.7787C70.4896,-570.6134 69.1336,-560.9517 67.9207,-552.3097\"/>\n<polygon fill=\"#000000\" stroke=\"#000000\" points=\"71.354,-551.5896 66.498,-542.1732 64.4219,-552.5626 71.354,-551.5896\"/>\n</g>\n<!-- 139714172494848 -->\n<g id=\"node8\" class=\"node\">\n<title>139714172494848</title>\n<polygon fill=\"#add8e6\" stroke=\"#000000\" points=\"127,-656 73,-656 73,-635 127,-635 127,-656\"/>\n<text text-anchor=\"middle\" x=\"100\" y=\"-642.4\" font-family=\"Times,serif\" font-size=\"12.00\" fill=\"#000000\">U</text>\n</g>\n<!-- 139714172494848&#45;&gt;139714172496752 -->\n<g id=\"edge7\" class=\"edge\">\n<title>139714172494848&#45;&gt;139714172496752</title>\n<path fill=\"none\" stroke=\"#000000\" d=\"M94.9215,-634.7787C91.4143,-627.3746 86.6444,-617.3049 82.4496,-608.4491\"/>\n<polygon fill=\"#000000\" stroke=\"#000000\" points=\"85.4997,-606.7123 78.0557,-599.1732 79.1736,-609.7089 85.4997,-606.7123\"/>\n</g>\n<!-- 139714172496416 -->\n<g id=\"node14\" class=\"node\">\n<title>139714172496416</title>\n<polygon fill=\"#d3d3d3\" stroke=\"#000000\" points=\"164,-542 110,-542 110,-521 164,-521 164,-542\"/>\n<text text-anchor=\"middle\" x=\"137\" y=\"-528.4\" font-family=\"Times,serif\" font-size=\"12.00\" fill=\"#000000\">Mul</text>\n</g>\n<!-- 139714172494848&#45;&gt;139714172496416 -->\n<g id=\"edge14\" class=\"edge\">\n<title>139714172494848&#45;&gt;139714172496416</title>\n<path fill=\"none\" stroke=\"#000000\" d=\"M103.4146,-634.9795C109.5234,-616.1576 122.4226,-576.4141 130.3376,-552.0275\"/>\n<polygon fill=\"#000000\" stroke=\"#000000\" points=\"133.7277,-552.9197 133.4858,-542.3276 127.0696,-550.7587 133.7277,-552.9197\"/>\n</g>\n<!-- 139714172497312 -->\n<g id=\"node9\" class=\"node\">\n<title>139714172497312</title>\n<polygon fill=\"#d3d3d3\" stroke=\"#000000\" points=\"121,-91 67,-91 67,-70 121,-70 121,-91\"/>\n<text text-anchor=\"middle\" x=\"94\" y=\"-77.4\" font-family=\"Times,serif\" font-size=\"12.00\" fill=\"#000000\">Pow</text>\n</g>\n<!-- 139714172497312&#45;&gt;139714172496696 -->\n<g id=\"edge8\" class=\"edge\">\n<title>139714172497312&#45;&gt;139714172496696</title>\n<path fill=\"none\" stroke=\"#000000\" d=\"M88.5716,-69.7281C84.8805,-62.4035 79.8307,-52.3828 75.1242,-43.0433\"/>\n<polygon fill=\"#000000\" stroke=\"#000000\" points=\"78.221,-41.411 70.5951,-34.056 71.9699,-44.5613 78.221,-41.411\"/>\n</g>\n<!-- 139714172496304 -->\n<g id=\"node10\" class=\"node\">\n<title>139714172496304</title>\n<polygon fill=\"#d3d3d3\" stroke=\"#000000\" points=\"123,-148 69,-148 69,-127 123,-127 123,-148\"/>\n<text text-anchor=\"middle\" x=\"96\" y=\"-134.4\" font-family=\"Times,serif\" font-size=\"12.00\" fill=\"#000000\">Sub</text>\n</g>\n<!-- 139714172496304&#45;&gt;139714172497312 -->\n<g id=\"edge9\" class=\"edge\">\n<title>139714172496304&#45;&gt;139714172497312</title>\n<path fill=\"none\" stroke=\"#000000\" d=\"M95.6238,-126.7787C95.3724,-119.6134 95.0334,-109.9517 94.7302,-101.3097\"/>\n<polygon fill=\"#000000\" stroke=\"#000000\" points=\"98.2231,-101.0443 94.3745,-91.1732 91.2274,-101.2898 98.2231,-101.0443\"/>\n</g>\n<!-- 139714172495968 -->\n<g id=\"node11\" class=\"node\">\n<title>139714172495968</title>\n<polygon fill=\"#add8e6\" stroke=\"#000000\" points=\"126,-218 72,-218 72,-184 126,-184 126,-218\"/>\n<text text-anchor=\"middle\" x=\"99\" y=\"-204.4\" font-family=\"Times,serif\" font-size=\"12.00\" fill=\"#000000\">Mul</text>\n<text text-anchor=\"middle\" x=\"99\" y=\"-191.4\" font-family=\"Times,serif\" font-size=\"12.00\" fill=\"#000000\">o2</text>\n</g>\n<!-- 139714172495968&#45;&gt;139714172496304 -->\n<g id=\"edge10\" class=\"edge\">\n<title>139714172495968&#45;&gt;139714172496304</title>\n<path fill=\"none\" stroke=\"#000000\" d=\"M98.1961,-183.9832C97.8244,-176.1157 97.3794,-166.6973 96.9875,-158.4019\"/>\n<polygon fill=\"#000000\" stroke=\"#000000\" points=\"100.4816,-158.1923 96.5135,-148.3687 93.4894,-158.5227 100.4816,-158.1923\"/>\n</g>\n<!-- 139714172496472 -->\n<g id=\"node12\" class=\"node\">\n<title>139714172496472</title>\n<polygon fill=\"#add8e6\" stroke=\"#000000\" points=\"126,-288 72,-288 72,-254 126,-254 126,-288\"/>\n<text text-anchor=\"middle\" x=\"99\" y=\"-274.4\" font-family=\"Times,serif\" font-size=\"12.00\" fill=\"#000000\">Clamp</text>\n<text text-anchor=\"middle\" x=\"99\" y=\"-261.4\" font-family=\"Times,serif\" font-size=\"12.00\" fill=\"#000000\">h2</text>\n</g>\n<!-- 139714172496472&#45;&gt;139714172495968 -->\n<g id=\"edge11\" class=\"edge\">\n<title>139714172496472&#45;&gt;139714172495968</title>\n<path fill=\"none\" stroke=\"#000000\" d=\"M99,-253.6966C99,-245.9827 99,-236.7125 99,-228.1124\"/>\n<polygon fill=\"#000000\" stroke=\"#000000\" points=\"102.5001,-228.1043 99,-218.1043 95.5001,-228.1044 102.5001,-228.1043\"/>\n</g>\n<!-- 139714172494792 -->\n<g id=\"node13\" class=\"node\">\n<title>139714172494792</title>\n<polygon fill=\"#d3d3d3\" stroke=\"#000000\" points=\"126,-351.5 72,-351.5 72,-330.5 126,-330.5 126,-351.5\"/>\n<text text-anchor=\"middle\" x=\"99\" y=\"-337.9\" font-family=\"Times,serif\" font-size=\"12.00\" fill=\"#000000\">Add</text>\n</g>\n<!-- 139714172494792&#45;&gt;139714172496472 -->\n<g id=\"edge12\" class=\"edge\">\n<title>139714172494792&#45;&gt;139714172496472</title>\n<path fill=\"none\" stroke=\"#000000\" d=\"M99,-330.3685C99,-321.8473 99,-309.5003 99,-298.2707\"/>\n<polygon fill=\"#000000\" stroke=\"#000000\" points=\"102.5001,-298.0078 99,-288.0079 95.5001,-298.0079 102.5001,-298.0078\"/>\n</g>\n<!-- 139714172496416&#45;&gt;139714172494792 -->\n<g id=\"edge13\" class=\"edge\">\n<title>139714172496416&#45;&gt;139714172494792</title>\n<path fill=\"none\" stroke=\"#000000\" d=\"M136.2681,-520.66C134.5213,-497.2504 129.3774,-440.3384 118,-394 115.2956,-382.9853 111.1395,-371.0675 107.4032,-361.3279\"/>\n<polygon fill=\"#000000\" stroke=\"#000000\" points=\"110.5471,-359.7615 103.6023,-351.7602 104.0416,-362.3459 110.5471,-359.7615\"/>\n</g>\n<!-- 139714172496192&#45;&gt;139714172494792 -->\n<g id=\"edge15\" class=\"edge\">\n<title>139714172496192&#45;&gt;139714172494792</title>\n<path fill=\"none\" stroke=\"#000000\" d=\"M84.8838,-393.7281C87.2426,-384.9174 90.6458,-372.2055 93.5196,-361.4708\"/>\n<polygon fill=\"#000000\" stroke=\"#000000\" points=\"96.9535,-362.1778 96.1588,-351.6128 90.1917,-360.3675 96.9535,-362.1778\"/>\n</g>\n</g>\n</svg>\n"
          },
          "metadata": {
            "tags": []
          },
          "execution_count": 128
        }
      ]
    },
    {
      "cell_type": "markdown",
      "metadata": {
        "deletable": false,
        "editable": false,
        "id": "CcX0Da52wj2-"
      },
      "source": [
        "<!-- BEGIN QUESTION -->\n",
        "\n",
        "---\n",
        "\n",
        "**Question:** This time, find the formula for $\\frac{\\partial L(\\vect{U}, \\vect{V}, \\vect{W}, x_1, x_2, x_3, h_0)}{\\partial \\vect{U}}$, the derivative of the loss $L$ with respect to the parameter $\\vect{U}$ in terms of $\\frac{\\partial L(o_1, o_2, x_2, x_3)}{\\partial o_t}$, $\\frac{\\partial o_t( \\vect{W}, h_t)}{\\partial h_t}$, $\\frac{\\partial h_2(\\vect{U}, \\vect{V}, h_1, x_2)}{\\partial h_1}$, and $\\frac{\\partial h_t(\\vect{U}, \\vect{V}, h_{t-1}, x_t)}{\\partial \\vect{U}}$ for $t \\in \\{1,2\\}$. You might find the above computation graph useful.\n",
        "\n",
        "> How many possible paths are there in the computation graph from $\\vect{U}$ to $L$? Each path corresponds to a term in the final answer.\n",
        "\n",
        "> Hint: when we take $\\frac{\\partial h_2(\\vect{U}, \\vect{V}, h_1, x_2)}{\\partial \\vect{U}}$, we are holding other arguments (other than $\\vect{U}$) as constants, such as $h_1$. Therefore, $\\frac{\\partial h_2}{\\partial \\vect{U}}$ does not reflect the path through $h_1$ that $\\vect{U}$ can also exert influence on $h_2$: $\\vect{U} \\to h_1 \\to h_2$.\n",
        "\n",
        "<!--\n",
        "BEGIN QUESTION\n",
        "name: open_response_backprop2\n",
        "manual: true\n",
        "-->"
      ]
    },
    {
      "cell_type": "markdown",
      "metadata": {
        "id": "2QBVh_I8wj2-"
      },
      "source": [
        "* a little notation fix: U should be dU in the derivatives section.\n",
        "\n",
        "We can notice that the total loss can be expressed in the following way (in that way it is a little bit more simple to follow all the components of the derivatives and the pathes):\n",
        "\n",
        "* Explanation: we can look at the different pathes according to the loss w.r.t the timestamp. So for one input there is only one time stamp and x_2 as the label. With two inputs we can look at the loss w.r.t the first timestamp and then the second, where the first contains only one path, the second is influenced by the current h and the previous, and so on, so the losses are accumulated, and the pathes are also can be \"devided\" appropriately to the loss at each timpestamp.\n",
        "![image.png](data:image/png;base64,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)\n",
        "\n",
        "this way, let's calculate all the L_i's:\n",
        "![image.png](data:image/png;base64,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)\n",
        "\n",
        "![image.png](data:image/png;base64,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)\n",
        "\n",
        "\n",
        "And the whole gradient will be the sum of both (the path which is expressed by the previous term and the 2 pathes represented by two derivative terms, which summarized, in the loss which belongs to the second timestamp).\n",
        "\n",
        "* f is the element-wise function which gives the value 1 if the corresponding element (in our cases the element of the sum of the multiplications of the vectors/matrices) bigger then 0, 0 otherwise. This notation also used next and previously was explained also.\n",
        "\n"
      ]
    },
    {
      "cell_type": "markdown",
      "metadata": {
        "id": "JVDyCWFOwj3A"
      },
      "source": [
        "<!-- END QUESTION -->\n",
        "\n",
        "\n",
        "\n",
        "---\n",
        "## Bonus section: \n",
        "\n",
        "> **This section is more challenging in nature and is therefore a bonus.**\n",
        "\n"
      ]
    },
    {
      "cell_type": "markdown",
      "metadata": {
        "deletable": false,
        "editable": false,
        "id": "bxVJzNr2wj3A"
      },
      "source": [
        "<!-- BEGIN QUESTION -->\n",
        "\n",
        "\n",
        "Above, you worked out the solution for implementing a bigram model for a two-word vocabulary as an RNN. But the construction can be generalized for bigram models over vocabularies of arbitrary size, say, $N$ word types.\n",
        "\n",
        "<!--\n",
        "BEGIN QUESTION\n",
        "name: open_response_bigram\n",
        "manual: true\n",
        "-->\n",
        "\n",
        "---\n",
        "\n",
        "**Question:** \n",
        "In general, given a transition matrix $T_{N\\times N}$, what would be the activation function $\\sigma$ and the parameters $\\vect{U}$, $\\vect{V}$, and $\\vect{W}$,  of an RNN that outputs $T_i$ given $v_i$ as an input?"
      ]
    },
    {
      "cell_type": "markdown",
      "metadata": {
        "id": "JjyMZUcKwj3B"
      },
      "source": [
        "_Type your answer here, replacing this text._"
      ]
    },
    {
      "cell_type": "markdown",
      "metadata": {
        "id": "lpSXzRYowj3B"
      },
      "source": [
        "<!-- END QUESTION -->\n",
        "\n",
        "\n",
        "\n",
        "### RNN backprop on short sequences\n",
        "\n",
        "For the penultimate backprop challenge, consider an RNN run on an input sequence of length 3. This RNN's output sequence $o$ will consist of $o_1$, $o_2$, and $o_3$.\n",
        "\n",
        "Let's look at the computation graph. How many possible paths are there from $\\vect{U}$ to $L$? How many $h$ elements are there in each path?"
      ]
    },
    {
      "cell_type": "code",
      "metadata": {
        "colab": {
          "base_uri": "https://localhost:8080/",
          "height": 1000
        },
        "id": "DiqykIExwj3B",
        "outputId": "9ad55ad1-f141-446c-8101-5d6678167e35"
      },
      "source": [
        "# RNN parameters\n",
        "U_ = torch.Tensor([0.1])\n",
        "V_ = torch.Tensor([0.2])\n",
        "W_ = torch.Tensor([0.3])\n",
        "\n",
        "# inputs\n",
        "x1_ = torch.Tensor([0.5])\n",
        "x2_ = torch.Tensor([0.6])\n",
        "x3_ = torch.Tensor([0.7])\n",
        "x4_ = torch.Tensor([0.8])\n",
        "\n",
        "# initial value for the hidden state, a zero vector\n",
        "h0_ = torch.Tensor([0])\n",
        "\n",
        "# Set which nodes to visualize later\n",
        "visualized_nodes = [U_, ]\n",
        "for p in visualized_nodes:\n",
        "    p.requires_grad = True\n",
        "\n",
        "# Calculate h1, o1\n",
        "h1_ = torch.clamp(U_ * x1_ + V_ * h0_, min=0)\n",
        "h2_ = torch.clamp(U_ * x2_ + V_ * h1_, min=0)\n",
        "h3_ = torch.clamp(U_ * x3_ + V_ * h2_, min=0)\n",
        "o3_ = W_ * h3_\n",
        "o2_ = W_ * h2_\n",
        "o1_ = W_ * h1_\n",
        "\n",
        "L_ = (o1_ - x2_)**2 + (o2_ - x3_)**2 + (o3_ - x4_)**2\n",
        "\n",
        "params = {k: eval(k+'_') for k in ['L', 'U', 'h1', 'o1', 'h2', 'o2', 'h3', 'o3']}\n",
        "\n",
        "dot = make_dot(L_, params=params)\n",
        "# Save Graph to `computation_graph_3.pdf`\n",
        "dot.render('computation_graph_3')\n",
        "dot"
      ],
      "execution_count": 129,
      "outputs": [
        {
          "output_type": "execute_result",
          "data": {
            "text/plain": [
              "<graphviz.dot.Digraph at 0x7f11bdac8cc0>"
            ],
            "image/svg+xml": "<?xml version=\"1.0\" encoding=\"UTF-8\" standalone=\"no\"?>\n<!DOCTYPE svg PUBLIC \"-//W3C//DTD SVG 1.1//EN\"\n \"http://www.w3.org/Graphics/SVG/1.1/DTD/svg11.dtd\">\n<!-- Generated by graphviz version 2.40.1 (20161225.0304)\n -->\n<!-- Title: %3 Pages: 1 -->\n<svg width=\"244pt\" height=\"861pt\"\n viewBox=\"0.00 0.00 244.00 861.00\" xmlns=\"http://www.w3.org/2000/svg\" xmlns:xlink=\"http://www.w3.org/1999/xlink\">\n<g id=\"graph0\" class=\"graph\" transform=\"scale(1 1) rotate(0) translate(4 857)\">\n<title>%3</title>\n<polygon fill=\"#ffffff\" stroke=\"transparent\" points=\"-4,4 -4,-857 240,-857 240,4 -4,4\"/>\n<!-- 139714186528304 -->\n<g id=\"node1\" class=\"node\">\n<title>139714186528304</title>\n<polygon fill=\"#caff70\" stroke=\"#000000\" points=\"144,-34 90,-34 90,0 144,0 144,-34\"/>\n<text text-anchor=\"middle\" x=\"117\" y=\"-20.4\" font-family=\"Times,serif\" font-size=\"12.00\" fill=\"#000000\">Add</text>\n<text text-anchor=\"middle\" x=\"117\" y=\"-7.4\" font-family=\"Times,serif\" font-size=\"12.00\" fill=\"#000000\">L</text>\n</g>\n<!-- 139714173371616 -->\n<g id=\"node2\" class=\"node\">\n<title>139714173371616</title>\n<polygon fill=\"#d3d3d3\" stroke=\"#000000\" points=\"109,-211.5 55,-211.5 55,-190.5 109,-190.5 109,-211.5\"/>\n<text text-anchor=\"middle\" x=\"82\" y=\"-197.9\" font-family=\"Times,serif\" font-size=\"12.00\" fill=\"#000000\">Add</text>\n</g>\n<!-- 139714173371616&#45;&gt;139714186528304 -->\n<g id=\"edge1\" class=\"edge\">\n<title>139714173371616&#45;&gt;139714186528304</title>\n<path fill=\"none\" stroke=\"#000000\" d=\"M84.033,-190.3121C89.3881,-162.1596 104.008,-85.3007 111.8568,-44.0384\"/>\n<polygon fill=\"#000000\" stroke=\"#000000\" points=\"115.3116,-44.6056 113.742,-34.1277 108.4349,-43.2974 115.3116,-44.6056\"/>\n</g>\n<!-- 139714173373352 -->\n<g id=\"node3\" class=\"node\">\n<title>139714173373352</title>\n<polygon fill=\"#d3d3d3\" stroke=\"#000000\" points=\"54,-478.5 0,-478.5 0,-457.5 54,-457.5 54,-478.5\"/>\n<text text-anchor=\"middle\" x=\"27\" y=\"-464.9\" font-family=\"Times,serif\" font-size=\"12.00\" fill=\"#000000\">Pow</text>\n</g>\n<!-- 139714173373352&#45;&gt;139714173371616 -->\n<g id=\"edge2\" class=\"edge\">\n<title>139714173373352&#45;&gt;139714173371616</title>\n<path fill=\"none\" stroke=\"#000000\" d=\"M26.104,-457.3588C23.7976,-425.4382 19.561,-328.1268 46,-254 50.4059,-241.6471 58.3899,-229.4304 65.7214,-219.8447\"/>\n<polygon fill=\"#000000\" stroke=\"#000000\" points=\"68.6093,-221.8386 72.1497,-211.8527 63.1548,-217.4513 68.6093,-221.8386\"/>\n</g>\n<!-- 139714173370720 -->\n<g id=\"node4\" class=\"node\">\n<title>139714173370720</title>\n<polygon fill=\"#d3d3d3\" stroke=\"#000000\" points=\"54,-542 0,-542 0,-521 54,-521 54,-542\"/>\n<text text-anchor=\"middle\" x=\"27\" y=\"-528.4\" font-family=\"Times,serif\" font-size=\"12.00\" fill=\"#000000\">Sub</text>\n</g>\n<!-- 139714173370720&#45;&gt;139714173373352 -->\n<g id=\"edge3\" class=\"edge\">\n<title>139714173370720&#45;&gt;139714173373352</title>\n<path fill=\"none\" stroke=\"#000000\" d=\"M27,-520.7281C27,-512.0091 27,-499.4699 27,-488.8068\"/>\n<polygon fill=\"#000000\" stroke=\"#000000\" points=\"30.5001,-488.6128 27,-478.6128 23.5001,-488.6129 30.5001,-488.6128\"/>\n</g>\n<!-- 139714186527632 -->\n<g id=\"node5\" class=\"node\">\n<title>139714186527632</title>\n<polygon fill=\"#add8e6\" stroke=\"#000000\" points=\"54,-612 0,-612 0,-578 54,-578 54,-612\"/>\n<text text-anchor=\"middle\" x=\"27\" y=\"-598.4\" font-family=\"Times,serif\" font-size=\"12.00\" fill=\"#000000\">Mul</text>\n<text text-anchor=\"middle\" x=\"27\" y=\"-585.4\" font-family=\"Times,serif\" font-size=\"12.00\" fill=\"#000000\">o1</text>\n</g>\n<!-- 139714186527632&#45;&gt;139714173370720 -->\n<g id=\"edge4\" class=\"edge\">\n<title>139714186527632&#45;&gt;139714173370720</title>\n<path fill=\"none\" stroke=\"#000000\" d=\"M27,-577.9832C27,-570.1157 27,-560.6973 27,-552.4019\"/>\n<polygon fill=\"#000000\" stroke=\"#000000\" points=\"30.5001,-552.3686 27,-542.3687 23.5001,-552.3687 30.5001,-552.3686\"/>\n</g>\n<!-- 139714186530656 -->\n<g id=\"node6\" class=\"node\">\n<title>139714186530656</title>\n<polygon fill=\"#add8e6\" stroke=\"#000000\" points=\"109,-682 55,-682 55,-648 109,-648 109,-682\"/>\n<text text-anchor=\"middle\" x=\"82\" y=\"-668.4\" font-family=\"Times,serif\" font-size=\"12.00\" fill=\"#000000\">Clamp</text>\n<text text-anchor=\"middle\" x=\"82\" y=\"-655.4\" font-family=\"Times,serif\" font-size=\"12.00\" fill=\"#000000\">h1</text>\n</g>\n<!-- 139714186530656&#45;&gt;139714186527632 -->\n<g id=\"edge5\" class=\"edge\">\n<title>139714186530656&#45;&gt;139714186527632</title>\n<path fill=\"none\" stroke=\"#000000\" d=\"M68.4045,-647.6966C61.8773,-639.3893 53.932,-629.2771 46.7534,-620.1407\"/>\n<polygon fill=\"#000000\" stroke=\"#000000\" points=\"49.3695,-617.8051 40.4391,-612.1043 43.8653,-622.1299 49.3695,-617.8051\"/>\n</g>\n<!-- 139714173372344 -->\n<g id=\"node16\" class=\"node\">\n<title>139714173372344</title>\n<polygon fill=\"#d3d3d3\" stroke=\"#000000\" points=\"126,-605.5 72,-605.5 72,-584.5 126,-584.5 126,-605.5\"/>\n<text text-anchor=\"middle\" x=\"99\" y=\"-591.9\" font-family=\"Times,serif\" font-size=\"12.00\" fill=\"#000000\">Mul</text>\n</g>\n<!-- 139714186530656&#45;&gt;139714173372344 -->\n<g id=\"edge17\" class=\"edge\">\n<title>139714186530656&#45;&gt;139714173372344</title>\n<path fill=\"none\" stroke=\"#000000\" d=\"M86.2022,-647.6966C88.5666,-637.9609 91.5331,-625.7461 94.0145,-615.5285\"/>\n<polygon fill=\"#000000\" stroke=\"#000000\" points=\"97.4204,-616.3348 96.3793,-605.7913 90.6181,-614.6828 97.4204,-616.3348\"/>\n</g>\n<!-- 139714173372456 -->\n<g id=\"node7\" class=\"node\">\n<title>139714173372456</title>\n<polygon fill=\"#d3d3d3\" stroke=\"#000000\" points=\"114,-739 60,-739 60,-718 114,-718 114,-739\"/>\n<text text-anchor=\"middle\" x=\"87\" y=\"-725.4\" font-family=\"Times,serif\" font-size=\"12.00\" fill=\"#000000\">Add</text>\n</g>\n<!-- 139714173372456&#45;&gt;139714186530656 -->\n<g id=\"edge6\" class=\"edge\">\n<title>139714173372456&#45;&gt;139714186530656</title>\n<path fill=\"none\" stroke=\"#000000\" d=\"M86.1518,-717.7281C85.5991,-710.7087 84.8514,-701.2132 84.1428,-692.2141\"/>\n<polygon fill=\"#000000\" stroke=\"#000000\" points=\"87.6173,-691.7503 83.343,-682.056 80.6389,-692.2999 87.6173,-691.7503\"/>\n</g>\n<!-- 139714173372624 -->\n<g id=\"node8\" class=\"node\">\n<title>139714173372624</title>\n<polygon fill=\"#d3d3d3\" stroke=\"#000000\" points=\"122,-796 68,-796 68,-775 122,-775 122,-796\"/>\n<text text-anchor=\"middle\" x=\"95\" y=\"-782.4\" font-family=\"Times,serif\" font-size=\"12.00\" fill=\"#000000\">Mul</text>\n</g>\n<!-- 139714173372624&#45;&gt;139714173372456 -->\n<g id=\"edge7\" class=\"edge\">\n<title>139714173372624&#45;&gt;139714173372456</title>\n<path fill=\"none\" stroke=\"#000000\" d=\"M93.4953,-774.7787C92.4896,-767.6134 91.1336,-757.9517 89.9207,-749.3097\"/>\n<polygon fill=\"#000000\" stroke=\"#000000\" points=\"93.354,-748.5896 88.498,-739.1732 86.4219,-749.5626 93.354,-748.5896\"/>\n</g>\n<!-- 139714173371000 -->\n<g id=\"node9\" class=\"node\">\n<title>139714173371000</title>\n<polygon fill=\"#add8e6\" stroke=\"#000000\" points=\"181,-853 127,-853 127,-832 181,-832 181,-853\"/>\n<text text-anchor=\"middle\" x=\"154\" y=\"-839.4\" font-family=\"Times,serif\" font-size=\"12.00\" fill=\"#000000\">U</text>\n</g>\n<!-- 139714173371000&#45;&gt;139714173372624 -->\n<g id=\"edge8\" class=\"edge\">\n<title>139714173371000&#45;&gt;139714173372624</title>\n<path fill=\"none\" stroke=\"#000000\" d=\"M142.9026,-831.7787C134.5793,-823.7376 123.0019,-812.5527 113.3139,-803.1931\"/>\n<polygon fill=\"#000000\" stroke=\"#000000\" points=\"115.6715,-800.6042 106.0477,-796.1732 110.8078,-805.6385 115.6715,-800.6042\"/>\n</g>\n<!-- 139714173370552 -->\n<g id=\"node15\" class=\"node\">\n<title>139714173370552</title>\n<polygon fill=\"#d3d3d3\" stroke=\"#000000\" points=\"181,-675.5 127,-675.5 127,-654.5 181,-654.5 181,-675.5\"/>\n<text text-anchor=\"middle\" x=\"154\" y=\"-661.9\" font-family=\"Times,serif\" font-size=\"12.00\" fill=\"#000000\">Mul</text>\n</g>\n<!-- 139714173371000&#45;&gt;139714173370552 -->\n<g id=\"edge15\" class=\"edge\">\n<title>139714173371000&#45;&gt;139714173370552</title>\n<path fill=\"none\" stroke=\"#000000\" d=\"M154,-831.9281C154,-803.3854 154,-724.3481 154,-686.1747\"/>\n<polygon fill=\"#000000\" stroke=\"#000000\" points=\"157.5001,-685.7409 154,-675.7409 150.5001,-685.7409 157.5001,-685.7409\"/>\n</g>\n<!-- 139714173371672 -->\n<g id=\"node22\" class=\"node\">\n<title>139714173371672</title>\n<polygon fill=\"#d3d3d3\" stroke=\"#000000\" points=\"236,-739 182,-739 182,-718 236,-718 236,-739\"/>\n<text text-anchor=\"middle\" x=\"209\" y=\"-725.4\" font-family=\"Times,serif\" font-size=\"12.00\" fill=\"#000000\">Mul</text>\n</g>\n<!-- 139714173371000&#45;&gt;139714173371672 -->\n<g id=\"edge24\" class=\"edge\">\n<title>139714173371000&#45;&gt;139714173371672</title>\n<path fill=\"none\" stroke=\"#000000\" d=\"M159.0757,-831.9795C168.2379,-812.9888 187.6757,-772.6995 199.4111,-748.3751\"/>\n<polygon fill=\"#000000\" stroke=\"#000000\" points=\"202.5831,-749.8551 203.7761,-739.3276 196.2785,-746.8133 202.5831,-749.8551\"/>\n</g>\n<!-- 139714173373520 -->\n<g id=\"node10\" class=\"node\">\n<title>139714173373520</title>\n<polygon fill=\"#d3d3d3\" stroke=\"#000000\" points=\"109,-281.5 55,-281.5 55,-260.5 109,-260.5 109,-281.5\"/>\n<text text-anchor=\"middle\" x=\"82\" y=\"-267.9\" font-family=\"Times,serif\" font-size=\"12.00\" fill=\"#000000\">Pow</text>\n</g>\n<!-- 139714173373520&#45;&gt;139714173371616 -->\n<g id=\"edge9\" class=\"edge\">\n<title>139714173373520&#45;&gt;139714173371616</title>\n<path fill=\"none\" stroke=\"#000000\" d=\"M82,-260.3685C82,-250.1925 82,-234.5606 82,-221.8912\"/>\n<polygon fill=\"#000000\" stroke=\"#000000\" points=\"85.5001,-221.7315 82,-211.7315 78.5001,-221.7316 85.5001,-221.7315\"/>\n</g>\n<!-- 139714173372960 -->\n<g id=\"node11\" class=\"node\">\n<title>139714173372960</title>\n<polygon fill=\"#d3d3d3\" stroke=\"#000000\" points=\"109,-345 55,-345 55,-324 109,-324 109,-345\"/>\n<text text-anchor=\"middle\" x=\"82\" y=\"-331.4\" font-family=\"Times,serif\" font-size=\"12.00\" fill=\"#000000\">Sub</text>\n</g>\n<!-- 139714173372960&#45;&gt;139714173373520 -->\n<g id=\"edge10\" class=\"edge\">\n<title>139714173372960&#45;&gt;139714173373520</title>\n<path fill=\"none\" stroke=\"#000000\" d=\"M82,-323.7281C82,-315.0091 82,-302.4699 82,-291.8068\"/>\n<polygon fill=\"#000000\" stroke=\"#000000\" points=\"85.5001,-291.6128 82,-281.6128 78.5001,-291.6129 85.5001,-291.6128\"/>\n</g>\n<!-- 139714186529424 -->\n<g id=\"node12\" class=\"node\">\n<title>139714186529424</title>\n<polygon fill=\"#add8e6\" stroke=\"#000000\" points=\"109,-415 55,-415 55,-381 109,-381 109,-415\"/>\n<text text-anchor=\"middle\" x=\"82\" y=\"-401.4\" font-family=\"Times,serif\" font-size=\"12.00\" fill=\"#000000\">Mul</text>\n<text text-anchor=\"middle\" x=\"82\" y=\"-388.4\" font-family=\"Times,serif\" font-size=\"12.00\" fill=\"#000000\">o2</text>\n</g>\n<!-- 139714186529424&#45;&gt;139714173372960 -->\n<g id=\"edge11\" class=\"edge\">\n<title>139714186529424&#45;&gt;139714173372960</title>\n<path fill=\"none\" stroke=\"#000000\" d=\"M82,-380.9832C82,-373.1157 82,-363.6973 82,-355.4019\"/>\n<polygon fill=\"#000000\" stroke=\"#000000\" points=\"85.5001,-355.3686 82,-345.3687 78.5001,-355.3687 85.5001,-355.3686\"/>\n</g>\n<!-- 139714186526848 -->\n<g id=\"node13\" class=\"node\">\n<title>139714186526848</title>\n<polygon fill=\"#add8e6\" stroke=\"#000000\" points=\"154,-485 100,-485 100,-451 154,-451 154,-485\"/>\n<text text-anchor=\"middle\" x=\"127\" y=\"-471.4\" font-family=\"Times,serif\" font-size=\"12.00\" fill=\"#000000\">Clamp</text>\n<text text-anchor=\"middle\" x=\"127\" y=\"-458.4\" font-family=\"Times,serif\" font-size=\"12.00\" fill=\"#000000\">h2</text>\n</g>\n<!-- 139714186526848&#45;&gt;139714186529424 -->\n<g id=\"edge12\" class=\"edge\">\n<title>139714186526848&#45;&gt;139714186529424</title>\n<path fill=\"none\" stroke=\"#000000\" d=\"M115.8764,-450.6966C110.645,-442.5589 104.3001,-432.689 98.5222,-423.7013\"/>\n<polygon fill=\"#000000\" stroke=\"#000000\" points=\"101.3474,-421.6235 92.9956,-415.1043 95.4591,-425.4088 101.3474,-421.6235\"/>\n</g>\n<!-- 139714173371280 -->\n<g id=\"node23\" class=\"node\">\n<title>139714173371280</title>\n<polygon fill=\"#d3d3d3\" stroke=\"#000000\" points=\"181,-408.5 127,-408.5 127,-387.5 181,-387.5 181,-408.5\"/>\n<text text-anchor=\"middle\" x=\"154\" y=\"-394.9\" font-family=\"Times,serif\" font-size=\"12.00\" fill=\"#000000\">Mul</text>\n</g>\n<!-- 139714186526848&#45;&gt;139714173371280 -->\n<g id=\"edge26\" class=\"edge\">\n<title>139714186526848&#45;&gt;139714173371280</title>\n<path fill=\"none\" stroke=\"#000000\" d=\"M133.6742,-450.6966C137.4689,-440.8584 142.2401,-428.4887 146.2061,-418.2065\"/>\n<polygon fill=\"#000000\" stroke=\"#000000\" points=\"149.5044,-419.3809 149.8377,-408.7913 142.9734,-416.8617 149.5044,-419.3809\"/>\n</g>\n<!-- 139714173374360 -->\n<g id=\"node14\" class=\"node\">\n<title>139714173374360</title>\n<polygon fill=\"#d3d3d3\" stroke=\"#000000\" points=\"154,-542 100,-542 100,-521 154,-521 154,-542\"/>\n<text text-anchor=\"middle\" x=\"127\" y=\"-528.4\" font-family=\"Times,serif\" font-size=\"12.00\" fill=\"#000000\">Add</text>\n</g>\n<!-- 139714173374360&#45;&gt;139714186526848 -->\n<g id=\"edge13\" class=\"edge\">\n<title>139714173374360&#45;&gt;139714186526848</title>\n<path fill=\"none\" stroke=\"#000000\" d=\"M127,-520.7281C127,-513.7087 127,-504.2132 127,-495.2141\"/>\n<polygon fill=\"#000000\" stroke=\"#000000\" points=\"130.5001,-495.0559 127,-485.056 123.5001,-495.056 130.5001,-495.0559\"/>\n</g>\n<!-- 139714173370552&#45;&gt;139714173374360 -->\n<g id=\"edge14\" class=\"edge\">\n<title>139714173370552&#45;&gt;139714173374360</title>\n<path fill=\"none\" stroke=\"#000000\" d=\"M151.7905,-654.0751C147.2986,-631.8651 137.0353,-581.1191 131.221,-552.3703\"/>\n<polygon fill=\"#000000\" stroke=\"#000000\" points=\"134.5775,-551.3104 129.1646,-542.2027 127.7165,-552.6981 134.5775,-551.3104\"/>\n</g>\n<!-- 139714173372344&#45;&gt;139714173374360 -->\n<g id=\"edge16\" class=\"edge\">\n<title>139714173372344&#45;&gt;139714173374360</title>\n<path fill=\"none\" stroke=\"#000000\" d=\"M103.7498,-584.2281C107.7158,-575.2338 113.4744,-562.1741 118.2682,-551.3025\"/>\n<polygon fill=\"#000000\" stroke=\"#000000\" points=\"121.4881,-552.6749 122.3203,-542.1128 115.0832,-549.8507 121.4881,-552.6749\"/>\n</g>\n<!-- 139714173373240 -->\n<g id=\"node17\" class=\"node\">\n<title>139714173373240</title>\n<polygon fill=\"#d3d3d3\" stroke=\"#000000\" points=\"176,-91 122,-91 122,-70 176,-70 176,-91\"/>\n<text text-anchor=\"middle\" x=\"149\" y=\"-77.4\" font-family=\"Times,serif\" font-size=\"12.00\" fill=\"#000000\">Pow</text>\n</g>\n<!-- 139714173373240&#45;&gt;139714186528304 -->\n<g id=\"edge18\" class=\"edge\">\n<title>139714173373240&#45;&gt;139714186528304</title>\n<path fill=\"none\" stroke=\"#000000\" d=\"M143.5716,-69.7281C139.8805,-62.4035 134.8307,-52.3828 130.1242,-43.0433\"/>\n<polygon fill=\"#000000\" stroke=\"#000000\" points=\"133.221,-41.411 125.5951,-34.056 126.9699,-44.5613 133.221,-41.411\"/>\n</g>\n<!-- 139714173371112 -->\n<g id=\"node18\" class=\"node\">\n<title>139714173371112</title>\n<polygon fill=\"#d3d3d3\" stroke=\"#000000\" points=\"178,-148 124,-148 124,-127 178,-127 178,-148\"/>\n<text text-anchor=\"middle\" x=\"151\" y=\"-134.4\" font-family=\"Times,serif\" font-size=\"12.00\" fill=\"#000000\">Sub</text>\n</g>\n<!-- 139714173371112&#45;&gt;139714173373240 -->\n<g id=\"edge19\" class=\"edge\">\n<title>139714173371112&#45;&gt;139714173373240</title>\n<path fill=\"none\" stroke=\"#000000\" d=\"M150.6238,-126.7787C150.3724,-119.6134 150.0334,-109.9517 149.7302,-101.3097\"/>\n<polygon fill=\"#000000\" stroke=\"#000000\" points=\"153.2231,-101.0443 149.3745,-91.1732 146.2274,-101.2898 153.2231,-101.0443\"/>\n</g>\n<!-- 139714173371784 -->\n<g id=\"node19\" class=\"node\">\n<title>139714173371784</title>\n<polygon fill=\"#add8e6\" stroke=\"#000000\" points=\"181,-218 127,-218 127,-184 181,-184 181,-218\"/>\n<text text-anchor=\"middle\" x=\"154\" y=\"-204.4\" font-family=\"Times,serif\" font-size=\"12.00\" fill=\"#000000\">Mul</text>\n<text text-anchor=\"middle\" x=\"154\" y=\"-191.4\" font-family=\"Times,serif\" font-size=\"12.00\" fill=\"#000000\">o3</text>\n</g>\n<!-- 139714173371784&#45;&gt;139714173371112 -->\n<g id=\"edge20\" class=\"edge\">\n<title>139714173371784&#45;&gt;139714173371112</title>\n<path fill=\"none\" stroke=\"#000000\" d=\"M153.1961,-183.9832C152.8244,-176.1157 152.3794,-166.6973 151.9875,-158.4019\"/>\n<polygon fill=\"#000000\" stroke=\"#000000\" points=\"155.4816,-158.1923 151.5135,-148.3687 148.4894,-158.5227 155.4816,-158.1923\"/>\n</g>\n<!-- 139714173374024 -->\n<g id=\"node20\" class=\"node\">\n<title>139714173374024</title>\n<polygon fill=\"#add8e6\" stroke=\"#000000\" points=\"181,-288 127,-288 127,-254 181,-254 181,-288\"/>\n<text text-anchor=\"middle\" x=\"154\" y=\"-274.4\" font-family=\"Times,serif\" font-size=\"12.00\" fill=\"#000000\">Clamp</text>\n<text text-anchor=\"middle\" x=\"154\" y=\"-261.4\" font-family=\"Times,serif\" font-size=\"12.00\" fill=\"#000000\">h3</text>\n</g>\n<!-- 139714173374024&#45;&gt;139714173371784 -->\n<g id=\"edge21\" class=\"edge\">\n<title>139714173374024&#45;&gt;139714173371784</title>\n<path fill=\"none\" stroke=\"#000000\" d=\"M154,-253.6966C154,-245.9827 154,-236.7125 154,-228.1124\"/>\n<polygon fill=\"#000000\" stroke=\"#000000\" points=\"157.5001,-228.1043 154,-218.1043 150.5001,-228.1044 157.5001,-228.1043\"/>\n</g>\n<!-- 139714173371952 -->\n<g id=\"node21\" class=\"node\">\n<title>139714173371952</title>\n<polygon fill=\"#d3d3d3\" stroke=\"#000000\" points=\"181,-345 127,-345 127,-324 181,-324 181,-345\"/>\n<text text-anchor=\"middle\" x=\"154\" y=\"-331.4\" font-family=\"Times,serif\" font-size=\"12.00\" fill=\"#000000\">Add</text>\n</g>\n<!-- 139714173371952&#45;&gt;139714173374024 -->\n<g id=\"edge22\" class=\"edge\">\n<title>139714173371952&#45;&gt;139714173374024</title>\n<path fill=\"none\" stroke=\"#000000\" d=\"M154,-323.7281C154,-316.7087 154,-307.2132 154,-298.2141\"/>\n<polygon fill=\"#000000\" stroke=\"#000000\" points=\"157.5001,-298.0559 154,-288.056 150.5001,-298.056 157.5001,-298.0559\"/>\n</g>\n<!-- 139714173371672&#45;&gt;139714173371952 -->\n<g id=\"edge23\" class=\"edge\">\n<title>139714173371672&#45;&gt;139714173371952</title>\n<path fill=\"none\" stroke=\"#000000\" d=\"M209,-717.7712C209,-695.1017 209,-640.6589 209,-595 209,-595 209,-595 209,-468 209,-428.422 206.7471,-416.8602 190,-381 185.2547,-370.8389 177.9537,-360.8366 171.1639,-352.7276\"/>\n<polygon fill=\"#000000\" stroke=\"#000000\" points=\"173.6328,-350.235 164.4017,-345.0352 168.3754,-354.8566 173.6328,-350.235\"/>\n</g>\n<!-- 139714173371280&#45;&gt;139714173371952 -->\n<g id=\"edge25\" class=\"edge\">\n<title>139714173371280&#45;&gt;139714173371952</title>\n<path fill=\"none\" stroke=\"#000000\" d=\"M154,-387.2281C154,-378.5091 154,-365.9699 154,-355.3068\"/>\n<polygon fill=\"#000000\" stroke=\"#000000\" points=\"157.5001,-355.1128 154,-345.1128 150.5001,-355.1129 157.5001,-355.1128\"/>\n</g>\n</g>\n</svg>\n"
          },
          "metadata": {
            "tags": []
          },
          "execution_count": 129
        }
      ]
    },
    {
      "cell_type": "markdown",
      "metadata": {
        "deletable": false,
        "editable": false,
        "id": "UhQsNZ-pwj3B"
      },
      "source": [
        "<!-- BEGIN QUESTION -->\n",
        "\n",
        "---\n",
        "\n",
        "**Question:** This time, find the formula for $\\frac{\\partial L(\\vect{U}, \\vect{V}, \\vect{W}, x_1, x_2, x_3, x_4, h_0)}{\\partial \\vect{U}}$ in terms of $\\frac{\\partial L(o_1,o_2,o_3,x_2,x_3,x_{4})}{\\partial o_t}$, $\\frac{\\partial o_t(\\vect{W}, h_t)}{\\partial h_t}$, $\\frac{\\partial h_t(\\vect{U}, \\vect{V}, h_{t-1}, x_t)}{\\partial h_{t-1}}$, and $\\frac{\\partial h_t(\\vect{U}, \\vect{V}, h_{t-1}, x_t)}{\\partial \\vect{U}}$ for $t \\in \\{1, 2, 3\\}$.\n",
        "\n",
        "> You should start to see a pattern emerging from this solution.\n",
        "\n",
        "<!--\n",
        "BEGIN QUESTION\n",
        "name: open_response_backprop3\n",
        "manual: true\n",
        "-->"
      ]
    },
    {
      "cell_type": "markdown",
      "metadata": {
        "id": "fkmChcsfwj3B"
      },
      "source": [
        "![image.png](data:image/png;base64,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)\n",
        "\n",
        "and the whole answer will be the sum of this loss with the two previous calculated in the previous section (before the bonus)\n",
        "\n",
        "for the fullness an important it holds that:\n",
        "![image.png](data:image/png;base64,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)\n",
        "\n",
        "\n"
      ]
    },
    {
      "cell_type": "markdown",
      "metadata": {
        "deletable": false,
        "editable": false,
        "id": "NTRfLsd-wj3B"
      },
      "source": [
        "<!-- END QUESTION -->\n",
        "\n",
        "<!-- BEGIN QUESTION -->\n",
        "\n",
        "---\n",
        "\n",
        "### Looking back\n",
        "\n",
        "In the last few problems your answers were in terms of partial derivatives that we gave you. In this exercise you will calculate part of a partial derivative.\n",
        "\n",
        "---\n",
        "\n",
        "**Question:** Referring back to the first problem in this lab, recall that \n",
        "\n",
        "$$ \\vect{U} = \\begin{bmatrix} -0.3 & 0.6 \\\\ 0.2 & 0.1 \\end{bmatrix}, \\vect{V} = \\begin{bmatrix} 0.4 & 0.4 \\\\ 0.9 & -0.7 \\end{bmatrix}, x_1 = \\begin{bmatrix} 0 \\\\ 1 \\end{bmatrix},   h_0 = \\begin{bmatrix} 0 \\\\ 0 \\end{bmatrix}$$\n",
        "               \n",
        "Find the partial derivative $\\frac{\\partial h_{1}}{\\partial U_{1,1}}$, where $U_{1,1}$ is the first row and first column of the matrix $\\vect{U}$.\n",
        "\n",
        "> **Hint:** We didn't tell you what the function $\\sigma$ is. Turns out you will not need it! If you set it up right, you will see that you will not have to do much math at all.\n",
        "\n",
        "<!--\n",
        "BEGIN QUESTION\n",
        "name: open_response_looking_back\n",
        "manual: true\n",
        "-->"
      ]
    },
    {
      "cell_type": "markdown",
      "metadata": {
        "id": "PHtxesWfwj3B"
      },
      "source": [
        "_Type your answer here, replacing this text._"
      ]
    },
    {
      "cell_type": "markdown",
      "metadata": {
        "deletable": false,
        "editable": false,
        "id": "T6SjXbM_wj3C"
      },
      "source": [
        "<!-- END QUESTION -->\n",
        "\n",
        "---\n",
        "\n",
        "Now, let's verify your solution above using PyTorch, which can calculate gradients automatically. Below shows an example on how to calculate gradients. Adapt it to find the gradients of $\\frac{\\partial h_{1,1}}{\\partial \\vect{U}}$ (where $h_{1,1}$ denotes the first element of vector $h_1$, and here we are taking the derivative with respect to the entire matrix $\\vect{U}$). Use ReLU as $\\sigma$.\n",
        "\n",
        "\n",
        "<!--\n",
        "BEGIN QUESTION\n",
        "name: automatic_diff\n",
        "-->"
      ]
    },
    {
      "cell_type": "code",
      "metadata": {
        "colab": {
          "base_uri": "https://localhost:8080/",
          "height": 229
        },
        "id": "FGI6LmPmwj3C",
        "outputId": "9063e6d4-f88d-4589-9cd9-1194330cee22"
      },
      "source": [
        "# TODO: modify the code below to find the gradients of \n",
        "# $\\frac{\\partial h_{1,1}}{\\partial \\vect{U}}$\n",
        "\n",
        "# RNN parameters\n",
        "U_ = torch.Tensor([ [-0.3,  0.6],\n",
        "               [ 0.2,  0.1] ])\n",
        "V_ = torch.Tensor([ [ 0.4,  0.4],\n",
        "               [ 0.9, -0.7] ])\n",
        "U_.requires_grad = True\n",
        "\n",
        "# inputs\n",
        "x1_ = torch.Tensor([0.0, 1.0])\n",
        "\n",
        "# initial value for the hidden state, a zero vector\n",
        "h0_ = torch.Tensor([0, 0])\n",
        "h1_ = ...\n",
        "h11 = ...\n",
        "\n",
        "# The magic gradient computation\n",
        "h11.backward()\n",
        "U_grad = U_.grad\n",
        "print (f'Gradient of W: {U_grad}')"
      ],
      "execution_count": 130,
      "outputs": [
        {
          "output_type": "error",
          "ename": "AttributeError",
          "evalue": "ignored",
          "traceback": [
            "\u001b[0;31m---------------------------------------------------------------------------\u001b[0m",
            "\u001b[0;31mAttributeError\u001b[0m                            Traceback (most recent call last)",
            "\u001b[0;32m<ipython-input-130-00df379978a7>\u001b[0m in \u001b[0;36m<module>\u001b[0;34m()\u001b[0m\n\u001b[1;32m     18\u001b[0m \u001b[0;34m\u001b[0m\u001b[0m\n\u001b[1;32m     19\u001b[0m \u001b[0;31m# The magic gradient computation\u001b[0m\u001b[0;34m\u001b[0m\u001b[0;34m\u001b[0m\u001b[0;34m\u001b[0m\u001b[0m\n\u001b[0;32m---> 20\u001b[0;31m \u001b[0mh11\u001b[0m\u001b[0;34m.\u001b[0m\u001b[0mbackward\u001b[0m\u001b[0;34m(\u001b[0m\u001b[0;34m)\u001b[0m\u001b[0;34m\u001b[0m\u001b[0;34m\u001b[0m\u001b[0m\n\u001b[0m\u001b[1;32m     21\u001b[0m \u001b[0mU_grad\u001b[0m \u001b[0;34m=\u001b[0m \u001b[0mU_\u001b[0m\u001b[0;34m.\u001b[0m\u001b[0mgrad\u001b[0m\u001b[0;34m\u001b[0m\u001b[0;34m\u001b[0m\u001b[0m\n\u001b[1;32m     22\u001b[0m \u001b[0mprint\u001b[0m \u001b[0;34m(\u001b[0m\u001b[0;34mf'Gradient of W: {U_grad}'\u001b[0m\u001b[0;34m)\u001b[0m\u001b[0;34m\u001b[0m\u001b[0;34m\u001b[0m\u001b[0m\n",
            "\u001b[0;31mAttributeError\u001b[0m: 'ellipsis' object has no attribute 'backward'"
          ]
        }
      ]
    },
    {
      "cell_type": "code",
      "metadata": {
        "deletable": false,
        "editable": false,
        "id": "0Uai4IoPwj3C"
      },
      "source": [
        "grader.check(\"automatic_diff\")"
      ],
      "execution_count": null,
      "outputs": []
    },
    {
      "cell_type": "markdown",
      "metadata": {
        "id": "FSiBsjrEwj3C"
      },
      "source": [
        "Does the computed gradient agree with your calculation of $\\frac{\\partial h_{1}}{\\partial U_{1,1}}$ (Note that here you only calculated $\\frac{\\partial h_{1,1}}{\\partial \\vect{U}}$ through PyTorch, so let's just focus on $\\frac{\\partial h_{1,1}}{\\partial U_{1,1}}$)?"
      ]
    },
    {
      "cell_type": "markdown",
      "metadata": {
        "id": "ilTeihYuwj3C"
      },
      "source": [
        "By now, hopefully you have got some idea on how PyTorch computes gradients with respect to $\\vect{U}$ by calling a `backward` function on `h11`: the reason is that PyTorch maintains an underlying computation graph, and it can find all ancestors of `h11` (including $\\vect{U}$). The gradient computation process is essentially applying chain rules on this computation graph. (Think of how you would implement it yourself.)"
      ]
    },
    {
      "cell_type": "markdown",
      "metadata": {
        "deletable": false,
        "editable": false,
        "id": "Rz6EHOLrwj3C"
      },
      "source": [
        "<!-- BEGIN QUESTION -->\n",
        "\n",
        "RNN backprop on arbitrary sequences\n",
        "The final challenge! Consider an RNN run on an input sequence of length $N$. \n",
        "\n",
        "---\n",
        "\n",
        "**Question:** Find a general formula for $\\frac{\\partial L(\\vect{U}, \\vect{V}, \\vect{W}, x_1,\\cdots, x_{N+1}, h_0)}{\\partial \\vect{U}}$ in terms of $\\frac{\\partial L(o_1,\\cdots,o_N, x_2, \\cdots, x_{N+1})}{\\partial o_t}$, $\\frac{\\partial o_t(\\vect{W}, h_t)}{\\partial h_t}$, $\\frac{\\partial h_t(\\vect{U}, \\vect{V}, h_{t-1}, x_t)}{\\partial h_{t-1}}$, and $\\frac{\\partial h_t(\\vect{U}, \\vect{V}, h_{t-1}, x_t)}{\\partial \\vect{U}}$ for $t \\in \\{1, \\ldots, N\\}$.\n",
        "\n",
        "> How many terms are there when $N$ is 1, 2, or 3? How many possible paths are there from $\\vect{U}$ to $L$ in the computation graph?\n",
        "\n",
        "> Your solution might look a little like\n",
        "$$ \\sum + \\sum\\left(\\sum\\left(\\prod\\right)\\right) $$\n",
        "\n",
        "<!--\n",
        "BEGIN QUESTION\n",
        "name: open_response_backprop4\n",
        "manual: true\n",
        "-->"
      ]
    },
    {
      "cell_type": "markdown",
      "metadata": {
        "id": "D-1ai-j0wj3C"
      },
      "source": [
        "As we allready noticed in the section previous to the bonus, we can conclude that the whole formula in total is: \n",
        "\n",
        "![image.png](data:image/png;base64,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)\n",
        "\n",
        "\n",
        "and as with the example above the h term need additional development:\n",
        "for my personal opinion it is more little bit more elegant because it doesn't need the division to sole sigma and the rest.\n",
        "\n",
        "\n",
        "![image.png](data:image/png;base64,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)\n",
        "\n",
        "\n",
        "\n",
        "This formula is totally equal to the formula of the written form (just a little reindexing). "
      ]
    },
    {
      "cell_type": "markdown",
      "metadata": {
        "deletable": false,
        "editable": false,
        "id": "k6CQycFYwj3C"
      },
      "source": [
        "<!-- END QUESTION -->\n",
        "\n",
        "<!-- BEGIN QUESTION -->\n",
        "\n",
        "---\n",
        "\n",
        "## Lab debrief – for consensus submission only\n",
        "\n",
        "**Question:** We're interested in any thoughts your group has about this lab so that we can improve this lab for later years, and to inform later labs for this year. Please list any issues that arose or comments you have to improve the lab. Useful things to comment on include the following: \n",
        "\n",
        "* Was the lab too long or too short?\n",
        "* Were the readings appropriate for the lab? \n",
        "* Was it clear (at least after you completed the lab) what the points of the exercises were? \n",
        "* Are there additions or changes you think would make the lab better?\n",
        "\n",
        "<!--\n",
        "BEGIN QUESTION\n",
        "name: open_response_debrief\n",
        "manual: true\n",
        "-->"
      ]
    },
    {
      "cell_type": "markdown",
      "metadata": {
        "id": "tMzzn2BIwj3C"
      },
      "source": [
        "_Type your answer here, replacing this text._"
      ]
    },
    {
      "cell_type": "markdown",
      "metadata": {
        "id": "mJT2xpATwj3C"
      },
      "source": [
        "<!-- END QUESTION -->\n",
        "\n",
        "\n",
        "\n",
        "# End of lab 2-2"
      ]
    },
    {
      "cell_type": "markdown",
      "metadata": {
        "deletable": false,
        "editable": false,
        "id": "Pp0toyVJwj3C"
      },
      "source": [
        "---\n",
        "\n",
        "To double-check your work, the cell below will rerun all of the autograder tests."
      ]
    },
    {
      "cell_type": "code",
      "metadata": {
        "deletable": false,
        "editable": false,
        "id": "FJrs6ramwj3D",
        "colab": {
          "base_uri": "https://localhost:8080/",
          "height": 657
        },
        "outputId": "9a1d862c-5477-4226-80ed-e670fae715c8"
      },
      "source": [
        "grader.check_all()"
      ],
      "execution_count": 131,
      "outputs": [
        {
          "output_type": "execute_result",
          "data": {
            "text/html": [
              "<p><strong>automatic_diff:</strong></p>\n",
              "\n",
              "    \n",
              "    \n",
              "        <p>0 of 1 tests passed</p>\n",
              "        \n",
              "        \n",
              "        <p> <strong>Tests failed: </strong>\n",
              "            <ul>\n",
              "            \n",
              "                <li> \n",
              "    <p><strong style='color: red;'>tests/automatic_diff.py</strong></p>\n",
              "    <p><strong>Test code:</strong><pre><div class=\"highlight\" style=\"background: #f8f8f8\"><pre style=\"line-height: 125%\"><span></span><span style=\"color: #000080; font-weight: bold\">&gt;&gt;&gt; </span>U_grad<span style=\"color: #666666\">.</span>shape\n",
              "<span style=\"color: #888888\">torch.Size([2, 2])</span>\n",
              "</pre></div>\n",
              "</pre></p>\n",
              "    <p><strong>Test result:</strong><pre>Trying:\n",
              "    U_grad.shape\n",
              "Expecting:\n",
              "    torch.Size([2, 2])\n",
              "**********************************************************************\n",
              "Line 1, in tests/automatic_diff.py 0\n",
              "Failed example:\n",
              "    U_grad.shape\n",
              "Exception raised:\n",
              "    Traceback (most recent call last):\n",
              "      File \"/usr/lib/python3.6/doctest.py\", line 1330, in __run\n",
              "        compileflags, 1), test.globs)\n",
              "      File \"<doctest tests/automatic_diff.py 0[0]>\", line 1, in <module>\n",
              "        U_grad.shape\n",
              "    NameError: name 'U_grad' is not defined\n",
              "</pre></p>\n",
              "     </li>\n",
              "            \n",
              "            </ul>\n",
              "        \n",
              "    \n",
              "    \n",
              "\n",
              "<p><strong>backward:</strong></p>\n",
              "\n",
              "    \n",
              "    \n",
              "        <p>All tests passed!</p>\n",
              "    \n",
              "    \n",
              "\n",
              "<p><strong>bigram:</strong></p>\n",
              "\n",
              "    \n",
              "    \n",
              "        <p>All tests passed!</p>\n",
              "    \n",
              "    \n",
              "\n",
              "<p><strong>forward:</strong></p>\n",
              "\n",
              "    \n",
              "    \n",
              "        <p>All tests passed!</p>\n",
              "    \n",
              "    \n",
              "\n",
              "<p><strong>tiny_bigram_RNN:</strong></p>\n",
              "\n",
              "    \n",
              "    \n",
              "        <p>All tests passed!</p>\n",
              "    \n",
              "    \n",
              "\n"
            ],
            "text/plain": [
              "automatic_diff:\n",
              "\n",
              "    \n",
              "    0 of 1 tests passed\n",
              "    \n",
              "    \n",
              "    Tests failed:\n",
              "    \n",
              "           tests/automatic_diff.py\n",
              "\n",
              "Test result:\n",
              "Trying:\n",
              "    U_grad.shape\n",
              "Expecting:\n",
              "    torch.Size([2, 2])\n",
              "**********************************************************************\n",
              "Line 1, in tests/automatic_diff.py 0\n",
              "Failed example:\n",
              "    U_grad.shape\n",
              "Exception raised:\n",
              "    Traceback (most recent call last):\n",
              "      File \"/usr/lib/python3.6/doctest.py\", line 1330, in __run\n",
              "        compileflags, 1), test.globs)\n",
              "      File \"<doctest tests/automatic_diff.py 0[0]>\", line 1, in <module>\n",
              "        U_grad.shape\n",
              "    NameError: name 'U_grad' is not defined\n",
              "\n",
              "    \n",
              "    \n",
              "    \n",
              "    \n",
              "\n",
              "backward:\n",
              "\n",
              "    All tests passed!\n",
              "    \n",
              "\n",
              "bigram:\n",
              "\n",
              "    All tests passed!\n",
              "    \n",
              "\n",
              "forward:\n",
              "\n",
              "    All tests passed!\n",
              "    \n",
              "\n",
              "tiny_bigram_RNN:\n",
              "\n",
              "    All tests passed!\n",
              "    \n"
            ]
          },
          "metadata": {
            "tags": []
          },
          "execution_count": 131
        }
      ]
    }
  ]
}