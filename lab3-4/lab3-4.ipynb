{
  "nbformat": 4,
  "nbformat_minor": 0,
  "metadata": {
    "colab": {
      "name": "lab3-3_op3.ipynb",
      "provenance": [],
      "collapsed_sections": []
    },
    "kernelspec": {
      "display_name": "Python 3",
      "language": "python",
      "name": "python3"
    },
    "language_info": {
      "codemirror_mode": {
        "name": "ipython",
        "version": 3
      },
      "file_extension": ".py",
      "mimetype": "text/x-python",
      "name": "python",
      "nbconvert_exporter": "python",
      "pygments_lexer": "ipython3",
      "version": "3.8.3"
    },
    "title": "CS187 Lab 3-4: Probabilistic parsing and parse disambiguation"
  },
  "cells": [
    {
      "cell_type": "code",
      "metadata": {
        "deletable": false,
        "editable": false,
        "jupyter": {
          "outputs_hidden": true,
          "source_hidden": true
        },
        "id": "fkHqJ3zOqwMN",
        "outputId": "e82e7ee0-0eb1-4c2d-871c-12f2fb2c6abb",
        "colab": {
          "base_uri": "https://localhost:8080/"
        }
      },
      "source": [
        "# Please do not change this cell because some hidden tests might depend on it.\n",
        "import os\n",
        "\n",
        "# Otter grader does not handle ! commands well, so we define and use our\n",
        "# own function to execute shell commands.\n",
        "def shell(commands, warn=True):\n",
        "    \"\"\"Executes the string `commands` as a sequence of shell commands.\n",
        "     \n",
        "       Prints the result to stdout and returns the exit status. \n",
        "       Provides a printed warning on non-zero exit status unless `warn` \n",
        "       flag is unset.\n",
        "    \"\"\"\n",
        "    file = os.popen(commands)\n",
        "    print (file.read().rstrip('\\n'))\n",
        "    exit_status = file.close()\n",
        "    if warn and exit_status != None:\n",
        "        print(f\"Completed with errors. Exit status: {exit_status}\\n\")\n",
        "    return exit_status\n",
        "\n",
        "shell(\"\"\"\n",
        "ls requirements.txt >/dev/null 2>&1\n",
        "if [ ! $? = 0 ]; then\n",
        " rm -rf .tmp\n",
        " git clone https://github.com/cs236299-2020/lab3-4.git .tmp\n",
        " mv .tmp/tests ./\n",
        " mv .tmp/requirements.txt ./\n",
        " rm -rf .tmp\n",
        "fi\n",
        "pip install -q -r requirements.txt\n",
        "\"\"\")"
      ],
      "execution_count": 1,
      "outputs": [
        {
          "output_type": "stream",
          "text": [
            "\n"
          ],
          "name": "stdout"
        }
      ]
    },
    {
      "cell_type": "code",
      "metadata": {
        "deletable": false,
        "editable": false,
        "id": "h0k34XasqwMZ"
      },
      "source": [
        "# Initialize Otter\n",
        "import otter\n",
        "grader = otter.Notebook()"
      ],
      "execution_count": 2,
      "outputs": []
    },
    {
      "cell_type": "markdown",
      "metadata": {
        "jupyter": {
          "source_hidden": true
        },
        "id": "hYOjQ5SDqwMa"
      },
      "source": [
        "%%latex\n",
        "\\newcommand{\\vect}[1]{\\mathbf{#1}}\n",
        "\\newcommand{\\cnt}[1]{\\sharp(#1)}\n",
        "\\newcommand{\\argmax}[1]{\\underset{#1}{\\operatorname{argmax}}}\n",
        "\\newcommand{\\softmax}{\\operatorname{softmax}}\n",
        "\\newcommand{\\Prob}{\\Pr}\n",
        "\\newcommand{\\given}{\\,|\\,}"
      ]
    },
    {
      "cell_type": "markdown",
      "metadata": {
        "jupyter": {
          "source_hidden": true
        },
        "id": "truaT1PVqwMb"
      },
      "source": [
        "$$\n",
        "\\renewcommand{\\vect}[1]{\\mathbf{#1}}\n",
        "\\renewcommand{\\cnt}[1]{\\sharp(#1)}\n",
        "\\renewcommand{\\argmax}[1]{\\underset{#1}{\\operatorname{argmax}}}\n",
        "\\renewcommand{\\softmax}{\\operatorname{softmax}}\n",
        "\\renewcommand{\\Prob}{\\Pr}\n",
        "\\renewcommand{\\given}{\\,|\\,}\n",
        "$$"
      ]
    },
    {
      "cell_type": "markdown",
      "metadata": {
        "id": "YhNwlK5J_wU_"
      },
      "source": [
        "# CS187\n",
        "## Lab 3-4 - Probabilistic parsing and parse disambiguation"
      ]
    },
    {
      "cell_type": "markdown",
      "metadata": {
        "id": "w9cQ2kCv_zax"
      },
      "source": [
        "Continuing our work on PCFG, we present and implement a probabilistic version of the CKY algorithm."
      ]
    },
    {
      "cell_type": "markdown",
      "metadata": {
        "id": "DeBxczInqwMc"
      },
      "source": [
        "New bits of Python used for the first time in the _solution set_ for this lab, and which you may therefore find useful:\n",
        "\n",
        "* none"
      ]
    },
    {
      "cell_type": "markdown",
      "metadata": {
        "id": "gJrpuHR2qwMd"
      },
      "source": [
        "## Preparations"
      ]
    },
    {
      "cell_type": "code",
      "metadata": {
        "deletable": false,
        "editable": false,
        "id": "d8kPmrmwB2U9"
      },
      "source": [
        "import copy\n",
        "import math\n",
        "import nltk\n",
        "import pandas as pd\n",
        "\n",
        "from collections import Counter\n",
        "from collections import defaultdict\n",
        "from pprint import pprint"
      ],
      "execution_count": 3,
      "outputs": []
    },
    {
      "cell_type": "markdown",
      "metadata": {
        "id": "zTIhaV-2B9Ju"
      },
      "source": [
        "## Probabilistic CKY"
      ]
    },
    {
      "cell_type": "markdown",
      "metadata": {
        "id": "5pCRstKWHKsY"
      },
      "source": [
        "In lab 3-2 you worked with the CKY algorithm as a recognizer and its extension to a parser using backpointers. In the following section you will familiarize yourself with the probabilistic extension of the CKY parser, as presented by Jurafsky & Martin (Chapter 14), which returns the most probable parse (MPP) of a string according to a PCFG grammar.\n",
        "\n",
        "For reference, here is a pseudo-code version of the algorithm:\n",
        "\n",
        "```\n",
        " 1.  define cky-mpp(string = w1, ..., wN, grammar):\n",
        " 2.      for j in [1..N]:                     # each end string position\n",
        "\n",
        "             # handle rules of the form A -> w\n",
        " 3.          for all A where A -> wj in grammar:\n",
        " 4.              T[j-1, j, A] := P(A -> wj)\n",
        "\n",
        "             # handle rules of the form A -> B C\n",
        " 5.          for length in [2..j]:            # each subconstituent length\n",
        " 6.              i := j - length              # start string position\n",
        " 7.              for split in [i+1..j-1]      # each split point\n",
        " 8.                  for all A where \n",
        " 9.                          A -> B C in grammar\n",
        "10.                          and T[i, split, B] > 0\n",
        "11.                          and T[split, j, C] > 0:\n",
        "12.                      new_prob := P(A -> B C)\n",
        "13.                                  x table[i, split, B]\n",
        "14.                                  x table[split, j, C]\n",
        "15.                      if T[i, j, A] < new_prob\n",
        "16.                         then T[i, j, A] := new_prob\n",
        "17,                              back[i, j, A] := (split, B, C)\n",
        "18.      return (build_tree(back[0, N, S]), T[0, N, S]\n",
        "```"
      ]
    },
    {
      "cell_type": "markdown",
      "metadata": {
        "id": "nSf5W779GHEA"
      },
      "source": [
        "Let's go over the differences from the non-probabilistic CKY parser we saw in the previous lab:\n",
        "\n",
        "1. table dimensions - for a sentence of $N$ words:\n",
        "  *   CKY  $\\to$ $(N+1)\\times(N+1)$\n",
        "  *   PCKY  $\\to$ $(N+1)\\times(N+1)\\times|\\cal{N}|$\n",
        "2. table values:\n",
        "  *   CKY $\\to$ list of constituents\n",
        "  *   PCKY $\\to$ probabilities, where `table[i, j, A]` is the maximum probability of nonterminal `A` covering words between string positions `i` and `j`\n",
        "3. backpointers:\n",
        "  *   CKY $\\to$ mapping from nontermnials to set of all possible split positions and rules\n",
        "  *   PCKY $\\to$ mapping from nonterminals to the single most probable split position and rule"
      ]
    },
    {
      "cell_type": "markdown",
      "metadata": {
        "id": "5NXv2yueSrwV"
      },
      "source": [
        "Now, let's see how we use this algorithm to parse the sentence \"two plus three times four\".\n",
        "First, we will need a CNF form of our arithmetic PCFG:"
      ]
    },
    {
      "cell_type": "code",
      "metadata": {
        "colab": {
          "base_uri": "https://localhost:8080/"
        },
        "id": "WEsVYffGS84u",
        "outputId": "7f60fe56-3d6b-41ba-940c-3cbf130204a1"
      },
      "source": [
        "probabilistic_arithmetic_grammar_CNF = nltk.PCFG.fromstring(\"\"\"\n",
        "    S -> NUM OPS [0.4] | SOP NUM [0.25] \n",
        "    S -> 'one' [0.035] | 'two' [0.035] | 'three' [0.035] | 'four' [0.035] | 'five' [0.035]\n",
        "    S -> 'six' [0.035] | 'seven' [0.035] | 'eight' [0.035] | 'nine' [0.035] | 'ten' [0.035]\n",
        "    OPS -> OP S [1.0]\n",
        "    SOP -> S OP [1.0]\n",
        "    OP -> 'plus' [0.32] | 'added to' [0.08] | 'minus' [0.2] \n",
        "    OP -> 'times' [0.27] | 'multiplied by' [0.03] | 'divided by' [0.1]\n",
        "    NUM -> 'one' [0.1] | 'two' [0.1] | 'three' [0.1] | 'four' [0.1] | 'five' [0.1] \n",
        "    NUM -> 'six' [0.1] | 'seven' [0.1] | 'eight' [0.1] | 'nine' [0.1] | 'ten' [0.1]\n",
        "\"\"\")\n",
        "\n",
        "probabilistic_arithmetic_grammar_CNF.is_chomsky_normal_form()"
      ],
      "execution_count": 4,
      "outputs": [
        {
          "output_type": "execute_result",
          "data": {
            "text/plain": [
              "True"
            ]
          },
          "metadata": {
            "tags": []
          },
          "execution_count": 4
        }
      ]
    },
    {
      "cell_type": "markdown",
      "metadata": {
        "id": "z2GbGpe8TYO8"
      },
      "source": [
        "Next, we will implement the required $(N+1)\\times(N+1)\\times|\\cal{N}|$ 3D tables as $(N+1)\\times(N+1)$ 2D tables, in which each cell will hold a dictionary mapping nonterminals to the required entry values. We will implement separate recognition and backpointer tables:\n",
        "1. For the recognition table `table`, the entry values are their probabilities.\n",
        "2. For the backpointers table `back`, the entry values are the appropriate backpointer `(split, B, C)`.\n",
        "\n",
        "As in the previous lab, all the cells that need not be filled contain '---'. All other cells are initialized with an appropriate default dictionary. Run the following code to initialize the tables. (You don't need to go over it, we will look at a specific cell to better understand the content.)"
      ]
    },
    {
      "cell_type": "code",
      "metadata": {
        "id": "uWMlGE8uU9ii"
      },
      "source": [
        "phrase = \"two plus three times four\"\n",
        "words = [''] + phrase.split()\n",
        "N = len(words)\n",
        "\n",
        "# initialize data in tables\n",
        "table_data = [['---' for i in range(N)] for j in range(N)]\n",
        "back_data = [['---' for i in range(N)] for j in range(N)]\n",
        "\n",
        "# add in upper triangular elements\n",
        "for i in range(N):\n",
        "    for j in range(N):\n",
        "        if i < j:\n",
        "            table_data[i][j] = defaultdict(int)\n",
        "            back_data[i][j] = defaultdict(lambda x: None)\n",
        "            \n",
        "# generate corresponding data frames\n",
        "table = pd.DataFrame(table_data, columns=words, index=list('012345'))\n",
        "table.columns = pd.MultiIndex.from_arrays([table.columns] + [list('012345')])\n",
        "back = pd.DataFrame(back_data, columns=words, index=list('012345'))\n",
        "back.columns = pd.MultiIndex.from_arrays([back.columns] + [list('012345')])"
      ],
      "execution_count": 5,
      "outputs": []
    },
    {
      "cell_type": "markdown",
      "metadata": {
        "id": "rAlkdikWl9Jv"
      },
      "source": [
        "Let's first print out one of the tables:"
      ]
    },
    {
      "cell_type": "code",
      "metadata": {
        "colab": {
          "base_uri": "https://localhost:8080/",
          "height": 248
        },
        "id": "Zq4etqyPhTuK",
        "outputId": "c4c94cab-fbeb-45e7-9878-7950050b2ebc"
      },
      "source": [
        "table"
      ],
      "execution_count": 6,
      "outputs": [
        {
          "output_type": "execute_result",
          "data": {
            "text/html": [
              "<div>\n",
              "<style scoped>\n",
              "    .dataframe tbody tr th:only-of-type {\n",
              "        vertical-align: middle;\n",
              "    }\n",
              "\n",
              "    .dataframe tbody tr th {\n",
              "        vertical-align: top;\n",
              "    }\n",
              "\n",
              "    .dataframe thead tr th {\n",
              "        text-align: left;\n",
              "    }\n",
              "</style>\n",
              "<table border=\"1\" class=\"dataframe\">\n",
              "  <thead>\n",
              "    <tr>\n",
              "      <th></th>\n",
              "      <th></th>\n",
              "      <th>two</th>\n",
              "      <th>plus</th>\n",
              "      <th>three</th>\n",
              "      <th>times</th>\n",
              "      <th>four</th>\n",
              "    </tr>\n",
              "    <tr>\n",
              "      <th></th>\n",
              "      <th>0</th>\n",
              "      <th>1</th>\n",
              "      <th>2</th>\n",
              "      <th>3</th>\n",
              "      <th>4</th>\n",
              "      <th>5</th>\n",
              "    </tr>\n",
              "  </thead>\n",
              "  <tbody>\n",
              "    <tr>\n",
              "      <th>0</th>\n",
              "      <td>---</td>\n",
              "      <td>{}</td>\n",
              "      <td>{}</td>\n",
              "      <td>{}</td>\n",
              "      <td>{}</td>\n",
              "      <td>{}</td>\n",
              "    </tr>\n",
              "    <tr>\n",
              "      <th>1</th>\n",
              "      <td>---</td>\n",
              "      <td>---</td>\n",
              "      <td>{}</td>\n",
              "      <td>{}</td>\n",
              "      <td>{}</td>\n",
              "      <td>{}</td>\n",
              "    </tr>\n",
              "    <tr>\n",
              "      <th>2</th>\n",
              "      <td>---</td>\n",
              "      <td>---</td>\n",
              "      <td>---</td>\n",
              "      <td>{}</td>\n",
              "      <td>{}</td>\n",
              "      <td>{}</td>\n",
              "    </tr>\n",
              "    <tr>\n",
              "      <th>3</th>\n",
              "      <td>---</td>\n",
              "      <td>---</td>\n",
              "      <td>---</td>\n",
              "      <td>---</td>\n",
              "      <td>{}</td>\n",
              "      <td>{}</td>\n",
              "    </tr>\n",
              "    <tr>\n",
              "      <th>4</th>\n",
              "      <td>---</td>\n",
              "      <td>---</td>\n",
              "      <td>---</td>\n",
              "      <td>---</td>\n",
              "      <td>---</td>\n",
              "      <td>{}</td>\n",
              "    </tr>\n",
              "    <tr>\n",
              "      <th>5</th>\n",
              "      <td>---</td>\n",
              "      <td>---</td>\n",
              "      <td>---</td>\n",
              "      <td>---</td>\n",
              "      <td>---</td>\n",
              "      <td>---</td>\n",
              "    </tr>\n",
              "  </tbody>\n",
              "</table>\n",
              "</div>"
            ],
            "text/plain": [
              "        two plus three times four\n",
              "     0    1    2     3     4    5\n",
              "0  ---   {}   {}    {}    {}   {}\n",
              "1  ---  ---   {}    {}    {}   {}\n",
              "2  ---  ---  ---    {}    {}   {}\n",
              "3  ---  ---  ---   ---    {}   {}\n",
              "4  ---  ---  ---   ---   ---   {}\n",
              "5  ---  ---  ---   ---   ---  ---"
            ]
          },
          "metadata": {
            "tags": []
          },
          "execution_count": 6
        }
      ]
    },
    {
      "cell_type": "markdown",
      "metadata": {
        "id": "FtpC95x4ykI6"
      },
      "source": [
        "Examine how we fill both tables for the first 3 values of `j`. Below, you'll finish filling the tables for the remainder yourself."
      ]
    },
    {
      "cell_type": "code",
      "metadata": {
        "id": "M_TcjKmOy7Lk"
      },
      "source": [
        "# j = 1\n",
        "table.iloc[0,1]['S'] = 0.035\n",
        "table.iloc[0,1]['NUM'] = 0.1\n",
        "\n",
        "# j = 2\n",
        "table.iloc[1,2]['OP'] = 0.32\n",
        "\n",
        "#    i=0, split=1\n",
        "table.iloc[0,2]['SOP'] = (\n",
        "    1.0                           # Pr(SOP -> S OP)\n",
        "    * table.iloc[0,1]['S']\n",
        "    * table.iloc[1,2]['OP']\n",
        ")\n",
        "back.iloc[0,2]['SOP'] = (1, 'S', 'OP')\n",
        "\n",
        "# j=3\n",
        "table.iloc[2,3]['S'] = 0.035\n",
        "table.iloc[2,3]['NUM'] = 0.1\n",
        "\n",
        "#    i=1, split=2\n",
        "table.iloc[1,3]['OPS'] = (\n",
        "    1.0                           # Pr(OPS -> OP S)\n",
        "    * table.iloc[1,2]['OP'] \n",
        "    * table.iloc[2,3]['S']\n",
        ")\n",
        "back.iloc[1,3]['OPS'] = (2, 'OP', 'S')\n",
        "\n",
        "#    i=0, split=1\n",
        "table.iloc[0,3]['S'] = (\n",
        "    0.4                           # Pr(S-> NUM OPS) \n",
        "    * table.iloc[0,1]['NUM']\n",
        "    * table.iloc[1,3]['OPS']\n",
        ")\n",
        "back.iloc[0,3]['S'] = (1, 'NUM', 'OPS')\n",
        "\n",
        "#    i=0, split=2\n",
        "#\n",
        "#      Currently the probability and backpointers in cell [0,3] are\n",
        "#      according to the parse S -> S OPS with split=1:\n",
        "#\n",
        "#         table.iloc[0,3] = Pr(S -> NUM OPS) * Pr(0,1,S) * Pr(1,3,OPS).\n",
        "#\n",
        "#      The parsing for split=2 is S -> SOP NUM, so we need to check\n",
        "#      (lines 15-17) if\n",
        "#\n",
        "#         table.iloc[0,3] < Pr(S -> SOP NUM) * Pr(0,2,SOP) * Pr(2,3,S)  \n",
        "#\n",
        "#      and if so, update the probability and the backpointers accordingly.\n",
        "\n",
        "if table.iloc[0,3]['S'] < 0.25 * table.iloc[0,2]['SOP'] * table.iloc[2,3]['NUM']:\n",
        "  table.iloc[0,3]['S'] = (\n",
        "      0.25\n",
        "      * table.iloc[0,2]['SOP'] \n",
        "      * table.iloc[2,3]['NUM']\n",
        "  )\n",
        "  back.iloc[0,3]['S'] = (2, 'SOP', 'NUM')"
      ],
      "execution_count": 7,
      "outputs": []
    },
    {
      "cell_type": "markdown",
      "metadata": {
        "id": "BPr2A01FqwMm"
      },
      "source": [
        "Here's where we are so far:"
      ]
    },
    {
      "cell_type": "code",
      "metadata": {
        "colab": {
          "base_uri": "https://localhost:8080/",
          "height": 248
        },
        "id": "jWmR6Wy7JVB9",
        "outputId": "2017ea8c-93d0-443e-dea0-de3eb6837ee6"
      },
      "source": [
        "table"
      ],
      "execution_count": 8,
      "outputs": [
        {
          "output_type": "execute_result",
          "data": {
            "text/html": [
              "<div>\n",
              "<style scoped>\n",
              "    .dataframe tbody tr th:only-of-type {\n",
              "        vertical-align: middle;\n",
              "    }\n",
              "\n",
              "    .dataframe tbody tr th {\n",
              "        vertical-align: top;\n",
              "    }\n",
              "\n",
              "    .dataframe thead tr th {\n",
              "        text-align: left;\n",
              "    }\n",
              "</style>\n",
              "<table border=\"1\" class=\"dataframe\">\n",
              "  <thead>\n",
              "    <tr>\n",
              "      <th></th>\n",
              "      <th></th>\n",
              "      <th>two</th>\n",
              "      <th>plus</th>\n",
              "      <th>three</th>\n",
              "      <th>times</th>\n",
              "      <th>four</th>\n",
              "    </tr>\n",
              "    <tr>\n",
              "      <th></th>\n",
              "      <th>0</th>\n",
              "      <th>1</th>\n",
              "      <th>2</th>\n",
              "      <th>3</th>\n",
              "      <th>4</th>\n",
              "      <th>5</th>\n",
              "    </tr>\n",
              "  </thead>\n",
              "  <tbody>\n",
              "    <tr>\n",
              "      <th>0</th>\n",
              "      <td>---</td>\n",
              "      <td>{'S': 0.035, 'NUM': 0.1}</td>\n",
              "      <td>{'SOP': 0.011200000000000002}</td>\n",
              "      <td>{'S': 0.00044800000000000016}</td>\n",
              "      <td>{}</td>\n",
              "      <td>{}</td>\n",
              "    </tr>\n",
              "    <tr>\n",
              "      <th>1</th>\n",
              "      <td>---</td>\n",
              "      <td>---</td>\n",
              "      <td>{'OP': 0.32}</td>\n",
              "      <td>{'OPS': 0.011200000000000002}</td>\n",
              "      <td>{}</td>\n",
              "      <td>{}</td>\n",
              "    </tr>\n",
              "    <tr>\n",
              "      <th>2</th>\n",
              "      <td>---</td>\n",
              "      <td>---</td>\n",
              "      <td>---</td>\n",
              "      <td>{'S': 0.035, 'NUM': 0.1}</td>\n",
              "      <td>{}</td>\n",
              "      <td>{}</td>\n",
              "    </tr>\n",
              "    <tr>\n",
              "      <th>3</th>\n",
              "      <td>---</td>\n",
              "      <td>---</td>\n",
              "      <td>---</td>\n",
              "      <td>---</td>\n",
              "      <td>{}</td>\n",
              "      <td>{}</td>\n",
              "    </tr>\n",
              "    <tr>\n",
              "      <th>4</th>\n",
              "      <td>---</td>\n",
              "      <td>---</td>\n",
              "      <td>---</td>\n",
              "      <td>---</td>\n",
              "      <td>---</td>\n",
              "      <td>{}</td>\n",
              "    </tr>\n",
              "    <tr>\n",
              "      <th>5</th>\n",
              "      <td>---</td>\n",
              "      <td>---</td>\n",
              "      <td>---</td>\n",
              "      <td>---</td>\n",
              "      <td>---</td>\n",
              "      <td>---</td>\n",
              "    </tr>\n",
              "  </tbody>\n",
              "</table>\n",
              "</div>"
            ],
            "text/plain": [
              "                             two  ... times four\n",
              "     0                         1  ...     4    5\n",
              "0  ---  {'S': 0.035, 'NUM': 0.1}  ...    {}   {}\n",
              "1  ---                       ---  ...    {}   {}\n",
              "2  ---                       ---  ...    {}   {}\n",
              "3  ---                       ---  ...    {}   {}\n",
              "4  ---                       ---  ...   ---   {}\n",
              "5  ---                       ---  ...   ---  ---\n",
              "\n",
              "[6 rows x 6 columns]"
            ]
          },
          "metadata": {
            "tags": []
          },
          "execution_count": 8
        }
      ]
    },
    {
      "cell_type": "markdown",
      "metadata": {
        "id": "mLJoVxjgNsBW"
      },
      "source": [
        "Pay attention to the fact that, although two parses are possible for words[0,3] ( one is S -> NUM OPS and the other is S -> SOP NUM ), since both end up with the same nonterminal for the span [0,3] we only keep the higher probability option:"
      ]
    },
    {
      "cell_type": "code",
      "metadata": {
        "colab": {
          "base_uri": "https://localhost:8080/"
        },
        "id": "XJq_8ZIHOK2n",
        "outputId": "62fd63f8-c07d-4fc4-ca88-e5e0f9e93a6b"
      },
      "source": [
        "back.iloc[0,3]['S']"
      ],
      "execution_count": 9,
      "outputs": [
        {
          "output_type": "execute_result",
          "data": {
            "text/plain": [
              "(1, 'NUM', 'OPS')"
            ]
          },
          "metadata": {
            "tags": []
          },
          "execution_count": 9
        }
      ]
    },
    {
      "cell_type": "markdown",
      "metadata": {
        "deletable": false,
        "editable": false,
        "id": "B0yObI6lMceA"
      },
      "source": [
        "Now you finish filling the table:\n",
        "\n",
        "<!--\n",
        "BEGIN QUESTION\n",
        "name: pcky_fill_table\n",
        "-->"
      ]
    },
    {
      "cell_type": "code",
      "metadata": {
        "colab": {
          "base_uri": "https://localhost:8080/",
          "height": 248
        },
        "id": "pJNuecjzMjdX",
        "outputId": "039813bf-0f8a-409d-f310-5afa6d4c5621"
      },
      "source": [
        "# Continue filling in the table as shown above\r\n",
        "table.iloc[3,4]['OP'] = 0.27\r\n",
        "\r\n",
        "table.iloc[2,4]['SOP'] =  1.0 * table.iloc[2,3]['S'] * table.iloc[3,4]['OP']\r\n",
        "\r\n",
        "back.iloc[2,4]['S'] = (3, 'S', 'OP')\r\n",
        "\r\n",
        "table.iloc[1,4] = 0\r\n",
        "\r\n",
        "table.iloc[0,4]['SOP'] =   1.0 * table.iloc[0,3]['S'] * table.iloc[3,4]['OP']\r\n",
        "\r\n",
        "back.iloc[0,4]['SOP'] = (3, 'S', 'OP')\r\n",
        "\r\n",
        "table.iloc[4,5]['S'] = 0.035\r\n",
        "\r\n",
        "table.iloc[4,5]['NUM'] = 0.1\r\n",
        "\r\n",
        "table.iloc[3,5]['OPS'] = 1.0*table.iloc[3,4]['OP']*table.iloc[4,5]['S']\r\n",
        "\r\n",
        "back.iloc[3,5]['OPS'] = (4, 'OP', 'S')\r\n",
        "\r\n",
        "table.iloc[2,5]['S'] = 0.25*table.iloc[2,4]['SOP']*table.iloc[4,5]['NUM']\r\n",
        "\r\n",
        "second25 = 0.4*table.iloc[2,3]['NUM']*table.iloc[3,5]['OPS']\r\n",
        "\r\n",
        "if table.iloc[2,5]['S'] < second25:\r\n",
        "  table.iloc[2,5]['S'] = second25\r\n",
        "\r\n",
        "back.iloc[2,5]['S'] = (3, 'NUM', 'OPS')\r\n",
        "\r\n",
        "table.iloc[1,5]['OPS'] = 1.0*table.iloc[1,2]['OP']*table.iloc[2,5]['S']\r\n",
        "\r\n",
        "back.iloc[1,5]['OPS'] = (2, 'OP', 'S')\r\n",
        "\r\n",
        "table.iloc[0,5]['S'] = 0.4*table.iloc[0,1]['NUM']*table.iloc[1,5]['OPS']\r\n",
        "\r\n",
        "second05 = 0.25*table.iloc[0,4]['SOP']*table.iloc[4,5]['NUM']\r\n",
        "\r\n",
        "if table.iloc[0,5]['S'] < second05:\r\n",
        "  table.iloc[0,5]['S'] = second05\r\n",
        "\r\n",
        "back.iloc[0,5]['S'] = (1, 'SOP', 'NUM')\r\n",
        "\r\n",
        "back"
      ],
      "execution_count": 10,
      "outputs": [
        {
          "output_type": "execute_result",
          "data": {
            "text/html": [
              "<div>\n",
              "<style scoped>\n",
              "    .dataframe tbody tr th:only-of-type {\n",
              "        vertical-align: middle;\n",
              "    }\n",
              "\n",
              "    .dataframe tbody tr th {\n",
              "        vertical-align: top;\n",
              "    }\n",
              "\n",
              "    .dataframe thead tr th {\n",
              "        text-align: left;\n",
              "    }\n",
              "</style>\n",
              "<table border=\"1\" class=\"dataframe\">\n",
              "  <thead>\n",
              "    <tr>\n",
              "      <th></th>\n",
              "      <th></th>\n",
              "      <th>two</th>\n",
              "      <th>plus</th>\n",
              "      <th>three</th>\n",
              "      <th>times</th>\n",
              "      <th>four</th>\n",
              "    </tr>\n",
              "    <tr>\n",
              "      <th></th>\n",
              "      <th>0</th>\n",
              "      <th>1</th>\n",
              "      <th>2</th>\n",
              "      <th>3</th>\n",
              "      <th>4</th>\n",
              "      <th>5</th>\n",
              "    </tr>\n",
              "  </thead>\n",
              "  <tbody>\n",
              "    <tr>\n",
              "      <th>0</th>\n",
              "      <td>---</td>\n",
              "      <td>{}</td>\n",
              "      <td>{'SOP': (1, 'S', 'OP')}</td>\n",
              "      <td>{'S': (1, 'NUM', 'OPS')}</td>\n",
              "      <td>{'SOP': (3, 'S', 'OP')}</td>\n",
              "      <td>{'S': (1, 'SOP', 'NUM')}</td>\n",
              "    </tr>\n",
              "    <tr>\n",
              "      <th>1</th>\n",
              "      <td>---</td>\n",
              "      <td>---</td>\n",
              "      <td>{}</td>\n",
              "      <td>{'OPS': (2, 'OP', 'S')}</td>\n",
              "      <td>{}</td>\n",
              "      <td>{'OPS': (2, 'OP', 'S')}</td>\n",
              "    </tr>\n",
              "    <tr>\n",
              "      <th>2</th>\n",
              "      <td>---</td>\n",
              "      <td>---</td>\n",
              "      <td>---</td>\n",
              "      <td>{}</td>\n",
              "      <td>{'S': (3, 'S', 'OP')}</td>\n",
              "      <td>{'S': (3, 'NUM', 'OPS')}</td>\n",
              "    </tr>\n",
              "    <tr>\n",
              "      <th>3</th>\n",
              "      <td>---</td>\n",
              "      <td>---</td>\n",
              "      <td>---</td>\n",
              "      <td>---</td>\n",
              "      <td>{}</td>\n",
              "      <td>{'OPS': (4, 'OP', 'S')}</td>\n",
              "    </tr>\n",
              "    <tr>\n",
              "      <th>4</th>\n",
              "      <td>---</td>\n",
              "      <td>---</td>\n",
              "      <td>---</td>\n",
              "      <td>---</td>\n",
              "      <td>---</td>\n",
              "      <td>{}</td>\n",
              "    </tr>\n",
              "    <tr>\n",
              "      <th>5</th>\n",
              "      <td>---</td>\n",
              "      <td>---</td>\n",
              "      <td>---</td>\n",
              "      <td>---</td>\n",
              "      <td>---</td>\n",
              "      <td>---</td>\n",
              "    </tr>\n",
              "  </tbody>\n",
              "</table>\n",
              "</div>"
            ],
            "text/plain": [
              "        two  ...                    times                      four\n",
              "     0    1  ...                        4                         5\n",
              "0  ---   {}  ...  {'SOP': (3, 'S', 'OP')}  {'S': (1, 'SOP', 'NUM')}\n",
              "1  ---  ---  ...                       {}   {'OPS': (2, 'OP', 'S')}\n",
              "2  ---  ---  ...    {'S': (3, 'S', 'OP')}  {'S': (3, 'NUM', 'OPS')}\n",
              "3  ---  ---  ...                       {}   {'OPS': (4, 'OP', 'S')}\n",
              "4  ---  ---  ...                      ---                        {}\n",
              "5  ---  ---  ...                      ---                       ---\n",
              "\n",
              "[6 rows x 6 columns]"
            ]
          },
          "metadata": {
            "tags": []
          },
          "execution_count": 10
        }
      ]
    },
    {
      "cell_type": "code",
      "metadata": {
        "deletable": false,
        "editable": false,
        "id": "hdlSPkP9qwMo",
        "outputId": "4beca93e-27e9-4478-d495-2d58ab7905f5",
        "colab": {
          "base_uri": "https://localhost:8080/",
          "height": 45
        }
      },
      "source": [
        "grader.check(\"pcky_fill_table\")"
      ],
      "execution_count": 11,
      "outputs": [
        {
          "output_type": "execute_result",
          "data": {
            "text/html": [
              "\n",
              "    \n",
              "    \n",
              "        <p>All tests passed!</p>\n",
              "    \n",
              "    "
            ],
            "text/plain": [
              "\n",
              "    All tests passed!\n",
              "    "
            ]
          },
          "metadata": {
            "tags": []
          },
          "execution_count": 11
        }
      ]
    },
    {
      "cell_type": "markdown",
      "metadata": {
        "id": "DRg92AYbM6P3"
      },
      "source": [
        "Let us look at the probability of the highest scoring tree:"
      ]
    },
    {
      "cell_type": "code",
      "metadata": {
        "colab": {
          "base_uri": "https://localhost:8080/"
        },
        "id": "9i2B96CJNDdl",
        "outputId": "51c2b641-ffa5-4361-9768-b4e68ef49d7d"
      },
      "source": [
        "table.iloc[0,5]"
      ],
      "execution_count": 12,
      "outputs": [
        {
          "output_type": "execute_result",
          "data": {
            "text/plain": [
              "defaultdict(int, {'S': 4.838400000000003e-06})"
            ]
          },
          "metadata": {
            "tags": []
          },
          "execution_count": 12
        }
      ]
    },
    {
      "cell_type": "markdown",
      "metadata": {
        "deletable": false,
        "editable": false,
        "id": "X446HJmWNFIX"
      },
      "source": [
        "<!-- BEGIN QUESTION -->\n",
        "\n",
        "---\n",
        "\n",
        "**Question:** Compare the probability of the highest scoring tree you just computed to the probabilities you got in the end of the disambiguation section, when calculating probabilities of all parse trees for the phrase and explain the result.\n",
        "\n",
        "<!--\n",
        "BEGIN QUESTION\n",
        "name: open_question_pcky\n",
        "manual: true\n",
        "-->"
      ]
    },
    {
      "cell_type": "markdown",
      "metadata": {
        "id": "YBzhUkb4qwMq"
      },
      "source": [
        "We've received a probability score indetical to tree 3 from the previous lab, which had the highest probability among all possible trees. This is because, by the way probabilistic CKY algorithm works, it returns the highest probability among all the possible trees, hence no suprise we've recieved the same score as the highest probability tree from previous lab's section."
      ]
    },
    {
      "cell_type": "markdown",
      "metadata": {
        "id": "PtYbG1zUZlJq"
      },
      "source": [
        "<!-- END QUESTION -->\n",
        "\n",
        "\n",
        "\n",
        "---\n",
        "\n",
        "## PP attachment ambiguity"
      ]
    },
    {
      "cell_type": "markdown",
      "metadata": {
        "id": "u6FOj0mSZp9j"
      },
      "source": [
        "In the following section we set aside the rather limited world of arithmetic expressions, focusing on a common example of structural ambiguity in natural language called _prepositional phrase (PP) attachment_. A PP can modify both noun phrases and verb phrases, often creating ambiguity as to what constituent a PP should be attached to.\n",
        "\n",
        "Take a look at the sentence \"Twain bought a book for Howells\" and the following PCFG:"
      ]
    },
    {
      "cell_type": "code",
      "metadata": {
        "id": "951M07XfadFQ"
      },
      "source": [
        "sent1 = \"Twain bought a book for Howells\"\n",
        "\n",
        "pcfg = nltk.PCFG.fromstring(\"\"\"\n",
        "    S -> NP VP [1.0]\n",
        "    NP -> NNP [0.3] | DT NOM [0.6] | NOM [0.1]\n",
        "    NOM -> NOM PP [0.4] | NN [0.3] | NNS [0.3]\n",
        "    VP -> DTV NP PP [0.2] | TV NP [0.8]\n",
        "    PP -> P NP [1.0]\n",
        "    NNS -> 'books' [0.6] | 'gifts' [0.4]\n",
        "    NNP -> 'Twain' [0.6] | 'Howells' [0.4]\n",
        "    NN -> 'table' [0.5] | 'book' [0.5] \n",
        "    DTV -> 'bought' [0.5] | 'put' [0.5]\n",
        "    TV -> 'bought' [0.5] | 'saw' [0.5]\n",
        "    P -> 'on' [0.3] | 'of' [0.4] | 'by' [0.1] | 'for' [0.2]\n",
        "    DT -> 'a' [0.5] | 'the' [0.5]\n",
        "\"\"\")"
      ],
      "execution_count": 13,
      "outputs": []
    },
    {
      "cell_type": "markdown",
      "metadata": {
        "id": "cbJLgdNwqnES"
      },
      "source": [
        "Parsing this sentence with the above PCFG results in two possible parses:"
      ]
    },
    {
      "cell_type": "code",
      "metadata": {
        "colab": {
          "base_uri": "https://localhost:8080/"
        },
        "id": "T_2cjuU-qutW",
        "outputId": "0b57b02b-a502-4f54-ed5c-6d38e91242c0"
      },
      "source": [
        "parser = nltk.parse.InsideChartParser(pcfg)\n",
        "possible_parses = list(parser.parse(sent1.split()))\n",
        "\n",
        "for i, tree in enumerate(possible_parses):\n",
        "  print(f'Possible parse #{i+1} with probability {tree.prob():.3g}:\\n')\n",
        "  tree.pretty_print()"
      ],
      "execution_count": 14,
      "outputs": [
        {
          "output_type": "stream",
          "text": [
            "Possible parse #1 with probability 3.11e-05:\n",
            "\n",
            "              S                          \n",
            "   ___________|___                        \n",
            "  |               VP                     \n",
            "  |      _________|____                   \n",
            "  |     |              NP                \n",
            "  |     |      ________|___               \n",
            "  |     |     |           NOM            \n",
            "  |     |     |    ________|___           \n",
            "  |     |     |   |            PP        \n",
            "  |     |     |   |         ___|_____     \n",
            "  NP    |     |  NOM       |         NP  \n",
            "  |     |     |   |        |         |    \n",
            " NNP    TV    DT  NN       P        NNP  \n",
            "  |     |     |   |        |         |    \n",
            "Twain bought  a  book     for     Howells\n",
            "\n",
            "Possible parse #2 with probability 1.94e-05:\n",
            "\n",
            "              S                          \n",
            "   ___________|_______                    \n",
            "  |                   VP                 \n",
            "  |      _____________|________           \n",
            "  |     |         NP           PP        \n",
            "  |     |      ___|___      ___|_____     \n",
            "  NP    |     |      NOM   |         NP  \n",
            "  |     |     |       |    |         |    \n",
            " NNP   DTV    DT      NN   P        NNP  \n",
            "  |     |     |       |    |         |    \n",
            "Twain bought  a      book for     Howells\n",
            "\n"
          ],
          "name": "stdout"
        }
      ]
    },
    {
      "cell_type": "markdown",
      "metadata": {
        "deletable": false,
        "editable": false,
        "id": "pf3cO1wxlITu"
      },
      "source": [
        "<!-- BEGIN QUESTION -->\n",
        "\n",
        "---\n",
        "\n",
        "**Question:** What is the more natural parsing, the one that leads to the preferred _reading_ of the sentence? Is it the most probable parse tree?\n",
        "\n",
        "<!--\n",
        "BEGIN QUESTION\n",
        "name: open_question_pp1\n",
        "manual: true\n",
        "-->"
      ]
    },
    {
      "cell_type": "markdown",
      "metadata": {
        "id": "Pofnt2tWqwMt"
      },
      "source": [
        "The most natural reading is to refer the determiner to a single noun and then to the \"for\" connector, which decribes the action of buying (for whom the book was **bought**) thus the second tree, which has smaller probability, is the more natural parsing."
      ]
    },
    {
      "cell_type": "markdown",
      "metadata": {
        "deletable": false,
        "editable": false,
        "id": "v7I1kdr-lftF"
      },
      "source": [
        "<!-- END QUESTION -->\n",
        "\n",
        "---\n",
        "\n",
        "Change some of the rule probabilities (try to change as few as possible) such that the other tree has higher probability.\n",
        "\n",
        "<!--\n",
        "BEGIN QUESTION\n",
        "name: attach_pp_to_np_1\n",
        "-->"
      ]
    },
    {
      "cell_type": "code",
      "metadata": {
        "id": "IdyQ5Qr3rchB"
      },
      "source": [
        "pcfg = nltk.PCFG.fromstring(\"\"\"\r\n",
        "    S -> NP VP [1.0]\r\n",
        "    NP -> NNP [0.3] | DT NOM [0.6] | NOM [0.1]\r\n",
        "    NOM -> NOM PP [0.4] | NN [0.3] | NNS [0.3]\r\n",
        "    VP -> DTV NP PP [0.8] | TV NP [0.2]\r\n",
        "    PP -> P NP [1.0]\r\n",
        "    NNS -> 'books' [0.6] | 'gifts' [0.4]\r\n",
        "    NNP -> 'Twain' [0.6] | 'Howells' [0.4]\r\n",
        "    NN -> 'table' [0.5] | 'book' [0.5] \r\n",
        "    DTV -> 'bought' [0.5] | 'put' [0.5]\r\n",
        "    TV -> 'bought' [0.5] | 'saw' [0.5]\r\n",
        "    P -> 'on' [0.3] | 'of' [0.4] | 'by' [0.1] | 'for' [0.2]\r\n",
        "    DT -> 'a' [0.5] | 'the' [0.5]\r\n",
        "\"\"\")"
      ],
      "execution_count": 15,
      "outputs": []
    },
    {
      "cell_type": "code",
      "metadata": {
        "colab": {
          "base_uri": "https://localhost:8080/"
        },
        "id": "F8CJh_IWqwMt",
        "outputId": "6ed23ccc-35a4-46c2-c09d-15003e2e04f7"
      },
      "source": [
        "parser2 = nltk.parse.InsideChartParser(pcfg)\n",
        "possible_parses2 = list(parser2.parse(sent1.split()))\n",
        "\n",
        "for i, tree in enumerate(possible_parses2):\n",
        "  print(f'Possible parse #{i+1} with probability {tree.prob():.3g}:\\n')\n",
        "  tree.pretty_print()"
      ],
      "execution_count": 16,
      "outputs": [
        {
          "output_type": "stream",
          "text": [
            "Possible parse #1 with probability 7.78e-05:\n",
            "\n",
            "              S                          \n",
            "   ___________|_______                    \n",
            "  |                   VP                 \n",
            "  |      _____________|________           \n",
            "  |     |         NP           PP        \n",
            "  |     |      ___|___      ___|_____     \n",
            "  NP    |     |      NOM   |         NP  \n",
            "  |     |     |       |    |         |    \n",
            " NNP   DTV    DT      NN   P        NNP  \n",
            "  |     |     |       |    |         |    \n",
            "Twain bought  a      book for     Howells\n",
            "\n",
            "Possible parse #2 with probability 7.78e-06:\n",
            "\n",
            "              S                          \n",
            "   ___________|___                        \n",
            "  |               VP                     \n",
            "  |      _________|____                   \n",
            "  |     |              NP                \n",
            "  |     |      ________|___               \n",
            "  |     |     |           NOM            \n",
            "  |     |     |    ________|___           \n",
            "  |     |     |   |            PP        \n",
            "  |     |     |   |         ___|_____     \n",
            "  NP    |     |  NOM       |         NP  \n",
            "  |     |     |   |        |         |    \n",
            " NNP    TV    DT  NN       P        NNP  \n",
            "  |     |     |   |        |         |    \n",
            "Twain bought  a  book     for     Howells\n",
            "\n"
          ],
          "name": "stdout"
        }
      ]
    },
    {
      "cell_type": "markdown",
      "metadata": {
        "id": "RCCIbCcqm5h9"
      },
      "source": [
        "Now we use the PCFG you defined to parse the sentence \"Twain bought a book by Howells\""
      ]
    },
    {
      "cell_type": "code",
      "metadata": {
        "colab": {
          "base_uri": "https://localhost:8080/"
        },
        "id": "OX7EIQOWnaQI",
        "outputId": "49f02696-8fda-475e-c431-802098cc6723"
      },
      "source": [
        "sent2 = \"Twain bought a book by Howells\"\n",
        "possible_parses = list(parser2.parse(sent2.split()))\n",
        "\n",
        "for i, tree in enumerate(possible_parses):\n",
        "  print('Possible parse #{} with probability {:.3g}:\\n'.format(i+1,tree.prob()))\n",
        "  tree.pretty_print()"
      ],
      "execution_count": 17,
      "outputs": [
        {
          "output_type": "stream",
          "text": [
            "Possible parse #1 with probability 3.89e-05:\n",
            "\n",
            "              S                          \n",
            "   ___________|_______                    \n",
            "  |                   VP                 \n",
            "  |      _____________|________           \n",
            "  |     |         NP           PP        \n",
            "  |     |      ___|___      ___|_____     \n",
            "  NP    |     |      NOM   |         NP  \n",
            "  |     |     |       |    |         |    \n",
            " NNP   DTV    DT      NN   P        NNP  \n",
            "  |     |     |       |    |         |    \n",
            "Twain bought  a      book  by     Howells\n",
            "\n",
            "Possible parse #2 with probability 3.89e-06:\n",
            "\n",
            "              S                          \n",
            "   ___________|___                        \n",
            "  |               VP                     \n",
            "  |      _________|____                   \n",
            "  |     |              NP                \n",
            "  |     |      ________|___               \n",
            "  |     |     |           NOM            \n",
            "  |     |     |    ________|___           \n",
            "  |     |     |   |            PP        \n",
            "  |     |     |   |         ___|_____     \n",
            "  NP    |     |  NOM       |         NP  \n",
            "  |     |     |   |        |         |    \n",
            " NNP    TV    DT  NN       P        NNP  \n",
            "  |     |     |   |        |         |    \n",
            "Twain bought  a  book      by     Howells\n",
            "\n"
          ],
          "name": "stdout"
        }
      ]
    },
    {
      "cell_type": "markdown",
      "metadata": {
        "deletable": false,
        "editable": false,
        "id": "JbM05kEStEO9"
      },
      "source": [
        "<!-- BEGIN QUESTION -->\n",
        "\n",
        "---\n",
        "\n",
        "**Question:** Now what is the more natural parse for the sentence? Is it the most probable one? Can the PCFG be modified such that both sentences are parsed according to the natural readings for these sentences? Try to explain the problem.\n",
        "\n",
        "<!--\n",
        "BEGIN QUESTION\n",
        "name: attach_pp_to_np_2\n",
        "manual: true\n",
        "-->"
      ]
    },
    {
      "cell_type": "markdown",
      "metadata": {
        "id": "DBMlOe-WqwMv"
      },
      "source": [
        "Oppose to the previous sentence, the most natural reading is to refer the determiner with it's noun and it's possession together (the possesion connector 'by' reffers to the book and not to the verb bought), thus the second tree, which has smaller probability, is the more natural parsing.\r\n",
        "\r\n",
        "\r\n",
        "There is no distinction between the both cases ('for' and 'by' and the correspoding division of the sentences) in the current set of rules, thus for both natural reading parse cases cannot be achieved in current set of rules by only changing the probabilities, because the probabilties which distinguish between the two opposite parse trees sum to 1, thus one is bigger then the other. It could be achieved if we make such a distinction with additional rules. "
      ]
    },
    {
      "cell_type": "markdown",
      "metadata": {
        "deletable": false,
        "editable": false,
        "id": "dvgQrCQUqwMv"
      },
      "source": [
        "<!-- END QUESTION -->\n",
        "\n",
        "<!-- BEGIN QUESTION -->\n",
        "\n",
        "---\n",
        "\n",
        "## Lab debrief – for consensus submission only\n",
        "\n",
        "**Question:** We're interested in any thoughts your group has about this lab so that we can improve this lab for later years, and to inform later labs for this year. Please list any issues that arose or comments you have to improve the lab. Useful things to comment on include the following: \n",
        "\n",
        "* Was the lab too long or too short?\n",
        "* Were the readings appropriate for the lab? \n",
        "* Was it clear (at least after you completed the lab) what the points of the exercises were? \n",
        "* Are there additions or changes you think would make the lab better?\n",
        "\n",
        "<!--\n",
        "BEGIN QUESTION\n",
        "name: open_response_debrief\n",
        "manual: true\n",
        "-->"
      ]
    },
    {
      "cell_type": "markdown",
      "metadata": {
        "id": "Gd-GrQczqwMw"
      },
      "source": [
        "_Type your answer here, replacing this text._"
      ]
    },
    {
      "cell_type": "markdown",
      "metadata": {
        "id": "YfR6BVKIqwMw"
      },
      "source": [
        "<!-- END QUESTION -->\n",
        "\n",
        "\n",
        "\n",
        "# End of Lab 3-4"
      ]
    },
    {
      "cell_type": "markdown",
      "metadata": {
        "deletable": false,
        "editable": false,
        "id": "xq5rS4-LqwMw"
      },
      "source": [
        "---\n",
        "\n",
        "To double-check your work, the cell below will rerun all of the autograder tests."
      ]
    },
    {
      "cell_type": "code",
      "metadata": {
        "deletable": false,
        "editable": false,
        "id": "Bd4Jf328qwMx",
        "outputId": "c2e37df2-5082-465d-fba5-ea52affab64e",
        "colab": {
          "base_uri": "https://localhost:8080/",
          "height": 67
        }
      },
      "source": [
        "grader.check_all()"
      ],
      "execution_count": 18,
      "outputs": [
        {
          "output_type": "execute_result",
          "data": {
            "text/html": [
              "<p><strong>pcky_fill_table:</strong></p>\n",
              "\n",
              "    \n",
              "    \n",
              "        <p>All tests passed!</p>\n",
              "    \n",
              "    \n",
              "\n"
            ],
            "text/plain": [
              "pcky_fill_table:\n",
              "\n",
              "    All tests passed!\n",
              "    \n"
            ]
          },
          "metadata": {
            "tags": []
          },
          "execution_count": 18
        }
      ]
    }
  ]
}