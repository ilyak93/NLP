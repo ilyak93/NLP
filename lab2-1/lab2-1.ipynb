{
  "nbformat": 4,
  "nbformat_minor": 0,
  "metadata": {
    "celltoolbar": "Edit Metadata",
    "kernelspec": {
      "display_name": "Python 3",
      "language": "python",
      "name": "python3"
    },
    "language_info": {
      "codemirror_mode": {
        "name": "ipython",
        "version": 3
      },
      "file_extension": ".py",
      "mimetype": "text/x-python",
      "name": "python",
      "nbconvert_exporter": "python",
      "pygments_lexer": "ipython3",
      "version": "3.8.3"
    },
    "title": "CS187 Lab 2-1: Language modeling with n-grams",
    "colab": {
      "name": "lab2_1.ipynb",
      "provenance": [],
      "collapsed_sections": [
        "fLYbDYvcalRj"
      ]
    }
  },
  "cells": [
    {
      "cell_type": "code",
      "metadata": {
        "deletable": false,
        "editable": false,
        "jupyter": {
          "outputs_hidden": true,
          "source_hidden": true
        },
        "colab": {
          "base_uri": "https://localhost:8080/"
        },
        "id": "_fzqzKOvalRe",
        "outputId": "4bdd7e9f-d36e-4a5b-d9de-1cd8d8601823"
      },
      "source": [
        "# Please do not change this cell because some hidden tests might depend on it.\n",
        "import os\n",
        "\n",
        "# Otter grader does not handle ! commands well, so we define and use our\n",
        "# own function to execute shell commands.\n",
        "def shell(commands, warn=True):\n",
        "    \"\"\"Executes the string `commands` as a sequence of shell commands.\n",
        "     \n",
        "       Prints the result to stdout and returns the exit status. \n",
        "       Provides a printed warning on non-zero exit status unless `warn` \n",
        "       flag is unset.\n",
        "    \"\"\"\n",
        "    file = os.popen(commands)\n",
        "    print (file.read().rstrip('\\n'))\n",
        "    exit_status = file.close()\n",
        "    if warn and exit_status != None:\n",
        "        print(f\"Completed with errors. Exit status: {exit_status}\\n\")\n",
        "    return exit_status\n",
        "\n",
        "shell(\"\"\"\n",
        "ls requirements.txt >/dev/null 2>&1\n",
        "if [ ! $? = 0 ]; then\n",
        " rm -rf .tmp\n",
        " git clone https://github.com/cs236299-2020/lab2-1.git .tmp\n",
        " mv .tmp/tests ./\n",
        " mv .tmp/requirements.txt ./\n",
        " rm -rf .tmp\n",
        "fi\n",
        "pip install -q -r requirements.txt\n",
        "\"\"\")"
      ],
      "execution_count": 81,
      "outputs": [
        {
          "output_type": "stream",
          "text": [
            "\n"
          ],
          "name": "stdout"
        }
      ]
    },
    {
      "cell_type": "code",
      "metadata": {
        "deletable": false,
        "editable": false,
        "id": "AZp1HeO0alRf"
      },
      "source": [
        "# Initialize Otter\n",
        "import otter\n",
        "grader = otter.Notebook()"
      ],
      "execution_count": 82,
      "outputs": []
    },
    {
      "cell_type": "markdown",
      "metadata": {
        "id": "YrbGq4zCalRf"
      },
      "source": [
        "%%latex\n",
        "\\newcommand{\\vect}[1]{\\mathbf{#1}}\n",
        "\\newcommand{\\cnt}[1]{\\sharp(#1)}\n",
        "\\newcommand{\\argmax}[1]{\\underset{#1}{\\operatorname{argmax}}}\n",
        "\\newcommand{\\softmax}{\\operatorname{softmax}}\n",
        "\\newcommand{\\Prob}{\\Pr}\n",
        "\\newcommand{\\given}{\\,|\\,}"
      ]
    },
    {
      "cell_type": "markdown",
      "metadata": {
        "id": "OQfP7iyzalRf"
      },
      "source": [
        "$$\n",
        "\\renewcommand{\\vect}[1]{\\mathbf{#1}}\n",
        "\\renewcommand{\\cnt}[1]{\\sharp(#1)}\n",
        "\\renewcommand{\\argmax}[1]{\\underset{#1}{\\operatorname{argmax}}}\n",
        "\\renewcommand{\\softmax}{\\operatorname{softmax}}\n",
        "\\renewcommand{\\Prob}{\\Pr}\n",
        "\\renewcommand{\\given}{\\,|\\,}\n",
        "$$"
      ]
    },
    {
      "cell_type": "markdown",
      "metadata": {
        "id": "H8gppi5AalRf"
      },
      "source": [
        "# Course 236299\n",
        "## Lab 2-1 – Language modeling with n-grams\n",
        "We turn from tasks that _classify_ texts – mapping texts into a finite set of classes – to tasks that _model_ texts by providing a full probability distribution over texts (or providing a similar scoring metric). Such _language models_ attempt to answer the question \"How likely is a token sequence to be generated as an instance of the language?\".\n",
        "\n",
        "We'll start with n-gram language models. Given a token sequence $x_1, x_2, \\ldots, x_N$, its probability $\\Prob(x_1, x_2, \\ldots, x_N)$ can be calculated using the chain rule of probability:\n",
        "\n",
        "$$\\Prob(A, B \\given \\theta)= \\Prob(A \\given \\theta) \\cdot \\Prob(B \\given A, \\theta) $$\n",
        "\n",
        "Thus, \n",
        "\n",
        "\\begin{align}\n",
        "\\Prob(x_1, x_2, \\ldots, x_N) & = \\Prob(x_1) \\cdot \\Prob(x_2, \\ldots, x_N \\given x_1) \\\\\n",
        "& = \\Prob(x_1) \\cdot \\Prob(x_2 \\given x_1) \\cdot \\Prob(x_3, \\ldots, x_N \\given x_1, x_2) \\\\\n",
        "& \\cdots \\\\\n",
        "& = \\prod_{i=1}^N \\Prob (x_i \\given x_1, \\cdots, x_{i-1}) \\\\\n",
        "& \\approx \\prod_{i=1}^N \\Prob (x_i \\given x_{i-n+1}, \\cdots, x_{i-1})\\tag{1}\n",
        "\\end{align}\n",
        "\n",
        "In the last step, we replace the probability $\\Prob (x_i \\given x_1, \\cdots, x_{i-1})$, which conditions $x_i$ on _all_ of the preceding tokens, with $\\Prob (x_i \\given x_{i-n+1}, \\cdots, x_{i-1})$, which conditions $x_i$ only on the $n-1$ preceding tokens. We call the $n-1$ preceding tokens ($x_{i-n+1}, \\cdots, x_{i-1}$) the _context_ and $x_i$ the _target_. Taken together, these $n$ tokens form an $n$-gram, hence the term _$n$-gram model_.\n",
        "\n",
        "In this lab you'll work with $n$-gram models: generating them, sampling from them, and scoring held-out texts according to them. We'll find some problems with $n$-gram models as language models:\n",
        "\n",
        "1. They are profligate with memory.\n",
        "2. They are sensitive to very limited context.\n",
        "3. They don't generalize well across similar words.\n",
        "\n",
        "In the next lab, we'll explore neural models to address these failings."
      ]
    },
    {
      "cell_type": "markdown",
      "metadata": {
        "id": "7QYnZTtoalRf"
      },
      "source": [
        "New bits of Python used for the first time in the _solution set_ for this lab, and which you may therefore find useful:\n",
        "\n",
        "* [`itertools.product`](https://docs.python.org/3.8/library/itertools.html#itertools.product)\n",
        "* [`random.random`](https://docs.python.org/3.8/library/random.html#random.random)"
      ]
    },
    {
      "cell_type": "markdown",
      "metadata": {
        "id": "n_d7pxhvalRf"
      },
      "source": [
        "## Preparation – Loading packages and data"
      ]
    },
    {
      "cell_type": "code",
      "metadata": {
        "deletable": false,
        "editable": false,
        "id": "FRv7jpCsalRf"
      },
      "source": [
        "import itertools\n",
        "import math\n",
        "import random\n",
        "import re\n",
        "import torchtext as tt\n",
        "\n",
        "from collections import defaultdict, Counter\n",
        "from sys import getsizeof\n",
        "\n",
        "# Set random seeds\n",
        "SEED = 1234\n",
        "random.seed(SEED)"
      ],
      "execution_count": 83,
      "outputs": []
    },
    {
      "cell_type": "code",
      "metadata": {
        "colab": {
          "base_uri": "https://localhost:8080/"
        },
        "id": "GdKN4X4valRf",
        "outputId": "da67695a-111b-44ae-f1f0-c9b88292d0af"
      },
      "source": [
        "# Some utilities to manipulate the corpus\n",
        "\n",
        "def preprocess(text):\n",
        "    \"\"\"Strips #comments and empty lines from a string\n",
        "    \"\"\"\n",
        "    result = []\n",
        "    for line in text.split(\"\\n\"):\n",
        "        line = line.strip()              # trim whitespace\n",
        "        line = re.sub('#.*$', '', line)  # trim comments\n",
        "        if line != '':                   # drop blank lines\n",
        "            result.append(line)\n",
        "    return result\n",
        "\n",
        "def geah_tokenize(lines):\n",
        "    \"\"\"Specialized tokenizer for GEaH corpus handling speaker IDs\"\"\"\n",
        "    result = []\n",
        "    for line in lines:\n",
        "        # tokenize\n",
        "        tokens = tt.data.get_tokenizer(\"basic_english\")(line)\n",
        "        # revert the speaker ID token\n",
        "        if tokens[0] == \"sam\":\n",
        "            tokens[0] = \"SAM:\"\n",
        "        elif tokens[0] == \"guy\":\n",
        "            tokens[0] = \"GUY:\"\n",
        "        else:\n",
        "            raise ValueError(\"format problem - bad speaker ID\")\n",
        "        # add a start of sentence token\n",
        "        result += [\"<s>\"] + tokens\n",
        "    return result\n",
        "                    \n",
        "def postprocess(tokens):\n",
        "    \"\"\"Converts `tokens` to a string with one sentence per line\"\"\"\n",
        "    return ' '.join(tokens)\\\n",
        "              .replace(\"<s> \", \"\\n\")\n",
        "\n",
        "# Read the GEaH data and preprocess into training and test streams of tokens\n",
        "geah_filename = (\"https://github.com/nlp-236299/data/raw/master/Seuss/\"\n",
        "                 \"seuss - 1960 - green eggs and ham.txt\")\n",
        "shell(f'wget -nv -N -P data \"{geah_filename}\"')\n",
        "\n",
        "def split(list, portions, offset):\n",
        "    \"\"\"Splits `list` into a \"large\" and a \"small\" part, returning them as a pair.\n",
        "    \n",
        "    The two parts are formed by partitioning `list` into `portions` disjoint pieces.\n",
        "    The small part is the piece at index `offset`; the large part is the remainder.\n",
        "    \"\"\"\n",
        "    return ([list[i] for i in range(0, len(list)) if i % portions != offset],\n",
        "            [list[i] for i in range(0, len(list)) if i % portions == offset])\n",
        "\n",
        "with open(\"data/seuss - 1960 - green eggs and ham.txt\", 'r') as fin:\n",
        "    lines = preprocess(fin.read())\n",
        "    train_lines, test_lines = split(lines, 12, 0)\n",
        "    train_tokens = geah_tokenize(train_lines)\n",
        "    test_tokens = geah_tokenize(test_lines)"
      ],
      "execution_count": 84,
      "outputs": [
        {
          "output_type": "stream",
          "text": [
            "\n"
          ],
          "name": "stdout"
        }
      ]
    },
    {
      "cell_type": "markdown",
      "metadata": {
        "id": "sB-gX9_0alRf"
      },
      "source": [
        "We've already loaded in the text of _Green Eggs and Ham_ for you and split it (about 90%/10%) into two token sequences, `train_tokens` and `test_tokens`. Here's a preview:"
      ]
    },
    {
      "cell_type": "code",
      "metadata": {
        "colab": {
          "base_uri": "https://localhost:8080/"
        },
        "id": "Cu95w6r2alRf",
        "outputId": "3abbb051-7794-4882-87a7-2e10f7ab4462"
      },
      "source": [
        "print(train_tokens[:50])\n",
        "print(postprocess(train_tokens[:50]))"
      ],
      "execution_count": 85,
      "outputs": [
        {
          "output_type": "stream",
          "text": [
            "['<s>', 'SAM:', 'i', 'am', 'sam', '.', '<s>', 'SAM:', 'sam', 'i', 'am', '.', '<s>', 'GUY:', 'that', 'sam-i-am', '!', '<s>', 'GUY:', 'that', 'sam-i-am', '!', '<s>', 'GUY:', 'i', 'do', 'not', 'like', 'that', 'sam-i-am', '!', '<s>', 'SAM:', 'do', 'you', 'like', 'green', 'eggs', 'and', 'ham', '?', '<s>', 'GUY:', 'i', 'do', 'not', 'like', 'them', ',', 'sam-i-am']\n",
            "\n",
            "SAM: i am sam . \n",
            "SAM: sam i am . \n",
            "GUY: that sam-i-am ! \n",
            "GUY: that sam-i-am ! \n",
            "GUY: i do not like that sam-i-am ! \n",
            "SAM: do you like green eggs and ham ? \n",
            "GUY: i do not like them , sam-i-am\n"
          ],
          "name": "stdout"
        }
      ]
    },
    {
      "cell_type": "code",
      "metadata": {
        "colab": {
          "base_uri": "https://localhost:8080/"
        },
        "id": "l3WOL-7dalRf",
        "outputId": "12b65661-70d4-4503-f781-243cc30ba31c"
      },
      "source": [
        "print(test_tokens[:50])\n",
        "print(postprocess(test_tokens[:50]))"
      ],
      "execution_count": 86,
      "outputs": [
        {
          "output_type": "stream",
          "text": [
            "['<s>', 'SAM:', 'i', 'am', 'sam', '.', '<s>', 'GUY:', 'i', 'do', 'not', 'like', 'green', 'eggs', 'and', 'ham', '.', '<s>', 'GUY:', 'not', 'in', 'a', 'box', '.', '<s>', 'SAM:', 'eat', 'them', '!', '<s>', 'GUY:', 'i', 'do', 'not', 'like', 'them', 'with', 'a', 'mouse', '.', '<s>', 'GUY:', 'not', 'in', 'a', 'car', '!', '<s>', 'SAM:', 'in']\n",
            "\n",
            "SAM: i am sam . \n",
            "GUY: i do not like green eggs and ham . \n",
            "GUY: not in a box . \n",
            "SAM: eat them ! \n",
            "GUY: i do not like them with a mouse . \n",
            "GUY: not in a car ! \n",
            "SAM: in\n"
          ],
          "name": "stdout"
        }
      ]
    },
    {
      "cell_type": "markdown",
      "metadata": {
        "id": "SOf1uETmalRg"
      },
      "source": [
        "We extract the vocabulary from the training text."
      ]
    },
    {
      "cell_type": "code",
      "metadata": {
        "colab": {
          "base_uri": "https://localhost:8080/"
        },
        "id": "SFrIMnOKalRg",
        "outputId": "7b9d5a68-3e26-46d3-ade3-712337112984"
      },
      "source": [
        "# Extract vocabulary from dataset\n",
        "vocabulary = set(train_tokens)\n",
        "print(vocabulary)"
      ],
      "execution_count": 87,
      "outputs": [
        {
          "output_type": "stream",
          "text": [
            "{'are', 'if', 'not', 'house', 'on', 'rain', '.', 'green', 'goat', 'try', 'car', 'sam', 'may', 'like', 'anywhere', 'that', 'train', 'eat', 'them', 'am', 'sam-i-am', 'boat', 'thank', '<s>', 'GUY:', 'they', 'SAM:', 'ham', 'a', 'be', 'with', 'let', 'good', 'say', 'will', 'would', 'i', 'there', 'do', 'box', 'mouse', 'see', 'you', 'tree', 'so', 'the', 'dark', 'could', 'in', 'fox', '!', 'me', '?', 'or', ',', 'here', 'and', 'eggs'}\n"
          ],
          "name": "stdout"
        }
      ]
    },
    {
      "cell_type": "markdown",
      "metadata": {
        "deletable": false,
        "editable": false,
        "id": "-3Pi_ppkalRg"
      },
      "source": [
        "## Generating $n$-grams\n",
        "\n",
        "The _$n$-grams_ in a text are the contiguous subsequences of $n$ tokens. We will implement them as Python tuples. In theory, any sequence of $n$ tokens is a potential $n$-gram type. Let's generate a list of all the possible $n$-gram types over a vocabulary. Notice how the type/token distinction is useful for talking about $n$-grams, just as it is for words.\n",
        "<!--\n",
        "BEGIN QUESTION\n",
        "name: all_ngrams\n",
        "-->"
      ]
    },
    {
      "cell_type": "code",
      "metadata": {
        "colab": {
          "base_uri": "https://localhost:8080/"
        },
        "id": "K229XPKEalRg",
        "outputId": "26e50365-42a4-4743-cc42-221a0ed312c0"
      },
      "source": [
        "#TODO\n",
        "def all_ngrams(vocabulary, n):\n",
        "    \"\"\"Returns a list of all the possible `n`-long *tuples* of elements of the `vocabulary`,\n",
        "    with repetitions, and order matters.\n",
        "    \n",
        "    For instance,  \n",
        "        >>> all_ngrams([\"one\", \"two\"], 3)\n",
        "        [('one', 'one', 'one'),\n",
        "         ('one', 'one', 'two'),\n",
        "         ('one', 'two', 'one'),\n",
        "         ('one', 'two', 'two'),\n",
        "         ('two', 'one', 'one'),\n",
        "         ('two', 'one', 'two'),\n",
        "         ('two', 'two', 'one'),\n",
        "         ('two', 'two', 'two')]\n",
        "         \n",
        "    Order of returned list is not specified or guaranteed.\n",
        "    When `n`=0, return [()].\n",
        "    \"\"\"\n",
        "    if n == 0:\n",
        "        return [()]\n",
        "    \n",
        "    return list(itertools.product(vocabulary, repeat=n))\n",
        "\n",
        "all_ngrams([\"one\", \"two\"], 3)"
      ],
      "execution_count": 88,
      "outputs": [
        {
          "output_type": "execute_result",
          "data": {
            "text/plain": [
              "[('one', 'one', 'one'),\n",
              " ('one', 'one', 'two'),\n",
              " ('one', 'two', 'one'),\n",
              " ('one', 'two', 'two'),\n",
              " ('two', 'one', 'one'),\n",
              " ('two', 'one', 'two'),\n",
              " ('two', 'two', 'one'),\n",
              " ('two', 'two', 'two')]"
            ]
          },
          "metadata": {
            "tags": []
          },
          "execution_count": 88
        }
      ]
    },
    {
      "cell_type": "code",
      "metadata": {
        "deletable": false,
        "editable": false,
        "colab": {
          "base_uri": "https://localhost:8080/",
          "height": 46
        },
        "id": "6iXFyEYNalRg",
        "outputId": "9dc3faf9-3601-43dc-9e90-678c300a4651"
      },
      "source": [
        "grader.check(\"all_ngrams\")"
      ],
      "execution_count": 89,
      "outputs": [
        {
          "output_type": "execute_result",
          "data": {
            "text/html": [
              "\n",
              "    \n",
              "    \n",
              "        <p>All tests passed!</p>\n",
              "    \n",
              "    "
            ],
            "text/plain": [
              "\n",
              "    All tests passed!\n",
              "    "
            ]
          },
          "metadata": {
            "tags": []
          },
          "execution_count": 89
        }
      ]
    },
    {
      "cell_type": "markdown",
      "metadata": {
        "id": "1QXsA5QlalRg"
      },
      "source": [
        "We can generate a list of all of the $n$-grams (tokens, not types) in a text."
      ]
    },
    {
      "cell_type": "code",
      "metadata": {
        "id": "6nAMcYMFalRg"
      },
      "source": [
        "def ngrams(tokens, n):\n",
        "    \"\"\"Returns a list of all `n`-grams in a list of `tokens`.\"\"\"\n",
        "    return [tuple(tokens[i : i + n])\n",
        "            for i in range(0, len(tokens) - n + 1)]"
      ],
      "execution_count": 90,
      "outputs": []
    },
    {
      "cell_type": "code",
      "metadata": {
        "colab": {
          "base_uri": "https://localhost:8080/"
        },
        "id": "nNx3D7efalRg",
        "outputId": "7d983c2f-dcd5-44c7-f97e-d66a2fc2cd43"
      },
      "source": [
        "print (train_tokens[:6])\n",
        "print (ngrams(train_tokens[:6], 3))"
      ],
      "execution_count": 91,
      "outputs": [
        {
          "output_type": "stream",
          "text": [
            "['<s>', 'SAM:', 'i', 'am', 'sam', '.']\n",
            "[('<s>', 'SAM:', 'i'), ('SAM:', 'i', 'am'), ('i', 'am', 'sam'), ('am', 'sam', '.')]\n"
          ],
          "name": "stdout"
        }
      ]
    },
    {
      "cell_type": "markdown",
      "metadata": {
        "id": "T36ymFYaalRg"
      },
      "source": [
        "## Counting $n$-grams\n",
        "\n",
        "We conceptualize an $n$-gram as having two parts:\n",
        "\n",
        "* The _context_ is the first $n-1$ tokens in the $n$-gram.\n",
        "* The _target_ is the final token in the $n$-gram.\n",
        "\n",
        "An $n$-gram language model specifies a probability for each $n$-gram type. We'll implement a model as a 2-D dictionary, indexed first by context and then by target, providing the probability for the $n$-gram.\n",
        "\n",
        "We start by generating a similar data structure for counting up the $n$-grams in a token sequence."
      ]
    },
    {
      "cell_type": "code",
      "metadata": {
        "id": "mHOjgIZhalRg"
      },
      "source": [
        "def ngram_counts(vocabulary, tokens, n):\n",
        "    \"\"\"Returns a dictionary of counts of the `n`-grams in `tokens`.\n",
        "    \n",
        "    The dictionary is structured with first index by (n-1)-gram context\n",
        "    and second index by the final target token.\n",
        "    \"\"\"\n",
        "    context_dict = defaultdict(lambda: defaultdict(int))\n",
        "    # zero all ngrams\n",
        "    for context in all_ngrams(vocabulary, n - 1):\n",
        "        for target in vocabulary:\n",
        "            context_dict[context][target] = 0\n",
        "    # add counts for attested ngrams\n",
        "    for ngram, count in Counter(ngrams(tokens, n)).items():\n",
        "        context_dict[ngram[:-1]][ngram[-1]] = count\n",
        "    return context_dict"
      ],
      "execution_count": 92,
      "outputs": []
    },
    {
      "cell_type": "markdown",
      "metadata": {
        "deletable": false,
        "editable": false,
        "id": "gEwoRdx8alRg"
      },
      "source": [
        "Use the `ngram_counts` function to generate count data structures for unigrams, bigrams, and trigrams for the _Green Eggs and Ham_ training text.\n",
        "<!--\n",
        "BEGIN QUESTION\n",
        "name: ngram_counts\n",
        "-->"
      ]
    },
    {
      "cell_type": "code",
      "metadata": {
        "id": "oHYOv4JSalRg"
      },
      "source": [
        "#TODO\n",
        "unigram_counts = ngram_counts(vocabulary, train_tokens, 1)\n",
        "bigram_counts = ngram_counts(vocabulary, train_tokens, 2)\n",
        "trigram_counts = ngram_counts(vocabulary, train_tokens, 3)"
      ],
      "execution_count": 93,
      "outputs": []
    },
    {
      "cell_type": "code",
      "metadata": {
        "deletable": false,
        "editable": false,
        "colab": {
          "base_uri": "https://localhost:8080/",
          "height": 46
        },
        "id": "8ab4NHHkalRg",
        "outputId": "a0ba5900-9ea9-4993-b86b-72c140264f5d"
      },
      "source": [
        "grader.check(\"ngram_counts\")"
      ],
      "execution_count": 94,
      "outputs": [
        {
          "output_type": "execute_result",
          "data": {
            "text/html": [
              "\n",
              "    \n",
              "    \n",
              "        <p>All tests passed!</p>\n",
              "    \n",
              "    "
            ],
            "text/plain": [
              "\n",
              "    All tests passed!\n",
              "    "
            ]
          },
          "metadata": {
            "tags": []
          },
          "execution_count": 94
        }
      ]
    },
    {
      "cell_type": "markdown",
      "metadata": {
        "id": "ZGI_p5fyalRg"
      },
      "source": [
        "Check your work by examining the total count of unigrams, bigrams, and trigrams. Do the numbers make sense?"
      ]
    },
    {
      "cell_type": "code",
      "metadata": {
        "colab": {
          "base_uri": "https://localhost:8080/"
        },
        "id": "Nyp4f0LsalRg",
        "outputId": "2ab14633-8fa7-4920-bee4-9390d17e8a51"
      },
      "source": [
        "# Calculate total counts of tokens, unigrams, bigrams, and trigrams\n",
        "token_count = len(train_tokens)\n",
        "unigram_count = sum(len(unigram_counts[cntxt]) for cntxt in unigram_counts)\n",
        "bigram_count = sum(len(bigram_counts[cntxt]) for cntxt in bigram_counts)\n",
        "trigram_count = sum(len(trigram_counts[cntxt]) for cntxt in trigram_counts)               \n",
        "\n",
        "# Report on the totals\n",
        "print(f\"Tokens:   {token_count:6}\\n\"\n",
        "      f\"Unigrams: {unigram_count:6}\\n\"\n",
        "      f\"Bigrams:  {bigram_count:6}\\n\"\n",
        "      f\"Trigrams: {trigram_count:6}\")"
      ],
      "execution_count": 118,
      "outputs": [
        {
          "output_type": "stream",
          "text": [
            "Tokens:     1147\n",
            "Unigrams:     58\n",
            "Bigrams:    3364\n",
            "Trigrams: 195112\n"
          ],
          "name": "stdout"
        }
      ]
    },
    {
      "cell_type": "markdown",
      "metadata": {
        "deletable": false,
        "editable": false,
        "id": "T7mFid2zalRg"
      },
      "source": [
        "## Calculating $n$-gram probabilities\n",
        "\n",
        "We can convert the counts into a probability model by _normalizing_ the counts. Given an $n$-gram type $x_1, x_2, \\ldots, x_n$, instead of storing the count $\\cnt{x_1, x_2, \\ldots, x_n}$, we store an estimate of the probability \n",
        "\n",
        "\\begin{align*}\n",
        "  \\Pr(x_n \\given x_1, x_2, \\ldots, x_{n-1})\n",
        "  & \\approx \\frac{\\cnt{x_1, x_2, \\ldots, x_n}}{\\cnt{x_1, x_2, \\ldots, x_{n-1}}} \\\\\n",
        "  & = \\frac{\\cnt{x_1, x_2, \\ldots, x_n}}{\\sum_{x'} \\cnt{x_1, x_2, \\ldots, x_{n-1}, x'}}\n",
        "\\end{align*}\n",
        "\n",
        "that is, the ratio of the count of the $n$-gram and the sum of the counts of all $n$-grams with the same context. Fortunately, all of those counts are already stored in the count data structures we've already built. \n",
        "\n",
        "Write a function that takes an $n$-gram count data structure and returns an $n$-gram probability data structure. As with the counts, the probabilities should be stored indexed first by context and then by target.\n",
        "<!--\n",
        "BEGIN QUESTION\n",
        "name: ngram_model\n",
        "-->"
      ]
    },
    {
      "cell_type": "code",
      "metadata": {
        "id": "tUmHN6EfalRg"
      },
      "source": [
        "def ngram_model(ngram_counts):\n",
        "    \"\"\"Returns an n-gram probability model calculated by normalizing the \n",
        "       provided `ngram-counts` dictionary\n",
        "    \"\"\"\n",
        "    ngram_model = {}\n",
        "    for context in ngram_counts:\n",
        "      context_sum = sum([ngram_counts[context][target] for target in ngram_counts[context]])\n",
        "      ngram_model[context] = {}\n",
        "      for target, count in ngram_counts[context].items():\n",
        "        if context_sum == 0:\n",
        "          ngram_model[context][target] = 0\n",
        "        else:\n",
        "          ngram_model[context][target] = count / context_sum\n",
        "\n",
        "    return ngram_model\n"
      ],
      "execution_count": 119,
      "outputs": []
    },
    {
      "cell_type": "code",
      "metadata": {
        "deletable": false,
        "editable": false,
        "colab": {
          "base_uri": "https://localhost:8080/",
          "height": 46
        },
        "id": "E1T4ZeDBalRg",
        "outputId": "9829bb50-7947-4921-ec26-598196469dd6"
      },
      "source": [
        "grader.check(\"ngram_model\")"
      ],
      "execution_count": 120,
      "outputs": [
        {
          "output_type": "execute_result",
          "data": {
            "text/html": [
              "\n",
              "    \n",
              "    \n",
              "        <p>All tests passed!</p>\n",
              "    \n",
              "    "
            ],
            "text/plain": [
              "\n",
              "    All tests passed!\n",
              "    "
            ]
          },
          "metadata": {
            "tags": []
          },
          "execution_count": 120
        }
      ]
    },
    {
      "cell_type": "markdown",
      "metadata": {
        "id": "6-P5CbeFalRi"
      },
      "source": [
        "We can now build some $n$-gram models – unigram, bigram, and trigram – based on the counts."
      ]
    },
    {
      "cell_type": "code",
      "metadata": {
        "id": "1abk_HkJalRi"
      },
      "source": [
        "unigram_model = ngram_model(unigram_counts)\n",
        "bigram_model = ngram_model(bigram_counts)\n",
        "trigram_model = ngram_model(trigram_counts)"
      ],
      "execution_count": 121,
      "outputs": []
    },
    {
      "cell_type": "markdown",
      "metadata": {
        "id": "tVa4tybYalRi"
      },
      "source": [
        "## Space considerations"
      ]
    },
    {
      "cell_type": "markdown",
      "metadata": {
        "id": "O7ptJHT7alRi"
      },
      "source": [
        "For the most part, we aren't too concerned in this course about matters of time or space efficiency, though these are crucial issues in the engineering of NLP systems. But the size of $n$-gram models merits consideration, looking especially at their size as $n$ grows. We can use Python's `sys.getsizeof` function to get a rough sense of the size of the models we've been working with."
      ]
    },
    {
      "cell_type": "code",
      "metadata": {
        "colab": {
          "base_uri": "https://localhost:8080/"
        },
        "id": "R95CMGD2alRi",
        "outputId": "3f4dde99-e045-4614-bea0-a0a19322b38e"
      },
      "source": [
        "print(f\"Tokens:   {getsizeof(train_tokens):6}\\n\"\n",
        "      f\"Unigrams: {getsizeof(unigram_model):6}\\n\"\n",
        "      f\"Bigrams:  {getsizeof(bigram_model):6}\\n\"\n",
        "      f\"Trigrams: {getsizeof(trigram_model):6}\")"
      ],
      "execution_count": 99,
      "outputs": [
        {
          "output_type": "stream",
          "text": [
            "Tokens:     9720\n",
            "Unigrams:    240\n",
            "Bigrams:    2280\n",
            "Trigrams: 147560\n"
          ],
          "name": "stdout"
        }
      ]
    },
    {
      "cell_type": "markdown",
      "metadata": {
        "deletable": false,
        "editable": false,
        "id": "ZaJfK_F-alRi"
      },
      "source": [
        "<!-- BEGIN QUESTION -->\n",
        "\n",
        "**Question:** What do these sizes tell you about the memory usage of $n$-gram models? With a larger vocabulary of, say, 10,000 words, would it be practical to run, say, 5-gram models on your laptop?\n",
        "<!--\n",
        "BEGIN QUESTION\n",
        "name: open_response_sizes\n",
        "manual: true\n",
        "-->"
      ]
    },
    {
      "cell_type": "markdown",
      "metadata": {
        "id": "TJ-hC84calRi"
      },
      "source": [
        "The memory usage increases as the n in the n-grams rises. the size of the memory is a function of the vocabulary size to the power of n (each word in the vocabulary can appear in every part of an n-gram). Therefore, when we use a bigger vocabulary (such as one with 10,000 words, that compared to the 58 words in the training vocabulary is more than 170 times larger) and 5-gram - the memory usage is going to be huge ($10^{4 \\cdot 5} = 10^{20}$) and not practical to run on a laptop."
      ]
    },
    {
      "cell_type": "markdown",
      "metadata": {
        "id": "eO2aM2BQalRi"
      },
      "source": [
        "<!-- END QUESTION -->\n",
        "\n",
        "\n",
        "\n",
        "## Sampling from an $n$-gram model\n",
        "\n",
        "We have cleverly constructed the models to index by context. This allows us to sample a word given its context. For instance, in the trigram context `(\"<s>\", \"SAM:\")`, the following probability distribution captures which words can come next and with what probability:"
      ]
    },
    {
      "cell_type": "code",
      "metadata": {
        "colab": {
          "base_uri": "https://localhost:8080/"
        },
        "id": "rxc2gVP5alRi",
        "outputId": "0af6136c-6d35-47d2-cfd6-46551a707830"
      },
      "source": [
        "trigram_model[(\"<s>\", \"SAM:\")]"
      ],
      "execution_count": 100,
      "outputs": [
        {
          "output_type": "execute_result",
          "data": {
            "text/plain": [
              "{'!': 0.0,\n",
              " ',': 0.0,\n",
              " '.': 0.0,\n",
              " '<s>': 0.0,\n",
              " '?': 0.0,\n",
              " 'GUY:': 0.0,\n",
              " 'SAM:': 0.0,\n",
              " 'a': 0.11764705882352941,\n",
              " 'am': 0.0,\n",
              " 'and': 0.029411764705882353,\n",
              " 'anywhere': 0.0,\n",
              " 'are': 0.0,\n",
              " 'be': 0.0,\n",
              " 'boat': 0.0,\n",
              " 'box': 0.0,\n",
              " 'car': 0.0,\n",
              " 'could': 0.08823529411764706,\n",
              " 'dark': 0.0,\n",
              " 'do': 0.029411764705882353,\n",
              " 'eat': 0.029411764705882353,\n",
              " 'eggs': 0.0,\n",
              " 'fox': 0.0,\n",
              " 'goat': 0.0,\n",
              " 'good': 0.0,\n",
              " 'green': 0.0,\n",
              " 'ham': 0.0,\n",
              " 'here': 0.058823529411764705,\n",
              " 'house': 0.0,\n",
              " 'i': 0.029411764705882353,\n",
              " 'if': 0.0,\n",
              " 'in': 0.029411764705882353,\n",
              " 'let': 0.0,\n",
              " 'like': 0.0,\n",
              " 'may': 0.0,\n",
              " 'me': 0.0,\n",
              " 'mouse': 0.0,\n",
              " 'not': 0.0,\n",
              " 'on': 0.0,\n",
              " 'or': 0.0,\n",
              " 'rain': 0.0,\n",
              " 'sam': 0.029411764705882353,\n",
              " 'sam-i-am': 0.0,\n",
              " 'say': 0.029411764705882353,\n",
              " 'see': 0.0,\n",
              " 'so': 0.029411764705882353,\n",
              " 'thank': 0.0,\n",
              " 'that': 0.0,\n",
              " 'the': 0.0,\n",
              " 'them': 0.0,\n",
              " 'there': 0.0,\n",
              " 'they': 0.0,\n",
              " 'train': 0.0,\n",
              " 'tree': 0.0,\n",
              " 'try': 0.08823529411764706,\n",
              " 'will': 0.0,\n",
              " 'with': 0.0,\n",
              " 'would': 0.2647058823529412,\n",
              " 'you': 0.14705882352941177}"
            ]
          },
          "metadata": {
            "tags": []
          },
          "execution_count": 100
        }
      ]
    },
    {
      "cell_type": "markdown",
      "metadata": {
        "id": "frD1pNVhalRi"
      },
      "source": [
        "We can sample a single token according to this probability distribution. Here's one way to do so."
      ]
    },
    {
      "cell_type": "code",
      "metadata": {
        "id": "hsTZXF-GalRi"
      },
      "source": [
        "def sample(model, context):\n",
        "    \"\"\"Returns a token sampled from the `model` assuming the `context`\"\"\"\n",
        "    distribution = model[context]\n",
        "    prob_remaining = random.random()\n",
        "    for token, prob in sorted(distribution.items()):\n",
        "        if prob_remaining < prob:\n",
        "            return token\n",
        "        else:\n",
        "            prob_remaining -= prob\n",
        "    raise ValueError"
      ],
      "execution_count": 101,
      "outputs": []
    },
    {
      "cell_type": "markdown",
      "metadata": {
        "deletable": false,
        "editable": false,
        "id": "3wLiAJxQalRi"
      },
      "source": [
        "We can extend the sampling to a sequence of words by updating the context as we sample each word.\n",
        "\n",
        "Define a function `sample_sequence` that performs this sampling of a sequence. It's given a model and a starting context and begins by sampling the first token based on the starting context, then updates the starting context to reflect the word just sampled, repeating the process until a specified number of tokens have been sampled.\n",
        "\n",
        "<!--\n",
        "BEGIN QUESTION\n",
        "name: sample_sequence\n",
        "-->"
      ]
    },
    {
      "cell_type": "code",
      "metadata": {
        "id": "Z-RxPrMealRi"
      },
      "source": [
        "#TODO\n",
        "def sample_sequence(model, start_context, count=100):\n",
        "    \"\"\"Returns a sequence of `count` tokens sampled successively\n",
        "       from the `model` *following the `start_context`*.\n",
        "       The length of the returned list should be `count+len(start_context)`.\n",
        "    \"\"\"\n",
        "    random.seed(SEED) # for reproducibility, do not change\n",
        "    final_seq = list(start_context)\n",
        "    seq = list(start_context)\n",
        "    sampled_count = 0\n",
        "    for i in range(count):\n",
        "        s = sample(model, tuple(seq))\n",
        "        seq = (seq + [s])[1:]\n",
        "        final_seq.append(s)\n",
        "        sampled_count+=1\n",
        "    return list(final_seq)"
      ],
      "execution_count": 122,
      "outputs": []
    },
    {
      "cell_type": "code",
      "metadata": {
        "deletable": false,
        "editable": false,
        "id": "DTf07UcealRi",
        "colab": {
          "base_uri": "https://localhost:8080/",
          "height": 46
        },
        "outputId": "056a0abe-6900-4ad4-9941-8d33b7bc0bfe"
      },
      "source": [
        "grader.check(\"sample_sequence\")"
      ],
      "execution_count": 103,
      "outputs": [
        {
          "output_type": "execute_result",
          "data": {
            "text/html": [
              "\n",
              "    \n",
              "    \n",
              "        <p>All tests passed!</p>\n",
              "    \n",
              "    "
            ],
            "text/plain": [
              "\n",
              "    All tests passed!\n",
              "    "
            ]
          },
          "metadata": {
            "tags": []
          },
          "execution_count": 103
        }
      ]
    },
    {
      "cell_type": "markdown",
      "metadata": {
        "id": "0ytaxA9nalRi"
      },
      "source": [
        "Let's try it."
      ]
    },
    {
      "cell_type": "code",
      "metadata": {
        "id": "AJ5smRnmalRi",
        "colab": {
          "base_uri": "https://localhost:8080/"
        },
        "outputId": "cd1d6e42-f928-4ee4-8c0f-93fd20a6a9c6"
      },
      "source": [
        "print(postprocess(sample_sequence(unigram_model, ())))"
      ],
      "execution_count": 104,
      "outputs": [
        {
          "output_type": "stream",
          "text": [
            "would anywhere ! tree with i like . not \n",
            ", on SAM: i i \n",
            "\n",
            ". ! do would , fox could i . i GUY: ham in dark SAM: ? with boat eggs ! do ! \n",
            "could a , i \n",
            "ham \n",
            "with not would \n",
            "GUY: , GUY: sam-i-am \n",
            "\n",
            "would \n",
            "the , a SAM: GUY: say could not could say them anywhere not sam-i-am GUY: . \n",
            "and . eat thank do say in in SAM: like sam-i-am \n",
            "tree GUY: \n",
            "them not or are . a , GUY: ,\n"
          ],
          "name": "stdout"
        }
      ]
    },
    {
      "cell_type": "code",
      "metadata": {
        "id": "XfY15c6yalRi",
        "colab": {
          "base_uri": "https://localhost:8080/"
        },
        "outputId": "ca223be2-d37c-439f-b13f-1b545fdd89b9"
      },
      "source": [
        "print(postprocess(sample_sequence(bigram_model, (\"<s>\",))))"
      ],
      "execution_count": 105,
      "outputs": [
        {
          "output_type": "stream",
          "text": [
            "\n",
            "SAM: sam ! \n",
            "SAM: try them , so good , will let me be ! \n",
            "GUY: and i would eat them here or there . \n",
            "GUY: i do not eat them anywhere . . \n",
            "GUY: i do not , sam-i-am ! \n",
            "GUY: that sam-i-am . \n",
            "GUY: and ham ? \n",
            "GUY: that sam-i-am . \n",
            "GUY: i do not in the dark . \n",
            "GUY: not like them , could not , sam-i-am . \n",
            "SAM: would you , sam-i-am . \n",
            "SAM: eat them on a train ! \n",
            "GUY: and ham !\n"
          ],
          "name": "stdout"
        }
      ]
    },
    {
      "cell_type": "code",
      "metadata": {
        "id": "HiVtjUspalRi",
        "colab": {
          "base_uri": "https://localhost:8080/"
        },
        "outputId": "22d3e521-8939-485d-899c-29e8c53e70db"
      },
      "source": [
        "print(postprocess(sample_sequence(trigram_model, (\"<s>\", \"SAM:\"))))"
      ],
      "execution_count": 106,
      "outputs": [
        {
          "output_type": "stream",
          "text": [
            "\n",
            "SAM: you may , i will not eat green eggs and ham ? \n",
            "GUY: i do not like green eggs and ham . \n",
            "GUY: i do not like them anywhere ! \n",
            "SAM: say ! \n",
            "GUY: and i will eat them in a house . \n",
            "GUY: that sam-i-am ! \n",
            "GUY: not in a tree ! \n",
            "GUY: i do not like them in a tree . \n",
            "GUY: not in a box . \n",
            "GUY: not in the dark . \n",
            "GUY: not in the dark ! \n",
            "SAM: would you , in a car !\n"
          ],
          "name": "stdout"
        }
      ]
    },
    {
      "cell_type": "markdown",
      "metadata": {
        "id": "9NLZSlDxalRi"
      },
      "source": [
        "## Evaluating text according to an $n$-gram model\n",
        "\n",
        "### The probability metric\n",
        "\n",
        "The main point of a language model is to assign probabilities (or similar scores) to texts. For $n$-gram models, that's done according to Equation (1) at the start of the lab. Let's implement that. We define a function `probability` that takes a token sequence and an $n$-gram model (and the $n$ of the model as well) and returns the probability of the token sequence  according to the model. It merely multiplies all of the $n$-gram probabilities for all of the $n$-grams in the token sequence.\n",
        "\n",
        "> Throughout this lab, we ignore the scores of the first n-1 tokens as our n-gram model cannot score them due to the lack of context. In the next lab you will see how to solve this issue in practice."
      ]
    },
    {
      "cell_type": "code",
      "metadata": {
        "id": "arPXNVP0alRi"
      },
      "source": [
        "def probability(tokens, model, n):\n",
        "    \"\"\"Returns the probability of a sequence of `tokens` according to an\n",
        "       `n`-gram `model`\n",
        "    \"\"\"\n",
        "    score = 1.0\n",
        "    context = tokens[0:n-1]\n",
        "    # Ignores the scores of the first n-1 tokens\n",
        "    for token in tokens[n-1:]:\n",
        "        prob = model[tuple(context)][token]\n",
        "        score *= prob\n",
        "        context = (context + [token])[1:]\n",
        "    return score"
      ],
      "execution_count": 107,
      "outputs": []
    },
    {
      "cell_type": "markdown",
      "metadata": {
        "id": "_bVHzqUyalRi"
      },
      "source": [
        "We test it on the test text that we held out from the training text."
      ]
    },
    {
      "cell_type": "code",
      "metadata": {
        "id": "eM48Z6GEalRi",
        "colab": {
          "base_uri": "https://localhost:8080/"
        },
        "outputId": "27e7167d-f849-4f0a-b73b-5e3712ae1a15"
      },
      "source": [
        "print(f\"Test probability - unigram: {probability(test_tokens, unigram_model, 1):6e}\\n\"\n",
        "      f\"Test probability -  bigram: {probability(test_tokens, bigram_model, 2):6e}\\n\"\n",
        "      f\"Test probability - trigram: {probability(test_tokens, trigram_model, 3):6e}\")"
      ],
      "execution_count": 108,
      "outputs": [
        {
          "output_type": "stream",
          "text": [
            "Test probability - unigram: 6.958063e-154\n",
            "Test probability -  bigram: 7.888809e-44\n",
            "Test probability - trigram: 0.000000e+00\n"
          ],
          "name": "stdout"
        }
      ]
    },
    {
      "cell_type": "markdown",
      "metadata": {
        "deletable": false,
        "editable": false,
        "id": "CJUXnEsDalRj"
      },
      "source": [
        "### The negative log probability metric\n",
        "\n",
        "Yikes, those probabilities are _really small_. Multiplying all those small numbers is likely to lead to underflow. \n",
        "\n",
        "To solve the underflow problem, we'll do our usual trick of using negative log probabilities \n",
        "\n",
        "$$ - \\log_2 \\left(\\prod_{i=1}^N \\Prob (x_i \\given x_{i-n+1}, \\cdots, x_{i-1})\\right)$$\n",
        "\n",
        "instead of probabilities.\n",
        "\n",
        "Define a function `neglogprob` that takes a token sequence and an $n$-gram model (and the $n$ of the model as well) and returns the negative log probability of the token sequence according to the model, calculating it in such a way as to avoid underflow. (You'll want to simplify the formula above before implementing it.)\n",
        "\n",
        "> Be careful when confronting zero probabilities. Taking `-math.log2(0)` raises a \"Math domain error\". Instead, you should use `math.inf` (Python's representation of infinity) as the value for the negative log of zero. This accords with our understanding that an impossible event would require infinite bits to specify.\n",
        "\n",
        "<!--\n",
        "BEGIN QUESTION\n",
        "name: neglogprob\n",
        "-->"
      ]
    },
    {
      "cell_type": "code",
      "metadata": {
        "id": "Er3hZ4TZalRj"
      },
      "source": [
        "#TODO\n",
        "def neglogprob(tokens, model, n):\n",
        "    \"\"\"Returns the negative log probability of a sequence of `tokens`\n",
        "       according to an `n`-gram `model`\n",
        "    \"\"\"\n",
        "    score = 0.0\n",
        "    context = tokens[0:n-1]\n",
        "    # Ignores the scores of the first n-1 tokens\n",
        "    for token in tokens[n-1:]:\n",
        "        prob = model[tuple(context)][token]\n",
        "        score += -math.log2(prob) if prob > 0 else math.inf\n",
        "        context = (context + [token])[1:]\n",
        "    return score"
      ],
      "execution_count": 109,
      "outputs": []
    },
    {
      "cell_type": "code",
      "metadata": {
        "deletable": false,
        "editable": false,
        "id": "xWuqqiTealRj",
        "colab": {
          "base_uri": "https://localhost:8080/",
          "height": 46
        },
        "outputId": "5691757e-bd98-4bfd-feee-ecbb2cf965aa"
      },
      "source": [
        "grader.check(\"neglogprob\")"
      ],
      "execution_count": 110,
      "outputs": [
        {
          "output_type": "execute_result",
          "data": {
            "text/html": [
              "\n",
              "    \n",
              "    \n",
              "        <p>All tests passed!</p>\n",
              "    \n",
              "    "
            ],
            "text/plain": [
              "\n",
              "    All tests passed!\n",
              "    "
            ]
          },
          "metadata": {
            "tags": []
          },
          "execution_count": 110
        }
      ]
    },
    {
      "cell_type": "markdown",
      "metadata": {
        "id": "3P_yCKZFalRj"
      },
      "source": [
        "We compute the negative log probabilities of the test text using the different models and report on them."
      ]
    },
    {
      "cell_type": "code",
      "metadata": {
        "id": "0GmpA_1yalRj",
        "colab": {
          "base_uri": "https://localhost:8080/"
        },
        "outputId": "ff55ef6f-9849-4289-d6d1-66c3fd143bff"
      },
      "source": [
        "unigram_test_nlp = neglogprob(test_tokens, unigram_model, 1)\n",
        "bigram_test_nlp = neglogprob(test_tokens, bigram_model, 2)\n",
        "trigram_test_nlp = neglogprob(test_tokens, trigram_model, 3)\n",
        "\n",
        "print(f\"Test neglogprob - unigram: {unigram_test_nlp:6f}\\n\"\n",
        "      f\"Test neglogprob -  bigram: {bigram_test_nlp:6f}\\n\"\n",
        "      f\"Test neglogprob - trigram: {trigram_test_nlp:6f}\")"
      ],
      "execution_count": 111,
      "outputs": [
        {
          "output_type": "stream",
          "text": [
            "Test neglogprob - unigram: 508.778241\n",
            "Test neglogprob -  bigram: 143.185029\n",
            "Test neglogprob - trigram:    inf\n"
          ],
          "name": "stdout"
        }
      ]
    },
    {
      "cell_type": "markdown",
      "metadata": {
        "id": "4Abs6XkCalRj"
      },
      "source": [
        "There, those numbers seem more manageable. We can even convert the neglogprobs back into probabilities as a sanity check."
      ]
    },
    {
      "cell_type": "code",
      "metadata": {
        "id": "yQLfU8wCalRj",
        "colab": {
          "base_uri": "https://localhost:8080/"
        },
        "outputId": "f8ee163c-8aea-46f7-ba1f-796a2bfe895d"
      },
      "source": [
        "print(f\"Test probability - unigram: {2 ** (-unigram_test_nlp):6e}\\n\"\n",
        "      f\"Test probability -  bigram: {2 ** (-bigram_test_nlp):6e}\\n\"\n",
        "      f\"Test probability - trigram: {2 ** (-trigram_test_nlp):6e}\")"
      ],
      "execution_count": 112,
      "outputs": [
        {
          "output_type": "stream",
          "text": [
            "Test probability - unigram: 6.958063e-154\n",
            "Test probability -  bigram: 7.888809e-44\n",
            "Test probability - trigram: 0.000000e+00\n"
          ],
          "name": "stdout"
        }
      ]
    },
    {
      "cell_type": "markdown",
      "metadata": {
        "deletable": false,
        "editable": false,
        "id": "EYEElxu4alRj"
      },
      "source": [
        "<!-- BEGIN QUESTION -->\n",
        "\n",
        "**Question:** Why does the bigram model assign a lower neglogprob (that is, a higher probability) to the test text than the unigram model? Why does the trigram model assign a higher neglogprob (lower probability) to the test text than the other models?\n",
        "<!--\n",
        "BEGIN QUESTION\n",
        "name: open_response_ordering\n",
        "manual: true\n",
        "-->"
      ]
    },
    {
      "cell_type": "markdown",
      "metadata": {
        "id": "Yhsxg7RUalRj"
      },
      "source": [
        "The unigram model gives each word a probability based on the number of its occurances, with no context at all. Thus words contribute a decrease in the probability by the factor of the word appearances divided by the total number of words. That mean the very rare words will make the whole probability low.\n",
        "\n",
        "In the bigram model we count the occurences of a word after a context and divide by the context's number of occurences. In this calculation not all of the words are taken into account (as in the unigram), but only the words that appeared after the context. The probability of a rare word to be found after the context in the training (after more frequent word) is greater than it's probability to be found on it's own, it is observable from this formula:\n",
        "![image.png](data:image/png;base64,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)\n",
        "\n",
        "Thus, we expect that the rare words probabilities in some sense get smoother and normilized by the other words probabilities, which causes the whole probabilities to rise.\n",
        "\n",
        "The trigram model gave zero probability to the test. That is a result of a context followed by a word that is being seen in the test but not in the training. Without smoothing such a case is given a probability of zero. Since we multiply probabilities - even one event where a sequence (context and word) is seen for the first time in the test, pushes the probability of the entire text to zero."
      ]
    },
    {
      "cell_type": "markdown",
      "metadata": {
        "deletable": false,
        "editable": false,
        "id": "ka-tckfnalRj"
      },
      "source": [
        "<!-- END QUESTION -->\n",
        "\n",
        "### The perplexity metric\n",
        "\n",
        "Another metric that is commonly used is _perplexity_. Jurafsky and Martin give a definition for perplexity as the \"inverse probability of the test set normalized by the number of words\":\n",
        "\n",
        "$$ PP(x_1, x_2, \\ldots, x_N) = \n",
        "     \\sqrt[N]{\\frac{1}{\\prod_{i=1}^N \\Prob (x_i \\given x_{i-n+1}, \\cdots, x_{i-1})}}\n",
        "$$\n",
        "\n",
        "Define a function `perplexity` that takes a token sequence and an $n$-gram model (and the $n$ of the model as well) and returns the perplexity of the token sequence according to the model, calculating it in such a way as to avoid underflow. (By now you're smart enough to realize that you'll want to carry out most of that calculation inside a $\\log$.)\n",
        "\n",
        "> Remember that we ignored the scores of the first n-1 tokens, what should the number of words `N` be?\n",
        "\n",
        "<!--\n",
        "BEGIN QUESTION\n",
        "name: perplexity\n",
        "-->"
      ]
    },
    {
      "cell_type": "code",
      "metadata": {
        "id": "R8ZpReznalRj"
      },
      "source": [
        "#TODO\n",
        "def perplexity(tokens, model, n):\n",
        "    \"\"\"Returns the perplexity of a sequence of `tokens` according to an\n",
        "       `n`-gram `model`\n",
        "    \"\"\"\n",
        "    inversed_mult_probs = 2 ** neglogprob(tokens, model, n) # 2^{-Sigma_i(log(1/prob_i))} = P_i(1/prob_i)\n",
        "    return inversed_mult_probs ** (1/(len(tokens)-(n-1)))"
      ],
      "execution_count": 113,
      "outputs": []
    },
    {
      "cell_type": "code",
      "metadata": {
        "deletable": false,
        "editable": false,
        "id": "z3-uUoPOalRj",
        "colab": {
          "base_uri": "https://localhost:8080/",
          "height": 46
        },
        "outputId": "3f4923ab-1d59-4942-a411-bb934429b117"
      },
      "source": [
        "grader.check(\"perplexity\")"
      ],
      "execution_count": 114,
      "outputs": [
        {
          "output_type": "execute_result",
          "data": {
            "text/html": [
              "\n",
              "    \n",
              "    \n",
              "        <p>All tests passed!</p>\n",
              "    \n",
              "    "
            ],
            "text/plain": [
              "\n",
              "    All tests passed!\n",
              "    "
            ]
          },
          "metadata": {
            "tags": []
          },
          "execution_count": 114
        }
      ]
    },
    {
      "cell_type": "markdown",
      "metadata": {
        "id": "Ux-zVsT4alRj"
      },
      "source": [
        "We can look at the perplexity of the test sample according to each of the models."
      ]
    },
    {
      "cell_type": "code",
      "metadata": {
        "id": "Qcxz4eKkalRj",
        "colab": {
          "base_uri": "https://localhost:8080/"
        },
        "outputId": "02ae7700-8113-4b19-fce3-3cf8a1fe36df"
      },
      "source": [
        "print(f\"Test perplexity - unigram: {perplexity(test_tokens, unigram_model, 1):.3e}\\n\"\n",
        "      f\"Test perplexity -  bigram: {perplexity(test_tokens, bigram_model, 2):.3e}\\n\"\n",
        "      f\"Test perplexity - trigram: {perplexity(test_tokens, trigram_model, 3):.3e}\")"
      ],
      "execution_count": 115,
      "outputs": [
        {
          "output_type": "stream",
          "text": [
            "Test perplexity - unigram: 3.174e+01\n",
            "Test perplexity -  bigram: 2.672e+00\n",
            "Test perplexity - trigram: inf\n"
          ],
          "name": "stdout"
        }
      ]
    },
    {
      "cell_type": "markdown",
      "metadata": {
        "id": "RmLZAplralRj"
      },
      "source": [
        "A perplexity value of $P$ can be interpreted as a measure of a model's average uncertainty in selecting each word equivalent to selecting among $P$ equiprobable words on average. The bigram model gives a perplexity of less than 3, indicating that at each word in the sentence, the model is acting as if selecting among (slightly less than) three equiprobable words.\n",
        "\n",
        "For comparison, state of the art $n$-gram language models for more representative English text achieve perplexities of about 250."
      ]
    },
    {
      "cell_type": "markdown",
      "metadata": {
        "deletable": false,
        "editable": false,
        "id": "BKI5obsealRj"
      },
      "source": [
        "<!-- BEGIN QUESTION -->\n",
        "\n",
        "## Consensus section: Smoothing $n$-gram language models\n",
        "\n",
        "> **This section is more open-ended in nature and need only be turned in for the consensus submission of the lab.**\n",
        "\n",
        "The models we've been using have lots of zero-probability $n$-grams. Essentially any $n$-gram that doesn't appear on the training text is imputed a probability of zero, which means that any sentence that contains that $n$-gram will also be given a zero probability. Clearly this is not an accurate estimate.\n",
        "\n",
        "There are many ways to _smooth_ $n$-gram models, just as you smoothed classification models in earlier labs. The simplest is probably add-$\\delta$ smoothing. \n",
        "\n",
        "$$ \\Prob(x_i \\given x_1 \\ldots x_{i-1})\n",
        "  \\approx \\frac{\\cnt{x_1, x_2, \\ldots, x_n} + \\delta}{\\cnt{x_1, x_2, \\ldots, x_{n-1}} + \\delta \\cdot |V|}\n",
        "$$\n",
        "\n",
        "Another useful method is to interpolate multiple $n$-gram models, for instance, estimating probabilities as an interpolation of trigram, bigram, and unigram models.\n",
        "\n",
        "$$ \\Prob(x_i \\given x_1 \\ldots x_{i-1}) \\approx\n",
        "     \\lambda_2 \\Prob(x_i \\given x_{i-2}, x_{i-1}) \n",
        "     + \\lambda_1 \\Prob(x_i \\given x_{i-1}) \n",
        "     + (1 - \\lambda_1 - \\lambda_2) \\Prob(x_i)\n",
        "$$\n",
        "\n",
        "Finally, a method called _backoff_ uses higher-order $n$-gram probabilities where available, \"backing off\" to lower order where necessary.\n",
        "\n",
        "$$\n",
        "\\Prob(x_i \\given x_1 \\ldots x_{i-1}) \\approx \\begin{cases}\n",
        "    \\Prob(x_i \\given x_{i-2}, x_{i-1}) & \\mbox{if $\\Prob(x_i \\given x_{i-2}, x_{i-1}) > 0$}\\\\\n",
        "    \\Prob(x_i \\given x_{i-1})          & \\mbox{if $\\Prob(x_i \\given x_{i-2}, x_{i-1}) = 0$ and $\\Prob(x_i \\given x_{i-1}) > 0$}\\\\\n",
        "    \\Prob(x_i)                         & \\mbox{otherwise}\n",
        "  \\end{cases}\n",
        "$$\n",
        "\n",
        "Define a function `ngram_model_smoothed`, like the `ngram_model` function from above, but implementing one of these smoothing methods. Compare its perplexity on some sample text to the unsmoothed model. \n",
        "\n",
        "<!--\n",
        "BEGIN QUESTION\n",
        "name: open_response_smoothed_model\n",
        "manual: true\n",
        "-->"
      ]
    },
    {
      "cell_type": "code",
      "metadata": {
        "id": "VRjsrgT8alRj"
      },
      "source": [
        "\"\"\"\n",
        "#TODO\n",
        "Place your definition of `ngram_model_smoothed` and whatever other testing \n",
        "of it you'd like to do in this and subsequent cells.\n",
        "\"\"\"\n",
        "def ngram_model_smoothed(ngram_counts):\n",
        "    \"\"\"Returns an n-gram probability model calculated by normalizing the \n",
        "       provided `ngram-counts` dictionary\n",
        "    \"\"\"\n",
        "    ngram_model = {}\n",
        "    for context in ngram_counts:\n",
        "      context_sum = sum([ngram_counts[context][target] for target in ngram_counts[context]])\n",
        "      ngram_model[context] = {}\n",
        "      for target, count in ngram_counts[context].items():\n",
        "        if context_sum == 0:\n",
        "          ngram_model[context][target] = 0\n",
        "        else:\n",
        "          ngram_model[context][target] = (count+10) / (context_sum+10*len(vocabulary))\n",
        "\n",
        "    return ngram_model"
      ],
      "execution_count": 116,
      "outputs": []
    },
    {
      "cell_type": "markdown",
      "metadata": {
        "deletable": false,
        "editable": false,
        "id": "fLYbDYvcalRj"
      },
      "source": [
        "<!-- END QUESTION -->\n",
        "\n",
        "<!-- BEGIN QUESTION -->\n",
        "\n",
        "## Lab debrief – for consensus submission only\n",
        "\n",
        "**Question:** We're interested in any thoughts your group has about this lab so that we can improve this lab for later years, and to inform later labs for this year. Please list any issues that arose or comments you have to improve the lab. Useful things to comment on include the following: \n",
        "\n",
        "* Was the lab too long or too short?\n",
        "* Were the readings appropriate for the lab? \n",
        "* Was it clear (at least after you completed the lab) what the points of the exercises were? \n",
        "* Are there additions or changes you think would make the lab better?\n",
        "\n",
        "<!--\n",
        "BEGIN QUESTION\n",
        "name: open_response_debrief\n",
        "manual: true\n",
        "-->"
      ]
    },
    {
      "cell_type": "markdown",
      "metadata": {
        "id": "EssIY3M6alRj"
      },
      "source": [
        "_Type your answer here, replacing this text._"
      ]
    },
    {
      "cell_type": "markdown",
      "metadata": {
        "id": "2o4c9CQpalRj"
      },
      "source": [
        "<!-- END QUESTION -->\n",
        "\n",
        "\n",
        "\n",
        "# End of Lab 2-1"
      ]
    },
    {
      "cell_type": "markdown",
      "metadata": {
        "deletable": false,
        "editable": false,
        "id": "GLuD60l2alRj"
      },
      "source": [
        "---\n",
        "\n",
        "To double-check your work, the cell below will rerun all of the autograder tests."
      ]
    },
    {
      "cell_type": "code",
      "metadata": {
        "deletable": false,
        "editable": false,
        "id": "2lR0mB3kalRj",
        "colab": {
          "base_uri": "https://localhost:8080/",
          "height": 297
        },
        "outputId": "701645ff-b91a-42c4-87ba-065a72ffb0fe"
      },
      "source": [
        "grader.check_all()"
      ],
      "execution_count": 117,
      "outputs": [
        {
          "output_type": "execute_result",
          "data": {
            "text/html": [
              "<p><strong>all_ngrams:</strong></p>\n",
              "\n",
              "    \n",
              "    \n",
              "        <p>All tests passed!</p>\n",
              "    \n",
              "    \n",
              "\n",
              "<p><strong>neglogprob:</strong></p>\n",
              "\n",
              "    \n",
              "    \n",
              "        <p>All tests passed!</p>\n",
              "    \n",
              "    \n",
              "\n",
              "<p><strong>ngram_counts:</strong></p>\n",
              "\n",
              "    \n",
              "    \n",
              "        <p>All tests passed!</p>\n",
              "    \n",
              "    \n",
              "\n",
              "<p><strong>ngram_model:</strong></p>\n",
              "\n",
              "    \n",
              "    \n",
              "        <p>All tests passed!</p>\n",
              "    \n",
              "    \n",
              "\n",
              "<p><strong>perplexity:</strong></p>\n",
              "\n",
              "    \n",
              "    \n",
              "        <p>All tests passed!</p>\n",
              "    \n",
              "    \n",
              "\n",
              "<p><strong>sample_sequence:</strong></p>\n",
              "\n",
              "    \n",
              "    \n",
              "        <p>All tests passed!</p>\n",
              "    \n",
              "    \n",
              "\n"
            ],
            "text/plain": [
              "all_ngrams:\n",
              "\n",
              "    All tests passed!\n",
              "    \n",
              "\n",
              "neglogprob:\n",
              "\n",
              "    All tests passed!\n",
              "    \n",
              "\n",
              "ngram_counts:\n",
              "\n",
              "    All tests passed!\n",
              "    \n",
              "\n",
              "ngram_model:\n",
              "\n",
              "    All tests passed!\n",
              "    \n",
              "\n",
              "perplexity:\n",
              "\n",
              "    All tests passed!\n",
              "    \n",
              "\n",
              "sample_sequence:\n",
              "\n",
              "    All tests passed!\n",
              "    \n"
            ]
          },
          "metadata": {
            "tags": []
          },
          "execution_count": 117
        }
      ]
    }
  ]
}