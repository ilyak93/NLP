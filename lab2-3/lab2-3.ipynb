{
  "nbformat": 4,
  "nbformat_minor": 0,
  "metadata": {
    "colab": {
      "name": "Copy of lab2-2.ipynb",
      "provenance": [],
      "collapsed_sections": [],
      "toc_visible": true
    },
    "kernelspec": {
      "display_name": "Python 3",
      "language": "python",
      "name": "python3"
    },
    "language_info": {
      "codemirror_mode": {
        "name": "ipython",
        "version": 3
      },
      "file_extension": ".py",
      "mimetype": "text/x-python",
      "name": "python",
      "nbconvert_exporter": "python",
      "pygments_lexer": "ipython3",
      "version": "3.8.3"
    },
    "title": "CS187 Lab 2-3: Language modeling with neural networks"
  },
  "cells": [
    {
      "cell_type": "code",
      "metadata": {
        "deletable": false,
        "editable": false,
        "jupyter": {
          "outputs_hidden": true,
          "source_hidden": true
        },
        "id": "4RuVRxYQce_f",
        "colab": {
          "base_uri": "https://localhost:8080/"
        },
        "outputId": "78995168-0310-4c6f-8112-9e15dd8ebf32"
      },
      "source": [
        "# Please do not change this cell because some hidden tests might depend on it.\n",
        "import os\n",
        "\n",
        "# Otter grader does not handle ! commands well, so we define and use our\n",
        "# own function to execute shell commands.\n",
        "def shell(commands, warn=True):\n",
        "    \"\"\"Executes the string `commands` as a sequence of shell commands.\n",
        "     \n",
        "       Prints the result to stdout and returns the exit status. \n",
        "       Provides a printed warning on non-zero exit status unless `warn` \n",
        "       flag is unset.\n",
        "    \"\"\"\n",
        "    file = os.popen(commands)\n",
        "    print (file.read().rstrip('\\n'))\n",
        "    exit_status = file.close()\n",
        "    if warn and exit_status != None:\n",
        "        print(f\"Completed with errors. Exit status: {exit_status}\\n\")\n",
        "    return exit_status\n",
        "\n",
        "shell(\"\"\"\n",
        "ls requirements.txt >/dev/null 2>&1\n",
        "if [ ! $? = 0 ]; then\n",
        " rm -rf .tmp\n",
        " git clone https://github.com/cs236299-2020/lab2-3.git .tmp\n",
        " mv .tmp/tests ./\n",
        " mv .tmp/requirements.txt ./\n",
        " rm -rf .tmp\n",
        "fi\n",
        "pip install -q -r requirements.txt\n",
        "\"\"\")"
      ],
      "execution_count": 1,
      "outputs": [
        {
          "output_type": "stream",
          "text": [
            "\n"
          ],
          "name": "stdout"
        }
      ]
    },
    {
      "cell_type": "code",
      "metadata": {
        "deletable": false,
        "editable": false,
        "id": "L3S0jIl3ce_g"
      },
      "source": [
        "# Initialize Otter\n",
        "import otter\n",
        "grader = otter.Notebook()"
      ],
      "execution_count": 2,
      "outputs": []
    },
    {
      "cell_type": "markdown",
      "metadata": {
        "id": "-zGJsXLo2Loc"
      },
      "source": [
        "# Lab 2-3 – Language modeling with neural networks\n",
        "\n",
        "In lab 2-1, you built and tested $n$-gram language models. Recall that some problems with $n$-gram language models are:\n",
        "\n",
        "1. They are profligate with memory.\n",
        "2. They are sensitive to very limited context.\n",
        "3. They don't generalize well across similar words.\n",
        "\n",
        "As promised, in this lab, you'll explore neural models to address these failings. You will:\n",
        "\n",
        "1. Build and test a neural $n$-gram language model.\n",
        "2. Build and test a neural RNN language model.\n",
        "3. Use language models for classification."
      ]
    },
    {
      "cell_type": "markdown",
      "metadata": {
        "id": "M7rAIhx8FPqP"
      },
      "source": [
        "## Setup"
      ]
    },
    {
      "cell_type": "markdown",
      "metadata": {
        "id": "A2uTv_gace_g"
      },
      "source": [
        "%%latex\n",
        "\\newcommand{\\vect}[1]{\\mathbf{#1}}\n",
        "\\newcommand{\\cnt}[1]{\\sharp(#1)}\n",
        "\\newcommand{\\argmax}[1]{\\underset{#1}{\\operatorname{argmax}}}\n",
        "\\newcommand{\\softmax}{\\operatorname{softmax}}\n",
        "\\newcommand{\\Prob}{\\Pr}\n",
        "\\newcommand{\\given}{\\,|\\,}"
      ]
    },
    {
      "cell_type": "markdown",
      "metadata": {
        "id": "NgDr5U6ece_g"
      },
      "source": [
        "$$\n",
        "\\renewcommand{\\vect}[1]{\\mathbf{#1}}\n",
        "\\renewcommand{\\cnt}[1]{\\sharp(#1)}\n",
        "\\renewcommand{\\argmax}[1]{\\underset{#1}{\\operatorname{argmax}}}\n",
        "\\renewcommand{\\softmax}{\\operatorname{softmax}}\n",
        "\\renewcommand{\\Prob}{\\Pr}\n",
        "\\renewcommand{\\given}{\\,|\\,}\n",
        "$$"
      ]
    },
    {
      "cell_type": "code",
      "metadata": {
        "deletable": false,
        "editable": false,
        "id": "1fkMih2bVz1G"
      },
      "source": [
        "import json\n",
        "import math\n",
        "import random\n",
        "\n",
        "import torch\n",
        "import torchtext"
      ],
      "execution_count": 3,
      "outputs": []
    },
    {
      "cell_type": "code",
      "metadata": {
        "colab": {
          "base_uri": "https://localhost:8080/"
        },
        "id": "YFCtjJ1Uce_g",
        "outputId": "e184b7e0-4f7e-416a-d528-f43389939e88"
      },
      "source": [
        "# Set random seeds\n",
        "SEED = 1234\n",
        "torch.manual_seed(SEED)\n",
        "random.seed(SEED)\n",
        "\n",
        "# GPU check, sets runtime type to \"GPU\" where available\n",
        "device = torch.device(\"cuda\" if torch.cuda.is_available() else \"cpu\")\n",
        "print (device)"
      ],
      "execution_count": 4,
      "outputs": [
        {
          "output_type": "stream",
          "text": [
            "cuda\n"
          ],
          "name": "stdout"
        }
      ]
    },
    {
      "cell_type": "markdown",
      "metadata": {
        "id": "Sv4t3pQEFU_A"
      },
      "source": [
        "The corpus used throughout this lab is the Federalist papers. We've trained and provided neural language models on papers authored by Hamilton and Madison, respectively, which we download here."
      ]
    },
    {
      "cell_type": "code",
      "metadata": {
        "colab": {
          "base_uri": "https://localhost:8080/"
        },
        "id": "t7yYjgpAFZ6K",
        "outputId": "b27b3f95-690e-42c8-cd76-0131bc72729b"
      },
      "source": [
        "# Download data\n",
        "shell(\"wget -nv -N -P data https://raw.githubusercontent.com/nlp-236299/data/master/Federalist/federalist_data_raw2.json\")\n",
        "dataset = json.load(open('data/federalist_data_raw2.json'))\n",
        "\n",
        "# Download vocabulary\n",
        "shell(\"wget -nv -N -P data https://raw.githubusercontent.com/nlp-236299/data/master/Federalist/text_field.pt\")\n",
        "TEXT = torch.load('data/text_field.pt')\n",
        "\n",
        "# Download pretrained language models (LM)\n",
        "# Feedforward LM, Hamilton\n",
        "shell(\"wget -nv -N -P data https://raw.githubusercontent.com/nlp-236299/data/master/Federalist/ffnn_lm_h.pt\")\n",
        "# Feedforward LM, Madison\n",
        "shell(\"wget -nv -N -P data https://raw.githubusercontent.com/nlp-236299/data/master/Federalist/ffnn_lm_m.pt\")\n",
        "# RNN LM, Hamilton\n",
        "shell(\"wget -nv -N -P data https://raw.githubusercontent.com/nlp-236299/data/master/Federalist/rnn_lm_h.pt\")\n",
        "# RNN LM, Madison\n",
        "shell(\"wget -nv -N -P data https://raw.githubusercontent.com/nlp-236299/data/master/Federalist/rnn_lm_m.pt\")"
      ],
      "execution_count": 5,
      "outputs": [
        {
          "output_type": "stream",
          "text": [
            "\n",
            "\n",
            "\n",
            "\n",
            "\n",
            "\n"
          ],
          "name": "stdout"
        }
      ]
    },
    {
      "cell_type": "markdown",
      "metadata": {
        "id": "42AYT1398aPD"
      },
      "source": [
        "First, let's split the dataset into training, validation, and test sets. Since we have provided pretrained models, we are not using the training set in this lab. In the homework assignments, you will have opportunities to train models yourself.\n",
        "\n",
        "For this lab, we use a test set `testing`, which is the same as we used in lab 1-2. But for the validation set, we have separate ones for papers authored by Hamilton (`validation_hamilton`) and papers authored by Madison (`validation_madison`)."
      ]
    },
    {
      "cell_type": "code",
      "metadata": {
        "colab": {
          "base_uri": "https://localhost:8080/"
        },
        "id": "xYFAZyKixwMX",
        "outputId": "9d07890b-0b73-46fb-c6b9-1cf14bd497cd"
      },
      "source": [
        "# Split training, validation, and test sets\n",
        "TRAIN_RATIO = 0.9\n",
        "# Extract the papers of unknown authorship\n",
        "testing = list(filter(lambda ex: ex['authors'] == 'Hamilton or Madison',\n",
        "                      dataset))\n",
        "# Change gold labels in-place\n",
        "for ex in testing:\n",
        "  ex['authors'] = 'Madison'\n",
        "\n",
        "# Extract the papers by Madison\n",
        "dataset_madison = list(filter(lambda ex: ex['authors']=='Madison', dataset))\n",
        "random.seed(SEED)\n",
        "random.shuffle(dataset_madison)\n",
        "training_size_madison = int(math.floor(TRAIN_RATIO * len(dataset_madison)))\n",
        "validation_madison = dataset_madison[training_size_madison:]\n",
        "\n",
        "# Extract the papers by Hamilton\n",
        "dataset_hamilton = list(filter(lambda ex: ex['authors']=='Hamilton', dataset))\n",
        "random.seed(SEED)\n",
        "random.shuffle(dataset_hamilton)\n",
        "training_size_hamilton = int(math.floor(TRAIN_RATIO * len(dataset_hamilton)))\n",
        "validation_hamilton = dataset_hamilton[training_size_hamilton:]\n",
        "\n",
        "# We only consider the first 200 tokens of each document for speed\n",
        "def truncate(s, k=200):\n",
        "  for document in s:\n",
        "    document['tokens'] = document['tokens'][:k]\n",
        "truncate(validation_madison)\n",
        "truncate(validation_hamilton)\n",
        "truncate(testing)\n",
        "\n",
        "print (f\"Madison Validation Size: {len(validation_madison)} documents\\n\"\n",
        "       f\"Hamilton Validation Size: {len(validation_hamilton)} documents\")"
      ],
      "execution_count": 6,
      "outputs": [
        {
          "output_type": "stream",
          "text": [
            "Madison Validation Size: 3 documents\n",
            "Hamilton Validation Size: 6 documents\n"
          ],
          "name": "stdout"
        }
      ]
    },
    {
      "cell_type": "markdown",
      "metadata": {
        "id": "nqQkNyOl7BJa"
      },
      "source": [
        "Note that, unlike in labs 1-2 and 1-3, here we consider _all_ word types in the data. Let's look at an example:"
      ]
    },
    {
      "cell_type": "code",
      "metadata": {
        "colab": {
          "base_uri": "https://localhost:8080/"
        },
        "id": "ZColoMI0UB1j",
        "outputId": "5af9ebf0-8879-4c16-e3f3-d983ef25a7be"
      },
      "source": [
        "print (f\"Example (Madison): {validation_madison[0]['tokens']}\\n\\n\"\n",
        "       f\"Example (Hamilton): {validation_hamilton[0]['tokens']}\")"
      ],
      "execution_count": 7,
      "outputs": [
        {
          "output_type": "stream",
          "text": [
            "Example (Madison): ['it', 'is', 'not', 'a', 'little', 'remarkable', 'that', 'in', 'every', 'case', 'reported', 'by', 'ancient', 'history', ',', 'in', 'which', 'government', 'has', 'been', 'established', 'with', 'deliberation', 'and', 'consent', ',', 'the', 'task', 'of', 'framing', 'it', 'has', 'not', 'been', 'committed', 'to', 'an', 'assembly', 'of', 'men', ',', 'but', 'has', 'been', 'performed', 'by', 'some', 'individual', 'citizen', 'of', 'preeminent', 'wisdom', 'and', 'approved', 'integrity', '.', 'minos', ',', 'we', 'learn', ',', 'was', 'the', 'primitive', 'founder', 'of', 'the', 'government', 'of', 'crete', ',', 'as', 'zaleucus', 'was', 'of', 'that', 'of', 'the', 'locrians', '.', 'theseus', 'first', ',', 'and', 'after', 'him', 'draco', 'and', 'solon', ',', 'instituted', 'the', 'government', 'of', 'athens', '.', 'lycurgus', 'was', 'the', 'lawgiver', 'of', 'sparta', '.', 'the', 'foundation', 'of', 'the', 'original', 'government', 'of', 'rome', 'was', 'laid', 'by', 'romulus', ',', 'and', 'the', 'work', 'completed', 'by', 'two', 'of', 'his', 'elective', 'successors', ',', 'numa', 'and', 'tullius', 'hostilius', '.', 'on', 'the', 'abolition', 'of', 'royalty', 'the', 'consular', 'administration', 'was', 'substituted', 'by', 'brutus', ',', 'who', 'stepped', 'forward', 'with', 'a', 'project', 'for', 'such', 'a', 'reform', ',', 'which', ',', 'he', 'alleged', ',', 'had', 'been', 'prepared', 'by', 'tullius', 'hostilius', ',', 'and', 'to', 'which', 'his', 'address', 'obtained', 'the', 'assent', 'and', 'ratification', 'of', 'the', 'senate', 'and', 'people', '.', 'this', 'remark', 'is', 'applicable', 'to', 'confederate', 'governments', 'also', '.', 'amphictyon', ',', 'we', 'are', 'told', ',', 'was']\n",
            "\n",
            "Example (Hamilton): ['the', 'administration', 'of', 'government', ',', 'in', 'its', 'largest', 'sense', ',', 'comprehends', 'all', 'the', 'operations', 'of', 'the', 'body', 'politic', ',', 'whether', 'legislative', ',', 'executive', ',', 'or', 'judiciary', 'but', 'in', 'its', 'most', 'usual', ',', 'and', 'perhaps', 'its', 'most', 'precise', 'signification', '.', 'it', 'is', 'limited', 'to', 'executive', 'details', ',', 'and', 'falls', 'peculiarly', 'within', 'the', 'province', 'of', 'the', 'executive', 'department', '.', 'the', 'actual', 'conduct', 'of', 'foreign', 'negotiations', ',', 'the', 'preparatory', 'plans', 'of', 'finance', ',', 'the', 'application', 'and', 'disbursement', 'of', 'the', 'public', 'moneys', 'in', 'conformity', 'to', 'the', 'general', 'appropriations', 'of', 'the', 'legislature', ',', 'the', 'arrangement', 'of', 'the', 'army', 'and', 'navy', ',', 'the', 'directions', 'of', 'the', 'operations', 'of', 'war', ',', 'these', ',', 'and', 'other', 'matters', 'of', 'a', 'like', 'nature', ',', 'constitute', 'what', 'seems', 'to', 'be', 'most', 'properly', 'understood', 'by', 'the', 'administration', 'of', 'government', '.', 'the', 'persons', ',', 'therefore', ',', 'to', 'whose', 'immediate', 'management', 'these', 'different', 'matters', 'are', 'committed', ',', 'ought', 'to', 'be', 'considered', 'as', 'the', 'assistants', 'or', 'deputies', 'of', 'the', 'chief', 'magistrate', ',', 'and', 'on', 'this', 'account', ',', 'they', 'ought', 'to', 'derive', 'their', 'offices', 'from', 'his', 'appointment', ',', 'at', 'least', 'from', 'his', 'nomination', ',', 'and', 'ought', 'to', 'be', 'subject', 'to', 'his', 'superintendence', '.', 'this', 'view', 'of', 'the', 'subject', 'will', 'at', 'once', 'suggest', 'to', 'us', 'the', 'intimate']\n"
          ],
          "name": "stdout"
        }
      ]
    },
    {
      "cell_type": "markdown",
      "metadata": {
        "id": "5deKj8K4bla5"
      },
      "source": [
        "## The $n$-gram feedforward network\n",
        "\n",
        "In lab 2-1, you built an $n$-gram language model using a lookup table. However, that model assigns zero probability to any $n$-gram that doesn't appear in the training text (without smoothing). In this lab, we consider a neural-network-based approach, which can address this issue.\n",
        "\n",
        "Recall that in $n$-gram language modeling, we made the assumption that the probability of a word only depends on its previous $n-1$ words:\n",
        "\n",
        "\\begin{align*}\n",
        "\\Prob(x_1, x_2, \\ldots, x_M) & = \\Prob(x_1) \\cdot \\Prob(x_2, \\ldots, x_M\\given x_1) \\\\\n",
        "& = \\Prob(x_1) \\cdot \\Prob(x_2 \\given x_1) \\cdot \\Prob(x_3 \\ldots, x_M \\given x_1, x_2) \\\\\n",
        "& \\cdots \\\\\n",
        "& = \\prod_{i=1}^M \\Prob (x_i \\given x_1, \\cdots, x_{i-1}) \\\\\n",
        "& \\approx \\prod_{i=1}^M \\Prob (x_i \\given x_{i-n+1}, \\cdots, x_{i-1}),\n",
        "\\end{align*}\n",
        "\n",
        "and we used the empirical frequencies to estimate these conditional probabilities:\n",
        "\n",
        "$$\n",
        "\\Pr (x_i \\given x_{i-n+1}, \\cdots, x_{i-1})= \\frac{\\cnt{x_{i-n+1}, \\cdots, x_{i-1}, x_i}}{\\sum_{x'} \\cnt{x_{i-n+1}, \\cdots, x_{i-1}, x'}}\n",
        "$$\n",
        "\n",
        "We can immediately see the problem with using a large $n$: the numerator would be 0 for any $n$-grams unseen in the training data.\n",
        "\n",
        "One way of solving this issue is to use a \"smoother\" function: we parameterize the conditional probabilities using a neural network:\n",
        "\n",
        "$$\n",
        "\\Pr (x_i \\given x_{i-n+1}, \\cdots, x_{i-1})= f(x_{i-n+1}, \\cdots, x_{i-1}),\n",
        "$$\n",
        "\n",
        "where $f$ is a function returning a vector of size $V$ ($V$ being the vocabulary size). The $j$-th element of the returned vector stores the probability of generating the $j$-th word in the vocabulary.\n",
        "\n",
        "To parameterize $f$, we can use a feedforward neural network. To convert word ids to numeric values, we map each word type in the vocabulary to a learnable vector called an _embedding_ of size `embedding_size`. \n",
        "\n",
        "Why do we represent words with such embeddings? To answer this question, let's consider two alternative representations: (1) word indices and (2) set-of-words (which we used in lab 1-1). (We cannot directly use the strings themselves because they are of varying lengths.) A desirable word representation system should be such that the similarity of words can be reflected in the closeness of word representations (ideally, if two words have similar meaning and syntactic function, they should have similar representations, in order to alleviate the burden of learning such similarities by the rest of the model).  For option (1),  closeness in terms of word indices is meaningless: the 365-th word in the vocabulary is probably not more similar to the 366-th word than it is to other words, since the assignment of index in the vocabulary is arbitrary. For option (2), two different word types always have orthogonal vector representations, but we hope that similar words can be placed near each other (at least we don't want to eliminate that possibility from the beginning).\n",
        "\n",
        "Therefore, we use an embedding, a vector representation for each word type in the vocabulary, which has been separately learned in a manner that has been shown to cluster  similar words together. There are many such embeddings; the particular embedding we'll use is _word2vec_, a mapping from words to vectors of embedding size 128 trained under a task called \"masked language modeling\". If you are interested in more details, you should read the original [word2vec paper](https://papers.nips.cc/paper/5021-distributed-representations-of-words-and-phrases-and-their-compositionality.pdf). For our purposes, we can treat the embedding as just given to us.\n",
        "\n",
        "Now let's get back to the parameterization of $f(x_{i-n+1}, \\cdots, x_{i-1})$. We first map each word in $\\langle x_{i-n+1}, \\cdots, x_{i-1}\\rangle$ to its embedding $\\langle v_{i-n+1}, \\cdots, v_{i-1}\\rangle$ ($n-1$ vectors of size `embedding_size`), then we concatenate these embeddings to a vector (of size `(n-1)*embedding_size`). Afterwards, we apply a linear projection to project it down to size `hidden_size`, then we apply a nonlinear function, and another linear projection to project to size $V$, followed by a softmax to normalize to probabilities. In this case, the nonlinear function we use is not a sigmoid. Instead, we use a Rectified Linear Unit (ReLU), which is simply a componentwise function that clips negative numbers at zero: \n",
        "\n",
        "$$ReLU(x) = \\max(0, x)$$\n",
        "\n",
        "We use $n=5$ in this lab."
      ]
    },
    {
      "cell_type": "code",
      "metadata": {
        "id": "UZ2EfkxNgXSI"
      },
      "source": [
        "n = 5"
      ],
      "execution_count": 8,
      "outputs": []
    },
    {
      "cell_type": "markdown",
      "metadata": {
        "deletable": false,
        "editable": false,
        "id": "9EoO8kN2_few"
      },
      "source": [
        "\n",
        "\n",
        "<!--\n",
        "BEGIN QUESTION\n",
        "name: ffnn_forward_step\n",
        "-->\n",
        "\n",
        "Implement the missing part of the `forward_step` function below. This function takes the previous words (the entire previous history, not just the $n$-gram context) as input, and returns the probabilities of generating the next word (the target). The returned value should be a dictionary, with word types as keys and their respective probabilities as values."
      ]
    },
    {
      "cell_type": "code",
      "metadata": {
        "id": "p9Mlt1hldIIH"
      },
      "source": [
        "class FFNNLM(torch.nn.Module):\n",
        "  def __init__(self, n, text_field, embedding_size, hidden_size):\n",
        "    super().__init__()\n",
        "    self.n = n\n",
        "    self.text_field = text_field\n",
        "    self.pad_index = self.text_field.vocab.stoi[self.text_field.pad_token]\n",
        "    vocab_size = len(self.text_field.vocab)\n",
        "\n",
        "    # Create modules\n",
        "    self.embed = torch.nn.Embedding(vocab_size, embedding_size)         # Embedding\n",
        "    self.sublayer1 = torch.nn.Linear((n-1)*embedding_size, hidden_size) # First layer\n",
        "    self.sublayer2 = torch.nn.ReLU()                                    # Second layer\n",
        "    self.hidden2output = torch.nn.Linear(hidden_size, vocab_size)       # Last layer\n",
        "\n",
        "  def forward_step(self, history_words):\n",
        "    # Switch to \"evaluation\" mode\n",
        "    self.eval()\n",
        "    # Convert strings to word ids\n",
        "    context = self.text_field.process([history_words]).to(device) # context_len, 1\n",
        "    context_len = context.size(0)\n",
        "    if context_len < self.n-1:\n",
        "      # Pad to the left if we don't have enough context words\n",
        "      padding = context.new(self.n-1-context_len, 1).fill_(self.pad_index)\n",
        "      context = torch.cat([padding, context], 0)\n",
        "    else:\n",
        "      # TODO: prepare proper context (the previous n-1 words) from the full history\n",
        "      context = context[len(context)-n+1:len(context)].T\n",
        "    context = context.view(1, -1)              # first dim batch=1, second dim length=n-1\n",
        "    embeddings = self.embed(context)           # 1, n-1, embedding_size\n",
        "    embeddings = embeddings.view(1, -1)        # 1, (n-1)*embedding_size\n",
        "    # TODO: finish feedforward and set logits\n",
        "    # Logits should be a tensor of size (1, vocab_size)\n",
        "    # The structure of the network is\n",
        "    #   embeddings -> sublayer1 -> sublayer2 -> hidden2output -> softmax\n",
        "    logits = self.hidden2output(self.sublayer2(self.sublayer1(embeddings))) \n",
        "    \n",
        "    # Normalize to get probabilities\n",
        "    probs = torch.softmax(logits, -1).view(-1) # vocab_size\n",
        "\n",
        "    # Match probabilities with actual word types\n",
        "    distribution = {}\n",
        "    for i, prob in enumerate(probs):\n",
        "      word = self.text_field.vocab.itos[i]\n",
        "      distribution[word] = prob.item()\n",
        "    return distribution"
      ],
      "execution_count": 9,
      "outputs": []
    },
    {
      "cell_type": "markdown",
      "metadata": {
        "id": "Fhv7v-LiMaYU"
      },
      "source": [
        "Now, let's load the pretrained feedforward language models for Hamilton and Madison. The model `ffnn_lm_madison` was trained on documents authored by Madison, whereas `ffnn_lm_hamilton` was trained on documents authored by Hamilton."
      ]
    },
    {
      "cell_type": "code",
      "metadata": {
        "colab": {
          "base_uri": "https://localhost:8080/"
        },
        "id": "KopoYVWVehTL",
        "outputId": "b0c82d20-1029-4320-de19-6a820469a951"
      },
      "source": [
        "# Create and load feedforward LM for Madison\n",
        "ffnn_lm_madison = FFNNLM(n, TEXT,\n",
        "               embedding_size=128, \n",
        "               hidden_size=128, \n",
        "               ).to(device)\n",
        "ffnn_lm_madison.load_state_dict(torch.load('data/ffnn_lm_m.pt', map_location=device))\n",
        "\n",
        "# Create and load feedforward LM for Hamilton\n",
        "ffnn_lm_hamilton = FFNNLM(n, TEXT,\n",
        "               embedding_size=128, \n",
        "               hidden_size=128, \n",
        "               ).to(device)\n",
        "ffnn_lm_hamilton.load_state_dict(torch.load('data/ffnn_lm_h.pt', map_location=device))"
      ],
      "execution_count": 10,
      "outputs": [
        {
          "output_type": "execute_result",
          "data": {
            "text/plain": [
              "<All keys matched successfully>"
            ]
          },
          "metadata": {
            "tags": []
          },
          "execution_count": 10
        }
      ]
    },
    {
      "cell_type": "markdown",
      "metadata": {
        "id": "-B_cLNfW2Lq9"
      },
      "source": [
        "### Sampling from an $n$-gram feedforward network\n",
        "\n",
        "Recall from lab2-1 that we can sample a sequence of text from a model using the below functions. Note that here an important change is that we are providing the full context to the model instead of the past $n-1$ words, to make it compatible with the RNN language model that will be introduced later."
      ]
    },
    {
      "cell_type": "code",
      "metadata": {
        "id": "-Ea3fhUV2Lq-"
      },
      "source": [
        "def sample(model, context):\n",
        "    \"\"\"Returns a token sampled from the `model` assuming the `context`\"\"\"\n",
        "    distribution = model.forward_step(context)\n",
        "    prob_remaining = random.random()\n",
        "    for token, prob in sorted(distribution.items()):\n",
        "        if prob_remaining < prob:\n",
        "            return token\n",
        "        else:\n",
        "            prob_remaining -= prob\n",
        "    raise ValueError\n",
        "\n",
        "def sample_sequence(model, start_context, count=100):\n",
        "    \"\"\"Returns a sequence of tokens of length `count` sampled successively\n",
        "       from the `model` starting with the `start_context`\n",
        "    \"\"\"\n",
        "    random.seed(SEED) # for reproducibility\n",
        "    context = list(start_context)\n",
        "    result = list(start_context)\n",
        "    for i in range(0, count):\n",
        "        next = sample(model, tuple(context))\n",
        "        result.append(next)\n",
        "        context = context + [next]\n",
        "    return result"
      ],
      "execution_count": 11,
      "outputs": []
    },
    {
      "cell_type": "markdown",
      "metadata": {
        "id": "fALS_tEb2LrT"
      },
      "source": [
        "Let's try to sample from our models. The samples might be bad since the dataset is small."
      ]
    },
    {
      "cell_type": "code",
      "metadata": {
        "colab": {
          "base_uri": "https://localhost:8080/"
        },
        "id": "lDev0QyzSDLw",
        "outputId": "cd1d3448-3534-44d9-f927-13cddfddf85d"
      },
      "source": [
        "print(' '.join(sample_sequence(ffnn_lm_madison, ('constitution', 'proposed', 'by', 'the'))), \"\\n\")\n",
        "print(' '.join(sample_sequence(ffnn_lm_hamilton, ('constitution', 'proposed', 'by', 'the'))))"
      ],
      "execution_count": 12,
      "outputs": [
        {
          "output_type": "stream",
          "text": [
            "constitution proposed by the united states , which will have laid against the elevation but the federal innovations is <unk> , and , is very <unk> invested in the authors of that reason . little far as we have have <unk> like , and in mankind , or as more and to the union , at a constitution passions , and very <unk> taxes , if gives give the legislative powers falling that they is the rights of any commission , and mean them in the people of its portion of civil suffrages , and the principles of powerful acts . a enjoyed and \n",
            "\n",
            "constitution proposed by the usual has , very time never it , the convention , the general models of course , and , in treat . the legislature may are merchants . the person of nations . we have far <unk> less , and instance , adopt properly be less <unk> to the union , has , except to be allowed to acquire the <unk> hands of one situation ? these is sometimes take it to serve by a <unk> in a measures than members of the political difference have prospect for this determinate augmented states should propriety either <unk> from a distribution but\n"
          ],
          "name": "stdout"
        }
      ]
    },
    {
      "cell_type": "code",
      "metadata": {
        "deletable": false,
        "editable": false,
        "id": "8kJ37-drce_h",
        "colab": {
          "base_uri": "https://localhost:8080/",
          "height": 46
        },
        "outputId": "4ec42c3a-e048-4e22-904b-05b202d8f2be"
      },
      "source": [
        "grader.check(\"ffnn_sample\")"
      ],
      "execution_count": 13,
      "outputs": [
        {
          "output_type": "execute_result",
          "data": {
            "text/html": [
              "\n",
              "    \n",
              "    \n",
              "        <p>All tests passed!</p>\n",
              "    \n",
              "    "
            ],
            "text/plain": [
              "\n",
              "    All tests passed!\n",
              "    "
            ]
          },
          "metadata": {
            "tags": []
          },
          "execution_count": 13
        }
      ]
    },
    {
      "cell_type": "markdown",
      "metadata": {
        "id": "4r8yjfpY2UVA"
      },
      "source": [
        "### Evaluating text according to an $n$-gram feedforward network\n",
        "\n",
        "Now let's use our language model to score text. Note that the $n$-gram feedforward network is able to score with zero context (internally, it's padded to the left), so `ffnn_lm_hamilton.forward_step([])` will return the probability distribution $\\Pr(x_1)$ for the first word in a document."
      ]
    },
    {
      "cell_type": "code",
      "metadata": {
        "id": "3SY-txbCce_h",
        "colab": {
          "base_uri": "https://localhost:8080/"
        },
        "outputId": "ddac9b4e-3515-477a-f7cb-dfdb5c28567c"
      },
      "source": [
        "Pr_x1 = ffnn_lm_hamilton.forward_step([])\n",
        "topk = 9\n",
        "\n",
        "# Sort by probabilities\n",
        "for i, word in enumerate(sorted(Pr_x1, key=lambda word: Pr_x1[word], reverse=True)[:topk]):\n",
        "    print (f\"top {i+1} word: {word:<8} Pr(x1): {Pr_x1[word]:.3f}\")"
      ],
      "execution_count": 14,
      "outputs": [
        {
          "output_type": "stream",
          "text": [
            "top 1 word: ,        Pr(x1): 0.048\n",
            "top 2 word: the      Pr(x1): 0.046\n",
            "top 3 word: of       Pr(x1): 0.031\n",
            "top 4 word: in       Pr(x1): 0.028\n",
            "top 5 word: <unk>    Pr(x1): 0.027\n",
            "top 6 word: that     Pr(x1): 0.020\n",
            "top 7 word: which    Pr(x1): 0.019\n",
            "top 8 word: to       Pr(x1): 0.018\n",
            "top 9 word: and      Pr(x1): 0.016\n"
          ],
          "name": "stdout"
        }
      ]
    },
    {
      "cell_type": "markdown",
      "metadata": {
        "deletable": false,
        "editable": false,
        "id": "DX92Xiwcce_h"
      },
      "source": [
        "Define a function `neglogprob` that takes a token sequence and a language model and returns the negative log probability of the _entire_ token sequence according to the model (using log base 2). Note that the unknown word type is `\"<unk>\"`.\n",
        "\n",
        "<!--\n",
        "BEGIN QUESTION\n",
        "name: ffnn_neglogprob\n",
        "-->"
      ]
    },
    {
      "cell_type": "code",
      "metadata": {
        "id": "WJvO7nX32Lr9"
      },
      "source": [
        "def neglogprob(tokens, model):\n",
        "    \"\"\"Returns the negative log probability of a sequence of `tokens`\n",
        "       according to a `model`\n",
        "    \"\"\"\n",
        "    probs=[]\n",
        "    for i in range(0, len(tokens)):\n",
        "        words_probs = model.forward_step(tokens[0:i])\n",
        "        probs += [math.log2(words_probs['<unk>'])] \\\n",
        "            if not tokens[i] in words_probs.keys() \\\n",
        "            else [math.log2(words_probs[tokens[i]])]\n",
        "    score = -sum(probs)\n",
        "    return score"
      ],
      "execution_count": 15,
      "outputs": []
    },
    {
      "cell_type": "code",
      "metadata": {
        "deletable": false,
        "editable": false,
        "id": "B0HObRn1ce_h",
        "colab": {
          "base_uri": "https://localhost:8080/",
          "height": 46
        },
        "outputId": "83c89e6b-0b23-48da-d049-620b114ebcc2"
      },
      "source": [
        "grader.check(\"ffnn_neglogprob\")"
      ],
      "execution_count": 16,
      "outputs": [
        {
          "output_type": "execute_result",
          "data": {
            "text/html": [
              "\n",
              "    \n",
              "    \n",
              "        <p>All tests passed!</p>\n",
              "    \n",
              "    "
            ],
            "text/plain": [
              "\n",
              "    All tests passed!\n",
              "    "
            ]
          },
          "metadata": {
            "tags": []
          },
          "execution_count": 16
        }
      ]
    },
    {
      "cell_type": "code",
      "metadata": {
        "id": "7npZGEbZce_h",
        "colab": {
          "base_uri": "https://localhost:8080/"
        },
        "outputId": "63ec97b6-dca0-4381-fefe-bf0d1e1a22f2"
      },
      "source": [
        "round(neglogprob([\"constitution\",], ffnn_lm_madison), 2)"
      ],
      "execution_count": 17,
      "outputs": [
        {
          "output_type": "execute_result",
          "data": {
            "text/plain": [
              "13.35"
            ]
          },
          "metadata": {
            "tags": []
          },
          "execution_count": 17
        }
      ]
    },
    {
      "cell_type": "markdown",
      "metadata": {
        "deletable": false,
        "editable": false,
        "id": "wyhmJj4ece_h"
      },
      "source": [
        "Define a function `perplexity` that takes a token sequence and a language model and returns the perplexity of the _entire_ token sequence according to the model.\n",
        "\n",
        "<!--\n",
        "BEGIN QUESTION\n",
        "name: ffnn_perplexity\n",
        "-->\n"
      ]
    },
    {
      "cell_type": "code",
      "metadata": {
        "id": "AJyJW2w02Lsm"
      },
      "source": [
        "# TODO\n",
        "def perplexity(tokens, model):\n",
        "    \"\"\"Returns the perplexity of a sequence of `tokens` according to a `model`\n",
        "    \"\"\"\n",
        "    neglogp = neglogprob(tokens, model)\n",
        "    return 2 ** (neglogp / len(tokens))\n"
      ],
      "execution_count": 18,
      "outputs": []
    },
    {
      "cell_type": "markdown",
      "metadata": {
        "id": "a30RzRKRPp0h"
      },
      "source": [
        "What's the perplexity of each document in the validation set under the language model trained on papers authored by Madison? What about Hamilton? Let's start with one document from each author."
      ]
    },
    {
      "cell_type": "code",
      "metadata": {
        "id": "ecJ5AgfAP4Cr"
      },
      "source": [
        "document_madison = validation_madison[0]['tokens']\n",
        "document_hamilton = validation_hamilton[0]['tokens']"
      ],
      "execution_count": 19,
      "outputs": []
    },
    {
      "cell_type": "markdown",
      "metadata": {
        "deletable": false,
        "editable": false,
        "id": "cJfPl2kFce_h"
      },
      "source": [
        "Calculate the perplexity of each model on `document_madison` and  `document_hamilton`.\n",
        "\n",
        "<!--\n",
        "BEGIN QUESTION\n",
        "name: ffnn_ppl\n",
        "-->"
      ]
    },
    {
      "cell_type": "code",
      "metadata": {
        "id": "uNqBcwhmX47V"
      },
      "source": [
        "# TODO\n",
        "ppl_madison_model_madison_document = perplexity(document_madison, ffnn_lm_madison)\n",
        "ppl_hamilton_model_madison_document = perplexity(document_madison, ffnn_lm_hamilton)\n",
        "ppl_madison_model_hamilton_document = perplexity(document_hamilton, ffnn_lm_madison)\n",
        "ppl_hamilton_model_hamilton_document = perplexity(document_hamilton, ffnn_lm_hamilton)"
      ],
      "execution_count": 20,
      "outputs": []
    },
    {
      "cell_type": "code",
      "metadata": {
        "deletable": false,
        "editable": false,
        "id": "OUkUBajpce_h",
        "colab": {
          "base_uri": "https://localhost:8080/",
          "height": 46
        },
        "outputId": "b56ba5bb-51f1-41c3-b3d8-f140976e6a18"
      },
      "source": [
        "grader.check(\"ffnn_ppl\")"
      ],
      "execution_count": 21,
      "outputs": [
        {
          "output_type": "execute_result",
          "data": {
            "text/html": [
              "\n",
              "    \n",
              "    \n",
              "        <p>All tests passed!</p>\n",
              "    \n",
              "    "
            ],
            "text/plain": [
              "\n",
              "    All tests passed!\n",
              "    "
            ]
          },
          "metadata": {
            "tags": []
          },
          "execution_count": 21
        }
      ]
    },
    {
      "cell_type": "markdown",
      "metadata": {
        "id": "5Exp3kOjce_h"
      },
      "source": [
        "Now, let's compare those perplexity values."
      ]
    },
    {
      "cell_type": "code",
      "metadata": {
        "id": "MXyAIPbrce_i",
        "colab": {
          "base_uri": "https://localhost:8080/"
        },
        "outputId": "1e7ed80a-a988-4875-9bf3-3248a8c36a7a"
      },
      "source": [
        "print (f\"Author    Madison Model    Hamilton Model\\n\"\n",
        "       f\"Madison      {ppl_madison_model_madison_document:5.1f}            {ppl_hamilton_model_madison_document:5.1f}\\n\"\n",
        "       f\"Hamilton     {ppl_madison_model_hamilton_document:5.1f}            {ppl_hamilton_model_hamilton_document:5.1f}\")"
      ],
      "execution_count": 22,
      "outputs": [
        {
          "output_type": "stream",
          "text": [
            "Author    Madison Model    Hamilton Model\n",
            "Madison      108.3            134.8\n",
            "Hamilton     129.4             96.0\n"
          ],
          "name": "stdout"
        }
      ]
    },
    {
      "cell_type": "markdown",
      "metadata": {
        "deletable": false,
        "editable": false,
        "id": "cm1xXntcce_i"
      },
      "source": [
        "<!-- BEGIN QUESTION -->\n",
        "\n",
        "**Question:** What do you find? Why?\n",
        "\n",
        "<!--\n",
        "BEGIN QUESTION\n",
        "name: open_response_ppl\n",
        "manual: true\n",
        "-->"
      ]
    },
    {
      "cell_type": "markdown",
      "metadata": {
        "id": "lg6_F_pQce_i"
      },
      "source": [
        "Each model is best for it's paper. It is an expected result, because each set of all of all the parameters of each model were optimized according to the n-gram-alike model (i.e considering only last n-1 words) with seeing mostly the sequences of words of the corresponding author, i.e each model in some sense overlearned or overfitted the examples of the seequences of words only of the concrete author, and didn't see any other combinations of words which point to another authority of the words, so each model predicts best the sequences of words it saw, especially if there are words or sequences which are unique to each author."
      ]
    },
    {
      "cell_type": "markdown",
      "metadata": {
        "deletable": false,
        "editable": false,
        "id": "mY8iJ7REce_i"
      },
      "source": [
        "<!-- END QUESTION -->\n",
        "\n",
        "<!-- BEGIN QUESTION -->\n",
        "\n",
        "Now, let's revisit our motivation for parameterizing conditional probabilities using a feedforward neural network instead of through counting.\n",
        "\n",
        "**Question:** Compare the pros and cons of feedforward neural language model and the original $n$-gram language model (possibly with smoothing). Which is better?\n",
        "\n",
        "<!--\n",
        "BEGIN QUESTION\n",
        "name: open_response_nn_v_ngram\n",
        "manual: true\n",
        "-->"
      ]
    },
    {
      "cell_type": "markdown",
      "metadata": {
        "id": "C_JSCfroce_i"
      },
      "source": [
        "For different situations different models can be preferable. The feedforward neural language model n-gram-alike is 'smoother' and doesn't need explicit smoothing, so it gives some predictions to contexts it has seen and those which it hasn't. It doesn't need to hold all the contexts, but just just the parameters which are optimized according to all the examples, so comparing to the n-gram it is much less expensive in memory, especially for large n, where the power set of words for different n-1 size contexts is enormously huge and much more bigger from even a rich (has  a lot of layers) neural model. \n",
        "The neural model is probably more good in generelizing and hence gets better accurancy, because it uses a function, which theoretically has the capability to learn any function in the world (2 linear layers with a non-linear activation function supply that theoretical result), and the learned set of parameters empiracally performs good for examples which is similiar to those which have been seen, or even if not similiar for a first look, but have some hidden characteristics which the neural model was capable of learning and representating by it's hidden layers. In this sense the neural model have those benefits comparing to any discrete probablistic model, like n-gram. \n"
      ]
    },
    {
      "cell_type": "markdown",
      "metadata": {
        "id": "rLQ1PlD51kmx"
      },
      "source": [
        "<!-- END QUESTION -->\n",
        "\n",
        "\n",
        "\n",
        "## Recurrent neural networks"
      ]
    },
    {
      "cell_type": "markdown",
      "metadata": {
        "id": "bxuZK9VDce_i"
      },
      "source": [
        "One limitation of $n$-gram language models (both the original one and the neural one) is that they only model context up to a fixed number of words. However, natural language exhibits long-term dependencies, well beyond $n=5$. In this part of the lab, we consider an approach based on recurrent neural networks (RNN), which can consider variable amounts of context.\n",
        "\n",
        "Different from $n$-gram language modeling, RNN-based language models do not make the approximation that the probability of a word only depends on its previous $n-1$ words. That is, we use the unapproximated chain rule:\n",
        "\n",
        "$$\n",
        "\\Prob(x_1, x_2, \\ldots, x_N) = \\prod_{i=1}^N \\Prob (x_i \\given x_1, \\cdots, x_{i-1})\n",
        "$$\n",
        "\n",
        "and we again specify the conditional probabilities using a neural network:\n",
        "\n",
        "$$\n",
        "\\Pr (x_i \\given x_{\\color{red}1}, \\cdots, x_{i-1})= f({ x_{\\color{red}1}}, \\cdots, x_{i-1}),\n",
        "$$\n",
        "\n",
        "where we use an RNN to parameterize $f$. (Notice the change in the first index of the context, highlighted in red; we're using the whole history as context now, not just the last $n-1$ words.) \n",
        "\n",
        "The inputs to RNNs, like in the feedforward case, are embeddings of words, and we project the _final_ output state of the RNN to a vector of size $V$, followed by a softmax to normalize the probabilities."
      ]
    },
    {
      "cell_type": "markdown",
      "metadata": {
        "deletable": false,
        "editable": false,
        "id": "a7lZ9LtGce_i"
      },
      "source": [
        "Implement the missing part of the `forward_step` function of an RNN language model below. This function takes the previous words as input, and returns the probabilities of generating the next word. The returned value should be a dictionary, with word types as keys and their respective probabilities as values.\n",
        "\n",
        "> Hint: You might find [torch.nn.RNN documentation](https://pytorch.org/docs/stable/generated/torch.nn.RNN.html) helpful.\n",
        "\n",
        "<!--\n",
        "BEGIN QUESTION\n",
        "name: rnn_forward_step\n",
        "-->"
      ]
    },
    {
      "cell_type": "code",
      "metadata": {
        "id": "pN3eZEN4Umqz"
      },
      "source": [
        "class RNNLM(torch.nn.Module):\n",
        "  def __init__(self, text_field, embedding_size, hidden_size):\n",
        "    super().__init__()\n",
        "    self.text_field = text_field\n",
        "    vocab_size = len(self.text_field.vocab)\n",
        "    self.pad_index = self.text_field.vocab.stoi[self.text_field.pad_token]\n",
        "    \n",
        "    # Create modules\n",
        "    self.embed = torch.nn.Embedding(vocab_size, embedding_size)\n",
        "    self.rnn = torch.nn.RNN(input_size=embedding_size, hidden_size=hidden_size, num_layers=1)\n",
        "    self.hidden2output = torch.nn.Linear(hidden_size, vocab_size)\n",
        "  \n",
        "  def forward_step(self, context_words):\n",
        "    self.eval()\n",
        "    context = self.text_field.process([context_words]).to(device) # seq len, 1\n",
        "    context_len = context.size(0)\n",
        "    if context_len == 0: # generate the first word\n",
        "      context = context.new(1, 1).fill_(self.pad_index)\n",
        "      context_len = context.size(0)\n",
        "    hidden = None\n",
        "    # TODO: finish feedforward and set logits\n",
        "    # Logits shall be a tensor of size (1, vocab_size)\n",
        "    # Note that you should project the `output` from rnn, not the `hidden`\n",
        "    # using self.hidden2output\n",
        "    rnn_outputs = self.rnn(self.embed(context))[0]\n",
        "    logits = self.hidden2output(rnn_outputs)[len(context)-1]\n",
        "\n",
        "    # Normalize to get probabilities\n",
        "    probs = torch.softmax(logits, -1).view(-1) # vocab_size\n",
        "\n",
        "    # Match probabilities with actual word types\n",
        "    distribution = {}\n",
        "    for i, prob in enumerate(probs):\n",
        "      word = self.text_field.vocab.itos[i]\n",
        "      distribution[word] = prob.item()\n",
        "    return distribution"
      ],
      "execution_count": 23,
      "outputs": []
    },
    {
      "cell_type": "markdown",
      "metadata": {
        "id": "O49D0oZ6ce_i"
      },
      "source": [
        "Now, let's load the pretrained RNN language models for Hamilton and Madison. The model `rnn_lm_madison` was trained on documents authored by Madison, whereas `rnn_lm_hamilton` was trained on documents authored by Hamilton."
      ]
    },
    {
      "cell_type": "code",
      "metadata": {
        "id": "gcFuACDdUy-C",
        "colab": {
          "base_uri": "https://localhost:8080/"
        },
        "outputId": "a3ce8ff2-d2f5-4b21-a45c-cfaa05285468"
      },
      "source": [
        "# Create and load RNN LM for Madison\n",
        "rnn_lm_madison = RNNLM(TEXT,\n",
        "               embedding_size=128, \n",
        "               hidden_size=128, \n",
        "               ).to(device)\n",
        "rnn_lm_madison.load_state_dict(torch.load('data/rnn_lm_m.pt', map_location=device))\n",
        "\n",
        "# Create and load feedforward LM for Hamilton\n",
        "rnn_lm_hamilton = RNNLM(TEXT,\n",
        "               embedding_size=128, \n",
        "               hidden_size=128, \n",
        "               ).to(device)\n",
        "rnn_lm_hamilton.load_state_dict(torch.load('data/rnn_lm_h.pt', map_location=device))"
      ],
      "execution_count": 24,
      "outputs": [
        {
          "output_type": "execute_result",
          "data": {
            "text/plain": [
              "<All keys matched successfully>"
            ]
          },
          "metadata": {
            "tags": []
          },
          "execution_count": 24
        }
      ]
    },
    {
      "cell_type": "markdown",
      "metadata": {
        "id": "xi8VvkoN2Lqz"
      },
      "source": [
        "### Sampling from an RNN model"
      ]
    },
    {
      "cell_type": "markdown",
      "metadata": {
        "id": "TA-1Reauce_i"
      },
      "source": [
        "Let's try to sample from our models. The samples might be bad since the dataset is small."
      ]
    },
    {
      "cell_type": "code",
      "metadata": {
        "id": "D0yFIKc6ce_i",
        "colab": {
          "base_uri": "https://localhost:8080/"
        },
        "outputId": "9f1d45bd-3308-4d27-9e6f-08323ba9c79e"
      },
      "source": [
        "print(' '.join(sample_sequence(rnn_lm_madison, ('constitution', 'proposed', 'by', 'the'))))\n",
        "print(' '.join(sample_sequence(rnn_lm_hamilton, ('constitution', 'proposed', 'by', 'the'))))"
      ],
      "execution_count": 25,
      "outputs": [
        {
          "output_type": "stream",
          "text": [
            "constitution proposed by the united states , which will holding that a representative class , therefore , than the business could be , more weight , not more much <unk> in his liberty and interests , are too little known , on <unk> . it is <unk> on by than any thing of this body , a discretion of course , will be standard , if it clearly sufficiently less reflection from the state governments of the former , and it be held purposes and that the people in the same congress themselves , and there might its human affairs , according to <unk>\n",
            "constitution proposed by the united states , which will have no beneficial prove as <unk> the exigencies of the confederacy , and , in various act increase in the bodies of independent jealousy in the forms of this kind has a long , and it is , that as often as well it would be certainty , can proposition , are under authorize their <unk> . if it were marked retained in the state governments than to encroach . for relations <unk> innovations the less proposed other government , that there are this boundary , to stated temptation he admonish for a direct <unk>\n"
          ],
          "name": "stdout"
        }
      ]
    },
    {
      "cell_type": "code",
      "metadata": {
        "deletable": false,
        "editable": false,
        "id": "iSuqFXErce_i",
        "colab": {
          "base_uri": "https://localhost:8080/",
          "height": 46
        },
        "outputId": "e3124ae4-7171-44af-892f-001ce5fd4710"
      },
      "source": [
        "grader.check(\"rnn_sample\")"
      ],
      "execution_count": 26,
      "outputs": [
        {
          "output_type": "execute_result",
          "data": {
            "text/html": [
              "\n",
              "    \n",
              "    \n",
              "        <p>All tests passed!</p>\n",
              "    \n",
              "    "
            ],
            "text/plain": [
              "\n",
              "    All tests passed!\n",
              "    "
            ]
          },
          "metadata": {
            "tags": []
          },
          "execution_count": 26
        }
      ]
    },
    {
      "cell_type": "markdown",
      "metadata": {
        "id": "7Riyv9_q2Lrp"
      },
      "source": [
        "### Evaluating text according to an RNN model\n"
      ]
    },
    {
      "cell_type": "markdown",
      "metadata": {
        "id": "03w-53EK2Lru"
      },
      "source": [
        "Again, let's evaluate the models on a document from Hamilton and an artitle from Madison."
      ]
    },
    {
      "cell_type": "code",
      "metadata": {
        "id": "w6n9YTTTce_i"
      },
      "source": [
        "document_madison = validation_madison[0]['tokens']\n",
        "document_hamilton = validation_hamilton[0]['tokens']"
      ],
      "execution_count": 27,
      "outputs": []
    },
    {
      "cell_type": "markdown",
      "metadata": {
        "deletable": false,
        "editable": false,
        "id": "Yk1KH5Po2Lsp"
      },
      "source": [
        "Calculate the perplexity of each RNN model on each document.\n",
        "\n",
        "<!--\n",
        "BEGIN QUESTION\n",
        "name: rnn_ppl\n",
        "-->"
      ]
    },
    {
      "cell_type": "code",
      "metadata": {
        "id": "ZVEc6qdEWI40"
      },
      "source": [
        "# TODO\n",
        "rnn_ppl_madison_model_madison_document = perplexity(document_madison, rnn_lm_madison)\n",
        "rnn_ppl_hamilton_model_madison_document = perplexity(document_madison, rnn_lm_hamilton)\n",
        "rnn_ppl_madison_model_hamilton_document = perplexity(document_hamilton, rnn_lm_madison)\n",
        "rnn_ppl_hamilton_model_hamilton_document = perplexity(document_hamilton, rnn_lm_hamilton)"
      ],
      "execution_count": 28,
      "outputs": []
    },
    {
      "cell_type": "code",
      "metadata": {
        "deletable": false,
        "editable": false,
        "id": "R6DrMvZDce_i",
        "colab": {
          "base_uri": "https://localhost:8080/",
          "height": 46
        },
        "outputId": "98e4c3d2-feb0-4c35-9451-5765e3242667"
      },
      "source": [
        "grader.check(\"rnn_ppl\")"
      ],
      "execution_count": 29,
      "outputs": [
        {
          "output_type": "execute_result",
          "data": {
            "text/html": [
              "\n",
              "    \n",
              "    \n",
              "        <p>All tests passed!</p>\n",
              "    \n",
              "    "
            ],
            "text/plain": [
              "\n",
              "    All tests passed!\n",
              "    "
            ]
          },
          "metadata": {
            "tags": []
          },
          "execution_count": 29
        }
      ]
    },
    {
      "cell_type": "markdown",
      "metadata": {
        "id": "ist_V6yuce_i"
      },
      "source": [
        "Now, let's compare those perplexity values."
      ]
    },
    {
      "cell_type": "code",
      "metadata": {
        "id": "VsB_h2CXce_i",
        "colab": {
          "base_uri": "https://localhost:8080/"
        },
        "outputId": "a33b8193-6160-42e5-c6c6-c7b155553141"
      },
      "source": [
        "print (f\"Author      Madison Model        Hamilton Model\\n\"\n",
        "       f\"Madison        {rnn_ppl_madison_model_madison_document:5.1f}                {rnn_ppl_hamilton_model_madison_document:5.1f}\\n\"\n",
        "       f\"Hamilton       {rnn_ppl_madison_model_hamilton_document:5.1f}                {rnn_ppl_hamilton_model_hamilton_document:5.1f}\")"
      ],
      "execution_count": 30,
      "outputs": [
        {
          "output_type": "stream",
          "text": [
            "Author      Madison Model        Hamilton Model\n",
            "Madison         86.4                 99.0\n",
            "Hamilton        93.9                 77.9\n"
          ],
          "name": "stdout"
        }
      ]
    },
    {
      "cell_type": "markdown",
      "metadata": {
        "deletable": false,
        "editable": false,
        "id": "TX_lDWuSce_i"
      },
      "source": [
        "<!-- BEGIN QUESTION -->\n",
        "\n",
        "**Question:** Which type of model is better? The RNN language models or the feedforward language models? What are the possible reasons?\n",
        "\n",
        "<!--\n",
        "BEGIN QUESTION\n",
        "name: open_response_ffnn_vs_rnn\n",
        "manual: true\n",
        "-->"
      ]
    },
    {
      "cell_type": "markdown",
      "metadata": {
        "id": "qM_E8uhNce_i"
      },
      "source": [
        "RNN is better. It seems to be expected because RNN as was mentioned uses all the previous context to calculate the probability of the current word for each word, unlike the feedforward model and this case more information about the past improves model's certainty at the occurences of the words in present, i.e the posterior probability of words given a wider context is bigger.  "
      ]
    },
    {
      "cell_type": "markdown",
      "metadata": {
        "id": "r4H92xc4igIw"
      },
      "source": [
        "<!-- END QUESTION -->\n",
        "\n",
        "\n",
        "\n",
        "## Authorship attribution using language models"
      ]
    },
    {
      "cell_type": "markdown",
      "metadata": {
        "id": "RXUquosmce_i"
      },
      "source": [
        "In lab 1-3, you saw how to use a Naive Bayes model to determine authorship:\n",
        "\n",
        "\\begin{align*}\n",
        "\\argmax{i} \\Prob(c_i \\given \\vect{x}) \n",
        "&= \\argmax{i} \\frac{\\Prob(\\vect{x} \\given c_i) \\cdot \\Prob(c_i)}{\\Prob(\\vect{x})} \\\\\n",
        "&= \\argmax{i} \\Prob(\\vect{x} \\given c_i) \\cdot \\Prob(c_i)\n",
        "\\end{align*}\n",
        "\n",
        "In this lab, the language models trained on Madison documents can be used to calculate $\\Pr(\\vect{x} \\given \\text{Madison})$, and the language models trained on Hamilton documents can be used to calculate $\\Pr(\\vect{x} \\given \\text{Hamilton})$. Therefore, they can also be used for authorship attribution.\n",
        "\n",
        "Recall that for numerical stability issues, we operate in log space (with base 2). With a little abuse of notation, let's denote the _log posterior_ as\n",
        "\n",
        "$$\n",
        "\\log \\Prob(\\vect{x} \\given c_i) + \\log \\Prob(c_i),\n",
        "$$\n",
        "where the priors $\\Prob(c_i)$ from lab 1-3 are given below."
      ]
    },
    {
      "cell_type": "code",
      "metadata": {
        "id": "GYOlqgVpce_i"
      },
      "source": [
        "prior_madison = 15 / (15+51)\n",
        "prior_hamilton = 51 / (15+51)"
      ],
      "execution_count": 31,
      "outputs": []
    },
    {
      "cell_type": "markdown",
      "metadata": {
        "id": "UKUTjt2pce_i"
      },
      "source": [
        "Let's consider a document from the test set."
      ]
    },
    {
      "cell_type": "code",
      "metadata": {
        "id": "8Ykp8zljce_i"
      },
      "source": [
        "document = testing[0]['tokens']"
      ],
      "execution_count": 32,
      "outputs": []
    },
    {
      "cell_type": "markdown",
      "metadata": {
        "deletable": false,
        "editable": false,
        "id": "RlKDTADvce_i"
      },
      "source": [
        "Use the feedforward neural language models to calculate the log posteriors for `document`.\n",
        "\n",
        "<!--\n",
        "BEGIN QUESTION\n",
        "name: ffnn_author\n",
        "-->"
      ]
    },
    {
      "cell_type": "code",
      "metadata": {
        "id": "_gG5A6Cwce_i"
      },
      "source": [
        "#TODO - calculate the log posteriors for Madison and Hamilton using feedforward LMs\n",
        "posterior_madison = -neglogprob(document, ffnn_lm_madison)\n",
        "posterior_hamilton =  -neglogprob(document, ffnn_lm_hamilton)\n",
        "\n",
        "log_posterior_madison_ffnn = posterior_madison+math.log2(prior_madison)\n",
        "log_posterior_hamilton_ffnn = posterior_hamilton+math.log2(prior_hamilton)\n",
        "\n",
        "#TODO - determine authorship\n",
        "author_ffnn = \"Madison\" if log_posterior_madison_ffnn > log_posterior_hamilton_ffnn else 'Hamilton'"
      ],
      "execution_count": 33,
      "outputs": []
    },
    {
      "cell_type": "code",
      "metadata": {
        "deletable": false,
        "editable": false,
        "id": "VVShDgMdce_i",
        "colab": {
          "base_uri": "https://localhost:8080/",
          "height": 46
        },
        "outputId": "548c8271-52c3-4792-b8f9-dec9cde6eac4"
      },
      "source": [
        "grader.check(\"ffnn_author\")"
      ],
      "execution_count": 34,
      "outputs": [
        {
          "output_type": "execute_result",
          "data": {
            "text/html": [
              "\n",
              "    \n",
              "    \n",
              "        <p>All tests passed!</p>\n",
              "    \n",
              "    "
            ],
            "text/plain": [
              "\n",
              "    All tests passed!\n",
              "    "
            ]
          },
          "metadata": {
            "tags": []
          },
          "execution_count": 34
        }
      ]
    },
    {
      "cell_type": "code",
      "metadata": {
        "id": "dL4Il82Hce_i",
        "colab": {
          "base_uri": "https://localhost:8080/"
        },
        "outputId": "fa9f4e2f-71f4-42d8-8b85-fc78021e9994"
      },
      "source": [
        "print (author_ffnn)"
      ],
      "execution_count": 35,
      "outputs": [
        {
          "output_type": "stream",
          "text": [
            "Hamilton\n"
          ],
          "name": "stdout"
        }
      ]
    },
    {
      "cell_type": "markdown",
      "metadata": {
        "deletable": false,
        "editable": false,
        "id": "wFzFqjDLce_i"
      },
      "source": [
        "Use the RNN neural language models to calculate the log posteriors for `document`.\n",
        "\n",
        "<!--\n",
        "BEGIN QUESTION\n",
        "name: rnn_author\n",
        "-->"
      ]
    },
    {
      "cell_type": "code",
      "metadata": {
        "id": "-5LvUjqgce_i"
      },
      "source": [
        "#TODO - calculate the log posteriors for Madison and Hamilton using RNN LMs\n",
        "posterior_madison = -neglogprob(document, rnn_lm_madison)\n",
        "posterior_hamilton =  -neglogprob(document, rnn_lm_hamilton)\n",
        "\n",
        "log_posterior_madison_rnn = posterior_madison+math.log2(prior_madison)\n",
        "log_posterior_hamilton_rnn = posterior_hamilton+math.log2(prior_hamilton)\n",
        "#TODO - determine authorship\n",
        "author_rnn = \"Madison\" if log_posterior_madison_rnn > log_posterior_hamilton_rnn else 'Hamilton'"
      ],
      "execution_count": 36,
      "outputs": []
    },
    {
      "cell_type": "code",
      "metadata": {
        "deletable": false,
        "editable": false,
        "id": "roD0prvjce_j",
        "colab": {
          "base_uri": "https://localhost:8080/",
          "height": 46
        },
        "outputId": "cc4908f8-4f0a-4789-df13-18420444f55f"
      },
      "source": [
        "grader.check(\"rnn_author\")"
      ],
      "execution_count": 37,
      "outputs": [
        {
          "output_type": "execute_result",
          "data": {
            "text/html": [
              "\n",
              "    \n",
              "    \n",
              "        <p>All tests passed!</p>\n",
              "    \n",
              "    "
            ],
            "text/plain": [
              "\n",
              "    All tests passed!\n",
              "    "
            ]
          },
          "metadata": {
            "tags": []
          },
          "execution_count": 37
        }
      ]
    },
    {
      "cell_type": "markdown",
      "metadata": {
        "deletable": false,
        "editable": false,
        "id": "w13ZvUSDce_j"
      },
      "source": [
        "Now, we can use these models to determine authorship on the entire test set. Define the `ffnn_classify` and `ffnn_classify` functions, wich take a sequence of `tokens` and return either `'Hamilton'` or `'Madison'` depending on which of the two has a higher probability of authoring the text.\n",
        "\n",
        "<!--\n",
        "BEGIN QUESTION\n",
        "name: authorship\n",
        "-->"
      ]
    },
    {
      "cell_type": "code",
      "metadata": {
        "id": "BfrmPH7zce_j",
        "colab": {
          "base_uri": "https://localhost:8080/"
        },
        "outputId": "019b8cb6-8e84-4eb3-a7f5-739d3e3dd408"
      },
      "source": [
        "def ffnn_classify(tokens):\n",
        "    posterior_madison = -neglogprob(tokens, ffnn_lm_madison)\n",
        "    posterior_hamilton =  -neglogprob(tokens, ffnn_lm_hamilton)\n",
        "    log_posterior_madison_ffnn = posterior_madison+math.log2(prior_madison)\n",
        "    log_posterior_hamilton_ffnn = posterior_hamilton+math.log2(prior_hamilton)\n",
        "    return \"Madison\" if log_posterior_madison_ffnn > log_posterior_hamilton_ffnn else 'Hamilton'\n",
        "    \n",
        "\n",
        "def rnn_classify(tokens):\n",
        "    posterior_madison = -neglogprob(tokens, rnn_lm_madison)\n",
        "    posterior_hamilton =  -neglogprob(tokens, rnn_lm_hamilton)\n",
        "    log_posterior_madison_rnn = posterior_madison+math.log2(prior_madison)\n",
        "    log_posterior_hamilton_rnn = posterior_hamilton+math.log2(prior_hamilton)\n",
        "    return \"Madison\" if log_posterior_madison_rnn > log_posterior_hamilton_rnn else 'Hamilton'\n",
        "\n",
        "for ex in testing:\n",
        "    print(f\"{ex['number']:2} {ffnn_classify(ex['tokens']):8} {rnn_classify(ex['tokens']):8}\")"
      ],
      "execution_count": 38,
      "outputs": [
        {
          "output_type": "stream",
          "text": [
            "49 Hamilton Madison \n",
            "50 Madison  Madison \n",
            "51 Madison  Madison \n",
            "52 Madison  Madison \n",
            "53 Madison  Madison \n",
            "54 Madison  Madison \n",
            "55 Madison  Madison \n",
            "56 Madison  Madison \n",
            "57 Madison  Madison \n",
            "62 Madison  Madison \n",
            "63 Madison  Madison \n"
          ],
          "name": "stdout"
        }
      ]
    },
    {
      "cell_type": "code",
      "metadata": {
        "deletable": false,
        "editable": false,
        "id": "FyxOZdbbce_j",
        "colab": {
          "base_uri": "https://localhost:8080/",
          "height": 46
        },
        "outputId": "b6abd4eb-6c0c-4751-bf72-827a3b8e1216"
      },
      "source": [
        "grader.check(\"authorship\")"
      ],
      "execution_count": 39,
      "outputs": [
        {
          "output_type": "execute_result",
          "data": {
            "text/html": [
              "\n",
              "    \n",
              "    \n",
              "        <p>All tests passed!</p>\n",
              "    \n",
              "    "
            ],
            "text/plain": [
              "\n",
              "    All tests passed!\n",
              "    "
            ]
          },
          "metadata": {
            "tags": []
          },
          "execution_count": 39
        }
      ]
    },
    {
      "cell_type": "markdown",
      "metadata": {
        "deletable": false,
        "editable": false,
        "id": "kpjkyF45ce_j"
      },
      "source": [
        "<!-- BEGIN QUESTION -->\n",
        "\n",
        "**Question:** What would happen if the dataset is imbalanced, i.e., if we have much more data for one author compared to another?\n",
        "\n",
        "<!--\n",
        "BEGIN QUESTION\n",
        "name: open_response_imbalanced\n",
        "manual: true\n",
        "-->"
      ]
    },
    {
      "cell_type": "markdown",
      "metadata": {
        "id": "4ns88eIKce_j"
      },
      "source": [
        "The model for the author with the less data would me less efficient for determing the data which of it's author, so the second model can be more dominant recongnizing some similarities with it's author and then the whole classify model could have a tendency to classify all the data it see with the more data author label."
      ]
    },
    {
      "cell_type": "markdown",
      "metadata": {
        "deletable": false,
        "editable": false,
        "id": "2MNrAqMjce_j"
      },
      "source": [
        "<!-- END QUESTION -->\n",
        "\n",
        "<!-- BEGIN QUESTION -->\n",
        "\n",
        "## Lab debrief – for consensus submission only\n",
        "\n",
        "**Question:** We're interested in any thoughts your group has about this lab so that we can improve this lab for later years, and to inform later labs for this year. Please list any issues that arose or comments you have to improve the lab. Useful things to comment on include the following: \n",
        "\n",
        "* Was the lab too long or too short?\n",
        "* Were the readings appropriate for the lab? \n",
        "* Was it clear (at least after you completed the lab) what the points of the exercises were? \n",
        "* Are there additions or changes you think would make the lab better?\n",
        "\n",
        "<!--\n",
        "BEGIN QUESTION\n",
        "name: open_response_debrief\n",
        "manual: true\n",
        "-->"
      ]
    },
    {
      "cell_type": "markdown",
      "metadata": {
        "id": "YII5DtJdce_j"
      },
      "source": [
        "_Type your answer here, replacing this text._"
      ]
    },
    {
      "cell_type": "markdown",
      "metadata": {
        "id": "j4H2K9zx2Lsz"
      },
      "source": [
        "<!-- END QUESTION -->\n",
        "\n",
        "\n",
        "\n",
        "# End of Lab 2-3"
      ]
    },
    {
      "cell_type": "markdown",
      "metadata": {
        "deletable": false,
        "editable": false,
        "id": "XzmNzdgvce_j"
      },
      "source": [
        "---\n",
        "\n",
        "To double-check your work, the cell below will rerun all of the autograder tests."
      ]
    },
    {
      "cell_type": "code",
      "metadata": {
        "deletable": false,
        "editable": false,
        "id": "2lb9GZ51ce_j",
        "colab": {
          "base_uri": "https://localhost:8080/",
          "height": 391
        },
        "outputId": "8b4f4d4d-d87a-48f5-aec1-b950cbf370f5"
      },
      "source": [
        "grader.check_all()"
      ],
      "execution_count": 40,
      "outputs": [
        {
          "output_type": "execute_result",
          "data": {
            "text/html": [
              "<p><strong>authorship:</strong></p>\n",
              "\n",
              "    \n",
              "    \n",
              "        <p>All tests passed!</p>\n",
              "    \n",
              "    \n",
              "\n",
              "<p><strong>ffnn_author:</strong></p>\n",
              "\n",
              "    \n",
              "    \n",
              "        <p>All tests passed!</p>\n",
              "    \n",
              "    \n",
              "\n",
              "<p><strong>ffnn_neglogprob:</strong></p>\n",
              "\n",
              "    \n",
              "    \n",
              "        <p>All tests passed!</p>\n",
              "    \n",
              "    \n",
              "\n",
              "<p><strong>ffnn_ppl:</strong></p>\n",
              "\n",
              "    \n",
              "    \n",
              "        <p>All tests passed!</p>\n",
              "    \n",
              "    \n",
              "\n",
              "<p><strong>ffnn_sample:</strong></p>\n",
              "\n",
              "    \n",
              "    \n",
              "        <p>All tests passed!</p>\n",
              "    \n",
              "    \n",
              "\n",
              "<p><strong>rnn_author:</strong></p>\n",
              "\n",
              "    \n",
              "    \n",
              "        <p>All tests passed!</p>\n",
              "    \n",
              "    \n",
              "\n",
              "<p><strong>rnn_ppl:</strong></p>\n",
              "\n",
              "    \n",
              "    \n",
              "        <p>All tests passed!</p>\n",
              "    \n",
              "    \n",
              "\n",
              "<p><strong>rnn_sample:</strong></p>\n",
              "\n",
              "    \n",
              "    \n",
              "        <p>All tests passed!</p>\n",
              "    \n",
              "    \n",
              "\n"
            ],
            "text/plain": [
              "authorship:\n",
              "\n",
              "    All tests passed!\n",
              "    \n",
              "\n",
              "ffnn_author:\n",
              "\n",
              "    All tests passed!\n",
              "    \n",
              "\n",
              "ffnn_neglogprob:\n",
              "\n",
              "    All tests passed!\n",
              "    \n",
              "\n",
              "ffnn_ppl:\n",
              "\n",
              "    All tests passed!\n",
              "    \n",
              "\n",
              "ffnn_sample:\n",
              "\n",
              "    All tests passed!\n",
              "    \n",
              "\n",
              "rnn_author:\n",
              "\n",
              "    All tests passed!\n",
              "    \n",
              "\n",
              "rnn_ppl:\n",
              "\n",
              "    All tests passed!\n",
              "    \n",
              "\n",
              "rnn_sample:\n",
              "\n",
              "    All tests passed!\n",
              "    \n"
            ]
          },
          "metadata": {
            "tags": []
          },
          "execution_count": 40
        }
      ]
    }
  ]
}