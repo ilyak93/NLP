{
  "nbformat": 4,
  "nbformat_minor": 0,
  "metadata": {
    "colab": {
      "name": "project4_semantics.ipynb",
      "provenance": [],
      "collapsed_sections": [],
      "toc_visible": true
    },
    "kernelspec": {
      "display_name": "Python 3",
      "language": "python",
      "name": "python3"
    },
    "language_info": {
      "codemirror_mode": {
        "name": "ipython",
        "version": 3
      },
      "file_extension": ".py",
      "mimetype": "text/x-python",
      "name": "python",
      "nbconvert_exporter": "python",
      "pygments_lexer": "ipython3",
      "version": "3.8.3"
    },
    "accelerator": "GPU",
    "widgets": {
      "application/vnd.jupyter.widget-state+json": {
        "d65ba109105841bdba84ce4914a69fca": {
          "model_module": "@jupyter-widgets/controls",
          "model_name": "HBoxModel",
          "state": {
            "_view_name": "HBoxView",
            "_dom_classes": [],
            "_model_name": "HBoxModel",
            "_view_module": "@jupyter-widgets/controls",
            "_model_module_version": "1.5.0",
            "_view_count": null,
            "_view_module_version": "1.5.0",
            "box_style": "",
            "layout": "IPY_MODEL_a8ee52f20564498eac0619697698263a",
            "_model_module": "@jupyter-widgets/controls",
            "children": [
              "IPY_MODEL_650632eeb8a940dd860585b29bee9275",
              "IPY_MODEL_ea92b4a9416c40f5a532941c23a61912"
            ]
          }
        },
        "a8ee52f20564498eac0619697698263a": {
          "model_module": "@jupyter-widgets/base",
          "model_name": "LayoutModel",
          "state": {
            "_view_name": "LayoutView",
            "grid_template_rows": null,
            "right": null,
            "justify_content": null,
            "_view_module": "@jupyter-widgets/base",
            "overflow": null,
            "_model_module_version": "1.2.0",
            "_view_count": null,
            "flex_flow": null,
            "width": null,
            "min_width": null,
            "border": null,
            "align_items": null,
            "bottom": null,
            "_model_module": "@jupyter-widgets/base",
            "top": null,
            "grid_column": null,
            "overflow_y": null,
            "overflow_x": null,
            "grid_auto_flow": null,
            "grid_area": null,
            "grid_template_columns": null,
            "flex": null,
            "_model_name": "LayoutModel",
            "justify_items": null,
            "grid_row": null,
            "max_height": null,
            "align_content": null,
            "visibility": null,
            "align_self": null,
            "height": null,
            "min_height": null,
            "padding": null,
            "grid_auto_rows": null,
            "grid_gap": null,
            "max_width": null,
            "order": null,
            "_view_module_version": "1.2.0",
            "grid_template_areas": null,
            "object_position": null,
            "object_fit": null,
            "grid_auto_columns": null,
            "margin": null,
            "display": null,
            "left": null
          }
        },
        "650632eeb8a940dd860585b29bee9275": {
          "model_module": "@jupyter-widgets/controls",
          "model_name": "FloatProgressModel",
          "state": {
            "_view_name": "ProgressView",
            "style": "IPY_MODEL_0198aed0cb114b81a3570ee975212ef4",
            "_dom_classes": [],
            "description": "Downloading: 100%",
            "_model_name": "FloatProgressModel",
            "bar_style": "success",
            "max": 1553,
            "_view_module": "@jupyter-widgets/controls",
            "_model_module_version": "1.5.0",
            "value": 1553,
            "_view_count": null,
            "_view_module_version": "1.5.0",
            "orientation": "horizontal",
            "min": 0,
            "description_tooltip": null,
            "_model_module": "@jupyter-widgets/controls",
            "layout": "IPY_MODEL_4684951a552d4655979cbe2a78fb2f00"
          }
        },
        "ea92b4a9416c40f5a532941c23a61912": {
          "model_module": "@jupyter-widgets/controls",
          "model_name": "HTMLModel",
          "state": {
            "_view_name": "HTMLView",
            "style": "IPY_MODEL_5647c066fdbb4c5aa34e566ee16d2555",
            "_dom_classes": [],
            "description": "",
            "_model_name": "HTMLModel",
            "placeholder": "​",
            "_view_module": "@jupyter-widgets/controls",
            "_model_module_version": "1.5.0",
            "value": " 1.55k/1.55k [00:00&lt;00:00, 3.58kB/s]",
            "_view_count": null,
            "_view_module_version": "1.5.0",
            "description_tooltip": null,
            "_model_module": "@jupyter-widgets/controls",
            "layout": "IPY_MODEL_aa8f3051a0b8441aa619d8bca68405db"
          }
        },
        "0198aed0cb114b81a3570ee975212ef4": {
          "model_module": "@jupyter-widgets/controls",
          "model_name": "ProgressStyleModel",
          "state": {
            "_view_name": "StyleView",
            "_model_name": "ProgressStyleModel",
            "description_width": "initial",
            "_view_module": "@jupyter-widgets/base",
            "_model_module_version": "1.5.0",
            "_view_count": null,
            "_view_module_version": "1.2.0",
            "bar_color": null,
            "_model_module": "@jupyter-widgets/controls"
          }
        },
        "4684951a552d4655979cbe2a78fb2f00": {
          "model_module": "@jupyter-widgets/base",
          "model_name": "LayoutModel",
          "state": {
            "_view_name": "LayoutView",
            "grid_template_rows": null,
            "right": null,
            "justify_content": null,
            "_view_module": "@jupyter-widgets/base",
            "overflow": null,
            "_model_module_version": "1.2.0",
            "_view_count": null,
            "flex_flow": null,
            "width": null,
            "min_width": null,
            "border": null,
            "align_items": null,
            "bottom": null,
            "_model_module": "@jupyter-widgets/base",
            "top": null,
            "grid_column": null,
            "overflow_y": null,
            "overflow_x": null,
            "grid_auto_flow": null,
            "grid_area": null,
            "grid_template_columns": null,
            "flex": null,
            "_model_name": "LayoutModel",
            "justify_items": null,
            "grid_row": null,
            "max_height": null,
            "align_content": null,
            "visibility": null,
            "align_self": null,
            "height": null,
            "min_height": null,
            "padding": null,
            "grid_auto_rows": null,
            "grid_gap": null,
            "max_width": null,
            "order": null,
            "_view_module_version": "1.2.0",
            "grid_template_areas": null,
            "object_position": null,
            "object_fit": null,
            "grid_auto_columns": null,
            "margin": null,
            "display": null,
            "left": null
          }
        },
        "5647c066fdbb4c5aa34e566ee16d2555": {
          "model_module": "@jupyter-widgets/controls",
          "model_name": "DescriptionStyleModel",
          "state": {
            "_view_name": "StyleView",
            "_model_name": "DescriptionStyleModel",
            "description_width": "",
            "_view_module": "@jupyter-widgets/base",
            "_model_module_version": "1.5.0",
            "_view_count": null,
            "_view_module_version": "1.2.0",
            "_model_module": "@jupyter-widgets/controls"
          }
        },
        "aa8f3051a0b8441aa619d8bca68405db": {
          "model_module": "@jupyter-widgets/base",
          "model_name": "LayoutModel",
          "state": {
            "_view_name": "LayoutView",
            "grid_template_rows": null,
            "right": null,
            "justify_content": null,
            "_view_module": "@jupyter-widgets/base",
            "overflow": null,
            "_model_module_version": "1.2.0",
            "_view_count": null,
            "flex_flow": null,
            "width": null,
            "min_width": null,
            "border": null,
            "align_items": null,
            "bottom": null,
            "_model_module": "@jupyter-widgets/base",
            "top": null,
            "grid_column": null,
            "overflow_y": null,
            "overflow_x": null,
            "grid_auto_flow": null,
            "grid_area": null,
            "grid_template_columns": null,
            "flex": null,
            "_model_name": "LayoutModel",
            "justify_items": null,
            "grid_row": null,
            "max_height": null,
            "align_content": null,
            "visibility": null,
            "align_self": null,
            "height": null,
            "min_height": null,
            "padding": null,
            "grid_auto_rows": null,
            "grid_gap": null,
            "max_width": null,
            "order": null,
            "_view_module_version": "1.2.0",
            "grid_template_areas": null,
            "object_position": null,
            "object_fit": null,
            "grid_auto_columns": null,
            "margin": null,
            "display": null,
            "left": null
          }
        },
        "10aea9b5d1fd4200b4d1d539087044d4": {
          "model_module": "@jupyter-widgets/controls",
          "model_name": "HBoxModel",
          "state": {
            "_view_name": "HBoxView",
            "_dom_classes": [],
            "_model_name": "HBoxModel",
            "_view_module": "@jupyter-widgets/controls",
            "_model_module_version": "1.5.0",
            "_view_count": null,
            "_view_module_version": "1.5.0",
            "box_style": "",
            "layout": "IPY_MODEL_7d4bfcc65d844393a98ff1658835a2c6",
            "_model_module": "@jupyter-widgets/controls",
            "children": [
              "IPY_MODEL_329033732a6a4612a9ec9baaf359bef9",
              "IPY_MODEL_9f3367679fdf4383a3a918de868026ab"
            ]
          }
        },
        "7d4bfcc65d844393a98ff1658835a2c6": {
          "model_module": "@jupyter-widgets/base",
          "model_name": "LayoutModel",
          "state": {
            "_view_name": "LayoutView",
            "grid_template_rows": null,
            "right": null,
            "justify_content": null,
            "_view_module": "@jupyter-widgets/base",
            "overflow": null,
            "_model_module_version": "1.2.0",
            "_view_count": null,
            "flex_flow": null,
            "width": null,
            "min_width": null,
            "border": null,
            "align_items": null,
            "bottom": null,
            "_model_module": "@jupyter-widgets/base",
            "top": null,
            "grid_column": null,
            "overflow_y": null,
            "overflow_x": null,
            "grid_auto_flow": null,
            "grid_area": null,
            "grid_template_columns": null,
            "flex": null,
            "_model_name": "LayoutModel",
            "justify_items": null,
            "grid_row": null,
            "max_height": null,
            "align_content": null,
            "visibility": null,
            "align_self": null,
            "height": null,
            "min_height": null,
            "padding": null,
            "grid_auto_rows": null,
            "grid_gap": null,
            "max_width": null,
            "order": null,
            "_view_module_version": "1.2.0",
            "grid_template_areas": null,
            "object_position": null,
            "object_fit": null,
            "grid_auto_columns": null,
            "margin": null,
            "display": null,
            "left": null
          }
        },
        "329033732a6a4612a9ec9baaf359bef9": {
          "model_module": "@jupyter-widgets/controls",
          "model_name": "FloatProgressModel",
          "state": {
            "_view_name": "ProgressView",
            "style": "IPY_MODEL_36780184ca68471795563e1943fc4898",
            "_dom_classes": [],
            "description": "Downloading: 100%",
            "_model_name": "FloatProgressModel",
            "bar_style": "success",
            "max": 557941479,
            "_view_module": "@jupyter-widgets/controls",
            "_model_module_version": "1.5.0",
            "value": 557941479,
            "_view_count": null,
            "_view_module_version": "1.5.0",
            "orientation": "horizontal",
            "min": 0,
            "description_tooltip": null,
            "_model_module": "@jupyter-widgets/controls",
            "layout": "IPY_MODEL_200320855d0441aaaf3a82fd48c2f5f8"
          }
        },
        "9f3367679fdf4383a3a918de868026ab": {
          "model_module": "@jupyter-widgets/controls",
          "model_name": "HTMLModel",
          "state": {
            "_view_name": "HTMLView",
            "style": "IPY_MODEL_315370825dd24fb5b381c368c19522b4",
            "_dom_classes": [],
            "description": "",
            "_model_name": "HTMLModel",
            "placeholder": "​",
            "_view_module": "@jupyter-widgets/controls",
            "_model_module_version": "1.5.0",
            "value": " 558M/558M [00:17&lt;00:00, 32.7MB/s]",
            "_view_count": null,
            "_view_module_version": "1.5.0",
            "description_tooltip": null,
            "_model_module": "@jupyter-widgets/controls",
            "layout": "IPY_MODEL_0f9d6e280a9f4ce1b2ad4a1fde0ed52e"
          }
        },
        "36780184ca68471795563e1943fc4898": {
          "model_module": "@jupyter-widgets/controls",
          "model_name": "ProgressStyleModel",
          "state": {
            "_view_name": "StyleView",
            "_model_name": "ProgressStyleModel",
            "description_width": "initial",
            "_view_module": "@jupyter-widgets/base",
            "_model_module_version": "1.5.0",
            "_view_count": null,
            "_view_module_version": "1.2.0",
            "bar_color": null,
            "_model_module": "@jupyter-widgets/controls"
          }
        },
        "200320855d0441aaaf3a82fd48c2f5f8": {
          "model_module": "@jupyter-widgets/base",
          "model_name": "LayoutModel",
          "state": {
            "_view_name": "LayoutView",
            "grid_template_rows": null,
            "right": null,
            "justify_content": null,
            "_view_module": "@jupyter-widgets/base",
            "overflow": null,
            "_model_module_version": "1.2.0",
            "_view_count": null,
            "flex_flow": null,
            "width": null,
            "min_width": null,
            "border": null,
            "align_items": null,
            "bottom": null,
            "_model_module": "@jupyter-widgets/base",
            "top": null,
            "grid_column": null,
            "overflow_y": null,
            "overflow_x": null,
            "grid_auto_flow": null,
            "grid_area": null,
            "grid_template_columns": null,
            "flex": null,
            "_model_name": "LayoutModel",
            "justify_items": null,
            "grid_row": null,
            "max_height": null,
            "align_content": null,
            "visibility": null,
            "align_self": null,
            "height": null,
            "min_height": null,
            "padding": null,
            "grid_auto_rows": null,
            "grid_gap": null,
            "max_width": null,
            "order": null,
            "_view_module_version": "1.2.0",
            "grid_template_areas": null,
            "object_position": null,
            "object_fit": null,
            "grid_auto_columns": null,
            "margin": null,
            "display": null,
            "left": null
          }
        },
        "315370825dd24fb5b381c368c19522b4": {
          "model_module": "@jupyter-widgets/controls",
          "model_name": "DescriptionStyleModel",
          "state": {
            "_view_name": "StyleView",
            "_model_name": "DescriptionStyleModel",
            "description_width": "",
            "_view_module": "@jupyter-widgets/base",
            "_model_module_version": "1.5.0",
            "_view_count": null,
            "_view_module_version": "1.2.0",
            "_model_module": "@jupyter-widgets/controls"
          }
        },
        "0f9d6e280a9f4ce1b2ad4a1fde0ed52e": {
          "model_module": "@jupyter-widgets/base",
          "model_name": "LayoutModel",
          "state": {
            "_view_name": "LayoutView",
            "grid_template_rows": null,
            "right": null,
            "justify_content": null,
            "_view_module": "@jupyter-widgets/base",
            "overflow": null,
            "_model_module_version": "1.2.0",
            "_view_count": null,
            "flex_flow": null,
            "width": null,
            "min_width": null,
            "border": null,
            "align_items": null,
            "bottom": null,
            "_model_module": "@jupyter-widgets/base",
            "top": null,
            "grid_column": null,
            "overflow_y": null,
            "overflow_x": null,
            "grid_auto_flow": null,
            "grid_area": null,
            "grid_template_columns": null,
            "flex": null,
            "_model_name": "LayoutModel",
            "justify_items": null,
            "grid_row": null,
            "max_height": null,
            "align_content": null,
            "visibility": null,
            "align_self": null,
            "height": null,
            "min_height": null,
            "padding": null,
            "grid_auto_rows": null,
            "grid_gap": null,
            "max_width": null,
            "order": null,
            "_view_module_version": "1.2.0",
            "grid_template_areas": null,
            "object_position": null,
            "object_fit": null,
            "grid_auto_columns": null,
            "margin": null,
            "display": null,
            "left": null
          }
        },
        "1a5abc63851847318f1945aceeb90291": {
          "model_module": "@jupyter-widgets/controls",
          "model_name": "HBoxModel",
          "state": {
            "_view_name": "HBoxView",
            "_dom_classes": [],
            "_model_name": "HBoxModel",
            "_view_module": "@jupyter-widgets/controls",
            "_model_module_version": "1.5.0",
            "_view_count": null,
            "_view_module_version": "1.5.0",
            "box_style": "",
            "layout": "IPY_MODEL_41cca4c204d24a0b84c90977bfa07cce",
            "_model_module": "@jupyter-widgets/controls",
            "children": [
              "IPY_MODEL_963d4132089940fb8c213e27eab9fe1d",
              "IPY_MODEL_583c1189571d48bbbac56d62bcb60117"
            ]
          }
        },
        "41cca4c204d24a0b84c90977bfa07cce": {
          "model_module": "@jupyter-widgets/base",
          "model_name": "LayoutModel",
          "state": {
            "_view_name": "LayoutView",
            "grid_template_rows": null,
            "right": null,
            "justify_content": null,
            "_view_module": "@jupyter-widgets/base",
            "overflow": null,
            "_model_module_version": "1.2.0",
            "_view_count": null,
            "flex_flow": null,
            "width": null,
            "min_width": null,
            "border": null,
            "align_items": null,
            "bottom": null,
            "_model_module": "@jupyter-widgets/base",
            "top": null,
            "grid_column": null,
            "overflow_y": null,
            "overflow_x": null,
            "grid_auto_flow": null,
            "grid_area": null,
            "grid_template_columns": null,
            "flex": null,
            "_model_name": "LayoutModel",
            "justify_items": null,
            "grid_row": null,
            "max_height": null,
            "align_content": null,
            "visibility": null,
            "align_self": null,
            "height": null,
            "min_height": null,
            "padding": null,
            "grid_auto_rows": null,
            "grid_gap": null,
            "max_width": null,
            "order": null,
            "_view_module_version": "1.2.0",
            "grid_template_areas": null,
            "object_position": null,
            "object_fit": null,
            "grid_auto_columns": null,
            "margin": null,
            "display": null,
            "left": null
          }
        },
        "963d4132089940fb8c213e27eab9fe1d": {
          "model_module": "@jupyter-widgets/controls",
          "model_name": "FloatProgressModel",
          "state": {
            "_view_name": "ProgressView",
            "style": "IPY_MODEL_913b41967ee248408a9eb126897a86fa",
            "_dom_classes": [],
            "description": "Downloading: 100%",
            "_model_name": "FloatProgressModel",
            "bar_style": "success",
            "max": 898823,
            "_view_module": "@jupyter-widgets/controls",
            "_model_module_version": "1.5.0",
            "value": 898823,
            "_view_count": null,
            "_view_module_version": "1.5.0",
            "orientation": "horizontal",
            "min": 0,
            "description_tooltip": null,
            "_model_module": "@jupyter-widgets/controls",
            "layout": "IPY_MODEL_032d9a9b889740e4b8bd3cdaabf1e3b8"
          }
        },
        "583c1189571d48bbbac56d62bcb60117": {
          "model_module": "@jupyter-widgets/controls",
          "model_name": "HTMLModel",
          "state": {
            "_view_name": "HTMLView",
            "style": "IPY_MODEL_fe4482d6c30e48268e451e2e63ab4a31",
            "_dom_classes": [],
            "description": "",
            "_model_name": "HTMLModel",
            "placeholder": "​",
            "_view_module": "@jupyter-widgets/controls",
            "_model_module_version": "1.5.0",
            "value": " 899k/899k [00:01&lt;00:00, 791kB/s]",
            "_view_count": null,
            "_view_module_version": "1.5.0",
            "description_tooltip": null,
            "_model_module": "@jupyter-widgets/controls",
            "layout": "IPY_MODEL_d3981554b1494c3f870ebeed12104b96"
          }
        },
        "913b41967ee248408a9eb126897a86fa": {
          "model_module": "@jupyter-widgets/controls",
          "model_name": "ProgressStyleModel",
          "state": {
            "_view_name": "StyleView",
            "_model_name": "ProgressStyleModel",
            "description_width": "initial",
            "_view_module": "@jupyter-widgets/base",
            "_model_module_version": "1.5.0",
            "_view_count": null,
            "_view_module_version": "1.2.0",
            "bar_color": null,
            "_model_module": "@jupyter-widgets/controls"
          }
        },
        "032d9a9b889740e4b8bd3cdaabf1e3b8": {
          "model_module": "@jupyter-widgets/base",
          "model_name": "LayoutModel",
          "state": {
            "_view_name": "LayoutView",
            "grid_template_rows": null,
            "right": null,
            "justify_content": null,
            "_view_module": "@jupyter-widgets/base",
            "overflow": null,
            "_model_module_version": "1.2.0",
            "_view_count": null,
            "flex_flow": null,
            "width": null,
            "min_width": null,
            "border": null,
            "align_items": null,
            "bottom": null,
            "_model_module": "@jupyter-widgets/base",
            "top": null,
            "grid_column": null,
            "overflow_y": null,
            "overflow_x": null,
            "grid_auto_flow": null,
            "grid_area": null,
            "grid_template_columns": null,
            "flex": null,
            "_model_name": "LayoutModel",
            "justify_items": null,
            "grid_row": null,
            "max_height": null,
            "align_content": null,
            "visibility": null,
            "align_self": null,
            "height": null,
            "min_height": null,
            "padding": null,
            "grid_auto_rows": null,
            "grid_gap": null,
            "max_width": null,
            "order": null,
            "_view_module_version": "1.2.0",
            "grid_template_areas": null,
            "object_position": null,
            "object_fit": null,
            "grid_auto_columns": null,
            "margin": null,
            "display": null,
            "left": null
          }
        },
        "fe4482d6c30e48268e451e2e63ab4a31": {
          "model_module": "@jupyter-widgets/controls",
          "model_name": "DescriptionStyleModel",
          "state": {
            "_view_name": "StyleView",
            "_model_name": "DescriptionStyleModel",
            "description_width": "",
            "_view_module": "@jupyter-widgets/base",
            "_model_module_version": "1.5.0",
            "_view_count": null,
            "_view_module_version": "1.2.0",
            "_model_module": "@jupyter-widgets/controls"
          }
        },
        "d3981554b1494c3f870ebeed12104b96": {
          "model_module": "@jupyter-widgets/base",
          "model_name": "LayoutModel",
          "state": {
            "_view_name": "LayoutView",
            "grid_template_rows": null,
            "right": null,
            "justify_content": null,
            "_view_module": "@jupyter-widgets/base",
            "overflow": null,
            "_model_module_version": "1.2.0",
            "_view_count": null,
            "flex_flow": null,
            "width": null,
            "min_width": null,
            "border": null,
            "align_items": null,
            "bottom": null,
            "_model_module": "@jupyter-widgets/base",
            "top": null,
            "grid_column": null,
            "overflow_y": null,
            "overflow_x": null,
            "grid_auto_flow": null,
            "grid_area": null,
            "grid_template_columns": null,
            "flex": null,
            "_model_name": "LayoutModel",
            "justify_items": null,
            "grid_row": null,
            "max_height": null,
            "align_content": null,
            "visibility": null,
            "align_self": null,
            "height": null,
            "min_height": null,
            "padding": null,
            "grid_auto_rows": null,
            "grid_gap": null,
            "max_width": null,
            "order": null,
            "_view_module_version": "1.2.0",
            "grid_template_areas": null,
            "object_position": null,
            "object_fit": null,
            "grid_auto_columns": null,
            "margin": null,
            "display": null,
            "left": null
          }
        },
        "b40e1f8754874185b0c621c619d5b73c": {
          "model_module": "@jupyter-widgets/controls",
          "model_name": "HBoxModel",
          "state": {
            "_view_name": "HBoxView",
            "_dom_classes": [],
            "_model_name": "HBoxModel",
            "_view_module": "@jupyter-widgets/controls",
            "_model_module_version": "1.5.0",
            "_view_count": null,
            "_view_module_version": "1.5.0",
            "box_style": "",
            "layout": "IPY_MODEL_d69bb8d2ac834b8ba8e3a278bc6bf49a",
            "_model_module": "@jupyter-widgets/controls",
            "children": [
              "IPY_MODEL_142c02d521224597bc0e8604a6e62bf9",
              "IPY_MODEL_53c7f90785254cc09948796413440b00"
            ]
          }
        },
        "d69bb8d2ac834b8ba8e3a278bc6bf49a": {
          "model_module": "@jupyter-widgets/base",
          "model_name": "LayoutModel",
          "state": {
            "_view_name": "LayoutView",
            "grid_template_rows": null,
            "right": null,
            "justify_content": null,
            "_view_module": "@jupyter-widgets/base",
            "overflow": null,
            "_model_module_version": "1.2.0",
            "_view_count": null,
            "flex_flow": null,
            "width": null,
            "min_width": null,
            "border": null,
            "align_items": null,
            "bottom": null,
            "_model_module": "@jupyter-widgets/base",
            "top": null,
            "grid_column": null,
            "overflow_y": null,
            "overflow_x": null,
            "grid_auto_flow": null,
            "grid_area": null,
            "grid_template_columns": null,
            "flex": null,
            "_model_name": "LayoutModel",
            "justify_items": null,
            "grid_row": null,
            "max_height": null,
            "align_content": null,
            "visibility": null,
            "align_self": null,
            "height": null,
            "min_height": null,
            "padding": null,
            "grid_auto_rows": null,
            "grid_gap": null,
            "max_width": null,
            "order": null,
            "_view_module_version": "1.2.0",
            "grid_template_areas": null,
            "object_position": null,
            "object_fit": null,
            "grid_auto_columns": null,
            "margin": null,
            "display": null,
            "left": null
          }
        },
        "142c02d521224597bc0e8604a6e62bf9": {
          "model_module": "@jupyter-widgets/controls",
          "model_name": "FloatProgressModel",
          "state": {
            "_view_name": "ProgressView",
            "style": "IPY_MODEL_09d8d1f3ce7949d9b46da0783483c005",
            "_dom_classes": [],
            "description": "Downloading: 100%",
            "_model_name": "FloatProgressModel",
            "bar_style": "success",
            "max": 456318,
            "_view_module": "@jupyter-widgets/controls",
            "_model_module_version": "1.5.0",
            "value": 456318,
            "_view_count": null,
            "_view_module_version": "1.5.0",
            "orientation": "horizontal",
            "min": 0,
            "description_tooltip": null,
            "_model_module": "@jupyter-widgets/controls",
            "layout": "IPY_MODEL_c4e1dfe1c11e477881e244e0e56eab17"
          }
        },
        "53c7f90785254cc09948796413440b00": {
          "model_module": "@jupyter-widgets/controls",
          "model_name": "HTMLModel",
          "state": {
            "_view_name": "HTMLView",
            "style": "IPY_MODEL_12945b8bc00c45faaa71a532b16fef99",
            "_dom_classes": [],
            "description": "",
            "_model_name": "HTMLModel",
            "placeholder": "​",
            "_view_module": "@jupyter-widgets/controls",
            "_model_module_version": "1.5.0",
            "value": " 456k/456k [00:00&lt;00:00, 1.25MB/s]",
            "_view_count": null,
            "_view_module_version": "1.5.0",
            "description_tooltip": null,
            "_model_module": "@jupyter-widgets/controls",
            "layout": "IPY_MODEL_3d02083b8d0f48ab9e12a4974e26f57c"
          }
        },
        "09d8d1f3ce7949d9b46da0783483c005": {
          "model_module": "@jupyter-widgets/controls",
          "model_name": "ProgressStyleModel",
          "state": {
            "_view_name": "StyleView",
            "_model_name": "ProgressStyleModel",
            "description_width": "initial",
            "_view_module": "@jupyter-widgets/base",
            "_model_module_version": "1.5.0",
            "_view_count": null,
            "_view_module_version": "1.2.0",
            "bar_color": null,
            "_model_module": "@jupyter-widgets/controls"
          }
        },
        "c4e1dfe1c11e477881e244e0e56eab17": {
          "model_module": "@jupyter-widgets/base",
          "model_name": "LayoutModel",
          "state": {
            "_view_name": "LayoutView",
            "grid_template_rows": null,
            "right": null,
            "justify_content": null,
            "_view_module": "@jupyter-widgets/base",
            "overflow": null,
            "_model_module_version": "1.2.0",
            "_view_count": null,
            "flex_flow": null,
            "width": null,
            "min_width": null,
            "border": null,
            "align_items": null,
            "bottom": null,
            "_model_module": "@jupyter-widgets/base",
            "top": null,
            "grid_column": null,
            "overflow_y": null,
            "overflow_x": null,
            "grid_auto_flow": null,
            "grid_area": null,
            "grid_template_columns": null,
            "flex": null,
            "_model_name": "LayoutModel",
            "justify_items": null,
            "grid_row": null,
            "max_height": null,
            "align_content": null,
            "visibility": null,
            "align_self": null,
            "height": null,
            "min_height": null,
            "padding": null,
            "grid_auto_rows": null,
            "grid_gap": null,
            "max_width": null,
            "order": null,
            "_view_module_version": "1.2.0",
            "grid_template_areas": null,
            "object_position": null,
            "object_fit": null,
            "grid_auto_columns": null,
            "margin": null,
            "display": null,
            "left": null
          }
        },
        "12945b8bc00c45faaa71a532b16fef99": {
          "model_module": "@jupyter-widgets/controls",
          "model_name": "DescriptionStyleModel",
          "state": {
            "_view_name": "StyleView",
            "_model_name": "DescriptionStyleModel",
            "description_width": "",
            "_view_module": "@jupyter-widgets/base",
            "_model_module_version": "1.5.0",
            "_view_count": null,
            "_view_module_version": "1.2.0",
            "_model_module": "@jupyter-widgets/controls"
          }
        },
        "3d02083b8d0f48ab9e12a4974e26f57c": {
          "model_module": "@jupyter-widgets/base",
          "model_name": "LayoutModel",
          "state": {
            "_view_name": "LayoutView",
            "grid_template_rows": null,
            "right": null,
            "justify_content": null,
            "_view_module": "@jupyter-widgets/base",
            "overflow": null,
            "_model_module_version": "1.2.0",
            "_view_count": null,
            "flex_flow": null,
            "width": null,
            "min_width": null,
            "border": null,
            "align_items": null,
            "bottom": null,
            "_model_module": "@jupyter-widgets/base",
            "top": null,
            "grid_column": null,
            "overflow_y": null,
            "overflow_x": null,
            "grid_auto_flow": null,
            "grid_area": null,
            "grid_template_columns": null,
            "flex": null,
            "_model_name": "LayoutModel",
            "justify_items": null,
            "grid_row": null,
            "max_height": null,
            "align_content": null,
            "visibility": null,
            "align_self": null,
            "height": null,
            "min_height": null,
            "padding": null,
            "grid_auto_rows": null,
            "grid_gap": null,
            "max_width": null,
            "order": null,
            "_view_module_version": "1.2.0",
            "grid_template_areas": null,
            "object_position": null,
            "object_fit": null,
            "grid_auto_columns": null,
            "margin": null,
            "display": null,
            "left": null
          }
        }
      }
    }
  },
  "cells": [
    {
      "cell_type": "code",
      "metadata": {
        "collapsed": true,
        "deletable": false,
        "editable": false,
        "jupyter": {
          "outputs_hidden": true,
          "source_hidden": true
        },
        "id": "4u3UmbZFj-ij",
        "colab": {
          "base_uri": "https://localhost:8080/"
        },
        "outputId": "7244034e-5f34-40a4-c310-79937bb0f3db"
      },
      "source": [
        "# Please do not change this cell because some hidden tests might depend on it.\n",
        "import os\n",
        "\n",
        "# Otter grader does not handle ! commands well, so we define and use our\n",
        "# own function to execute shell commands.\n",
        "def shell(commands, warn=True):\n",
        "    \"\"\"Executes the string `commands` as a sequence of shell commands.\n",
        "     \n",
        "       Prints the result to stdout and returns the exit status. \n",
        "       Provides a printed warning on non-zero exit status unless `warn` \n",
        "       flag is unset.\n",
        "    \"\"\"\n",
        "    file = os.popen(commands)\n",
        "    print (file.read().rstrip('\\n'))\n",
        "    exit_status = file.close()\n",
        "    if warn and exit_status != None:\n",
        "        print(f\"Completed with errors. Exit status: {exit_status}\\n\")\n",
        "    return exit_status\n",
        "\n",
        "shell(\"\"\"\n",
        "ls requirements.txt >/dev/null 2>&1\n",
        "if [ ! $? = 0 ]; then\n",
        " rm -rf .tmp\n",
        " git clone https://github.com/cs236299-2020/project4.git .tmp\n",
        " mv .tmp/requirements.txt ./\n",
        " rm -rf .tmp\n",
        "fi\n",
        "pip install -q -r requirements.txt\n",
        "\"\"\")"
      ],
      "execution_count": 45,
      "outputs": [
        {
          "output_type": "stream",
          "text": [
            "\n"
          ],
          "name": "stdout"
        }
      ]
    },
    {
      "cell_type": "code",
      "metadata": {
        "deletable": false,
        "editable": false,
        "id": "checked-rehabilitation"
      },
      "source": [
        "# Initialize Otter\n",
        "import otter\n",
        "grader = otter.Notebook()"
      ],
      "execution_count": 46,
      "outputs": []
    },
    {
      "cell_type": "markdown",
      "metadata": {
        "jupyter": {
          "source_hidden": true
        },
        "id": "xZTcI-Oxj-iv"
      },
      "source": [
        "%%latex\n",
        "\\newcommand{\\vect}[1]{\\mathbf{#1}}\n",
        "\\newcommand{\\cnt}[1]{\\sharp(#1)}\n",
        "\\newcommand{\\argmax}[1]{\\underset{#1}{\\operatorname{argmax}}}\n",
        "\\newcommand{\\softmax}{\\operatorname{softmax}}\n",
        "\\newcommand{\\Prob}{\\Pr}\n",
        "\\newcommand{\\given}{\\,|\\,}"
      ]
    },
    {
      "cell_type": "markdown",
      "metadata": {
        "jupyter": {
          "source_hidden": true
        },
        "id": "sXgdN4lbj-iw"
      },
      "source": [
        "$$\n",
        "\\renewcommand{\\vect}[1]{\\mathbf{#1}}\n",
        "\\renewcommand{\\cnt}[1]{\\sharp(#1)}\n",
        "\\renewcommand{\\argmax}[1]{\\underset{#1}{\\operatorname{argmax}}}\n",
        "\\renewcommand{\\softmax}{\\operatorname{softmax}}\n",
        "\\renewcommand{\\Prob}{\\Pr}\n",
        "\\renewcommand{\\given}{\\,|\\,}\n",
        "$$"
      ]
    },
    {
      "cell_type": "markdown",
      "metadata": {
        "id": "qyLRFIJ0pWug"
      },
      "source": [
        "# Project 4: Semantic parsing for question answering\n",
        "\n",
        "The goal of semantic parsing is to convert natural language utterances to a meaning representation such as a _logical form_ expression or a _SQL query_. In the previous project segment, you built a parsing system to reconstruct parse trees from the natural-language queries in the ATIS dataset. However, that only solves an intermediary task, not the end-user task of obtaining answers to the queries.\n",
        "\n",
        "In this final project segment, you will go further, building a semantic parsing system to convert the English queries to SQL queries, so that by consulting a database you will be able to answer those questions. You will implement both a rule-based approach and an end-to-end sequence-to-sequence (seq2seq) approach. Both algorithms come with their pros and cons, and by the end of this segment you should have a basic understanding of the characteristics of the rule-based computational linguistic approach and the neural approach. \n",
        "\n",
        "## Goals\n",
        "\n",
        "1. Build a semantic parsing algorithm to convert text to SQL queries based on the syntactic parse trees from the last project.\n",
        "2. Build an end-to-end seq2seq system to convert text to SQL.\n",
        "4. Discuss the pros and cons of the rule-based system and the end-to-end system.\n",
        "5. (Optional) Use the state-of-the-art pretrained transformers for text-to-SQL conversion.\n",
        "\n",
        "This will be an extremely challenging project, so we recommend that you start early."
      ]
    },
    {
      "cell_type": "markdown",
      "metadata": {
        "id": "IZC1IGmoujpw"
      },
      "source": [
        "## Setup"
      ]
    },
    {
      "cell_type": "code",
      "metadata": {
        "id": "1Eeg4TYfj-iz"
      },
      "source": [
        "import copy\n",
        "import datetime\n",
        "import math\n",
        "import re\n",
        "import sys\n",
        "import warnings\n",
        "\n",
        "import nltk\n",
        "import sqlite3\n",
        "import torch\n",
        "import torch.nn as nn\n",
        "import torchtext as tt\n",
        "\n",
        "from cryptography.fernet import Fernet\n",
        "from func_timeout import func_set_timeout\n",
        "from torch.nn.utils.rnn import pack_padded_sequence as pack\n",
        "from torch.nn.utils.rnn import pad_packed_sequence as unpack\n",
        "from tqdm import tqdm\n",
        "from transformers import BartTokenizer, BartForConditionalGeneration"
      ],
      "execution_count": 47,
      "outputs": []
    },
    {
      "cell_type": "code",
      "metadata": {
        "id": "U1jEUUYXpU0V",
        "colab": {
          "base_uri": "https://localhost:8080/"
        },
        "outputId": "a50c3aa0-ca64-4ebc-f5e2-5696b4a8caf7"
      },
      "source": [
        "# Set random seeds\n",
        "seed = 1234\n",
        "torch.manual_seed(seed)\n",
        "\n",
        "# Turn off annoying torchtext warnings about pending deprecations\n",
        "warnings.filterwarnings(\"ignore\", module=\"torchtext\", category=UserWarning)\n",
        "\n",
        "# Set timeout for executing SQL\n",
        "TIMEOUT = 3 # seconds\n",
        "\n",
        "# GPU check: Set runtime type to use GPU where available\n",
        "device = torch.device(\"cuda\" if torch.cuda.is_available() else \"cpu\")\n",
        "print (device)"
      ],
      "execution_count": 48,
      "outputs": [
        {
          "output_type": "stream",
          "text": [
            "cuda\n"
          ],
          "name": "stdout"
        }
      ]
    },
    {
      "cell_type": "code",
      "metadata": {
        "id": "82jQOT8uj-i0",
        "colab": {
          "base_uri": "https://localhost:8080/"
        },
        "outputId": "ea69aa8b-d79d-45f3-fc11-97e1ea730f1b"
      },
      "source": [
        "## Download needed scripts and data\n",
        "source_url = \"https://raw.githubusercontent.com/nlp-236299/data/master\"\n",
        "\n",
        "# Grammar to augment for this segment\n",
        "if not os.path.isfile('data/grammar'):\n",
        "  shell(f\"wget -nv -N -P data {source_url}/ATIS/grammar_distrib4.crypt\")\n",
        "\n",
        "  # Decrypt the grammar file\n",
        "  key = b'bfksTY2BJ5VKKK9xZb1PDDLaGkdu7KCDFYfVePSEfGY='\n",
        "  fernet = Fernet(key)\n",
        "  with open('./data/grammar_distrib4.crypt', 'rb') as f:\n",
        "    restored = Fernet(key).decrypt(f.read())\n",
        "  with open('./data/grammar', 'wb') as f:\n",
        "    f.write(restored)\n",
        "\n",
        "# Download scripts and ATIS database\n",
        "shell(f\"\"\"\n",
        "  wget -nv -N -P scripts {source_url}/scripts/trees/transform.py\n",
        "  wget -nv -N -P data {source_url}/ATIS/atis_sqlite.db\n",
        "  \"\"\")"
      ],
      "execution_count": 49,
      "outputs": [
        {
          "output_type": "stream",
          "text": [
            "\n"
          ],
          "name": "stdout"
        }
      ]
    },
    {
      "cell_type": "code",
      "metadata": {
        "id": "JKk82EV5j-i1"
      },
      "source": [
        "# Import downloaded scripts for parsing augmented grammars\n",
        "sys.path.insert(1, './scripts')\n",
        "import transform as xform"
      ],
      "execution_count": 6,
      "outputs": []
    },
    {
      "cell_type": "markdown",
      "metadata": {
        "id": "fjlYGxtoj-i1"
      },
      "source": [
        "## Semantically augmented grammars\n",
        "\n",
        "In the first part of this project segment, you'll be implementing a rule-based system for semantic interpretation of sentences. Before jumping into using such a system on the ATIS dataset – we'll get to that soon enough – let's first work with some trivial examples to get things going.\n",
        "\n",
        "The fundamental idea of rule-based semantic interpretation is the rule of compositionality, that *the meaning of a constituent is a function of the meanings of its immediate subconstituents and the syntactic rule that combined them*. This leads to an infrastructure for specifying semantic interpretation in which each syntactic rule in a grammar (in our case, a context-free grammar) is associated with a semantic rule that applies to the meanings associated with the elements on the right-hand side of the rule.\n",
        "\n",
        "### Example: arithmetic expressions\n",
        "\n",
        "As a first example, let's consider an augmented grammar for arithmetic expressions, familiar from lab 3-1. We again use the function `xform.parse_augmented_grammar` to parse the augmented grammar. You can read more about it in the file `scripts/transform.py`."
      ]
    },
    {
      "cell_type": "code",
      "metadata": {
        "id": "8U3zJUcwj-i2"
      },
      "source": [
        "arithmetic_grammar, arithmetic_augmentations = xform.parse_augmented_grammar(\n",
        "    \"\"\"\n",
        "    ## Sample grammar for arithmetic expressions\n",
        "    \n",
        "    S -> NUM                              : lambda Num: Num\n",
        "       | S OP S                           : lambda S1, Op, S2: Op(S1, S2)\n",
        "\n",
        "    OP -> ADD                             : lambda Op: Op\n",
        "        | SUB \n",
        "        | MULT\n",
        "        | DIV\n",
        "\n",
        "    NUM -> 'zero'                         : lambda: 0\n",
        "         | 'one'                          : lambda: 1\n",
        "         | 'two'                          : lambda: 2\n",
        "         | 'three'                        : lambda: 3\n",
        "         | 'four'                         : lambda: 4\n",
        "         | 'five'                         : lambda: 5\n",
        "         | 'six'                          : lambda: 6\n",
        "         | 'seven'                        : lambda: 7\n",
        "         | 'eight'                        : lambda: 8\n",
        "         | 'nine'                         : lambda: 9\n",
        "         | 'ten'                          : lambda: 10\n",
        "\n",
        "    ADD -> 'plus' | 'added' 'to'          : lambda: lambda x, y: x + y\n",
        "    SUB -> 'minus'                        : lambda: lambda x, y: x - y\n",
        "    MULT -> 'times' | 'multiplied' 'by'   : lambda: lambda x, y: x * y\n",
        "    DIV -> 'divided' 'by'                 : lambda: lambda x, y: x / y\n",
        "    \"\"\")"
      ],
      "execution_count": 50,
      "outputs": []
    },
    {
      "cell_type": "markdown",
      "metadata": {
        "id": "7rqb1IyUj-i2"
      },
      "source": [
        "Recall that in this grammar specification format, rules that are not explicitly provided with an augmentation (like all the `OP` rules after the first `OP -> ADD`) are associated with the textually most recent one (`lambda Op: Op`).\n",
        "\n",
        "The `parse_augmented_grammar` function returns both an NLTK grammar and a dictionary that maps from productions in the grammar to their associated augmentations. Let's examine the returned grammar."
      ]
    },
    {
      "cell_type": "code",
      "metadata": {
        "id": "HolA_9xxj-i3",
        "colab": {
          "base_uri": "https://localhost:8080/"
        },
        "outputId": "bf0d59bb-fe87-4cea-95e7-92861cdd2bc7"
      },
      "source": [
        "for production in arithmetic_grammar.productions():\n",
        "  print(f\"{repr(production):25}     {arithmetic_augmentations[production]}\")"
      ],
      "execution_count": 51,
      "outputs": [
        {
          "output_type": "stream",
          "text": [
            "S -> NUM                      <function <lambda> at 0x7f9f04cdb730>\n",
            "S -> S OP S                   <function <lambda> at 0x7f9f04cdb620>\n",
            "OP -> ADD                     <function <lambda> at 0x7f9f04cdb378>\n",
            "OP -> SUB                     <function <lambda> at 0x7f9f04cdbd90>\n",
            "OP -> MULT                    <function <lambda> at 0x7f9f04cdb400>\n",
            "OP -> DIV                     <function <lambda> at 0x7f9f04cdb6a8>\n",
            "NUM -> 'zero'                 <function <lambda> at 0x7f9f04cdbf28>\n",
            "NUM -> 'one'                  <function <lambda> at 0x7f9f04cdb2f0>\n",
            "NUM -> 'two'                  <function <lambda> at 0x7f9f04cdbd08>\n",
            "NUM -> 'three'                <function <lambda> at 0x7f9f04cdbea0>\n",
            "NUM -> 'four'                 <function <lambda> at 0x7f9f04d70bf8>\n",
            "NUM -> 'five'                 <function <lambda> at 0x7f9f04d70488>\n",
            "NUM -> 'six'                  <function <lambda> at 0x7f9f04d70400>\n",
            "NUM -> 'seven'                <function <lambda> at 0x7f9f04d70378>\n",
            "NUM -> 'eight'                <function <lambda> at 0x7f9f04d70510>\n",
            "NUM -> 'nine'                 <function <lambda> at 0x7f9f04d702f0>\n",
            "NUM -> 'ten'                  <function <lambda> at 0x7f9f04d70268>\n",
            "ADD -> 'plus'                 <function <lambda> at 0x7f9f04d701e0>\n",
            "ADD -> 'added' 'to'           <function <lambda> at 0x7f9f04d70158>\n",
            "SUB -> 'minus'                <function <lambda> at 0x7f9f04d700d0>\n",
            "MULT -> 'times'               <function <lambda> at 0x7f9f04d70048>\n",
            "MULT -> 'multiplied' 'by'     <function <lambda> at 0x7f9f04d709d8>\n",
            "DIV -> 'divided' 'by'         <function <lambda> at 0x7f9f04d70c80>\n"
          ],
          "name": "stdout"
        }
      ]
    },
    {
      "cell_type": "markdown",
      "metadata": {
        "id": "9S3hIfL6j-i3"
      },
      "source": [
        "We can parse with the grammar using one of the built-in NLTK parsers."
      ]
    },
    {
      "cell_type": "code",
      "metadata": {
        "id": "YJnPmLjFj-i3",
        "colab": {
          "base_uri": "https://localhost:8080/"
        },
        "outputId": "3ad13bb2-806b-485b-af2d-c0f026c1f3d9"
      },
      "source": [
        "arithmetic_parser = nltk.parse.BottomUpChartParser(arithmetic_grammar)\n",
        "parses = [p for p in arithmetic_parser.parse('three plus one times four'.split())]\n",
        "for parse in parses:\n",
        "  parse.pretty_print()\n",
        "  print(parse)"
      ],
      "execution_count": 52,
      "outputs": [
        {
          "output_type": "stream",
          "text": [
            "            S            \n",
            "        ____|_________    \n",
            "       S         |    |  \n",
            "   ____|____     |    |   \n",
            "  S    OP   S    OP   S  \n",
            "  |    |    |    |    |   \n",
            " NUM  ADD  NUM  MULT NUM \n",
            "  |    |    |    |    |   \n",
            "three plus one times four\n",
            "\n",
            "(S\n",
            "  (S (S (NUM three)) (OP (ADD plus)) (S (NUM one)))\n",
            "  (OP (MULT times))\n",
            "  (S (NUM four)))\n",
            "            S            \n",
            "   _________|____         \n",
            "  |    |         S       \n",
            "  |    |     ____|____    \n",
            "  S    OP   S    OP   S  \n",
            "  |    |    |    |    |   \n",
            " NUM  ADD  NUM  MULT NUM \n",
            "  |    |    |    |    |   \n",
            "three plus one times four\n",
            "\n",
            "(S\n",
            "  (S (NUM three))\n",
            "  (OP (ADD plus))\n",
            "  (S (S (NUM one)) (OP (MULT times)) (S (NUM four))))\n"
          ],
          "name": "stdout"
        }
      ]
    },
    {
      "cell_type": "markdown",
      "metadata": {
        "id": "eJw_VJPpj-i4"
      },
      "source": [
        "Now let's turn to the augmentations. They can be arbitrary functions applied to the semantic representations associated with the right-hand-side nonterminals, returning the semantic representation of the left-hand side. To interpret the semantic representation of the entire sentence (at the root of the parse tree), we can use the following pseudo-code:\n",
        "```\n",
        "to interpret a tree:\n",
        "  interpret each of the nonterminal-rooted subtrees\n",
        "  find the augmentation associated with the root production of the tree\n",
        "    (it should be a function of as many arguments as there are nonterminals on the right-hand side)\n",
        "  return the result of applying the augmentation to the subtree values\n",
        "```\n",
        "(The base case of this recursion occurs when the number of nonterminal-rooted subtrees is zero, that is, a rule all of whose right-hand side elements are terminals.)\n",
        "\n",
        "Suppose we had such a function, call it `interpret`. How would it operate on, for instance, the tree `(S (S (NUM three)) (OP (ADD plus)) (S (NUM one)))`?\n",
        "\n",
        "```\n",
        "interpret (S (S (NUM three)) (OP (ADD plus)) (S (NUM one)))\n",
        "    |->interpret (S (NUM three))\n",
        "    |      |->interpret (NUM three)\n",
        "    |      |      |->(no subconstituents to evaluate)\n",
        "    |      |      |->apply the augmentation for the rule NUM -> three to the empty set of values\n",
        "    |      |      |      (lambda: 3) () ==> 3\n",
        "    |      |      \\==> 3\n",
        "    |      |->apply the augmentation for the rule NUM -> NUM to the value 3\n",
        "    |      |      (lambda NUM: NUM)(3) ==> 3\n",
        "    |      \\==> 3\n",
        "    |->interpret (OP (ADD plus)) \n",
        "    |      |...\n",
        "    |      \\==> lambda x, y: x + y\n",
        "    |->interpret (S (NUM one))\n",
        "    |      |...\n",
        "    |      \\==> 1\n",
        "    |->apply the augmentation for the rule S -> S OP S to the values 3, (lambda x, y: x + y), and 1\n",
        "    |      (lambda S1, Op, S2: Op(S1, S2))(3, (lambda x, y: x + y), 1) ==> 4\n",
        "    \\==> 4\n",
        "```\n",
        "\n",
        "Thus, the string \"three plus one\" is semantically interpreted as the value 4.\n",
        "\n",
        "Now, all you need to do is to write the `interpret` function. (Lab 4-2 ought to come in handy.)"
      ]
    },
    {
      "cell_type": "code",
      "metadata": {
        "id": "Pq9Im1Uvj-i5"
      },
      "source": [
        "#TODO - Write the `interpret` function\n",
        "def interpret(tree, augmentations):\n",
        "  if not isinstance(tree, nltk.Tree):\n",
        "    return None\n",
        "  args = []\n",
        "  for child in tree:\n",
        "    args.append(interpret(child, augmentations))\n",
        "  args = [x for x in args if x is not None]\n",
        "  prods = tree.productions()\n",
        "  rule = prods[0]\n",
        "  augmentation = augmentations[rule]\n",
        "  result = augmentation(*args)\n",
        "  return result"
      ],
      "execution_count": 53,
      "outputs": []
    },
    {
      "cell_type": "markdown",
      "metadata": {
        "id": "Rw_AoA53j-i7"
      },
      "source": [
        "Now we should be able to evaluate the arithmetic example from above."
      ]
    },
    {
      "cell_type": "code",
      "metadata": {
        "id": "euSQjIEBj-i7",
        "colab": {
          "base_uri": "https://localhost:8080/"
        },
        "outputId": "74123c1a-1d36-45ca-ef48-9a3872c6dd82"
      },
      "source": [
        "interpret(parses[0], arithmetic_augmentations)"
      ],
      "execution_count": 54,
      "outputs": [
        {
          "output_type": "execute_result",
          "data": {
            "text/plain": [
              "16"
            ]
          },
          "metadata": {
            "tags": []
          },
          "execution_count": 54
        }
      ]
    },
    {
      "cell_type": "markdown",
      "metadata": {
        "id": "E41i7yEij-i8"
      },
      "source": [
        "And we can even write a function that parses and interprets a string. We'll have it evaluate each of the possible parses and print the results."
      ]
    },
    {
      "cell_type": "code",
      "metadata": {
        "id": "ct4ZwnaCj-i9"
      },
      "source": [
        "def parse_and_interpret(string, grammar, augmentations):\n",
        "  parser = nltk.parse.BottomUpChartParser(grammar)\n",
        "  parses = parser.parse(string.split())\n",
        "  for parse in parses:\n",
        "    parse.pretty_print()\n",
        "    print(parse, \"==>\", interpret(parse, augmentations))"
      ],
      "execution_count": 55,
      "outputs": []
    },
    {
      "cell_type": "code",
      "metadata": {
        "id": "Ea6-19w9j-i-",
        "colab": {
          "base_uri": "https://localhost:8080/"
        },
        "outputId": "83d4dd3f-95e6-4cce-e9a4-708caabbc2d8"
      },
      "source": [
        "parse_and_interpret(\"three plus one times four\", arithmetic_grammar, arithmetic_augmentations)"
      ],
      "execution_count": 56,
      "outputs": [
        {
          "output_type": "stream",
          "text": [
            "            S            \n",
            "        ____|_________    \n",
            "       S         |    |  \n",
            "   ____|____     |    |   \n",
            "  S    OP   S    OP   S  \n",
            "  |    |    |    |    |   \n",
            " NUM  ADD  NUM  MULT NUM \n",
            "  |    |    |    |    |   \n",
            "three plus one times four\n",
            "\n",
            "(S\n",
            "  (S (S (NUM three)) (OP (ADD plus)) (S (NUM one)))\n",
            "  (OP (MULT times))\n",
            "  (S (NUM four))) ==> 16\n",
            "            S            \n",
            "   _________|____         \n",
            "  |    |         S       \n",
            "  |    |     ____|____    \n",
            "  S    OP   S    OP   S  \n",
            "  |    |    |    |    |   \n",
            " NUM  ADD  NUM  MULT NUM \n",
            "  |    |    |    |    |   \n",
            "three plus one times four\n",
            "\n",
            "(S\n",
            "  (S (NUM three))\n",
            "  (OP (ADD plus))\n",
            "  (S (S (NUM one)) (OP (MULT times)) (S (NUM four)))) ==> 7\n"
          ],
          "name": "stdout"
        }
      ]
    },
    {
      "cell_type": "markdown",
      "metadata": {
        "id": "Ozp4DjXrj-i-"
      },
      "source": [
        "Since the string is syntactically ambiguous according to the grammar, it is semantically ambiguous as well."
      ]
    },
    {
      "cell_type": "markdown",
      "metadata": {
        "id": "RpNdK6nKj-i_"
      },
      "source": [
        "### Some grammar specification conveniences\n",
        "\n",
        "Before going on, it will be useful to have a few more conveniences in writing augmentations for rules. First, since the augmentations are arbitrary Python expressions, they can be built from and make use of other functions. For instance, you'll notice that many of the augmentations at the leaves of the tree took no arguments and returned a constant. We can define a function `constant` that returns a function that ignores its arguments and returns a particular value."
      ]
    },
    {
      "cell_type": "code",
      "metadata": {
        "id": "u39rlZ9Zj-i_"
      },
      "source": [
        "def constant(value):\n",
        "  \"\"\"Return `value`, ignoring any arguments\"\"\"\n",
        "  return lambda *args: value"
      ],
      "execution_count": 57,
      "outputs": []
    },
    {
      "cell_type": "markdown",
      "metadata": {
        "id": "JYkvz3xJj-jA"
      },
      "source": [
        "Similarly, several of the augmentations are functions that just return their first argument. Again, we can define a generic form `first` of such a function:"
      ]
    },
    {
      "cell_type": "code",
      "metadata": {
        "id": "kHiX4poOj-jA"
      },
      "source": [
        "def first(*args):\n",
        "  \"\"\"Return the value of the first (and perhaps only) subconstituent, \n",
        "     ignoring any others\"\"\"  \n",
        "  return args[0]"
      ],
      "execution_count": 58,
      "outputs": []
    },
    {
      "cell_type": "markdown",
      "metadata": {
        "id": "1RXebo7_j-jB"
      },
      "source": [
        "We can now rewrite the grammar above to take advantage of these shortcuts. \n",
        "\n",
        "> In the call to `parse_augmented_grammar` below, we pass in the global environment, extracted via a `globals()` function call, via the named argument `globals`. This allows the `parse_augmented_grammar` function to make use of the global bindings for `constant`, `first`, and the like when evaluating the augmentation expressions to their values. You can check out the code in `transform.py` to see how the passed in `globals` bindings are used. To help understand what's going on, see what happens if you don't include the `globals=globals()`."
      ]
    },
    {
      "cell_type": "code",
      "metadata": {
        "id": "RoAEJGWgj-jB"
      },
      "source": [
        "arithmetic_grammar_2, arithmetic_augmentations_2 = xform.parse_augmented_grammar(\n",
        "    \"\"\"\n",
        "    ## Sample grammar for arithmetic expressions\n",
        "    \n",
        "    S -> NUM                              : first\n",
        "       | S OP S                           : lambda S1, Op, S2: Op(S1, S2)\n",
        "\n",
        "    OP -> ADD                             : first\n",
        "       | SUB \n",
        "       | MULT\n",
        "       | DIV\n",
        "\n",
        "    NUM -> 'zero'                         : constant(0)\n",
        "         | 'one'                          : constant(1)\n",
        "         | 'two'                          : constant(2)\n",
        "         | 'three'                        : constant(3)\n",
        "         | 'four'                         : constant(4)\n",
        "         | 'five'                         : constant(5)\n",
        "         | 'six'                          : constant(6)\n",
        "         | 'seven'                        : constant(7)\n",
        "         | 'eight'                        : constant(8)\n",
        "         | 'nine'                         : constant(9)\n",
        "         | 'ten'                          : constant(10)\n",
        "\n",
        "    ADD -> 'plus' | 'added' 'to'          : constant(lambda x, y: x + y)\n",
        "    SUB -> 'minus'                        : constant(lambda x, y: x - y)\n",
        "    MULT -> 'times' | 'multiplied' 'by'   : constant(lambda x, y: x * y)\n",
        "    DIV -> 'divided' 'by'                 : constant(lambda x, y: x / y)\n",
        "    \"\"\",\n",
        "    globals=globals())"
      ],
      "execution_count": 59,
      "outputs": []
    },
    {
      "cell_type": "markdown",
      "metadata": {
        "id": "quCDLuIxj-jB"
      },
      "source": [
        "Finally, it might make our lives easier to write a template of augmentations whose instantiation depends on the right-hand side of the rule. \n",
        "\n",
        "We use a reserved keyword `_RHS` to denote the right-hand side of the syntactic rule, which will be replaced by a **list** of the right-hand-side strings. For example, an augmentation `numeric_template(_RHS)` would be as if written as `numeric_template(['zero'])` when the rule is `NUM -> 'zero'`, and `numeric_template(['one'])` when the rule is `NUM -> 'one'`. The details of how this works can be found at [`scripts/transform.py`](https://github.com/nlp-course/data/blob/master/scripts/trees/transform.py).\n",
        "\n",
        "This would allow us to use a single template function, for example,"
      ]
    },
    {
      "cell_type": "code",
      "metadata": {
        "id": "ay5IXXmUj-jC"
      },
      "source": [
        "def numeric_template(rhs):\n",
        "  \"\"\"Ignore the subphrase meanings and lookup the first right-hand-side symbol \n",
        "     as a number\"\"\"\n",
        "  return constant({'zero':0, 'one':1, 'two':2, 'three':3, 'four':4, 'five':5,\n",
        "          'six':6, 'seven':7, 'eight':8, 'nine':9, 'ten':10}[rhs[0]])"
      ],
      "execution_count": 60,
      "outputs": []
    },
    {
      "cell_type": "markdown",
      "metadata": {
        "id": "wVAozGKXj-jC"
      },
      "source": [
        "and then further simplify the grammar specification:"
      ]
    },
    {
      "cell_type": "code",
      "metadata": {
        "id": "R4cGOURlj-jC"
      },
      "source": [
        "arithmetic_grammar_3, arithmetic_augmentations_3 = xform.parse_augmented_grammar(\n",
        "    \"\"\"\n",
        "    ## Sample grammar for arithmetic expressions\n",
        "    \n",
        "    S -> NUM                              : first\n",
        "       | S OP S                           : lambda S1, Op, S2: Op(S1, S2)\n",
        "\n",
        "    OP -> ADD                             : first\n",
        "       | SUB\n",
        "       | MULT\n",
        "       | DIV\n",
        "\n",
        "    NUM -> 'zero'  | 'one'   | 'two'      : numeric_template(_RHS)\n",
        "         | 'three' | 'four'  | 'five'\n",
        "         | 'six'   | 'seven' | 'eight'\n",
        "         | 'nine'  | 'ten'\n",
        "\n",
        "    ADD -> 'plus' | 'added' 'to'          : constant(lambda x, y: x + y)\n",
        "    SUB -> 'minus'                        : constant(lambda x, y: x - y)\n",
        "    MULT -> 'times' | 'multiplied' 'by'   : constant(lambda x, y: x * y)\n",
        "    DIV -> 'divided' 'by'                 : constant(lambda x, y: x / y)\n",
        "    \"\"\",\n",
        "    globals=globals())"
      ],
      "execution_count": 61,
      "outputs": []
    },
    {
      "cell_type": "code",
      "metadata": {
        "id": "Win84DTUj-jC",
        "colab": {
          "base_uri": "https://localhost:8080/"
        },
        "outputId": "6a5c6dbe-5eda-4037-abe0-fa18c101874b"
      },
      "source": [
        "parse_and_interpret(\"six divided by three\", arithmetic_grammar_3, arithmetic_augmentations_3)"
      ],
      "execution_count": 62,
      "outputs": [
        {
          "output_type": "stream",
          "text": [
            "       S                 \n",
            "  _____|______________    \n",
            " S           OP       S  \n",
            " |           |        |   \n",
            "NUM         DIV      NUM \n",
            " |      _____|___     |   \n",
            "six divided      by three\n",
            "\n",
            "(S (S (NUM six)) (OP (DIV divided by)) (S (NUM three))) ==> 2.0\n"
          ],
          "name": "stdout"
        }
      ]
    },
    {
      "cell_type": "markdown",
      "metadata": {
        "id": "-3-yiaBVj-jD"
      },
      "source": [
        "### Example: _Green Eggs and Ham_ revisited\n",
        "\n",
        "This stuff is tricky, so it's useful to see more examples before jumping in the deep end. In this simple GEaH fragment grammar, we use a larger set of auxiliary functions to build the augmentations."
      ]
    },
    {
      "cell_type": "code",
      "metadata": {
        "id": "bcU0NusQj-jD"
      },
      "source": [
        "def forward(F, A):\n",
        "  \"\"\"Forward application: Return the application of the first \n",
        "     argument to the second\"\"\"\n",
        "  return F(A)\n",
        "\n",
        "def backward(A, F):\n",
        "  \"\"\"Backward application: Return the application of the second \n",
        "     argument to the first\"\"\"\n",
        "  return F(A)\n",
        "\n",
        "def second(*args):\n",
        "  \"\"\"Return the value of the second subconstituent, ignoring any others\"\"\"\n",
        "  return args[1]\n",
        "\n",
        "def ignore(*args):\n",
        "  \"\"\"Return `None`, ignoring everything about the constituent. (Good as a\n",
        "     placeholder until a better augmentation can be devised.)\"\"\"\n",
        "  return None"
      ],
      "execution_count": 63,
      "outputs": []
    },
    {
      "cell_type": "markdown",
      "metadata": {
        "id": "U_JMZokpj-jD"
      },
      "source": [
        "Using these, we can build and test the grammar."
      ]
    },
    {
      "cell_type": "code",
      "metadata": {
        "id": "pZ9H10N8j-jD"
      },
      "source": [
        "geah_grammar_spec = \"\"\"\n",
        "  ## Productions\n",
        "  S -> NP VP            : backward\n",
        "  VP -> V NP            : forward\n",
        "\n",
        "  ## Lexicon\n",
        "  V -> 'likes'          : constant(lambda Object: lambda Subject: f\"like({Subject}, {Object})\")\n",
        "  NP -> 'Sam' | 'sam'   : constant(_RHS[0])\n",
        "  NP -> 'ham'\n",
        "  NP -> 'eggs'\n",
        "\"\"\""
      ],
      "execution_count": 64,
      "outputs": []
    },
    {
      "cell_type": "code",
      "metadata": {
        "id": "7N36uyMpj-jE"
      },
      "source": [
        "geah_grammar, geah_augmentations = xform.parse_augmented_grammar(geah_grammar_spec, \n",
        "                                                                 globals=globals())"
      ],
      "execution_count": 65,
      "outputs": []
    },
    {
      "cell_type": "code",
      "metadata": {
        "id": "kLOuO1lQj-jE",
        "colab": {
          "base_uri": "https://localhost:8080/"
        },
        "outputId": "2f155a48-93b5-4bb2-895a-d70bdd3bd66f"
      },
      "source": [
        "parse_and_interpret(\"Sam likes ham\", geah_grammar, geah_augmentations)"
      ],
      "execution_count": 66,
      "outputs": [
        {
          "output_type": "stream",
          "text": [
            "      S          \n",
            "  ____|____       \n",
            " |         VP    \n",
            " |     ____|___   \n",
            " NP   V        NP\n",
            " |    |        |  \n",
            "Sam likes     ham\n",
            "\n",
            "(S (NP Sam) (VP (V likes) (NP ham))) ==> like(Sam, ham)\n"
          ],
          "name": "stdout"
        }
      ]
    },
    {
      "cell_type": "markdown",
      "metadata": {
        "id": "oLbF3tgij-jE"
      },
      "source": [
        "## Semantics of ATIS queries\n",
        "\n",
        "Now you're in a good position to understand and add augmentations to a more comprehensive grammar, say, one that parses ATIS queries and generates SQL queries.\n",
        "\n",
        "In preparation for that, we need to load the ATIS data, both NL and SQL queries."
      ]
    },
    {
      "cell_type": "markdown",
      "metadata": {
        "id": "zBALH7ZHLjhh"
      },
      "source": [
        "### Loading and preprocessing the corpus\n",
        "\n",
        "To simplify things a bit, we'll only consider ATIS queries whose question type (remember that from project segment 1?) is `flight_id`. We download training, development, and test splits for this subset of the ATIS corpus, including corresponding SQL queries."
      ]
    },
    {
      "cell_type": "code",
      "metadata": {
        "id": "AIVb--YGLVKd",
        "colab": {
          "base_uri": "https://localhost:8080/"
        },
        "outputId": "2393ba93-64e3-49ad-af52-ba318b776f19"
      },
      "source": [
        "# Acquire the datasets - training, development, and test splits of the \n",
        "# ATIS queries and corresponding SQL queries\n",
        "shell(f\"\"\"\n",
        "  wget -nv -N -P data {source_url}/ATIS/test_flightid.nl\n",
        "  wget -nv -N -P data {source_url}/ATIS/test_flightid.sql\n",
        "  wget -nv -N -P data {source_url}/ATIS/dev_flightid.nl\n",
        "  wget -nv -N -P data {source_url}/ATIS/dev_flightid.sql\n",
        "  wget -nv -N -P data {source_url}/ATIS/train_flightid.nl\n",
        "  wget -nv -N -P data {source_url}/ATIS/train_flightid.sql\n",
        "\"\"\")"
      ],
      "execution_count": 67,
      "outputs": [
        {
          "output_type": "stream",
          "text": [
            "\n"
          ],
          "name": "stdout"
        }
      ]
    },
    {
      "cell_type": "markdown",
      "metadata": {
        "id": "UW7A_icx3zjr"
      },
      "source": [
        "Let's take a look at the data: the NL queries are in `.nl` files, and the SQL queries are in `.sql` files."
      ]
    },
    {
      "cell_type": "code",
      "metadata": {
        "id": "Ux_vIRC337FG",
        "colab": {
          "base_uri": "https://localhost:8080/"
        },
        "outputId": "fef55b7f-18a8-46df-9f8f-984716b8d66f"
      },
      "source": [
        "shell(\"head -1 data/dev_flightid.nl\")\n",
        "shell(\"head -1 data/dev_flightid.sql\")"
      ],
      "execution_count": 68,
      "outputs": [
        {
          "output_type": "stream",
          "text": [
            "what flights are available tomorrow from denver to philadelphia\n",
            "SELECT DISTINCT flight_1.flight_id FROM flight flight_1 , airport_service airport_service_1 , city city_1 , airport_service airport_service_2 , city city_2 , days days_1 , date_day date_day_1 WHERE flight_1.from_airport = airport_service_1.airport_code AND airport_service_1.city_code = city_1.city_code AND city_1.city_name = 'DENVER' AND ( flight_1.to_airport = airport_service_2.airport_code AND airport_service_2.city_code = city_2.city_code AND city_2.city_name = 'PHILADELPHIA' AND flight_1.flight_days = days_1.days_code AND days_1.day_name = date_day_1.day_name AND date_day_1.year = 1991 AND date_day_1.month_number = 1 AND date_day_1.day_number = 20 )\n"
          ],
          "name": "stdout"
        }
      ]
    },
    {
      "cell_type": "markdown",
      "metadata": {
        "id": "32tFSXqiLq2h"
      },
      "source": [
        "### Corpus preprocessing"
      ]
    },
    {
      "cell_type": "markdown",
      "metadata": {
        "id": "GxjjnghgCJ_b"
      },
      "source": [
        "We'll use `torchtext` to process the data. We use two `Field`s: `SRC` for the questions, and `TGT` for the SQL queries. We'll use the tokenizer from project segment 3."
      ]
    },
    {
      "cell_type": "code",
      "metadata": {
        "id": "rkbryZWWj-jG",
        "colab": {
          "base_uri": "https://localhost:8080/"
        },
        "outputId": "6289e826-783d-4b73-d498-4654059a3824"
      },
      "source": [
        "## Tokenizer\n",
        "tokenizer = nltk.tokenize.RegexpTokenizer('\\d+|st\\.|[\\w-]+|\\$[\\d\\.]+|\\S+')\n",
        "def tokenize(string):\n",
        "  return tokenizer.tokenize(string.lower())\n",
        "\n",
        "## Demonstrating the tokenizer\n",
        "## Note especially the handling of `\"11pm\"` and hyphenated words.\n",
        "print(tokenize(\"Are there any first-class flights from St. Louis at 11pm for less than $3.50?\"))"
      ],
      "execution_count": 72,
      "outputs": [
        {
          "output_type": "stream",
          "text": [
            "['are', 'there', 'any', 'first-class', 'flights', 'from', 'st.', 'louis', 'at', '11', 'pm', 'for', 'less', 'than', '$3.50', '?']\n"
          ],
          "name": "stdout"
        }
      ]
    },
    {
      "cell_type": "code",
      "metadata": {
        "id": "ODU_4JYO8d9q"
      },
      "source": [
        "SRC = tt.data.Field(include_lengths=True,         # include lengths\n",
        "                    batch_first=False,            # batches will be max_len x batch_size\n",
        "                    tokenize=tokenize,            # use our tokenizer\n",
        "                   ) \n",
        "TGT = tt.data.Field(include_lengths=False,\n",
        "                    batch_first=False,            # batches will be max_len x batch_size\n",
        "                    tokenize=lambda x: x.split(), # use split to tokenize\n",
        "                    init_token=\"<bos>\",           # prepend <bos>\n",
        "                    eos_token=\"<eos>\")            # append <eos>\n",
        "fields = [('src', SRC), ('tgt', TGT)]"
      ],
      "execution_count": 71,
      "outputs": []
    },
    {
      "cell_type": "markdown",
      "metadata": {
        "id": "PRXJ17mU99V0"
      },
      "source": [
        "> Note that we specified `batch_first=False` (as in lab 4-3), so that the returned batched tensors would be of size `max_length x batch_size`, which facilitates seq2seq implementation.\n",
        "\n",
        "Now, we load the data using `torchtext`. We use the `TranslationDataset` class here because our task is essentially a translation task: \"translating\" questions into the corresponding SQL queries. Therefore, we also refer to the questions as the _source_ side (`SRC`) and the SQL queries as the _target_ side (`TGT`)."
      ]
    },
    {
      "cell_type": "code",
      "metadata": {
        "id": "pIb_oHI33ga-",
        "colab": {
          "base_uri": "https://localhost:8080/"
        },
        "outputId": "48ecb2ca-a4a3-45d7-bd6d-0f4927313173"
      },
      "source": [
        "# Make splits for data\n",
        "train_data, val_data, test_data = tt.datasets.TranslationDataset.splits(\n",
        "    ('_flightid.nl', '_flightid.sql'), fields, path='./data/',\n",
        "    train='train', validation='dev', test='test')\n",
        "\n",
        "MIN_FREQ = 3\n",
        "SRC.build_vocab(train_data.src, min_freq=MIN_FREQ)\n",
        "TGT.build_vocab(train_data.tgt, min_freq=MIN_FREQ)\n",
        "\n",
        "print (f\"Size of English vocab: {len(SRC.vocab)}\")\n",
        "print (f\"Most common English words: {SRC.vocab.freqs.most_common(10)}\\n\")\n",
        "\n",
        "print (f\"Size of SQL vocab: {len(TGT.vocab)}\")\n",
        "print (f\"Most common SQL words: {TGT.vocab.freqs.most_common(10)}\\n\")\n",
        "\n",
        "print (f\"Index for start of sequence token: {TGT.vocab.stoi[TGT.init_token]}\")\n",
        "print (f\"Index for end of sequence token: {TGT.vocab.stoi[TGT.eos_token]}\")"
      ],
      "execution_count": 73,
      "outputs": [
        {
          "output_type": "stream",
          "text": [
            "Size of English vocab: 421\n",
            "Most common English words: [('to', 3478), ('from', 3019), ('flights', 2094), ('the', 1550), ('on', 1230), ('me', 973), ('flight', 972), ('show', 845), ('what', 833), ('boston', 813)]\n",
            "\n",
            "Size of SQL vocab: 392\n",
            "Most common SQL words: [('=', 38876), ('AND', 36564), (',', 22772), ('airport_service', 8314), ('city', 8313), ('(', 6432), (')', 6432), ('flight_1.flight_id', 4536), ('flight', 4221), ('SELECT', 4178)]\n",
            "\n",
            "Index for start of sequence token: 2\n",
            "Index for end of sequence token: 3\n"
          ],
          "name": "stdout"
        }
      ]
    },
    {
      "cell_type": "markdown",
      "metadata": {
        "id": "y89Bvq7WJbc8"
      },
      "source": [
        "Next, we batch our data to facilitate processing on a GPU. Batching is a bit tricky because the source and target will typically be of different lengths. Fortunately, `torchtext` allows us to pass in a `sort_key` function. By sorting on length, we can minimize the amount of padding on the source side, but since there is still some padding, we need to handle them with [`pack`](https://pytorch.org/docs/stable/generated/torch.nn.utils.rnn.pack_padded_sequence.html#torch.nn.utils.rnn.pack_padded_sequence) and [`unpack`](https://pytorch.org/docs/stable/generated/torch.nn.utils.rnn.pad_packed_sequence.html) later on in the seq2seq part (as in lab 4-3). "
      ]
    },
    {
      "cell_type": "code",
      "metadata": {
        "id": "lnoY1oIj37bC"
      },
      "source": [
        "BATCH_SIZE = 32 # batch size for training/validation\n",
        "TEST_BATCH_SIZE = 1 # batch size for test, we use 1 to make beam search implementation easier\n",
        "\n",
        "train_iter, val_iter = tt.data.BucketIterator.splits((train_data, val_data),\n",
        "                                                     batch_size=BATCH_SIZE, \n",
        "                                                     device=device,\n",
        "                                                     repeat=False, \n",
        "                                                     sort_key=lambda x: len(x.src), \n",
        "                                                     sort_within_batch=True)\n",
        "test_iter = tt.data.BucketIterator(test_data, \n",
        "                                   batch_size=TEST_BATCH_SIZE, \n",
        "                                   device=device,\n",
        "                                   repeat=False, \n",
        "                                   sort=False, \n",
        "                                   train=False)"
      ],
      "execution_count": 74,
      "outputs": []
    },
    {
      "cell_type": "markdown",
      "metadata": {
        "id": "kVzpFHVRKM1k"
      },
      "source": [
        "Let's look at a single batch from one of these iterators."
      ]
    },
    {
      "cell_type": "code",
      "metadata": {
        "id": "SeEpkHdiKVYV",
        "colab": {
          "base_uri": "https://localhost:8080/"
        },
        "outputId": "157527fa-20a7-455e-c905-f95061d5098a"
      },
      "source": [
        "batch = next(iter(train_iter))\n",
        "train_batch_text, train_batch_text_lengths = batch.src\n",
        "print (f\"Size of text batch: {train_batch_text.shape}\")\n",
        "print (f\"Third sentence in batch: {train_batch_text[:, 2]}\")\n",
        "print (f\"Length of the third sentence in batch: {train_batch_text_lengths[2]}\")\n",
        "print (f\"Converted back to string: {' '.join([SRC.vocab.itos[i] for i in train_batch_text[:, 2]])}\")\n",
        "\n",
        "train_batch_sql = batch.tgt\n",
        "print (f\"Size of sql batch: {train_batch_sql.shape}\")\n",
        "print (f\"Third SQL in batch: {train_batch_sql[:, 2]}\")\n",
        "print (f\"Converted back to string: {' '.join([TGT.vocab.itos[i] for i in train_batch_sql[:, 2]])}\")"
      ],
      "execution_count": 75,
      "outputs": [
        {
          "output_type": "stream",
          "text": [
            "Size of text batch: torch.Size([9, 32])\n",
            "Third sentence in batch: tensor([ 9,  7, 21,  5, 76, 32,  4, 33, 22], device='cuda:0')\n",
            "Length of the third sentence in batch: 9\n",
            "Converted back to string: show me all the united airlines flights leaving dallas\n",
            "Size of sql batch: torch.Size([123, 32])\n",
            "Third SQL in batch: tensor([  2,  14,  31,  11,  13,  12,  16,   6,   7,  22,   6,   8,  23,  15,\n",
            "         58,   4, 123,   5,  21,   4,  18,   5,  19,   4,  17,   5,  20,   4,\n",
            "         61,   3,   1,   1,   1,   1,   1,   1,   1,   1,   1,   1,   1,   1,\n",
            "          1,   1,   1,   1,   1,   1,   1,   1,   1,   1,   1,   1,   1,   1,\n",
            "          1,   1,   1,   1,   1,   1,   1,   1,   1,   1,   1,   1,   1,   1,\n",
            "          1,   1,   1,   1,   1,   1,   1,   1,   1,   1,   1,   1,   1,   1,\n",
            "          1,   1,   1,   1,   1,   1,   1,   1,   1,   1,   1,   1,   1,   1,\n",
            "          1,   1,   1,   1,   1,   1,   1,   1,   1,   1,   1,   1,   1,   1,\n",
            "          1,   1,   1,   1,   1,   1,   1,   1,   1,   1,   1],\n",
            "       device='cuda:0')\n",
            "Converted back to string: <bos> SELECT DISTINCT flight_1.flight_id FROM flight flight_1 , airport_service airport_service_1 , city city_1 WHERE flight_1.airline_code = 'UA' AND flight_1.from_airport = airport_service_1.airport_code AND airport_service_1.city_code = city_1.city_code AND city_1.city_name = 'DALLAS' <eos> <pad> <pad> <pad> <pad> <pad> <pad> <pad> <pad> <pad> <pad> <pad> <pad> <pad> <pad> <pad> <pad> <pad> <pad> <pad> <pad> <pad> <pad> <pad> <pad> <pad> <pad> <pad> <pad> <pad> <pad> <pad> <pad> <pad> <pad> <pad> <pad> <pad> <pad> <pad> <pad> <pad> <pad> <pad> <pad> <pad> <pad> <pad> <pad> <pad> <pad> <pad> <pad> <pad> <pad> <pad> <pad> <pad> <pad> <pad> <pad> <pad> <pad> <pad> <pad> <pad> <pad> <pad> <pad> <pad> <pad> <pad> <pad> <pad> <pad> <pad> <pad> <pad> <pad> <pad> <pad> <pad> <pad> <pad> <pad> <pad> <pad> <pad> <pad> <pad> <pad> <pad> <pad> <pad>\n"
          ],
          "name": "stdout"
        }
      ]
    },
    {
      "cell_type": "markdown",
      "metadata": {
        "id": "LZe96xm-tx2-"
      },
      "source": [
        "Alternatively, we can directly iterate over the raw examples:"
      ]
    },
    {
      "cell_type": "code",
      "metadata": {
        "id": "V6yIqRmwt2FA",
        "colab": {
          "base_uri": "https://localhost:8080/"
        },
        "outputId": "2baa8705-7c73-4f73-8e82-dd28dbe06ce9"
      },
      "source": [
        "for example in train_iter.dataset[:1]:\n",
        "  train_text_1 = example.src\n",
        "  train_text_1 = ' '.join(train_text_1) # detokenized question\n",
        "  train_sql_1 = ' '.join(example.tgt)   # detokenized sql\n",
        "  print (f\"Question: {train_text_1}\\n\")\n",
        "  print (f\"SQL: {train_sql_1}\")"
      ],
      "execution_count": 76,
      "outputs": [
        {
          "output_type": "stream",
          "text": [
            "Question: list all the flights that arrive at general mitchell international from various cities\n",
            "\n",
            "SQL: SELECT DISTINCT flight_1.flight_id FROM flight flight_1 , airport airport_1 , airport_service airport_service_1 , city city_1 WHERE flight_1.to_airport = airport_1.airport_code AND airport_1.airport_code = 'MKE' AND flight_1.from_airport = airport_service_1.airport_code AND airport_service_1.city_code = city_1.city_code AND 1 = 1\n"
          ],
          "name": "stdout"
        }
      ]
    },
    {
      "cell_type": "markdown",
      "metadata": {
        "id": "Vp_CdmJC5ZY2"
      },
      "source": [
        "### Establishing a SQL database for evaluating ATIS queries\n",
        "\n",
        "The output of our systems will be SQL queries. How should we determine if the generated queries are correct? We can't merely compare against the gold SQL queries, since there are many ways to implement a SQL query that answers any given NL query.\n",
        "\n",
        "Instead, we will execute the queries – both the predicted SQL query and the gold SQL query – on an actual database, and verify that the returned responses are the same. For that purpose, we need a SQL database server to use. We'll set one up here, using the [Python `sqlite3` module](https://docs.python.org/3.8/library/sqlite3.html)."
      ]
    },
    {
      "cell_type": "code",
      "metadata": {
        "id": "ZdmxOJ5uj-jJ"
      },
      "source": [
        "@func_set_timeout(TIMEOUT)\n",
        "def execute_sql(sql):\n",
        "  conn = sqlite3.connect('data/atis_sqlite.db')  # establish the DB based on the downloaded data\n",
        "  c = conn.cursor()                              # build a \"cursor\"\n",
        "  c.execute(sql)\n",
        "  results = list(c.fetchall())\n",
        "  c.close()\n",
        "  conn.close()\n",
        "  return results"
      ],
      "execution_count": 77,
      "outputs": []
    },
    {
      "cell_type": "markdown",
      "metadata": {
        "id": "t4AKMaAqj-jK"
      },
      "source": [
        "To run a query, we use the cursor's `execute` function, and retrieve the results with `fetchall`. Let's get all the flights that arrive at General Mitchell International – the query `train_sql_1` above. There's a lot, so we'll just print out the first few."
      ]
    },
    {
      "cell_type": "code",
      "metadata": {
        "id": "Rh3H3De_j-jK",
        "colab": {
          "base_uri": "https://localhost:8080/"
        },
        "outputId": "d3306baa-6454-4034-909e-ff386e126042"
      },
      "source": [
        "predicted_ret = execute_sql(train_sql_1)\n",
        "\n",
        "print(f\"\"\"\n",
        "Executing: {train_sql_1}\n",
        "\n",
        "Result: {len(predicted_ret)} entries starting with\n",
        "\n",
        "{predicted_ret[:10]}\n",
        "\"\"\")"
      ],
      "execution_count": 78,
      "outputs": [
        {
          "output_type": "stream",
          "text": [
            "\n",
            "Executing: SELECT DISTINCT flight_1.flight_id FROM flight flight_1 , airport airport_1 , airport_service airport_service_1 , city city_1 WHERE flight_1.to_airport = airport_1.airport_code AND airport_1.airport_code = 'MKE' AND flight_1.from_airport = airport_service_1.airport_code AND airport_service_1.city_code = city_1.city_code AND 1 = 1\n",
            "\n",
            "Result: 534 entries starting with\n",
            "\n",
            "[(107929,), (107930,), (107931,), (107932,), (107933,), (107934,), (107935,), (107936,), (107937,), (107938,)]\n",
            "\n"
          ],
          "name": "stdout"
        }
      ]
    },
    {
      "cell_type": "markdown",
      "metadata": {
        "id": "4e_UBaTtj-jK"
      },
      "source": [
        "For your reference, the SQL database we are using has a database schema described at https://github.com/jkkummerfeld/text2sql-data/blob/master/data/atis-schema.csv, and is consistent with the SQL queries provided in the various `.sql` files loaded above."
      ]
    },
    {
      "cell_type": "markdown",
      "metadata": {
        "deletable": false,
        "editable": false,
        "id": "0Mri4_xjCecY"
      },
      "source": [
        "## Rule-based parsing and interpretation of ATIS queries\n",
        "\n",
        "First, we will implement a rule-based semantic parser using a grammar like the one you completed in the third project segment. We've placed an initial grammar in the file `data/grammar`.\n",
        "In addition to the helper functions defined above (`constant`, `first`, etc.), it makes use of some other simple functions. We've included those below, but you can (and almost certainly should) augment this set with others that you define as you build out the full set of augmentations.\n",
        "\n",
        "<!--\n",
        "BEGIN QUESTION\n",
        "name: helper_functions\n",
        "-->"
      ]
    },
    {
      "cell_type": "code",
      "metadata": {
        "id": "jxqXrx9zj-jL"
      },
      "source": [
        "\n",
        "def upper(term):\n",
        "  return '\"' + term.upper() + '\"'\n",
        "\n",
        "def weekday(day):\n",
        "  return f\"flight.flight_days IN (SELECT days.days_code FROM days WHERE days.day_name = '{day.upper()}')\"\n",
        "\n",
        "def month_name(month):\n",
        "  return {'JANUARY' : 1,\n",
        "          'FEBRUARY' : 2,\n",
        "          'MARCH' : 3,\n",
        "          'APRIL' : 4,\n",
        "          'MAY' : 5,\n",
        "          'JUNE' : 6,\n",
        "          'JULY' : 7,\n",
        "          'AUGUST' : 8,\n",
        "          'SEPTEMBER' : 9,\n",
        "          'OCTOBER' : 10,\n",
        "          'NOVEMBER' : 11,\n",
        "          'DECEMBER' : 12}[month.upper()]\n",
        "\n",
        "def airports_from_airport_name(airport_name):\n",
        "  return f\"(SELECT airport.airport_code FROM airport WHERE airport.airport_name = {upper(airport_name)})\"\n",
        "\n",
        "def airports_from_city(city):\n",
        "  return f\"\"\"\n",
        "    (SELECT airport_service.airport_code FROM airport_service WHERE airport_service.city_code IN\n",
        "      (SELECT city.city_code FROM city WHERE city.city_name = {upper(city)}))\n",
        "  \"\"\"\n",
        "\n",
        "\n",
        "def destination_airports(*args):\n",
        "  return lambda x : f\"\"\"\n",
        "  flight.to_airport IN {x}\n",
        "\"\"\"\n",
        "\n",
        "def origin_airports(*args):\n",
        "  return lambda x : f\"\"\"\n",
        "  flight.from_airport IN {x}\n",
        "\"\"\"\n",
        "\n",
        "def between(*args):\n",
        "  return f\"\"\"\n",
        "  flight.from_airport IN {args[0]}\n",
        "  AND flight.to_airport IN {args[1]}\n",
        "\"\"\"\n",
        "\n",
        "def airline_pp_brand(*args):\n",
        "  return lambda x : f\"\"\"\n",
        "  flight.airline_code = '{x}'\n",
        "\"\"\"\n",
        "\n",
        "def airline_adj_brand(*args):\n",
        "  return f\"\"\"\n",
        "  flight.airline_code = '{args[0]}'\n",
        "\"\"\"\n",
        "\n",
        "def null_condition(*args, **kwargs):\n",
        "  return 1\n",
        "\n",
        "def and_condition(*args):\n",
        "  return f\"\"\"\n",
        "  {args[1]} AND {args[0]}\n",
        "  \"\"\"\n",
        "def s_rule(*args):\n",
        "  return f\"\"\" \n",
        "  SELECT DISTINCT flight.flight_id FROM flight WHERE {args[0]}\n",
        "  \"\"\"\n",
        "def depart_around(time):\n",
        "  return f\"\"\"\n",
        "    flight.departure_time >= {add_delta(miltime(time), -15).strftime('%H%M')}\n",
        "    AND flight.departure_time <= {add_delta(miltime(time), 15).strftime('%H%M')}\n",
        "    \"\"\".strip()\n",
        "\n",
        "def arives_before(*args):\n",
        "  return lambda x :  f\"\"\"\n",
        "    flight.arrival_time < {x}\n",
        "  \"\"\"\n",
        "\n",
        "def arives_at(*args):\n",
        "  return lambda x :  f\"\"\"\n",
        "    flight.arrival_time == {x}\n",
        "  \"\"\"\n",
        "\n",
        "def departs_before(*args):\n",
        "  return lambda x :  f\"\"\"\n",
        "    flight.departure_time < {x}\n",
        "  \"\"\"\n",
        "\n",
        "def departs_at(*args):\n",
        "  return lambda x :  f\"\"\"\n",
        "    flight.departure_time = {x}\n",
        "  \"\"\"\n",
        "\n",
        "def departs_after(*args):\n",
        "  return lambda x :  f\"\"\"\n",
        "    flight.departure_time > {x}\n",
        "  \"\"\"\n",
        "\n",
        "def arives_after(*args):\n",
        "  return lambda x :  f\"\"\"\n",
        "    flight.arrival_time > {x}\n",
        "  \"\"\"\n",
        "\n",
        "def leaves_on(*args):\n",
        "  return lambda x : f\"\"\"\n",
        "  {x}\n",
        "  \"\"\"\n",
        "\n",
        "\n",
        "\n",
        "def add_delta(tme, delta):\n",
        "    # transform to a full datetime first\n",
        "    return (datetime.datetime.combine(datetime.date.today(), tme) + \n",
        "            datetime.timedelta(minutes=delta)).time()\n",
        "\n",
        "def miltime(minutes):\n",
        "  return datetime.time(hour=int(minutes/100), minute=(minutes % 100))"
      ],
      "execution_count": 96,
      "outputs": []
    },
    {
      "cell_type": "markdown",
      "metadata": {
        "id": "8pYNLQYzj-jL"
      },
      "source": [
        "We can build a parser with the augmented grammar:"
      ]
    },
    {
      "cell_type": "code",
      "metadata": {
        "id": "pzGF1-kej-jL"
      },
      "source": [
        "atis_grammar, atis_augmentations = xform.read_augmented_grammar('data/grammar', globals=globals())\n",
        "atis_parser = nltk.parse.BottomUpChartParser(atis_grammar)"
      ],
      "execution_count": 97,
      "outputs": []
    },
    {
      "cell_type": "markdown",
      "metadata": {
        "id": "DlUJepswj-jM"
      },
      "source": [
        "We'll define a function to return a parse tree for a string according to the ATIS grammar (if available)."
      ]
    },
    {
      "cell_type": "code",
      "metadata": {
        "id": "LsErplWSj-jM"
      },
      "source": [
        "def parse_tree(sentence):\n",
        "  \"\"\"Parse a sentence and return the parse tree, or None if failure.\"\"\"\n",
        "  try:\n",
        "    parses = list(atis_parser.parse(tokenize(sentence)))\n",
        "    if len(parses) == 0:\n",
        "      return None\n",
        "    else:\n",
        "      return parses[0]\n",
        "  except:\n",
        "    return None"
      ],
      "execution_count": 98,
      "outputs": []
    },
    {
      "cell_type": "markdown",
      "metadata": {
        "id": "Y8udWkxjj-jM"
      },
      "source": [
        "and use it to parse the sample query \"flights to boston\":"
      ]
    },
    {
      "cell_type": "code",
      "metadata": {
        "id": "qLWo4ND5j-jM",
        "colab": {
          "base_uri": "https://localhost:8080/"
        },
        "outputId": "71f3d663-04c7-40c4-de37-c5e6da21e151"
      },
      "source": [
        "sample_query = \"flights to boston\"\n",
        "print(tokenize(sample_query))\n",
        "parse_tree(sample_query).pretty_print()"
      ],
      "execution_count": 99,
      "outputs": [
        {
          "output_type": "stream",
          "text": [
            "['flights', 'to', 'boston']\n",
            "                S                         \n",
            "                |                          \n",
            "            NP_FLIGHT                     \n",
            "                |                          \n",
            "            NOM_FLIGHT                    \n",
            "                |                          \n",
            "             N_FLIGHT                     \n",
            "      __________|_________                 \n",
            "     |                    PP              \n",
            "     |                    |                \n",
            "     |                 PP_PLACE           \n",
            "     |           _________|_________       \n",
            "  N_FLIGHT      |                N_PLACE  \n",
            "     |          |                   |      \n",
            "TERM_FLIGHT  P_PLACE            TERM_PLACE\n",
            "     |          |                   |      \n",
            "  flights       to                boston  \n",
            "\n"
          ],
          "name": "stdout"
        }
      ]
    },
    {
      "cell_type": "markdown",
      "metadata": {
        "id": "hmEkjfO4j-jN"
      },
      "source": [
        "We can check the overall coverage of this grammar on the training set by using the `parse_tree` function to determine if a parse is available. The grammar that we provide should get about a 40% coverage of the training set."
      ]
    },
    {
      "cell_type": "code",
      "metadata": {
        "id": "xq1B_DCMj-jN",
        "colab": {
          "base_uri": "https://localhost:8080/"
        },
        "outputId": "b800efcf-e7ab-4bfd-eb14-045b70d82765"
      },
      "source": [
        "# Check coverage on training set\n",
        "parsed = 0\n",
        "with open(\"data/train_flightid.nl\") as train:\n",
        "  examples = train.readlines()[:]\n",
        "for sentence in tqdm(examples):\n",
        "  if parse_tree(sentence):\n",
        "    parsed += 1\n",
        "  else:\n",
        "    next\n",
        "\n",
        "print(f\"Parsed {parsed} of {len(examples)} ({parsed*100/(len(examples)):.2f}%)\")"
      ],
      "execution_count": 100,
      "outputs": [
        {
          "output_type": "stream",
          "text": [
            "100%|██████████| 3651/3651 [00:14<00:00, 254.52it/s]"
          ],
          "name": "stderr"
        },
        {
          "output_type": "stream",
          "text": [
            "Parsed 1525 of 3651 (41.77%)\n"
          ],
          "name": "stdout"
        },
        {
          "output_type": "stream",
          "text": [
            "\n"
          ],
          "name": "stderr"
        }
      ]
    },
    {
      "cell_type": "markdown",
      "metadata": {
        "id": "qF12SmJbDsYb"
      },
      "source": [
        "### Goal 1: Construct SQL queries from a parse tree and evaluate the results"
      ]
    },
    {
      "cell_type": "markdown",
      "metadata": {
        "id": "5iqruasFCaws"
      },
      "source": [
        "It's time to turn to the first major part of this project segment, implementing a rule-based semantic parsing system to answer flight-ID-type ATIS queries.\n",
        "\n",
        "Recall that in rule-based semantic parsing, each syntactic rule is associated with a semantic composition rule. The grammar we've provided has semantic augmentations for some of the low-level phrases – cities, airports, times, airlines – but not the higher level syntactic types. You'll be adding those. \n",
        "\n",
        "In the ATIS grammar that we provide, as with the earlier toy grammars, the augmentation for a rule with $n$ nonterminals and $m$ terminals on the right-hand side is assumed to be called with $n$ positional arguments (the values for the corresponding children). The `interpret` function you've already defined should therefore work well with this grammar.\n",
        "\n",
        "Let's run through one way that a semantic derivation might proceed, for the sample query \"flights to boston\" that we parsed above."
      ]
    },
    {
      "cell_type": "markdown",
      "metadata": {
        "id": "c33WPEbKj-jP"
      },
      "source": [
        "Given a sentence, we first construct its parse tree using the syntactic rules, then compose the corresponding semantic rules bottom-up, until eventually we arrive at the root node with a finished SQL statement. For this query, we will go through what the possible meaning representations for the subconstituents of \"flights to boston\" might be. But this is just one way of doing things; other ways are possible, and you should feel free to experiment.\n",
        "\n",
        "Working from bottom up:\n",
        "\n",
        "1. The `TERM_PLACE` phrase \"boston\" uses the composition function template `constant(airports_from_city(' '.join(_RHS)))`, which will be instantiated as `constant(airports_from_city(' '.join(['boston'])))` (recall that `_RHS` is replaced by the right-hand side of the rule). The meaning of `TERM_PLACE` will be the SQL snippet\n",
        "```\n",
        "SELECT airport_service.airport_code \n",
        "FROM airport_service \n",
        "WHERE airport_service.city_code IN\n",
        "    (SELECT city.city_code \n",
        "     FROM city \n",
        "     WHERE city.city_name = \"BOSTON\")\n",
        "```\n",
        "(This query generates a list of all of the airports in Boston.)\n",
        "\n",
        "2. The `N_PLACE` phrase \"boston\" can have the same meaning as the `TERM_PLACE`.\n",
        "\n",
        "3. The `P_PLACE` phrase \"to\" might be associated with a function that takes a SQL query for a list of airports to a SQL condition (`WHERE` body) that holds of flights that go to one of those airports.\n",
        "\n",
        "4. The `PP_PLACE` phrase \"to boston\" might apply the `P_PLACE` meaning to the `TERM_PLACE` meaning, thus generating a SQL condition (`WHERE` body) that holds of flights that go to one of the Boston airports:\n",
        "```\n",
        "flight.to_airport IN\n",
        "    (SELECT airport_service.airport_code \n",
        "     FROM airport_service \n",
        "     WHERE airport_service.city_code IN\n",
        "         (SELECT city.city_code \n",
        "          FROM city \n",
        "          WHERE city.city_name = \"BOSTON\")\n",
        "```\n",
        "\n",
        "5. The `PP` phrase \"to Boston\" can again get its meaning from the `PP_PLACE`.\n",
        "\n",
        "6. The `TERM_FLIGHT` phrase \"flights\" might also return a condition on flights, this time the \"null condition\", represented by the SQL truth value `1`. Ditto for the `N_FLIGHT` phrase \"flights\".\n",
        "\n",
        "7. The `N_FLIGHT` phrase \"flights to boston\" can conjoin the two conditions, yielding the SQL condition\n",
        "```\n",
        "flight.to_airport IN\n",
        "    (SELECT airport_service.airport_code \n",
        "     FROM airport_service \n",
        "     WHERE airport_service.city_code IN\n",
        "         (SELECT city.city_code \n",
        "          FROM city \n",
        "          WHERE city.city_name = \"BOSTON\")\n",
        "AND 1\n",
        "```\n",
        "which can be inherited by the `NOM_FLIGHT` and `NP_FLIGHT` phrases.\n",
        "\n",
        "8. The `S` phrase \"flights to boston\" can use the condition provided by the `NP_FLIGHT` phrase to select all flights satisfying the condition with a SQL query like\n",
        "```\n",
        "SELECT DISTINCT flight.flight_id\n",
        "FROM flight\n",
        "WHERE flight.to_airport IN\n",
        "        (SELECT airport_service.airport_code \n",
        "         FROM airport_service \n",
        "         WHERE airport_service.city_code IN\n",
        "             (SELECT city.city_code \n",
        "              FROM city \n",
        "              WHERE city.city_name = \"BOSTON\")\n",
        "      AND 1\n",
        "```\n",
        "\n",
        "This SQL query is then taken to be a representation of the meaning for the NL query \"flights to boston\", and can be executed against the ATIS database to retrieve the requested flights."
      ]
    },
    {
      "cell_type": "markdown",
      "metadata": {
        "id": "0bO6fzJej-jP"
      },
      "source": [
        "The augmentations that we have provided for the grammar make use of a set of auxiliary functions that we defined above. You should feel free to add your own auxiliary functions that you make use of in the grammar."
      ]
    },
    {
      "cell_type": "markdown",
      "metadata": {
        "id": "3T3b43eHBTts"
      },
      "source": [
        "#### Verification on some examples\n",
        "\n",
        "With a rule-based semantic parsing system, we can generate SQL queries given questions, and then execute those queries on a SQL database to answer the given questions. To evaluate the performance of the system, we compare the returned results against the results of executing the ground truth queries.\n",
        "\n",
        "We provide a function `verify` to compare the results from our generated SQL to the ground truth SQL. It should be useful for testing individual queries."
      ]
    },
    {
      "cell_type": "code",
      "metadata": {
        "id": "zMGUCce9BXEd"
      },
      "source": [
        "def verify(predicted_sql, gold_sql, silent=True):\n",
        "  \"\"\"\n",
        "  Compare the correctness of the generated SQL by executing on the \n",
        "  ATIS database and comparing the returned results.\n",
        "  Arguments:\n",
        "      predicted_sql: the predicted SQL query\n",
        "      gold_sql: the reference SQL query to compare against\n",
        "      silent: print outputs or not\n",
        "  Returns: True if the returned results are the same, otherwise False\n",
        "  \"\"\"\n",
        "  # Execute predicted SQL\n",
        "  try:\n",
        "    predicted_result = execute_sql(predicted_sql)\n",
        "  except BaseException as e:\n",
        "    if not silent:\n",
        "      print(f\"predicted sql exec failed: {e}\")\n",
        "    return False\n",
        "  if not silent:\n",
        "    print(\"Predicted DB result:\\n\\n\", predicted_result[:10], \"\\n\")\n",
        "\n",
        "  # Execute gold SQL\n",
        "  try:\n",
        "    gold_result = execute_sql(gold_sql)\n",
        "  except BaseException as e:\n",
        "    if not silent:\n",
        "      print(f\"gold sql exec failed: {e}\")\n",
        "    return False\n",
        "  if not silent:\n",
        "    print(\"Gold DB result:\\n\\n\", gold_result[:10], \"\\n\")\n",
        "  \n",
        "  # Verify correctness\n",
        "  if gold_result == predicted_result:\n",
        "    return True"
      ],
      "execution_count": 101,
      "outputs": []
    },
    {
      "cell_type": "markdown",
      "metadata": {
        "id": "zoConst9BQSg"
      },
      "source": [
        "Let's try this methodology on a simple example: \"flights from phoenix to milwaukee\". we provide it along with the gold SQL query."
      ]
    },
    {
      "cell_type": "code",
      "metadata": {
        "id": "JZNW0pWxBiyj"
      },
      "source": [
        "def rule_based_trial(sentence, gold_sql):\n",
        "  print(\"Sentence: \", sentence, \"\\n\")\n",
        "  tree = parse_tree(sentence)\n",
        "  print(\"Parse:\\n\\n\", tree, \"\\n\")\n",
        "\n",
        "  predicted_sql = interpret(tree, atis_augmentations)\n",
        "  print(\"Predicted SQL:\\n\\n\", predicted_sql, \"\\n\")\n",
        "\n",
        "  if verify(predicted_sql, gold_sql, silent=False):\n",
        "    print ('Correct!')\n",
        "  else:\n",
        "    print ('Incorrect!')"
      ],
      "execution_count": 93,
      "outputs": []
    },
    {
      "cell_type": "code",
      "metadata": {
        "id": "NNYZZpl_j-jR",
        "colab": {
          "base_uri": "https://localhost:8080/"
        },
        "outputId": "d2cde1ce-9088-4c4a-8555-3ed74496e661"
      },
      "source": [
        "# Example 1\n",
        "example_1 = 'flights from phoenix to milwaukee'\n",
        "gold_sql_1 = \"\"\"\n",
        "  SELECT DISTINCT flight_1.flight_id \n",
        "  FROM flight flight_1 , \n",
        "       airport_service airport_service_1 , \n",
        "       city city_1 , \n",
        "       airport_service airport_service_2 , \n",
        "       city city_2 \n",
        "  WHERE flight_1.from_airport = airport_service_1.airport_code \n",
        "        AND airport_service_1.city_code = city_1.city_code \n",
        "        AND city_1.city_name = 'PHOENIX' \n",
        "        AND flight_1.to_airport = airport_service_2.airport_code \n",
        "        AND airport_service_2.city_code = city_2.city_code \n",
        "        AND city_2.city_name = 'MILWAUKEE'\n",
        "  \"\"\"\n",
        "\n",
        "rule_based_trial(example_1, gold_sql_1)"
      ],
      "execution_count": 102,
      "outputs": [
        {
          "output_type": "stream",
          "text": [
            "Sentence:  flights from phoenix to milwaukee \n",
            "\n",
            "Parse:\n",
            "\n",
            " (S\n",
            "  (NP_FLIGHT\n",
            "    (NOM_FLIGHT\n",
            "      (N_FLIGHT\n",
            "        (N_FLIGHT\n",
            "          (N_FLIGHT (TERM_FLIGHT flights))\n",
            "          (PP\n",
            "            (PP_PLACE (P_PLACE from) (N_PLACE (TERM_PLACE phoenix)))))\n",
            "        (PP (PP_PLACE (P_PLACE to) (N_PLACE (TERM_PLACE milwaukee)))))))) \n",
            "\n",
            "Predicted SQL:\n",
            "\n",
            "  \n",
            "  SELECT DISTINCT flight.flight_id FROM flight WHERE \n",
            "  \n",
            "  flight.to_airport IN \n",
            "    (SELECT airport_service.airport_code FROM airport_service WHERE airport_service.city_code IN\n",
            "      (SELECT city.city_code FROM city WHERE city.city_name = \"MILWAUKEE\"))\n",
            "  \n",
            " AND \n",
            "  \n",
            "  flight.from_airport IN \n",
            "    (SELECT airport_service.airport_code FROM airport_service WHERE airport_service.city_code IN\n",
            "      (SELECT city.city_code FROM city WHERE city.city_name = \"PHOENIX\"))\n",
            "  \n",
            " AND 1\n",
            "  \n",
            "  \n",
            "   \n",
            "\n",
            "Predicted DB result:\n",
            "\n",
            " [(108086,), (108087,), (301763,), (301764,), (301765,), (301766,), (302323,), (304881,), (310619,), (310620,)] \n",
            "\n",
            "Gold DB result:\n",
            "\n",
            " [(108086,), (108087,), (301763,), (301764,), (301765,), (301766,), (302323,), (304881,), (310619,), (310620,)] \n",
            "\n",
            "Correct!\n"
          ],
          "name": "stdout"
        }
      ]
    },
    {
      "cell_type": "markdown",
      "metadata": {
        "id": "IPR4zSqzM58Z"
      },
      "source": [
        "To make development faster, we recommend starting with a few examples before running the full evaluation script. We've taken some examples from thye ATIS dataset including the gold SQL queries that they provided. Of course, yours (and those of the project segment solution set) may differ."
      ]
    },
    {
      "cell_type": "code",
      "metadata": {
        "id": "_ER7QlkPK4pg",
        "colab": {
          "base_uri": "https://localhost:8080/"
        },
        "outputId": "6733e483-01df-42d6-f2d4-55071473d9b7"
      },
      "source": [
        "# Example 2\n",
        "example_2 = 'i would like a united flight'\n",
        "gold_sql_2 = \"\"\"\n",
        "  SELECT DISTINCT flight_1.flight_id\n",
        "  FROM flight flight_1 \n",
        "  WHERE flight_1.airline_code = 'UA'\n",
        "  \"\"\"\n",
        "\n",
        "rule_based_trial(example_2, gold_sql_2)"
      ],
      "execution_count": 103,
      "outputs": [
        {
          "output_type": "stream",
          "text": [
            "Sentence:  i would like a united flight \n",
            "\n",
            "Parse:\n",
            "\n",
            " (S\n",
            "  (PREIGNORE\n",
            "    (PREIGNORESYMBOL i)\n",
            "    (PREIGNORE\n",
            "      (PREIGNORESYMBOL would)\n",
            "      (PREIGNORE\n",
            "        (PREIGNORESYMBOL like)\n",
            "        (PREIGNORE (PREIGNORESYMBOL a)))))\n",
            "  (NP_FLIGHT\n",
            "    (NOM_FLIGHT\n",
            "      (ADJ (ADJ_AIRLINE (TERM_AIRLINE (TERM_AIRBRAND united))))\n",
            "      (NOM_FLIGHT (N_FLIGHT (TERM_FLIGHT flight)))))) \n",
            "\n",
            "Predicted SQL:\n",
            "\n",
            "  \n",
            "  SELECT DISTINCT flight.flight_id FROM flight WHERE \n",
            "  1 AND \n",
            "  flight.airline_code = 'UA'\n",
            "\n",
            "  \n",
            "   \n",
            "\n",
            "Predicted DB result:\n",
            "\n",
            " [(100094,), (100099,), (100145,), (100158,), (100164,), (100167,), (100169,), (100203,), (100204,), (100296,)] \n",
            "\n",
            "Gold DB result:\n",
            "\n",
            " [(100094,), (100099,), (100145,), (100158,), (100164,), (100167,), (100169,), (100203,), (100204,), (100296,)] \n",
            "\n",
            "Correct!\n"
          ],
          "name": "stdout"
        }
      ]
    },
    {
      "cell_type": "code",
      "metadata": {
        "id": "-5DbmRMxj-jS",
        "colab": {
          "base_uri": "https://localhost:8080/"
        },
        "outputId": "50211558-b105-46f0-c1f4-95cd15e57fb4"
      },
      "source": [
        "# Example 3\n",
        "example_3 = 'i would like a flight between boston and dallas'\n",
        "gold_sql_3 = \"\"\"\n",
        "  SELECT DISTINCT flight_1.flight_id \n",
        "  FROM flight flight_1 , \n",
        "       airport_service airport_service_1 , \n",
        "       city city_1 , \n",
        "       airport_service airport_service_2 , \n",
        "       city city_2 \n",
        "  WHERE flight_1.from_airport = airport_service_1.airport_code \n",
        "        AND airport_service_1.city_code = city_1.city_code \n",
        "        AND city_1.city_name = 'BOSTON' \n",
        "        AND flight_1.to_airport = airport_service_2.airport_code \n",
        "        AND airport_service_2.city_code = city_2.city_code \n",
        "        AND city_2.city_name = 'DALLAS'\n",
        "  \"\"\"\n",
        "\n",
        "rule_based_trial(example_3, gold_sql_3)"
      ],
      "execution_count": 104,
      "outputs": [
        {
          "output_type": "stream",
          "text": [
            "Sentence:  i would like a flight between boston and dallas \n",
            "\n",
            "Parse:\n",
            "\n",
            " (S\n",
            "  (PREIGNORE\n",
            "    (PREIGNORESYMBOL i)\n",
            "    (PREIGNORE\n",
            "      (PREIGNORESYMBOL would)\n",
            "      (PREIGNORE\n",
            "        (PREIGNORESYMBOL like)\n",
            "        (PREIGNORE (PREIGNORESYMBOL a)))))\n",
            "  (NP_FLIGHT\n",
            "    (NOM_FLIGHT\n",
            "      (N_FLIGHT\n",
            "        (N_FLIGHT (TERM_FLIGHT flight))\n",
            "        (PP\n",
            "          (PP_PLACE\n",
            "            between\n",
            "            (N_PLACE (TERM_PLACE boston))\n",
            "            and\n",
            "            (N_PLACE (TERM_PLACE dallas)))))))) \n",
            "\n",
            "Predicted SQL:\n",
            "\n",
            "  \n",
            "  SELECT DISTINCT flight.flight_id FROM flight WHERE \n",
            "  \n",
            "  flight.from_airport IN \n",
            "    (SELECT airport_service.airport_code FROM airport_service WHERE airport_service.city_code IN\n",
            "      (SELECT city.city_code FROM city WHERE city.city_name = \"BOSTON\"))\n",
            "  \n",
            "  AND flight.to_airport IN \n",
            "    (SELECT airport_service.airport_code FROM airport_service WHERE airport_service.city_code IN\n",
            "      (SELECT city.city_code FROM city WHERE city.city_name = \"DALLAS\"))\n",
            "  \n",
            " AND 1\n",
            "  \n",
            "   \n",
            "\n",
            "Predicted DB result:\n",
            "\n",
            " [(103171,), (103172,), (103173,), (103174,), (103175,), (103176,), (103177,), (103178,), (103179,), (103180,)] \n",
            "\n",
            "Gold DB result:\n",
            "\n",
            " [(103171,), (103172,), (103173,), (103174,), (103175,), (103176,), (103177,), (103178,), (103179,), (103180,)] \n",
            "\n",
            "Correct!\n"
          ],
          "name": "stdout"
        }
      ]
    },
    {
      "cell_type": "code",
      "metadata": {
        "id": "GwDcjhMTj-jS",
        "colab": {
          "base_uri": "https://localhost:8080/"
        },
        "outputId": "1a6f0b24-0954-4a8f-eea7-333554379a11"
      },
      "source": [
        "# Example 4\n",
        "example_4 = 'show me the united flights from denver to baltimore'\n",
        "gold_sql_4 = \"\"\"\n",
        "  SELECT DISTINCT flight_1.flight_id \n",
        "  FROM flight flight_1 , \n",
        "       airport_service airport_service_1 , \n",
        "       city city_1 , \n",
        "       airport_service airport_service_2 , \n",
        "       city city_2 \n",
        "  WHERE flight_1.airline_code = 'UA' \n",
        "        AND ( flight_1.from_airport = airport_service_1.airport_code \n",
        "              AND airport_service_1.city_code = city_1.city_code \n",
        "              AND city_1.city_name = 'DENVER' \n",
        "              AND flight_1.to_airport = airport_service_2.airport_code \n",
        "              AND airport_service_2.city_code = city_2.city_code \n",
        "              AND city_2.city_name = 'BALTIMORE' )\n",
        "\n",
        "  \"\"\"\n",
        "\n",
        "rule_based_trial(example_4, gold_sql_4)"
      ],
      "execution_count": 105,
      "outputs": [
        {
          "output_type": "stream",
          "text": [
            "Sentence:  show me the united flights from denver to baltimore \n",
            "\n",
            "Parse:\n",
            "\n",
            " (S\n",
            "  (PREIGNORE\n",
            "    (PREIGNORESYMBOL show)\n",
            "    (PREIGNORE\n",
            "      (PREIGNORESYMBOL me)\n",
            "      (PREIGNORE (PREIGNORESYMBOL the))))\n",
            "  (NP_FLIGHT\n",
            "    (NOM_FLIGHT\n",
            "      (ADJ (ADJ_AIRLINE (TERM_AIRLINE (TERM_AIRBRAND united))))\n",
            "      (NOM_FLIGHT\n",
            "        (N_FLIGHT\n",
            "          (N_FLIGHT\n",
            "            (N_FLIGHT (TERM_FLIGHT flights))\n",
            "            (PP\n",
            "              (PP_PLACE (P_PLACE from) (N_PLACE (TERM_PLACE denver)))))\n",
            "          (PP\n",
            "            (PP_PLACE (P_PLACE to) (N_PLACE (TERM_PLACE baltimore))))))))) \n",
            "\n",
            "Predicted SQL:\n",
            "\n",
            "  \n",
            "  SELECT DISTINCT flight.flight_id FROM flight WHERE \n",
            "  \n",
            "  \n",
            "  flight.to_airport IN \n",
            "    (SELECT airport_service.airport_code FROM airport_service WHERE airport_service.city_code IN\n",
            "      (SELECT city.city_code FROM city WHERE city.city_name = \"BALTIMORE\"))\n",
            "  \n",
            " AND \n",
            "  \n",
            "  flight.from_airport IN \n",
            "    (SELECT airport_service.airport_code FROM airport_service WHERE airport_service.city_code IN\n",
            "      (SELECT city.city_code FROM city WHERE city.city_name = \"DENVER\"))\n",
            "  \n",
            " AND 1\n",
            "  \n",
            "   AND \n",
            "  flight.airline_code = 'UA'\n",
            "\n",
            "  \n",
            "   \n",
            "\n",
            "Predicted DB result:\n",
            "\n",
            " [(101231,), (101233,), (305983,)] \n",
            "\n",
            "Gold DB result:\n",
            "\n",
            " [(101231,), (101233,), (305983,)] \n",
            "\n",
            "Correct!\n"
          ],
          "name": "stdout"
        }
      ]
    },
    {
      "cell_type": "code",
      "metadata": {
        "id": "YUtdoznVj-jS",
        "colab": {
          "base_uri": "https://localhost:8080/"
        },
        "outputId": "29e1c613-3cf9-450b-cff3-bbfb09b952f2"
      },
      "source": [
        "# Example 5\n",
        "example_5 = 'show flights from cleveland to miami that arrive before 4pm'\n",
        "gold_sql_5 = \"\"\"\n",
        "  SELECT DISTINCT flight_1.flight_id \n",
        "  FROM flight flight_1 , \n",
        "       airport_service airport_service_1 , \n",
        "       city city_1 , \n",
        "       airport_service airport_service_2 , \n",
        "       city city_2 \n",
        "  WHERE flight_1.from_airport = airport_service_1.airport_code \n",
        "        AND airport_service_1.city_code = city_1.city_code \n",
        "        AND city_1.city_name = 'CLEVELAND' \n",
        "        AND ( flight_1.to_airport = airport_service_2.airport_code \n",
        "              AND airport_service_2.city_code = city_2.city_code \n",
        "              AND city_2.city_name = 'MIAMI' \n",
        "              AND flight_1.arrival_time < 1600 )\n",
        "  \"\"\"\n",
        "\n",
        "rule_based_trial(example_5, gold_sql_5)"
      ],
      "execution_count": 106,
      "outputs": [
        {
          "output_type": "stream",
          "text": [
            "Sentence:  show flights from cleveland to miami that arrive before 4pm \n",
            "\n",
            "Parse:\n",
            "\n",
            " (S\n",
            "  (PREIGNORE (PREIGNORESYMBOL show))\n",
            "  (NP_FLIGHT\n",
            "    (NOM_FLIGHT\n",
            "      (N_FLIGHT\n",
            "        (N_FLIGHT\n",
            "          (N_FLIGHT\n",
            "            (N_FLIGHT (TERM_FLIGHT flights))\n",
            "            (PP\n",
            "              (PP_PLACE\n",
            "                (P_PLACE from)\n",
            "                (N_PLACE (TERM_PLACE cleveland)))))\n",
            "          (PP (PP_PLACE (P_PLACE to) (N_PLACE (TERM_PLACE miami)))))\n",
            "        (PP\n",
            "          (PP_TIME\n",
            "            (P_TIME that arrive before)\n",
            "            (NP_TIME (TERM_TIME (TERM_TIME 4) (TERM_TIMEMOD pm))))))))) \n",
            "\n",
            "Predicted SQL:\n",
            "\n",
            "  \n",
            "  SELECT DISTINCT flight.flight_id FROM flight WHERE \n",
            "  \n",
            "    flight.arrival_time < 1600\n",
            "   AND \n",
            "  \n",
            "  flight.to_airport IN \n",
            "    (SELECT airport_service.airport_code FROM airport_service WHERE airport_service.city_code IN\n",
            "      (SELECT city.city_code FROM city WHERE city.city_name = \"MIAMI\"))\n",
            "  \n",
            " AND \n",
            "  \n",
            "  flight.from_airport IN \n",
            "    (SELECT airport_service.airport_code FROM airport_service WHERE airport_service.city_code IN\n",
            "      (SELECT city.city_code FROM city WHERE city.city_name = \"CLEVELAND\"))\n",
            "  \n",
            " AND 1\n",
            "  \n",
            "  \n",
            "  \n",
            "   \n",
            "\n",
            "Predicted DB result:\n",
            "\n",
            " [(107698,), (301117,)] \n",
            "\n",
            "Gold DB result:\n",
            "\n",
            " [(107698,), (301117,)] \n",
            "\n",
            "Correct!\n"
          ],
          "name": "stdout"
        }
      ]
    },
    {
      "cell_type": "code",
      "metadata": {
        "id": "zdyGRcvSj-jT",
        "colab": {
          "base_uri": "https://localhost:8080/"
        },
        "outputId": "236e71cc-b3fa-4bb4-b625-c64c78330226"
      },
      "source": [
        "# Example 6\n",
        "example_6 = 'okay how about a flight on sunday from tampa to charlotte'\n",
        "gold_sql_6 = \"\"\"\n",
        "  SELECT DISTINCT flight_1.flight_id \n",
        "  FROM flight flight_1 , \n",
        "       airport_service airport_service_1 , \n",
        "       city city_1 , \n",
        "       airport_service airport_service_2 , \n",
        "       city city_2 , \n",
        "       days days_1 , \n",
        "       date_day date_day_1 \n",
        "  WHERE flight_1.from_airport = airport_service_1.airport_code \n",
        "        AND airport_service_1.city_code = city_1.city_code \n",
        "        AND city_1.city_name = 'TAMPA' \n",
        "        AND ( flight_1.to_airport = airport_service_2.airport_code \n",
        "              AND airport_service_2.city_code = city_2.city_code \n",
        "              AND city_2.city_name = 'CHARLOTTE' \n",
        "              AND flight_1.flight_days = days_1.days_code \n",
        "              AND days_1.day_name = date_day_1.day_name \n",
        "              AND date_day_1.year = 1991 \n",
        "              AND date_day_1.month_number = 8 \n",
        "              AND date_day_1.day_number = 27 )\n",
        "  \"\"\"\n",
        "\n",
        "# You might notice that the gold answer above used the exact date, which is\n",
        "# not easily implementable. A more implementable way (generated by the project \n",
        "# segment 4 solution code) is:\n",
        "gold_sql_6b = \"\"\"\n",
        "  SELECT DISTINCT flight.flight_id \n",
        "  FROM flight \n",
        "  WHERE ((((1 \n",
        "            AND flight.flight_days IN (SELECT days.days_code \n",
        "                                       FROM days \n",
        "                                       WHERE days.day_name = 'SUNDAY')\n",
        "            ) \n",
        "           AND flight.from_airport IN (SELECT airport_service.airport_code \n",
        "                                       FROM airport_service \n",
        "                                       WHERE airport_service.city_code IN (SELECT city.city_code \n",
        "                                                                           FROM city \n",
        "                                                                           WHERE city.city_name = \"TAMPA\"))) \n",
        "          AND flight.to_airport IN (SELECT airport_service.airport_code \n",
        "                                    FROM airport_service \n",
        "                                    WHERE airport_service.city_code IN (SELECT city.city_code \n",
        "                                                                        FROM city \n",
        "                                                                        WHERE city.city_name = \"CHARLOTTE\")))) \n",
        "  \"\"\"\n",
        "\n",
        "rule_based_trial(example_6, gold_sql_6b)"
      ],
      "execution_count": 107,
      "outputs": [
        {
          "output_type": "stream",
          "text": [
            "Sentence:  okay how about a flight on sunday from tampa to charlotte \n",
            "\n",
            "Parse:\n",
            "\n",
            " (S\n",
            "  (PREIGNORE\n",
            "    (PREIGNORESYMBOL okay)\n",
            "    (PREIGNORE\n",
            "      (PREIGNORESYMBOL how)\n",
            "      (PREIGNORE\n",
            "        (PREIGNORESYMBOL about)\n",
            "        (PREIGNORE (PREIGNORESYMBOL a)))))\n",
            "  (NP_FLIGHT\n",
            "    (NOM_FLIGHT\n",
            "      (N_FLIGHT\n",
            "        (N_FLIGHT\n",
            "          (N_FLIGHT\n",
            "            (N_FLIGHT (TERM_FLIGHT flight))\n",
            "            (PP\n",
            "              (PP_DATE (P_DATE on) (NP_DATE (TERM_WEEKDAY sunday)))))\n",
            "          (PP (PP_PLACE (P_PLACE from) (N_PLACE (TERM_PLACE tampa)))))\n",
            "        (PP (PP_PLACE (P_PLACE to) (N_PLACE (TERM_PLACE charlotte)))))))) \n",
            "\n",
            "Predicted SQL:\n",
            "\n",
            "  \n",
            "  SELECT DISTINCT flight.flight_id FROM flight WHERE \n",
            "  \n",
            "  flight.to_airport IN \n",
            "    (SELECT airport_service.airport_code FROM airport_service WHERE airport_service.city_code IN\n",
            "      (SELECT city.city_code FROM city WHERE city.city_name = \"CHARLOTTE\"))\n",
            "  \n",
            " AND \n",
            "  \n",
            "  flight.from_airport IN \n",
            "    (SELECT airport_service.airport_code FROM airport_service WHERE airport_service.city_code IN\n",
            "      (SELECT city.city_code FROM city WHERE city.city_name = \"TAMPA\"))\n",
            "  \n",
            " AND \n",
            "  \n",
            "  flight.flight_days IN (SELECT days.days_code FROM days WHERE days.day_name = 'SUNDAY')\n",
            "   AND 1\n",
            "  \n",
            "  \n",
            "  \n",
            "   \n",
            "\n",
            "Predicted DB result:\n",
            "\n",
            " [(101860,), (101861,), (101862,), (101863,), (101864,), (101865,), (305231,)] \n",
            "\n",
            "Gold DB result:\n",
            "\n",
            " [(101860,), (101861,), (101862,), (101863,), (101864,), (101865,), (305231,)] \n",
            "\n",
            "Correct!\n"
          ],
          "name": "stdout"
        }
      ]
    },
    {
      "cell_type": "code",
      "metadata": {
        "id": "AJ1wnzvij-jT",
        "colab": {
          "base_uri": "https://localhost:8080/"
        },
        "outputId": "5d312e5e-589b-4970-e199-86355e671f1a"
      },
      "source": [
        "# Example 7\n",
        "example_7 = 'list all flights going from boston to atlanta before 7 am on thursday'\n",
        "gold_sql_7 = \"\"\"\n",
        "  SELECT DISTINCT flight_1.flight_id \n",
        "  FROM flight flight_1 , \n",
        "       airport_service airport_service_1 , \n",
        "       city city_1 , \n",
        "       airport_service airport_service_2 , \n",
        "       city city_2 , \n",
        "       days days_1 , \n",
        "       date_day date_day_1 \n",
        "  WHERE flight_1.from_airport = airport_service_1.airport_code \n",
        "        AND airport_service_1.city_code = city_1.city_code \n",
        "        AND city_1.city_name = 'BOSTON' \n",
        "        AND ( flight_1.to_airport = airport_service_2.airport_code \n",
        "              AND airport_service_2.city_code = city_2.city_code \n",
        "              AND city_2.city_name = 'ATLANTA' \n",
        "              AND ( flight_1.flight_days = days_1.days_code \n",
        "                    AND days_1.day_name = date_day_1.day_name \n",
        "                    AND date_day_1.year = 1991 \n",
        "                    AND date_day_1.month_number = 5 \n",
        "                    AND date_day_1.day_number = 24 \n",
        "                    AND flight_1.departure_time < 700 ) )\n",
        "  \"\"\"\n",
        "\n",
        "# Again, the gold answer above used the exact date, as opposed to the \n",
        "# following approach:\n",
        "gold_sql_7b = \"\"\"\n",
        "  SELECT DISTINCT flight.flight_id \n",
        "  FROM flight \n",
        "  WHERE ((1 \n",
        "          AND ((((1 \n",
        "                  AND flight.from_airport IN (SELECT airport_service.airport_code \n",
        "                                              FROM airport_service \n",
        "                                              WHERE airport_service.city_code IN (SELECT city.city_code \n",
        "                                                                                  FROM city \n",
        "                                                                                  WHERE city.city_name = \"BOSTON\")))\n",
        "                 AND flight.to_airport IN (SELECT airport_service.airport_code \n",
        "                                           FROM airport_service\n",
        "                                           WHERE airport_service.city_code IN (SELECT city.city_code \n",
        "                                                                               FROM city \n",
        "                                                                               WHERE city.city_name = \"ATLANTA\"))) \n",
        "                AND flight.departure_time <= 0700) \n",
        "               AND flight.flight_days IN (SELECT days.days_code \n",
        "                                          FROM days \n",
        "                                          WHERE days.day_name = 'THURSDAY')))) \n",
        "  \"\"\"\n",
        "\n",
        "rule_based_trial(example_7, gold_sql_7b)"
      ],
      "execution_count": 108,
      "outputs": [
        {
          "output_type": "stream",
          "text": [
            "Sentence:  list all flights going from boston to atlanta before 7 am on thursday \n",
            "\n",
            "Parse:\n",
            "\n",
            " (S\n",
            "  (PREIGNORE (PREIGNORESYMBOL list))\n",
            "  (NP_FLIGHT\n",
            "    (DET all)\n",
            "    (NOM_FLIGHT\n",
            "      (N_FLIGHT\n",
            "        (N_FLIGHT\n",
            "          (N_FLIGHT\n",
            "            (N_FLIGHT\n",
            "              (N_FLIGHT (TERM_FLIGHT flights))\n",
            "              (PP\n",
            "                (PP_PLACE\n",
            "                  (P_PLACE going from)\n",
            "                  (N_PLACE (TERM_PLACE boston)))))\n",
            "            (PP\n",
            "              (PP_PLACE (P_PLACE to) (N_PLACE (TERM_PLACE atlanta)))))\n",
            "          (PP\n",
            "            (PP_TIME\n",
            "              (P_TIME before)\n",
            "              (NP_TIME (TERM_TIME (TERM_TIME 7) (TERM_TIMEMOD am))))))\n",
            "        (PP (PP_DATE (P_DATE on) (NP_DATE (TERM_WEEKDAY thursday)))))))) \n",
            "\n",
            "Predicted SQL:\n",
            "\n",
            "  \n",
            "  SELECT DISTINCT flight.flight_id FROM flight WHERE \n",
            "  \n",
            "  flight.flight_days IN (SELECT days.days_code FROM days WHERE days.day_name = 'THURSDAY')\n",
            "   AND \n",
            "  \n",
            "    flight.departure_time < 700\n",
            "   AND \n",
            "  \n",
            "  flight.to_airport IN \n",
            "    (SELECT airport_service.airport_code FROM airport_service WHERE airport_service.city_code IN\n",
            "      (SELECT city.city_code FROM city WHERE city.city_name = \"ATLANTA\"))\n",
            "  \n",
            " AND \n",
            "  \n",
            "  flight.from_airport IN \n",
            "    (SELECT airport_service.airport_code FROM airport_service WHERE airport_service.city_code IN\n",
            "      (SELECT city.city_code FROM city WHERE city.city_name = \"BOSTON\"))\n",
            "  \n",
            " AND 1\n",
            "  \n",
            "  \n",
            "  \n",
            "  \n",
            "   \n",
            "\n",
            "Predicted DB result:\n",
            "\n",
            " [(100014,)] \n",
            "\n",
            "Gold DB result:\n",
            "\n",
            " [(100014,)] \n",
            "\n",
            "Correct!\n"
          ],
          "name": "stdout"
        }
      ]
    },
    {
      "cell_type": "code",
      "metadata": {
        "id": "hoUShu-Vj-jT",
        "colab": {
          "base_uri": "https://localhost:8080/"
        },
        "outputId": "fb84f5b3-43df-4b23-87f6-1e8cc3114352"
      },
      "source": [
        "# Example 8\n",
        "example_8 = 'list the flights from dallas to san francisco on american airlines'\n",
        "gold_sql_8 = \"\"\"\n",
        "  SELECT DISTINCT flight_1.flight_id \n",
        "  FROM flight flight_1 , \n",
        "       airport_service airport_service_1 , \n",
        "       city city_1 , \n",
        "       airport_service airport_service_2 , \n",
        "       city city_2 \n",
        "  WHERE flight_1.airline_code = 'AA' \n",
        "        AND ( flight_1.from_airport = airport_service_1.airport_code \n",
        "              AND airport_service_1.city_code = city_1.city_code \n",
        "              AND city_1.city_name = 'DALLAS' \n",
        "              AND flight_1.to_airport = airport_service_2.airport_code \n",
        "              AND airport_service_2.city_code = city_2.city_code \n",
        "              AND city_2.city_name = 'SAN FRANCISCO' )\n",
        "  \"\"\"\n",
        "\n",
        "rule_based_trial(example_8, gold_sql_8)"
      ],
      "execution_count": 109,
      "outputs": [
        {
          "output_type": "stream",
          "text": [
            "Sentence:  list the flights from dallas to san francisco on american airlines \n",
            "\n",
            "Parse:\n",
            "\n",
            " (S\n",
            "  (PREIGNORE\n",
            "    (PREIGNORESYMBOL list)\n",
            "    (PREIGNORE (PREIGNORESYMBOL the)))\n",
            "  (NP_FLIGHT\n",
            "    (NOM_FLIGHT\n",
            "      (N_FLIGHT\n",
            "        (N_FLIGHT\n",
            "          (N_FLIGHT\n",
            "            (N_FLIGHT (TERM_FLIGHT flights))\n",
            "            (PP\n",
            "              (PP_PLACE (P_PLACE from) (N_PLACE (TERM_PLACE dallas)))))\n",
            "          (PP\n",
            "            (PP_PLACE\n",
            "              (P_PLACE to)\n",
            "              (N_PLACE (TERM_PLACE san francisco)))))\n",
            "        (PP\n",
            "          (PP_AIRLINE\n",
            "            (P_AIRLINE on)\n",
            "            (TERM_AIRLINE\n",
            "              (TERM_AIRBRAND american)\n",
            "              (TERM_AIRBRANDTYPE airlines)))))))) \n",
            "\n",
            "Predicted SQL:\n",
            "\n",
            "  \n",
            "  SELECT DISTINCT flight.flight_id FROM flight WHERE \n",
            "  \n",
            "  flight.airline_code = 'AA'\n",
            " AND \n",
            "  \n",
            "  flight.to_airport IN \n",
            "    (SELECT airport_service.airport_code FROM airport_service WHERE airport_service.city_code IN\n",
            "      (SELECT city.city_code FROM city WHERE city.city_name = \"SAN FRANCISCO\"))\n",
            "  \n",
            " AND \n",
            "  \n",
            "  flight.from_airport IN \n",
            "    (SELECT airport_service.airport_code FROM airport_service WHERE airport_service.city_code IN\n",
            "      (SELECT city.city_code FROM city WHERE city.city_name = \"DALLAS\"))\n",
            "  \n",
            " AND 1\n",
            "  \n",
            "  \n",
            "  \n",
            "   \n",
            "\n",
            "Predicted DB result:\n",
            "\n",
            " [(108452,), (108454,), (108456,), (111083,), (111085,), (111086,), (111090,), (111091,), (111092,), (111094,)] \n",
            "\n",
            "Gold DB result:\n",
            "\n",
            " [(108452,), (108454,), (108456,), (111083,), (111085,), (111086,), (111090,), (111091,), (111092,), (111094,)] \n",
            "\n",
            "Correct!\n"
          ],
          "name": "stdout"
        }
      ]
    },
    {
      "cell_type": "markdown",
      "metadata": {
        "id": "MIta893Ej-jT"
      },
      "source": [
        "#### Systematic evaluation on a test set\n",
        "\n",
        "We can perform a more systematic evaluation by checking the accuracy of the queries on an entire test set for which we have gold queries. The `evaluate` function below does just this, calculating precision, recall, and F1 metrics for the test set. It takes as argument a \"predictor\" function, which maps token sequences to predicted SQL queries. We've provided a predictor function for the rule-based model in the next cell (and a predictor for the seq2seq system below when we get to that system).\n",
        "\n",
        "The rule-based system does not generate predictions for all queries; many queries won't parse. The precision and recall metrics take this into account in measuring the efficacy of the method. The recall metric captures what proportion of _all of the test examples_ the system generates a correct query. The precision metric captures what proportion of _all of the test examples for which a prediction is generated_ the system generates a correct query. (Recall that F1 is just the geometric mean of precision and recall.)\n",
        "\n",
        "Once you've made some progress on adding augmentations to the grammar, you can evaluate your progress by seeing if the precision and recall have improved. For reference, the solution code achieves precision of about 71% and recall of about 27% for an F1 of 40%."
      ]
    },
    {
      "cell_type": "code",
      "metadata": {
        "id": "j4k5I_iAj-jU"
      },
      "source": [
        "def evaluate(predictor, dataset, num_examples=0, silent=True):\n",
        "  \"\"\"Evaluate accuracy of `predictor` by executing predictions on a\n",
        "  SQL database and comparing returned results against those of gold queries.\n",
        "  \n",
        "  Arguments:\n",
        "      predictor:    a function that maps a token sequence (provided by torchtext)\n",
        "                    to a predicted SQL query string\n",
        "      dataset:      the dataset of token sequences and gold SQL queries\n",
        "      num_examples: number of examples from `dataset` to use; all of\n",
        "                    them if 0\n",
        "      silent: if set to False, will print out logs\n",
        "  Returns: precision, recall, and F1 score\n",
        "  \"\"\"\n",
        "  # Prepare to count results\n",
        "  if num_examples <= 0:\n",
        "    num_examples = len(dataset)\n",
        "  example_count = 0\n",
        "  predicted_count = 0\n",
        "  correct = 0\n",
        "  incorrect = 0\n",
        "\n",
        "  # Process the examples from the dataset\n",
        "  for example in tqdm(dataset[:num_examples]):\n",
        "    example_count += 1\n",
        "    # obtain query SQL\n",
        "    predicted_sql = predictor(example.src)\n",
        "    if predicted_sql == None:\n",
        "      continue\n",
        "    predicted_count += 1\n",
        "    # obtain gold SQL\n",
        "    gold_sql = ' '.join(example.tgt)\n",
        "\n",
        "    # check that they're compatible\n",
        "    if verify(predicted_sql, gold_sql):\n",
        "      correct += 1\n",
        "    else:\n",
        "      incorrect += 1\n",
        "   \n",
        "  # Compute and return precision, recall, F1\n",
        "  precision = correct / predicted_count if predicted_count > 0 else 0\n",
        "  recall = correct / example_count\n",
        "  f1 = (2 * precision * recall) / (precision + recall) if precision + recall > 0 else 0\n",
        "  return precision, recall, f1"
      ],
      "execution_count": 125,
      "outputs": []
    },
    {
      "cell_type": "code",
      "metadata": {
        "id": "MRf6Htt1j-jU"
      },
      "source": [
        "def rule_based_predictor(tokens):\n",
        "  query = ' '.join(tokens)    # detokenized query\n",
        "  tree = parse_tree(query)\n",
        "  if tree is None:\n",
        "    return None\n",
        "  try:\n",
        "    predicted_sql = interpret(tree, atis_augmentations)\n",
        "  except Exception as err:\n",
        "    return None\n",
        "  return predicted_sql"
      ],
      "execution_count": 134,
      "outputs": []
    },
    {
      "cell_type": "code",
      "metadata": {
        "id": "3j7-cN_4j-jU",
        "colab": {
          "base_uri": "https://localhost:8080/",
          "height": 0
        },
        "outputId": "df69ede0-2253-4c29-8481-fb77a8121b8c"
      },
      "source": [
        "precision, recall, f1 = evaluate(rule_based_predictor, test_iter.dataset, num_examples=0)\n",
        "print(f\"precision: {precision:3.2f}\")\n",
        "print(f\"recall:    {recall:3.2f}\")\n",
        "print(f\"F1:        {f1:3.2f}\")"
      ],
      "execution_count": 135,
      "outputs": [
        {
          "output_type": "stream",
          "text": [
            "100%|██████████| 332/332 [00:13<00:00, 23.74it/s]"
          ],
          "name": "stderr"
        },
        {
          "output_type": "stream",
          "text": [
            "precision: 0.85\n",
            "recall:    0.26\n",
            "F1:        0.40\n"
          ],
          "name": "stdout"
        },
        {
          "output_type": "stream",
          "text": [
            "\n"
          ],
          "name": "stderr"
        }
      ]
    },
    {
      "cell_type": "markdown",
      "metadata": {
        "id": "j00wMxHP3MnB"
      },
      "source": [
        "## End-to-End Seq2Seq Model"
      ]
    },
    {
      "cell_type": "markdown",
      "metadata": {
        "id": "hE17C1s0QhSq"
      },
      "source": [
        "In this part, you will implement a seq2seq model **with attention mechanism** to directly learn the translation from NL query to SQL. You might find labs 4-3 and 4-4 particularly helpful, as the only difference here is that we are using a different dataset.\n",
        "\n",
        "**Note:** We recommend using GPUs to train the model in this part (one way to get GPUs is to use [Google Colab](https://colab.research.google.com), by clicking Menu -> Runtime -> Change runtime type -> GPU), as we need to use a very large model to solve the task well. For development we recommend starting with a smaller model and training for only 1 epoch."
      ]
    },
    {
      "cell_type": "markdown",
      "metadata": {
        "id": "dGvpHlNnN3ym"
      },
      "source": [
        "### Goal 2: Implement a seq2seq model (with attention)"
      ]
    },
    {
      "cell_type": "markdown",
      "metadata": {
        "id": "4TPBjDalLzXg"
      },
      "source": [
        "For the sequence-to-sequence model, you need to implement the class `AttnEncoderDecoder`. A reasonable way to proceed is to implement the following methods:\n",
        "\n",
        "#### Model\n",
        "\n",
        "1. `__init__`: an initializer where you create network modules.\n",
        "\n",
        "2. `forward`: given source word ids of size `(max_src_len, batch_size)`, source lengths of size `(batch_size)` and decoder input target word ids `(max_tgt_len, batch_size)`, returns logits `(max_tgt_len, batch_size, V_tgt)`. For better modularity you might want to implment it by implementing two functions `forward_encoder` and `forward_decoder`.\n",
        "\n",
        "\n",
        "#### Optimization\n",
        "\n",
        "3. `train_all`: compute loss on training data, compute gradients, and update model parameters to minimize the loss.\n",
        "\n",
        "4. `evaluate_ppl`: evaluate the current model's perplexity on a given dataset iterator, we use the perplexity value on the validation set to select the best model.\n",
        "\n",
        "#### Decoding\n",
        "\n",
        "5. `predict`: Generates the target sequence given a list of source tokens using beam search decoding. Note that here you can assume the batch size to be 1 for simplicity. \n",
        "\n",
        "This implementation is essentially building an entire neural seq2seq system, so expect it to be very challenging. The code you write here can also be used for other seq2seq tasks such as machine translation and document summarization."
      ]
    },
    {
      "cell_type": "code",
      "metadata": {
        "id": "febNSFFp4FT1"
      },
      "source": [
        "MAX_T = 15\n",
        "\n",
        "class Beam():\n",
        "  \"\"\"\n",
        "  Helper class for storing a hypothesis, its score and its decoder hidden state.\n",
        "  \"\"\"\n",
        "\n",
        "  def __init__(self, decoder_state, tokens, score):\n",
        "    self.decoder_state = decoder_state\n",
        "    self.tokens = tokens\n",
        "    self.score = score\n",
        "\n",
        "class BeamSearcher():\n",
        "  \"\"\"\n",
        "  Main class for beam search.\n",
        "  \"\"\"\n",
        "\n",
        "  def __init__(self, model):\n",
        "    self.model = model\n",
        "    self.bos_id = model.bos_id\n",
        "    self.eos_id = model.eos_id\n",
        "    self.padding_id_src = model.padding_id_src\n",
        "    self.V = model.V_tgt\n",
        "\n",
        "  def beam_search(self, src, src_lengths, K, max_T=MAX_T):\n",
        "    \"\"\"\n",
        "    Performs beam search decoding.\n",
        "    Arguments:\n",
        "        src: src batch of size (max_src_len, 1)\n",
        "        src_lengths: src lengths of size (1)\n",
        "        K: beam size\n",
        "        max_T: max possible target length considered\n",
        "    Returns:\n",
        "        a list of token ids and a list of attentions\n",
        "    \"\"\"\n",
        "    finished = []\n",
        "    all_attns = []\n",
        "    # Initialize the beam\n",
        "    self.model.eval()\n",
        "    # TODO - fill in `memory_bank`, `encoder_final_state`, and `init_beam` below\n",
        "\n",
        "    (memory_bank, encoder_final_state) = self.model.forward_encoder(src, src_lengths)\n",
        "    bos = torch.tensor([[self.model.bos_id]], device=device)\n",
        "    init_beam = Beam(encoder_final_state, bos, 0)\n",
        "\n",
        "    beams = [init_beam]\n",
        "\n",
        "    with torch.no_grad():\n",
        "      for t in range(max_T):  # main body of search over time steps\n",
        "\n",
        "        # Expand each beam by all possible tokens y_{t+1}\n",
        "        all_total_scores = []\n",
        "        for beam in beams:\n",
        "          y_1_to_t, score, decoder_state = beam.tokens, beam.score, beam.decoder_state\n",
        "          y_t = y_1_to_t[-1]\n",
        "          # TODO - finish the code below\n",
        "          # Hint: you might want to use `model.forward_decoder_incrementally`\n",
        "          src_mask = src.ne(self.padding_id_src)\n",
        "\n",
        "          logits, decoder_state, attn = self.model.forward_decoder_incrementally(decoder_state, y_t, memory_bank,\n",
        "                                                                                 src_mask)\n",
        "\n",
        "          total_scores = logits\n",
        "          all_total_scores.append(total_scores)\n",
        "          all_attns.append(attn)  # keep attentions for visualization\n",
        "          beam.decoder_state = decoder_state  # update decoder state in the beam\n",
        "        all_total_scores = torch.stack(all_total_scores)  # (K, V) when t>0, (1, V) when t=0\n",
        "\n",
        "        # Find K best next beams\n",
        "        # The code below has the same functionality as line 6-12, but is more efficient\n",
        "        all_scores_flattened = all_total_scores.view(-1)  # K*V when t>0, 1*V when t=0\n",
        "        topk_scores, topk_ids = all_scores_flattened.topk(K, 0)\n",
        "        beam_ids = topk_ids // self.V\n",
        "        next_tokens = topk_ids - beam_ids * self.V\n",
        "        new_beams = []\n",
        "        for k in range(K):\n",
        "          beam_id = beam_ids[k]  # which beam it comes from\n",
        "          y_t_plus_1 = next_tokens[k]  # which y_{t+1}\n",
        "          score = topk_scores[k]\n",
        "          beam = beams[beam_id]\n",
        "          decoder_state = beam.decoder_state\n",
        "          y_1_to_t = beam.tokens\n",
        "          # TODO\n",
        "          y_t = torch.cat((y_1_to_t, y_t_plus_1.view(1, 1)))\n",
        "          new_beam = Beam(decoder_state, y_t, beam.score + score)\n",
        "          new_beams.append(new_beam)\n",
        "        beams = new_beams\n",
        "\n",
        "        # Set aside completed beams\n",
        "        # TODO - move completed beams to `finished` (and remove them from `beams`)\n",
        "        new_beams = []\n",
        "        for beam in beams:\n",
        "          y_1_to_t, score, decoder_state = beam.tokens, beam.score, beam.decoder_state\n",
        "          y_t = y_1_to_t[-1]\n",
        "          if y_t.view(1) == self.model.eos_id:\n",
        "            finished.append(beam)\n",
        "          else:\n",
        "            new_beams.append(beam)\n",
        "        beams = new_beams\n",
        "\n",
        "        # Break the loop if everything is completed\n",
        "        if len(beams) == 0:\n",
        "          break\n",
        "\n",
        "    # Return the best hypothesis\n",
        "    if len(finished) > 0:\n",
        "      finished = sorted(finished, key=lambda beam: -beam.score)\n",
        "      return finished[0].tokens, all_attns\n",
        "    else:  # when nothing is finished, return an unfinished hypothesis\n",
        "      return beams[0].tokens, all_attns\n",
        "\n",
        "def attention(batched_Q, batched_K, batched_V, mask=None):\n",
        "  \"\"\"\n",
        "  Performs the attention operation and returns the attention matrix\n",
        "  `batched_A` and the context matrix `batched_C` using queries \n",
        "  `batched_Q`, keys `batched_K`, and values `batched_V`.\n",
        "  Arguments:\n",
        "      batched_Q: (q_len, bsz, D)\n",
        "      batched_K: (k_len, bsz, D)\n",
        "      batched_V: (k_len, bsz, D)\n",
        "      mask: (bsz, q_len, k_len). An optional boolean mask *disallowing* \n",
        "            attention where the mask value is *`False`*.\n",
        "  Returns:\n",
        "      batched_A: the normalized attention scores (bsz, q_len, k_ken)\n",
        "      batched_C: a tensor of size (q_len, bsz, D).\n",
        "  \"\"\"\n",
        "  # Check sizes\n",
        "  D = batched_Q.size(-1)\n",
        "  bsz = batched_Q.size(1)\n",
        "  q_len = batched_Q.size(0)\n",
        "  k_len = batched_K.size(0)\n",
        "  assert batched_K.size(-1) == D and batched_V.size(-1) == D\n",
        "  assert batched_K.size(1) == bsz and batched_V.size(1) == bsz\n",
        "  assert batched_V.size(0) == k_len\n",
        "  if mask is not None:\n",
        "    assert mask.size() == torch.Size([bsz, q_len, k_len])\n",
        "  Q = torch.transpose(batched_Q, dim0=0, dim1=1)\n",
        "  K  = torch.transpose(batched_K, dim0=0, dim1=1)\n",
        "  K = torch.transpose(K, dim0=1, dim1=2)\n",
        "  QK = Q @ K\n",
        "  if(mask is not None):\n",
        "    mask = mask == False\n",
        "    QK = QK.masked_fill_(mask, -float(\"Inf\"))\n",
        "  batched_A = nn.Softmax(dim=-1)(QK)\n",
        "  V = torch.transpose(batched_V, dim0=0, dim1=1)\n",
        "  batched_C = batched_A @ V\n",
        "  batched_C = torch.transpose(batched_C, dim0=0, dim1=1)\n",
        "  # Verify that things sum up to one properly.\n",
        "  assert torch.all(torch.isclose(batched_A.sum(-1), \n",
        "                                 torch.ones(bsz, q_len).to(device)))\n",
        "  return batched_A, batched_C\n",
        "\n",
        "class AttnEncoderDecoder(nn.Module):\n",
        "  def __init__(self, src_field, tgt_field, hidden_size=64, layers=3):\n",
        "    \"\"\"\n",
        "    Initializer. Creates network modules and loss function.\n",
        "    Arguments:\n",
        "        src_field: src field\n",
        "        tgt_field: tgt field\n",
        "        hidden_size: hidden layer size of both encoder and decoder\n",
        "        layers: number of layers of both encoder and decoder\n",
        "    \"\"\"\n",
        "    super(AttnEncoderDecoder, self).__init__()\n",
        "    self.src_field = src_field\n",
        "    self.tgt_field = tgt_field\n",
        "    \n",
        "    # Keep the vocabulary sizes available\n",
        "    self.V_src = len(src_field.vocab.itos)\n",
        "    self.V_tgt = len(tgt_field.vocab.itos)\n",
        "    \n",
        "    # Get special word ids\n",
        "    self.padding_id_src = src_field.vocab.stoi[src_field.pad_token]\n",
        "    self.padding_id_tgt = tgt_field.vocab.stoi[tgt_field.pad_token]\n",
        "    self.bos_id = tgt_field.vocab.stoi[tgt_field.init_token]\n",
        "    self.eos_id = tgt_field.vocab.stoi[tgt_field.eos_token]\n",
        "\n",
        "    # Keep hyper-parameters available\n",
        "    self.embedding_size = hidden_size\n",
        "    self.hidden_size = hidden_size\n",
        "    self.layers = layers\n",
        "\n",
        "    # Create essential modules\n",
        "    self.word_embeddings_src = nn.Embedding(self.V_src, self.embedding_size)\n",
        "    self.word_embeddings_tgt = nn.Embedding(self.V_tgt, self.embedding_size)\n",
        "\n",
        "    # RNN cells\n",
        "    self.encoder_rnn = nn.LSTM(\n",
        "      input_size    = self.embedding_size,\n",
        "      hidden_size   = hidden_size // 2, # to match decoder hidden size\n",
        "      num_layers    = layers,\n",
        "      bidirectional = True              # bidirectional encoder\n",
        "    )\n",
        "    self.decoder_rnn = nn.LSTM(\n",
        "      input_size    = self.embedding_size,\n",
        "      hidden_size   = hidden_size,\n",
        "      num_layers    = layers,\n",
        "      bidirectional = False             # unidirectional decoder\n",
        "    )\n",
        "\n",
        "    # Final projection layer\n",
        "    self.hidden2output = nn.Linear(2*hidden_size, self.V_tgt) # project the concatenation to logits\n",
        "   \n",
        "    # Create loss function\n",
        "    self.loss_function = nn.CrossEntropyLoss(reduction='sum', \n",
        "                                             ignore_index=self.padding_id_tgt)\n",
        "\n",
        "  def forward_encoder(self, src, src_lengths):\n",
        "    \"\"\"\n",
        "    Encodes source words `src`.\n",
        "    Arguments:\n",
        "        src: src batch of size (max_src_len, bsz)\n",
        "        src_lengths: src lengths of size (bsz)\n",
        "    Returns:\n",
        "        memory_bank: a tensor of size (src_len, bsz, hidden_size)\n",
        "        (final_state, context): `final_state` is a tuple (h, c) where h/c is of size \n",
        "                                (layers, bsz, hidden_size), and `context` is `None`. \n",
        "    \"\"\"\n",
        "    # Compute word embeddings\n",
        "    src_embeddings = self.word_embeddings_src(src) # max_src_len, bsz, embedding_size\n",
        "    src_lengths = src_lengths.tolist()\n",
        "    # Deal with paddings\n",
        "    packed_src = pack(src_embeddings, src_lengths)\n",
        "    #TODO\n",
        "    packed_outputs, (h, c) = self.encoder_rnn(packed_src)\n",
        "\n",
        "    shape = h.shape\n",
        "    h = h.view(2, int(shape[0] / 2), shape[1], shape[2])\n",
        "    h = torch.cat([h[0], h[1]], dim=2)\n",
        "    c = c.view(2, int(shape[0] / 2), shape[1], shape[2])\n",
        "    c = torch.cat([c[0], c[1]], dim=2)\n",
        "\n",
        "    memory_bank, _ = torch.nn.utils.rnn.pad_packed_sequence(packed_outputs)\n",
        "    final_state = (h,c)\n",
        "    context = None\n",
        "    return memory_bank, (final_state, context)\n",
        "\n",
        "  def forward_decoder(self, encoder_final_state, tgt_in, memory_bank, src_mask):\n",
        "    \"\"\"\n",
        "    Decodes based on encoder final state, memory bank, src_mask, and ground truth \n",
        "    target words.\n",
        "    Arguments:\n",
        "        encoder_final_state: (final_state, None) where final_state is the encoder\n",
        "                             final state used to initialize decoder. None is the\n",
        "                             initial context (there's no previous context at the\n",
        "                             first step).\n",
        "        tgt_in: a tensor of size (tgt_len, bsz)\n",
        "        memory_bank: a tensor of size (src_len, bsz, hidden_size), encoder outputs \n",
        "                     at every position\n",
        "        src_mask: a tensor of size (src_len, bsz): a boolean tensor, `False` where\n",
        "                  src is padding (we disallow decoder to attend to those places).\n",
        "    Returns:\n",
        "        Logits of size (tgt_len, bsz, V_tgt) (before the softmax operation)\n",
        "    \"\"\"\n",
        "    max_tgt_length = tgt_in.size(0)\n",
        "    \n",
        "    # Initialize decoder state, note that it's a tuple (state, context) here\n",
        "    decoder_states = encoder_final_state\n",
        "    \n",
        "    all_logits = []\n",
        "    for i in range(max_tgt_length):\n",
        "      logits, decoder_states, attn = \\\n",
        "        self.forward_decoder_incrementally(decoder_states, \n",
        "                                           tgt_in[i], \n",
        "                                           memory_bank,\n",
        "                                           src_mask,\n",
        "                                           normalize=False)\n",
        "      all_logits.append(logits)             # list of bsz, vocab_tgt\n",
        "    all_logits = torch.stack(all_logits, 0) # tgt_len, bsz, vocab_tgt\n",
        "    return all_logits\n",
        "\n",
        "  def forward(self, src, src_lengths, tgt_in):\n",
        "    \"\"\"\n",
        "    Performs forward computation, returns logits.\n",
        "    Arguments:\n",
        "        src: src batch of size (max_src_len, bsz)\n",
        "        src_lengths: src lengths of size (bsz)\n",
        "        tgt_in:  a tensor of size (tgt_len, bsz)\n",
        "    \"\"\"\n",
        "    # Create padding mask\n",
        "    src_mask = src.ne(self.padding_id_src) # max_src_len, bsz\n",
        "    # TODO \n",
        "    memory_bank, encoder_final_state = self.forward_encoder(src, src_lengths)\n",
        "    logits = self.forward_decoder(encoder_final_state, tgt_in, memory_bank, src_mask)\n",
        "    return logits\n",
        "\n",
        "  def forward_decoder_incrementally(self, prev_decoder_states, tgt_in_onestep, \n",
        "                                    memory_bank, src_mask,\n",
        "                                    normalize=True):\n",
        "    \"\"\"\n",
        "    Forward the decoder for a single step with token `tgt_in_onestep`.\n",
        "    This function will be used both in `forward_decoder` and in beam search.\n",
        "    Note that bsz can be greater than 1.\n",
        "    Arguments:\n",
        "        prev_decoder_states: a tuple (prev_decoder_state, prev_context). `prev_context`\n",
        "                             is `None` for the first step\n",
        "        tgt_in_onestep: a tensor of size (bsz), tokens at one step\n",
        "        memory_bank: a tensor of size (src_len, bsz, hidden_size), encoder outputs \n",
        "                     at every position\n",
        "        src_mask: a tensor of size (src_len, bsz): a boolean tensor, `False` where\n",
        "                  src is padding (we disallow decoder to attend to those places).\n",
        "        normalize: use log_softmax to normalize or not. Beam search needs to normalize,\n",
        "                   while `forward_decoder` does not\n",
        "    Returns:\n",
        "        logits: log probabilities for `tgt_in_token` of size (bsz, V_tgt)\n",
        "        decoder_states: (`decoder_state`, `context`) which will be used for the \n",
        "                        next incremental update\n",
        "        attn: normalized attention scores at this step (bsz, src_len)\n",
        "    \"\"\"\n",
        "    prev_decoder_state, prev_context = prev_decoder_states\n",
        "    #TODO\n",
        "    tgt_embeddings = self.word_embeddings_tgt(tgt_in_onestep.view(1, -1)) # max_len, batch_size, embedding_size\n",
        "    if prev_context != None:\n",
        "      tgt_embeddings += prev_context\n",
        "      prev_decoder_state = (prev_decoder_state, prev_context.repeat(self.layers, 1, 1))\n",
        "    decoder_state, (h, c) = self.decoder_rnn(tgt_embeddings, prev_decoder_state)\n",
        "\n",
        "    mask = src_mask.T.unsqueeze(1)\n",
        "    attn, context = attention(decoder_state, memory_bank, memory_bank, mask)\n",
        "\n",
        "    decoder_states = (decoder_state, context)\n",
        "    dec_out_e_cntxt = torch.cat(decoder_states, dim=2)\n",
        "    logits = self.hidden2output(dec_out_e_cntxt).squeeze(0)\n",
        "    attn = attn.squeeze(1)\n",
        "    decoder_states = (decoder_states[0].repeat(self.layers,1,1), decoder_states[1])\n",
        "    if normalize:\n",
        "      logits = torch.log_softmax(logits, dim=-1)\n",
        "    return logits, decoder_states, attn\n",
        "\n",
        "  def evaluate_ppl(self, iterator):\n",
        "    \"\"\"Returns the model's perplexity on a given dataset `iterator`.\"\"\"\n",
        "    # Switch to eval mode\n",
        "    self.eval()\n",
        "    total_loss = 0\n",
        "    total_words = 0\n",
        "    for batch in iterator:\n",
        "      # Input and target\n",
        "      src, src_lengths = batch.src\n",
        "      tgt = batch.tgt # max_length_sql, bsz\n",
        "      tgt_in = tgt[:-1] # remove <eos> for decode input (y_0=<bos>, y_1, y_2)\n",
        "      tgt_out = tgt[1:] # remove <bos> as target        (y_1, y_2, y_3=<eos>)\n",
        "      # Forward to get logits\n",
        "      logits = self.forward(src, src_lengths, tgt_in)\n",
        "      # Compute cross entropy loss\n",
        "      loss = self.loss_function(logits.view(-1, self.V_tgt), tgt_out.view(-1))\n",
        "      total_loss += loss.item()\n",
        "      total_words += tgt_out.ne(self.padding_id_tgt).float().sum().item()\n",
        "    return math.exp(total_loss/total_words)\n",
        "\n",
        "  def train_all(self, train_iter, val_iter, epochs=10, learning_rate=0.001):\n",
        "    \"\"\"Train the model.\"\"\"\n",
        "    # Switch the module to training mode\n",
        "    self.train()\n",
        "    # Use Adam to optimize the parameters\n",
        "    optim = torch.optim.Adam(self.parameters(), lr=learning_rate)\n",
        "    best_validation_ppl = float('inf')\n",
        "    best_model = None\n",
        "    # Run the optimization for multiple epochs\n",
        "    for epoch in range(epochs): \n",
        "      total_words = 0\n",
        "      total_loss = 0.0\n",
        "      for batch in tqdm(train_iter):\n",
        "        # Zero the parameter gradients\n",
        "        self.zero_grad()\n",
        "        # Input and target\n",
        "        src, src_lengths = batch.src # text: max_src_length, bsz\n",
        "        tgt = batch.tgt # max_tgt_length, bsz\n",
        "        tgt_in = tgt[:-1] # Remove <eos> for decode input (y_0=<bos>, y_1, y_2)\n",
        "        tgt_out = tgt[1:] # Remove <bos> as target        (y_1, y_2, y_3=<eos>)\n",
        "        bsz = tgt.size(1)\n",
        "        # Run forward pass and compute loss along the way.\n",
        "        logits = self.forward(src, src_lengths, tgt_in)\n",
        "        loss = self.loss_function(logits.view(-1, self.V_tgt), tgt_out.view(-1))\n",
        "        # Training stats\n",
        "        num_tgt_words = tgt_out.ne(self.padding_id_tgt).float().sum().item()\n",
        "        total_words += num_tgt_words\n",
        "        total_loss += loss.item()\n",
        "        # Perform backpropagation\n",
        "        loss.div(bsz).backward()\n",
        "        optim.step()\n",
        "\n",
        "      # Evaluate and track improvements on the validation dataset\n",
        "      validation_ppl = self.evaluate_ppl(val_iter)\n",
        "      self.train()\n",
        "      if validation_ppl < best_validation_ppl:\n",
        "        best_validation_ppl = validation_ppl\n",
        "        self.best_model = copy.deepcopy(self.state_dict())\n",
        "      epoch_loss = total_loss / total_words\n",
        "      print (f'Epoch: {epoch} Training Perplexity: {math.exp(epoch_loss):.4f} '\n",
        "             f'Validation Perplexity: {validation_ppl:.4f}')\n",
        "\n",
        "  def predict(self, tokens, K, max_T=400):\n",
        "    src = [self.src_field.vocab.stoi[token] for token in tokens]\n",
        "    src, src_lengths = torch.tensor([src], device=device).T, torch.tensor([len(src)], device=device)\n",
        "    # Predict\n",
        "    beam_searcher = BeamSearcher(self)\n",
        "    prediction, _ = beam_searcher.beam_search(src, src_lengths, K, max_T)\n",
        "    # Convert to string\n",
        "    prediction = ' '.join([TGT.vocab.itos[token] for token in prediction])\n",
        "    prediction = prediction.lstrip('<bos>').rstrip('<eos>').strip()\n",
        "    return prediction"
      ],
      "execution_count": 52,
      "outputs": []
    },
    {
      "cell_type": "code",
      "metadata": {
        "id": "psqagwtuj-jV"
      },
      "source": [
        ""
      ],
      "execution_count": 52,
      "outputs": []
    },
    {
      "cell_type": "markdown",
      "metadata": {
        "id": "JLuzTt-RFgoL"
      },
      "source": [
        "We provide the recommended hyperparameters for the final model in the script below, but you are free to tune the hyperparameters or change any part of the provided code. \n",
        "\n",
        ">For quick debugging, we recommend starting with smaller models (by using a very small `hidden_size`), and only a single epoch. If the model runs smoothly, then you can train the full model on GPUs."
      ]
    },
    {
      "cell_type": "code",
      "metadata": {
        "id": "bgpzX99Zj-jW",
        "colab": {
          "base_uri": "https://localhost:8080/",
          "height": 0
        },
        "outputId": "6c82bd00-6fed-427c-b443-2cfa748a0f09"
      },
      "source": [
        "EPOCHS = 50 # epochs, we recommend starting with a smaller number like 1\n",
        "LEARNING_RATE = 1e-4 # learning rate\n",
        "\n",
        "# Instantiate and train classifier\n",
        "model = AttnEncoderDecoder(SRC, TGT,\n",
        "  hidden_size    = 1024,\n",
        "  layers         = 1,\n",
        ").to(device)\n",
        "\n",
        "model.train_all(train_iter, val_iter, epochs=EPOCHS, learning_rate=LEARNING_RATE)\n",
        "model.load_state_dict(model.best_model)\n",
        "\n",
        "# Evaluate model performance, the expected value should be < 1.2\n",
        "print (f'Validation perplexity: {model.evaluate_ppl(val_iter):.3f}')"
      ],
      "execution_count": 53,
      "outputs": [
        {
          "output_type": "stream",
          "text": [
            "100%|██████████| 115/115 [02:04<00:00,  1.09s/it]\n",
            "  0%|          | 0/115 [00:00<?, ?it/s]"
          ],
          "name": "stderr"
        },
        {
          "output_type": "stream",
          "text": [
            "Epoch: 0 Training Perplexity: 11.9775 Validation Perplexity: 2.8618\n"
          ],
          "name": "stdout"
        },
        {
          "output_type": "stream",
          "text": [
            "100%|██████████| 115/115 [02:05<00:00,  1.09s/it]\n",
            "  0%|          | 0/115 [00:00<?, ?it/s]"
          ],
          "name": "stderr"
        },
        {
          "output_type": "stream",
          "text": [
            "Epoch: 1 Training Perplexity: 2.1186 Validation Perplexity: 1.8294\n"
          ],
          "name": "stdout"
        },
        {
          "output_type": "stream",
          "text": [
            "100%|██████████| 115/115 [02:04<00:00,  1.08s/it]\n",
            "  0%|          | 0/115 [00:00<?, ?it/s]"
          ],
          "name": "stderr"
        },
        {
          "output_type": "stream",
          "text": [
            "Epoch: 2 Training Perplexity: 1.6269 Validation Perplexity: 1.5783\n"
          ],
          "name": "stdout"
        },
        {
          "output_type": "stream",
          "text": [
            "100%|██████████| 115/115 [02:07<00:00,  1.11s/it]\n",
            "  0%|          | 0/115 [00:00<?, ?it/s]"
          ],
          "name": "stderr"
        },
        {
          "output_type": "stream",
          "text": [
            "Epoch: 3 Training Perplexity: 1.4676 Validation Perplexity: 1.4687\n"
          ],
          "name": "stdout"
        },
        {
          "output_type": "stream",
          "text": [
            "100%|██████████| 115/115 [02:06<00:00,  1.10s/it]\n",
            "  0%|          | 0/115 [00:00<?, ?it/s]"
          ],
          "name": "stderr"
        },
        {
          "output_type": "stream",
          "text": [
            "Epoch: 4 Training Perplexity: 1.3774 Validation Perplexity: 1.4009\n"
          ],
          "name": "stdout"
        },
        {
          "output_type": "stream",
          "text": [
            "100%|██████████| 115/115 [02:04<00:00,  1.09s/it]\n",
            "  0%|          | 0/115 [00:00<?, ?it/s]"
          ],
          "name": "stderr"
        },
        {
          "output_type": "stream",
          "text": [
            "Epoch: 5 Training Perplexity: 1.3240 Validation Perplexity: 1.3464\n"
          ],
          "name": "stdout"
        },
        {
          "output_type": "stream",
          "text": [
            "100%|██████████| 115/115 [02:02<00:00,  1.07s/it]\n",
            "  0%|          | 0/115 [00:00<?, ?it/s]"
          ],
          "name": "stderr"
        },
        {
          "output_type": "stream",
          "text": [
            "Epoch: 6 Training Perplexity: 1.2810 Validation Perplexity: 1.3293\n"
          ],
          "name": "stdout"
        },
        {
          "output_type": "stream",
          "text": [
            "100%|██████████| 115/115 [02:04<00:00,  1.08s/it]\n",
            "  0%|          | 0/115 [00:00<?, ?it/s]"
          ],
          "name": "stderr"
        },
        {
          "output_type": "stream",
          "text": [
            "Epoch: 7 Training Perplexity: 1.2527 Validation Perplexity: 1.2981\n"
          ],
          "name": "stdout"
        },
        {
          "output_type": "stream",
          "text": [
            "100%|██████████| 115/115 [02:08<00:00,  1.11s/it]\n",
            "  0%|          | 0/115 [00:00<?, ?it/s]"
          ],
          "name": "stderr"
        },
        {
          "output_type": "stream",
          "text": [
            "Epoch: 8 Training Perplexity: 1.2220 Validation Perplexity: 1.2642\n"
          ],
          "name": "stdout"
        },
        {
          "output_type": "stream",
          "text": [
            "100%|██████████| 115/115 [02:05<00:00,  1.09s/it]\n",
            "  0%|          | 0/115 [00:00<?, ?it/s]"
          ],
          "name": "stderr"
        },
        {
          "output_type": "stream",
          "text": [
            "Epoch: 9 Training Perplexity: 1.2013 Validation Perplexity: 1.2496\n"
          ],
          "name": "stdout"
        },
        {
          "output_type": "stream",
          "text": [
            "100%|██████████| 115/115 [02:06<00:00,  1.10s/it]\n",
            "  0%|          | 0/115 [00:00<?, ?it/s]"
          ],
          "name": "stderr"
        },
        {
          "output_type": "stream",
          "text": [
            "Epoch: 10 Training Perplexity: 1.1780 Validation Perplexity: 1.2286\n"
          ],
          "name": "stdout"
        },
        {
          "output_type": "stream",
          "text": [
            "100%|██████████| 115/115 [02:03<00:00,  1.07s/it]\n",
            "  0%|          | 0/115 [00:00<?, ?it/s]"
          ],
          "name": "stderr"
        },
        {
          "output_type": "stream",
          "text": [
            "Epoch: 11 Training Perplexity: 1.1599 Validation Perplexity: 1.2079\n"
          ],
          "name": "stdout"
        },
        {
          "output_type": "stream",
          "text": [
            "100%|██████████| 115/115 [02:02<00:00,  1.07s/it]\n",
            "  0%|          | 0/115 [00:00<?, ?it/s]"
          ],
          "name": "stderr"
        },
        {
          "output_type": "stream",
          "text": [
            "Epoch: 12 Training Perplexity: 1.1428 Validation Perplexity: 1.1938\n"
          ],
          "name": "stdout"
        },
        {
          "output_type": "stream",
          "text": [
            "100%|██████████| 115/115 [02:05<00:00,  1.09s/it]\n",
            "  0%|          | 0/115 [00:00<?, ?it/s]"
          ],
          "name": "stderr"
        },
        {
          "output_type": "stream",
          "text": [
            "Epoch: 13 Training Perplexity: 1.1330 Validation Perplexity: 1.1876\n"
          ],
          "name": "stdout"
        },
        {
          "output_type": "stream",
          "text": [
            "100%|██████████| 115/115 [02:05<00:00,  1.09s/it]\n",
            "  0%|          | 0/115 [00:00<?, ?it/s]"
          ],
          "name": "stderr"
        },
        {
          "output_type": "stream",
          "text": [
            "Epoch: 14 Training Perplexity: 1.1236 Validation Perplexity: 1.1808\n"
          ],
          "name": "stdout"
        },
        {
          "output_type": "stream",
          "text": [
            "100%|██████████| 115/115 [02:05<00:00,  1.10s/it]\n",
            "  0%|          | 0/115 [00:00<?, ?it/s]"
          ],
          "name": "stderr"
        },
        {
          "output_type": "stream",
          "text": [
            "Epoch: 15 Training Perplexity: 1.1147 Validation Perplexity: 1.1779\n"
          ],
          "name": "stdout"
        },
        {
          "output_type": "stream",
          "text": [
            "100%|██████████| 115/115 [02:04<00:00,  1.08s/it]\n",
            "  0%|          | 0/115 [00:00<?, ?it/s]"
          ],
          "name": "stderr"
        },
        {
          "output_type": "stream",
          "text": [
            "Epoch: 16 Training Perplexity: 1.1024 Validation Perplexity: 1.1698\n"
          ],
          "name": "stdout"
        },
        {
          "output_type": "stream",
          "text": [
            "100%|██████████| 115/115 [02:08<00:00,  1.11s/it]\n",
            "  0%|          | 0/115 [00:00<?, ?it/s]"
          ],
          "name": "stderr"
        },
        {
          "output_type": "stream",
          "text": [
            "Epoch: 17 Training Perplexity: 1.0963 Validation Perplexity: 1.2118\n"
          ],
          "name": "stdout"
        },
        {
          "output_type": "stream",
          "text": [
            "100%|██████████| 115/115 [02:05<00:00,  1.09s/it]\n",
            "  0%|          | 0/115 [00:00<?, ?it/s]"
          ],
          "name": "stderr"
        },
        {
          "output_type": "stream",
          "text": [
            "Epoch: 18 Training Perplexity: 1.1141 Validation Perplexity: 1.1815\n"
          ],
          "name": "stdout"
        },
        {
          "output_type": "stream",
          "text": [
            "100%|██████████| 115/115 [02:06<00:00,  1.10s/it]\n",
            "  0%|          | 0/115 [00:00<?, ?it/s]"
          ],
          "name": "stderr"
        },
        {
          "output_type": "stream",
          "text": [
            "Epoch: 19 Training Perplexity: 1.0908 Validation Perplexity: 1.1606\n"
          ],
          "name": "stdout"
        },
        {
          "output_type": "stream",
          "text": [
            "100%|██████████| 115/115 [02:06<00:00,  1.10s/it]\n",
            "  0%|          | 0/115 [00:00<?, ?it/s]"
          ],
          "name": "stderr"
        },
        {
          "output_type": "stream",
          "text": [
            "Epoch: 20 Training Perplexity: 1.0836 Validation Perplexity: 1.1671\n"
          ],
          "name": "stdout"
        },
        {
          "output_type": "stream",
          "text": [
            "100%|██████████| 115/115 [02:04<00:00,  1.08s/it]\n",
            "  0%|          | 0/115 [00:00<?, ?it/s]"
          ],
          "name": "stderr"
        },
        {
          "output_type": "stream",
          "text": [
            "Epoch: 21 Training Perplexity: 1.0760 Validation Perplexity: 1.1560\n"
          ],
          "name": "stdout"
        },
        {
          "output_type": "stream",
          "text": [
            "100%|██████████| 115/115 [02:05<00:00,  1.09s/it]\n",
            "  0%|          | 0/115 [00:00<?, ?it/s]"
          ],
          "name": "stderr"
        },
        {
          "output_type": "stream",
          "text": [
            "Epoch: 22 Training Perplexity: 1.0683 Validation Perplexity: 1.1533\n"
          ],
          "name": "stdout"
        },
        {
          "output_type": "stream",
          "text": [
            "100%|██████████| 115/115 [02:02<00:00,  1.06s/it]\n",
            "  0%|          | 0/115 [00:00<?, ?it/s]"
          ],
          "name": "stderr"
        },
        {
          "output_type": "stream",
          "text": [
            "Epoch: 23 Training Perplexity: 1.0634 Validation Perplexity: 1.1578\n"
          ],
          "name": "stdout"
        },
        {
          "output_type": "stream",
          "text": [
            "100%|██████████| 115/115 [02:04<00:00,  1.08s/it]\n",
            "  0%|          | 0/115 [00:00<?, ?it/s]"
          ],
          "name": "stderr"
        },
        {
          "output_type": "stream",
          "text": [
            "Epoch: 24 Training Perplexity: 1.0592 Validation Perplexity: 1.1545\n"
          ],
          "name": "stdout"
        },
        {
          "output_type": "stream",
          "text": [
            "100%|██████████| 115/115 [02:05<00:00,  1.09s/it]\n",
            "  0%|          | 0/115 [00:00<?, ?it/s]"
          ],
          "name": "stderr"
        },
        {
          "output_type": "stream",
          "text": [
            "Epoch: 25 Training Perplexity: 1.0555 Validation Perplexity: 1.1494\n"
          ],
          "name": "stdout"
        },
        {
          "output_type": "stream",
          "text": [
            "100%|██████████| 115/115 [02:03<00:00,  1.07s/it]\n",
            "  0%|          | 0/115 [00:00<?, ?it/s]"
          ],
          "name": "stderr"
        },
        {
          "output_type": "stream",
          "text": [
            "Epoch: 26 Training Perplexity: 1.0506 Validation Perplexity: 1.1510\n"
          ],
          "name": "stdout"
        },
        {
          "output_type": "stream",
          "text": [
            "100%|██████████| 115/115 [02:02<00:00,  1.07s/it]\n",
            "  0%|          | 0/115 [00:00<?, ?it/s]"
          ],
          "name": "stderr"
        },
        {
          "output_type": "stream",
          "text": [
            "Epoch: 27 Training Perplexity: 1.0531 Validation Perplexity: 1.1521\n"
          ],
          "name": "stdout"
        },
        {
          "output_type": "stream",
          "text": [
            "100%|██████████| 115/115 [02:06<00:00,  1.10s/it]\n",
            "  0%|          | 0/115 [00:00<?, ?it/s]"
          ],
          "name": "stderr"
        },
        {
          "output_type": "stream",
          "text": [
            "Epoch: 28 Training Perplexity: 1.0486 Validation Perplexity: 1.1548\n"
          ],
          "name": "stdout"
        },
        {
          "output_type": "stream",
          "text": [
            "100%|██████████| 115/115 [02:05<00:00,  1.09s/it]\n",
            "  0%|          | 0/115 [00:00<?, ?it/s]"
          ],
          "name": "stderr"
        },
        {
          "output_type": "stream",
          "text": [
            "Epoch: 29 Training Perplexity: 1.0469 Validation Perplexity: 1.1494\n"
          ],
          "name": "stdout"
        },
        {
          "output_type": "stream",
          "text": [
            "100%|██████████| 115/115 [02:05<00:00,  1.09s/it]\n",
            "  0%|          | 0/115 [00:00<?, ?it/s]"
          ],
          "name": "stderr"
        },
        {
          "output_type": "stream",
          "text": [
            "Epoch: 30 Training Perplexity: 1.0530 Validation Perplexity: 1.1484\n"
          ],
          "name": "stdout"
        },
        {
          "output_type": "stream",
          "text": [
            "100%|██████████| 115/115 [02:04<00:00,  1.08s/it]\n",
            "  0%|          | 0/115 [00:00<?, ?it/s]"
          ],
          "name": "stderr"
        },
        {
          "output_type": "stream",
          "text": [
            "Epoch: 31 Training Perplexity: 1.0480 Validation Perplexity: 1.1492\n"
          ],
          "name": "stdout"
        },
        {
          "output_type": "stream",
          "text": [
            "100%|██████████| 115/115 [02:05<00:00,  1.09s/it]\n",
            "  0%|          | 0/115 [00:00<?, ?it/s]"
          ],
          "name": "stderr"
        },
        {
          "output_type": "stream",
          "text": [
            "Epoch: 32 Training Perplexity: 1.0446 Validation Perplexity: 1.1453\n"
          ],
          "name": "stdout"
        },
        {
          "output_type": "stream",
          "text": [
            "100%|██████████| 115/115 [02:05<00:00,  1.09s/it]\n",
            "  0%|          | 0/115 [00:00<?, ?it/s]"
          ],
          "name": "stderr"
        },
        {
          "output_type": "stream",
          "text": [
            "Epoch: 33 Training Perplexity: 1.0375 Validation Perplexity: 1.1498\n"
          ],
          "name": "stdout"
        },
        {
          "output_type": "stream",
          "text": [
            "100%|██████████| 115/115 [02:06<00:00,  1.10s/it]\n",
            "  0%|          | 0/115 [00:00<?, ?it/s]"
          ],
          "name": "stderr"
        },
        {
          "output_type": "stream",
          "text": [
            "Epoch: 34 Training Perplexity: 1.0341 Validation Perplexity: 1.1452\n"
          ],
          "name": "stdout"
        },
        {
          "output_type": "stream",
          "text": [
            "100%|██████████| 115/115 [02:04<00:00,  1.09s/it]\n",
            "  0%|          | 0/115 [00:00<?, ?it/s]"
          ],
          "name": "stderr"
        },
        {
          "output_type": "stream",
          "text": [
            "Epoch: 35 Training Perplexity: 1.0315 Validation Perplexity: 1.1437\n"
          ],
          "name": "stdout"
        },
        {
          "output_type": "stream",
          "text": [
            "100%|██████████| 115/115 [02:04<00:00,  1.09s/it]\n",
            "  0%|          | 0/115 [00:00<?, ?it/s]"
          ],
          "name": "stderr"
        },
        {
          "output_type": "stream",
          "text": [
            "Epoch: 36 Training Perplexity: 1.0307 Validation Perplexity: 1.1653\n"
          ],
          "name": "stdout"
        },
        {
          "output_type": "stream",
          "text": [
            "100%|██████████| 115/115 [02:05<00:00,  1.10s/it]\n",
            "  0%|          | 0/115 [00:00<?, ?it/s]"
          ],
          "name": "stderr"
        },
        {
          "output_type": "stream",
          "text": [
            "Epoch: 37 Training Perplexity: 1.0363 Validation Perplexity: 1.1462\n"
          ],
          "name": "stdout"
        },
        {
          "output_type": "stream",
          "text": [
            "100%|██████████| 115/115 [02:05<00:00,  1.09s/it]\n",
            "  0%|          | 0/115 [00:00<?, ?it/s]"
          ],
          "name": "stderr"
        },
        {
          "output_type": "stream",
          "text": [
            "Epoch: 38 Training Perplexity: 1.0301 Validation Perplexity: 1.1590\n"
          ],
          "name": "stdout"
        },
        {
          "output_type": "stream",
          "text": [
            "100%|██████████| 115/115 [02:04<00:00,  1.08s/it]\n",
            "  0%|          | 0/115 [00:00<?, ?it/s]"
          ],
          "name": "stderr"
        },
        {
          "output_type": "stream",
          "text": [
            "Epoch: 39 Training Perplexity: 1.0311 Validation Perplexity: 1.1462\n"
          ],
          "name": "stdout"
        },
        {
          "output_type": "stream",
          "text": [
            "100%|██████████| 115/115 [02:05<00:00,  1.10s/it]\n",
            "  0%|          | 0/115 [00:00<?, ?it/s]"
          ],
          "name": "stderr"
        },
        {
          "output_type": "stream",
          "text": [
            "Epoch: 40 Training Perplexity: 1.0243 Validation Perplexity: 1.1451\n"
          ],
          "name": "stdout"
        },
        {
          "output_type": "stream",
          "text": [
            "100%|██████████| 115/115 [02:06<00:00,  1.10s/it]\n",
            "  0%|          | 0/115 [00:00<?, ?it/s]"
          ],
          "name": "stderr"
        },
        {
          "output_type": "stream",
          "text": [
            "Epoch: 41 Training Perplexity: 1.0242 Validation Perplexity: 1.1603\n"
          ],
          "name": "stdout"
        },
        {
          "output_type": "stream",
          "text": [
            "100%|██████████| 115/115 [02:07<00:00,  1.10s/it]\n",
            "  0%|          | 0/115 [00:00<?, ?it/s]"
          ],
          "name": "stderr"
        },
        {
          "output_type": "stream",
          "text": [
            "Epoch: 42 Training Perplexity: 1.0335 Validation Perplexity: 1.1506\n"
          ],
          "name": "stdout"
        },
        {
          "output_type": "stream",
          "text": [
            "100%|██████████| 115/115 [02:06<00:00,  1.10s/it]\n",
            "  0%|          | 0/115 [00:00<?, ?it/s]"
          ],
          "name": "stderr"
        },
        {
          "output_type": "stream",
          "text": [
            "Epoch: 43 Training Perplexity: 1.0271 Validation Perplexity: 1.1451\n"
          ],
          "name": "stdout"
        },
        {
          "output_type": "stream",
          "text": [
            "100%|██████████| 115/115 [02:06<00:00,  1.10s/it]\n",
            "  0%|          | 0/115 [00:00<?, ?it/s]"
          ],
          "name": "stderr"
        },
        {
          "output_type": "stream",
          "text": [
            "Epoch: 44 Training Perplexity: 1.0217 Validation Perplexity: 1.1778\n"
          ],
          "name": "stdout"
        },
        {
          "output_type": "stream",
          "text": [
            "100%|██████████| 115/115 [02:04<00:00,  1.08s/it]\n",
            "  0%|          | 0/115 [00:00<?, ?it/s]"
          ],
          "name": "stderr"
        },
        {
          "output_type": "stream",
          "text": [
            "Epoch: 45 Training Perplexity: 1.0280 Validation Perplexity: 1.1581\n"
          ],
          "name": "stdout"
        },
        {
          "output_type": "stream",
          "text": [
            "100%|██████████| 115/115 [02:05<00:00,  1.10s/it]\n",
            "  0%|          | 0/115 [00:00<?, ?it/s]"
          ],
          "name": "stderr"
        },
        {
          "output_type": "stream",
          "text": [
            "Epoch: 46 Training Perplexity: 1.0613 Validation Perplexity: 1.1562\n"
          ],
          "name": "stdout"
        },
        {
          "output_type": "stream",
          "text": [
            "100%|██████████| 115/115 [02:07<00:00,  1.11s/it]\n",
            "  0%|          | 0/115 [00:00<?, ?it/s]"
          ],
          "name": "stderr"
        },
        {
          "output_type": "stream",
          "text": [
            "Epoch: 47 Training Perplexity: 1.0460 Validation Perplexity: 1.1513\n"
          ],
          "name": "stdout"
        },
        {
          "output_type": "stream",
          "text": [
            "100%|██████████| 115/115 [02:07<00:00,  1.11s/it]\n",
            "  0%|          | 0/115 [00:00<?, ?it/s]"
          ],
          "name": "stderr"
        },
        {
          "output_type": "stream",
          "text": [
            "Epoch: 48 Training Perplexity: 1.0348 Validation Perplexity: 1.1485\n"
          ],
          "name": "stdout"
        },
        {
          "output_type": "stream",
          "text": [
            "100%|██████████| 115/115 [02:07<00:00,  1.11s/it]\n"
          ],
          "name": "stderr"
        },
        {
          "output_type": "stream",
          "text": [
            "Epoch: 49 Training Perplexity: 1.0282 Validation Perplexity: 1.1532\n",
            "Validation perplexity: 1.144\n"
          ],
          "name": "stdout"
        }
      ]
    },
    {
      "cell_type": "markdown",
      "metadata": {
        "id": "hAxX0FZfj-jW"
      },
      "source": [
        "With a trained model, we can convert questions to SQL statements. We recommend making sure that the model can generate at least reasonable results on the examples from before, before evaluating on the full test set."
      ]
    },
    {
      "cell_type": "code",
      "metadata": {
        "id": "D3Iw4Jw4j-jW"
      },
      "source": [
        "torch.save(model.best_model, './best_model')\n",
        "def seq2seq_trial(sentence, gold_sql):\n",
        "  print(\"Sentence: \", sentence, \"\\n\")\n",
        "  tokens = tokenize(sentence)\n",
        "\n",
        "  predicted_sql = model.predict(tokens, K=1, max_T=400)\n",
        "  print(\"Predicted SQL:\\n\\n\", predicted_sql, \"\\n\")\n",
        "\n",
        "  if verify(predicted_sql, gold_sql, silent=False):\n",
        "    print ('Correct!')\n",
        "  else:\n",
        "    print ('Incorrect!')"
      ],
      "execution_count": 75,
      "outputs": []
    },
    {
      "cell_type": "code",
      "metadata": {
        "id": "i3Qj7K4ij-jW",
        "colab": {
          "base_uri": "https://localhost:8080/",
          "height": 0
        },
        "outputId": "01a59b1a-7446-4f32-e730-62b2f6507d21"
      },
      "source": [
        "seq2seq_trial(example_1, gold_sql_1)"
      ],
      "execution_count": 55,
      "outputs": [
        {
          "output_type": "stream",
          "text": [
            "Sentence:  flights from phoenix to milwaukee \n",
            "\n",
            "Predicted SQL:\n",
            "\n",
            " SELECT DISTINCT flight_1.flight_id FROM flight flight_1 , airport_service airport_service_1 , city city_1 , airport_service airport_service_2 , city city_2 WHERE flight_1.from_airport = airport_service_1.airport_code AND airport_service_1.city_code = city_1.city_code AND city_1.city_name = 'PHOENIX' AND flight_1.to_airport = airport_service_2.airport_code AND airport_service_2.city_code = city_2.city_code AND city_2.city_name = 'MILWAUKEE' \n",
            "\n",
            "Predicted DB result:\n",
            "\n",
            " [(108086,), (108087,), (301763,), (301764,), (301765,), (301766,), (302323,), (304881,), (310619,), (310620,)] \n",
            "\n",
            "Gold DB result:\n",
            "\n",
            " [(108086,), (108087,), (301763,), (301764,), (301765,), (301766,), (302323,), (304881,), (310619,), (310620,)] \n",
            "\n",
            "Correct!\n"
          ],
          "name": "stdout"
        }
      ]
    },
    {
      "cell_type": "code",
      "metadata": {
        "id": "Hf_OTsOhj-jX",
        "colab": {
          "base_uri": "https://localhost:8080/",
          "height": 0
        },
        "outputId": "ca390249-c698-4555-ee56-793b6d77f1f5"
      },
      "source": [
        "seq2seq_trial(example_2, gold_sql_2)"
      ],
      "execution_count": 56,
      "outputs": [
        {
          "output_type": "stream",
          "text": [
            "Sentence:  i would like a united flight \n",
            "\n",
            "Predicted SQL:\n",
            "\n",
            " SELECT DISTINCT flight_1.flight_id FROM flight flight_1 , airport_service airport_service_1 , city city_1 WHERE flight_1.airline_code = 'UA' AND flight_1.from_airport = airport_service_1.airport_code AND airport_service_1.city_code = city_1.city_code AND city_1.city_name = 'DENVER' \n",
            "\n",
            "Predicted DB result:\n",
            "\n",
            " [(100094,), (100099,), (100699,), (100703,), (100704,), (100705,), (100706,), (101082,), (101083,), (101084,)] \n",
            "\n",
            "Gold DB result:\n",
            "\n",
            " [(100094,), (100099,), (100145,), (100158,), (100164,), (100167,), (100169,), (100203,), (100204,), (100296,)] \n",
            "\n",
            "Incorrect!\n"
          ],
          "name": "stdout"
        }
      ]
    },
    {
      "cell_type": "code",
      "metadata": {
        "id": "Do5P9h4uj-jX",
        "colab": {
          "base_uri": "https://localhost:8080/",
          "height": 0
        },
        "outputId": "3a859d51-fdfa-4c04-9dbe-45ee4f994966"
      },
      "source": [
        "seq2seq_trial(example_3, gold_sql_3)"
      ],
      "execution_count": 57,
      "outputs": [
        {
          "output_type": "stream",
          "text": [
            "Sentence:  i would like a flight between boston and dallas \n",
            "\n",
            "Predicted SQL:\n",
            "\n",
            " SELECT DISTINCT flight_1.flight_id FROM flight flight_1 , airport_service airport_service_1 , city city_1 , airport_service airport_service_2 , city city_2 WHERE flight_1.from_airport = airport_service_1.airport_code AND airport_service_1.city_code = city_1.city_code AND city_1.city_name = 'BOSTON' AND flight_1.to_airport = airport_service_2.airport_code AND airport_service_2.city_code = city_2.city_code AND city_2.city_name = 'DALLAS' \n",
            "\n",
            "Predicted DB result:\n",
            "\n",
            " [(103171,), (103172,), (103173,), (103174,), (103175,), (103176,), (103177,), (103178,), (103179,), (103180,)] \n",
            "\n",
            "Gold DB result:\n",
            "\n",
            " [(103171,), (103172,), (103173,), (103174,), (103175,), (103176,), (103177,), (103178,), (103179,), (103180,)] \n",
            "\n",
            "Correct!\n"
          ],
          "name": "stdout"
        }
      ]
    },
    {
      "cell_type": "code",
      "metadata": {
        "id": "_7Eti0zmj-jX",
        "colab": {
          "base_uri": "https://localhost:8080/",
          "height": 0
        },
        "outputId": "22306da3-f889-4f6d-8a86-3fb3b4208d0a"
      },
      "source": [
        "seq2seq_trial(example_4, gold_sql_4)"
      ],
      "execution_count": 58,
      "outputs": [
        {
          "output_type": "stream",
          "text": [
            "Sentence:  show me the united flights from denver to baltimore \n",
            "\n",
            "Predicted SQL:\n",
            "\n",
            " SELECT DISTINCT flight_1.flight_id FROM flight flight_1 , airport_service airport_service_1 , city city_1 , airport_service airport_service_2 , city city_2 WHERE flight_1.airline_code = 'UA' AND ( flight_1.from_airport = airport_service_1.airport_code AND airport_service_1.city_code = city_1.city_code AND city_1.city_name = 'DENVER' AND flight_1.to_airport = airport_service_2.airport_code AND airport_service_2.city_code = city_2.city_code AND city_2.city_name = 'BALTIMORE' ) \n",
            "\n",
            "Predicted DB result:\n",
            "\n",
            " [(101231,), (101233,), (305983,)] \n",
            "\n",
            "Gold DB result:\n",
            "\n",
            " [(101231,), (101233,), (305983,)] \n",
            "\n",
            "Correct!\n"
          ],
          "name": "stdout"
        }
      ]
    },
    {
      "cell_type": "code",
      "metadata": {
        "id": "5RuYBqk4j-jX",
        "colab": {
          "base_uri": "https://localhost:8080/",
          "height": 0
        },
        "outputId": "53c6792f-a712-45e1-e27a-7e6f874dac87"
      },
      "source": [
        "seq2seq_trial(example_5, gold_sql_5)"
      ],
      "execution_count": 59,
      "outputs": [
        {
          "output_type": "stream",
          "text": [
            "Sentence:  show flights from cleveland to miami that arrive before 4pm \n",
            "\n",
            "Predicted SQL:\n",
            "\n",
            " SELECT DISTINCT flight_1.flight_id FROM flight flight_1 , airport_service airport_service_1 , city city_1 , airport_service airport_service_2 , city city_2 WHERE flight_1.from_airport = airport_service_1.airport_code AND airport_service_1.city_code = city_1.city_code AND city_1.city_name = 'CLEVELAND' AND ( flight_1.to_airport = airport_service_2.airport_code AND airport_service_2.city_code = city_2.city_code AND city_2.city_name = 'MIAMI' AND flight_1.arrival_time < 1600 ) \n",
            "\n",
            "Predicted DB result:\n",
            "\n",
            " [(107698,), (301117,)] \n",
            "\n",
            "Gold DB result:\n",
            "\n",
            " [(107698,), (301117,)] \n",
            "\n",
            "Correct!\n"
          ],
          "name": "stdout"
        }
      ]
    },
    {
      "cell_type": "code",
      "metadata": {
        "id": "sDBPZ-Atj-jX",
        "colab": {
          "base_uri": "https://localhost:8080/",
          "height": 0
        },
        "outputId": "2971363b-24c7-4fa7-f20d-9ce8356f52b0"
      },
      "source": [
        "seq2seq_trial(example_6, gold_sql_6b)"
      ],
      "execution_count": 60,
      "outputs": [
        {
          "output_type": "stream",
          "text": [
            "Sentence:  okay how about a flight on sunday from tampa to charlotte \n",
            "\n",
            "Predicted SQL:\n",
            "\n",
            " SELECT DISTINCT flight_1.flight_id FROM flight flight_1 , airport_service airport_service_1 , city city_1 , airport_service airport_service_2 , city city_2 , days days_1 , date_day date_day_1 WHERE flight_1.from_airport = airport_service_1.airport_code AND airport_service_1.city_code = city_1.city_code AND city_1.city_name = 'TAMPA' AND ( flight_1.to_airport = airport_service_2.airport_code AND airport_service_2.city_code = city_2.city_code AND city_2.city_name = 'CHARLOTTE' AND flight_1.flight_days = days_1.days_code AND days_1.day_name = date_day_1.day_name AND date_day_1.year = 1991 AND date_day_1.month_number = 8 AND date_day_1.day_number = 27 ) \n",
            "\n",
            "Predicted DB result:\n",
            "\n",
            " [(101860,), (101861,), (101862,), (101863,), (101864,), (101865,), (305231,)] \n",
            "\n",
            "Gold DB result:\n",
            "\n",
            " [(101860,), (101861,), (101862,), (101863,), (101864,), (101865,), (305231,)] \n",
            "\n",
            "Correct!\n"
          ],
          "name": "stdout"
        }
      ]
    },
    {
      "cell_type": "code",
      "metadata": {
        "id": "Q0m20Tf-j-jY",
        "colab": {
          "base_uri": "https://localhost:8080/",
          "height": 0
        },
        "outputId": "f44cf3e4-586c-45b3-8d44-1737d3871e83"
      },
      "source": [
        "seq2seq_trial(example_7, gold_sql_7b)"
      ],
      "execution_count": 61,
      "outputs": [
        {
          "output_type": "stream",
          "text": [
            "Sentence:  list all flights going from boston to atlanta before 7 am on thursday \n",
            "\n",
            "Predicted SQL:\n",
            "\n",
            " SELECT DISTINCT flight_1.flight_id FROM flight flight_1 , airport_service airport_service_1 , city city_1 , airport_service airport_service_2 , city city_2 , days days_1 , date_day date_day_1 WHERE flight_1.from_airport = airport_service_1.airport_code AND airport_service_1.city_code = city_1.city_code AND city_1.city_name = 'BOSTON' AND ( flight_1.to_airport = airport_service_2.airport_code AND airport_service_2.city_code = city_2.city_code AND city_2.city_name = 'ATLANTA' AND ( flight_1.flight_days = days_1.days_code AND days_1.day_name = date_day_1.day_name AND date_day_1.year = 1991 AND date_day_1.month_number = 5 AND date_day_1.day_number = 24 AND flight_1.departure_time < 700 ) ) \n",
            "\n",
            "Predicted DB result:\n",
            "\n",
            " [(100014,)] \n",
            "\n",
            "Gold DB result:\n",
            "\n",
            " [(100014,)] \n",
            "\n",
            "Correct!\n"
          ],
          "name": "stdout"
        }
      ]
    },
    {
      "cell_type": "code",
      "metadata": {
        "id": "kRlSZIZ3j-jY",
        "colab": {
          "base_uri": "https://localhost:8080/",
          "height": 0
        },
        "outputId": "0ab05f3a-c1ef-4439-d5da-61c13d3d7286"
      },
      "source": [
        "seq2seq_trial(example_8, gold_sql_8)"
      ],
      "execution_count": 62,
      "outputs": [
        {
          "output_type": "stream",
          "text": [
            "Sentence:  list the flights from dallas to san francisco on american airlines \n",
            "\n",
            "Predicted SQL:\n",
            "\n",
            " SELECT DISTINCT flight_1.flight_id FROM flight flight_1 , airport_service airport_service_1 , city city_1 , airport_service airport_service_2 , city city_2 WHERE flight_1.airline_code = 'AA' AND ( flight_1.from_airport = airport_service_1.airport_code AND airport_service_1.city_code = city_1.city_code AND city_1.city_name = 'DALLAS' AND flight_1.to_airport = airport_service_2.airport_code AND airport_service_2.city_code = city_2.city_code AND city_2.city_name = 'SAN FRANCISCO' ) \n",
            "\n",
            "Predicted DB result:\n",
            "\n",
            " [(108452,), (108454,), (108456,), (111083,), (111085,), (111086,), (111090,), (111091,), (111092,), (111094,)] \n",
            "\n",
            "Gold DB result:\n",
            "\n",
            " [(108452,), (108454,), (108456,), (111083,), (111085,), (111086,), (111090,), (111091,), (111092,), (111094,)] \n",
            "\n",
            "Correct!\n"
          ],
          "name": "stdout"
        }
      ]
    },
    {
      "cell_type": "markdown",
      "metadata": {
        "id": "kLyrRJPsqPEs"
      },
      "source": [
        "#### Evaluation\n",
        "\n",
        "Now we are ready to run the full evaluation. A proper implementation should reach more than 35% precision/recall/F1."
      ]
    },
    {
      "cell_type": "code",
      "metadata": {
        "id": "EiUzh9ftj-jZ"
      },
      "source": [
        "def seq2seq_predictor(tokens):\n",
        "  prediction = model.predict(tokens, K=1, max_T=400)\n",
        "  return prediction"
      ],
      "execution_count": 72,
      "outputs": []
    },
    {
      "cell_type": "code",
      "metadata": {
        "id": "FEYI4qkfj-jZ",
        "colab": {
          "base_uri": "https://localhost:8080/",
          "height": 0
        },
        "outputId": "16e1fe0a-49df-432c-ab4b-ca023a92b009"
      },
      "source": [
        "precision, recall, f1 = evaluate(seq2seq_predictor, test_iter.dataset, num_examples=0)\n",
        "print(f\"precision: {precision:3.2f}\")\n",
        "print(f\"recall:    {recall:3.2f}\")\n",
        "print(f\"F1:        {f1:3.2f}\")"
      ],
      "execution_count": 73,
      "outputs": [
        {
          "output_type": "stream",
          "text": [
            "100%|██████████| 332/332 [05:39<00:00,  1.02s/it]"
          ],
          "name": "stderr"
        },
        {
          "output_type": "stream",
          "text": [
            "precision: 0.33\n",
            "recall:    0.33\n",
            "F1:        0.33\n"
          ],
          "name": "stdout"
        },
        {
          "output_type": "stream",
          "text": [
            "\n"
          ],
          "name": "stderr"
        }
      ]
    },
    {
      "cell_type": "markdown",
      "metadata": {
        "id": "HV5Q1nuCReVv"
      },
      "source": [
        "## Discussion"
      ]
    },
    {
      "cell_type": "markdown",
      "metadata": {
        "deletable": false,
        "editable": false,
        "id": "fwg23wdz1o8o"
      },
      "source": [
        "<!-- BEGIN QUESTION -->\n",
        "\n",
        "### Goal 3: Compare the pros and cons of rule-based and neural approaches.\n",
        "\n",
        "Compare the pros and cons of both approaches with relevant examples from your experiments above. Concerning the accuracy, which approach would you choose to be used in a product? Explain.\n",
        "<!--\n",
        "BEGIN QUESTION\n",
        "name: open_response_comp\n",
        "manual: true\n",
        "-->"
      ]
    },
    {
      "cell_type": "markdown",
      "metadata": {
        "id": "played-delhi"
      },
      "source": [
        "From what I observed doing both parts, the pros and the cons of each approach is as follows:\r\n",
        "\r\n",
        "The precision, F1 and recall measurments are much better for the first approach, for my assumption because we manually define all the rules which have semantic meaning and correctly and deterministicly translating it to the SQL which gives us the desirable result. Thus, working with a huge examples set and manually fitting all the expressions to deterministic translations we perform very good for those we've seen int he past. And if for exmaple we have a lot of popular simple requests (quries), the system in the first approach will perform very good. Those are the pros. It is also understanable.\r\n",
        "\r\n",
        "The cons are that for an unseen examples (words of the request) we'll get bad performance, thus a system using that approach need to be handly supported and updated manually for the changing environment and external factors such as popularity of linguistic expressions and language place dependennt aspects and e.t.c \r\n",
        "\r\n",
        "Another con is it takes a lot of proggraming effort and time to write manually all the derivations of the possible rules, another aspect of manual support needed for that approach. \r\n",
        "\r\n",
        "In conclusion that approach can be good as we've seen, but need more handy work and time,with further support, which is also manual.\r\n",
        "\r\n",
        "In contrast, the neaural approach, can be automatic and involves some programming only in writing the model, depsipte the fact it takes a lot of data and time to train, after that it does everything by itself, it also handles better unseen examples, and with a stronger model maybe could perform better then we saw (we didn't use a transformer with newest improvements or even a model like GPT-3). The adjustment to new changes, assume the language narrative and slang will change in a 20 years, the model can be adjusted more automaticly, thought it also take time to retrain some of the model parameters and e.t.c. It less understanable then the previous approach, although with attention we can visualise it and see some semantic aspects of the way the model works (the attention and by it take a little glimpse into the model).\r\n",
        "\r\n",
        "Probably in that setting and performance comparasion, I would use the first approach, but of course if the second approach, which takes more computation power, can achive similiar very good semnatic derivations, with huge datasets and e.t.c (like GPT-3 and e.t.c), then the automation and the benifits of that approach are at least invinting for further reasearch.\r\n"
      ]
    },
    {
      "cell_type": "markdown",
      "metadata": {
        "id": "6RHEJ1m4j-ja"
      },
      "source": [
        "<!-- END QUESTION -->\n",
        "\n",
        "\n",
        "\n",
        "## (Optional) Goal 4: Use state-of-the-art pretrained transformers\n",
        "\n",
        "\n",
        "The most recent breakthrough in Natural Language Processing stems from the usage of pretrained transformer models. For example, you might have heard of pretrained transformers such as [GPT-3](https://arxiv.org/abs/2005.14165) and [BERT](https://arxiv.org/abs/1810.04805) (BERT is already used in [Google search](https://searchengineland.com/google-bert-used-on-almost-every-english-query-342193)). These models are usually trained on vast amounts of text data using variants of language modeling objectives, and researchers have found that finetuning them on downstream tasks usually results in better performance as compared to training a model from scratch. \n",
        "\n",
        "In the previous part, you implemented an LSTM-based sequence-to-sequence approach. To \"upgrade\" the model to be a state-of-the-art pretrained transformer only requires minor modifications.\n",
        "\n",
        "The pretrained model that we will use is [BART](https://arxiv.org/abs/1910.13461), which uses a bidirectional transformer encoder and a unidirectional transformer decoder, as illustrated in the below diagram (image courtesy https://arxiv.org/pdf/1910.13461):\n",
        "\n",
        "<img src=\"https://raw.githubusercontent.com/nlp-course/data/master/img/bart_architecture.png\" alt=\"encoder-decoder illustration\" />\n",
        "\n",
        "We can see that this model is strikingly similar to the LSTM-based encoder-decoder model we've been using. The only difference is that they use transformers instead of LSTMs. Therefore, we only need to change the modeling parts of the code, as we will see later."
      ]
    },
    {
      "cell_type": "markdown",
      "metadata": {
        "id": "MyJe7wxgj-ja"
      },
      "source": [
        "First, we download and load the pretrained BART model from the [transformers](https://github.com/huggingface/transformers) package by Huggingface. Note that we also need to use the \"tokenizer\" of BART, which is actually a combination of a tokenizer and a mapping from strings to word ids."
      ]
    },
    {
      "cell_type": "code",
      "metadata": {
        "id": "7FD_umh0j-jb",
        "colab": {
          "base_uri": "https://localhost:8080/",
          "height": 217,
          "referenced_widgets": [
            "d65ba109105841bdba84ce4914a69fca",
            "a8ee52f20564498eac0619697698263a",
            "650632eeb8a940dd860585b29bee9275",
            "ea92b4a9416c40f5a532941c23a61912",
            "0198aed0cb114b81a3570ee975212ef4",
            "4684951a552d4655979cbe2a78fb2f00",
            "5647c066fdbb4c5aa34e566ee16d2555",
            "aa8f3051a0b8441aa619d8bca68405db",
            "10aea9b5d1fd4200b4d1d539087044d4",
            "7d4bfcc65d844393a98ff1658835a2c6",
            "329033732a6a4612a9ec9baaf359bef9",
            "9f3367679fdf4383a3a918de868026ab",
            "36780184ca68471795563e1943fc4898",
            "200320855d0441aaaf3a82fd48c2f5f8",
            "315370825dd24fb5b381c368c19522b4",
            "0f9d6e280a9f4ce1b2ad4a1fde0ed52e",
            "1a5abc63851847318f1945aceeb90291",
            "41cca4c204d24a0b84c90977bfa07cce",
            "963d4132089940fb8c213e27eab9fe1d",
            "583c1189571d48bbbac56d62bcb60117",
            "913b41967ee248408a9eb126897a86fa",
            "032d9a9b889740e4b8bd3cdaabf1e3b8",
            "fe4482d6c30e48268e451e2e63ab4a31",
            "d3981554b1494c3f870ebeed12104b96",
            "b40e1f8754874185b0c621c619d5b73c",
            "d69bb8d2ac834b8ba8e3a278bc6bf49a",
            "142c02d521224597bc0e8604a6e62bf9",
            "53c7f90785254cc09948796413440b00",
            "09d8d1f3ce7949d9b46da0783483c005",
            "c4e1dfe1c11e477881e244e0e56eab17",
            "12945b8bc00c45faaa71a532b16fef99",
            "3d02083b8d0f48ab9e12a4974e26f57c"
          ]
        },
        "outputId": "243f9f48-4284-4344-8487-9115ad94df06"
      },
      "source": [
        "pretrained_bart = BartForConditionalGeneration.from_pretrained('facebook/bart-base')\n",
        "bart_tokenizer = BartTokenizer.from_pretrained('facebook/bart-base')"
      ],
      "execution_count": 31,
      "outputs": [
        {
          "output_type": "display_data",
          "data": {
            "application/vnd.jupyter.widget-view+json": {
              "model_id": "d65ba109105841bdba84ce4914a69fca",
              "version_minor": 0,
              "version_major": 2
            },
            "text/plain": [
              "HBox(children=(FloatProgress(value=0.0, description='Downloading', max=1553.0, style=ProgressStyle(description…"
            ]
          },
          "metadata": {
            "tags": []
          }
        },
        {
          "output_type": "stream",
          "text": [
            "\n"
          ],
          "name": "stdout"
        },
        {
          "output_type": "display_data",
          "data": {
            "application/vnd.jupyter.widget-view+json": {
              "model_id": "10aea9b5d1fd4200b4d1d539087044d4",
              "version_minor": 0,
              "version_major": 2
            },
            "text/plain": [
              "HBox(children=(FloatProgress(value=0.0, description='Downloading', max=557941479.0, style=ProgressStyle(descri…"
            ]
          },
          "metadata": {
            "tags": []
          }
        },
        {
          "output_type": "stream",
          "text": [
            "\n"
          ],
          "name": "stdout"
        },
        {
          "output_type": "display_data",
          "data": {
            "application/vnd.jupyter.widget-view+json": {
              "model_id": "1a5abc63851847318f1945aceeb90291",
              "version_minor": 0,
              "version_major": 2
            },
            "text/plain": [
              "HBox(children=(FloatProgress(value=0.0, description='Downloading', max=898823.0, style=ProgressStyle(descripti…"
            ]
          },
          "metadata": {
            "tags": []
          }
        },
        {
          "output_type": "stream",
          "text": [
            "\n"
          ],
          "name": "stdout"
        },
        {
          "output_type": "display_data",
          "data": {
            "application/vnd.jupyter.widget-view+json": {
              "model_id": "b40e1f8754874185b0c621c619d5b73c",
              "version_minor": 0,
              "version_major": 2
            },
            "text/plain": [
              "HBox(children=(FloatProgress(value=0.0, description='Downloading', max=456318.0, style=ProgressStyle(descripti…"
            ]
          },
          "metadata": {
            "tags": []
          }
        },
        {
          "output_type": "stream",
          "text": [
            "\n"
          ],
          "name": "stdout"
        }
      ]
    },
    {
      "cell_type": "markdown",
      "metadata": {
        "id": "63zaMYg2j-jb"
      },
      "source": [
        "Below we demonstrate how to use BART's tokenizer to convert a sentence to a list of word ids, and vice versa."
      ]
    },
    {
      "cell_type": "code",
      "metadata": {
        "id": "QHZ8LdF_j-jb",
        "colab": {
          "base_uri": "https://localhost:8080/"
        },
        "outputId": "9d299d46-2c03-48e4-f06c-120ac9b5c45f"
      },
      "source": [
        "# BART uses a predefined \"tokenizer\", which directly maps a sentence \n",
        "# to a list of ids\n",
        "def bart_tokenize(string):\n",
        "  return bart_tokenizer(string)['input_ids'][:1024] # BART model can process at most 1024 tokens\n",
        "\n",
        "def bart_detokenize(token_ids):\n",
        "    return bart_tokenizer.decode(token_ids, skip_special_tokens=True)\n",
        "\n",
        "## Demonstrating the tokenizer\n",
        "question = 'Are there any first-class flights from St. Louis at 11pm for less than $3.50?'\n",
        "\n",
        "tokenized_question = bart_tokenize(question)\n",
        "print('tokenized:', tokenized_question)\n",
        "\n",
        "detokenized_question = bart_detokenize(tokenized_question)\n",
        "print('detokenized:', detokenized_question)"
      ],
      "execution_count": 32,
      "outputs": [
        {
          "output_type": "stream",
          "text": [
            "tokenized: [0, 13755, 89, 143, 78, 12, 4684, 4871, 31, 312, 4, 3217, 23, 365, 1685, 13, 540, 87, 68, 246, 4, 1096, 116, 2]\n",
            "detokenized: Are there any first-class flights from St. Louis at 11pm for less than $3.50?\n"
          ],
          "name": "stdout"
        }
      ]
    },
    {
      "cell_type": "markdown",
      "metadata": {
        "id": "J7XvI6vsj-jc"
      },
      "source": [
        "We need to reprocess the data using our new tokenizer. Note that here we set `batch_first` to `True`, since that's the expected input shape of the transformers package."
      ]
    },
    {
      "cell_type": "code",
      "metadata": {
        "id": "7keK2n1xj-jc",
        "colab": {
          "base_uri": "https://localhost:8080/"
        },
        "outputId": "e152a111-a0bd-4ee2-be7e-169eb0fc3513"
      },
      "source": [
        "SRC_BART = tt.data.Field(include_lengths=True,   # include lengths\n",
        "                         batch_first=True,       # batches will be batch_size x max_len\n",
        "                         tokenize=bart_tokenize, # use bart tokenizer\n",
        "                         use_vocab=False,        # bart tokenizer already converts to int ids\n",
        "                         pad_token=bart_tokenizer.pad_token_id\n",
        "                        ) \n",
        "TGT_BART = tt.data.Field(include_lengths=False,\n",
        "                         batch_first=True,       # batches will be batch_size x max_len\n",
        "                         tokenize=bart_tokenize, # use bart tokenizer\n",
        "                         use_vocab=False,        # bart tokenizer already converts to int ids\n",
        "                         pad_token=bart_tokenizer.pad_token_id\n",
        "                        )\n",
        "fields_bart = [('src', SRC_BART), ('tgt', TGT_BART)]\n",
        "\n",
        "# Make splits for data\n",
        "train_data_bart, val_data_bart, test_data_bart = tt.datasets.TranslationDataset.splits(\n",
        "    ('_flightid.nl', '_flightid.sql'), fields_bart, path='./data/',\n",
        "    train='train', validation='dev', test='test')\n",
        "\n",
        "BATCH_SIZE = 1 # batch size for training/validation\n",
        "TEST_BATCH_SIZE = 1 # batch size for test, we use 1 to make beam search implementation easier\n",
        "\n",
        "train_iter_bart, val_iter_bart = tt.data.BucketIterator.splits((train_data_bart, val_data_bart),\n",
        "                                                     batch_size=BATCH_SIZE, \n",
        "                                                     device=device,\n",
        "                                                     repeat=False, \n",
        "                                                     sort_key=lambda x: len(x.src), \n",
        "                                                     sort_within_batch=True)\n",
        "test_iter_bart = tt.data.BucketIterator(test_data_bart, \n",
        "                                   batch_size=1, \n",
        "                                   device=device,\n",
        "                                   repeat=False, \n",
        "                                   sort=False, \n",
        "                                   train=False)"
      ],
      "execution_count": 33,
      "outputs": [
        {
          "output_type": "stream",
          "text": [
            "Token indices sequence length is longer than the specified maximum sequence length for this model (1135 > 1024). Running this sequence through the model will result in indexing errors\n"
          ],
          "name": "stderr"
        }
      ]
    },
    {
      "cell_type": "markdown",
      "metadata": {
        "id": "BxBe4WIAj-jc"
      },
      "source": [
        "Let's take a look at the batch. Note that the shape of the batch is `batch_size x max_len`, instead of `max_len x batch_size` as in the previous part."
      ]
    },
    {
      "cell_type": "code",
      "metadata": {
        "id": "9CmhEATdj-jd",
        "colab": {
          "base_uri": "https://localhost:8080/"
        },
        "outputId": "2552269b-46c1-4c72-ebbf-748d55ed12d2"
      },
      "source": [
        "batch = next(iter(train_iter_bart))\n",
        "train_batch_text, train_batch_text_lengths = batch.src\n",
        "print (f\"Size of text batch: {train_batch_text.shape}\")\n",
        "print (f\"First sentence in batch: {train_batch_text[0]}\")\n",
        "print (f\"Length of the third sentence in batch: {train_batch_text_lengths[0]}\")\n",
        "print (f\"Converted back to string: {bart_detokenize(train_batch_text[0])}\")\n",
        "\n",
        "train_batch_sql = batch.tgt\n",
        "print (f\"Size of sql batch: {train_batch_sql.shape}\")\n",
        "print (f\"First sql in batch: {train_batch_sql[0]}\")\n",
        "print (f\"Converted back to string: {bart_detokenize(train_batch_sql[0])}\")"
      ],
      "execution_count": 34,
      "outputs": [
        {
          "output_type": "stream",
          "text": [
            "Size of text batch: torch.Size([1, 16])\n",
            "First sentence in batch: tensor([    0, 12196,    16,   110, 13342,   662,  2524,    31,  9473,   811,\n",
            "        20048,     7, 16224,   462, 17034,     2], device='cuda:0')\n",
            "Length of the third sentence in batch: 16\n",
            "Converted back to string: what is your earliest morning flight from indianapolis to charlotte\n",
            "Size of sql batch: torch.Size([1, 370])\n",
            "First sql in batch: tensor([    0, 49179,   211, 11595,  2444,  7164,  2524,  1215,   134,     4,\n",
            "        15801,  1215,   808, 11974,  2524,  2524,  1215,   134,  2156,  3062,\n",
            "         1215, 11131,  3062,  1215, 11131,  1215,   134,  2156,   343,   343,\n",
            "         1215,   134,  2156,  3062,  1215, 11131,  3062,  1215, 11131,  1215,\n",
            "          176,  2156,   343,   343,  1215,   176, 29919,  2524,  1215,   134,\n",
            "            4, 17272,  2013,  2407,  1215,   958,  5457,    36, 44664, 18335,\n",
            "           36,  2524,  1215,   134,     4, 17272,  2013,  2407,  1215,   958,\n",
            "         4839, 11974,  2524,  2524,  1215,   134,  2156,  3062,  1215, 11131,\n",
            "         3062,  1215, 11131,  1215,   134,  2156,   343,   343,  1215,   134,\n",
            "         2156,  3062,  1215, 11131,  3062,  1215, 11131,  1215,   176,  2156,\n",
            "          343,   343,  1215,   176, 29919,  2524,  1215,   134,     4,  7761,\n",
            "         1215,  2456,  3427,  5457,  3062,  1215, 11131,  1215,   134,     4,\n",
            "         2456,  3427,  1215, 20414,  4248,  3062,  1215, 11131,  1215,   134,\n",
            "            4, 14853,  1215, 20414,  5457,   343,  1215,   134,     4, 14853,\n",
            "         1215, 20414,  4248,   343,  1215,   134,     4, 14853,  1215, 13650,\n",
            "         5457,   128, 13796, 10296,   591,  3384,  1729,   108,  4248,    36,\n",
            "         2524,  1215,   134,     4,   560,  1215,  2456,  3427,  5457,  3062,\n",
            "         1215, 11131,  1215,   176,     4,  2456,  3427,  1215, 20414,  4248,\n",
            "         3062,  1215, 11131,  1215,   176,     4, 14853,  1215, 20414,  5457,\n",
            "          343,  1215,   176,     4, 14853,  1215, 20414,  4248,   343,  1215,\n",
            "          176,     4, 14853,  1215, 13650,  5457,   128, 29146,   574,  3293,\n",
            "         6433,   108,  4248,    36,  2524,  1215,   134,     4, 17272,  2013,\n",
            "         2407,  1215,   958, 24844,  9112,  2796,   321,  4248, 23777,  4248,\n",
            "          112,  5457,   112,  4839,  4839,  4839,  4248,    36,  2524,  1215,\n",
            "          134,     4,  7761,  1215,  2456,  3427,  5457,  3062,  1215, 11131,\n",
            "         1215,   134,     4,  2456,  3427,  1215, 20414,  4248,  3062,  1215,\n",
            "        11131,  1215,   134,     4, 14853,  1215, 20414,  5457,   343,  1215,\n",
            "          134,     4, 14853,  1215, 20414,  4248,   343,  1215,   134,     4,\n",
            "        14853,  1215, 13650,  5457,   128, 13796, 10296,   591,  3384,  1729,\n",
            "          108,  4248,    36,  2524,  1215,   134,     4,   560,  1215,  2456,\n",
            "         3427,  5457,  3062,  1215, 11131,  1215,   176,     4,  2456,  3427,\n",
            "         1215, 20414,  4248,  3062,  1215, 11131,  1215,   176,     4, 14853,\n",
            "         1215, 20414,  5457,   343,  1215,   176,     4, 14853,  1215, 20414,\n",
            "         4248,   343,  1215,   176,     4, 14853,  1215, 13650,  5457,   128,\n",
            "        29146,   574,  3293,  6433,   108,  4248,    36,  2524,  1215,   134,\n",
            "            4, 17272,  2013,  2407,  1215,   958, 24844,  9112,  2796,   321,\n",
            "         4248, 23777,  4248,   112,  5457,   112,  4839,  4839,  4839,     2],\n",
            "       device='cuda:0')\n",
            "Converted back to string: SELECT DISTINCT flight_1.flight_id FROM flight flight_1, airport_service airport_service_1, city city_1, airport_service airport_service_2, city city_2 WHERE flight_1.departure_time = ( SELECT MIN ( flight_1.departure_time ) FROM flight flight_1, airport_service airport_service_1, city city_1, airport_service airport_service_2, city city_2 WHERE flight_1.from_airport = airport_service_1.airport_code AND airport_service_1.city_code = city_1.city_code AND city_1.city_name = 'INDIANAPOLIS' AND ( flight_1.to_airport = airport_service_2.airport_code AND airport_service_2.city_code = city_2.city_code AND city_2.city_name = 'CHARLOTTE' AND ( flight_1.departure_time BETWEEN 0 AND 1200 AND 1 = 1 ) ) ) AND ( flight_1.from_airport = airport_service_1.airport_code AND airport_service_1.city_code = city_1.city_code AND city_1.city_name = 'INDIANAPOLIS' AND ( flight_1.to_airport = airport_service_2.airport_code AND airport_service_2.city_code = city_2.city_code AND city_2.city_name = 'CHARLOTTE' AND ( flight_1.departure_time BETWEEN 0 AND 1200 AND 1 = 1 ) ) )\n"
          ],
          "name": "stdout"
        }
      ]
    },
    {
      "cell_type": "markdown",
      "metadata": {
        "id": "Hlfy7PGfj-jd"
      },
      "source": [
        "Now we are ready to implement the BART-based approach for the text-to-SQL conversion problem. In the below `BART` class, we have provided the constructer `__init__`, the `forward` function, and the `predict` function. Your job is to implement the main optimization `train_all`, and `evaluate_ppl` for evaluating validation perplexity for model selection.\n",
        "\n",
        "> Hint: you can use almost the same `train_all` and `evaluate_ppl` function you implemented before, but here a major difference is that due to setting `batch_first=True`, the batched source/target tensors are of size `batch_size x max_len`, as opposed to `max_len x batch_size` in the LSTM-based approach, and you need to make changes in `train_all` and `evaluate_ppl` accordingly."
      ]
    },
    {
      "cell_type": "code",
      "metadata": {
        "id": "hAxCbe90j-jd"
      },
      "source": [
        "#TODO - finish implementing the `BART` class.\n",
        "class BART(nn.Module):\n",
        "  def __init__(self, tokenizer, pretrained_bart):\n",
        "    \"\"\"\n",
        "    Initializer. Creates network modules and loss function.\n",
        "    Arguments:\n",
        "        tokenizer: BART tokenizer\n",
        "        pretrained_bart: pretrained BART\n",
        "    \"\"\"\n",
        "    super(BART, self).__init__()\n",
        "    \n",
        "    self.V_tgt = len(tokenizer)\n",
        "    \n",
        "    # Get special word ids\n",
        "    self.padding_id_tgt = tokenizer.pad_token_id\n",
        "\n",
        "    # Create essential modules\n",
        "    self.bart = pretrained_bart\n",
        "\n",
        "    # Create loss function\n",
        "    self.loss_function = nn.CrossEntropyLoss(reduction=\"sum\", \n",
        "                                             ignore_index=self.padding_id_tgt)\n",
        "\n",
        "  def forward(self, src, src_lengths, tgt_in):\n",
        "    \"\"\"\n",
        "    Performs forward computation, returns logits.\n",
        "    Arguments:\n",
        "        src: src batch of size (batch_size, max_src_len)\n",
        "        src_lengths: src lengths of size (batch_size)\n",
        "        tgt_in:  a tensor of size (tgt_len, bsz)\n",
        "    \"\"\"\n",
        "    # BART assumes inputs to be batch-first\n",
        "    # This single function is forwarding both encoder and decoder (w/ cross attn),\n",
        "    # using `input_ids` as encoder inputs, and `decoder_input_ids`\n",
        "    # as decoder inputs.\n",
        "    logits = self.bart(input_ids=src, \n",
        "                       decoder_input_ids=tgt_in,\n",
        "                       use_cache=False\n",
        "                      ).logits\n",
        "    return logits\n",
        "\n",
        "  def evaluate_ppl(self, iterator):\n",
        "    \"\"\"Returns the model's perplexity on a given dataset `iterator`.\"\"\"\n",
        "    # Switch to eval mode\n",
        "    self.eval()\n",
        "    total_loss = 0\n",
        "    total_words = 0\n",
        "    for batch in iterator:\n",
        "      # Input and target\n",
        "      src, src_lengths = batch.src  # text: max_src_length, bsz\n",
        "      tgt = batch.tgt  # max_tgt_length, bsz\n",
        "      tgt_in = tgt[0][:-1].unsqueeze(0)  # Remove <eos> for decode input (y_0=<bos>, y_1, y_2)\n",
        "      tgt_out = tgt[0][1:].unsqueeze(0)  # Remove <bos> as target        (y_1, y_2, y_3=<eos>)\n",
        "      bsz = tgt.size(1)  # remove <bos> as target        (y_1, y_2, y_3=<eos>)\n",
        "      # Forward to get logits\n",
        "      logits = self.forward(src, src_lengths, tgt_in)\n",
        "      # Compute cross entropy loss\n",
        "      loss = self.loss_function(logits.squeeze(), tgt_out.squeeze())\n",
        "      total_loss += loss.item()\n",
        "      total_words += tgt_out.ne(self.padding_id_tgt).float().sum().item()\n",
        "    return math.exp(total_loss / total_words)\n",
        "\n",
        "  def train_all(self, train_iter, val_iter, epochs=10, learning_rate=0.001):\n",
        "    \"\"\"Train the model.\"\"\"\n",
        "    # Switch the module to training mode\n",
        "    self.train()\n",
        "    # Use Adam to optimize the parameters\n",
        "    optim = torch.optim.Adam(self.parameters(), lr=learning_rate)\n",
        "    best_validation_ppl = float('inf')\n",
        "    best_model = None\n",
        "    # Run the optimization for multiple epochs\n",
        "    for epoch in range(epochs):\n",
        "      total_words = 0\n",
        "      total_loss = 0.0\n",
        "      for batch in tqdm(train_iter):\n",
        "        # Zero the parameter gradients\n",
        "        self.zero_grad()\n",
        "        # Input and target\n",
        "        src, src_lengths = batch.src  # text: max_src_length, bsz\n",
        "        tgt = batch.tgt  # max_tgt_length, bsz\n",
        "        tgt_in = tgt[0][:-1].unsqueeze(0)  # Remove <eos> for decode input (y_0=<bos>, y_1, y_2)\n",
        "        tgt_out = tgt[0][1:].unsqueeze(0)  # Remove <bos> as target        (y_1, y_2, y_3=<eos>)\n",
        "        bsz = tgt.size(1)\n",
        "        # Run forward pass and compute loss along the way.\n",
        "        logits = self.forward(src, src_lengths, tgt_in)\n",
        "        loss = self.loss_function(logits.squeeze(), tgt_out.squeeze())\n",
        "        # Training stats\n",
        "        num_tgt_words = tgt_out.ne(self.padding_id_tgt).float().sum().item()\n",
        "        total_words += num_tgt_words\n",
        "        total_loss += loss.item()\n",
        "        # Perform backpropagation\n",
        "        loss.div(bsz).backward()\n",
        "        optim.step()\n",
        "\n",
        "      # Evaluate and track improvements on the validation dataset\n",
        "      validation_ppl = self.evaluate_ppl(val_iter)\n",
        "      self.train()\n",
        "      if validation_ppl < best_validation_ppl:\n",
        "        best_validation_ppl = validation_ppl\n",
        "        self.best_model = copy.deepcopy(self.state_dict())\n",
        "      epoch_loss = total_loss / total_words\n",
        "      print(f'Epoch: {epoch} Training Perplexity: {math.exp(epoch_loss):.4f} '\n",
        "            f'Validation Perplexity: {validation_ppl:.4f}')\n",
        "        \n",
        "  def predict(self, tokens, K=1, max_T=400):\n",
        "    \"\"\"\n",
        "    Generates the target sequence given the source sequence using beam search decoding. \n",
        "    Note that for simplicity, we only use batch size 1.\n",
        "    Arguments:\n",
        "        tokens: a list of strings, the source sentence.\n",
        "        max_T: at most proceed this many steps of decoding\n",
        "    Returns: \n",
        "        a string of the generated target sentence.\n",
        "    \"\"\"\n",
        "    string = ' '.join(tokens) # first convert to a string\n",
        "    # Tokenize and map to a list of word ids\n",
        "    inputs = torch.LongTensor(bart_tokenize(string)).to(device).view(1, -1)\n",
        "    # The `transformers` package provides built-in beam search support\n",
        "    prediction = self.bart.generate(inputs, \n",
        "                                    num_beams=K, \n",
        "                                    max_length=max_T, \n",
        "                                    early_stopping=True, \n",
        "                                    no_repeat_ngram_size=0,\n",
        "                                    decoder_start_token_id=0, \n",
        "                                    use_cache=True)[0]\n",
        "    return bart_detokenize(prediction)"
      ],
      "execution_count": 35,
      "outputs": []
    },
    {
      "cell_type": "markdown",
      "metadata": {
        "id": "-0wz5sVkj-je"
      },
      "source": [
        "The code below will kick off training, and evaluate the validation perplexity. You should expect to see a value very close to 1."
      ]
    },
    {
      "cell_type": "code",
      "metadata": {
        "id": "Y1rwvzIPj-je",
        "colab": {
          "base_uri": "https://localhost:8080/"
        },
        "outputId": "a3aede86-7c5a-49be-d837-170bbfc6893b"
      },
      "source": [
        "EPOCHS = 5 # epochs, we recommend starting with a smaller number like 1\n",
        "LEARNING_RATE = 1e-5 # learning rate\n",
        "\n",
        "# Instantiate and train classifier\n",
        "bart_model = BART(bart_tokenizer,\n",
        "                 pretrained_bart\n",
        ").to(device)\n",
        "\n",
        "bart_model.train_all(train_iter_bart, val_iter_bart, epochs=EPOCHS, learning_rate=LEARNING_RATE)\n",
        "bart_model.load_state_dict(bart_model.best_model)\n",
        "\n",
        "# Evaluate model performance, the expected value should be < 1.2\n",
        "print (f'Validation perplexity: {bart_model.evaluate_ppl(val_iter_bart):.3f}')"
      ],
      "execution_count": 36,
      "outputs": [
        {
          "output_type": "stream",
          "text": [
            "100%|██████████| 3651/3651 [07:31<00:00,  8.08it/s]\n",
            "  0%|          | 1/3651 [00:00<06:40,  9.12it/s]"
          ],
          "name": "stderr"
        },
        {
          "output_type": "stream",
          "text": [
            "Epoch: 0 Training Perplexity: 1.3980 Validation Perplexity: 1.0846\n"
          ],
          "name": "stdout"
        },
        {
          "output_type": "stream",
          "text": [
            "100%|██████████| 3651/3651 [07:31<00:00,  8.09it/s]\n",
            "  0%|          | 1/3651 [00:00<06:41,  9.10it/s]"
          ],
          "name": "stderr"
        },
        {
          "output_type": "stream",
          "text": [
            "Epoch: 1 Training Perplexity: 1.0916 Validation Perplexity: 1.0478\n"
          ],
          "name": "stdout"
        },
        {
          "output_type": "stream",
          "text": [
            "100%|██████████| 3651/3651 [07:31<00:00,  8.09it/s]\n",
            "  0%|          | 1/3651 [00:00<09:46,  6.22it/s]"
          ],
          "name": "stderr"
        },
        {
          "output_type": "stream",
          "text": [
            "Epoch: 2 Training Perplexity: 1.0565 Validation Perplexity: 1.0364\n"
          ],
          "name": "stdout"
        },
        {
          "output_type": "stream",
          "text": [
            "100%|██████████| 3651/3651 [07:31<00:00,  8.08it/s]\n",
            "  0%|          | 0/3651 [00:00<?, ?it/s]"
          ],
          "name": "stderr"
        },
        {
          "output_type": "stream",
          "text": [
            "Epoch: 3 Training Perplexity: 1.0399 Validation Perplexity: 1.0286\n"
          ],
          "name": "stdout"
        },
        {
          "output_type": "stream",
          "text": [
            "100%|██████████| 3651/3651 [07:30<00:00,  8.10it/s]\n"
          ],
          "name": "stderr"
        },
        {
          "output_type": "stream",
          "text": [
            "Epoch: 4 Training Perplexity: 1.0302 Validation Perplexity: 1.0243\n",
            "Validation perplexity: 1.024\n"
          ],
          "name": "stdout"
        }
      ]
    },
    {
      "cell_type": "markdown",
      "metadata": {
        "id": "VLCa2eFbj-jf"
      },
      "source": [
        "As before, make sure that your model is making reasonable predictions on a few examples before evaluating on the entire test set."
      ]
    },
    {
      "cell_type": "code",
      "metadata": {
        "id": "iqinu8kDj-jf"
      },
      "source": [
        "def bart_trial(sentence, gold_sql):\n",
        "  print(\"Sentence: \", sentence, \"\\n\")\n",
        "  tokens = tokenize(sentence)\n",
        "\n",
        "  predicted_sql = bart_model.predict(tokens, K=1, max_T=300)\n",
        "  print(\"Predicted SQL:\\n\\n\", predicted_sql, \"\\n\")\n",
        "\n",
        "  if verify(predicted_sql, gold_sql, silent=False):\n",
        "    print ('Correct!')\n",
        "  else:\n",
        "    print ('Incorrect!')"
      ],
      "execution_count": 110,
      "outputs": []
    },
    {
      "cell_type": "code",
      "metadata": {
        "id": "CRji5esrj-jf",
        "colab": {
          "base_uri": "https://localhost:8080/"
        },
        "outputId": "04921809-8100-4dd5-f73c-16d810f08a85"
      },
      "source": [
        "bart_trial(example_1, gold_sql_1)"
      ],
      "execution_count": 111,
      "outputs": [
        {
          "output_type": "stream",
          "text": [
            "Sentence:  flights from phoenix to milwaukee \n",
            "\n",
            "Predicted SQL:\n",
            "\n",
            " SELECT DISTINCT flight_1.flight_id FROM flight flight_1, airport_service airport_service_1, city city_1, airport_service airport_service_2, city city_2 WHERE flight_1.from_airport = airport_service_1.airport_code AND airport_service_1.city_code = city_1.city_code AND city_1.city_name = 'PHOENIX' AND flight_1.to_airport = airport_service_2.airport_code AND airport_service_2.city_code = city_2.city_code AND city_2.city_name = 'MILWAUKEE' \n",
            "\n",
            "Predicted DB result:\n",
            "\n",
            " [(108086,), (108087,), (301763,), (301764,), (301765,), (301766,), (302323,), (304881,), (310619,), (310620,)] \n",
            "\n",
            "Gold DB result:\n",
            "\n",
            " [(108086,), (108087,), (301763,), (301764,), (301765,), (301766,), (302323,), (304881,), (310619,), (310620,)] \n",
            "\n",
            "Correct!\n"
          ],
          "name": "stdout"
        }
      ]
    },
    {
      "cell_type": "code",
      "metadata": {
        "id": "HSRW0agsj-jf",
        "colab": {
          "base_uri": "https://localhost:8080/"
        },
        "outputId": "4ad626c7-450c-4aa5-ba7f-7ff03eabd65c"
      },
      "source": [
        "bart_trial(example_2, gold_sql_2)"
      ],
      "execution_count": 112,
      "outputs": [
        {
          "output_type": "stream",
          "text": [
            "Sentence:  i would like a united flight \n",
            "\n",
            "Predicted SQL:\n",
            "\n",
            " SELECT DISTINCT flight_1.flight_id FROM flight flight_1 WHERE flight_1.airline_code = 'UA' AND flight_1.flight_number = 1 \n",
            "\n",
            "Predicted DB result:\n",
            "\n",
            " [] \n",
            "\n",
            "Gold DB result:\n",
            "\n",
            " [(100094,), (100099,), (100145,), (100158,), (100164,), (100167,), (100169,), (100203,), (100204,), (100296,)] \n",
            "\n",
            "Incorrect!\n"
          ],
          "name": "stdout"
        }
      ]
    },
    {
      "cell_type": "code",
      "metadata": {
        "id": "Xug5EW9oj-jg",
        "colab": {
          "base_uri": "https://localhost:8080/"
        },
        "outputId": "15d23700-a50a-40d9-ccb4-cb23cce14306"
      },
      "source": [
        "bart_trial(example_3, gold_sql_3)"
      ],
      "execution_count": 113,
      "outputs": [
        {
          "output_type": "stream",
          "text": [
            "Sentence:  i would like a flight between boston and dallas \n",
            "\n",
            "Predicted SQL:\n",
            "\n",
            " SELECT DISTINCT flight_1.flight_id FROM flight flight_1, airport_service airport_service_1, city city_1, airport_service airport_service_2, city city_2 WHERE flight_1.from_airport = airport_service_1.airport_code AND airport_service_1.city_code = city_1.city_code AND city_1.city_name = 'BOSTON' AND flight_1.to_airport = airport_service_2.airport_code AND airport_service_2.city_code = city_2.city_code AND city_2.city_name = 'DALLAS' \n",
            "\n",
            "Predicted DB result:\n",
            "\n",
            " [(103171,), (103172,), (103173,), (103174,), (103175,), (103176,), (103177,), (103178,), (103179,), (103180,)] \n",
            "\n",
            "Gold DB result:\n",
            "\n",
            " [(103171,), (103172,), (103173,), (103174,), (103175,), (103176,), (103177,), (103178,), (103179,), (103180,)] \n",
            "\n",
            "Correct!\n"
          ],
          "name": "stdout"
        }
      ]
    },
    {
      "cell_type": "code",
      "metadata": {
        "id": "PNPRWZMnj-jg",
        "colab": {
          "base_uri": "https://localhost:8080/"
        },
        "outputId": "706348c6-2696-40a0-a20f-7b058d968d41"
      },
      "source": [
        "bart_trial(example_4, gold_sql_4)"
      ],
      "execution_count": 114,
      "outputs": [
        {
          "output_type": "stream",
          "text": [
            "Sentence:  show me the united flights from denver to baltimore \n",
            "\n",
            "Predicted SQL:\n",
            "\n",
            " SELECT DISTINCT flight_1.flight_id FROM flight flight_1, airport_service airport_service_1, city city_1, airport_service airport_service_2, city city_2 WHERE flight_1.airline_code = 'UA' AND ( flight_1.from_airport = airport_service_1.airport_code AND airport_service_1.city_code = city_1.city_code AND city_1.city_name = 'DENVER' AND flight_1.to_airport = airport_service_2.airport_code AND airport_service_2.city_code = city_2.city_code AND city_2.city_name = 'BALTIMORE' ) \n",
            "\n",
            "Predicted DB result:\n",
            "\n",
            " [(101231,), (101233,), (305983,)] \n",
            "\n",
            "Gold DB result:\n",
            "\n",
            " [(101231,), (101233,), (305983,)] \n",
            "\n",
            "Correct!\n"
          ],
          "name": "stdout"
        }
      ]
    },
    {
      "cell_type": "code",
      "metadata": {
        "id": "vt0IHPuhj-jg",
        "colab": {
          "base_uri": "https://localhost:8080/"
        },
        "outputId": "e849fa93-fecb-4da3-cd5a-116352539072"
      },
      "source": [
        "bart_trial(example_5, gold_sql_5)"
      ],
      "execution_count": 115,
      "outputs": [
        {
          "output_type": "stream",
          "text": [
            "Sentence:  show flights from cleveland to miami that arrive before 4pm \n",
            "\n",
            "Predicted SQL:\n",
            "\n",
            " SELECT DISTINCT flight_1.flight_id FROM flight flight_1, airport_service airport_service_1, city city_1, airport_service airport_service_2, city city_2 WHERE flight_1.from_airport = airport_service_1.airport_code AND airport_service_1.city_code = city_1.city_code AND city_1.city_name = 'CLEVELAND' AND ( flight_1.to_airport = airport_service_2.airport_code AND airport_service_2.city_code = city_2.city_code AND city_2.city_name = 'MIAMI' AND flight_1.arrival_time < 1600 ) \n",
            "\n",
            "Predicted DB result:\n",
            "\n",
            " [(107698,), (301117,)] \n",
            "\n",
            "Gold DB result:\n",
            "\n",
            " [(107698,), (301117,)] \n",
            "\n",
            "Correct!\n"
          ],
          "name": "stdout"
        }
      ]
    },
    {
      "cell_type": "code",
      "metadata": {
        "id": "u_UR5_jXj-jg",
        "colab": {
          "base_uri": "https://localhost:8080/"
        },
        "outputId": "0f7008be-f086-4b36-e024-1d8bb43fa359"
      },
      "source": [
        "bart_trial(example_6, gold_sql_6b)"
      ],
      "execution_count": 116,
      "outputs": [
        {
          "output_type": "stream",
          "text": [
            "Sentence:  okay how about a flight on sunday from tampa to charlotte \n",
            "\n",
            "Predicted SQL:\n",
            "\n",
            " SELECT DISTINCT flight_1.flight_id FROM flight flight_1, airport_service airport_service_1, city city_1, airport_service airport_service_2, city city_2, days days_1, date_day date_day_1 WHERE flight_1.from_airport = airport_service_1.airport_code AND airport_service_1.city_code = city_1.city_code AND city_1.city_name = 'TAMPA' AND ( flight_1.to_airport = airport_service_2.airport_code AND airport_service_2.city_code = city_2.city_code AND city_2.city_name = 'CHARLOTTE' AND flight_1.flight_days = days_1.days_code AND days_1.day_name = date_day_1.day_name AND date_day_1.year = 1991 AND date_day_1.month_number = 8 AND date_day_1.day_number = 27 ) \n",
            "\n",
            "Predicted DB result:\n",
            "\n",
            " [(101860,), (101861,), (101862,), (101863,), (101864,), (101865,), (305231,)] \n",
            "\n",
            "Gold DB result:\n",
            "\n",
            " [(101860,), (101861,), (101862,), (101863,), (101864,), (101865,), (305231,)] \n",
            "\n",
            "Correct!\n"
          ],
          "name": "stdout"
        }
      ]
    },
    {
      "cell_type": "code",
      "metadata": {
        "id": "jua-VMSxj-jh",
        "colab": {
          "base_uri": "https://localhost:8080/"
        },
        "outputId": "c0618daa-fa3e-4fe6-f15f-1f5439578d85"
      },
      "source": [
        "bart_trial(example_7, gold_sql_7b)"
      ],
      "execution_count": 122,
      "outputs": [
        {
          "output_type": "stream",
          "text": [
            "Sentence:  list all flights going from boston to atlanta before 7 am on thursday \n",
            "\n",
            "Predicted SQL:\n",
            "\n",
            " SELECT DISTINCT flight_1.flight_id FROM flight flight_1, airport_service airport_service_1, city city_1, airport_service airport_service_2, city city_2, days days_1, date_day date_day_1 WHERE flight_1.from_airport = airport_service_1.airport_code AND airport_service_1.city_code = city_1.city_code AND city_1.city_name = 'BOSTON' AND ( flight_1.to_airport = airport_service_2.airport_code AND airport_service_2.city_code = city_2.city_code AND city_2.city_name = 'ATLANTA' AND ( flight_1.flight_days = days_1.days_code AND days_1.day_name = date_day_1.day_name AND date_day_1.year = 1991 AND date_day_1.month_number = 5 AND date_day_1.day_number = 24 AND flight_1.departure_time < 1900 ) ) \n",
            "\n",
            "Predicted DB result:\n",
            "\n",
            " [(100014,), (100015,), (100016,), (100017,), (100018,), (100019,), (304692,), (307330,), (100020,), (307329,)] \n",
            "\n",
            "Gold DB result:\n",
            "\n",
            " [(100014,)] \n",
            "\n",
            "Incorrect!\n"
          ],
          "name": "stdout"
        }
      ]
    },
    {
      "cell_type": "code",
      "metadata": {
        "id": "OeJUZm-yj-jh",
        "colab": {
          "base_uri": "https://localhost:8080/"
        },
        "outputId": "61f8a166-0152-4921-8c5a-9130ca5bbc54"
      },
      "source": [
        "bart_trial(example_8, gold_sql_8)"
      ],
      "execution_count": 118,
      "outputs": [
        {
          "output_type": "stream",
          "text": [
            "Sentence:  list the flights from dallas to san francisco on american airlines \n",
            "\n",
            "Predicted SQL:\n",
            "\n",
            " SELECT DISTINCT flight_1.flight_id FROM flight flight_1, airport_service airport_service_1, city city_1, airport_service airport_service_2, city city_2 WHERE flight_1.airline_code = 'AA' AND ( flight_1.from_airport = airport_service_1.airport_code AND airport_service_1.city_code = city_1.city_code AND city_1.city_name = 'DALLAS' AND flight_1.to_airport = airport_service_2.airport_code AND airport_service_2.city_code = city_2.city_code AND city_2.city_name = 'SAN FRANCISCO' ) \n",
            "\n",
            "Predicted DB result:\n",
            "\n",
            " [(108452,), (108454,), (108456,), (111083,), (111085,), (111086,), (111090,), (111091,), (111092,), (111094,)] \n",
            "\n",
            "Gold DB result:\n",
            "\n",
            " [(108452,), (108454,), (108456,), (111083,), (111085,), (111086,), (111090,), (111091,), (111092,), (111094,)] \n",
            "\n",
            "Correct!\n"
          ],
          "name": "stdout"
        }
      ]
    },
    {
      "cell_type": "markdown",
      "metadata": {
        "id": "8vYGRiXoj-jh"
      },
      "source": [
        "### Evaluation"
      ]
    },
    {
      "cell_type": "markdown",
      "metadata": {
        "id": "xpiekdZ6j-jh"
      },
      "source": [
        "The code below will evaluate on the entire test set. You should expect to see precision/recall/F1 greater than 40%."
      ]
    },
    {
      "cell_type": "code",
      "metadata": {
        "id": "dPigtwnfj-jh"
      },
      "source": [
        "def seq2seq_predictor_bart(tokens):\n",
        "  prediction = bart_model.predict(tokens, K=4, max_T=400)\n",
        "  return prediction"
      ],
      "execution_count": 123,
      "outputs": []
    },
    {
      "cell_type": "code",
      "metadata": {
        "id": "Bf8oN14vj-ji",
        "colab": {
          "base_uri": "https://localhost:8080/"
        },
        "outputId": "d88124b3-9e7c-42af-c7cc-3fa6bf98e8ac"
      },
      "source": [
        "precision, recall, f1 = evaluate(seq2seq_predictor_bart, test_iter.dataset, num_examples=0)\n",
        "print(f\"precision: {precision:3.2f}\")\n",
        "print(f\"recall:    {recall:3.2f}\")\n",
        "print(f\"F1:        {f1:3.2f}\")"
      ],
      "execution_count": 126,
      "outputs": [
        {
          "output_type": "stream",
          "text": [
            "100%|██████████| 332/332 [22:07<00:00,  4.00s/it]"
          ],
          "name": "stderr"
        },
        {
          "output_type": "stream",
          "text": [
            "precision: 0.50\n",
            "recall:    0.50\n",
            "F1:        0.50\n"
          ],
          "name": "stdout"
        },
        {
          "output_type": "stream",
          "text": [
            "\n"
          ],
          "name": "stderr"
        }
      ]
    },
    {
      "cell_type": "markdown",
      "metadata": {
        "deletable": false,
        "editable": false,
        "id": "HdEmc14zj-ji"
      },
      "source": [
        "<!-- BEGIN QUESTION -->\n",
        "\n",
        "## Debrief\n",
        "\n",
        "**Question:** We're interested in any thoughts you have about this project segment so that we can improve it for later years, and to inform later segments for this year. Please list any issues that arose or comments you have to improve the project segment. Useful things to comment on include the following: \n",
        "\n",
        "* Was the project segment clear or unclear? Which portions?\n",
        "* Were the readings appropriate background for the project segment? \n",
        "* Are there additions or changes you think would make the project segment better?\n",
        "\n",
        "<!--\n",
        "BEGIN QUESTION\n",
        "name: open_response_debrief\n",
        "manual: true\n",
        "-->"
      ]
    },
    {
      "cell_type": "markdown",
      "metadata": {
        "id": "latest-mercy"
      },
      "source": [
        "The project  segment was clear and the reading and previous labs were apropriate and useful."
      ]
    },
    {
      "cell_type": "markdown",
      "metadata": {
        "id": "RtlQDzELj-ji"
      },
      "source": [
        "<!-- END QUESTION -->\n",
        "\n",
        "\n",
        "\n",
        "## Instructions for submission of the project segment\n",
        "\n",
        "This project segment should be submitted to Gradescope, which will be made available some time before the due date.\n",
        "\n",
        "Project segment notebooks are manually graded, not autograded using otter as labs are. (Otter is used within project segment notebooks to synchronize distribution and solution code however.) **We will not run your notebook before grading it.** Instead, we ask that you submit the already freshly run notebook. The best method is to \"restart kernel and run all cells\", allowing time for all cells to be run to completion.\n",
        "\n",
        "We also request that you **submit a PDF of the freshly run notebook**. The simplest method is to use \"Export notebook to PDF\", which will render the notebook to PDF via LaTeX. If that doesn't work, the method that seems to be most reliable is to export the notebook as HTML (if you are using Jupyter Notebook, you can do so using `File -> Print Preview`), open the HTML in a browser, and print it to a file. Then make sure to add the file to your git commit. Please name the file the same name as this notebook, but with a `.pdf` extension. (Conveniently, the methods just described will use that name by default.) You can then perform a git commit and push and submit the commit to Gradescope."
      ]
    },
    {
      "cell_type": "markdown",
      "metadata": {
        "id": "6VbVoA7Sj-jj"
      },
      "source": [
        "# End of project segment 4"
      ]
    }
  ]
}