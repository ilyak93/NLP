{
  "nbformat": 4,
  "nbformat_minor": 0,
  "metadata": {
    "kernelspec": {
      "display_name": "Python 3",
      "language": "python",
      "name": "python3"
    },
    "language_info": {
      "codemirror_mode": {
        "name": "ipython",
        "version": 3
      },
      "file_extension": ".py",
      "mimetype": "text/x-python",
      "name": "python",
      "nbconvert_exporter": "python",
      "pygments_lexer": "ipython3",
      "version": "3.8.3"
    },
    "title": "CS187 Lab 2-4: Sequence labeling with hidden Markov models",
    "colab": {
      "name": "Copy of lab2-4.ipynb",
      "provenance": [],
      "collapsed_sections": []
    }
  },
  "cells": [
    {
      "cell_type": "code",
      "metadata": {
        "deletable": false,
        "editable": false,
        "jupyter": {
          "outputs_hidden": true,
          "source_hidden": true
        },
        "id": "GQ-7SGvGyJR1",
        "colab": {
          "base_uri": "https://localhost:8080/"
        },
        "outputId": "a263832e-d08e-4cbb-c727-811c04919f66"
      },
      "source": [
        "# Please do not change this cell because some hidden tests might depend on it.\n",
        "import os\n",
        "\n",
        "# Otter grader does not handle ! commands well, so we define and use our\n",
        "# own function to execute shell commands.\n",
        "def shell(commands, warn=True):\n",
        "    \"\"\"Executes the string `commands` as a sequence of shell commands.\n",
        "     \n",
        "       Prints the result to stdout and returns the exit status. \n",
        "       Provides a printed warning on non-zero exit status unless `warn` \n",
        "       flag is unset.\n",
        "    \"\"\"\n",
        "    file = os.popen(commands)\n",
        "    print (file.read().rstrip('\\n'))\n",
        "    exit_status = file.close()\n",
        "    if warn and exit_status != None:\n",
        "        print(f\"Completed with errors. Exit status: {exit_status}\\n\")\n",
        "    return exit_status\n",
        "\n",
        "shell(\"\"\"\n",
        "ls requirements.txt >/dev/null 2>&1\n",
        "if [ ! $? = 0 ]; then\n",
        " rm -rf .tmp\n",
        " git clone https://github.com/cs236299-2020/lab2-4.git .tmp\n",
        " mv .tmp/tests ./\n",
        " mv .tmp/requirements.txt ./\n",
        " rm -rf .tmp\n",
        "fi\n",
        "pip install -q -r requirements.txt\n",
        "\"\"\")"
      ],
      "execution_count": 2,
      "outputs": [
        {
          "output_type": "stream",
          "text": [
            "\n"
          ],
          "name": "stdout"
        }
      ]
    },
    {
      "cell_type": "code",
      "metadata": {
        "deletable": false,
        "editable": false,
        "id": "DLcm5huiyJR2"
      },
      "source": [
        "# Initialize Otter\n",
        "import otter\n",
        "grader = otter.Notebook()"
      ],
      "execution_count": 3,
      "outputs": []
    },
    {
      "cell_type": "markdown",
      "metadata": {
        "jupyter": {
          "source_hidden": true
        },
        "id": "JcI6ake9yJR2"
      },
      "source": [
        "%%latex\n",
        "\\newcommand{\\vect}[1]{\\mathbf{#1}}\n",
        "\\newcommand{\\cnt}[1]{\\sharp(#1)}\n",
        "\\newcommand{\\argmax}[1]{\\underset{#1}{\\operatorname{argmax}}}\n",
        "\\newcommand{\\softmax}{\\operatorname{softmax}}\n",
        "\\newcommand{\\Prob}{\\Pr}\n",
        "\\newcommand{\\given}{\\,|\\,}"
      ]
    },
    {
      "cell_type": "markdown",
      "metadata": {
        "id": "mDGWNaYzyJR2"
      },
      "source": [
        "$$\n",
        "\\renewcommand{\\vect}[1]{\\mathbf{#1}}\n",
        "\\renewcommand{\\cnt}[1]{\\sharp(#1)}\n",
        "\\renewcommand{\\argmax}[1]{\\underset{#1}{\\operatorname{argmax}}}\n",
        "\\renewcommand{\\softmax}{\\operatorname{softmax}}\n",
        "\\renewcommand{\\Prob}{\\Pr}\n",
        "\\renewcommand{\\given}{\\,|\\,}\n",
        "$$"
      ]
    },
    {
      "cell_type": "markdown",
      "metadata": {
        "id": "JPAwSuUCyJR2"
      },
      "source": [
        "# Course 236299\n",
        "## Lab 2-4 – Sequence labeling with hidden Markov models"
      ]
    },
    {
      "cell_type": "code",
      "metadata": {
        "deletable": false,
        "editable": false,
        "id": "39kM78PmyJR2"
      },
      "source": [
        "import math\n",
        "from collections import defaultdict"
      ],
      "execution_count": 4,
      "outputs": []
    },
    {
      "cell_type": "markdown",
      "metadata": {
        "id": "tc63Dub3yJR2"
      },
      "source": [
        "Hidden Markov models (HMM) are a fundamental generative method for sequence labeling NLP tasks such as part-of-speech tagging (as in the present lab) and information extraction (as in the second project segment). In this lab, you'll train, apply, and evaluate some simple sequence labeling algorithms culminating in HMM.\n",
        "\n",
        "To keep things manageable, the dataset you'll use will involve very few word types, only six (plus a special beginning of sentence token), but these are quite ambiguous with regard to part of speech. We'll use the following codes for parts of speech:"
      ]
    },
    {
      "cell_type": "code",
      "metadata": {
        "id": "BYOJUrH2yJR2"
      },
      "source": [
        "parts_of_speech = [\n",
        "    \"<bos>\", # beginning of sentence marker\n",
        "    \"N\",     # noun\n",
        "    \"V\",     # main verb\n",
        "    \"M\",     # modal verb\n",
        "    \"P\",     # preposition\n",
        "    \"A\",     # adjective\n",
        "    \"R\"      # adverb\n",
        "]"
      ],
      "execution_count": 5,
      "outputs": []
    },
    {
      "cell_type": "markdown",
      "metadata": {
        "id": "qnsBBFj-yJR3"
      },
      "source": [
        "The vocabulary of word types, along with their parts of speech, is given by the following dictionary:"
      ]
    },
    {
      "cell_type": "code",
      "metadata": {
        "id": "jt2L20OgyJR3"
      },
      "source": [
        "vocabulary = {\n",
        "    \"<bos>\":   [\"<bos>\"],\n",
        "    \"can\":     [\"N\", \"V\", \"M\"],\n",
        "    \"canned\":  [\"A\", \"V\"],\n",
        "    \"canners\": [\"N\"],\n",
        "    \"fish\":    [\"N\", \"V\"],\n",
        "    \"for\":     [\"P\"],\n",
        "    \"not\":     [\"R\"]\n",
        "}"
      ],
      "execution_count": 6,
      "outputs": []
    },
    {
      "cell_type": "markdown",
      "metadata": {
        "id": "7wMMZxw5yJR4"
      },
      "source": [
        "Here are a few sentences constructed with these words:"
      ]
    },
    {
      "cell_type": "code",
      "metadata": {
        "id": "ti9PCqzuyJR5"
      },
      "source": [
        "text = \"\"\"\n",
        "    <bos> canners canned fish\n",
        "    <bos> can canners can fish\n",
        "    <bos> fish can not fish\n",
        "    <bos> can fish can fish can\n",
        "    <bos> canners fish fish for can\n",
        "    <bos> canners can fish for fish\n",
        "    <bos> canners fish for fish\n",
        "    <bos> fish can canned fish\n",
        "    <bos> canners can not can canned fish\n",
        "    <bos> fish can can fish for canners\n",
        "\"\"\""
      ],
      "execution_count": 7,
      "outputs": []
    },
    {
      "cell_type": "markdown",
      "metadata": {
        "id": "7NE7l6AtyJR5"
      },
      "source": [
        "and the corresponding POS sequences:"
      ]
    },
    {
      "cell_type": "code",
      "metadata": {
        "id": "65BbQq0UyJR5"
      },
      "source": [
        "text_pos = \"\"\"\n",
        "    <bos> N V N\n",
        "    <bos> M N V N\n",
        "    <bos> N M R V\n",
        "    <bos> M N V N N\n",
        "    <bos> N V N P N\n",
        "    <bos> N M V P N\n",
        "    <bos> N V P N\n",
        "    <bos> N V A N\n",
        "    <bos> N M R V A N\n",
        "    <bos> N M V N P N\n",
        "\"\"\""
      ],
      "execution_count": 8,
      "outputs": []
    },
    {
      "cell_type": "markdown",
      "metadata": {
        "id": "UjEzOrOGyJR5"
      },
      "source": [
        "We tokenize the sentences and label the tokens with their POS."
      ]
    },
    {
      "cell_type": "code",
      "metadata": {
        "id": "xn-xkFeYyJR5"
      },
      "source": [
        "def tokenize(text):\n",
        "  result = []\n",
        "  for line in text.strip().split(\"\\n\"):\n",
        "    result.append([item for item in line.strip().split()])\n",
        "  return result\n",
        "\n",
        "tagged_text = [list(zip(sentence, poses))\n",
        "                 for sentence, poses \n",
        "                   in zip(tokenize(text), tokenize(text_pos))]"
      ],
      "execution_count": 9,
      "outputs": []
    },
    {
      "cell_type": "markdown",
      "metadata": {
        "id": "wLfdnb_syJR5"
      },
      "source": [
        "Here are a couple of examples to indicate what the tagged sentences look like."
      ]
    },
    {
      "cell_type": "code",
      "metadata": {
        "id": "J5A6l4qIyJR5",
        "colab": {
          "base_uri": "https://localhost:8080/"
        },
        "outputId": "cbb0ed4c-0c5f-4170-ee57-d1d32995171e"
      },
      "source": [
        "print(tagged_text[0])\n",
        "print(tagged_text[1])"
      ],
      "execution_count": 10,
      "outputs": [
        {
          "output_type": "stream",
          "text": [
            "[('<bos>', '<bos>'), ('canners', 'N'), ('canned', 'V'), ('fish', 'N')]\n",
            "[('<bos>', '<bos>'), ('can', 'M'), ('canners', 'N'), ('can', 'V'), ('fish', 'N')]\n"
          ],
          "name": "stdout"
        }
      ]
    },
    {
      "cell_type": "markdown",
      "metadata": {
        "id": "il7yswHzyJR5"
      },
      "source": [
        "For reference, here is a table showing the frequency distribution for each word type and each part of speech it can be used as."
      ]
    },
    {
      "cell_type": "code",
      "metadata": {
        "id": "hYBpcR4pyJR5",
        "colab": {
          "base_uri": "https://localhost:8080/"
        },
        "outputId": "68aefaff-7806-4f17-c57d-89aa0b7230d8"
      },
      "source": [
        "counts = defaultdict(lambda: defaultdict(int))\n",
        "for sentence in tagged_text:\n",
        "  for type, pos in sentence:\n",
        "    counts[type][pos] += 1\n",
        "\n",
        "print(f'{\"TYPE\":8} {\"POS\":6} {\"COUNT\"}')\n",
        "for type, type_counts in counts.items():\n",
        "  for pos, count in type_counts.items():\n",
        "    print(f'{type:8} {pos:6} {count:2}')"
      ],
      "execution_count": 11,
      "outputs": [
        {
          "output_type": "stream",
          "text": [
            "TYPE     POS    COUNT\n",
            "<bos>    <bos>  10\n",
            "canners  N       7\n",
            "canned   V       1\n",
            "canned   A       2\n",
            "fish     N      13\n",
            "fish     V       4\n",
            "can      M       6\n",
            "can      V       5\n",
            "can      N       2\n",
            "not      R       2\n",
            "for      P       4\n"
          ],
          "name": "stdout"
        }
      ]
    },
    {
      "cell_type": "markdown",
      "metadata": {
        "deletable": false,
        "editable": false,
        "id": "v4IzQsvHyJR5"
      },
      "source": [
        "## Majority label\n",
        "The first sequence labeling method we'll use is simply to choose for each word the POS label it most frequently occurs as in the training data. The table above provides the required information directly.\n",
        "\n",
        "Choosing the majority label for a word sequence $\\vect{x} = \\langle{x_1, x_2, \\ldots, x_m}\\rangle$ is tantamount to maximizing the probability of the label sequence assuming independence of the label conditioned on the word, that is, selecting the tag sequence $\\vect{t} = \\langle{t_1, t_2, \\ldots, t_m}\\rangle$ given by\n",
        "$$ \\argmax{\\vect{t}} \\prod_{i=1}^m \\Prob(t_i \\given x_i) $$\n",
        "\n",
        "How would the majority label method label the following test sentence (which we've marked with the words' correct (\"gold\") parts of speech)?\n",
        "\n",
        "> \\<bos\\>[\\<bos\\>] canners[N] can[V] canned[A] fish[N]\n",
        "\n",
        "Write a function that receives a list of words, and returns a list of the corresponding POS tags.\n",
        "<!--\n",
        "BEGIN QUESTION\n",
        "name: example_majority_labeling\n",
        "-->"
      ]
    },
    {
      "cell_type": "code",
      "metadata": {
        "id": "fQNXkd2ayJR6"
      },
      "source": [
        "#TODO\n",
        "text = '<bos> canners can canned fish'\n",
        "\n",
        "def pos_label_majority(input_seq):\n",
        "    pos_tags = [max(counts[word], key=counts[word].get) for word in input_seq]\n",
        "    return pos_tags\n",
        "example_majority_labeling = pos_label_majority(text.split())"
      ],
      "execution_count": 12,
      "outputs": []
    },
    {
      "cell_type": "code",
      "metadata": {
        "deletable": false,
        "editable": false,
        "id": "lfl_DF-3yJR6",
        "colab": {
          "base_uri": "https://localhost:8080/",
          "height": 46
        },
        "outputId": "83b63ea6-6233-4558-d05b-ecc47092b77e"
      },
      "source": [
        "grader.check(\"example_majority_labeling\")"
      ],
      "execution_count": 13,
      "outputs": [
        {
          "output_type": "execute_result",
          "data": {
            "text/html": [
              "\n",
              "    \n",
              "    \n",
              "        <p>All tests passed!</p>\n",
              "    \n",
              "    "
            ],
            "text/plain": [
              "\n",
              "    All tests passed!\n",
              "    "
            ]
          },
          "metadata": {
            "tags": []
          },
          "execution_count": 13
        }
      ]
    },
    {
      "cell_type": "markdown",
      "metadata": {
        "deletable": false,
        "editable": false,
        "id": "AbtmxAGByJR6"
      },
      "source": [
        "What is the accuracy of the majority labeling, given as a proportion of the words?\n",
        "<!--\n",
        "BEGIN QUESTION\n",
        "name: example_maj_label_accuracy\n",
        "-->"
      ]
    },
    {
      "cell_type": "code",
      "metadata": {
        "id": "DgZ2ZF1-yJR6"
      },
      "source": [
        "#TODO\n",
        "gold_example_pos_labels = [\"<bos>\", \"N\", \"V\", \"A\", \"N\"]\n",
        "example_maj_label_accuracy = sum([y==y_hat for (y,y_hat) in zip(gold_example_pos_labels, example_majority_labeling)])/len(gold_example_pos_labels)"
      ],
      "execution_count": 14,
      "outputs": []
    },
    {
      "cell_type": "code",
      "metadata": {
        "deletable": false,
        "editable": false,
        "id": "xy07BiZmyJR6",
        "colab": {
          "base_uri": "https://localhost:8080/",
          "height": 46
        },
        "outputId": "f2d4c276-2e28-4d70-c72e-f68dbb05d053"
      },
      "source": [
        "grader.check(\"example_maj_label_accuracy\")"
      ],
      "execution_count": 15,
      "outputs": [
        {
          "output_type": "execute_result",
          "data": {
            "text/html": [
              "\n",
              "    \n",
              "    \n",
              "        <p>All tests passed!</p>\n",
              "    \n",
              "    "
            ],
            "text/plain": [
              "\n",
              "    All tests passed!\n",
              "    "
            ]
          },
          "metadata": {
            "tags": []
          },
          "execution_count": 15
        }
      ]
    },
    {
      "cell_type": "markdown",
      "metadata": {
        "deletable": false,
        "editable": false,
        "id": "XSBNjuIByJR6"
      },
      "source": [
        "## Majority bigram labeling\n",
        "\n",
        "It may occur to you that what part of speech a word has _depends on its context_. Suppose we relax the assumption that tag probabilities depend only on the word being tagged, and condition them on the previous word as well. (For the first word in the sentence, we'll condition on that fact, by conditioning it on the special start token.) In summary, we'll condition on the bigram that ends at the word being tagged:\n",
        "$$ \\argmax{\\vect{t}} \\prod_{i=1}^m \\Prob(t_i \\given x_{i-1} x_i) $$\n",
        "\n",
        "What is the majority bigram labeling of the test sentence? Again, give your answer in the form of a list of strings for the POS labels.\n",
        "You can either write a function that computes the answer or find the answer manually.\n",
        "<!--\n",
        "BEGIN QUESTION\n",
        "name: example_majority_bigram_labeling\n",
        "-->"
      ]
    },
    {
      "cell_type": "code",
      "metadata": {
        "id": "eMYXPa9SyJR6"
      },
      "source": [
        "#TODO\n",
        "example_majority_bigram_labeling = ['<bos>', 'N', 'M', 'A', 'N']"
      ],
      "execution_count": 16,
      "outputs": []
    },
    {
      "cell_type": "code",
      "metadata": {
        "deletable": false,
        "editable": false,
        "id": "7UPGwPIeyJR6",
        "colab": {
          "base_uri": "https://localhost:8080/",
          "height": 46
        },
        "outputId": "58f2777c-9e30-4ab7-a484-d98ba83c4195"
      },
      "source": [
        "grader.check(\"example_majority_bigram_labeling\")"
      ],
      "execution_count": 17,
      "outputs": [
        {
          "output_type": "execute_result",
          "data": {
            "text/html": [
              "\n",
              "    \n",
              "    \n",
              "        <p>All tests passed!</p>\n",
              "    \n",
              "    "
            ],
            "text/plain": [
              "\n",
              "    All tests passed!\n",
              "    "
            ]
          },
          "metadata": {
            "tags": []
          },
          "execution_count": 17
        }
      ]
    },
    {
      "cell_type": "markdown",
      "metadata": {
        "deletable": false,
        "editable": false,
        "id": "xxT8n_CyyJR6"
      },
      "source": [
        "What is the accuracy of the majority bigram labeling, given as a proportion of the words?\n",
        "<!--\n",
        "BEGIN QUESTION\n",
        "name: example_maj_bigram_label_accuracy\n",
        "-->"
      ]
    },
    {
      "cell_type": "code",
      "metadata": {
        "id": "kzO0I1k4yJR6"
      },
      "source": [
        "#TODO\n",
        "gold_example_pos_labels = [\"<bos>\", \"N\", \"V\", \"A\", \"N\"]\n",
        "example_maj_bigram_label_accuracy = sum([y==y_hat for (y,y_hat) in zip(gold_example_pos_labels, example_majority_bigram_labeling)])/len(gold_example_pos_labels)"
      ],
      "execution_count": 18,
      "outputs": []
    },
    {
      "cell_type": "code",
      "metadata": {
        "deletable": false,
        "editable": false,
        "id": "-Na_uJc2yJR6",
        "colab": {
          "base_uri": "https://localhost:8080/",
          "height": 46
        },
        "outputId": "46b7d2a1-0f57-4d2f-f1ea-c1d119f09814"
      },
      "source": [
        "grader.check(\"example_maj_bigram_label_accuracy\")"
      ],
      "execution_count": 19,
      "outputs": [
        {
          "output_type": "execute_result",
          "data": {
            "text/html": [
              "\n",
              "    \n",
              "    \n",
              "        <p>All tests passed!</p>\n",
              "    \n",
              "    "
            ],
            "text/plain": [
              "\n",
              "    All tests passed!\n",
              "    "
            ]
          },
          "metadata": {
            "tags": []
          },
          "execution_count": 19
        }
      ]
    },
    {
      "cell_type": "markdown",
      "metadata": {
        "id": "gwG-SM8-yJR6"
      },
      "source": [
        "## Hidden Markov models\n",
        "\n",
        "Now we get to the real point, using an HMM model. Recall that in an HMM model, we assume that the joint tag/word sequence is generated by \n",
        "\n",
        "1. Selecting a tag sequence according to a Markov model whose states correspond to tags and whose transitions from state $t_i$ to $t_j$ are governed by a _transition probability_ $a_{ij} = \\Prob(t_i \\rightarrow t_j)$, and then\n",
        "2. Selecting a word sequence from the tag sequence where for tag $t_i$ we observe word $x_i$ of type $w_j$ governed by an _emission probability_ $b_{i}(w_j) = \\Prob(t_i \\rightarrow w_j)$.\n",
        "\n",
        "### Estimating the transition and emission probabilities\n",
        "\n",
        "We estimate these transition and emission probabilities by looking at the empirical probabilities in the training data, counting and perhaps smoothing as usual. That is, for the (unsmoothed) transition probabilities, we estimate\n",
        "$$ a_{ij} \\approx \\frac{\\cnt{t_i \\rightarrow t_j}}{\\cnt{t_i}} $$\n",
        "and for the emission probabilities\n",
        "$$ b_i(w_j) \\approx \\frac{\\cnt{t_i \\rightarrow w_j}}{\\cnt{t_i}} $$\n",
        "\n",
        "For instance, we note that there are 4 times in the training data where the tag $N$ is followed by the tag $M$, out of the 21 occurrences of the tag $N$. Thus, we estimate the corresponding transition probability $a_{NM} \\approx 4/21$.\n",
        "\n",
        "\n",
        "Similarly, the emission probability $b_M(can)$ for tag $M$ generating the word $can$ is $6/6 = 1$, since every occurrence of the tag $M$ corresponds to the word $can$ in the training data.\n",
        "\n",
        "For your convenience, we've computed and provided full tables for the transition and emission probabilities below."
      ]
    },
    {
      "cell_type": "code",
      "metadata": {
        "id": "My_ntWwJyJR6",
        "colab": {
          "base_uri": "https://localhost:8080/"
        },
        "outputId": "e04fb860-1e8d-46ca-e708-815f9324e6d9"
      },
      "source": [
        "# Generate counts\n",
        "bigram_tag_counts = defaultdict(lambda: defaultdict(int))\n",
        "unigram_tag_counts = defaultdict(int)\n",
        "tag_word_counts = defaultdict(lambda: defaultdict(int))\n",
        "tag_counts = defaultdict(int)\n",
        "\n",
        "for sentence in tagged_text:\n",
        "    for (w1, t1), (w2, t2) in list(zip(sentence, sentence[1:])):\n",
        "        bigram_tag_counts[t1][t2] += 1\n",
        "        unigram_tag_counts[t1] += 1\n",
        "    for w, t in sentence:\n",
        "        tag_word_counts[t][w] += 1\n",
        "        tag_counts[t] += 1\n",
        "\n",
        "# Generate transition and emission probabilities\n",
        "a = defaultdict(lambda: defaultdict(int))\n",
        "b = defaultdict(lambda: defaultdict(int))\n",
        "\n",
        "for t1 in parts_of_speech:\n",
        "    for t2 in parts_of_speech:\n",
        "        a[t1][t2] = bigram_tag_counts[t1][t2] / unigram_tag_counts[t1]\n",
        "    for w1 in vocabulary.keys():\n",
        "        b[t1][w1] = tag_word_counts[t1][w1] / tag_counts[t1]\n",
        "\n",
        "# Print tables of probabilities\n",
        "\n",
        "print(\"Transition probabilities: a_ij\")\n",
        "print(f\"{' ':6}\", end=\"\")\n",
        "for t in parts_of_speech:\n",
        "    print(f\"{t:>6}\", end=\"\")\n",
        "print()\n",
        "for t1 in parts_of_speech:\n",
        "    print(f\"{t1:<6}\", end=\"\")\n",
        "    for t2 in parts_of_speech:\n",
        "        print(f\"{a[t1][t2]:>6.2f}\", end=\"\")\n",
        "    print(\"\")\n",
        " \n",
        "print(\"\\nEmission probabilities: b_i(w_j)\")\n",
        "print(f\"{' ':6}\", end=\"\")\n",
        "for w in vocabulary.keys():\n",
        "    print(f\"{w:>8}\", end=\"\")\n",
        "print()\n",
        "for t in parts_of_speech:\n",
        "    print(f\"{t:<6}\", end=\"\")\n",
        "    for w in vocabulary.keys():\n",
        "        print(f\"{b[t][w]:>8.2f}\", end=\"\")\n",
        "    print()"
      ],
      "execution_count": 20,
      "outputs": [
        {
          "output_type": "stream",
          "text": [
            "Transition probabilities: a_ij\n",
            "       <bos>     N     V     M     P     A     R\n",
            "<bos>   0.00  0.80  0.00  0.20  0.00  0.00  0.00\n",
            "N       0.00  0.08  0.46  0.31  0.15  0.00  0.00\n",
            "V       0.00  0.56  0.00  0.00  0.22  0.22  0.00\n",
            "M       0.00  0.33  0.33  0.00  0.00  0.00  0.33\n",
            "P       0.00  1.00  0.00  0.00  0.00  0.00  0.00\n",
            "A       0.00  1.00  0.00  0.00  0.00  0.00  0.00\n",
            "R       0.00  0.00  1.00  0.00  0.00  0.00  0.00\n",
            "\n",
            "Emission probabilities: b_i(w_j)\n",
            "         <bos>     can  canned canners    fish     for     not\n",
            "<bos>     1.00    0.00    0.00    0.00    0.00    0.00    0.00\n",
            "N         0.00    0.09    0.00    0.32    0.59    0.00    0.00\n",
            "V         0.00    0.50    0.10    0.00    0.40    0.00    0.00\n",
            "M         0.00    1.00    0.00    0.00    0.00    0.00    0.00\n",
            "P         0.00    0.00    0.00    0.00    0.00    1.00    0.00\n",
            "A         0.00    0.00    1.00    0.00    0.00    0.00    0.00\n",
            "R         0.00    0.00    0.00    0.00    0.00    0.00    1.00\n"
          ],
          "name": "stdout"
        }
      ]
    },
    {
      "cell_type": "markdown",
      "metadata": {
        "id": "B1WY5g3syJR7"
      },
      "source": [
        "### An example HMM trellis\n",
        "\n",
        "<img src=\"https://github.com/nlp-236299/data/raw/master/Resources/hmm-figure.png\" width=\"75%\" align=right />\n",
        "\n",
        "Now consider the HMM generating the example sentence \"canners can canned fish\". The figure at right contains the _trellis_ for the sentence. The horizontal axis corresponds to the words in the sentence, one at a time. The vertical axis corresponds to the states of the HMM (that is, the parts of speech). The gray arrows that connect a tag on the left to a tag on the right correspond to the transition probabilities. The red arrows that connect a tag to a word directly below correspond to the emission probabilities. \n",
        "\n",
        "For convenient reference, we've labeled the rows with letters and the columns with numbers so that particular nodes can be referred to as, for example, B1.\n",
        "\n",
        "(The red lines are intended to go from a state node to the word node directly below it; for instance, the red line immediately below B1 goes to the word node F1 at the bottom of the figure. Some of those lines are depicted with a crossbar to indicate that they are running \"underneath\" other graphic objects in the figure.)\n",
        "\n",
        "We've highlighted two paths through the trellis from the beginning to the end of the sentence, corresponding to different taggings of the sentence:\n",
        "\n",
        "1. A0-B1-C2-E3-B4\n",
        "2. A0-B1-D2-C3-B4\n",
        "\n",
        "Answer the following questions about this trellis."
      ]
    },
    {
      "cell_type": "markdown",
      "metadata": {
        "deletable": false,
        "editable": false,
        "id": "h10bBKZCyJR7"
      },
      "source": [
        "What is the path through the trellis corresponding to the _majority bigram labeling_ that you determined above? Give your answer as a string, in the same \"format\" as the path examples in the previous cell.\n",
        "<!--\n",
        "BEGIN QUESTION\n",
        "name: majority_path\n",
        "-->"
      ]
    },
    {
      "cell_type": "code",
      "metadata": {
        "id": "1tEUV5RryJR7"
      },
      "source": [
        "majority_path = \"A0-B1-D2-E3-B4\""
      ],
      "execution_count": 21,
      "outputs": []
    },
    {
      "cell_type": "markdown",
      "metadata": {
        "deletable": false,
        "editable": false,
        "id": "R2yOXkP7yJR7"
      },
      "source": [
        "The probability of a path is just the product of the probabilities of all the transitions along the path and all the emissions from nodes in the path to observed words. Use the tables above to calculate the probability of the first highlighted path (A0-B1-C2-E3-B4) by multiplying together the appropriate probabilities. Don't forget the emission probabilities, corresponding to the edges A0-F0, B1-F1, C2-F2, E3-F3, and B4-F4.\n",
        "<!--\n",
        "BEGIN QUESTION\n",
        "name: highlight1_path_probability\n",
        "-->"
      ]
    },
    {
      "cell_type": "code",
      "metadata": {
        "id": "hw3_jL1IyJR7",
        "colab": {
          "base_uri": "https://localhost:8080/"
        },
        "outputId": "1647e019-0605-4d6f-9ffb-65a338f632c7"
      },
      "source": [
        "#TODO\n",
        "letter_to_lang = {'A':'<bos>', 'B':'N', 'C':'V', 'D':'M', 'E':'A'}\n",
        "index_to_word = {0:'<bos>', 1:'canners', 2:'can', 3:'canned', 4:'fish'}\n",
        "letters = 'ABCEB'\n",
        "indeces = [0,1,2,3,4]\n",
        "\n",
        "from functools import reduce \n",
        "from operator import mul\n",
        "'''\n",
        "print(text)\n",
        "for ind in range(0, len(letters)-1):\n",
        "    print('transition p is P('+letter_to_lang[letters[ind+1]]+'|'+letter_to_lang[letters[ind]]+')')\n",
        "    print('emission b is P('+index_to_word[indeces[ind]]+'|'+letter_to_lang[letters[ind]]+')')\n",
        "    print(a[letter_to_lang[letters[ind]]][letter_to_lang[letters[ind+1]]])\n",
        "    print(b[letter_to_lang[letters[ind]]][index_to_word[indeces[ind]]])\n",
        "\n",
        "print('emission b is P('+index_to_word[indeces[len(letters)-1]]+'|'+letter_to_lang[letters[len(letters)-1]]+')')\n",
        "'''\n",
        "multiplications = [a[letter_to_lang[letters[ind]]][letter_to_lang[letters[ind+1]]]\n",
        "                                             *b[letter_to_lang[letters[ind]]][index_to_word[indeces[ind]]] \n",
        "                                             for ind in range(0, len(letters)-1)]\n",
        "\n",
        "highlight1_path_probability =  reduce(mul, multiplications)*b[letter_to_lang[letters[len(letters)-1]]][index_to_word[indeces[len(letters)-1]]] \n",
        "highlight1_path_probability"
      ],
      "execution_count": 22,
      "outputs": [
        {
          "output_type": "execute_result",
          "data": {
            "text/plain": [
              "0.007713498622589531"
            ]
          },
          "metadata": {
            "tags": []
          },
          "execution_count": 22
        }
      ]
    },
    {
      "cell_type": "code",
      "metadata": {
        "deletable": false,
        "editable": false,
        "id": "MSdY49sRyJR7",
        "colab": {
          "base_uri": "https://localhost:8080/",
          "height": 46
        },
        "outputId": "159daa75-10a3-4c96-d9c0-77af82304f2f"
      },
      "source": [
        "grader.check(\"highlight1_path_probability\")"
      ],
      "execution_count": 23,
      "outputs": [
        {
          "output_type": "execute_result",
          "data": {
            "text/html": [
              "\n",
              "    \n",
              "    \n",
              "        <p>All tests passed!</p>\n",
              "    \n",
              "    "
            ],
            "text/plain": [
              "\n",
              "    All tests passed!\n",
              "    "
            ]
          },
          "metadata": {
            "tags": []
          },
          "execution_count": 23
        }
      ]
    },
    {
      "cell_type": "markdown",
      "metadata": {
        "deletable": false,
        "editable": false,
        "id": "S3ay4T6oyJR7"
      },
      "source": [
        "Do the same for the second highlighted path (A0-B1-D2-C3-B4).\n",
        "<!--\n",
        "BEGIN QUESTION\n",
        "name: highlight2_path_probability\n",
        "-->"
      ]
    },
    {
      "cell_type": "code",
      "metadata": {
        "id": "ngXFqh21yJR7",
        "colab": {
          "base_uri": "https://localhost:8080/"
        },
        "outputId": "7bb8cecf-8d71-4df4-886c-82782e9fbb12"
      },
      "source": [
        "#TODO\n",
        "letter_to_lang = {'A':'<bos>', 'B':'N', 'C':'V', 'D':'M', 'E':'A'}\n",
        "index_to_word = {0:'<bos>', 1:'canners', 2:'can', 3:'canned', 4:'fish'}\n",
        "letters = 'ABDCB'\n",
        "indeces = [0,1,2,3,4]\n",
        "from functools import reduce \n",
        "from operator import mul\n",
        "'''\n",
        "print(text)\n",
        "\n",
        "for ind in range(0, len(letters)-1):\n",
        "    print('transition p is P('+letter_to_lang[letters[ind+1]]+'|'+letter_to_lang[letters[ind]]+')')\n",
        "    print('emission b is P('+index_to_word[indeces[ind]]+'|'+letter_to_lang[letters[ind]]+')')\n",
        "    print(a[letter_to_lang[letters[ind]]][letter_to_lang[letters[ind+1]]])\n",
        "    #print(letters[ind],indeces[ind])\n",
        "    print(b[letter_to_lang[letters[ind]]][index_to_word[indeces[ind]]])\n",
        "\n",
        "print('emission b is P('+index_to_word[indeces[len(letters)-1]]+'|'+letter_to_lang[letters[len(letters)-1]]+')')\n",
        "print(b[letter_to_lang[letters[len(letters)-1]]][index_to_word[indeces[len(letters)-1]]])\n",
        "'''\n",
        "\n",
        "multiplications = [a[letter_to_lang[letters[ind]]][letter_to_lang[letters[ind+1]]]\n",
        "                                             *b[letter_to_lang[letters[ind]]][index_to_word[indeces[ind]]] \n",
        "                                             for ind in range(0, len(letters)-1)]\n",
        "\n",
        "highlight2_path_probability =  reduce(mul, multiplications)*b[letter_to_lang[letters[len(letters)-1]]][index_to_word[indeces[len(letters)-1]]] \n",
        "highlight2_path_probability"
      ],
      "execution_count": 24,
      "outputs": [
        {
          "output_type": "execute_result",
          "data": {
            "text/plain": [
              "0.0008570554025099481"
            ]
          },
          "metadata": {
            "tags": []
          },
          "execution_count": 24
        }
      ]
    },
    {
      "cell_type": "code",
      "metadata": {
        "deletable": false,
        "editable": false,
        "id": "umNVxIKOyJR7",
        "colab": {
          "base_uri": "https://localhost:8080/",
          "height": 46
        },
        "outputId": "9e3f26f6-bd8a-49e3-b45e-fae460f97ef3"
      },
      "source": [
        "grader.check(\"highlight2_path_probability\")"
      ],
      "execution_count": 25,
      "outputs": [
        {
          "output_type": "execute_result",
          "data": {
            "text/html": [
              "\n",
              "    \n",
              "    \n",
              "        <p>All tests passed!</p>\n",
              "    \n",
              "    "
            ],
            "text/plain": [
              "\n",
              "    All tests passed!\n",
              "    "
            ]
          },
          "metadata": {
            "tags": []
          },
          "execution_count": 25
        }
      ]
    },
    {
      "cell_type": "markdown",
      "metadata": {
        "deletable": false,
        "editable": false,
        "id": "6SOoZpZbyJR7"
      },
      "source": [
        "These two paths turn out to be the two paths through the trellis with the highest probabilities. (You'll have to trust us.) \n",
        "Based on that fact, which tagging has the highest probability according to this HMM? \n",
        "Give your solution as a list of POS tags like `[\"<bos>\", \"A\", \"B\", ...]` (in the same format as you did for `example_majority_labeling` above).\n",
        "<!--\n",
        "BEGIN QUESTION\n",
        "name: example_highest_labeling\n",
        "-->"
      ]
    },
    {
      "cell_type": "code",
      "metadata": {
        "id": "GC_87A2byJR7"
      },
      "source": [
        "#TODO\n",
        "example_highest_labeling = ['<bos>', 'N', 'M', 'V', 'N'] "
      ],
      "execution_count": 26,
      "outputs": []
    },
    {
      "cell_type": "code",
      "metadata": {
        "deletable": false,
        "editable": false,
        "id": "7igpffyRyJR7",
        "colab": {
          "base_uri": "https://localhost:8080/",
          "height": 46
        },
        "outputId": "27948d50-824c-412b-a11f-5031a964c206"
      },
      "source": [
        "grader.check(\"example_highest_labeling\")"
      ],
      "execution_count": 27,
      "outputs": [
        {
          "output_type": "execute_result",
          "data": {
            "text/html": [
              "\n",
              "    \n",
              "    \n",
              "        <p>All tests passed!</p>\n",
              "    \n",
              "    "
            ],
            "text/plain": [
              "\n",
              "    All tests passed!\n",
              "    "
            ]
          },
          "metadata": {
            "tags": []
          },
          "execution_count": 27
        }
      ]
    },
    {
      "cell_type": "markdown",
      "metadata": {
        "deletable": false,
        "editable": false,
        "id": "-et4GiJqyJR7"
      },
      "source": [
        "By inspection, what is the accuracy of the highest probability HMM labeling, given as a proportion of the words?\n",
        "<!--\n",
        "BEGIN QUESTION\n",
        "name: example_highest_label_accuracy\n",
        "-->"
      ]
    },
    {
      "cell_type": "code",
      "metadata": {
        "id": "SnURocxAyJR7"
      },
      "source": [
        "#TODO\n",
        "example_highest_label_accuracy = sum([y==y_hat for (y,y_hat) in zip(gold_example_pos_labels, example_highest_labeling)])/len(gold_example_pos_labels)"
      ],
      "execution_count": 28,
      "outputs": []
    },
    {
      "cell_type": "code",
      "metadata": {
        "deletable": false,
        "editable": false,
        "id": "IJ-BDgejyJR7",
        "colab": {
          "base_uri": "https://localhost:8080/",
          "height": 46
        },
        "outputId": "a08f8d35-700b-4e64-e244-0ae078c87ff5"
      },
      "source": [
        "grader.check(\"example_highest_label_accuracy\")"
      ],
      "execution_count": 29,
      "outputs": [
        {
          "output_type": "execute_result",
          "data": {
            "text/html": [
              "\n",
              "    \n",
              "    \n",
              "        <p>All tests passed!</p>\n",
              "    \n",
              "    "
            ],
            "text/plain": [
              "\n",
              "    All tests passed!\n",
              "    "
            ]
          },
          "metadata": {
            "tags": []
          },
          "execution_count": 29
        }
      ]
    },
    {
      "cell_type": "markdown",
      "metadata": {
        "deletable": false,
        "editable": false,
        "id": "xe3jEQy_yJR7"
      },
      "source": [
        "Now, recall the majority bigram labeling, and the path for it that you developed above. What is the probability of that path according to the HMM?\n",
        "\n",
        "<!--\n",
        "BEGIN QUESTION\n",
        "name: majority_path_probability\n",
        "-->"
      ]
    },
    {
      "cell_type": "code",
      "metadata": {
        "id": "S-r_s2OsyJR7",
        "colab": {
          "base_uri": "https://localhost:8080/"
        },
        "outputId": "e5817ffc-3fc1-41e0-a6e3-8a01ff6e2d3f"
      },
      "source": [
        "#print(example_majority_labeling)\n",
        "letters='ABDEB'\n",
        "indeces = [0,1,2,3,4]\n",
        "'''\n",
        "for ind in range(0, len(letters)-1):\n",
        "    print('transition p is P('+letter_to_lang[letters[ind+1]]+'|'+letter_to_lang[letters[ind]]+')')\n",
        "    print('emission b is P('+index_to_word[indeces[ind]]+'|'+letter_to_lang[letters[ind]]+')')\n",
        "    print(a[letter_to_lang[letters[ind]]][letter_to_lang[letters[ind+1]]])\n",
        "    #print(letters[ind],indeces[ind])\n",
        "    print(b[letter_to_lang[letters[ind]]][index_to_word[indeces[ind]]])\n",
        "\n",
        "print('emission b is P('+index_to_word[indeces[len(letters)-1]]+'|'+letter_to_lang[letters[len(letters)-1]]+')')\n",
        "print(b[letter_to_lang[letters[len(letters)-1]]][index_to_word[indeces[len(letters)-1]]])\n",
        "'''\n",
        "\n",
        "from functools import reduce \n",
        "from operator import mul\n",
        "multiplications = [a[letter_to_lang[letters[ind]]][letter_to_lang[letters[ind+1]]]\n",
        "                                             *b[letter_to_lang[letters[ind]]][index_to_word[indeces[ind]]] \n",
        "                                             for ind in range(0, len(letters)-1)]\n",
        "majority_path_probability =  reduce(mul, multiplications)*b[letter_to_lang[letters[len(letters)-1]]][index_to_word[indeces[len(letters)-1]]] "
      ],
      "execution_count": 30,
      "outputs": [
        {
          "output_type": "stream",
          "text": [
            "0.0\n"
          ],
          "name": "stdout"
        }
      ]
    },
    {
      "cell_type": "code",
      "metadata": {
        "deletable": false,
        "editable": false,
        "id": "z5k8tDp3yJR7",
        "colab": {
          "base_uri": "https://localhost:8080/",
          "height": 46
        },
        "outputId": "f414b429-811d-4307-ab31-acf54befe8c6"
      },
      "source": [
        "grader.check(\"majority_path_probability\")"
      ],
      "execution_count": 31,
      "outputs": [
        {
          "output_type": "execute_result",
          "data": {
            "text/html": [
              "\n",
              "    \n",
              "    \n",
              "        <p>All tests passed!</p>\n",
              "    \n",
              "    "
            ],
            "text/plain": [
              "\n",
              "    All tests passed!\n",
              "    "
            ]
          },
          "metadata": {
            "tags": []
          },
          "execution_count": 31
        }
      ]
    },
    {
      "cell_type": "markdown",
      "metadata": {
        "id": "ezJn4MQTyJR7"
      },
      "source": [
        "### Calculating the highest probability tagging - The Viterbi algorithm\n",
        "\n",
        "Above, we merely asserted that the two highlighted paths are the two most probable, so that it was a simple matter to find the highest probability tagging by just comparing the probabilities of those two. But in general there can be a huge number of paths through a trellis such as this."
      ]
    },
    {
      "cell_type": "markdown",
      "metadata": {
        "deletable": false,
        "editable": false,
        "id": "xEkg7A44yJR7"
      },
      "source": [
        "<!-- BEGIN QUESTION -->\n",
        "\n",
        "**Question:** If there are $N$ tags and a sentence of length $M$, how many paths through the HMM trellis will there be (using big-$O$ notation)?\n",
        "\n",
        "<!--\n",
        "BEGIN QUESTION\n",
        "name: open_response_how_many_paths\n",
        "manual: true\n",
        "-->"
      ]
    },
    {
      "cell_type": "markdown",
      "metadata": {
        "id": "eDgLHXdryJR7"
      },
      "source": [
        "N^M because we calculate a path of length M with possible N tags for each step in the path. We can represent a path with a string of length M where each character at each position represents the tag. The total amount of pathes thus N*N...N = N^M. "
      ]
    },
    {
      "cell_type": "markdown",
      "metadata": {
        "id": "9KsMxSjzyJR7"
      },
      "source": [
        "<!-- END QUESTION -->\n",
        "\n",
        "\n",
        "\n",
        "The Viterbi algorithm, named after famed electrical engineer [Andrew Viterbi](https://en.wikipedia.org/wiki/Andrew_Viterbi), is an efficient dynamic programming algorithm for performing this (otherwise impractical) computation. We'll do the first few steps of the Viterbi algorithm for the example here.\n",
        "\n",
        "Given a string of words $\\vect{x} = \\langle x_0, x_1, \\ldots, x_M \\rangle$ and a set of states (tags) $\\vect{q} = \\{q_0, q_1, \\ldots, q_N\\}$, the algorithm works by calculating a series of values $v_i(j)$ where $i$ ranges over the words in the sentence from $1$ to $M$ and $j$ ranges over the tags from $1$ to $N$. For simplicity, we'll assume an extra word and tag at the beginning of the sentence, as above, so $x_0 = \\texttt{<bos>}$ and $q_0 = \\texttt{<bos>}$.\n",
        "The definition for $v$ then is:\n",
        "\n",
        "\\begin{align*}\n",
        "  v_0(0) &= 1 \\\\\n",
        "  v_0(j) &= 0  &\\mbox{for $j > 0$} \\\\\n",
        "  v_i(j) &= \\max_{j'=1}^N v_{i-1}(j') \\cdot a_{j' j} \\cdot b_{j}(x_i)\n",
        "         & \\mbox{for $i > 0$}\n",
        "\\end{align*}"
      ]
    },
    {
      "cell_type": "markdown",
      "metadata": {
        "deletable": false,
        "editable": false,
        "id": "zj3CpxRRyJR7"
      },
      "source": [
        "<!-- BEGIN QUESTION -->\n",
        "\n",
        "**Question:** For the sample sentence above (\"canners can canned fish\"), calculate (at least) the first three \"layers\" of the Viterbi algorithm, that is, $v_0$, $v_1$, and $v_2$, filling in the table below. (We've filled in the zero-th layer for you already, as per the first two lines in the definition of the Viterbi calculation.)\n",
        "\n",
        "<!--\n",
        "BEGIN QUESTION\n",
        "name: open_response_viterbi_table\n",
        "manual: true\n",
        "-->"
      ]
    },
    {
      "cell_type": "markdown",
      "metadata": {
        "id": "vRlcUU-4yJR7"
      },
      "source": [
        "<!--TODO-->\n",
        "|   | tag     | v_0  \\<bos\\> | v_1 canners | v_2 can | v_3 canned | v_4 fish |\n",
        "|---|---------|--------------|-------------|---------|------------|----------|\n",
        "| 0 | \\<bos\\> |    1         |             |         |            |          |\n",
        "| 1 | N       |    0         |             |         |            |          |\n",
        "| 2 | V       |    0         |             |         |            |          |\n",
        "| 3 | M       |    0         |             |         |            |          |\n",
        "| 4 | P       |    0         |             |         |            |          |\n",
        "| 5 | A       |    0         |             |         |            |          |\n",
        "| 6 | R       |    0         |             |         |            |          |"
      ]
    },
    {
      "cell_type": "markdown",
      "metadata": {
        "deletable": false,
        "editable": false,
        "id": "CgC566avyJR7"
      },
      "source": [
        "<!-- END QUESTION -->\n",
        "\n",
        "<!-- BEGIN QUESTION -->\n",
        "\n",
        "Doing this calculation by hand is painful, but it should make clear what's going on. At each point $v_i(j)$ in the table, we've calculated the probability of the best path through the trellis from the beginning of the sentence to the current word  $x_i$, starting in the start state and ending in the current state $q_j$. To get the maximum probability of all paths in the trellis for the full sentence ending in any state, we merely look up the maximum value of $v_M(j)$.\n",
        "\n",
        "**Question:** What is the complexity of filling in all of the entries in the Viterbi table? How does that compare with the complexity of the total number of paths through the trellis that you calculated above?\n",
        "<!--\n",
        "BEGIN QUESTION\n",
        "name: open_response_how_many_paths_viterbi\n",
        "manual: true\n",
        "-->"
      ]
    },
    {
      "cell_type": "markdown",
      "metadata": {
        "id": "4EoZs9G_yJR8"
      },
      "source": [
        "The complexity is TxN^2 as we can see it as filling up the proposed table which has TxN  entries and computing each entry takes O(N) as finding the maximum of N viterbi pathes of cur_path_length-1, in the recursive point of view assuimng that we've allready calculated them before, then we by **max** we need to find the max value in N values."
      ]
    },
    {
      "cell_type": "markdown",
      "metadata": {
        "deletable": false,
        "editable": false,
        "id": "XBm4SSiNyJR8"
      },
      "source": [
        "<!-- END QUESTION -->\n",
        "\n",
        "<!-- BEGIN QUESTION -->\n",
        "\n",
        "## Lab debrief – for consensus submission only\n",
        "\n",
        "**Question:** We're interested in any thoughts your group has about this lab so that we can improve this lab for later years, and to inform later labs for this year. Please list any issues that arose or comments you have to improve the lab. Useful things to comment on include the following: \n",
        "\n",
        "* Was the lab too long or too short?\n",
        "* Were the readings appropriate for the lab? \n",
        "* Was it clear (at least after you completed the lab) what the points of the exercises were? \n",
        "* Are there additions or changes you think would make the lab better?\n",
        "\n",
        "<!--\n",
        "BEGIN QUESTION\n",
        "name: open_response_debrief\n",
        "manual: true\n",
        "-->"
      ]
    },
    {
      "cell_type": "markdown",
      "metadata": {
        "id": "l72DBfYfyJR8"
      },
      "source": [
        "_Type your answer here, replacing this text._"
      ]
    },
    {
      "cell_type": "markdown",
      "metadata": {
        "id": "52O9PnewyJR8"
      },
      "source": [
        "<!-- END QUESTION -->\n",
        "\n",
        "\n",
        "\n",
        "# End of lab 2-4"
      ]
    },
    {
      "cell_type": "markdown",
      "metadata": {
        "deletable": false,
        "editable": false,
        "id": "AcpBOB5iyJR8"
      },
      "source": [
        "---\n",
        "\n",
        "To double-check your work, the cell below will rerun all of the autograder tests."
      ]
    },
    {
      "cell_type": "code",
      "metadata": {
        "deletable": false,
        "editable": false,
        "id": "Bq7QuCrkyJR8",
        "colab": {
          "base_uri": "https://localhost:8080/",
          "height": 437
        },
        "outputId": "0b922f84-f5ff-4a5e-cc8e-cf85e1afbdc0"
      },
      "source": [
        "grader.check_all()"
      ],
      "execution_count": 32,
      "outputs": [
        {
          "output_type": "execute_result",
          "data": {
            "text/html": [
              "<p><strong>example_highest_label_accuracy:</strong></p>\n",
              "\n",
              "    \n",
              "    \n",
              "        <p>All tests passed!</p>\n",
              "    \n",
              "    \n",
              "\n",
              "<p><strong>example_highest_labeling:</strong></p>\n",
              "\n",
              "    \n",
              "    \n",
              "        <p>All tests passed!</p>\n",
              "    \n",
              "    \n",
              "\n",
              "<p><strong>example_maj_bigram_label_accuracy:</strong></p>\n",
              "\n",
              "    \n",
              "    \n",
              "        <p>All tests passed!</p>\n",
              "    \n",
              "    \n",
              "\n",
              "<p><strong>example_maj_label_accuracy:</strong></p>\n",
              "\n",
              "    \n",
              "    \n",
              "        <p>All tests passed!</p>\n",
              "    \n",
              "    \n",
              "\n",
              "<p><strong>example_majority_bigram_labeling:</strong></p>\n",
              "\n",
              "    \n",
              "    \n",
              "        <p>All tests passed!</p>\n",
              "    \n",
              "    \n",
              "\n",
              "<p><strong>example_majority_labeling:</strong></p>\n",
              "\n",
              "    \n",
              "    \n",
              "        <p>All tests passed!</p>\n",
              "    \n",
              "    \n",
              "\n",
              "<p><strong>highlight1_path_probability:</strong></p>\n",
              "\n",
              "    \n",
              "    \n",
              "        <p>All tests passed!</p>\n",
              "    \n",
              "    \n",
              "\n",
              "<p><strong>highlight2_path_probability:</strong></p>\n",
              "\n",
              "    \n",
              "    \n",
              "        <p>All tests passed!</p>\n",
              "    \n",
              "    \n",
              "\n",
              "<p><strong>majority_path_probability:</strong></p>\n",
              "\n",
              "    \n",
              "    \n",
              "        <p>All tests passed!</p>\n",
              "    \n",
              "    \n",
              "\n"
            ],
            "text/plain": [
              "example_highest_label_accuracy:\n",
              "\n",
              "    All tests passed!\n",
              "    \n",
              "\n",
              "example_highest_labeling:\n",
              "\n",
              "    All tests passed!\n",
              "    \n",
              "\n",
              "example_maj_bigram_label_accuracy:\n",
              "\n",
              "    All tests passed!\n",
              "    \n",
              "\n",
              "example_maj_label_accuracy:\n",
              "\n",
              "    All tests passed!\n",
              "    \n",
              "\n",
              "example_majority_bigram_labeling:\n",
              "\n",
              "    All tests passed!\n",
              "    \n",
              "\n",
              "example_majority_labeling:\n",
              "\n",
              "    All tests passed!\n",
              "    \n",
              "\n",
              "highlight1_path_probability:\n",
              "\n",
              "    All tests passed!\n",
              "    \n",
              "\n",
              "highlight2_path_probability:\n",
              "\n",
              "    All tests passed!\n",
              "    \n",
              "\n",
              "majority_path_probability:\n",
              "\n",
              "    All tests passed!\n",
              "    \n"
            ]
          },
          "metadata": {
            "tags": []
          },
          "execution_count": 32
        }
      ]
    }
  ]
}