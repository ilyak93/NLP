{
  "nbformat": 4,
  "nbformat_minor": 0,
  "metadata": {
    "colab": {
      "name": "Copy of lab4-2-1.ipynb",
      "provenance": [],
      "collapsed_sections": []
    },
    "kernelspec": {
      "display_name": "Python 3",
      "language": "python",
      "name": "python3"
    },
    "language_info": {
      "codemirror_mode": {
        "name": "ipython",
        "version": 3
      },
      "file_extension": ".py",
      "mimetype": "text/x-python",
      "name": "python",
      "nbconvert_exporter": "python",
      "pygments_lexer": "ipython3",
      "version": "3.8.3"
    },
    "title": "236299 Lab 4-2B: Semantic ambiguity and quantifier scope"
  },
  "cells": [
    {
      "cell_type": "code",
      "metadata": {
        "deletable": false,
        "editable": false,
        "jupyter": {
          "outputs_hidden": true,
          "source_hidden": true
        },
        "id": "nBEpiyfk_Kuc",
        "colab": {
          "base_uri": "https://localhost:8080/"
        },
        "outputId": "f18fb238-44df-491b-b28e-3edc18ba284a"
      },
      "source": [
        "# Please do not change this cell because some hidden tests might depend on it.\n",
        "import os\n",
        "\n",
        "# Otter grader does not handle ! commands well, so we define and use our\n",
        "# own function to execute shell commands.\n",
        "def shell(commands, warn=True):\n",
        "    \"\"\"Executes the string `commands` as a sequence of shell commands.\n",
        "     \n",
        "       Prints the result to stdout and returns the exit status. \n",
        "       Provides a printed warning on non-zero exit status unless `warn` \n",
        "       flag is unset.\n",
        "    \"\"\"\n",
        "    file = os.popen(commands)\n",
        "    print (file.read().rstrip('\\n'))\n",
        "    exit_status = file.close()\n",
        "    if warn and exit_status != None:\n",
        "        print(f\"Completed with errors. Exit status: {exit_status}\\n\")\n",
        "    return exit_status\n",
        "\n",
        "shell(\"\"\"\n",
        "ls requirements.txt >/dev/null 2>&1\n",
        "if [ ! $? = 0 ]; then\n",
        " rm -rf .tmp\n",
        " git clone https://github.com/cs236299-2020/lab4-2b.git .tmp\n",
        " mv .tmp/tests ./\n",
        " mv .tmp/requirements.txt ./\n",
        " rm -rf .tmp\n",
        "fi\n",
        "pip install -q -r requirements.txt\n",
        "\"\"\")"
      ],
      "execution_count": 402,
      "outputs": [
        {
          "output_type": "stream",
          "text": [
            "\n"
          ],
          "name": "stdout"
        }
      ]
    },
    {
      "cell_type": "code",
      "metadata": {
        "deletable": false,
        "editable": false,
        "id": "WNnLBQ6H_Kum"
      },
      "source": [
        "# Initialize Otter\n",
        "import otter\n",
        "grader = otter.Notebook()"
      ],
      "execution_count": 403,
      "outputs": []
    },
    {
      "cell_type": "markdown",
      "metadata": {
        "id": "Kd8vsgIa_Kuo"
      },
      "source": [
        "# Course 236299"
      ]
    },
    {
      "cell_type": "markdown",
      "metadata": {
        "id": "HIUs28Vq-KDU"
      },
      "source": [
        "## Lab 4-2B – Semantic ambiguity and quantifier scope"
      ]
    },
    {
      "cell_type": "markdown",
      "metadata": {
        "id": "gefBwZWD_Kuq"
      },
      "source": [
        "## Setup"
      ]
    },
    {
      "cell_type": "code",
      "metadata": {
        "id": "0uhPHSJg_Kur",
        "colab": {
          "base_uri": "https://localhost:8080/"
        },
        "outputId": "d1858e31-7555-4700-b35f-94dfa008bd46"
      },
      "source": [
        "# Download code for transforming grammars\n",
        "shell(\"\"\"\n",
        "  wget -nv -N -P scripts https://raw.githubusercontent.com/nlp-236299/data/master/scripts/trees/transform.py\n",
        "\"\"\")"
      ],
      "execution_count": 404,
      "outputs": [
        {
          "output_type": "stream",
          "text": [
            "\n"
          ],
          "name": "stdout"
        }
      ]
    },
    {
      "cell_type": "code",
      "metadata": {
        "id": "FccZl5DV_Kur"
      },
      "source": [
        "import sys\n",
        "\n",
        "import nltk\n",
        "\n",
        "# Import functions for transforming augmented grammars\n",
        "sys.path.insert(1, './scripts')\n",
        "import transform as xform"
      ],
      "execution_count": 405,
      "outputs": []
    },
    {
      "cell_type": "markdown",
      "metadata": {
        "id": "BOrUNzos-OqG"
      },
      "source": [
        "## Introduction\n",
        "\n",
        "When discussing syntactic representations, we encountered a central issue in natural language — ambiguity. In lab 3-3, we introduced PP attachment ambiguity to show how a single sentence (\"Twain bought a book for Howells\") can have multiple distinct syntactic structures, each bearing different meanings. \n",
        "\n",
        "Semantic ambiguity can arise even for a single parse of a sentence giving rise to different meanings. In this lab, we'll introduce one example of this phenomenon, quantifier scope ambiguity. We'll take a look at a sentence that elicits this type of ambiguity, propose two possible FOL representations of the sentence, confirming that they produce different truth values in a model. Then, we will use a syntactic-semantic grammar similar to those of lab 4-1 to parse the sentence, pointing out a weakness of this method.\n",
        "\n",
        "## The flight world model\n",
        "\n",
        "We'll be using the flight world as the domain for the lab, so we provide a simple model for it here."
      ]
    },
    {
      "cell_type": "code",
      "metadata": {
        "id": "zzNJGn2NeaEF"
      },
      "source": [
        "# Constants\n",
        "\n",
        "London = \"London\"\n",
        "NewYork = \"New York\"\n",
        "Paris = \"Paris\"\n",
        "Boston = \"Boston\"\n",
        "TelAviv = \"Tel Aviv\"\n",
        "\n",
        "DL10 = \"DL10\"\n",
        "DL11 = \"DL11\"\n",
        "DL13 = \"DL13\"\n",
        "LY01 = \"LY01\"\n",
        "LY12 = \"LY12\"\n",
        "\n",
        "# Predicates\n",
        "Object = {London, NewYork, Paris, Boston, TelAviv,\n",
        "          DL10, DL11, DL13, LY01, LY12}\n",
        "Flight = {DL10, DL11, DL13, LY01, LY12}\n",
        "City = {London, Paris, NewYork, Boston, TelAviv}\n",
        "Capital = {London, Paris}\n",
        "Origin = {(DL10, London), (DL11, London), (DL13, Paris), (LY01, Paris), (LY12, London)}\n",
        "Destination = {(DL10, NewYork), (DL11, TelAviv), (DL13, Boston), (LY01, NewYork), (LY12, TelAviv)}"
      ],
      "execution_count": 406,
      "outputs": []
    },
    {
      "cell_type": "markdown",
      "metadata": {
        "id": "RjEGdVoI_Kut"
      },
      "source": [
        "## Quantifier meanings\n",
        "\n",
        "Before discussing quantifier scope ambiguity, we need to establish an appropriate notion of quantifier meanings in natural language. In FOL, there are only two quantifiers, the universal quantifier $\\forall$ (\"for all\") and the existential quantifier $\\exists$ (\"there exists\"). In natural language, we find many more quantifiers. A few examples:\n",
        "\n",
        "* Universal: \"every\", \"each\"\n",
        "* Existential: \"some\", \"a(n)\"\n",
        "* Exact counts: \"one\", \"two\", \"three\", \"infinitely many\"\n",
        "* Approximate counts: \"few\", \"many\", \"most\", \"several\"\n",
        "* Count bounds: \"more than three\", \"fewer than 100\""
      ]
    },
    {
      "cell_type": "markdown",
      "metadata": {
        "id": "pG4qxzmj_Kuu"
      },
      "source": [
        "Natural language quantifiers can be thought of as expressing a _relationship between two properties_. \n",
        "\n",
        "> Recall that a _property_ can be thought of as a set of objects (those bearing the property) or a function from objects to truth values (which takes the objects that bear the property to _true_ and objects not bearing the property to false). In our flight world, $Flight$ is a property, as is $\\lambda x. Origin(x, Boston)$ (\"objects originating in Boston\").\n",
        "\n",
        "Natural language quantifiers like \"every\" express a relationship between two properties, the _restriction_ of the quantifier and the _scope_ of the quantifier. For instance, in the sentence \"every flight leaves from Boston\", the restriction property is expressed by  \"flight\" and the scope property is expressed by \"leaves from Boston\". The relationship that \"every\" expresses is simply that everything bearing the first property also bears the second. Similarly, \"some\" expresses the relationship that there is something bearing the first property that also bears the second property. And \"most\" expresses that most (at least half, say) of the objects bearing the first property bear the second property.\n",
        "\n",
        "This way of thinking about quantifiers as expressing relationships between two properties is referred to as [_generalized quantifiers_](https://en.wikipedia.org/wiki/Generalized_quantifier), because it generalizes the FOL notion of quantifier by adding an explicit and separate restriction.\n",
        "\n",
        "> In FOL, quantifiers $\\forall$ and $\\exists$ have only a scope and not a restriction. When we write $\\forall x. \\ldots$, the $\\ldots$ is the scope of the quantifier; we can think of this as expressing that $\\forall$ holds of the single property $\\lambda x. \\ldots$. How then can restriction properties be expressed in FOL? By folding them into the scope.\n",
        ">    * \"every flight leaves from Boston\": $\\forall x. Flight(x) \\Longrightarrow Origin(x, Boston)$\n",
        ">    * \"some flight leaves from Boston\": $\\exists x. Flight(x) \\land Origin(x, Boston)$\n",
        ">\n",
        "> Notice though that in incorporating the restriction ($Flight(x)$) into the scope of the FOL quantifier, we use different ways of combining them depending on the quantifier. That's somewhat inelegant. More importantly, for most NL quantifiers, _there is no way of encoding the relationship between restriction and scope with just a single property_, as we happen to be able to for the universal and existential quantifiers. Hence, semanticists have moved to the generalized quantifier approach to quantifier meanings, as we do here.\n",
        "\n",
        "To allow for meanings for the first order quantifiers, we'll define some Python functions that capture this generalized quantifier approach. Each quantifier function takes the two properties, restriction and scope, and returns a truth value."
      ]
    },
    {
      "cell_type": "code",
      "metadata": {
        "id": "HlLPveSA_Kuv"
      },
      "source": [
        "def for_all(R_property, S_property):\n",
        "  \"\"\"Returns `true` just in case all objects bearing `R_property`\n",
        "     also have `S_property`.\"\"\"\n",
        "  restriction_objects = [x for x in Object if R_property(x)]\n",
        "  scope_objects = [x for x in Object if S_property(x)]\n",
        "  return all([x in scope_objects for x in restriction_objects])\n",
        "\n",
        "def there_exists(R_property, S_property):\n",
        "  \"\"\"Returns `true` just in case at least one object bearing `R_property`\n",
        "     also has `S_property`.\"\"\"\n",
        "  restriction_objects = [x for x in Object if R_property(x)]\n",
        "  scope_objects = [x for x in Object if S_property(x)]\n",
        "  return any([x in scope_objects for x in restriction_objects])"
      ],
      "execution_count": 407,
      "outputs": []
    },
    {
      "cell_type": "markdown",
      "metadata": {
        "id": "5EKrc9D4_Kuw"
      },
      "source": [
        "We can see how these work by verifying that it's not the case that all flights originate in London, but some flight does."
      ]
    },
    {
      "cell_type": "code",
      "metadata": {
        "id": "LJUegsG6_Kux",
        "colab": {
          "base_uri": "https://localhost:8080/"
        },
        "outputId": "d94c541a-6212-4696-a702-087e3c223393"
      },
      "source": [
        "## expressing \"every flight leaves from London\" -- should be false\n",
        "for_all(lambda x: x in Flight, lambda y: (y, London) in Origin)"
      ],
      "execution_count": 408,
      "outputs": [
        {
          "output_type": "execute_result",
          "data": {
            "text/plain": [
              "False"
            ]
          },
          "metadata": {
            "tags": []
          },
          "execution_count": 408
        }
      ]
    },
    {
      "cell_type": "code",
      "metadata": {
        "id": "JLCBTi7R_Kuy",
        "colab": {
          "base_uri": "https://localhost:8080/"
        },
        "outputId": "bc127d91-ba9e-456a-8800-62b5b92a2dd7"
      },
      "source": [
        "## expressing \"some flight leaves from London\" -- should be true\n",
        "there_exists(lambda x: x in Flight, lambda y: (y, London) in Origin)"
      ],
      "execution_count": 409,
      "outputs": [
        {
          "output_type": "execute_result",
          "data": {
            "text/plain": [
              "True"
            ]
          },
          "metadata": {
            "tags": []
          },
          "execution_count": 409
        }
      ]
    },
    {
      "cell_type": "markdown",
      "metadata": {
        "id": "uOn2dddRH-1w"
      },
      "source": [
        "## Quantifier scope ambiguity\n",
        "\n",
        "Consider the sentence\n",
        "\n",
        "* every flight leaves from a capital\n",
        "\n",
        "Under one reading of this sentence, it is true just in case each flight leaves from a (possibly different) city that is a capital. This interpretation can be represented with the following FOL formula:\n",
        "\n",
        "$$ \\forall x. (Flight(x) \\implies \\exists y. (Capital(y) \\land Origin(x, y))) \\tag{1}$$\n",
        "\n",
        "However, there is another possible reading of this sentence. A less intuitive yet possible interpretation could be that we are asking if there is a single capital from which all flights leave. This interpretation gives rise to a different FOL representation: \n",
        "\n",
        "$$ \\exists y. (Capital(y) \\land \\forall x. (Flight(x) \\implies Origin(x, y))) \\tag{2} $$"
      ]
    },
    {
      "cell_type": "markdown",
      "metadata": {
        "id": "dQGjG9El_Kuz"
      },
      "source": [
        "This type of ambiguity is referred to as _quantifier scope ambiguity_, and appears almost inevitably when a sentence has multiple quantified noun phrases. \n",
        "\n",
        "> Other scope-taking elements can also give rise to scope ambiguities. For instance, modals (like \"may\", \"must\", \"can\"), and negation (\"not\") also have scope and can engender ambiguities. For instance, the sentence \"you may not go\" arguably has two readings, paraphrasable as \"you have permission to not go\" (that is, you may stay) and \"you do not have permission to go\" (that is, you must stay). Examining these further kinds of ambiguity is beyond the scope (so to speak) of this lab.\n",
        "\n",
        "It is easy to see that both representations have the same components, just structured differently. The different ordering possibilities of the quantifiers is what generates the ambiguity. In representation (1), $\\forall x$ has the outer scope, while in representation (2), $\\exists y$ has the outer scope. Reflecting this ordering, the two readings are sometimes referred to as the AE reading and the EA reading, respectively.\n",
        "\n",
        "> As another example of the phenomenon, consider the old joke: In my town, a person is mugged every 15 minutes...and boy is he getting tired of it."
      ]
    },
    {
      "cell_type": "markdown",
      "metadata": {
        "deletable": false,
        "editable": false,
        "id": "Jjx9EnR3_Ku0"
      },
      "source": [
        "Express the two readings of the sentence \n",
        "\n",
        "* every flight leaves from a capital\n",
        "\n",
        "using the Python implementation of generalized quantifiers. Start with the AE reading.\n",
        "<!--\n",
        "BEGIN QUESTION\n",
        "name: ambiguity_AE\n",
        "-->"
      ]
    },
    {
      "cell_type": "code",
      "metadata": {
        "id": "A8a5lv8S_Ku1",
        "colab": {
          "base_uri": "https://localhost:8080/"
        },
        "outputId": "b8d58a3c-8e0f-4974-ec33-4051bff00cc0"
      },
      "source": [
        "\n",
        "AE_reading = for_all(lambda x: x in Flight, lambda z: there_exists(lambda x: x in Capital, lambda x: (z, x) in Origin))\n",
        "AE_reading"
      ],
      "execution_count": 410,
      "outputs": [
        {
          "output_type": "execute_result",
          "data": {
            "text/plain": [
              "True"
            ]
          },
          "metadata": {
            "tags": []
          },
          "execution_count": 410
        }
      ]
    },
    {
      "cell_type": "code",
      "metadata": {
        "deletable": false,
        "editable": false,
        "id": "ZMRxncrr_Ku2",
        "colab": {
          "base_uri": "https://localhost:8080/",
          "height": 46
        },
        "outputId": "6b146f3f-9c58-4427-d6c4-9fa2531675b7"
      },
      "source": [
        "grader.check(\"ambiguity_AE\")"
      ],
      "execution_count": 411,
      "outputs": [
        {
          "output_type": "execute_result",
          "data": {
            "text/html": [
              "\n",
              "    \n",
              "    \n",
              "        <p>All tests passed!</p>\n",
              "    \n",
              "    "
            ],
            "text/plain": [
              "\n",
              "    All tests passed!\n",
              "    "
            ]
          },
          "metadata": {
            "tags": []
          },
          "execution_count": 411
        }
      ]
    },
    {
      "cell_type": "markdown",
      "metadata": {
        "deletable": false,
        "editable": false,
        "id": "A8IrZ58Z_Ku3"
      },
      "source": [
        "Now do the same for the EA reading.\n",
        "<!--\n",
        "BEGIN QUESTION\n",
        "name: ambiguity_EA\n",
        "-->"
      ]
    },
    {
      "cell_type": "code",
      "metadata": {
        "id": "cu6iNNQe_Ku3",
        "colab": {
          "base_uri": "https://localhost:8080/"
        },
        "outputId": "6fd6826a-d47f-4925-f2a3-f094eed6f5f2"
      },
      "source": [
        "EA_reading = AE_reading = there_exists(lambda x: x in Capital, lambda z: for_all(lambda x: x in Flight, lambda x: (x, z) in Origin))\n",
        "EA_reading"
      ],
      "execution_count": 412,
      "outputs": [
        {
          "output_type": "execute_result",
          "data": {
            "text/plain": [
              "False"
            ]
          },
          "metadata": {
            "tags": []
          },
          "execution_count": 412
        }
      ]
    },
    {
      "cell_type": "code",
      "metadata": {
        "deletable": false,
        "editable": false,
        "id": "jDftK4rx_Ku4",
        "colab": {
          "base_uri": "https://localhost:8080/",
          "height": 46
        },
        "outputId": "b8fcc41f-109c-44a4-95b6-7eef70153a85"
      },
      "source": [
        "grader.check(\"ambiguity_EA\")"
      ],
      "execution_count": 413,
      "outputs": [
        {
          "output_type": "execute_result",
          "data": {
            "text/html": [
              "\n",
              "    \n",
              "    \n",
              "        <p>All tests passed!</p>\n",
              "    \n",
              "    "
            ],
            "text/plain": [
              "\n",
              "    All tests passed!\n",
              "    "
            ]
          },
          "metadata": {
            "tags": []
          },
          "execution_count": 413
        }
      ]
    },
    {
      "cell_type": "markdown",
      "metadata": {
        "id": "dTNqFRpXW0dg"
      },
      "source": [
        "If you've implemented the two readings correctly, you have confirmed that the two readings of the ambiguous sentence are indeed different; they generate different answers."
      ]
    },
    {
      "cell_type": "markdown",
      "metadata": {
        "deletable": false,
        "editable": false,
        "id": "_qm0EGsH_Ku5"
      },
      "source": [
        "## A compositional semantics for quantifiers\n",
        "\n",
        "Instead of manually constructing a meaning representation as we did, let's use a syntactic-semantic grammar to perform this interpretation process. We will use the following augmented grammar: \n",
        "<!--\n",
        "BEGIN QUESTION\n",
        "name: complete_grammar\n",
        "-->"
      ]
    },
    {
      "cell_type": "code",
      "metadata": {
        "id": "X8Wc6t_8_Ku5"
      },
      "source": [
        "grammar_spec = \"\"\" \n",
        "  S -> NP VP                  :  lambda NP, VP: NP(VP)\n",
        "  \n",
        "  VP -> V NP                  :  lambda V, NP: lambda x: NP(V(x))\n",
        "\n",
        "  V -> 'leaves' 'from'        :  lambda: lambda Subj: lambda Obj: (Subj, Obj) in Origin\n",
        "     | 'leave' 'from'\n",
        "     | 'goes' 'to'            :  lambda: lambda Subj: lambda Obj: (Subj, Obj) in Destination\n",
        "     | 'go' 'to'\n",
        "\n",
        "  S_COMP -> 'that' VP         :  lambda X: X\n",
        "\n",
        "  NP -> DET NOM               :  lambda DET, NOM: DET(NOM)\n",
        "  NOM -> NOM S_COMP           :  lambda N, S: lambda x: S(x) and N(x)\n",
        "  NOM -> N                    :  lambda X: X\n",
        "  \n",
        "  NP -> 'New' 'York'          :  lambda: lambda P: P(NewYork)\n",
        "      | 'Paris'               :  lambda: lambda P: P(Paris)\n",
        "      | 'Tel' 'Aviv'          :  lambda: lambda P: P(TelAviv)\n",
        "      | 'London'              :  lambda: lambda P: P(London)\n",
        "      | 'Boston'              :  lambda: lambda P: P(Boston)\n",
        "\n",
        "  N -> 'flight' | 'flights'   :  lambda: lambda x: x in Flight\n",
        "     | 'capital' | 'capitals' :  lambda: lambda x: x in Capital\n",
        "     | 'city' | 'cities'      :  lambda: lambda x: x in City\n",
        "\n",
        "  DET -> 'every'              :  lambda: lambda R: lambda S: for_all(R, S)\n",
        "       | 'a'                  :  lambda: lambda R: lambda S: there_exists(R, S)\n",
        "\"\"\""
      ],
      "execution_count": 414,
      "outputs": []
    },
    {
      "cell_type": "markdown",
      "metadata": {
        "id": "omrQaP8M_Ku6"
      },
      "source": [
        "Some things to note about the grammar:\n",
        "\n",
        "* Some of the nonterminals may be unfamiliar. In particular, the nonterminal `S_COMP` is for complementized relative clauses, phrases like \"that leaves from Boston\" in the sentence \"every flight that leaves from Boston goes to New York\".\n",
        "\n",
        "* Some of the productions have no augmentation. You may recall that in this format, productions with no explicit augmentation just use the one for the preceding production. Thus the \"goes to\" and \"go to\" rules have the same augmentation.\n",
        "\n",
        "* Some of the augmentations (those involving `S_COMP`) raise `NotImplementedError`. We'll have you fill those in in a bit. Hold off for now.\n",
        "\n",
        "* As described in the introductory lecture, this grammar makes use of Richard Montague's idea that noun phrase meanings should apply to verb phrase meanings, rather than the other way around. In so doing, we allow for quantifiers within noun phrases to scope over their verb phrases. But this approach necessitates changing the types of even simple noun phrases like \"Boston\". Instead of denoting an object, it too must denote a function from properties to truth values: $\\lambda P. P(Boston)$. \n",
        "\n",
        "We parse the grammar specification to extract an NLTK grammar and the augmentation dictionary, and construct a parser for the grammar."
      ]
    },
    {
      "cell_type": "code",
      "metadata": {
        "id": "yFsPMgRh_Ku6"
      },
      "source": [
        "grammar, augmentations = xform.parse_augmented_grammar(grammar_spec, globals=globals())\n",
        "parser = nltk.parse.BottomUpChartParser(grammar)"
      ],
      "execution_count": 415,
      "outputs": []
    },
    {
      "cell_type": "markdown",
      "metadata": {
        "id": "R9arBrRXYDZ2"
      },
      "source": [
        "Let's create a syntactic parse tree of the sentence we've been working with: "
      ]
    },
    {
      "cell_type": "code",
      "metadata": {
        "id": "J9C5ANDCecN4",
        "colab": {
          "base_uri": "https://localhost:8080/"
        },
        "outputId": "daddcc4b-338e-4242-a744-3eb91585070c"
      },
      "source": [
        "sentence = \"every flight leaves from a capital\".split()\n",
        "parses = [p for p in parser.parse(sentence)]\n",
        "for tree in parses:\n",
        "    tree.pretty_print()"
      ],
      "execution_count": 416,
      "outputs": [
        {
          "output_type": "stream",
          "text": [
            "                   S                                \n",
            "        ___________|______________                   \n",
            "       |                          VP                \n",
            "       |                  ________|_______           \n",
            "       NP                |                NP        \n",
            "   ____|____             |             ___|_____     \n",
            "  |        NOM           |            |        NOM  \n",
            "  |         |            |            |         |    \n",
            " DET        N            V           DET        N   \n",
            "  |         |       _____|___         |         |    \n",
            "every     flight leaves     from      a      capital\n",
            "\n"
          ],
          "name": "stdout"
        }
      ]
    },
    {
      "cell_type": "markdown",
      "metadata": {
        "id": "4OrZpUzeYUbD"
      },
      "source": [
        "To carry out the semantic interpretation process, we will use the same notation as in lab 4-1, where the variable `A__some_words` will be given the meaning for the constituent with nonterminal `A` with the span \"some words\". We start building the semantic representation by applying the semantic composition rules from the syntactic-semantic grammar to the meanings of the subconstituents bottom up. Here are the first few steps:"
      ]
    },
    {
      "cell_type": "code",
      "metadata": {
        "id": "SF24sRZ0_Ku7"
      },
      "source": [
        "DET__every = (lambda: lambda R: lambda S: for_all(R, S)) () # lambda R: lambda S: for_all(R, S)\n",
        "N__flight = (lambda: lambda x: x in Flight) () # lambda x: x in Flight\n",
        "NOM__flight = (lambda X: X) (N__flight) # lambda x: x in Flight\n",
        "NP__every_flight = (lambda DET, NN: DET(NN)) (DET__every, NOM__flight) # lambda S: for_all(lambda x: x in Flight, S)"
      ],
      "execution_count": 417,
      "outputs": []
    },
    {
      "cell_type": "markdown",
      "metadata": {
        "deletable": false,
        "editable": false,
        "id": "HOd4xnzh_Ku7"
      },
      "source": [
        "Now you complete the derivation, computing the meanings for each of the remaining constituents.\n",
        "<!--\n",
        "BEGIN QUESTION\n",
        "name: complete_derivation\n",
        "-->"
      ]
    },
    {
      "cell_type": "code",
      "metadata": {
        "id": "Khf5dJjp_Ku8"
      },
      "source": [
        "DET__a = (lambda: lambda R: lambda S: there_exists(R, S))()\n",
        "N__capital = (lambda: lambda x: x in Capital)()\n",
        "NOM__capital = (lambda X: X)(N__capital)\n",
        "NP__a_capital = (lambda DET, NOM: DET(NOM))(DET__a, NOM__capital)\n",
        "V__leaves_from = (lambda: lambda Subj: lambda Obj: (Subj, Obj) in Origin)()\n",
        "VP__leaves_from_a_capital = (lambda V, NP: lambda x: NP(V(x)))(V__leaves_from ,NP__a_capital)\n",
        "S__every_flight_leaves_from_a_capital = (lambda NP, VP: NP(VP))(NP__every_flight, VP__leaves_from_a_capital)\n"
      ],
      "execution_count": 418,
      "outputs": []
    },
    {
      "cell_type": "code",
      "metadata": {
        "deletable": false,
        "editable": false,
        "id": "b3Pox2Ww_Ku8",
        "colab": {
          "base_uri": "https://localhost:8080/",
          "height": 46
        },
        "outputId": "5132c0a7-4bac-4f12-af4c-6585d4016127"
      },
      "source": [
        "grader.check(\"complete_derivation\")"
      ],
      "execution_count": 419,
      "outputs": [
        {
          "output_type": "execute_result",
          "data": {
            "text/html": [
              "\n",
              "    \n",
              "    \n",
              "        <p>All tests passed!</p>\n",
              "    \n",
              "    "
            ],
            "text/plain": [
              "\n",
              "    All tests passed!\n",
              "    "
            ]
          },
          "metadata": {
            "tags": []
          },
          "execution_count": 419
        }
      ]
    },
    {
      "cell_type": "markdown",
      "metadata": {
        "id": "2cgBofzo_Ku8"
      },
      "source": [
        "Now that you've completed the semantic derivation, let's see what truth value the model provides for this sentence."
      ]
    },
    {
      "cell_type": "code",
      "metadata": {
        "id": "neybJFWN_Ku8",
        "colab": {
          "base_uri": "https://localhost:8080/"
        },
        "outputId": "02142202-742a-4645-a7e6-2209e08fcdb2"
      },
      "source": [
        "S__every_flight_leaves_from_a_capital"
      ],
      "execution_count": 420,
      "outputs": [
        {
          "output_type": "execute_result",
          "data": {
            "text/plain": [
              "True"
            ]
          },
          "metadata": {
            "tags": []
          },
          "execution_count": 420
        }
      ]
    },
    {
      "cell_type": "markdown",
      "metadata": {
        "deletable": false,
        "editable": false,
        "id": "nM2LcVbEKzlP"
      },
      "source": [
        "<!-- BEGIN QUESTION -->\n",
        "\n",
        "According to the result, which of the two readings for the sentence (AE or EA) do you think the augmented grammar produced? Can we get the other reading with the same augmented grammar? What problems do you see resulting from this behavior?\n",
        "\n",
        "<!--\n",
        "BEGIN QUESTION\n",
        "name: ambiguity_open_question\n",
        "manual: true\n",
        "-->"
      ]
    },
    {
      "cell_type": "markdown",
      "metadata": {
        "id": "abrAIgnC_Ku9"
      },
      "source": [
        "The agumented grammer produced the AE version which returned value is True as the AE version we implemeted manually before. \r\n",
        "\r\n",
        "We can't get the other reading, because if we'll try to will find that we need to construct an object which represents the semantic value of 'XRule_every_flight_leaves_from' and having V__leaves_from as V and NP__every_flight as NP there is only one way to augment them, which doesn't ends in the desiarble other reading. \r\n",
        "\r\n",
        "The problem that we can't create any EA semantic sentences and to solve it, we must change the grammer to have additional augmentation rules. "
      ]
    },
    {
      "cell_type": "markdown",
      "metadata": {
        "id": "tbKJcoed_Ku9"
      },
      "source": [
        "<!-- END QUESTION -->\n",
        "\n",
        "\n",
        "\n",
        "## Extending the grammar\n",
        "\n",
        "To make the language more interesting, we'll extend the grammar to allow for relative clauses like \"that leaves from Boston\" or \"that goes to a capital\". Fill in the augmentations that raise `NotImplementedError` in the grammar above to allow for these. "
      ]
    },
    {
      "cell_type": "code",
      "metadata": {
        "id": "ayLdNyG2_Ku9",
        "colab": {
          "base_uri": "https://localhost:8080/"
        },
        "outputId": "6b5bc486-29b4-4080-9c29-1624dc55e99d"
      },
      "source": [
        "sentence = \"every flight that goes to Tel Aviv goes to a capital\"\n",
        "parse = list(parser.parse(sentence.split()))[0]\n",
        "parse.pretty_print()"
      ],
      "execution_count": 421,
      "outputs": [
        {
          "output_type": "stream",
          "text": [
            "                                       S                                           \n",
            "         ______________________________|_________________________                   \n",
            "        NP                                                       |                 \n",
            "   _____|__________                                              |                  \n",
            "  |               NOM                                            VP                \n",
            "  |      __________|_________                             _______|_______           \n",
            "  |     |                  S_COMP                        |               NP        \n",
            "  |     |      ______________|_____                      |            ___|_____     \n",
            "  |    NOM    |                    VP                    |           |        NOM  \n",
            "  |     |     |          __________|_______              |           |         |    \n",
            " DET    N     |         V                  NP            V          DET        N   \n",
            "  |     |     |     ____|____           ___|___      ____|___        |         |    \n",
            "every flight that goes       to       Tel     Aviv goes      to      a      capital\n",
            "\n"
          ],
          "name": "stdout"
        }
      ]
    },
    {
      "cell_type": "markdown",
      "metadata": {
        "deletable": false,
        "editable": false,
        "id": "VKk5xFcd_Ku-"
      },
      "source": [
        "To test the extended grammar, we'll make use of the `interpret` function you implemented in lab 4-2. The skeleton is provided here for your convenience. Copy in your solution.\n",
        "\n",
        "<!--\n",
        "BEGIN QUESTION\n",
        "name: grammar_extension\n",
        "-->"
      ]
    },
    {
      "cell_type": "code",
      "metadata": {
        "id": "rmz7HbOZ_Ku-"
      },
      "source": [
        "def interpret(tree, augmentations):\n",
        "    if not isinstance(tree, nltk.Tree):\n",
        "        return None\n",
        "    args= [] \n",
        "    for child in tree:\n",
        "        args.append(interpret(child, augmentations))\n",
        "    args = [ x for x in args if x is not None]\n",
        "    result = augmentations[tree.productions()[0]](*args)\n",
        "    return result"
      ],
      "execution_count": 422,
      "outputs": []
    },
    {
      "cell_type": "code",
      "metadata": {
        "deletable": false,
        "editable": false,
        "id": "H6NWFURf_Ku-",
        "colab": {
          "base_uri": "https://localhost:8080/",
          "height": 46
        },
        "outputId": "cbc3f13b-b9f2-43c6-8762-218a38e92b24"
      },
      "source": [
        "grader.check(\"grammar_extension\")"
      ],
      "execution_count": 423,
      "outputs": [
        {
          "output_type": "execute_result",
          "data": {
            "text/html": [
              "\n",
              "    \n",
              "    \n",
              "        <p>All tests passed!</p>\n",
              "    \n",
              "    "
            ],
            "text/plain": [
              "\n",
              "    All tests passed!\n",
              "    "
            ]
          },
          "metadata": {
            "tags": []
          },
          "execution_count": 423
        }
      ]
    },
    {
      "cell_type": "markdown",
      "metadata": {
        "id": "xili-NP5_Ku_"
      },
      "source": [
        "Now we can demonstrate the full range of this grammar fragment by testing out a bunch of different sentences to determine which are true and which are false"
      ]
    },
    {
      "cell_type": "code",
      "metadata": {
        "id": "h5knBEeh_Ku_"
      },
      "source": [
        "def test(sentence):\n",
        "  print(sentence)\n",
        "  parses = parser.parse(sentence.split())\n",
        "  for parse in parses:\n",
        "    print(parse, \"\\n==>\", interpret(parse, augmentations))"
      ],
      "execution_count": 424,
      "outputs": []
    },
    {
      "cell_type": "code",
      "metadata": {
        "id": "fZu38aVf_Ku_",
        "colab": {
          "base_uri": "https://localhost:8080/"
        },
        "outputId": "fa5ff6c5-8c90-4b3c-eba8-6cb86c49e6ba"
      },
      "source": [
        "test(\"every flight goes to a capital\")"
      ],
      "execution_count": 425,
      "outputs": [
        {
          "output_type": "stream",
          "text": [
            "every flight goes to a capital\n",
            "(S\n",
            "  (NP (DET every) (NOM (N flight)))\n",
            "  (VP (V goes to) (NP (DET a) (NOM (N capital))))) \n",
            "==> False\n"
          ],
          "name": "stdout"
        }
      ]
    },
    {
      "cell_type": "code",
      "metadata": {
        "id": "_XWdXPgR_Ku_",
        "colab": {
          "base_uri": "https://localhost:8080/"
        },
        "outputId": "35c2b2ff-2291-4e8a-bda9-858930e7b0cd"
      },
      "source": [
        "test(\"a flight leaves from Paris\")"
      ],
      "execution_count": 426,
      "outputs": [
        {
          "output_type": "stream",
          "text": [
            "a flight leaves from Paris\n",
            "(S (NP (DET a) (NOM (N flight))) (VP (V leaves from) (NP Paris))) \n",
            "==> True\n"
          ],
          "name": "stdout"
        }
      ]
    },
    {
      "cell_type": "code",
      "metadata": {
        "id": "ikVe-3bL_KvA",
        "colab": {
          "base_uri": "https://localhost:8080/"
        },
        "outputId": "fe7632b9-9ca1-4494-c48f-e7eeefe7b855"
      },
      "source": [
        "test(\"a flight leaves from London\")"
      ],
      "execution_count": 427,
      "outputs": [
        {
          "output_type": "stream",
          "text": [
            "a flight leaves from London\n",
            "(S (NP (DET a) (NOM (N flight))) (VP (V leaves from) (NP London))) \n",
            "==> True\n"
          ],
          "name": "stdout"
        }
      ]
    },
    {
      "cell_type": "code",
      "metadata": {
        "id": "0ttYanJz_KvA",
        "colab": {
          "base_uri": "https://localhost:8080/"
        },
        "outputId": "df692563-b713-40fd-9612-992ba3c48931"
      },
      "source": [
        "test(\"every flight that goes to Tel Aviv goes to a capital\")"
      ],
      "execution_count": 428,
      "outputs": [
        {
          "output_type": "stream",
          "text": [
            "every flight that goes to Tel Aviv goes to a capital\n",
            "(S\n",
            "  (NP\n",
            "    (DET every)\n",
            "    (NOM\n",
            "      (NOM (N flight))\n",
            "      (S_COMP that (VP (V goes to) (NP Tel Aviv)))))\n",
            "  (VP (V goes to) (NP (DET a) (NOM (N capital))))) \n",
            "==> False\n"
          ],
          "name": "stdout"
        }
      ]
    },
    {
      "cell_type": "code",
      "metadata": {
        "id": "VDydH5I8_KvA",
        "colab": {
          "base_uri": "https://localhost:8080/"
        },
        "outputId": "f38e2b12-26a0-49ab-b0c4-b552f7c6729c"
      },
      "source": [
        "test(\"every flight that leaves from a capital goes to a capital\")"
      ],
      "execution_count": 429,
      "outputs": [
        {
          "output_type": "stream",
          "text": [
            "every flight that leaves from a capital goes to a capital\n",
            "(S\n",
            "  (NP\n",
            "    (DET every)\n",
            "    (NOM\n",
            "      (NOM (N flight))\n",
            "      (S_COMP\n",
            "        that\n",
            "        (VP (V leaves from) (NP (DET a) (NOM (N capital)))))))\n",
            "  (VP (V goes to) (NP (DET a) (NOM (N capital))))) \n",
            "==> False\n"
          ],
          "name": "stdout"
        }
      ]
    },
    {
      "cell_type": "code",
      "metadata": {
        "id": "hnPC0ca3_KvB",
        "colab": {
          "base_uri": "https://localhost:8080/"
        },
        "outputId": "f1739555-d79f-4253-862c-425bab1e55c9"
      },
      "source": [
        "test(\"every flight that goes to a capital leaves from a capital\")"
      ],
      "execution_count": 430,
      "outputs": [
        {
          "output_type": "stream",
          "text": [
            "every flight that goes to a capital leaves from a capital\n",
            "(S\n",
            "  (NP\n",
            "    (DET every)\n",
            "    (NOM\n",
            "      (NOM (N flight))\n",
            "      (S_COMP that (VP (V goes to) (NP (DET a) (NOM (N capital)))))))\n",
            "  (VP (V leaves from) (NP (DET a) (NOM (N capital))))) \n",
            "==> True\n"
          ],
          "name": "stdout"
        }
      ]
    },
    {
      "cell_type": "code",
      "metadata": {
        "id": "YHXYvP-g_KvB",
        "colab": {
          "base_uri": "https://localhost:8080/"
        },
        "outputId": "a9a86eb3-5625-48ca-9ad8-11ffcaa5de5c"
      },
      "source": [
        "test(\"every flight that goes to a city leaves from a capital\")"
      ],
      "execution_count": 431,
      "outputs": [
        {
          "output_type": "stream",
          "text": [
            "every flight that goes to a city leaves from a capital\n",
            "(S\n",
            "  (NP\n",
            "    (DET every)\n",
            "    (NOM\n",
            "      (NOM (N flight))\n",
            "      (S_COMP that (VP (V goes to) (NP (DET a) (NOM (N city)))))))\n",
            "  (VP (V leaves from) (NP (DET a) (NOM (N capital))))) \n",
            "==> True\n"
          ],
          "name": "stdout"
        }
      ]
    },
    {
      "cell_type": "markdown",
      "metadata": {
        "deletable": false,
        "editable": false,
        "id": "kXVwBj47_KvB"
      },
      "source": [
        "<!-- BEGIN QUESTION -->\n",
        "\n",
        "---\n",
        "\n",
        "## Lab debrief – for consensus submission only\n",
        "\n",
        "**Question:** We're interested in any thoughts your group has about this lab so that we can improve this lab for later years, and to inform later labs for this year. Please list any issues that arose or comments you have to improve the lab. Useful things to comment on include the following: \n",
        "\n",
        "* Was the lab too long or too short?\n",
        "* Were the readings appropriate for the lab? \n",
        "* Was it clear (at least after you completed the lab) what the points of the exercises were? \n",
        "* Are there additions or changes you think would make the lab better?\n",
        "\n",
        "<!--\n",
        "BEGIN QUESTION\n",
        "name: open_response_debrief\n",
        "manual: true\n",
        "-->"
      ]
    },
    {
      "cell_type": "markdown",
      "metadata": {
        "id": "FghCs523_KvB"
      },
      "source": [
        "_Type your answer here, replacing this text._"
      ]
    },
    {
      "cell_type": "markdown",
      "metadata": {
        "id": "K_rt0u6z_KvC"
      },
      "source": [
        "<!-- END QUESTION -->\n",
        "\n",
        "\n",
        "\n",
        "# End of Lab 4-2B"
      ]
    },
    {
      "cell_type": "markdown",
      "metadata": {
        "deletable": false,
        "editable": false,
        "id": "E57kDqse_KvC"
      },
      "source": [
        "---\n",
        "\n",
        "To double-check your work, the cell below will rerun all of the autograder tests."
      ]
    },
    {
      "cell_type": "code",
      "metadata": {
        "deletable": false,
        "editable": false,
        "id": "jF57uxwF_KvC",
        "colab": {
          "base_uri": "https://localhost:8080/",
          "height": 209
        },
        "outputId": "2e172328-144f-45f0-c2c5-58c2435d8f4c"
      },
      "source": [
        "grader.check_all()"
      ],
      "execution_count": 432,
      "outputs": [
        {
          "output_type": "execute_result",
          "data": {
            "text/html": [
              "<p><strong>ambiguity_AE:</strong></p>\n",
              "\n",
              "    \n",
              "    \n",
              "        <p>All tests passed!</p>\n",
              "    \n",
              "    \n",
              "\n",
              "<p><strong>ambiguity_EA:</strong></p>\n",
              "\n",
              "    \n",
              "    \n",
              "        <p>All tests passed!</p>\n",
              "    \n",
              "    \n",
              "\n",
              "<p><strong>complete_derivation:</strong></p>\n",
              "\n",
              "    \n",
              "    \n",
              "        <p>All tests passed!</p>\n",
              "    \n",
              "    \n",
              "\n",
              "<p><strong>grammar_extension:</strong></p>\n",
              "\n",
              "    \n",
              "    \n",
              "        <p>All tests passed!</p>\n",
              "    \n",
              "    \n",
              "\n"
            ],
            "text/plain": [
              "ambiguity_AE:\n",
              "\n",
              "    All tests passed!\n",
              "    \n",
              "\n",
              "ambiguity_EA:\n",
              "\n",
              "    All tests passed!\n",
              "    \n",
              "\n",
              "complete_derivation:\n",
              "\n",
              "    All tests passed!\n",
              "    \n",
              "\n",
              "grammar_extension:\n",
              "\n",
              "    All tests passed!\n",
              "    \n"
            ]
          },
          "metadata": {
            "tags": []
          },
          "execution_count": 432
        }
      ]
    }
  ]
}