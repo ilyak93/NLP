{
  "nbformat": 4,
  "nbformat_minor": 0,
  "metadata": {
    "colab": {
      "name": "lab3-2.ipynb",
      "provenance": [],
      "collapsed_sections": [
        "VDT_jXJT19x9"
      ]
    },
    "kernelspec": {
      "display_name": "Python 3",
      "language": "python",
      "name": "python3"
    },
    "language_info": {
      "codemirror_mode": {
        "name": "ipython",
        "version": 3
      },
      "file_extension": ".py",
      "mimetype": "text/x-python",
      "name": "python",
      "nbconvert_exporter": "python",
      "pygments_lexer": "ipython3",
      "version": "3.8.3"
    },
    "title": "CS187 Lab 3-2: Context-free parsing"
  },
  "cells": [
    {
      "cell_type": "code",
      "metadata": {
        "deletable": false,
        "editable": false,
        "jupyter": {
          "outputs_hidden": true,
          "source_hidden": true
        },
        "id": "Q--th-v_oU7L",
        "colab": {
          "base_uri": "https://localhost:8080/"
        },
        "outputId": "d1ed1cf1-fb0b-486a-8e2a-35b56e1f6001"
      },
      "source": [
        "# Please do not change this cell because some hidden tests might depend on it.\n",
        "import os\n",
        "\n",
        "# Otter grader does not handle ! commands well, so we define and use our\n",
        "# own function to execute shell commands.\n",
        "def shell(commands, warn=True):\n",
        "    \"\"\"Executes the string `commands` as a sequence of shell commands.\n",
        "     \n",
        "       Prints the result to stdout and returns the exit status. \n",
        "       Provides a printed warning on non-zero exit status unless `warn` \n",
        "       flag is unset.\n",
        "    \"\"\"\n",
        "    file = os.popen(commands)\n",
        "    print (file.read().rstrip('\\n'))\n",
        "    exit_status = file.close()\n",
        "    if warn and exit_status != None:\n",
        "        print(f\"Completed with errors. Exit status: {exit_status}\\n\")\n",
        "    return exit_status\n",
        "\n",
        "shell(\"\"\"\n",
        "ls requirements.txt >/dev/null 2>&1\n",
        "if [ ! $? = 0 ]; then\n",
        " rm -rf .tmp\n",
        " git clone https://github.com/cs236299-2020/lab3-2.git .tmp\n",
        " mv .tmp/tests ./\n",
        " mv .tmp/requirements.txt ./\n",
        " rm -rf .tmp\n",
        "fi\n",
        "pip install -q -r requirements.txt\n",
        "\"\"\")"
      ],
      "execution_count": 6,
      "outputs": [
        {
          "output_type": "stream",
          "text": [
            "\n"
          ],
          "name": "stdout"
        }
      ]
    },
    {
      "cell_type": "code",
      "metadata": {
        "deletable": false,
        "editable": false,
        "id": "LD-E5XogoU7Z"
      },
      "source": [
        "# Initialize Otter\n",
        "import otter\n",
        "grader = otter.Notebook()"
      ],
      "execution_count": 7,
      "outputs": []
    },
    {
      "cell_type": "markdown",
      "metadata": {
        "id": "SJrVMRs2oU7a"
      },
      "source": [
        "%%latex\n",
        "\\newcommand{\\vect}[1]{\\mathbf{#1}}\n",
        "\\newcommand{\\cnt}[1]{\\sharp(#1)}\n",
        "\\newcommand{\\argmax}[1]{\\underset{#1}{\\operatorname{argmax}}}\n",
        "\\newcommand{\\softmax}{\\operatorname{softmax}}\n",
        "\\newcommand{\\Prob}{\\Pr}\n",
        "\\newcommand{\\given}{\\,|\\,}"
      ]
    },
    {
      "cell_type": "markdown",
      "metadata": {
        "id": "vX2spFfGoU7b"
      },
      "source": [
        "$$\n",
        "\\renewcommand{\\vect}[1]{\\mathbf{#1}}\n",
        "\\renewcommand{\\cnt}[1]{\\sharp(#1)}\n",
        "\\renewcommand{\\argmax}[1]{\\underset{#1}{\\operatorname{argmax}}}\n",
        "\\renewcommand{\\softmax}{\\operatorname{softmax}}\n",
        "\\renewcommand{\\Prob}{\\Pr}\n",
        "\\renewcommand{\\given}{\\,|\\,}\n",
        "$$"
      ]
    },
    {
      "cell_type": "markdown",
      "metadata": {
        "id": "VDT_jXJT19x9"
      },
      "source": [
        "# Course 236299\n",
        "## Lab 3-2 – Context-free parsing\n",
        "\n",
        "In this lab, you'll carry out a simple context-free recognition and parsing algorithm, the CKY algorithm independently discovered by John Cocke, Tadao Kasami, and Daniel Younger.\n",
        "\n",
        "By carrying out and understanding this lab, you should be able to\n",
        "\n",
        "* Distinguish recognition from parsing,\n",
        "* Understand the string position representation of constituents, and\n",
        "* Follow recognition algorithms for context-free grammars."
      ]
    },
    {
      "cell_type": "markdown",
      "metadata": {
        "id": "N6IML_QIoU7c"
      },
      "source": [
        "New bits of Python used for the first time in the _solution set_ for this lab, and which you may therefore find useful:\n",
        "\n",
        "* [pandas.DataFrame.iloc](https://pandas.pydata.org/pandas-docs/stable/reference/api/pandas.DataFrame.iloc.html#pandas-dataframe-iloc)\n",
        "* [set.add](https://docs.python.org/3/library/stdtypes.html#frozenset.add)"
      ]
    },
    {
      "cell_type": "markdown",
      "metadata": {
        "id": "WhjodbQx2FQk"
      },
      "source": [
        "## Preparation – Loading packages"
      ]
    },
    {
      "cell_type": "code",
      "metadata": {
        "deletable": false,
        "editable": false,
        "id": "Zd5YUDQ52Ikz"
      },
      "source": [
        "from collections import defaultdict\n",
        "import functools\n",
        "import numpy as np\n",
        "import nltk\n",
        "import pandas as pd"
      ],
      "execution_count": 8,
      "outputs": []
    },
    {
      "cell_type": "markdown",
      "metadata": {
        "id": "k4enV7BQnbbA"
      },
      "source": [
        "## CKY Recognition\n",
        "In the previous lab, you worked with context-free grammars (CFGs), and practiced defining grammars and parse trees.\n",
        "\n",
        "This lab will focus on the Cocke-Kasami-Younger (CKY) parsing algorithm.\n",
        "The input to the algorithm is a grammar in Chomsky Normal Form (CNF) and a sentence; the output of the algorithm is the set of parse trees that yield the given sentence according to the grammar (or the empty set if there are no such parse trees).\n",
        "\n",
        "We will first focus on the CKY _recognition_ algorithm, that only outputs whether the given sentence can be parsed or not. Then, we will see how to slightly modify this algorithm (by adding back-pointers) to also generate the parse trees themselves."
      ]
    },
    {
      "cell_type": "markdown",
      "metadata": {
        "id": "NW0x7hqvVmgC"
      },
      "source": [
        "## The sample grammar\n",
        "\n",
        "Recall the simple arithmetic grammar that you wrote in the previous lab. In this lab, you'll use a simplified version, containing fewer operators and numbers."
      ]
    },
    {
      "cell_type": "code",
      "metadata": {
        "id": "mgSVcQhUoU7f"
      },
      "source": [
        "arithmetic_grammar = nltk.CFG.fromstring( \n",
        "    \"\"\"\n",
        "    S -> NUM | S OP S\n",
        "    OP -> ADD | SUB | MULT | DIV\n",
        "\n",
        "    NUM -> 'zero' | 'one' | 'two' | 'three' \n",
        "    \n",
        "    ADD -> 'plus'\n",
        "    SUB -> 'minus' \n",
        "    MULT -> 'times'\n",
        "    \"\"\" \n",
        ")"
      ],
      "execution_count": 9,
      "outputs": []
    },
    {
      "cell_type": "markdown",
      "metadata": {
        "id": "exJtEzknoU7h"
      },
      "source": [
        "The CKY algorithm requires grammars in Chomsky Normal Form. Here is a CNF-converted version of the grammar, which makes use of an additional nonterminal `SOP`, which derives prefixes of `S` missing an `S` at the right edge, strings like, for instance, `one plus` or `one plus two times`."
      ]
    },
    {
      "cell_type": "code",
      "metadata": {
        "id": "zDZbjNG82i-C",
        "colab": {
          "base_uri": "https://localhost:8080/"
        },
        "outputId": "bb525e9b-e198-4065-e9aa-d08cf5e8ede2"
      },
      "source": [
        "cnf_arithmetic_grammar = nltk.CFG.fromstring(\n",
        "    \"\"\"\n",
        "    S -> 'zero' | 'one' | 'two' | 'three'\n",
        "    S -> SOP S \n",
        "    \n",
        "    SOP -> S ADD | S SUB | S MULT\n",
        "\n",
        "    ADD -> 'plus'\n",
        "    SUB -> 'minus' \n",
        "    MULT -> 'times'\n",
        "    \"\"\"\n",
        ")\n",
        "\n",
        "print(cnf_arithmetic_grammar)"
      ],
      "execution_count": 10,
      "outputs": [
        {
          "output_type": "stream",
          "text": [
            "Grammar with 11 productions (start state = S)\n",
            "    S -> 'zero'\n",
            "    S -> 'one'\n",
            "    S -> 'two'\n",
            "    S -> 'three'\n",
            "    S -> SOP S\n",
            "    SOP -> S ADD\n",
            "    SOP -> S SUB\n",
            "    SOP -> S MULT\n",
            "    ADD -> 'plus'\n",
            "    SUB -> 'minus'\n",
            "    MULT -> 'times'\n"
          ],
          "name": "stdout"
        }
      ]
    },
    {
      "cell_type": "markdown",
      "metadata": {
        "id": "XkwQuwnhWaSq"
      },
      "source": [
        "We can verify that the grammar is in CNF, as required by the CKY algorithm."
      ]
    },
    {
      "cell_type": "markdown",
      "metadata": {
        "id": "KrYsGfzY38K-"
      },
      "source": [
        ""
      ]
    },
    {
      "cell_type": "code",
      "metadata": {
        "id": "rbR5S13ZnIgZ",
        "colab": {
          "base_uri": "https://localhost:8080/"
        },
        "outputId": "6b146f0f-4e4a-4733-9c15-4aab1f945e23"
      },
      "source": [
        "cnf_arithmetic_grammar.is_chomsky_normal_form()"
      ],
      "execution_count": 11,
      "outputs": [
        {
          "output_type": "execute_result",
          "data": {
            "text/plain": [
              "True"
            ]
          },
          "metadata": {
            "tags": []
          },
          "execution_count": 11
        }
      ]
    },
    {
      "cell_type": "markdown",
      "metadata": {
        "id": "4a0XePr3Wqvv"
      },
      "source": [
        "Given the sentence \"*one plus two times three*\", what would be its parse tree according to the grammar?\n",
        "\n",
        "Without any specific handling of arithmetic operator precedence, this \"sentence\" can be either parsed as:\n",
        "\n",
        "* `(one plus two) times three`\n",
        "\n",
        "or:\n",
        "\n",
        "* `one plus (two times three)`"
      ]
    },
    {
      "cell_type": "markdown",
      "metadata": {
        "id": "qdhqLAgiYTWS"
      },
      "source": [
        "Let's see how a parser parses this sentence:"
      ]
    },
    {
      "cell_type": "code",
      "metadata": {
        "id": "XEihL7hE3Ran",
        "colab": {
          "base_uri": "https://localhost:8080/"
        },
        "outputId": "02de0c24-0479-44ea-fcc6-d3451c658037"
      },
      "source": [
        "sentence = \"one plus two times three\"\n",
        "words = sentence.split()\n",
        "\n",
        "parser = nltk.parse.BottomUpChartParser(cnf_arithmetic_grammar)\n",
        "for tree in parser.parse(words):\n",
        "    tree.pretty_print()"
      ],
      "execution_count": 12,
      "outputs": [
        {
          "output_type": "stream",
          "text": [
            "                  S             \n",
            "               ___|__________    \n",
            "             SOP             |  \n",
            "          ____|________      |   \n",
            "         S             |     |  \n",
            "      ___|________     |     |   \n",
            "    SOP           |    |     |  \n",
            "  ___|___         |    |     |   \n",
            " S      ADD       S   MULT   S  \n",
            " |       |        |    |     |   \n",
            "one     plus     two times three\n",
            "\n",
            "              S                 \n",
            "      ________|________          \n",
            "     |                 S        \n",
            "     |             ____|_____    \n",
            "    SOP          SOP         |  \n",
            "  ___|___      ___|____      |   \n",
            " S      ADD   S       MULT   S  \n",
            " |       |    |        |     |   \n",
            "one     plus two     times three\n",
            "\n"
          ],
          "name": "stdout"
        }
      ]
    },
    {
      "cell_type": "markdown",
      "metadata": {
        "id": "fpcp_Nhwbg_A"
      },
      "source": [
        "As you can see, `nltk`'s parser finds the two possible parses. In this lab, you will manually parse this sentence using the CKY algorithm.\n",
        "\n",
        "The CKY algorithm is a simple dynamic programming algorithm. Dynamic programming algorithms work by solving every subproblem of a given problem, in an order such that larger subproblems can merely recombine solutions of smaller subproblems already solved. In the case of CNF parsing, the subproblems are the parsing of _every substring_ as _every nonterminal_. In the end, of course, all we care about is whether the _entire string_ can be parsed as _the start nonterminal_. But by calculating all of the subproblems in order from the shortest to the longest substrings, we can acquire the information we need in the end.\n",
        "\n",
        "<img src=\"https://github.com/nlp-course/data/raw/master/Resources/cky-chart.png\" width=400 align=right />\n",
        "\n",
        "We start by representing the string to be parsed in such a way that we can represent each of its substrings compactly. Consider the string `one plus two times three`. We can think of the positions between the words as being numbered from zero to the length of the string (5), as depicted in the figure at right. Then any substring can be characterized by the string position to its left and the string position to its right, which we'll call a _span_. For instance, the substring `one plus` corresponds to the span 0–2 and `two times three` to the span 2–5. Adjacent spans (like these two) share a string position, in this case the string position 2, which corresponds to the \"split point\" that divides the spans. Two adjacent spans can be combined to form a longer one; the full span is between the left string position of the left span and the right string position of the right span, 0–5.\n",
        "\n",
        "Some substrings are generated by the grammar from particular nonterminals. For instance, in the example at right, the substring in the span 0–2 is generated by the grammar as an `SOP`, and 2–5 as an `S`. We'll call a span generable by a particular nonterminal a _potential constituent_.\n",
        "\n",
        "The CKY algorithm proceeds by generating every potential subconstituent of the string to be parsed. It does so by filling in a table `T` indexed by two string positions (a span, specifying a substring) whose entries are sets of nonterminals that can generate the substring between the string positions. Thus, the algorithm in parsing the string `one plus two times three` will place `SOP` in the table at entry `T[0, 2]` and `S` at entry `T[2, 5]`. It follows from these two entries, plus the existence of a rule `S -> SOP S` in the grammar, that there should also be an entry `S` in `T[0, 5]`. By filling in these table entries in a particular order, making use of entries previously filled out, the full set of potential subconstiuents can be determined, and hence, the particular question of whether `S` covers the entire string can be answered simply by inspecting `T[0, N]`.\n",
        "\n",
        "Here is the CKY algorithm in pseudo-code:\n",
        "\n",
        "```\n",
        " 1.  define cky-parse(string = w1, ..., wN, grammar):\n",
        " 2.      for j in [1..N]:                     # each end string position\n",
        "\n",
        "             # handle rules of the form A -> w\n",
        "             # where wj is the \"current\" word\n",
        " 3.          for all A where A --> wj in grammar:\n",
        " 4.              add A to T[j-1, j]\n",
        "\n",
        "             # handle rules of the form A -> B C\n",
        " 5.          for length in [2..j]:            # each subconstituent length\n",
        " 6.              i := j - length              # start string position\n",
        " 7.              for split in [i+1..j-1]      # each split point\n",
        " 8.                  for all A where \n",
        " 9.                          A -> B C in grammar\n",
        "10.                          and B in T[i, split]\n",
        "11.                          and C in T[split, j]:\n",
        "12.                      add A to T[i, j]\n",
        "13.      if S in T[0, N]:\n",
        "             return \"parsed\"\n",
        "         else:\n",
        "             return \"failed\"\n",
        "```\n",
        "\n",
        "The idea is that we parse the sentence bottom-up, where in every step we check whether a given subsequence of the input can be derived from any single nonterminal. If we perform this in the right order (as above), at every step we already know whether each of the possible splits of the subsequence creates valid subparses.\n",
        "\n",
        "In this lab, you'll carry out the CKY algorithm manually. *We recommend keeping the above algorithm open in another window so you can use it throughout the lab without scrolling*.\n",
        "\n",
        "> A detail concerning implementing the algorithm in Python, with its zero-based indexing: Zero-based indexing works quite naturally for the table `T`, since the string positions start with zero. However, the input sentence itself uses one-based indexing, that is, the first word in the input sentence is denoted as `w1` in the pseudo-code. To make it easier to follow the algorithm, we can match our indices to the algorithm's by adding a dummy symbol at the start of the sentence."
      ]
    },
    {
      "cell_type": "code",
      "metadata": {
        "id": "JXUdqS-PRX0K",
        "colab": {
          "base_uri": "https://localhost:8080/"
        },
        "outputId": "c87ea8ef-fd4b-4cc8-8977-f7b5aabb9ba3"
      },
      "source": [
        "words = [''] + sentence.split()\n",
        "words"
      ],
      "execution_count": 13,
      "outputs": [
        {
          "output_type": "execute_result",
          "data": {
            "text/plain": [
              "['', 'one', 'plus', 'two', 'times', 'three']"
            ]
          },
          "metadata": {
            "tags": []
          },
          "execution_count": 13
        }
      ]
    },
    {
      "cell_type": "markdown",
      "metadata": {
        "id": "XkZcUJweRAa5"
      },
      "source": [
        "For the table, we'll use a `pandas` dataframe, primarily for its readable output. (We don't recommend using this data structure when implementing the CKY algorithm variants in project segment 3.)\n",
        "\n",
        "* Entries that contain `'---'` do not need to be modified.\n",
        "* To denote entries that contain no non-terminals, we will use `set()` as their content (an empty set).\n",
        "* To denote entries that contain one or more nonterminals `A`, `B`, and `C`, we will use, e.g., `set(['A'])` or `set(['A','B','C'])`"
      ]
    },
    {
      "cell_type": "code",
      "metadata": {
        "id": "TgOwHTT1aMPY",
        "colab": {
          "base_uri": "https://localhost:8080/",
          "height": 248
        },
        "outputId": "9684957d-8afc-4745-8bc4-da0197b086e6"
      },
      "source": [
        "data = [\n",
        "        ['---',  set(),  set(),  set(),  set(),  set()],\n",
        "        ['---',  '---',  set(),  set(),  set(),  set()],\n",
        "        ['---',  '---',  '---',  set(),  set(),  set()],\n",
        "        ['---',  '---',  '---',  '---',  set(),  set()],\n",
        "        ['---',  '---',  '---',  '---',  '---',  set()],\n",
        "        ['---',  '---',  '---',  '---',  '---',  '---'],\n",
        "]\n",
        "\n",
        "table = pd.DataFrame(data, columns=words, index=list('012345'))\n",
        "table.columns = pd.MultiIndex.from_arrays([table.columns] + [list('012345')])\n",
        "table"
      ],
      "execution_count": 14,
      "outputs": [
        {
          "output_type": "execute_result",
          "data": {
            "text/html": [
              "<div>\n",
              "<style scoped>\n",
              "    .dataframe tbody tr th:only-of-type {\n",
              "        vertical-align: middle;\n",
              "    }\n",
              "\n",
              "    .dataframe tbody tr th {\n",
              "        vertical-align: top;\n",
              "    }\n",
              "\n",
              "    .dataframe thead tr th {\n",
              "        text-align: left;\n",
              "    }\n",
              "</style>\n",
              "<table border=\"1\" class=\"dataframe\">\n",
              "  <thead>\n",
              "    <tr>\n",
              "      <th></th>\n",
              "      <th></th>\n",
              "      <th>one</th>\n",
              "      <th>plus</th>\n",
              "      <th>two</th>\n",
              "      <th>times</th>\n",
              "      <th>three</th>\n",
              "    </tr>\n",
              "    <tr>\n",
              "      <th></th>\n",
              "      <th>0</th>\n",
              "      <th>1</th>\n",
              "      <th>2</th>\n",
              "      <th>3</th>\n",
              "      <th>4</th>\n",
              "      <th>5</th>\n",
              "    </tr>\n",
              "  </thead>\n",
              "  <tbody>\n",
              "    <tr>\n",
              "      <th>0</th>\n",
              "      <td>---</td>\n",
              "      <td>{}</td>\n",
              "      <td>{}</td>\n",
              "      <td>{}</td>\n",
              "      <td>{}</td>\n",
              "      <td>{}</td>\n",
              "    </tr>\n",
              "    <tr>\n",
              "      <th>1</th>\n",
              "      <td>---</td>\n",
              "      <td>---</td>\n",
              "      <td>{}</td>\n",
              "      <td>{}</td>\n",
              "      <td>{}</td>\n",
              "      <td>{}</td>\n",
              "    </tr>\n",
              "    <tr>\n",
              "      <th>2</th>\n",
              "      <td>---</td>\n",
              "      <td>---</td>\n",
              "      <td>---</td>\n",
              "      <td>{}</td>\n",
              "      <td>{}</td>\n",
              "      <td>{}</td>\n",
              "    </tr>\n",
              "    <tr>\n",
              "      <th>3</th>\n",
              "      <td>---</td>\n",
              "      <td>---</td>\n",
              "      <td>---</td>\n",
              "      <td>---</td>\n",
              "      <td>{}</td>\n",
              "      <td>{}</td>\n",
              "    </tr>\n",
              "    <tr>\n",
              "      <th>4</th>\n",
              "      <td>---</td>\n",
              "      <td>---</td>\n",
              "      <td>---</td>\n",
              "      <td>---</td>\n",
              "      <td>---</td>\n",
              "      <td>{}</td>\n",
              "    </tr>\n",
              "    <tr>\n",
              "      <th>5</th>\n",
              "      <td>---</td>\n",
              "      <td>---</td>\n",
              "      <td>---</td>\n",
              "      <td>---</td>\n",
              "      <td>---</td>\n",
              "      <td>---</td>\n",
              "    </tr>\n",
              "  </tbody>\n",
              "</table>\n",
              "</div>"
            ],
            "text/plain": [
              "        one plus  two times three\n",
              "     0    1    2    3     4     5\n",
              "0  ---   {}   {}   {}    {}    {}\n",
              "1  ---  ---   {}   {}    {}    {}\n",
              "2  ---  ---  ---   {}    {}    {}\n",
              "3  ---  ---  ---  ---    {}    {}\n",
              "4  ---  ---  ---  ---   ---    {}\n",
              "5  ---  ---  ---  ---   ---   ---"
            ]
          },
          "metadata": {
            "tags": []
          },
          "execution_count": 14
        }
      ]
    },
    {
      "cell_type": "markdown",
      "metadata": {
        "deletable": false,
        "editable": false,
        "id": "cqMXBAZujxn7"
      },
      "source": [
        "We will now manually track the execution of the algorithm. The first step in the algorithm is a loop for `j` starting at `1`. Then, \n",
        "\n",
        "```\n",
        " 3.          for all A where A --> wj in grammar:\n",
        " 4.              add A to T[j-1, j]\n",
        "```\n",
        "\n",
        "In the case at hand `wj` (that is `w1`, that is `words[1]`) is `one`. And sure enough there is a rule in the grammar of the required form, namely, `S -> 'one'`. So we must update the table accordingly.\n",
        "\n",
        "In the next cell, update the relevant entry in the table.\n",
        "\n",
        "> You can use the `pandas` method `table.iloc[row, col]` for indexing and the `set` method `add` to add a nonterminal to a set.\n",
        "\n",
        "<!--\n",
        "BEGIN QUESTION\n",
        "name: table_addition_1\n",
        "-->"
      ]
    },
    {
      "cell_type": "code",
      "metadata": {
        "id": "AvdBHKHojTAS"
      },
      "source": [
        "#TODO -- update the table for the first step of j=1\n",
        "# 3.          for all A where A --> wj in grammar:\n",
        "# 4.              add A to T[j-1, j]\n",
        "my_words = sentence.split()\n",
        "def fill_diag(table, words, j):\n",
        "    for tree in parser.parse(words):\n",
        "        for prod in tree.productions():\n",
        "            if words[j] in list(prod.rhs()):\n",
        "                table.iloc[j,j+1].add(str(prod.lhs()))\n",
        "fill_diag(table, my_words, 0)"
      ],
      "execution_count": 15,
      "outputs": []
    },
    {
      "cell_type": "code",
      "metadata": {
        "deletable": false,
        "editable": false,
        "id": "7qoYuZBxoU75",
        "colab": {
          "base_uri": "https://localhost:8080/",
          "height": 45
        },
        "outputId": "c78eb77b-5da4-439f-9d68-1ea2588fcad0"
      },
      "source": [
        "grader.check(\"table_addition_1\")"
      ],
      "execution_count": 16,
      "outputs": [
        {
          "output_type": "execute_result",
          "data": {
            "text/html": [
              "\n",
              "    \n",
              "    \n",
              "        <p>All tests passed!</p>\n",
              "    \n",
              "    "
            ],
            "text/plain": [
              "\n",
              "    All tests passed!\n",
              "    "
            ]
          },
          "metadata": {
            "tags": []
          },
          "execution_count": 16
        }
      ]
    },
    {
      "cell_type": "markdown",
      "metadata": {
        "id": "HXeBmDhUoU76"
      },
      "source": [
        "Let's examine the table to make sure it worked."
      ]
    },
    {
      "cell_type": "code",
      "metadata": {
        "id": "vB2JuaWZoU76",
        "colab": {
          "base_uri": "https://localhost:8080/",
          "height": 248
        },
        "outputId": "65f2af25-da67-4e4b-ad4f-487afc416ce1"
      },
      "source": [
        "table"
      ],
      "execution_count": 17,
      "outputs": [
        {
          "output_type": "execute_result",
          "data": {
            "text/html": [
              "<div>\n",
              "<style scoped>\n",
              "    .dataframe tbody tr th:only-of-type {\n",
              "        vertical-align: middle;\n",
              "    }\n",
              "\n",
              "    .dataframe tbody tr th {\n",
              "        vertical-align: top;\n",
              "    }\n",
              "\n",
              "    .dataframe thead tr th {\n",
              "        text-align: left;\n",
              "    }\n",
              "</style>\n",
              "<table border=\"1\" class=\"dataframe\">\n",
              "  <thead>\n",
              "    <tr>\n",
              "      <th></th>\n",
              "      <th></th>\n",
              "      <th>one</th>\n",
              "      <th>plus</th>\n",
              "      <th>two</th>\n",
              "      <th>times</th>\n",
              "      <th>three</th>\n",
              "    </tr>\n",
              "    <tr>\n",
              "      <th></th>\n",
              "      <th>0</th>\n",
              "      <th>1</th>\n",
              "      <th>2</th>\n",
              "      <th>3</th>\n",
              "      <th>4</th>\n",
              "      <th>5</th>\n",
              "    </tr>\n",
              "  </thead>\n",
              "  <tbody>\n",
              "    <tr>\n",
              "      <th>0</th>\n",
              "      <td>---</td>\n",
              "      <td>{S}</td>\n",
              "      <td>{}</td>\n",
              "      <td>{}</td>\n",
              "      <td>{}</td>\n",
              "      <td>{}</td>\n",
              "    </tr>\n",
              "    <tr>\n",
              "      <th>1</th>\n",
              "      <td>---</td>\n",
              "      <td>---</td>\n",
              "      <td>{}</td>\n",
              "      <td>{}</td>\n",
              "      <td>{}</td>\n",
              "      <td>{}</td>\n",
              "    </tr>\n",
              "    <tr>\n",
              "      <th>2</th>\n",
              "      <td>---</td>\n",
              "      <td>---</td>\n",
              "      <td>---</td>\n",
              "      <td>{}</td>\n",
              "      <td>{}</td>\n",
              "      <td>{}</td>\n",
              "    </tr>\n",
              "    <tr>\n",
              "      <th>3</th>\n",
              "      <td>---</td>\n",
              "      <td>---</td>\n",
              "      <td>---</td>\n",
              "      <td>---</td>\n",
              "      <td>{}</td>\n",
              "      <td>{}</td>\n",
              "    </tr>\n",
              "    <tr>\n",
              "      <th>4</th>\n",
              "      <td>---</td>\n",
              "      <td>---</td>\n",
              "      <td>---</td>\n",
              "      <td>---</td>\n",
              "      <td>---</td>\n",
              "      <td>{}</td>\n",
              "    </tr>\n",
              "    <tr>\n",
              "      <th>5</th>\n",
              "      <td>---</td>\n",
              "      <td>---</td>\n",
              "      <td>---</td>\n",
              "      <td>---</td>\n",
              "      <td>---</td>\n",
              "      <td>---</td>\n",
              "    </tr>\n",
              "  </tbody>\n",
              "</table>\n",
              "</div>"
            ],
            "text/plain": [
              "        one plus  two times three\n",
              "     0    1    2    3     4     5\n",
              "0  ---  {S}   {}   {}    {}    {}\n",
              "1  ---  ---   {}   {}    {}    {}\n",
              "2  ---  ---  ---   {}    {}    {}\n",
              "3  ---  ---  ---  ---    {}    {}\n",
              "4  ---  ---  ---  ---   ---    {}\n",
              "5  ---  ---  ---  ---   ---   ---"
            ]
          },
          "metadata": {
            "tags": []
          },
          "execution_count": 17
        }
      ]
    },
    {
      "cell_type": "markdown",
      "metadata": {
        "deletable": false,
        "editable": false,
        "id": "fHWBxXVtpPYi"
      },
      "source": [
        "Now the next line in the algorithm specifies a loop for all lengths from 2 to `j`. But `j` is `1`, so the loop is vacuous.\n",
        "\n",
        "> Why lengths starting at 2? Because for shorter strings, there's no way to split the string into two non-empty parts. And in CNF grammars, there are no empty constituents.\n",
        "\n",
        "We're back to lines 3-4 with `j` now having the value 2. Update the table accordingly in the next cell.\n",
        "\n",
        "<!--\n",
        "BEGIN QUESTION\n",
        "name: table_addition_2\n",
        "-->"
      ]
    },
    {
      "cell_type": "code",
      "metadata": {
        "id": "kWjIMD3iSUyH"
      },
      "source": [
        "#TODO -- update the table\n",
        "fill_diag(table, my_words, 1)"
      ],
      "execution_count": 18,
      "outputs": []
    },
    {
      "cell_type": "code",
      "metadata": {
        "deletable": false,
        "editable": false,
        "id": "2a5HvDQCoU77",
        "colab": {
          "base_uri": "https://localhost:8080/",
          "height": 45
        },
        "outputId": "3894824f-7398-4620-c5c8-c86408a4d071"
      },
      "source": [
        "grader.check(\"table_addition_2\")"
      ],
      "execution_count": 19,
      "outputs": [
        {
          "output_type": "execute_result",
          "data": {
            "text/html": [
              "\n",
              "    \n",
              "    \n",
              "        <p>All tests passed!</p>\n",
              "    \n",
              "    "
            ],
            "text/plain": [
              "\n",
              "    All tests passed!\n",
              "    "
            ]
          },
          "metadata": {
            "tags": []
          },
          "execution_count": 19
        }
      ]
    },
    {
      "cell_type": "code",
      "metadata": {
        "id": "il7YIgNroU77",
        "colab": {
          "base_uri": "https://localhost:8080/",
          "height": 248
        },
        "outputId": "976e8986-26d3-40b9-985b-b3bdd5f5ffaf"
      },
      "source": [
        "table"
      ],
      "execution_count": 20,
      "outputs": [
        {
          "output_type": "execute_result",
          "data": {
            "text/html": [
              "<div>\n",
              "<style scoped>\n",
              "    .dataframe tbody tr th:only-of-type {\n",
              "        vertical-align: middle;\n",
              "    }\n",
              "\n",
              "    .dataframe tbody tr th {\n",
              "        vertical-align: top;\n",
              "    }\n",
              "\n",
              "    .dataframe thead tr th {\n",
              "        text-align: left;\n",
              "    }\n",
              "</style>\n",
              "<table border=\"1\" class=\"dataframe\">\n",
              "  <thead>\n",
              "    <tr>\n",
              "      <th></th>\n",
              "      <th></th>\n",
              "      <th>one</th>\n",
              "      <th>plus</th>\n",
              "      <th>two</th>\n",
              "      <th>times</th>\n",
              "      <th>three</th>\n",
              "    </tr>\n",
              "    <tr>\n",
              "      <th></th>\n",
              "      <th>0</th>\n",
              "      <th>1</th>\n",
              "      <th>2</th>\n",
              "      <th>3</th>\n",
              "      <th>4</th>\n",
              "      <th>5</th>\n",
              "    </tr>\n",
              "  </thead>\n",
              "  <tbody>\n",
              "    <tr>\n",
              "      <th>0</th>\n",
              "      <td>---</td>\n",
              "      <td>{S}</td>\n",
              "      <td>{}</td>\n",
              "      <td>{}</td>\n",
              "      <td>{}</td>\n",
              "      <td>{}</td>\n",
              "    </tr>\n",
              "    <tr>\n",
              "      <th>1</th>\n",
              "      <td>---</td>\n",
              "      <td>---</td>\n",
              "      <td>{ADD}</td>\n",
              "      <td>{}</td>\n",
              "      <td>{}</td>\n",
              "      <td>{}</td>\n",
              "    </tr>\n",
              "    <tr>\n",
              "      <th>2</th>\n",
              "      <td>---</td>\n",
              "      <td>---</td>\n",
              "      <td>---</td>\n",
              "      <td>{}</td>\n",
              "      <td>{}</td>\n",
              "      <td>{}</td>\n",
              "    </tr>\n",
              "    <tr>\n",
              "      <th>3</th>\n",
              "      <td>---</td>\n",
              "      <td>---</td>\n",
              "      <td>---</td>\n",
              "      <td>---</td>\n",
              "      <td>{}</td>\n",
              "      <td>{}</td>\n",
              "    </tr>\n",
              "    <tr>\n",
              "      <th>4</th>\n",
              "      <td>---</td>\n",
              "      <td>---</td>\n",
              "      <td>---</td>\n",
              "      <td>---</td>\n",
              "      <td>---</td>\n",
              "      <td>{}</td>\n",
              "    </tr>\n",
              "    <tr>\n",
              "      <th>5</th>\n",
              "      <td>---</td>\n",
              "      <td>---</td>\n",
              "      <td>---</td>\n",
              "      <td>---</td>\n",
              "      <td>---</td>\n",
              "      <td>---</td>\n",
              "    </tr>\n",
              "  </tbody>\n",
              "</table>\n",
              "</div>"
            ],
            "text/plain": [
              "        one   plus  two times three\n",
              "     0    1      2    3     4     5\n",
              "0  ---  {S}     {}   {}    {}    {}\n",
              "1  ---  ---  {ADD}   {}    {}    {}\n",
              "2  ---  ---    ---   {}    {}    {}\n",
              "3  ---  ---    ---  ---    {}    {}\n",
              "4  ---  ---    ---  ---   ---    {}\n",
              "5  ---  ---    ---  ---   ---   ---"
            ]
          },
          "metadata": {
            "tags": []
          },
          "execution_count": 20
        }
      ]
    },
    {
      "cell_type": "markdown",
      "metadata": {
        "deletable": false,
        "editable": false,
        "id": "V_ABtf53SgwQ"
      },
      "source": [
        "Again, we're at line 5, selecting a length from the range [2..2]. There's only one such length, 2, so the start string position `i` is `j-2`, that is `0`. For strings between string positions 0 and 2, there is only one possible split point, namely 1. At line 7, then, there will thus be only a single iteration.\n",
        "\n",
        "Lines 8-12 have us find all rules in the grammar of the form $A \\rightarrow B\\, C$ such that `B` is in `T[i, split]` and `C` is in `T[split, j]`, and add such `A` values to the table. \n",
        "\n",
        "Update the table accordingly in the next cell.\n",
        "\n",
        "<!--\n",
        "BEGIN QUESTION\n",
        "name: table_addition_3\n",
        "-->"
      ]
    },
    {
      "cell_type": "code",
      "metadata": {
        "id": "iWhx0H5bUKyd"
      },
      "source": [
        "#TODO -- update the table\n",
        "#TODO -- update the table\n",
        "def fill_non_diag(table, words, j):\n",
        "    for tree in parser.parse(my_words):\n",
        "        prods = tree.productions()\n",
        "        for i in range(j-2+1, 0-1, -1):\n",
        "            for k in range(i+1, j+1):\n",
        "                B = table.iloc[i, k]\n",
        "                C = table.iloc[k, j+1]\n",
        "                BC = [[b,c] for b in B for c in C]\n",
        "                if len(BC) == 0:\n",
        "                    continue\n",
        "                prods_left_right = [(prod.lhs(), list(map(str, prod.rhs()))) for prod in prods]\n",
        "                A = set([str(lhs_rhs[0]) for lhs_rhs in prods_left_right if lhs_rhs[1] in BC])\n",
        "                table.iloc[i, j+1].update(list(A))\n",
        "fill_non_diag(table, words, 1)"
      ],
      "execution_count": 21,
      "outputs": []
    },
    {
      "cell_type": "code",
      "metadata": {
        "deletable": false,
        "editable": false,
        "id": "Tm2JjoH6oU78",
        "colab": {
          "base_uri": "https://localhost:8080/",
          "height": 45
        },
        "outputId": "0e2d8c33-6558-424b-da28-d248c30b9ba3"
      },
      "source": [
        "grader.check(\"table_addition_3\")"
      ],
      "execution_count": 22,
      "outputs": [
        {
          "output_type": "execute_result",
          "data": {
            "text/html": [
              "\n",
              "    \n",
              "    \n",
              "        <p>All tests passed!</p>\n",
              "    \n",
              "    "
            ],
            "text/plain": [
              "\n",
              "    All tests passed!\n",
              "    "
            ]
          },
          "metadata": {
            "tags": []
          },
          "execution_count": 22
        }
      ]
    },
    {
      "cell_type": "code",
      "metadata": {
        "id": "ZS675kSJoU78",
        "colab": {
          "base_uri": "https://localhost:8080/",
          "height": 248
        },
        "outputId": "4efbb612-9a54-4a16-adbe-32ac2584f528"
      },
      "source": [
        "table"
      ],
      "execution_count": 23,
      "outputs": [
        {
          "output_type": "execute_result",
          "data": {
            "text/html": [
              "<div>\n",
              "<style scoped>\n",
              "    .dataframe tbody tr th:only-of-type {\n",
              "        vertical-align: middle;\n",
              "    }\n",
              "\n",
              "    .dataframe tbody tr th {\n",
              "        vertical-align: top;\n",
              "    }\n",
              "\n",
              "    .dataframe thead tr th {\n",
              "        text-align: left;\n",
              "    }\n",
              "</style>\n",
              "<table border=\"1\" class=\"dataframe\">\n",
              "  <thead>\n",
              "    <tr>\n",
              "      <th></th>\n",
              "      <th></th>\n",
              "      <th>one</th>\n",
              "      <th>plus</th>\n",
              "      <th>two</th>\n",
              "      <th>times</th>\n",
              "      <th>three</th>\n",
              "    </tr>\n",
              "    <tr>\n",
              "      <th></th>\n",
              "      <th>0</th>\n",
              "      <th>1</th>\n",
              "      <th>2</th>\n",
              "      <th>3</th>\n",
              "      <th>4</th>\n",
              "      <th>5</th>\n",
              "    </tr>\n",
              "  </thead>\n",
              "  <tbody>\n",
              "    <tr>\n",
              "      <th>0</th>\n",
              "      <td>---</td>\n",
              "      <td>{S}</td>\n",
              "      <td>{SOP}</td>\n",
              "      <td>{}</td>\n",
              "      <td>{}</td>\n",
              "      <td>{}</td>\n",
              "    </tr>\n",
              "    <tr>\n",
              "      <th>1</th>\n",
              "      <td>---</td>\n",
              "      <td>---</td>\n",
              "      <td>{ADD}</td>\n",
              "      <td>{}</td>\n",
              "      <td>{}</td>\n",
              "      <td>{}</td>\n",
              "    </tr>\n",
              "    <tr>\n",
              "      <th>2</th>\n",
              "      <td>---</td>\n",
              "      <td>---</td>\n",
              "      <td>---</td>\n",
              "      <td>{}</td>\n",
              "      <td>{}</td>\n",
              "      <td>{}</td>\n",
              "    </tr>\n",
              "    <tr>\n",
              "      <th>3</th>\n",
              "      <td>---</td>\n",
              "      <td>---</td>\n",
              "      <td>---</td>\n",
              "      <td>---</td>\n",
              "      <td>{}</td>\n",
              "      <td>{}</td>\n",
              "    </tr>\n",
              "    <tr>\n",
              "      <th>4</th>\n",
              "      <td>---</td>\n",
              "      <td>---</td>\n",
              "      <td>---</td>\n",
              "      <td>---</td>\n",
              "      <td>---</td>\n",
              "      <td>{}</td>\n",
              "    </tr>\n",
              "    <tr>\n",
              "      <th>5</th>\n",
              "      <td>---</td>\n",
              "      <td>---</td>\n",
              "      <td>---</td>\n",
              "      <td>---</td>\n",
              "      <td>---</td>\n",
              "      <td>---</td>\n",
              "    </tr>\n",
              "  </tbody>\n",
              "</table>\n",
              "</div>"
            ],
            "text/plain": [
              "        one   plus  two times three\n",
              "     0    1      2    3     4     5\n",
              "0  ---  {S}  {SOP}   {}    {}    {}\n",
              "1  ---  ---  {ADD}   {}    {}    {}\n",
              "2  ---  ---    ---   {}    {}    {}\n",
              "3  ---  ---    ---  ---    {}    {}\n",
              "4  ---  ---    ---  ---   ---    {}\n",
              "5  ---  ---    ---  ---   ---   ---"
            ]
          },
          "metadata": {
            "tags": []
          },
          "execution_count": 23
        }
      ]
    },
    {
      "cell_type": "markdown",
      "metadata": {
        "deletable": false,
        "editable": false,
        "id": "J7lrILOpUaXu"
      },
      "source": [
        "Both loops that iterate over $i$ and over $split$ had a single iteration, so we can continue with $j=3$.\n",
        "\n",
        "Complete the table according to the algorithm, starting from $j=3$. Remember, it is okay that a given entry will not have any nonterminals. In that case, the entry value will remain the empty set.\n",
        "\n",
        "<!--\n",
        "BEGIN QUESTION\n",
        "name: table_addition_rest\n",
        "-->"
      ]
    },
    {
      "cell_type": "code",
      "metadata": {
        "id": "NtL7xxIkU57s"
      },
      "source": [
        "for j in range(2, (len(my_words))):\n",
        "   fill_diag(table, my_words, j)\n",
        "   fill_non_diag(table, my_words, j)"
      ],
      "execution_count": 24,
      "outputs": []
    },
    {
      "cell_type": "code",
      "metadata": {
        "deletable": false,
        "editable": false,
        "id": "G7zWQpLaoU79",
        "colab": {
          "base_uri": "https://localhost:8080/",
          "height": 45
        },
        "outputId": "13da0496-739f-4d08-9792-dd86f2cb0ef6"
      },
      "source": [
        "grader.check(\"table_addition_rest\")"
      ],
      "execution_count": 25,
      "outputs": [
        {
          "output_type": "execute_result",
          "data": {
            "text/html": [
              "\n",
              "    \n",
              "    \n",
              "        <p>All tests passed!</p>\n",
              "    \n",
              "    "
            ],
            "text/plain": [
              "\n",
              "    All tests passed!\n",
              "    "
            ]
          },
          "metadata": {
            "tags": []
          },
          "execution_count": 25
        }
      ]
    },
    {
      "cell_type": "code",
      "metadata": {
        "id": "363jxbGQoU79",
        "colab": {
          "base_uri": "https://localhost:8080/",
          "height": 248
        },
        "outputId": "dfbec1ac-eb98-48fe-aa77-49db5d4074f8"
      },
      "source": [
        "table"
      ],
      "execution_count": 26,
      "outputs": [
        {
          "output_type": "execute_result",
          "data": {
            "text/html": [
              "<div>\n",
              "<style scoped>\n",
              "    .dataframe tbody tr th:only-of-type {\n",
              "        vertical-align: middle;\n",
              "    }\n",
              "\n",
              "    .dataframe tbody tr th {\n",
              "        vertical-align: top;\n",
              "    }\n",
              "\n",
              "    .dataframe thead tr th {\n",
              "        text-align: left;\n",
              "    }\n",
              "</style>\n",
              "<table border=\"1\" class=\"dataframe\">\n",
              "  <thead>\n",
              "    <tr>\n",
              "      <th></th>\n",
              "      <th></th>\n",
              "      <th>one</th>\n",
              "      <th>plus</th>\n",
              "      <th>two</th>\n",
              "      <th>times</th>\n",
              "      <th>three</th>\n",
              "    </tr>\n",
              "    <tr>\n",
              "      <th></th>\n",
              "      <th>0</th>\n",
              "      <th>1</th>\n",
              "      <th>2</th>\n",
              "      <th>3</th>\n",
              "      <th>4</th>\n",
              "      <th>5</th>\n",
              "    </tr>\n",
              "  </thead>\n",
              "  <tbody>\n",
              "    <tr>\n",
              "      <th>0</th>\n",
              "      <td>---</td>\n",
              "      <td>{S}</td>\n",
              "      <td>{SOP}</td>\n",
              "      <td>{S}</td>\n",
              "      <td>{SOP}</td>\n",
              "      <td>{S}</td>\n",
              "    </tr>\n",
              "    <tr>\n",
              "      <th>1</th>\n",
              "      <td>---</td>\n",
              "      <td>---</td>\n",
              "      <td>{ADD}</td>\n",
              "      <td>{}</td>\n",
              "      <td>{}</td>\n",
              "      <td>{}</td>\n",
              "    </tr>\n",
              "    <tr>\n",
              "      <th>2</th>\n",
              "      <td>---</td>\n",
              "      <td>---</td>\n",
              "      <td>---</td>\n",
              "      <td>{S}</td>\n",
              "      <td>{SOP}</td>\n",
              "      <td>{S}</td>\n",
              "    </tr>\n",
              "    <tr>\n",
              "      <th>3</th>\n",
              "      <td>---</td>\n",
              "      <td>---</td>\n",
              "      <td>---</td>\n",
              "      <td>---</td>\n",
              "      <td>{MULT}</td>\n",
              "      <td>{}</td>\n",
              "    </tr>\n",
              "    <tr>\n",
              "      <th>4</th>\n",
              "      <td>---</td>\n",
              "      <td>---</td>\n",
              "      <td>---</td>\n",
              "      <td>---</td>\n",
              "      <td>---</td>\n",
              "      <td>{S}</td>\n",
              "    </tr>\n",
              "    <tr>\n",
              "      <th>5</th>\n",
              "      <td>---</td>\n",
              "      <td>---</td>\n",
              "      <td>---</td>\n",
              "      <td>---</td>\n",
              "      <td>---</td>\n",
              "      <td>---</td>\n",
              "    </tr>\n",
              "  </tbody>\n",
              "</table>\n",
              "</div>"
            ],
            "text/plain": [
              "        one   plus  two   times three\n",
              "     0    1      2    3       4     5\n",
              "0  ---  {S}  {SOP}  {S}   {SOP}   {S}\n",
              "1  ---  ---  {ADD}   {}      {}    {}\n",
              "2  ---  ---    ---  {S}   {SOP}   {S}\n",
              "3  ---  ---    ---  ---  {MULT}    {}\n",
              "4  ---  ---    ---  ---     ---   {S}\n",
              "5  ---  ---    ---  ---     ---   ---"
            ]
          },
          "metadata": {
            "tags": []
          },
          "execution_count": 26
        }
      ]
    },
    {
      "cell_type": "markdown",
      "metadata": {
        "id": "qZEIpiwKaq8G"
      },
      "source": [
        "The entry that represents the entire input resides at position `[0,5]`. Since our sentence should be parsable by the grammar as the start symbol `S`, the following expression should hold if the string is generated by the grammar."
      ]
    },
    {
      "cell_type": "code",
      "metadata": {
        "id": "VrA73PRja6DI",
        "colab": {
          "base_uri": "https://localhost:8080/"
        },
        "outputId": "dd963ffc-e5df-4e83-f416-e0c55355ad74"
      },
      "source": [
        "'S' in table.iloc[0,5]"
      ],
      "execution_count": 27,
      "outputs": [
        {
          "output_type": "execute_result",
          "data": {
            "text/plain": [
              "True"
            ]
          },
          "metadata": {
            "tags": []
          },
          "execution_count": 27
        }
      ]
    },
    {
      "cell_type": "markdown",
      "metadata": {
        "id": "N5sYBf2Ddka1"
      },
      "source": [
        "# CKY Parsing\n",
        "The algorithm that we executed so far is a _recognizer_, not a parser – if the algorithm ends with a non-empty entry in `table[0,n]` – it means that the input is parsable, but it doesn't directly provide information about the input's parse trees.\n",
        "\n",
        "However, we want to know not only _whether_ the string is parsable, but _how_. We'd like the parse trees themselves. The necessary modification to the algorithm is to keep in the table entries not only a nonterminal that covers the substring, but the `split` value and production that was used as well.\n",
        "\n",
        "We will define another table called `back` to keep that information. A `back` table value will be a mapping from nonterminals into a set of values for `split` and the right-hand side of the rule that was used. We use a set because there may be several such split and production values. We initialize the entries to a dictionary mapping to empty sets."
      ]
    },
    {
      "cell_type": "code",
      "metadata": {
        "id": "9xawqymrOa2-",
        "colab": {
          "base_uri": "https://localhost:8080/",
          "height": 248
        },
        "outputId": "85f74489-d81d-4d03-fbd5-c0a7f3f160e6"
      },
      "source": [
        "def empty():\n",
        "    return defaultdict(set)\n",
        "\n",
        "back_data = [\n",
        "        ['---',  empty(),  empty(),  empty(),  empty(),  empty()],\n",
        "        ['---',  '---',    empty(),  empty(),  empty(),  empty()],\n",
        "        ['---',  '---',    '---',    empty(),  empty(),  empty()],\n",
        "        ['---',  '---',    '---',    '---',    empty(),  empty()],\n",
        "        ['---',  '---',    '---',    '---',    '---',    empty()],\n",
        "        ['---',  '---',    '---',    '---',    '---',    '---'],\n",
        "]\n",
        "\n",
        "back = pd.DataFrame(back_data, columns=words, index=list('012345'))\n",
        "back.columns = pd.MultiIndex.from_arrays([back.columns] + [list('012345')])\n",
        "back"
      ],
      "execution_count": 28,
      "outputs": [
        {
          "output_type": "execute_result",
          "data": {
            "text/html": [
              "<div>\n",
              "<style scoped>\n",
              "    .dataframe tbody tr th:only-of-type {\n",
              "        vertical-align: middle;\n",
              "    }\n",
              "\n",
              "    .dataframe tbody tr th {\n",
              "        vertical-align: top;\n",
              "    }\n",
              "\n",
              "    .dataframe thead tr th {\n",
              "        text-align: left;\n",
              "    }\n",
              "</style>\n",
              "<table border=\"1\" class=\"dataframe\">\n",
              "  <thead>\n",
              "    <tr>\n",
              "      <th></th>\n",
              "      <th></th>\n",
              "      <th>one</th>\n",
              "      <th>plus</th>\n",
              "      <th>two</th>\n",
              "      <th>times</th>\n",
              "      <th>three</th>\n",
              "    </tr>\n",
              "    <tr>\n",
              "      <th></th>\n",
              "      <th>0</th>\n",
              "      <th>1</th>\n",
              "      <th>2</th>\n",
              "      <th>3</th>\n",
              "      <th>4</th>\n",
              "      <th>5</th>\n",
              "    </tr>\n",
              "  </thead>\n",
              "  <tbody>\n",
              "    <tr>\n",
              "      <th>0</th>\n",
              "      <td>---</td>\n",
              "      <td>{}</td>\n",
              "      <td>{}</td>\n",
              "      <td>{}</td>\n",
              "      <td>{}</td>\n",
              "      <td>{}</td>\n",
              "    </tr>\n",
              "    <tr>\n",
              "      <th>1</th>\n",
              "      <td>---</td>\n",
              "      <td>---</td>\n",
              "      <td>{}</td>\n",
              "      <td>{}</td>\n",
              "      <td>{}</td>\n",
              "      <td>{}</td>\n",
              "    </tr>\n",
              "    <tr>\n",
              "      <th>2</th>\n",
              "      <td>---</td>\n",
              "      <td>---</td>\n",
              "      <td>---</td>\n",
              "      <td>{}</td>\n",
              "      <td>{}</td>\n",
              "      <td>{}</td>\n",
              "    </tr>\n",
              "    <tr>\n",
              "      <th>3</th>\n",
              "      <td>---</td>\n",
              "      <td>---</td>\n",
              "      <td>---</td>\n",
              "      <td>---</td>\n",
              "      <td>{}</td>\n",
              "      <td>{}</td>\n",
              "    </tr>\n",
              "    <tr>\n",
              "      <th>4</th>\n",
              "      <td>---</td>\n",
              "      <td>---</td>\n",
              "      <td>---</td>\n",
              "      <td>---</td>\n",
              "      <td>---</td>\n",
              "      <td>{}</td>\n",
              "    </tr>\n",
              "    <tr>\n",
              "      <th>5</th>\n",
              "      <td>---</td>\n",
              "      <td>---</td>\n",
              "      <td>---</td>\n",
              "      <td>---</td>\n",
              "      <td>---</td>\n",
              "      <td>---</td>\n",
              "    </tr>\n",
              "  </tbody>\n",
              "</table>\n",
              "</div>"
            ],
            "text/plain": [
              "        one plus  two times three\n",
              "     0    1    2    3     4     5\n",
              "0  ---   {}   {}   {}    {}    {}\n",
              "1  ---  ---   {}   {}    {}    {}\n",
              "2  ---  ---  ---   {}    {}    {}\n",
              "3  ---  ---  ---  ---    {}    {}\n",
              "4  ---  ---  ---  ---   ---    {}\n",
              "5  ---  ---  ---  ---   ---   ---"
            ]
          },
          "metadata": {
            "tags": []
          },
          "execution_count": 28
        }
      ]
    },
    {
      "cell_type": "markdown",
      "metadata": {
        "id": "ttduz8DxP_Z5"
      },
      "source": [
        "Recall (lines 8-12) that we update the `table` every time we find a rule $A\\longrightarrow BC$ and `split` such that\n",
        "\n",
        "```\n",
        " 9.                          A -> B C in grammar\n",
        "10.                          and B in T[i, split]\n",
        "11.                          and C in T[split, j]:\n",
        "```\n",
        "\n",
        "In addition to updating `table`, we can also then add to `back` information about `split` and the rule `A -> B C`. We augment the algorithm with a new line 12.5 like this:\n",
        "\n",
        "```\n",
        "12.                      add A to T[i, j]\n",
        "12.5.                    add <split, B, C> to back[i, j, A]\n",
        "```\n",
        "\n",
        "For example, for `i = 0`, `split = 1`, and `j = 2` and the found rule `SOP -> S ADD`:"
      ]
    },
    {
      "cell_type": "code",
      "metadata": {
        "id": "gMhRNv4QegCI",
        "colab": {
          "base_uri": "https://localhost:8080/",
          "height": 248
        },
        "outputId": "0255df5b-45aa-405b-d1d5-9aa13da3923b"
      },
      "source": [
        "back.iloc[0,2]['SOP'].add((1,'S','ADD'))\n",
        "back"
      ],
      "execution_count": 29,
      "outputs": [
        {
          "output_type": "execute_result",
          "data": {
            "text/html": [
              "<div>\n",
              "<style scoped>\n",
              "    .dataframe tbody tr th:only-of-type {\n",
              "        vertical-align: middle;\n",
              "    }\n",
              "\n",
              "    .dataframe tbody tr th {\n",
              "        vertical-align: top;\n",
              "    }\n",
              "\n",
              "    .dataframe thead tr th {\n",
              "        text-align: left;\n",
              "    }\n",
              "</style>\n",
              "<table border=\"1\" class=\"dataframe\">\n",
              "  <thead>\n",
              "    <tr>\n",
              "      <th></th>\n",
              "      <th></th>\n",
              "      <th>one</th>\n",
              "      <th>plus</th>\n",
              "      <th>two</th>\n",
              "      <th>times</th>\n",
              "      <th>three</th>\n",
              "    </tr>\n",
              "    <tr>\n",
              "      <th></th>\n",
              "      <th>0</th>\n",
              "      <th>1</th>\n",
              "      <th>2</th>\n",
              "      <th>3</th>\n",
              "      <th>4</th>\n",
              "      <th>5</th>\n",
              "    </tr>\n",
              "  </thead>\n",
              "  <tbody>\n",
              "    <tr>\n",
              "      <th>0</th>\n",
              "      <td>---</td>\n",
              "      <td>{}</td>\n",
              "      <td>{'SOP': {(1, 'S', 'ADD')}}</td>\n",
              "      <td>{}</td>\n",
              "      <td>{}</td>\n",
              "      <td>{}</td>\n",
              "    </tr>\n",
              "    <tr>\n",
              "      <th>1</th>\n",
              "      <td>---</td>\n",
              "      <td>---</td>\n",
              "      <td>{}</td>\n",
              "      <td>{}</td>\n",
              "      <td>{}</td>\n",
              "      <td>{}</td>\n",
              "    </tr>\n",
              "    <tr>\n",
              "      <th>2</th>\n",
              "      <td>---</td>\n",
              "      <td>---</td>\n",
              "      <td>---</td>\n",
              "      <td>{}</td>\n",
              "      <td>{}</td>\n",
              "      <td>{}</td>\n",
              "    </tr>\n",
              "    <tr>\n",
              "      <th>3</th>\n",
              "      <td>---</td>\n",
              "      <td>---</td>\n",
              "      <td>---</td>\n",
              "      <td>---</td>\n",
              "      <td>{}</td>\n",
              "      <td>{}</td>\n",
              "    </tr>\n",
              "    <tr>\n",
              "      <th>4</th>\n",
              "      <td>---</td>\n",
              "      <td>---</td>\n",
              "      <td>---</td>\n",
              "      <td>---</td>\n",
              "      <td>---</td>\n",
              "      <td>{}</td>\n",
              "    </tr>\n",
              "    <tr>\n",
              "      <th>5</th>\n",
              "      <td>---</td>\n",
              "      <td>---</td>\n",
              "      <td>---</td>\n",
              "      <td>---</td>\n",
              "      <td>---</td>\n",
              "      <td>---</td>\n",
              "    </tr>\n",
              "  </tbody>\n",
              "</table>\n",
              "</div>"
            ],
            "text/plain": [
              "        one                        plus  two times three\n",
              "     0    1                           2    3     4     5\n",
              "0  ---   {}  {'SOP': {(1, 'S', 'ADD')}}   {}    {}    {}\n",
              "1  ---  ---                          {}   {}    {}    {}\n",
              "2  ---  ---                         ---   {}    {}    {}\n",
              "3  ---  ---                         ---  ---    {}    {}\n",
              "4  ---  ---                         ---  ---   ---    {}\n",
              "5  ---  ---                         ---  ---   ---   ---"
            ]
          },
          "metadata": {
            "tags": []
          },
          "execution_count": 29
        }
      ]
    },
    {
      "cell_type": "markdown",
      "metadata": {
        "deletable": false,
        "editable": false,
        "id": "t6qpBNnefS6U"
      },
      "source": [
        "Copy the statements in which you assigned a non-empty value into `table[i,j]` into the code cell below, starting from `j=3`. Then, instead of only assigning a non-terminal into `table[i,j]`, also fill the corresponding value of `back[i,j]`. \n",
        "\n",
        "(You can either re-run the assignments into `table[i,j]`, or comment them and run only the assignments into `back[i,j]`.)\n",
        "\n",
        "The dictionary in the final entry, `back[0,5]`, should map `S` onto a set with two elements because there are two possible ways to parse the input.\n",
        "\n",
        "<!--\n",
        "BEGIN QUESTION\n",
        "name: table_addition_rest_back\n",
        "-->"
      ]
    },
    {
      "cell_type": "code",
      "metadata": {
        "id": "ssliHsnsfVJl"
      },
      "source": [
        "#TODO -- update the back table\n",
        "my_words = sentence.split()\n",
        "def fill_diag(table, words, tree, j):\n",
        "    for prod in tree.productions():\n",
        "        if words[j] in list(prod.rhs()):\n",
        "            table.iloc[j,j+1].add(str(prod.lhs()))\n",
        "\n",
        "def fill_non_diag(table, back, words, tree, j):\n",
        "    prods = tree.productions()\n",
        "    for i in range(j-2+1, 0-1, -1):\n",
        "        for split in range(i+1, j+1):\n",
        "            B = table.iloc[i, split]\n",
        "            C = table.iloc[split, j+1]\n",
        "            BC = [[b,c] for b in B for c in C]\n",
        "            if len(BC) == 0:\n",
        "                continue\n",
        "            prods_left_right = [(prod.lhs(), list(map(str, prod.rhs()))) for prod in prods]\n",
        "            A_e_BC_idx = set([(str(lhs_rhs[0]), BC.index(lhs_rhs[1])) for lhs_rhs in prods_left_right if lhs_rhs[1] in BC])\n",
        "            A_s = [A_e_BC_i[0] for A_e_BC_i in A_e_BC_idx]\n",
        "            table.iloc[i, j+1].update(list(A_s))\n",
        "            for (A, idx) in A_e_BC_idx:\n",
        "                [b, c] = BC[idx]\n",
        "                back.iloc[i, j+1][A].add((split, b, c))\n",
        "\n",
        "def cky_parse(table, back, words, grammer):\n",
        "    words_len = len(words)\n",
        "    parser = nltk.parse.BottomUpChartParser(grammer)\n",
        "    for j in range(0, words_len):\n",
        "        for tree in parser.parse(words):\n",
        "            fill_diag(table, my_words,tree, j)\n",
        "            fill_non_diag(table, back, my_words, tree, j)\n",
        "\n",
        "\n",
        "data = [\n",
        "        ['---',  set(),  set(),  set(),  set(),  set()],\n",
        "        ['---',  '---',  set(),  set(),  set(),  set()],\n",
        "        ['---',  '---',  '---',  set(),  set(),  set()],\n",
        "        ['---',  '---',  '---',  '---',  set(),  set()],\n",
        "        ['---',  '---',  '---',  '---',  '---',  set()],\n",
        "        ['---',  '---',  '---',  '---',  '---',  '---'],\n",
        "]\n",
        "\n",
        "table = pd.DataFrame(data, columns=words, index=list('012345'))\n",
        "table.columns = pd.MultiIndex.from_arrays([table.columns] + [list('012345')])\n",
        "\n",
        "\n",
        "my_words = sentence.split()\n",
        "\n",
        "cky_parse(table, back, my_words, cnf_arithmetic_grammar)"
      ],
      "execution_count": 30,
      "outputs": []
    },
    {
      "cell_type": "code",
      "metadata": {
        "deletable": false,
        "editable": false,
        "id": "v6_0xz_GoU8A",
        "colab": {
          "base_uri": "https://localhost:8080/",
          "height": 45
        },
        "outputId": "ce6d1ee0-5541-4096-9bb2-355f4a0442d3"
      },
      "source": [
        "grader.check(\"table_addition_rest_back\")"
      ],
      "execution_count": 31,
      "outputs": [
        {
          "output_type": "execute_result",
          "data": {
            "text/html": [
              "\n",
              "    \n",
              "    \n",
              "        <p>All tests passed!</p>\n",
              "    \n",
              "    "
            ],
            "text/plain": [
              "\n",
              "    All tests passed!\n",
              "    "
            ]
          },
          "metadata": {
            "tags": []
          },
          "execution_count": 31
        }
      ]
    },
    {
      "cell_type": "code",
      "metadata": {
        "id": "_wto53dVoU8A",
        "colab": {
          "base_uri": "https://localhost:8080/",
          "height": 248
        },
        "outputId": "0d5d614b-7195-4bf8-e9e9-0d8e136e219c"
      },
      "source": [
        "back"
      ],
      "execution_count": 32,
      "outputs": [
        {
          "output_type": "execute_result",
          "data": {
            "text/html": [
              "<div>\n",
              "<style scoped>\n",
              "    .dataframe tbody tr th:only-of-type {\n",
              "        vertical-align: middle;\n",
              "    }\n",
              "\n",
              "    .dataframe tbody tr th {\n",
              "        vertical-align: top;\n",
              "    }\n",
              "\n",
              "    .dataframe thead tr th {\n",
              "        text-align: left;\n",
              "    }\n",
              "</style>\n",
              "<table border=\"1\" class=\"dataframe\">\n",
              "  <thead>\n",
              "    <tr>\n",
              "      <th></th>\n",
              "      <th></th>\n",
              "      <th>one</th>\n",
              "      <th>plus</th>\n",
              "      <th>two</th>\n",
              "      <th>times</th>\n",
              "      <th>three</th>\n",
              "    </tr>\n",
              "    <tr>\n",
              "      <th></th>\n",
              "      <th>0</th>\n",
              "      <th>1</th>\n",
              "      <th>2</th>\n",
              "      <th>3</th>\n",
              "      <th>4</th>\n",
              "      <th>5</th>\n",
              "    </tr>\n",
              "  </thead>\n",
              "  <tbody>\n",
              "    <tr>\n",
              "      <th>0</th>\n",
              "      <td>---</td>\n",
              "      <td>{}</td>\n",
              "      <td>{'SOP': {(1, 'S', 'ADD')}}</td>\n",
              "      <td>{'S': {(2, 'SOP', 'S')}}</td>\n",
              "      <td>{'SOP': {(3, 'S', 'MULT')}}</td>\n",
              "      <td>{'S': {(4, 'SOP', 'S'), (2, 'SOP', 'S')}}</td>\n",
              "    </tr>\n",
              "    <tr>\n",
              "      <th>1</th>\n",
              "      <td>---</td>\n",
              "      <td>---</td>\n",
              "      <td>{}</td>\n",
              "      <td>{}</td>\n",
              "      <td>{}</td>\n",
              "      <td>{}</td>\n",
              "    </tr>\n",
              "    <tr>\n",
              "      <th>2</th>\n",
              "      <td>---</td>\n",
              "      <td>---</td>\n",
              "      <td>---</td>\n",
              "      <td>{}</td>\n",
              "      <td>{'SOP': {(3, 'S', 'MULT')}}</td>\n",
              "      <td>{'S': {(4, 'SOP', 'S')}}</td>\n",
              "    </tr>\n",
              "    <tr>\n",
              "      <th>3</th>\n",
              "      <td>---</td>\n",
              "      <td>---</td>\n",
              "      <td>---</td>\n",
              "      <td>---</td>\n",
              "      <td>{}</td>\n",
              "      <td>{}</td>\n",
              "    </tr>\n",
              "    <tr>\n",
              "      <th>4</th>\n",
              "      <td>---</td>\n",
              "      <td>---</td>\n",
              "      <td>---</td>\n",
              "      <td>---</td>\n",
              "      <td>---</td>\n",
              "      <td>{}</td>\n",
              "    </tr>\n",
              "    <tr>\n",
              "      <th>5</th>\n",
              "      <td>---</td>\n",
              "      <td>---</td>\n",
              "      <td>---</td>\n",
              "      <td>---</td>\n",
              "      <td>---</td>\n",
              "      <td>---</td>\n",
              "    </tr>\n",
              "  </tbody>\n",
              "</table>\n",
              "</div>"
            ],
            "text/plain": [
              "        ...                                      three\n",
              "     0  ...                                          5\n",
              "0  ---  ...  {'S': {(4, 'SOP', 'S'), (2, 'SOP', 'S')}}\n",
              "1  ---  ...                                         {}\n",
              "2  ---  ...                   {'S': {(4, 'SOP', 'S')}}\n",
              "3  ---  ...                                         {}\n",
              "4  ---  ...                                         {}\n",
              "5  ---  ...                                        ---\n",
              "\n",
              "[6 rows x 6 columns]"
            ]
          },
          "metadata": {
            "tags": []
          },
          "execution_count": 32
        }
      ]
    },
    {
      "cell_type": "markdown",
      "metadata": {
        "deletable": false,
        "editable": false,
        "id": "O6hftmIMlJDd"
      },
      "source": [
        "Now, instead of only telling whether the input sentence is parsable or not, we can also construct the parse trees!\n",
        "\n",
        "The idea is as follows: we start from `back[0, 5]` with the entry for `S`. For each value in the set in that entry, we construct a parse tree whose root is `S`.\n",
        "\n",
        "Suppose that `back[0, 5]` contains: `{'S': {(k1, A1, B1), (k2, A2, B2)}}`. We'll reconstruct parse trees for each of the two options. Start with `(k1, A1, B1)`. We recursively construct all possible parse trees based on the `A1` nonterminal covering `[0, k1]` and all possible parse trees based on `B1` covering `[k1, 5]`. Then for each of the `A1` and `B1` trees, we construct a tree (using parentheses notation) of the form `(S (A1 ...) (B1 ...))`. We do the same for the other option `(k2, A2, B2)`. In this way, we'll generate all parse trees for the string.\n",
        "\n",
        "As it turns out, for the particular string we've been using, there is only one parse tree generable by each of the two options, so there are only two parse trees for the sentence.\n",
        "\n",
        "Start from `back[0, 5]`, and construct the two possible parse trees by using this method. Enter the two parses as `tree1` and `tree2` in the cell below.\n",
        "\n",
        "> Note that as a convention we don't put quotation marks around terminals when we use `nltk.Tree.fromstring`. For example, if the tree has root `S` and two terminals `one` and `two`, then we construct the parse using `tree = nltk.Tree.fromstring(\"(S one two)\")` **instead of** `tree = nltk.Tree.fromstring(\"(S 'one' 'two')\")`.\n",
        "\n",
        "<!--\n",
        "BEGIN QUESTION\n",
        "name: parse_trees\n",
        "-->"
      ]
    },
    {
      "cell_type": "code",
      "metadata": {
        "id": "uATX9wlfdUjJ"
      },
      "source": [
        "#TODO -- complete the strings using bracket-notation\n",
        "tree1 = nltk.Tree.fromstring(\n",
        "    \"(S (SOP (S (SOP (S one) (ADD plus)) (S two)) (MULT times)) (S three))\"\n",
        ") \n",
        "tree2 = nltk.Tree.fromstring(\n",
        "   \"(S (SOP (S one) (ADD plus)) (S (SOP (S two) (MULT times)) (S three)))\"\n",
        ")"
      ],
      "execution_count": 33,
      "outputs": []
    },
    {
      "cell_type": "code",
      "metadata": {
        "deletable": false,
        "editable": false,
        "id": "8DHj3FoToU8B",
        "colab": {
          "base_uri": "https://localhost:8080/",
          "height": 45
        },
        "outputId": "984dae6b-0384-4bd7-e62c-445e9636779c"
      },
      "source": [
        "grader.check(\"parse_trees\")"
      ],
      "execution_count": 34,
      "outputs": [
        {
          "output_type": "execute_result",
          "data": {
            "text/html": [
              "\n",
              "    \n",
              "    \n",
              "        <p>All tests passed!</p>\n",
              "    \n",
              "    "
            ],
            "text/plain": [
              "\n",
              "    All tests passed!\n",
              "    "
            ]
          },
          "metadata": {
            "tags": []
          },
          "execution_count": 34
        }
      ]
    },
    {
      "cell_type": "markdown",
      "metadata": {
        "id": "JUf1sUwCoU8B"
      },
      "source": [
        "Now let's check your parse trees. Are they the same as the parse trees returned by the NLTK parser?"
      ]
    },
    {
      "cell_type": "code",
      "metadata": {
        "id": "NqlBQOKDoU8C",
        "colab": {
          "base_uri": "https://localhost:8080/"
        },
        "outputId": "495907fe-14b2-4dd2-897c-5af072784325"
      },
      "source": [
        "tree1.pretty_print()\n",
        "tree2.pretty_print()"
      ],
      "execution_count": 35,
      "outputs": [
        {
          "output_type": "stream",
          "text": [
            "                  S             \n",
            "               ___|__________    \n",
            "             SOP             |  \n",
            "          ____|________      |   \n",
            "         S             |     |  \n",
            "      ___|________     |     |   \n",
            "    SOP           |    |     |  \n",
            "  ___|___         |    |     |   \n",
            " S      ADD       S   MULT   S  \n",
            " |       |        |    |     |   \n",
            "one     plus     two times three\n",
            "\n",
            "              S                 \n",
            "      ________|________          \n",
            "     |                 S        \n",
            "     |             ____|_____    \n",
            "    SOP          SOP         |  \n",
            "  ___|___      ___|____      |   \n",
            " S      ADD   S       MULT   S  \n",
            " |       |    |        |     |   \n",
            "one     plus two     times three\n",
            "\n"
          ],
          "name": "stdout"
        }
      ]
    },
    {
      "cell_type": "markdown",
      "metadata": {
        "deletable": false,
        "editable": false,
        "id": "IuIw70paoU8C"
      },
      "source": [
        "<!-- BEGIN QUESTION -->\n",
        "\n",
        "## Lab debrief – for consensus submission only\n",
        "\n",
        "**Question:** We're interested in any thoughts your group has about this lab so that we can improve this lab for later years, and to inform later labs for this year. Please list any issues that arose or comments you have to improve the lab. Useful things to comment on include the following: \n",
        "\n",
        "* Was the lab too long or too short?\n",
        "* Were the readings appropriate for the lab? \n",
        "* Was it clear (at least after you completed the lab) what the points of the exercises were? \n",
        "* Are there additions or changes you think would make the lab better?\n",
        "\n",
        "<!--\n",
        "BEGIN QUESTION\n",
        "name: open_response_debrief\n",
        "manual: true\n",
        "-->"
      ]
    },
    {
      "cell_type": "markdown",
      "metadata": {
        "id": "Mz9_hPGcoU8C"
      },
      "source": [
        "_Type your answer here, replacing this text._"
      ]
    },
    {
      "cell_type": "markdown",
      "metadata": {
        "id": "JvqxyJ0MoU8C"
      },
      "source": [
        "<!-- END QUESTION -->\n",
        "\n",
        "\n",
        "\n",
        "# End of lab 3-2"
      ]
    },
    {
      "cell_type": "markdown",
      "metadata": {
        "deletable": false,
        "editable": false,
        "id": "Lx11HkrIoU8C"
      },
      "source": [
        "---\n",
        "\n",
        "To double-check your work, the cell below will rerun all of the autograder tests."
      ]
    },
    {
      "cell_type": "code",
      "metadata": {
        "deletable": false,
        "editable": false,
        "id": "MxrlXXO4oU8D",
        "colab": {
          "base_uri": "https://localhost:8080/",
          "height": 290
        },
        "outputId": "c5e6fca4-f342-490a-a640-0d5c25f3ab78"
      },
      "source": [
        "grader.check_all()"
      ],
      "execution_count": 36,
      "outputs": [
        {
          "output_type": "execute_result",
          "data": {
            "text/html": [
              "<p><strong>parse_trees:</strong></p>\n",
              "\n",
              "    \n",
              "    \n",
              "        <p>All tests passed!</p>\n",
              "    \n",
              "    \n",
              "\n",
              "<p><strong>table_addition_1:</strong></p>\n",
              "\n",
              "    \n",
              "    \n",
              "        <p>All tests passed!</p>\n",
              "    \n",
              "    \n",
              "\n",
              "<p><strong>table_addition_2:</strong></p>\n",
              "\n",
              "    \n",
              "    \n",
              "        <p>All tests passed!</p>\n",
              "    \n",
              "    \n",
              "\n",
              "<p><strong>table_addition_3:</strong></p>\n",
              "\n",
              "    \n",
              "    \n",
              "        <p>All tests passed!</p>\n",
              "    \n",
              "    \n",
              "\n",
              "<p><strong>table_addition_rest:</strong></p>\n",
              "\n",
              "    \n",
              "    \n",
              "        <p>All tests passed!</p>\n",
              "    \n",
              "    \n",
              "\n",
              "<p><strong>table_addition_rest_back:</strong></p>\n",
              "\n",
              "    \n",
              "    \n",
              "        <p>All tests passed!</p>\n",
              "    \n",
              "    \n",
              "\n"
            ],
            "text/plain": [
              "parse_trees:\n",
              "\n",
              "    All tests passed!\n",
              "    \n",
              "\n",
              "table_addition_1:\n",
              "\n",
              "    All tests passed!\n",
              "    \n",
              "\n",
              "table_addition_2:\n",
              "\n",
              "    All tests passed!\n",
              "    \n",
              "\n",
              "table_addition_3:\n",
              "\n",
              "    All tests passed!\n",
              "    \n",
              "\n",
              "table_addition_rest:\n",
              "\n",
              "    All tests passed!\n",
              "    \n",
              "\n",
              "table_addition_rest_back:\n",
              "\n",
              "    All tests passed!\n",
              "    \n"
            ]
          },
          "metadata": {
            "tags": []
          },
          "execution_count": 36
        }
      ]
    }
  ]
}