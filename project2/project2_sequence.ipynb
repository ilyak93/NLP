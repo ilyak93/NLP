{
  "nbformat": 4,
  "nbformat_minor": 0,
  "metadata": {
    "colab": {
      "name": "project2_sequence.ipynb",
      "provenance": [],
      "collapsed_sections": []
    },
    "kernelspec": {
      "display_name": "Python 3",
      "language": "python",
      "name": "python3"
    },
    "language_info": {
      "codemirror_mode": {
        "name": "ipython",
        "version": 3
      },
      "file_extension": ".py",
      "mimetype": "text/x-python",
      "name": "python",
      "nbconvert_exporter": "python",
      "pygments_lexer": "ipython3",
      "version": "3.8.6"
    },
    "title": "236299 Project Segment 2: Sequence labeling – The slot filling task"
  },
  "cells": [
    {
      "cell_type": "code",
      "metadata": {
        "collapsed": true,
        "deletable": false,
        "editable": false,
        "jupyter": {
          "outputs_hidden": true,
          "source_hidden": true
        },
        "colab": {
          "base_uri": "https://localhost:8080/"
        },
        "id": "EUuJVDxpVC1c",
        "outputId": "49871f83-d672-48cd-bd44-8257e8a35503"
      },
      "source": [
        "# Please do not change this cell because some hidden tests might depend on it.\n",
        "import os\n",
        "\n",
        "# Otter grader does not handle ! commands well, so we define and use our\n",
        "# own function to execute shell commands.\n",
        "def shell(commands, warn=True):\n",
        "    \"\"\"Executes the string `commands` as a sequence of shell commands.\n",
        "     \n",
        "       Prints the result to stdout and returns the exit status. \n",
        "       Provides a printed warning on non-zero exit status unless `warn` \n",
        "       flag is unset.\n",
        "    \"\"\"\n",
        "    file = os.popen(commands)\n",
        "    print (file.read().rstrip('\\n'))\n",
        "    exit_status = file.close()\n",
        "    if warn and exit_status != None:\n",
        "        print(f\"Completed with errors. Exit status: {exit_status}\\n\")\n",
        "    return exit_status\n",
        "\n",
        "shell(\"\"\"\n",
        "ls requirements.txt >/dev/null 2>&1\n",
        "if [ ! $? = 0 ]; then\n",
        " rm -rf .tmp\n",
        " git clone https://github.com/cs236299-2020/project2.git .tmp\n",
        " mv .tmp/requirements.txt ./\n",
        " rm -rf .tmp\n",
        "fi\n",
        "pip install -q -r requirements.txt\n",
        "\"\"\")"
      ],
      "execution_count": 119,
      "outputs": [
        {
          "output_type": "stream",
          "text": [
            "\n"
          ],
          "name": "stdout"
        }
      ]
    },
    {
      "cell_type": "markdown",
      "metadata": {
        "id": "H6SYC3-cVC1h"
      },
      "source": [
        "%%latex\n",
        "\\newcommand{\\vect}[1]{\\mathbf{#1}}\n",
        "\\newcommand{\\cnt}[1]{\\sharp(#1)}\n",
        "\\newcommand{\\argmax}[1]{\\underset{#1}{\\operatorname{argmax}}}\n",
        "\\newcommand{\\softmax}{\\operatorname{softmax}}\n",
        "\\newcommand{\\Prob}{\\Pr}\n",
        "\\newcommand{\\given}{\\,|\\,}"
      ]
    },
    {
      "cell_type": "markdown",
      "metadata": {
        "id": "D8hq1ss0VC1i"
      },
      "source": [
        "$$\n",
        "\\renewcommand{\\vect}[1]{\\mathbf{#1}}\n",
        "\\renewcommand{\\cnt}[1]{\\sharp(#1)}\n",
        "\\renewcommand{\\argmax}[1]{\\underset{#1}{\\operatorname{argmax}}}\n",
        "\\renewcommand{\\softmax}{\\operatorname{softmax}}\n",
        "\\renewcommand{\\Prob}{\\Pr}\n",
        "\\renewcommand{\\given}{\\,|\\,}\n",
        "$$"
      ]
    },
    {
      "cell_type": "markdown",
      "metadata": {
        "id": "zXQlsJiAboxU"
      },
      "source": [
        "# Project 2: Sequence labeling – The slot filling task\n",
        "\n",
        "The second segment of the project involves a sequence labeling task, in which the goal is to label the tokens in a text. Many NLP tasks have this general form. Most famously is the task of _part-of-speech labeling_ as you explored in lab 2-4, where the tokens in a text are to be labeled with their part of speech (noun, verb, preposition, etc.). In this project segment, however, you'll use sequence labeling to implement a system for filling the slots in a template that is intended to describe the meaning of an ATIS query. For instance, the sentence \n",
        "\n",
        "    What's the earliest arriving flight between Boston and Washington DC?\n",
        "    \n",
        "might be associated with the following slot-filled template: \n",
        "\n",
        "    flight_id\n",
        "        fromloc.cityname: boston\n",
        "        toloc.cityname: washington\n",
        "        toloc.state: dc\n",
        "        flight_mod: earliest arriving\n",
        "    \n",
        "You may wonder how this task is a sequence labeling task. We label each word in the source sentence with a tag taken from a set of tags that correspond to the slot-labels. For each slot-label, say `flight_mod`, there are two tags: `B-flight_mod` and `I-flight_mod`. These are used to mark the beginning (B) or interior (I) of a phrase that fills the given slot. In addition, there is a tag for other (O) words that are not used to fill any slot. (This technique is thus known as IOB encoding.) Thus the sample sentence would be labeled as follows:\n",
        "\n",
        "| Token   | Label    |\n",
        "| ------- | ------ | \n",
        "| BOS | O |\n",
        "| what's | O |\n",
        "| the | O |\n",
        "| earliest | B-flight_mod |\n",
        "| arriving | I-flight_mod |\n",
        "| flight | O |\n",
        "| between | O |\n",
        "| boston | B-fromloc.city_name |\n",
        "| and | O |\n",
        "| washington | B-toloc.city_name |\n",
        "| dc | B-toloc.state_code |\n",
        "| EOS | O |\n",
        "\n",
        "> See below for information about the `BOS` and `EOS` tokens. \n",
        "\n",
        "The template itself is associated with the question type for the sentence, perhaps as recovered from the sentence in the last project segment.\n",
        "\n",
        "In this segment, you'll implement two methods for sequence labeling: a hidden Markov model (HMM) and two recurrent neural networks, a simple RNN and a long short-term memory network (LSTM). By the end of this homework, you should have grasped the pros and cons of both approaches.\n",
        "\n",
        "## Goals\n",
        "\n",
        "1. Implement an HMM-based approach to sequence labeling.\n",
        "2. Implement an RNN-based approach to sequence labeling.\n",
        "3. Implement an LSTM-based approach to sequence labeling.\n",
        "4. (Optional) Compare the performances of HMM and RNN/LSTM under different amount of training data. Discuss the pros and cons of the HMM approach and the neural approach."
      ]
    },
    {
      "cell_type": "markdown",
      "metadata": {
        "id": "L3MDY8fqdYQg"
      },
      "source": [
        "## Setup"
      ]
    },
    {
      "cell_type": "code",
      "metadata": {
        "colab": {
          "base_uri": "https://localhost:8080/"
        },
        "id": "mgumU2YoUtQn",
        "outputId": "3808eade-07f9-4ac5-bf1e-de859708da24"
      },
      "source": [
        "import copy\n",
        "import math\n",
        "import matplotlib.pyplot as plt\n",
        "import random\n",
        "import warnings\n",
        "\n",
        "import torch\n",
        "import torch.nn as nn\n",
        "import torchtext as tt\n",
        "\n",
        "from tqdm import tqdm\n",
        "\n",
        "# Set random seeds\n",
        "seed = 1234\n",
        "random.seed(seed)\n",
        "torch.manual_seed(seed)\n",
        "\n",
        "# GPU check, sets runtime type to \"GPU\" where available\n",
        "device = torch.device(\"cuda\" if torch.cuda.is_available() else \"cpu\")\n",
        "print(device)"
      ],
      "execution_count": 120,
      "outputs": [
        {
          "output_type": "stream",
          "text": [
            "cpu\n"
          ],
          "name": "stdout"
        }
      ]
    },
    {
      "cell_type": "markdown",
      "metadata": {
        "id": "RN3cNFRmvRgS"
      },
      "source": [
        "### Load Data\n",
        "\n",
        "First, we download the ATIS dataset, already presplit into training, validation (dev), and test sets."
      ]
    },
    {
      "cell_type": "code",
      "metadata": {
        "colab": {
          "base_uri": "https://localhost:8080/"
        },
        "id": "tr1l3mMyfZ4u",
        "outputId": "b77d63f1-1393-4180-ca58-3ba7b692e98d"
      },
      "source": [
        "shell(\"\"\"\n",
        "  wget -nv -N -P data https://raw.githubusercontent.com/nlp-236299/data/master/ATIS/atis.train.txt\n",
        "  wget -nv -N -P data https://raw.githubusercontent.com/nlp-236299/data/master/ATIS/atis.dev.txt\n",
        "  wget -nv -N -P data https://raw.githubusercontent.com/nlp-236299/data/master/ATIS/atis.test.txt\n",
        "\"\"\")"
      ],
      "execution_count": 121,
      "outputs": [
        {
          "output_type": "stream",
          "text": [
            "\n"
          ],
          "name": "stdout"
        }
      ]
    },
    {
      "cell_type": "markdown",
      "metadata": {
        "id": "PvzFJtVlf7R-"
      },
      "source": [
        "### Data preprocessing\n",
        "\n",
        "We again use `torchtext` to load data and convert words to indices in the vocabulary. We use one field `TEXT` for processing the question, and another field `TAG` for processing the sequence labels.\n",
        "\n",
        "We treat words occurring fewer than three times in the training data as _unknown words_. They'll be replaced by the unknown word type `<unk>`."
      ]
    },
    {
      "cell_type": "code",
      "metadata": {
        "id": "pKND1rxKVC1m"
      },
      "source": [
        "## Turn off annoying torchtext warnings about pending deprecations\n",
        "warnings.filterwarnings(\"ignore\", module=\"torchtext\", category=UserWarning)"
      ],
      "execution_count": 122,
      "outputs": []
    },
    {
      "cell_type": "code",
      "metadata": {
        "id": "RHSSr75vgFR4"
      },
      "source": [
        "MIN_FREQ = 3\n",
        "\n",
        "TEXT = tt.data.Field(init_token=\"<bos>\")\n",
        "TAG = tt.data.Field(init_token=\"<bos>\")\n",
        "fields=(('text', TEXT), ('tag', TAG))\n",
        "\n",
        "train, val, test = tt.datasets.SequenceTaggingDataset.splits(\n",
        "  fields=fields, \n",
        "  path='./data/', \n",
        "  train='atis.train.txt',\n",
        "  validation='atis.dev.txt',\n",
        "  test='atis.test.txt'\n",
        ")\n",
        "\n",
        "TEXT.build_vocab(train.text, min_freq=MIN_FREQ)\n",
        "TAG.build_vocab(train.tag)"
      ],
      "execution_count": 123,
      "outputs": []
    },
    {
      "cell_type": "markdown",
      "metadata": {
        "id": "fXH2a2OHVC1n"
      },
      "source": [
        "We can get some sense of the datasets by looking at the size and some elements of the text and tag vocabularies."
      ]
    },
    {
      "cell_type": "code",
      "metadata": {
        "colab": {
          "base_uri": "https://localhost:8080/"
        },
        "id": "7XpOx5eSVC1p",
        "outputId": "3c86360f-4d46-470d-e10b-aa69a65f9f17"
      },
      "source": [
        "print(f\"Size of English vocabulary: {len(TEXT.vocab)}\")\n",
        "print(f\"Most common English words: {TEXT.vocab.freqs.most_common(10)}\\n\")\n",
        "\n",
        "print(f\"Number of tags: {len(TAG.vocab)}\")\n",
        "print(f\"Most common tags: {TAG.vocab.freqs.most_common(10)}\")"
      ],
      "execution_count": 124,
      "outputs": [
        {
          "output_type": "stream",
          "text": [
            "Size of English vocabulary: 518\n",
            "Most common English words: [('BOS', 4274), ('EOS', 4274), ('to', 3682), ('from', 3203), ('flights', 2075), ('the', 1745), ('on', 1343), ('flight', 1035), ('me', 1005), ('what', 985)]\n",
            "\n",
            "Number of tags: 104\n",
            "Most common tags: [('O', 38967), ('B-toloc.city_name', 3751), ('B-fromloc.city_name', 3726), ('I-toloc.city_name', 1039), ('B-depart_date.day_name', 835), ('I-fromloc.city_name', 636), ('B-airline_name', 610), ('B-depart_time.period_of_day', 555), ('I-airline_name', 374), ('B-depart_date.day_number', 351)]\n"
          ],
          "name": "stdout"
        }
      ]
    },
    {
      "cell_type": "markdown",
      "metadata": {
        "id": "Wb5BbrHf86SO"
      },
      "source": [
        "### Special tokens and tags\n",
        "\n",
        "You'll have already noticed the `BOS` and `EOS`, special tokens that the dataset developers used to indicate the beginning and end of the sentence; we'll leave them in the data.\n",
        "\n",
        "We've also passed in `init_token=\"<bos>\"` for both torchtext fields. Torchtext will prepend these to the sequence of words and tags. This relieves us from estimating the initial distribution of tags and tokens in HMMs, since we always start with a token `<bos>` whose tag is also `<bos>`. We'll be able to refer to these tags as exemplified here:"
      ]
    },
    {
      "cell_type": "code",
      "metadata": {
        "colab": {
          "base_uri": "https://localhost:8080/"
        },
        "id": "HEuhnBXE8Xrf",
        "outputId": "9818dfe7-dda9-42ff-f175-1957cf1da8d3"
      },
      "source": [
        "print(f\"\"\"\n",
        "Initial tag string: {TAG.init_token}\n",
        "Initial tag id:     {TAG.vocab.stoi[TAG.init_token]}\n",
        "\"\"\")"
      ],
      "execution_count": 125,
      "outputs": [
        {
          "output_type": "stream",
          "text": [
            "\n",
            "Initial tag string: <bos>\n",
            "Initial tag id:     2\n",
            "\n"
          ],
          "name": "stdout"
        }
      ]
    },
    {
      "cell_type": "markdown",
      "metadata": {
        "id": "BMf3eH-tVC1r"
      },
      "source": [
        "Finally, since torchtext will be providing the sentences in the training corpus in \"batches\", torchtext will force the sentences within a batch to be the same length by padding them with a special token. Again, we can access that token as shown here:"
      ]
    },
    {
      "cell_type": "code",
      "metadata": {
        "colab": {
          "base_uri": "https://localhost:8080/"
        },
        "id": "HdmS7W-JVC1r",
        "outputId": "0c4863ca-3c8f-4906-d2a3-9f8dc714acfe"
      },
      "source": [
        "print(f\"\"\"\n",
        "Pad tag string: {TAG.pad_token}\n",
        "Pad tag id:     {TAG.vocab.stoi[TAG.pad_token]}\n",
        "\"\"\")"
      ],
      "execution_count": 126,
      "outputs": [
        {
          "output_type": "stream",
          "text": [
            "\n",
            "Pad tag string: <pad>\n",
            "Pad tag id:     1\n",
            "\n"
          ],
          "name": "stdout"
        }
      ]
    },
    {
      "cell_type": "markdown",
      "metadata": {
        "id": "BbJ1HfJWgHJk"
      },
      "source": [
        "Now, we can iterate over the dataset using `torchtext`'s iterator. We'll use a non-trivial batch size to gain the benefit of training on multiple sentences at a shot. This is different from how you've previously used torch, with a batch size of 1, and you'll need to be careful about the shapes of the various tensors that are being manipulated."
      ]
    },
    {
      "cell_type": "code",
      "metadata": {
        "id": "MAIdJbAfgO4E"
      },
      "source": [
        "BATCH_SIZE = 20\n",
        "\n",
        "train_iter, val_iter, test_iter = tt.data.BucketIterator.splits(\n",
        "    (train, val, test), \n",
        "    batch_size=BATCH_SIZE, \n",
        "    repeat=False, \n",
        "    device=device)"
      ],
      "execution_count": 127,
      "outputs": []
    },
    {
      "cell_type": "markdown",
      "metadata": {
        "id": "NrZprAAzVC1s"
      },
      "source": [
        "Each batch will be a tensor of size `max_length x batch_size`. Let's examine a batch."
      ]
    },
    {
      "cell_type": "code",
      "metadata": {
        "colab": {
          "base_uri": "https://localhost:8080/"
        },
        "id": "rP7evxblVC1s",
        "outputId": "8fcde767-f3c5-4cd4-eb6c-a20042403816"
      },
      "source": [
        "# Get the first batch\n",
        "batch = next(iter(train_iter))\n",
        "\n",
        "# What's its shape? Should be max_length x batch_size.\n",
        "print(f'Shape of batch text tensor: {batch.text.shape}\\n')\n",
        "\n",
        "# Extract the first sentence in the batch, both text and tags\n",
        "first_sentence = batch.text[:, 0]\n",
        "first_tags = batch.tag[:, 0]\n",
        "\n",
        "# Print out the first sentence, as token ids and as text\n",
        "print(\"First sentence in batch\")\n",
        "print(f\"{first_sentence}\")\n",
        "print(f\"{' '.join([TEXT.vocab.itos[i] for i in first_sentence])}\\n\")\n",
        "\n",
        "print(\"First tags in batch\")\n",
        "print(f\"{first_tags}\")\n",
        "print(f\"{[TAG.vocab.itos[i] for i in first_tags]}\")"
      ],
      "execution_count": 128,
      "outputs": [
        {
          "output_type": "stream",
          "text": [
            "Shape of batch text tensor: torch.Size([22, 20])\n",
            "\n",
            "First sentence in batch\n",
            "tensor([ 2,  3, 21, 45, 88, 44,  7, 39, 28, 20, 54, 18, 22,  4,  1,  1,  1,  1,\n",
            "         1,  1,  1,  1])\n",
            "<bos> BOS i need information for flights leaving baltimore and arriving in atlanta EOS <pad> <pad> <pad> <pad> <pad> <pad> <pad> <pad>\n",
            "\n",
            "First tags in batch\n",
            "tensor([2, 3, 3, 3, 3, 3, 3, 3, 5, 3, 3, 3, 4, 3, 1, 1, 1, 1, 1, 1, 1, 1])\n",
            "['<bos>', 'O', 'O', 'O', 'O', 'O', 'O', 'O', 'B-fromloc.city_name', 'O', 'O', 'O', 'B-toloc.city_name', 'O', '<pad>', '<pad>', '<pad>', '<pad>', '<pad>', '<pad>', '<pad>', '<pad>']\n"
          ],
          "name": "stdout"
        }
      ]
    },
    {
      "cell_type": "markdown",
      "metadata": {
        "id": "rrbmrJwiEszW"
      },
      "source": [
        "The goal of this project is to predict the sequence of tags `batch.tag` given a sequence of words `batch.text`."
      ]
    },
    {
      "cell_type": "markdown",
      "metadata": {
        "id": "l8Wuvo-kVC1u"
      },
      "source": [
        "## Majority class labeling\n",
        "\n",
        "As usual, we can get a sense of the difficulty of the task by looking at a simple baseline, tagging every token with the majority tag. Here's a table of tag frequencies for the most frequent tags:"
      ]
    },
    {
      "cell_type": "code",
      "metadata": {
        "colab": {
          "base_uri": "https://localhost:8080/"
        },
        "id": "XGrDx0C_VC1u",
        "outputId": "f80a29a8-3ebe-43ac-8418-7e0ae3c7abfc"
      },
      "source": [
        "tag_counts = torch.zeros(len(TAG.vocab.itos), device=device)\n",
        "\n",
        "for batch in train_iter:              # for each batch\n",
        "  for sent_id in range(len(batch)):   # ... each sentence in the batch\n",
        "    for tag in batch.tag[:, sent_id]: # ... each tag in the sentence\n",
        "      tag_counts[tag] += 1            # bump the tag count\n",
        "\n",
        "for tag_id in range(len(TAG.vocab.itos)):\n",
        "  print(f'{tag_id:3}  {TAG.vocab.itos[tag_id]:30}{tag_counts[tag_id].item():3.0f}')"
      ],
      "execution_count": 129,
      "outputs": [
        {
          "output_type": "stream",
          "text": [
            "  0  <unk>                           0\n",
            "  1  <pad>                         42094\n",
            "  2  <bos>                         4274\n",
            "  3  O                             38967\n",
            "  4  B-toloc.city_name             3751\n",
            "  5  B-fromloc.city_name           3726\n",
            "  6  I-toloc.city_name             1039\n",
            "  7  B-depart_date.day_name        835\n",
            "  8  I-fromloc.city_name           636\n",
            "  9  B-airline_name                610\n",
            " 10  B-depart_time.period_of_day   555\n",
            " 11  I-airline_name                374\n",
            " 12  B-depart_date.day_number      351\n",
            " 13  B-depart_date.month_name      340\n",
            " 14  B-depart_time.time            321\n",
            " 15  B-round_trip                  311\n",
            " 16  I-round_trip                  303\n",
            " 17  B-depart_time.time_relative   290\n",
            " 18  B-cost_relative               281\n",
            " 19  B-flight_mod                  264\n",
            " 20  I-depart_time.time            258\n",
            " 21  B-stoploc.city_name           202\n",
            " 22  B-city_name                   191\n",
            " 23  B-arrive_time.time            182\n",
            " 24  B-class_type                  181\n",
            " 25  B-arrive_time.time_relative   162\n",
            " 26  I-class_type                  148\n",
            " 27  I-arrive_time.time            142\n",
            " 28  B-flight_stop                 141\n",
            " 29  B-airline_code                109\n",
            " 30  I-depart_date.day_number      105\n",
            " 31  I-fromloc.airport_name        103\n",
            " 32  B-toloc.state_name             84\n",
            " 33  B-toloc.state_code             81\n",
            " 34  B-arrive_date.day_name         78\n",
            " 35  B-fromloc.airport_name         75\n",
            " 36  B-depart_date.date_relative    72\n",
            " 37  B-flight_number                72\n",
            " 38  B-depart_date.today_relative   70\n",
            " 39  I-airport_name                 61\n",
            " 40  I-city_name                    53\n",
            " 41  B-arrive_time.period_of_day    51\n",
            " 42  B-fare_basis_code              51\n",
            " 43  B-flight_time                  51\n",
            " 44  B-fromloc.state_code           51\n",
            " 45  B-or                           49\n",
            " 46  B-aircraft_code                48\n",
            " 47  B-meal_description             48\n",
            " 48  B-meal                         47\n",
            " 49  I-cost_relative                45\n",
            " 50  I-stoploc.city_name            45\n",
            " 51  B-airport_name                 44\n",
            " 52  B-transport_type               43\n",
            " 53  B-fromloc.state_name           42\n",
            " 54  B-arrive_date.day_number       40\n",
            " 55  B-arrive_date.month_name       40\n",
            " 56  B-depart_time.period_mod       39\n",
            " 57  B-flight_days                  37\n",
            " 58  B-connect                      36\n",
            " 59  I-toloc.airport_name           35\n",
            " 60  B-fare_amount                  34\n",
            " 61  I-fare_amount                  33\n",
            " 62  B-economy                      32\n",
            " 63  B-toloc.airport_name           28\n",
            " 64  B-mod                          24\n",
            " 65  I-flight_time                  24\n",
            " 66  B-airport_code                 22\n",
            " 67  B-depart_date.year             20\n",
            " 68  B-toloc.airport_code           19\n",
            " 69  B-arrive_time.start_time       18\n",
            " 70  B-depart_time.end_time         18\n",
            " 71  B-depart_time.start_time       18\n",
            " 72  I-transport_type               18\n",
            " 73  B-arrive_time.end_time         17\n",
            " 74  I-arrive_time.end_time         16\n",
            " 75  B-fromloc.airport_code         14\n",
            " 76  B-restriction_code             14\n",
            " 77  I-depart_time.end_time         13\n",
            " 78  I-flight_mod                   12\n",
            " 79  I-flight_stop                  12\n",
            " 80  B-arrive_date.date_relative    10\n",
            " 81  I-toloc.state_name             10\n",
            " 82  I-restriction_code              9\n",
            " 83  B-return_date.date_relative     8\n",
            " 84  I-depart_time.start_time        8\n",
            " 85  I-economy                       8\n",
            " 86  B-state_code                    7\n",
            " 87  I-arrive_time.start_time        7\n",
            " 88  I-fromloc.state_name            7\n",
            " 89  B-state_name                    6\n",
            " 90  I-depart_date.today_relative    6\n",
            " 91  I-depart_time.period_of_day     5\n",
            " 92  B-period_of_day                 4\n",
            " 93  I-arrive_date.day_number        4\n",
            " 94  B-day_name                      3\n",
            " 95  B-meal_code                     3\n",
            " 96  B-stoploc.state_code            3\n",
            " 97  B-arrive_time.period_mod        2\n",
            " 98  B-toloc.country_name            2\n",
            " 99  I-arrive_time.time_relative     2\n",
            "100  I-meal_code                     2\n",
            "101  I-return_date.date_relative     2\n",
            "102  B-return_date.day_number        1\n",
            "103  B-return_date.month_name        1\n"
          ],
          "name": "stdout"
        }
      ]
    },
    {
      "cell_type": "markdown",
      "metadata": {
        "id": "YgCO5EHwVC1v"
      },
      "source": [
        "It looks like the `'O'` (other) tag is, unsurprisingly, the most frequent tag (except for the padding tag). The proportion of tokens labeled with that tag (ignoring the padding tag) gives us a good baseline accuracy for this sequence labeling task. If we were to just label every token with the `'O'` tag, we'd expect to be right on this proportion of the tokens."
      ]
    },
    {
      "cell_type": "code",
      "metadata": {
        "colab": {
          "base_uri": "https://localhost:8080/"
        },
        "id": "TBtJW76wVC1w",
        "outputId": "b077912f-770d-4264-c0fd-e3e574b36b5b"
      },
      "source": [
        "majority_baseline_accuracy = (\n",
        "  tag_counts[TAG.vocab.stoi['O']] \n",
        "  / (sum(tag_counts) \n",
        "     - tag_counts[TAG.vocab.stoi[TAG.pad_token]])\n",
        ")\n",
        "print(f'Baseline accuracy: {majority_baseline_accuracy:.3f}')"
      ],
      "execution_count": 130,
      "outputs": [
        {
          "output_type": "stream",
          "text": [
            "Baseline accuracy: 0.637\n"
          ],
          "name": "stdout"
        }
      ]
    },
    {
      "cell_type": "markdown",
      "metadata": {
        "id": "OECrLzLtgf5o"
      },
      "source": [
        "## HMM for sequence labeling\n",
        "\n",
        "Having established the baseline to beat, we turn to implementing an HMM model.\n",
        "\n",
        "### Notation\n",
        "\n",
        "First, let's start with some notation. We use $Q = \\langle{Q_1, Q_2, \\ldots, Q_N} \\rangle$ to denote the possible tags, which is the state space of the HMM, and $\\mathcal{V} = \\langle v_1, v_2, \\ldots v_V \\rangle$ to denote the vocabulary of word types.  We use $q_{t}\\in Q$ to denote the state at time step $t$ (where $t$ varies from $1$ to $T$), and $o_t\\in \\mathcal{V}$ to denote the observation (word) at time step $t$."
      ]
    },
    {
      "cell_type": "markdown",
      "metadata": {
        "id": "XZL1KkJ2iO0p"
      },
      "source": [
        "### Training an HMM by counting\n",
        "\n",
        "Recall that an HMM is defined via a transition matrix $A$ which stores the probability of moving from one state $Q_i$ to another $Q_j$, that is, \n",
        "\n",
        "$$A_{ij}=P(q_{t+1}=Q_j  \\given  q_t=Q_i)$$\n",
        "\n",
        "and an emission matrix $B$ which stores the probability of generating word $\\mathcal{V}_j$ given state $Q_i$, that is, \n",
        "\n",
        "$$B_{ij}= P(o_t=\\mathcal{V}_j  \\given q_t= Q_i)$$\n",
        "\n",
        "> As is typical in notating probabilities, we'll use abbreviations\n",
        ">\n",
        "\\begin{align}\n",
        "P(q_{t+1} \\given  q_t) &\\equiv P(q_{t+1}=Q_j  \\given  q_t=Q_i) \\\\\n",
        "P(o_t  \\given q_t) &\\equiv P(o_t=\\mathcal{V}_j  \\given q_t= Q_i)\n",
        "\\end{align}\n",
        ">\n",
        "> where the $i$ and $j$ are clear from context.\n",
        "\n",
        "In our case, since the labels are observed in the training data, we can directly use counting to determine (maximum likelihood) estimates of $A$ and $B$."
      ]
    },
    {
      "cell_type": "markdown",
      "metadata": {
        "id": "FZfPy07kg8Bn"
      },
      "source": [
        "#### Goal 1(a): Find the transition matrix\n",
        "\n",
        "The matrix $A$ contains the transition probabilities: $A_{ij}$ is the probability of moving from state $Q_i$ to state $Q_j$ in the training data, so that $\\sum^{N}_{j = 1 } A_{ij} = 1$ for all $i$. \n",
        "\n",
        "We find these probabilities by counting the number of times state $Q_j$ appears right after state $Q_i$, as a proportion of all of the transitions from $Q_i$.\n",
        "\n",
        "$$\n",
        "A_{ij} = \\frac{\\cnt{Q_i, Q_j} + \\delta}{\\cnt{Q_i} + \\delta N}\n",
        "$$\n",
        "\n",
        "(In the above formula, we also used add-$\\delta$ smoothing.)\n",
        "\n",
        "Using the above definition, implement the method `train_A` in the `HMM` class, which calculates and returns the $A$ matrix as a tensor of size $N \\times N$.\n",
        "\n",
        "> You'll want to go ahead and implement this part now, and test it below, before moving on to the next goal.\n",
        "\n",
        "> Remember that the training data is being delivered to you batched."
      ]
    },
    {
      "cell_type": "markdown",
      "metadata": {
        "id": "YKkywJsCY5PU"
      },
      "source": [
        "#### Goal 1(b): Find the emission matrix $B$\n",
        "\n",
        "Similar to the transition matrix, the emission matrix contains the emission probabilities such that $B_{ij}$ is probability of word $o_t=\\mathcal{V}_j$ conditioned on state $q_t=Q_i$.\n",
        "\n",
        "We can find this by counting as well.\n",
        "$$\n",
        "B_{ij} = \\frac{\\cnt{Q_i, \\mathcal{V}_j} + \\delta}{\\cnt{Q_i} + \\delta V}\n",
        "$$\n",
        "\n",
        "Using the above definitions, implement the `train_B` method in the `HMM` class, which calculates and returns the $B$ matrix as a tensor of size $N \\times V$.\n",
        "\n",
        "> You'll want to go ahead and implement this part now, and test it below, before moving on to the next goal."
      ]
    },
    {
      "cell_type": "markdown",
      "metadata": {
        "id": "O9M5u0CpjkI0"
      },
      "source": [
        "### Sequence labeling with a trained HMM\n",
        "\n",
        "Now that you're able to train an HMM by estimating the transition matrix $A$ and the emission matrix $B$, you can apply it to the task of sequence labeling. Our goal is to find the most probable sequence of tags $\\hat q \\in Q^T$ given a sequence of words $o \\in \\mathcal{V}^T$.\n",
        "\n",
        "\\begin{align*}\n",
        "\\hat q &= \\operatorname*{argmax}\\limits_{q \\in Q^T}(P(q \\given o)) \\\\\n",
        "& = \\operatorname*{argmax}_{q \\in Q^T}(P(q,o)) \\\\\n",
        "& = \\operatorname*{argmax}_{q \\in Q^T}\\left(\\Pi^{T}_{t = 1} P(o_{t+1} \\given q_{t+1})P(q_{t+1} \\given q_t)\\right)\n",
        "\\end{align*}\n",
        "\n",
        "where $P(o_{t+1}=\\mathcal{V}_j \\given q_{t+1}=Q_i) = B_{ij}$, $P(q_{t+1}=Q_j \\given q_t=Q_{i})=A_{ij}$."
      ]
    },
    {
      "cell_type": "markdown",
      "metadata": {
        "id": "INnW0jImbK7N"
      },
      "source": [
        "#### Goal 1(c): Viterbi algorithm\n",
        "\n",
        "Implement the `predict` method, which should use the Viterbi algorithm to find the most likely sequence of tags for a sequence of `words`.\n",
        "\n",
        "> You'll want to go ahead and implement this part now, and test it below, before moving on to the next goal.\n",
        "\n",
        "> Warning: It may take up to 30 minutes to tag the entire test set depending on your implementation. We highly recommend that you begin by experimenting with your code using a _very small subset_ of the dataset, say two or three sentences, ramping up from there.\n",
        "\n",
        "> Hint: Consider how to use vectorized computations where possible for speed."
      ]
    },
    {
      "cell_type": "markdown",
      "metadata": {
        "id": "cTNJN8RRVC1z"
      },
      "source": [
        "### Evaluation\n",
        "\n",
        "We've provided you with the `evaluate` function, which takes a dataset iterator and uses `predict` on each sentence in each batch, comparing against the gold tags, to determine the accuracy of the model on the test set."
      ]
    },
    {
      "cell_type": "code",
      "metadata": {
        "id": "PxMiTaNilc7K"
      },
      "source": [
        "class HMMTagger():\n",
        "  def __init__ (self, text, tag):\n",
        "    self.text = text\n",
        "    self.tag = tag\n",
        "    self.V = len(text.vocab.itos)    # vocabulary size\n",
        "    self.N = len(tag.vocab.itos)     # state space size\n",
        "    self.initial_state_id = tag.vocab.stoi[tag.init_token]\n",
        "    self.pad_state_id = tag.vocab.stoi[tag.pad_token]\n",
        "  \n",
        "  def train_A(self, iterator, delta):\n",
        "    \"\"\"Stores A for training dataset `iterator` using add-`delta` smoothing.\"\"\"\n",
        "    # Create A table\n",
        "    A = torch.zeros(self.N, self.N, device=device)\n",
        "\n",
        "    #TODO: Add your solution from Goal 1(a) here.\n",
        "    #      The returned value should be a tensor for the A matrix\n",
        "    #      of size N x N.\n",
        "    '''\n",
        "     tag_counts = torch.zeros(len(self.tag.vocab.itos), device=device)\n",
        "    for batch in iterator:\n",
        "        for sent_id in range(len(batch)):\n",
        "            for tag in batch.tag[:, sent_id]:\n",
        "                tag_counts[tag] += 1\n",
        "    tg_counts = tag_counts+1\n",
        "    pads_count = tg_counts[torch.tensor(self.tag.vocab.stoi[self.tag.pad_token]).long()]\n",
        "    self.log_priors = (tg_counts / (sum(tg_counts)-pads_count)).log()\n",
        "    '''\n",
        "    for batch in iterator:\n",
        "        row_indices = batch.tag.T[:, 0:-1].reshape(-1)\n",
        "        colume_indices = batch.tag.T[:,1:].reshape(-1)\n",
        "        pairs = torch.stack([row_indices, colume_indices]).T\n",
        "        indices, counts = pairs.unique(return_counts=True, dim=0)\n",
        "        row_indices, colume_indices = indices.T[0], indices.T[1]\n",
        "        A[row_indices, colume_indices] += counts\n",
        "    '''\n",
        "    for batch in iterator:\n",
        "        for c in range(batch.tag.size(1)):\n",
        "            for r in range(batch.tag.size(0)-1):\n",
        "                A[batch.tag[r,c], batch.tag[r+1,c]] += 1\n",
        "    '''\n",
        "    A[1,:] = 0\n",
        "    A[:,1] = 0\n",
        "    A=(A+delta) / (torch.sum(A, dim=1).view(-1, 1)+self.N*delta)\n",
        "    return A\n",
        "\n",
        "  def train_B(self, iterator, delta):\n",
        "    \"\"\"Stores B for training dataset `iterator` using add-`delta` smoothing.\"\"\"\n",
        "    # Create B\n",
        "    B = torch.zeros(self.N, self.V, device=device)\n",
        "    \n",
        "    #TODO: Add your solution from Goal 1 (b) here.\n",
        "    #      The returned value should be a tensor for the $B$ matrix\n",
        "    #      of size N x V.\n",
        "    \n",
        "    for batch in iterator:\n",
        "        row_indices = batch.tag.T.reshape(-1)\n",
        "        colume_indices = batch.text.T.reshape(-1)\n",
        "        pairs = torch.stack([row_indices, colume_indices]).T\n",
        "        indices, counts = pairs.unique(return_counts=True, dim=0)\n",
        "        row_indices, colume_indices = indices.T[0], indices.T[1]\n",
        "        B[row_indices, colume_indices] += counts\n",
        "    '''\n",
        "    for batch in iterator: # just another method for verification\n",
        "        for r,c in zip(batch.tag.T.reshape(-1), batch.text.T.reshape(-1)):\n",
        "            B[r, c] += 1\n",
        "    '''\n",
        "    B[1,:] = 0\n",
        "    B = (B + delta) / (torch.sum(B, dim=1).view(-1,1) + self.V * delta)\n",
        "\n",
        "    return B\n",
        "\n",
        "  def train_all(self, iterator, delta=0.01):\n",
        "    \"\"\"Stores A and B for training dataset `iterator`.\"\"\"\n",
        "    self.log_A = self.train_A(iterator, delta).log()\n",
        "    self.log_B = self.train_B(iterator, delta).log()\n",
        "    \n",
        "  def predict(self, words):\n",
        "    \"\"\"Returns the most likely sequence of tags for a sequence of `words`.\n",
        "    Arguments: \n",
        "      words: a tensor of size (seq_len,) \n",
        "    Returns:\n",
        "      a list of tag ids\n",
        "    \"\"\"\n",
        "    #TODO: Add your solution from Goal 1 (c) here.\n",
        "    #      The returned value should be a list of tag ids.\n",
        "\n",
        "    T = len(words)\n",
        "    T1 = torch.empty((self.N, T), device=device)\n",
        "    T2 = torch.empty((self.N, T), device=device)\n",
        "\n",
        "    # Initilaize the tracking tables from first word\n",
        "    '''\n",
        "    b_0 = torch.ones(self.N) # we could zeroify every other tag then <bos> \n",
        "    b_0[2] = self.N          # as much as calculating the lof priors as was done in experiment\n",
        "    b_0 = b_0 / b_0.sum()    # in the A train section in comment. No significant changes in accurancy.\n",
        "    '''\n",
        "    T1[:, 0] = self.log_B[:, words[0]]\n",
        "    T2[:, 0] = 0\n",
        "    \n",
        "    #Viterbi\n",
        "    for t in range(1, T):\n",
        "        temp_v = T1[:, t - 1].view(-1, 1) + self.log_A + self.log_B[:, words[t]]\n",
        "        T1[:, t], T2[:, t-1] = torch.max(temp_v, dim=0)\n",
        "    '''\n",
        "    #Viterbi - just another method for verification\n",
        "    for t in range(1, T): \n",
        "        for i in range(self.N):\n",
        "            temp_vec = T1[:, t - 1] + self.log_A[:, i]\n",
        "            T2[i, t - 1] = torch.argmax(temp_vec)\n",
        "            T1[i, t] = self.log_B[i, words[t]] + torch.max(temp_vec)\n",
        "    '''\n",
        "\n",
        "    bestpath = []\n",
        "    # The last element of the most likely sequence of states\n",
        "    x = torch.argmax(T1[:, T - 1])\n",
        "    bestpath.append(x)\n",
        "    # Backtracking\n",
        "    for t in reversed(range(T - 1)):\n",
        "        x = T2[x.long(), torch.tensor(t).long()]\n",
        "        bestpath.append(x)\n",
        "\n",
        "    return (list(reversed(bestpath)))\n",
        "    \n",
        "  def evaluate(self, iterator):\n",
        "    \"\"\"Returns the model's performance on a given dataset `iterator`.\"\"\"\n",
        "    correct = 0\n",
        "    total = 0\n",
        "    for batch in tqdm(iterator):\n",
        "      for sent_id in range(len(batch)):\n",
        "        words = batch.text[:, sent_id]\n",
        "        tags_gold = batch.tag[:, sent_id]\n",
        "        tags_pred = self.predict(words)\n",
        "        for tag_gold, tag_pred in zip(tags_gold, tags_pred):\n",
        "          if tag_gold == self.pad_state_id:  # stop once we hit padding\n",
        "            break\n",
        "          else:\n",
        "            total += 1\n",
        "            if tag_pred == tag_gold:\n",
        "              correct += 1\n",
        "    return correct/total"
      ],
      "execution_count": 131,
      "outputs": []
    },
    {
      "cell_type": "markdown",
      "metadata": {
        "id": "O19h1vI0nTyF"
      },
      "source": [
        "Putting everything together, you can expect a correct implementation to reach about **90% test set accuracy** after running the following cell."
      ]
    },
    {
      "cell_type": "code",
      "metadata": {
        "colab": {
          "base_uri": "https://localhost:8080/"
        },
        "id": "Tq4SqhvN8m1r",
        "outputId": "90068271-69ae-4b02-84ed-ae69f278a7a2"
      },
      "source": [
        "# Instantiate and train classifier\n",
        "hmm_tagger = HMMTagger(TEXT, TAG)\n",
        "hmm_tagger.train_all(train_iter)\n",
        "\n",
        "# Evaluate model performance\n",
        "print(f'Training accuracy: {hmm_tagger.evaluate(train_iter):.10f}\\n'\n",
        "      f'Test accuracy:     {hmm_tagger.evaluate(test_iter):.10f}')"
      ],
      "execution_count": 78,
      "outputs": [
        {
          "output_type": "stream",
          "text": [
            "100%|██████████| 214/214 [00:12<00:00, 17.78it/s]\n",
            "100%|██████████| 30/30 [00:01<00:00, 28.06it/s]"
          ],
          "name": "stderr"
        },
        {
          "output_type": "stream",
          "text": [
            "Training accuracy: 0.9136448354\n",
            "Test accuracy:     0.9057787429\n"
          ],
          "name": "stdout"
        },
        {
          "output_type": "stream",
          "text": [
            "\n"
          ],
          "name": "stderr"
        }
      ]
    },
    {
      "cell_type": "markdown",
      "metadata": {
        "id": "Qmi4Kl-woT9x"
      },
      "source": [
        "### RNN for Sequence Labeling\n",
        "\n",
        "HMMs work quite well for this sequence labeling task. Now let's take an alternative (and more trendy) approach: RNN/LSTM-based sequence labeling. Similar to the HMM part of this project, you will also need to train a model on the training data, and then use the trained model to decode and evaluate some testing data.\n",
        "\n",
        "\n",
        "\n",
        "<img src=\"https://github.com/nlp-236299/data/raw/feature/project2figs/Resources/rnn-unfolded-figure.png\" width=600 align=right />\n",
        "\n",
        "After unfolding an RNN, the cell at time $t$ generates the observed output $o_t$ based on the input $x_t$ and the hidden state of the previous cell $h_{t-1}$, according to the following equations.\n",
        "\n",
        "\\begin{align*}\n",
        "h_t &=  \\sigma(U x_t + V h_{t-1}) \\\\\n",
        "o_t &= \\softmax(W h_t)\n",
        "\\end{align*}\n",
        "\n",
        "The parameters here are the elements of the matrices $U$, $V$, and $W$, and the bias terms $b_h$ and $b_y$ which we omitted for simplicity. Similar to the last project segment, we will perform the forward computation, calculate the loss, and then perform the backward computation to compute the gradients with respect to these model parameters. Finally, we will adjust the parameters opposite the direction of the gradients to minimize the loss, repeating until convergence.\n",
        "\n",
        "You've seen these kinds of neural network models before, for language modeling in lab 2-3 and sequence labeling in lab 2-5. The code there should be very helpful in implementing an `RNNTagger` class below. Consequently, we've provided very little guidance on the implementation. We do recommend you follow the steps below however."
      ]
    },
    {
      "cell_type": "markdown",
      "metadata": {
        "id": "GcbFYlvWoaR_"
      },
      "source": [
        "#### Goal 2(a): RNN training\n",
        "\n",
        "Implement the forward pass of the RNN tagger and the loss function. A reasonable way to proceed is to implement the following methods:\n",
        "\n",
        "1. `forward(self, text_batch, hidden_0)`: Performs the RNN forward computation over a whole `text_batch` (`batch.text` in the above data loading example) starting with the starting hidden state `hidden_0` of size, say, `1 x batch_size x hidden_size`. The `text_batch` will be of shape `max_length x batch_size`. You might run it through the following layers: an embedding layer, which maps each token index to an embedding of size `embedding_size` (so that the size of the mapped batch becomes `max_length x batch_size x embedding_size`); then an RNN, which maps each token embedding to a vector of `hidden_size` (the size of all outputs is `max_length x batch_size x hidden_size`); then a linear layer, which maps each RNN output element to a vector of size $N$ (which is commonly referred to as \"logits\", recall that $N=|Q|$, the size of the tag set).\n",
        "\n",
        "This function is expected to return `logits`, which provides a logit for each tag of each word of each sentence in the batch (which is a tensor of size `max_length x batch_size x N`). \n",
        "\n",
        "> You might find the following functions useful: \n",
        ">\n",
        "> * [`nn.Embedding`](https://pytorch.org/docs/stable/generated/torch.nn.Embedding.html)\n",
        "> * [`nn.Linear`](https://pytorch.org/docs/stable/generated/torch.nn.Linear.html)\n",
        "> * [`nn.RNN`](https://pytorch.org/docs/stable/generated/torch.nn.RNN.html)\n",
        "\n",
        "2. `compute_loss(self, logits, ground_truth)`: Computes the loss for a batch by comparing `logits` of a batch returned by `forward` to `ground_truth`, which stores the true tag ids for the batch. Thus `logits` is a tensor of size `max_length x batch_size x N`, and `ground_truth` is a tensor of size `max_length x batch_size`. Note that the criterion functions in `torch` expect outputs of a certain shape, so you might need to perform some shape conversions.\n",
        "\n",
        "> You might find [`nn.CrossEntropyLoss`](https://pytorch.org/docs/master/generated/torch.nn.CrossEntropyLoss.html) from the last project segment useful. Note that if you use `nn.CrossEntropyLoss` then you should not use a softmax layer at the end since that's already absorbed into the loss function. Alternatively, you can use [`nn.LogSoftmax`](https://pytorch.org/docs/stable/generated/torch.nn.LogSoftmax.html) as the final sublayer in the forward pass, but then you need to use [`nn.NLLLoss`](https://pytorch.org/docs/stable/generated/torch.nn.NLLLoss.html), which does not contain its own softmax. We recommend the former, since working in log space is usually more numerically stable.\n",
        "> For reshaping tensors, check out the [`torch.Tensor.view`](https://pytorch.org/docs/stable/tensors.html#torch.Tensor.view) method.\n",
        "\n",
        "3. `train_all(self, train_iter, val_iter, epochs=10, learning_rate=0.001)`: Trains the model on training data generated by the iterator `train_iter` and validation data `val_iter`.The `epochs` and `learning_rate` variables are the number of epochs (number of times to run through the training data) to run for and the learning rate for the optimizer, respectively. You can use the validation data to determine which model was the best one as the epocks go by. Notice that our code below assumes that during training the best model is stored so that `rnn_tagger.load_state_dict(rnn_tagger.best_model)` restores the parameters of the best model."
      ]
    },
    {
      "cell_type": "markdown",
      "metadata": {
        "id": "y7SHhMr5pi_l"
      },
      "source": [
        "#### Goal 2(b) RNN decoding\n",
        "\n",
        "Implement a method to predict the tag sequence associated with a sequence of words:\n",
        "\n",
        "1. `predict(self, text_batch)`: Returns the batched predicted tag sequences associated with a batch of sentences.\n",
        "2. `def evaluate(self, iterator)`: Returns the accuracy of the trained tagger on a dataset provided by `iterator`."
      ]
    },
    {
      "cell_type": "code",
      "metadata": {
        "id": "FPQ_Gb1NsUzL"
      },
      "source": [
        "class RNNTagger(nn.Module):\n",
        "    def __init__(self, text, tag, embedding_size, hidden_size):\n",
        "        super().__init__()\n",
        "        self.text = text\n",
        "        self.tag = tag\n",
        "        self.V = len(text.vocab.itos)  # vocabulary size\n",
        "        self.N = len(tag.vocab.itos)  # state space size\n",
        "        self.initial_id = tag.vocab.stoi[tag.init_token]\n",
        "        self.pad_id = tag.vocab.stoi[tag.pad_token]\n",
        "\n",
        "        vocab_size = len(self.text.vocab)\n",
        "        self.embedding = torch.nn.Embedding(vocab_size, embedding_size)\n",
        "        self.rnn = torch.nn.RNN(input_size=embedding_size, hidden_size=hidden_size, num_layers=1)\n",
        "        self.hidden2output = torch.nn.Linear(hidden_size, vocab_size)\n",
        "        self.loss_function = nn.CrossEntropyLoss(reduction='sum', ignore_index=self.pad_id)\n",
        "\n",
        "    def forward(self, text_batch, hidden_0=None):\n",
        "        \"\"\"Returns the most likely sequence of tags for a sequence of words in `text_batch`.\n",
        "\n",
        "        Arguments:\n",
        "          text_batch: a tensor containing word ids of size (seq_len, 1)\n",
        "        Returns:\n",
        "          tag_batch: a tensor containing tag ids of size (seq_len, 1)\n",
        "        \"\"\"\n",
        "        # TODO: your code below\n",
        "        word_embeddings = self.embedding(text_batch)  # seq_len, 1, embedding_size\n",
        "        outs, hidens = self.rnn(word_embeddings, hidden_0)\n",
        "        logits = self.hidden2output(outs)\n",
        "        return logits\n",
        "\n",
        "    def compute_loss(self, logits, ground_truth):\n",
        "        loss = self.loss_function(logits.view(-1, self.V), ground_truth.view(-1))\n",
        "        return loss\n",
        "\n",
        "    def train_all(self, train_itr, val_itr, epochs, learning_rate):\n",
        "        \"\"\"Stores A and B for training dataset `iterator`.\"\"\"\n",
        "        # Switch the module to training mode\n",
        "        self.train()\n",
        "        # Use Adam to optimize the parameters\n",
        "        optim = torch.optim.Adam(self.parameters(), lr=learning_rate)\n",
        "        best_validation_accuracy = -float('inf')\n",
        "        best_model = None\n",
        "        # Run the optimization for multiple epochs\n",
        "        for epoch in range(epochs):\n",
        "            total = 0\n",
        "            running_loss = 0.0\n",
        "            for batch in tqdm(train_itr):\n",
        "                # Zero the parameter gradients\n",
        "                self.zero_grad()\n",
        "\n",
        "                # Input and target\n",
        "                words = batch.text  # seq_len, 1\n",
        "                tags = batch.tag  # seq_len, 1\n",
        "\n",
        "                # Run forward pass and compute loss along the way.\n",
        "                logits = self.forward(words)\n",
        "                loss = self.compute_loss(logits, tags)\n",
        "\n",
        "                # Perform backpropagation\n",
        "                (loss / words.size(1)).backward()\n",
        "\n",
        "                # Update parameters\n",
        "                optim.step()\n",
        "\n",
        "                # Training stats\n",
        "                total += 1\n",
        "                running_loss += loss.item()\n",
        "\n",
        "            # Evaluate and track improvements on the validation dataset\n",
        "            validation_accuracy = self.evaluate(val_itr)\n",
        "            if validation_accuracy > best_validation_accuracy:\n",
        "                best_validation_accuracy = validation_accuracy\n",
        "                self.best_model = copy.deepcopy(self.state_dict())\n",
        "            epoch_loss = running_loss / total\n",
        "            print(f'Epoch: {epoch} Loss: {epoch_loss:.4f} '\n",
        "                  f'Validation accuracy: {validation_accuracy:.4f}')\n",
        "        return\n",
        "\n",
        "    def predict(self, words):\n",
        "        \"\"\"Returns the most likely sequence of tags for a sequence of `words`.\n",
        "        Arguments:\n",
        "          words: a tensor of size (seq_len,)\n",
        "        Returns:\n",
        "          a list of tag ids\n",
        "        \"\"\"\n",
        "        self.eval()\n",
        "        logits = self.forward(words.view(-1,1))\n",
        "        predicted_words = logits.argmax(dim=2)\n",
        "        return predicted_words.squeeze()\n",
        "\n",
        "    def evaluate(self, iterator):\n",
        "        \"\"\"Returns the model's performance on a given dataset `iterator`.\"\"\"\n",
        "        correct = 0\n",
        "        total = 0\n",
        "        for batch in tqdm(iterator):\n",
        "            for sent_id in range(len(batch)):\n",
        "                words = batch.text[:, sent_id]\n",
        "                tags_gold = batch.tag[:, sent_id]\n",
        "                tags_pred = self.predict(words)\n",
        "                for tag_gold, tag_pred in zip(tags_gold, tags_pred):\n",
        "                    if tag_gold == self.pad_id:  # stop once we hit padding\n",
        "                        break\n",
        "                    else:\n",
        "                        total += 1\n",
        "                        if tag_pred == tag_gold:\n",
        "                            correct += 1\n",
        "        return correct / total"
      ],
      "execution_count": 107,
      "outputs": []
    },
    {
      "cell_type": "markdown",
      "metadata": {
        "id": "Q3ubVqd8EdoY"
      },
      "source": [
        "Now train your tagger on the training and validation set.\n",
        "Run the below cell to train an RNN, and evaluate it. A proper implementation should reach about **95%+ accuracy**."
      ]
    },
    {
      "cell_type": "code",
      "metadata": {
        "colab": {
          "base_uri": "https://localhost:8080/"
        },
        "id": "uIhOSOtU8m2d",
        "outputId": "539b9ab7-da02-48cd-9d4b-065a29d6e532"
      },
      "source": [
        "# Instantiate and train classifier\n",
        "rnn_tagger = RNNTagger(TEXT, TAG, embedding_size=36, hidden_size=36).to(device)\n",
        "rnn_tagger.train_all(train_iter, val_iter, epochs=10, learning_rate=0.001)\n",
        "rnn_tagger.load_state_dict(rnn_tagger.best_model)\n",
        "\n",
        "# Evaluate model performance\n",
        "print(f'Training accuracy: {rnn_tagger.evaluate(train_iter):.3f}\\n'\n",
        "      f'Test accuracy:     {rnn_tagger.evaluate(test_iter):.3f}')"
      ],
      "execution_count": 50,
      "outputs": [
        {
          "output_type": "stream",
          "text": [
            "100%|██████████| 214/214 [00:02<00:00, 102.77it/s]\n",
            "100%|██████████| 29/29 [00:00<00:00, 42.58it/s]\n",
            "  5%|▍         | 10/214 [00:00<00:02, 98.93it/s]"
          ],
          "name": "stderr"
        },
        {
          "output_type": "stream",
          "text": [
            "Epoch: 0 Loss: 699.8854 Validation accuracy: 0.7276\n"
          ],
          "name": "stdout"
        },
        {
          "output_type": "stream",
          "text": [
            "100%|██████████| 214/214 [00:01<00:00, 108.03it/s]\n",
            "100%|██████████| 29/29 [00:00<00:00, 42.98it/s]\n",
            "  5%|▌         | 11/214 [00:00<00:01, 103.88it/s]"
          ],
          "name": "stderr"
        },
        {
          "output_type": "stream",
          "text": [
            "Epoch: 1 Loss: 290.9520 Validation accuracy: 0.8378\n"
          ],
          "name": "stdout"
        },
        {
          "output_type": "stream",
          "text": [
            "100%|██████████| 214/214 [00:01<00:00, 107.99it/s]\n",
            "100%|██████████| 29/29 [00:00<00:00, 43.30it/s]\n",
            "  5%|▍         | 10/214 [00:00<00:02, 94.32it/s]"
          ],
          "name": "stderr"
        },
        {
          "output_type": "stream",
          "text": [
            "Epoch: 2 Loss: 179.0184 Validation accuracy: 0.9040\n"
          ],
          "name": "stdout"
        },
        {
          "output_type": "stream",
          "text": [
            "100%|██████████| 214/214 [00:01<00:00, 108.40it/s]\n",
            "100%|██████████| 29/29 [00:00<00:00, 42.40it/s]\n",
            "  5%|▍         | 10/214 [00:00<00:02, 97.58it/s]"
          ],
          "name": "stderr"
        },
        {
          "output_type": "stream",
          "text": [
            "Epoch: 3 Loss: 120.9971 Validation accuracy: 0.9230\n"
          ],
          "name": "stdout"
        },
        {
          "output_type": "stream",
          "text": [
            "100%|██████████| 214/214 [00:01<00:00, 108.79it/s]\n",
            "100%|██████████| 29/29 [00:00<00:00, 40.82it/s]\n",
            "  5%|▌         | 11/214 [00:00<00:01, 102.92it/s]"
          ],
          "name": "stderr"
        },
        {
          "output_type": "stream",
          "text": [
            "Epoch: 4 Loss: 90.3452 Validation accuracy: 0.9378\n"
          ],
          "name": "stdout"
        },
        {
          "output_type": "stream",
          "text": [
            "100%|██████████| 214/214 [00:01<00:00, 107.09it/s]\n",
            "100%|██████████| 29/29 [00:00<00:00, 42.66it/s]\n",
            "  5%|▍         | 10/214 [00:00<00:02, 97.93it/s]"
          ],
          "name": "stderr"
        },
        {
          "output_type": "stream",
          "text": [
            "Epoch: 5 Loss: 71.5639 Validation accuracy: 0.9456\n"
          ],
          "name": "stdout"
        },
        {
          "output_type": "stream",
          "text": [
            "100%|██████████| 214/214 [00:02<00:00, 106.94it/s]\n",
            "100%|██████████| 29/29 [00:00<00:00, 41.52it/s]\n",
            "  5%|▌         | 11/214 [00:00<00:01, 106.85it/s]"
          ],
          "name": "stderr"
        },
        {
          "output_type": "stream",
          "text": [
            "Epoch: 6 Loss: 59.4664 Validation accuracy: 0.9514\n"
          ],
          "name": "stdout"
        },
        {
          "output_type": "stream",
          "text": [
            "100%|██████████| 214/214 [00:02<00:00, 104.15it/s]\n",
            "100%|██████████| 29/29 [00:00<00:00, 41.91it/s]\n",
            "  5%|▌         | 11/214 [00:00<00:02, 101.46it/s]"
          ],
          "name": "stderr"
        },
        {
          "output_type": "stream",
          "text": [
            "Epoch: 7 Loss: 51.0500 Validation accuracy: 0.9550\n"
          ],
          "name": "stdout"
        },
        {
          "output_type": "stream",
          "text": [
            "100%|██████████| 214/214 [00:02<00:00, 106.30it/s]\n",
            "100%|██████████| 29/29 [00:00<00:00, 42.76it/s]\n",
            "  5%|▍         | 10/214 [00:00<00:02, 93.68it/s]"
          ],
          "name": "stderr"
        },
        {
          "output_type": "stream",
          "text": [
            "Epoch: 8 Loss: 44.8281 Validation accuracy: 0.9587\n"
          ],
          "name": "stdout"
        },
        {
          "output_type": "stream",
          "text": [
            "100%|██████████| 214/214 [00:02<00:00, 105.03it/s]\n",
            "100%|██████████| 29/29 [00:00<00:00, 42.35it/s]\n",
            "  2%|▏         | 4/214 [00:00<00:06, 34.10it/s]"
          ],
          "name": "stderr"
        },
        {
          "output_type": "stream",
          "text": [
            "Epoch: 9 Loss: 40.0092 Validation accuracy: 0.9626\n"
          ],
          "name": "stdout"
        },
        {
          "output_type": "stream",
          "text": [
            "100%|██████████| 214/214 [00:06<00:00, 33.12it/s]\n",
            "100%|██████████| 30/30 [00:00<00:00, 43.03it/s]"
          ],
          "name": "stderr"
        },
        {
          "output_type": "stream",
          "text": [
            "Training accuracy: 0.968\n",
            "Test accuracy:     0.960\n"
          ],
          "name": "stdout"
        },
        {
          "output_type": "stream",
          "text": [
            "\n"
          ],
          "name": "stderr"
        }
      ]
    },
    {
      "cell_type": "markdown",
      "metadata": {
        "id": "YCpYjn9W4yNK"
      },
      "source": [
        "## LSTM for slot filling\n",
        "\n",
        "Did your RNN perform better than HMM? How much better was it? Was that expected? \n",
        "\n",
        "RNNs tend to exhibit the [vanishing gradient problem](https://en.wikipedia.org/wiki/Vanishing_gradient_problem). To remedy this, the Long-Short Term Memory (LSTM) model was introduced. In PyTorch, we can simply use [`nn.LSTM`](https://pytorch.org/docs/stable/generated/torch.nn.LSTM.html). \n",
        "\n",
        "In this section, you'll implement an LSTM model for slot filling. If you've got the RNN model well implemented, this should be extremely straightforward. Just copy and paste your solution, change the call to `nn.RNN` to a call to `nn.LSTM`, and make any other minor adjustments that are necessary. In particular, LSTMs have _two_ recurrent bits, `h` and `c`. You'll thus need to initialize both of these when performing forward computations."
      ]
    },
    {
      "cell_type": "code",
      "metadata": {
        "id": "jTNPCq4nVC13"
      },
      "source": [
        "class LSTMTagger(nn.Module):\n",
        "    def __init__(self, text, tag, embedding_size, hidden_size):\n",
        "        super().__init__()\n",
        "        self.text = text\n",
        "        self.tag = tag\n",
        "        self.V = len(text.vocab.itos)  # vocabulary size\n",
        "        self.N = len(tag.vocab.itos)  # state space size\n",
        "        self.pad_id = tag.vocab.stoi[tag.pad_token]\n",
        "\n",
        "        vocab_size = len(self.text.vocab)\n",
        "        self.embedding = torch.nn.Embedding(vocab_size, embedding_size)\n",
        "        self.lstm = torch.nn.LSTM(input_size=embedding_size, hidden_size=hidden_size, num_layers=1)\n",
        "        self.hidden2output = torch.nn.Linear(hidden_size, vocab_size)\n",
        "        self.loss_function = nn.CrossEntropyLoss(reduction='sum', ignore_index=self.pad_id)\n",
        "\n",
        "    def forward(self, text_batch, hidden_0=None, cell_0=None):\n",
        "        \"\"\"Returns the most likely sequence of tags for a sequence of words in `text_batch`.\n",
        "\n",
        "        Arguments:\n",
        "          text_batch: a tensor containing word ids of size (seq_len, 1)\n",
        "        Returns:\n",
        "          tag_batch: a tensor containing tag ids of size (seq_len, 1)\n",
        "        \"\"\"\n",
        "        # TODO: your code below\n",
        "        h_c = (hidden_0, cell_0) if (hidden_0,cell_0) != (None, None) else None\n",
        "        word_embeddings = self.embedding(text_batch)  # seq_len, 1, embedding_size\n",
        "        outs,_  = self.lstm(word_embeddings, h_c)\n",
        "        logits = self.hidden2output(outs)\n",
        "        return logits\n",
        "\n",
        "    def compute_loss(self, logits, ground_truth):\n",
        "        loss = self.loss_function(logits.view(-1, self.V), ground_truth.view(-1))\n",
        "        return loss\n",
        "\n",
        "    def train_all(self, train_itr, val_itr, epochs, learning_rate):\n",
        "        \"\"\"Stores A and B for training dataset `iterator`.\"\"\"\n",
        "        # Switch the module to training mode\n",
        "        self.train()\n",
        "        # Use Adam to optimize the parameters\n",
        "        optim = torch.optim.Adam(self.parameters(), lr=learning_rate)\n",
        "        best_validation_accuracy = -float('inf')\n",
        "        best_model = None\n",
        "        # Run the optimization for multiple epochs\n",
        "        for epoch in range(epochs):\n",
        "            total = 0\n",
        "            running_loss = 0.0\n",
        "            for batch in tqdm(train_itr):\n",
        "                # Zero the parameter gradients\n",
        "                self.zero_grad()\n",
        "\n",
        "                # Input and target\n",
        "                words = batch.text  # seq_len, 1\n",
        "                tags = batch.tag  # seq_len, 1\n",
        "\n",
        "                # Run forward pass and compute loss along the way.\n",
        "                logits = self.forward(words)\n",
        "                loss = self.compute_loss(logits, tags)\n",
        "\n",
        "                # Perform backpropagation\n",
        "                (loss / words.size(1)).backward()\n",
        "\n",
        "                # Update parameters\n",
        "                optim.step()\n",
        "\n",
        "                # Training stats\n",
        "                total += 1\n",
        "                running_loss += loss.item()\n",
        "\n",
        "            # Evaluate and track improvements on the validation dataset\n",
        "            validation_accuracy = self.evaluate(val_itr)\n",
        "            if validation_accuracy > best_validation_accuracy:\n",
        "                best_validation_accuracy = validation_accuracy\n",
        "                self.best_model = copy.deepcopy(self.state_dict())\n",
        "            epoch_loss = running_loss / total\n",
        "            print(f'Epoch: {epoch} Loss: {epoch_loss:.4f} '\n",
        "                  f'Validation accuracy: {validation_accuracy:.4f}')\n",
        "        return\n",
        "\n",
        "    def predict(self, words):\n",
        "        \"\"\"Returns the most likely sequence of tags for a sequence of `words`.\n",
        "        Arguments:\n",
        "          words: a tensor of size (seq_len,)\n",
        "        Returns:\n",
        "          a list of tag ids\n",
        "        \"\"\"\n",
        "        self.eval()\n",
        "        logits = self.forward(words.view(-1,1))\n",
        "        predicted_words = logits.argmax(dim=2)\n",
        "        return predicted_words.squeeze()\n",
        "\n",
        "    def evaluate(self, iterator):\n",
        "        \"\"\"Returns the model's performance on a given dataset `iterator`.\"\"\"\n",
        "        correct = 0\n",
        "        total = 0\n",
        "        for batch in tqdm(iterator):\n",
        "            for sent_id in range(len(batch)):\n",
        "                words = batch.text[:, sent_id]\n",
        "                tags_gold = batch.tag[:, sent_id]\n",
        "                tags_pred = self.predict(words)\n",
        "                for tag_gold, tag_pred in zip(tags_gold, tags_pred):\n",
        "                    if tag_gold == self.pad_id:  # stop once we hit padding\n",
        "                        break\n",
        "                    else:\n",
        "                        total += 1\n",
        "                        if tag_pred == tag_gold:\n",
        "                            correct += 1\n",
        "        return correct / total"
      ],
      "execution_count": 134,
      "outputs": []
    },
    {
      "cell_type": "markdown",
      "metadata": {
        "id": "b8c69PaVHymd"
      },
      "source": [
        "Run the cell below to train an LSTM, and evaluate it. A proper implementation should reach about **95%+ accuracy**."
      ]
    },
    {
      "cell_type": "code",
      "metadata": {
        "colab": {
          "base_uri": "https://localhost:8080/"
        },
        "id": "Rg49kkS5G9GR",
        "outputId": "6b2847aa-145d-4437-e438-4900bc9cc074"
      },
      "source": [
        "# Instantiate and train classifier\n",
        "lstm_tagger = LSTMTagger(TEXT, TAG, embedding_size=36, hidden_size=36).to(device)\n",
        "lstm_tagger.train_all(train_iter, val_iter, epochs=10, learning_rate=0.001)\n",
        "lstm_tagger.load_state_dict(lstm_tagger.best_model)\n",
        "\n",
        "# Evaluate model performance\n",
        "print(f'Training accuracy: {lstm_tagger.evaluate(train_iter):.3f}\\n'\n",
        "      f'Test accuracy:     {lstm_tagger.evaluate(test_iter):.3f}')"
      ],
      "execution_count": 137,
      "outputs": [
        {
          "output_type": "stream",
          "text": [
            "100%|██████████| 214/214 [00:03<00:00, 70.39it/s]\n",
            "100%|██████████| 29/29 [00:01<00:00, 25.54it/s]\n",
            "  3%|▎         | 6/214 [00:00<00:03, 56.49it/s]"
          ],
          "name": "stderr"
        },
        {
          "output_type": "stream",
          "text": [
            "Epoch: 0 Loss: 766.7183 Validation accuracy: 0.7080\n"
          ],
          "name": "stdout"
        },
        {
          "output_type": "stream",
          "text": [
            "100%|██████████| 214/214 [00:03<00:00, 69.09it/s]\n",
            "100%|██████████| 29/29 [00:01<00:00, 25.77it/s]\n",
            "  3%|▎         | 7/214 [00:00<00:02, 69.49it/s]"
          ],
          "name": "stderr"
        },
        {
          "output_type": "stream",
          "text": [
            "Epoch: 1 Loss: 335.3721 Validation accuracy: 0.7924\n"
          ],
          "name": "stdout"
        },
        {
          "output_type": "stream",
          "text": [
            "100%|██████████| 214/214 [00:03<00:00, 68.74it/s]\n",
            "100%|██████████| 29/29 [00:01<00:00, 25.76it/s]\n",
            "  4%|▎         | 8/214 [00:00<00:02, 71.65it/s]"
          ],
          "name": "stderr"
        },
        {
          "output_type": "stream",
          "text": [
            "Epoch: 2 Loss: 242.6323 Validation accuracy: 0.8338\n"
          ],
          "name": "stdout"
        },
        {
          "output_type": "stream",
          "text": [
            "100%|██████████| 214/214 [00:03<00:00, 70.09it/s]\n",
            "100%|██████████| 29/29 [00:01<00:00, 25.22it/s]\n",
            "  3%|▎         | 7/214 [00:00<00:02, 69.33it/s]"
          ],
          "name": "stderr"
        },
        {
          "output_type": "stream",
          "text": [
            "Epoch: 3 Loss: 180.2119 Validation accuracy: 0.8933\n"
          ],
          "name": "stdout"
        },
        {
          "output_type": "stream",
          "text": [
            "100%|██████████| 214/214 [00:03<00:00, 69.80it/s]\n",
            "100%|██████████| 29/29 [00:01<00:00, 25.73it/s]\n",
            "  3%|▎         | 6/214 [00:00<00:03, 58.11it/s]"
          ],
          "name": "stderr"
        },
        {
          "output_type": "stream",
          "text": [
            "Epoch: 4 Loss: 131.3403 Validation accuracy: 0.9235\n"
          ],
          "name": "stdout"
        },
        {
          "output_type": "stream",
          "text": [
            "100%|██████████| 214/214 [00:03<00:00, 68.32it/s]\n",
            "100%|██████████| 29/29 [00:01<00:00, 25.68it/s]\n",
            "  3%|▎         | 7/214 [00:00<00:03, 61.27it/s]"
          ],
          "name": "stderr"
        },
        {
          "output_type": "stream",
          "text": [
            "Epoch: 5 Loss: 101.7092 Validation accuracy: 0.9318\n"
          ],
          "name": "stdout"
        },
        {
          "output_type": "stream",
          "text": [
            "100%|██████████| 214/214 [00:03<00:00, 68.84it/s]\n",
            "100%|██████████| 29/29 [00:01<00:00, 25.34it/s]\n",
            "  3%|▎         | 7/214 [00:00<00:03, 66.75it/s]"
          ],
          "name": "stderr"
        },
        {
          "output_type": "stream",
          "text": [
            "Epoch: 6 Loss: 83.5255 Validation accuracy: 0.9371\n"
          ],
          "name": "stdout"
        },
        {
          "output_type": "stream",
          "text": [
            "100%|██████████| 214/214 [00:03<00:00, 69.82it/s]\n",
            "100%|██████████| 29/29 [00:01<00:00, 25.36it/s]\n",
            "  3%|▎         | 7/214 [00:00<00:02, 69.42it/s]"
          ],
          "name": "stderr"
        },
        {
          "output_type": "stream",
          "text": [
            "Epoch: 7 Loss: 71.4472 Validation accuracy: 0.9425\n"
          ],
          "name": "stdout"
        },
        {
          "output_type": "stream",
          "text": [
            "100%|██████████| 214/214 [00:03<00:00, 69.41it/s]\n",
            "100%|██████████| 29/29 [00:01<00:00, 25.81it/s]\n",
            "  4%|▎         | 8/214 [00:00<00:02, 75.67it/s]"
          ],
          "name": "stderr"
        },
        {
          "output_type": "stream",
          "text": [
            "Epoch: 8 Loss: 62.6736 Validation accuracy: 0.9471\n"
          ],
          "name": "stdout"
        },
        {
          "output_type": "stream",
          "text": [
            "100%|██████████| 214/214 [00:03<00:00, 70.48it/s]\n",
            "100%|██████████| 29/29 [00:01<00:00, 25.75it/s]\n",
            "  1%|          | 2/214 [00:00<00:12, 16.54it/s]"
          ],
          "name": "stderr"
        },
        {
          "output_type": "stream",
          "text": [
            "Epoch: 9 Loss: 55.7900 Validation accuracy: 0.9511\n"
          ],
          "name": "stdout"
        },
        {
          "output_type": "stream",
          "text": [
            "100%|██████████| 214/214 [00:11<00:00, 18.43it/s]\n",
            "100%|██████████| 30/30 [00:01<00:00, 26.56it/s]"
          ],
          "name": "stderr"
        },
        {
          "output_type": "stream",
          "text": [
            "Training accuracy: 0.959\n",
            "Test accuracy:     0.952\n"
          ],
          "name": "stdout"
        },
        {
          "output_type": "stream",
          "text": [
            "\n"
          ],
          "name": "stderr"
        }
      ]
    },
    {
      "cell_type": "markdown",
      "metadata": {
        "id": "D43ge-OUrEw5"
      },
      "source": [
        "## (Optional) Goal 4: Compare HMM to RNN/LSTM with different amounts of training data\n",
        "\n",
        "Vary the amount of training data and compare the performance of HMM to RNN or LSTM (Since RNN is similar to LSTM, picking one of them is enough.) Discuss the pros and cons of HMM and RNN/LSTM based on your experiments.\n",
        "\n",
        "> This part is more open-ended. We're looking for thoughtful experiments and analysis of the results, not any particular result or conclusion."
      ]
    },
    {
      "cell_type": "markdown",
      "metadata": {
        "id": "eCpu5MOorTD8"
      },
      "source": [
        "\r\n",
        "\r\n",
        "The below code shows how to subsample the training set with downsample ratio `ratio`. To speedup evaluation we only use 50 test samples."
      ]
    },
    {
      "cell_type": "code",
      "metadata": {
        "id": "MHZq99iZlflx"
      },
      "source": [
        "def subsample(ratio, test_size=50):\n",
        "    trn, vl, tst = tt.datasets.SequenceTaggingDataset.splits(\n",
        "                fields=fields, \n",
        "                path='./data/', \n",
        "                train='atis.train.txt', \n",
        "                validation='atis.dev.txt',\n",
        "                test='atis.test.txt')\n",
        "\n",
        "    # Set random seeds to make sure subsampling is the same for HMM and RNN\n",
        "    random.seed(seed)\n",
        "    torch.manual_seed(seed)\n",
        "\n",
        "    # Subsample\n",
        "    random.shuffle(trn.examples)\n",
        "    train.examples = trn.examples[:int(math.floor(len(trn.examples)*ratio))]\n",
        "    random.shuffle(tst.examples)\n",
        "    test.examples = tst.examples[:test_size]\n",
        "\n",
        "    # Rebuild vocabulary\n",
        "    TEXT.build_vocab(trn.text, min_freq=MIN_FREQ)\n",
        "    TAG.build_vocab(trn.tag)\n",
        "\n",
        "    train_itr, val_itr, test_itr = tt.data.BucketIterator.splits(\n",
        "    (train, val, test), \n",
        "    batch_size=BATCH_SIZE, \n",
        "    repeat=False, \n",
        "    device=device)\n",
        "\n",
        "    return TEXT, TAG, train_itr, val_itr, test_itr"
      ],
      "execution_count": 80,
      "outputs": []
    },
    {
      "cell_type": "code",
      "metadata": {
        "colab": {
          "base_uri": "https://localhost:8080/"
        },
        "id": "PD6uJ1GslmBq",
        "outputId": "2bb54586-c1eb-46e0-b93b-1c7df70227e3"
      },
      "source": [
        "# Instantiate and train classifier\r\n",
        "start, end, step = 0.01, 0.8, 0.05\r\n",
        "rnn_results, hmm_results, lstm_results = [],[],[]\r\n",
        "ratio_range = torch.arange(start, end, step)\r\n",
        "\r\n",
        "for ratio in ratio_range:\r\n",
        "\r\n",
        "    TEXT, TAG, train_itr, val_itr, test_itr = subsample(ratio)\r\n",
        "    rnn_tagger = RNNTagger(TEXT, TAG, embedding_size=36, hidden_size=36).to(device)\r\n",
        "    rnn_tagger.train_all(train_itr, val_itr, epochs=10, learning_rate=0.001)\r\n",
        "    rnn_tagger.load_state_dict(rnn_tagger.best_model)\r\n",
        "\r\n",
        "    # Evaluate model performance\r\n",
        "    rnn_results.append(rnn_tagger.evaluate(test_itr))\r\n",
        "\r\n",
        "    lstm_tagger = LSTMTagger(TEXT, TAG, embedding_size=36, hidden_size=36).to(device)\r\n",
        "    lstm_tagger.train_all(train_itr, val_itr, epochs=10, learning_rate=0.001)\r\n",
        "    lstm_tagger.load_state_dict(lstm_tagger.best_model)\r\n",
        "\r\n",
        "    # Evaluate model performance\r\n",
        "    lstm_results.append(lstm_tagger.evaluate(test_itr))\r\n",
        "    \r\n",
        "    # Instantiate and train classifier\r\n",
        "    hmm_tagger = HMMTagger(TEXT, TAG)\r\n",
        "    hmm_tagger.train_all(train_itr)\r\n",
        "\r\n",
        "    # Evaluate model performance\r\n",
        "    \r\n",
        "    hmm_results.append(hmm_tagger.evaluate(test_itr))"
      ],
      "execution_count": 89,
      "outputs": [
        {
          "output_type": "stream",
          "text": [
            "100%|██████████| 3/3 [00:00<00:00, 121.58it/s]\n",
            "100%|██████████| 29/29 [00:00<00:00, 42.25it/s]\n",
            "100%|██████████| 3/3 [00:00<00:00, 141.38it/s]\n",
            " 21%|██        | 6/29 [00:00<00:00, 53.70it/s]"
          ],
          "name": "stderr"
        },
        {
          "output_type": "stream",
          "text": [
            "Epoch: 0 Loss: 1198.0683 Validation accuracy: 0.0023\n"
          ],
          "name": "stdout"
        },
        {
          "output_type": "stream",
          "text": [
            "100%|██████████| 29/29 [00:00<00:00, 41.98it/s]\n",
            "100%|██████████| 3/3 [00:00<00:00, 124.64it/s]\n",
            " 21%|██        | 6/29 [00:00<00:00, 54.10it/s]"
          ],
          "name": "stderr"
        },
        {
          "output_type": "stream",
          "text": [
            "Epoch: 1 Loss: 1182.4480 Validation accuracy: 0.0032\n"
          ],
          "name": "stdout"
        },
        {
          "output_type": "stream",
          "text": [
            "100%|██████████| 29/29 [00:00<00:00, 42.26it/s]\n",
            "100%|██████████| 3/3 [00:00<00:00, 123.34it/s]\n",
            " 21%|██        | 6/29 [00:00<00:00, 52.55it/s]"
          ],
          "name": "stderr"
        },
        {
          "output_type": "stream",
          "text": [
            "Epoch: 2 Loss: 1161.4372 Validation accuracy: 0.0161\n"
          ],
          "name": "stdout"
        },
        {
          "output_type": "stream",
          "text": [
            "100%|██████████| 29/29 [00:00<00:00, 41.12it/s]\n",
            "100%|██████████| 3/3 [00:00<00:00, 138.86it/s]\n",
            " 17%|█▋        | 5/29 [00:00<00:00, 44.91it/s]"
          ],
          "name": "stderr"
        },
        {
          "output_type": "stream",
          "text": [
            "Epoch: 3 Loss: 1148.4037 Validation accuracy: 0.0455\n"
          ],
          "name": "stdout"
        },
        {
          "output_type": "stream",
          "text": [
            "100%|██████████| 29/29 [00:00<00:00, 39.86it/s]\n",
            "100%|██████████| 3/3 [00:00<00:00, 126.94it/s]\n",
            " 17%|█▋        | 5/29 [00:00<00:00, 46.49it/s]"
          ],
          "name": "stderr"
        },
        {
          "output_type": "stream",
          "text": [
            "Epoch: 4 Loss: 1129.2455 Validation accuracy: 0.0810\n"
          ],
          "name": "stdout"
        },
        {
          "output_type": "stream",
          "text": [
            "100%|██████████| 29/29 [00:00<00:00, 37.37it/s]\n",
            "100%|██████████| 3/3 [00:00<00:00, 97.30it/s]\n",
            " 21%|██        | 6/29 [00:00<00:00, 52.95it/s]"
          ],
          "name": "stderr"
        },
        {
          "output_type": "stream",
          "text": [
            "Epoch: 5 Loss: 1106.3382 Validation accuracy: 0.1798\n"
          ],
          "name": "stdout"
        },
        {
          "output_type": "stream",
          "text": [
            "100%|██████████| 29/29 [00:00<00:00, 38.79it/s]\n",
            "100%|██████████| 3/3 [00:00<00:00, 106.59it/s]\n",
            " 21%|██        | 6/29 [00:00<00:00, 54.00it/s]"
          ],
          "name": "stderr"
        },
        {
          "output_type": "stream",
          "text": [
            "Epoch: 6 Loss: 1081.2416 Validation accuracy: 0.3066\n"
          ],
          "name": "stdout"
        },
        {
          "output_type": "stream",
          "text": [
            "100%|██████████| 29/29 [00:00<00:00, 41.13it/s]\n",
            "100%|██████████| 3/3 [00:00<00:00, 125.70it/s]\n",
            " 21%|██        | 6/29 [00:00<00:00, 51.88it/s]"
          ],
          "name": "stderr"
        },
        {
          "output_type": "stream",
          "text": [
            "Epoch: 7 Loss: 1063.2270 Validation accuracy: 0.3752\n"
          ],
          "name": "stdout"
        },
        {
          "output_type": "stream",
          "text": [
            "100%|██████████| 29/29 [00:00<00:00, 40.90it/s]\n",
            "100%|██████████| 3/3 [00:00<00:00, 136.33it/s]\n",
            " 21%|██        | 6/29 [00:00<00:00, 49.06it/s]"
          ],
          "name": "stderr"
        },
        {
          "output_type": "stream",
          "text": [
            "Epoch: 8 Loss: 1026.7814 Validation accuracy: 0.4672\n"
          ],
          "name": "stdout"
        },
        {
          "output_type": "stream",
          "text": [
            "100%|██████████| 29/29 [00:00<00:00, 41.84it/s]\n",
            "100%|██████████| 3/3 [00:00<00:00, 42.95it/s]\n",
            "100%|██████████| 3/3 [00:00<00:00, 88.08it/s]\n",
            "  0%|          | 0/29 [00:00<?, ?it/s]"
          ],
          "name": "stderr"
        },
        {
          "output_type": "stream",
          "text": [
            "Epoch: 9 Loss: 997.9568 Validation accuracy: 0.5834\n"
          ],
          "name": "stdout"
        },
        {
          "output_type": "stream",
          "text": [
            "100%|██████████| 29/29 [00:01<00:00, 25.35it/s]\n",
            "100%|██████████| 3/3 [00:00<00:00, 92.01it/s]\n",
            " 14%|█▍        | 4/29 [00:00<00:00, 35.74it/s]"
          ],
          "name": "stderr"
        },
        {
          "output_type": "stream",
          "text": [
            "Epoch: 0 Loss: 1210.3504 Validation accuracy: 0.0001\n"
          ],
          "name": "stdout"
        },
        {
          "output_type": "stream",
          "text": [
            "100%|██████████| 29/29 [00:01<00:00, 25.14it/s]\n",
            "100%|██████████| 3/3 [00:00<00:00, 81.25it/s]\n",
            " 14%|█▍        | 4/29 [00:00<00:00, 35.55it/s]"
          ],
          "name": "stderr"
        },
        {
          "output_type": "stream",
          "text": [
            "Epoch: 1 Loss: 1200.9523 Validation accuracy: 0.0001\n"
          ],
          "name": "stdout"
        },
        {
          "output_type": "stream",
          "text": [
            "100%|██████████| 29/29 [00:01<00:00, 26.00it/s]\n",
            "100%|██████████| 3/3 [00:00<00:00, 93.12it/s]\n",
            " 14%|█▍        | 4/29 [00:00<00:00, 33.48it/s]"
          ],
          "name": "stderr"
        },
        {
          "output_type": "stream",
          "text": [
            "Epoch: 2 Loss: 1190.2758 Validation accuracy: 0.0002\n"
          ],
          "name": "stdout"
        },
        {
          "output_type": "stream",
          "text": [
            "100%|██████████| 29/29 [00:01<00:00, 25.82it/s]\n",
            "100%|██████████| 3/3 [00:00<00:00, 85.70it/s]\n",
            " 14%|█▍        | 4/29 [00:00<00:00, 34.63it/s]"
          ],
          "name": "stderr"
        },
        {
          "output_type": "stream",
          "text": [
            "Epoch: 3 Loss: 1181.6237 Validation accuracy: 0.0002\n"
          ],
          "name": "stdout"
        },
        {
          "output_type": "stream",
          "text": [
            "100%|██████████| 29/29 [00:01<00:00, 26.20it/s]\n",
            "100%|██████████| 3/3 [00:00<00:00, 86.24it/s]\n",
            " 14%|█▍        | 4/29 [00:00<00:00, 36.66it/s]"
          ],
          "name": "stderr"
        },
        {
          "output_type": "stream",
          "text": [
            "Epoch: 4 Loss: 1170.7654 Validation accuracy: 0.0872\n"
          ],
          "name": "stdout"
        },
        {
          "output_type": "stream",
          "text": [
            "100%|██████████| 29/29 [00:01<00:00, 26.28it/s]\n",
            "100%|██████████| 3/3 [00:00<00:00, 87.86it/s]\n",
            " 14%|█▍        | 4/29 [00:00<00:00, 32.20it/s]"
          ],
          "name": "stderr"
        },
        {
          "output_type": "stream",
          "text": [
            "Epoch: 5 Loss: 1158.4903 Validation accuracy: 0.1284\n"
          ],
          "name": "stdout"
        },
        {
          "output_type": "stream",
          "text": [
            "100%|██████████| 29/29 [00:01<00:00, 24.90it/s]\n",
            "100%|██████████| 3/3 [00:00<00:00, 91.59it/s]\n",
            " 14%|█▍        | 4/29 [00:00<00:00, 33.36it/s]"
          ],
          "name": "stderr"
        },
        {
          "output_type": "stream",
          "text": [
            "Epoch: 6 Loss: 1140.0977 Validation accuracy: 0.2376\n"
          ],
          "name": "stdout"
        },
        {
          "output_type": "stream",
          "text": [
            "100%|██████████| 29/29 [00:01<00:00, 24.41it/s]\n",
            "100%|██████████| 3/3 [00:00<00:00, 96.08it/s]\n",
            " 14%|█▍        | 4/29 [00:00<00:00, 35.96it/s]"
          ],
          "name": "stderr"
        },
        {
          "output_type": "stream",
          "text": [
            "Epoch: 7 Loss: 1122.8099 Validation accuracy: 0.4417\n"
          ],
          "name": "stdout"
        },
        {
          "output_type": "stream",
          "text": [
            "100%|██████████| 29/29 [00:01<00:00, 25.16it/s]\n",
            "100%|██████████| 3/3 [00:00<00:00, 84.42it/s]\n",
            " 14%|█▍        | 4/29 [00:00<00:00, 32.93it/s]"
          ],
          "name": "stderr"
        },
        {
          "output_type": "stream",
          "text": [
            "Epoch: 8 Loss: 1109.0002 Validation accuracy: 0.5570\n"
          ],
          "name": "stdout"
        },
        {
          "output_type": "stream",
          "text": [
            "100%|██████████| 29/29 [00:01<00:00, 25.73it/s]\n",
            "100%|██████████| 3/3 [00:00<00:00, 28.71it/s]\n",
            "  0%|          | 0/3 [00:00<?, ?it/s]"
          ],
          "name": "stderr"
        },
        {
          "output_type": "stream",
          "text": [
            "Epoch: 9 Loss: 1084.7100 Validation accuracy: 0.6418\n"
          ],
          "name": "stdout"
        },
        {
          "output_type": "stream",
          "text": [
            "100%|██████████| 3/3 [00:00<00:00, 28.93it/s]\n",
            "100%|██████████| 13/13 [00:00<00:00, 106.81it/s]\n",
            "100%|██████████| 29/29 [00:00<00:00, 40.30it/s]\n",
            "100%|██████████| 13/13 [00:00<00:00, 103.01it/s]\n",
            "  0%|          | 0/29 [00:00<?, ?it/s]"
          ],
          "name": "stderr"
        },
        {
          "output_type": "stream",
          "text": [
            "Epoch: 0 Loss: 1658.6446 Validation accuracy: 0.0727\n"
          ],
          "name": "stdout"
        },
        {
          "output_type": "stream",
          "text": [
            "100%|██████████| 29/29 [00:00<00:00, 39.40it/s]\n",
            "100%|██████████| 13/13 [00:00<00:00, 107.13it/s]\n",
            "  0%|          | 0/29 [00:00<?, ?it/s]"
          ],
          "name": "stderr"
        },
        {
          "output_type": "stream",
          "text": [
            "Epoch: 1 Loss: 1533.1663 Validation accuracy: 0.4993\n"
          ],
          "name": "stdout"
        },
        {
          "output_type": "stream",
          "text": [
            "100%|██████████| 29/29 [00:00<00:00, 40.30it/s]\n",
            "100%|██████████| 13/13 [00:00<00:00, 111.31it/s]\n",
            "  0%|          | 0/29 [00:00<?, ?it/s]"
          ],
          "name": "stderr"
        },
        {
          "output_type": "stream",
          "text": [
            "Epoch: 2 Loss: 1311.2168 Validation accuracy: 0.6965\n"
          ],
          "name": "stdout"
        },
        {
          "output_type": "stream",
          "text": [
            "100%|██████████| 29/29 [00:00<00:00, 41.26it/s]\n",
            "100%|██████████| 13/13 [00:00<00:00, 114.85it/s]\n",
            "  0%|          | 0/29 [00:00<?, ?it/s]"
          ],
          "name": "stderr"
        },
        {
          "output_type": "stream",
          "text": [
            "Epoch: 3 Loss: 958.9872 Validation accuracy: 0.7080\n"
          ],
          "name": "stdout"
        },
        {
          "output_type": "stream",
          "text": [
            "100%|██████████| 29/29 [00:00<00:00, 40.53it/s]\n",
            "100%|██████████| 13/13 [00:00<00:00, 106.10it/s]\n",
            "  0%|          | 0/29 [00:00<?, ?it/s]"
          ],
          "name": "stderr"
        },
        {
          "output_type": "stream",
          "text": [
            "Epoch: 4 Loss: 660.6204 Validation accuracy: 0.7080\n"
          ],
          "name": "stdout"
        },
        {
          "output_type": "stream",
          "text": [
            "100%|██████████| 29/29 [00:00<00:00, 38.70it/s]\n",
            "100%|██████████| 13/13 [00:00<00:00, 108.61it/s]\n",
            "  0%|          | 0/29 [00:00<?, ?it/s]"
          ],
          "name": "stderr"
        },
        {
          "output_type": "stream",
          "text": [
            "Epoch: 5 Loss: 518.9188 Validation accuracy: 0.7080\n"
          ],
          "name": "stdout"
        },
        {
          "output_type": "stream",
          "text": [
            "100%|██████████| 29/29 [00:00<00:00, 41.17it/s]\n",
            "100%|██████████| 13/13 [00:00<00:00, 101.16it/s]\n",
            "  0%|          | 0/29 [00:00<?, ?it/s]"
          ],
          "name": "stderr"
        },
        {
          "output_type": "stream",
          "text": [
            "Epoch: 6 Loss: 462.6528 Validation accuracy: 0.7080\n"
          ],
          "name": "stdout"
        },
        {
          "output_type": "stream",
          "text": [
            "100%|██████████| 29/29 [00:00<00:00, 43.18it/s]\n",
            "100%|██████████| 13/13 [00:00<00:00, 97.58it/s]\n",
            "  0%|          | 0/29 [00:00<?, ?it/s]"
          ],
          "name": "stderr"
        },
        {
          "output_type": "stream",
          "text": [
            "Epoch: 7 Loss: 435.4053 Validation accuracy: 0.7080\n"
          ],
          "name": "stdout"
        },
        {
          "output_type": "stream",
          "text": [
            "100%|██████████| 29/29 [00:00<00:00, 42.24it/s]\n",
            "100%|██████████| 13/13 [00:00<00:00, 119.35it/s]\n",
            "  0%|          | 0/29 [00:00<?, ?it/s]"
          ],
          "name": "stderr"
        },
        {
          "output_type": "stream",
          "text": [
            "Epoch: 8 Loss: 417.3919 Validation accuracy: 0.7080\n"
          ],
          "name": "stdout"
        },
        {
          "output_type": "stream",
          "text": [
            "100%|██████████| 29/29 [00:00<00:00, 42.10it/s]\n",
            "100%|██████████| 3/3 [00:00<00:00, 43.06it/s]\n",
            " 54%|█████▍    | 7/13 [00:00<00:00, 69.97it/s]"
          ],
          "name": "stderr"
        },
        {
          "output_type": "stream",
          "text": [
            "Epoch: 9 Loss: 403.6901 Validation accuracy: 0.7080\n"
          ],
          "name": "stdout"
        },
        {
          "output_type": "stream",
          "text": [
            "100%|██████████| 13/13 [00:00<00:00, 73.28it/s]\n",
            "100%|██████████| 29/29 [00:01<00:00, 26.00it/s]\n",
            "100%|██████████| 13/13 [00:00<00:00, 71.59it/s]\n",
            "  0%|          | 0/29 [00:00<?, ?it/s]"
          ],
          "name": "stderr"
        },
        {
          "output_type": "stream",
          "text": [
            "Epoch: 0 Loss: 1689.8718 Validation accuracy: 0.0693\n"
          ],
          "name": "stdout"
        },
        {
          "output_type": "stream",
          "text": [
            "100%|██████████| 29/29 [00:01<00:00, 24.50it/s]\n",
            "100%|██████████| 13/13 [00:00<00:00, 74.13it/s]\n",
            "  0%|          | 0/29 [00:00<?, ?it/s]"
          ],
          "name": "stderr"
        },
        {
          "output_type": "stream",
          "text": [
            "Epoch: 1 Loss: 1612.6894 Validation accuracy: 0.5686\n"
          ],
          "name": "stdout"
        },
        {
          "output_type": "stream",
          "text": [
            "100%|██████████| 29/29 [00:01<00:00, 25.13it/s]\n",
            "100%|██████████| 13/13 [00:00<00:00, 73.19it/s]\n",
            "  0%|          | 0/29 [00:00<?, ?it/s]"
          ],
          "name": "stderr"
        },
        {
          "output_type": "stream",
          "text": [
            "Epoch: 2 Loss: 1443.0480 Validation accuracy: 0.7074\n"
          ],
          "name": "stdout"
        },
        {
          "output_type": "stream",
          "text": [
            "100%|██████████| 29/29 [00:01<00:00, 25.47it/s]\n",
            "100%|██████████| 13/13 [00:00<00:00, 72.99it/s]\n",
            "  0%|          | 0/29 [00:00<?, ?it/s]"
          ],
          "name": "stderr"
        },
        {
          "output_type": "stream",
          "text": [
            "Epoch: 3 Loss: 1096.5861 Validation accuracy: 0.7080\n"
          ],
          "name": "stdout"
        },
        {
          "output_type": "stream",
          "text": [
            "100%|██████████| 29/29 [00:01<00:00, 26.24it/s]\n",
            " 46%|████▌     | 6/13 [00:00<00:00, 55.01it/s]"
          ],
          "name": "stderr"
        },
        {
          "output_type": "stream",
          "text": [
            "Epoch: 4 Loss: 742.8983 Validation accuracy: 0.6392\n"
          ],
          "name": "stdout"
        },
        {
          "output_type": "stream",
          "text": [
            "100%|██████████| 13/13 [00:00<00:00, 62.38it/s]\n",
            "100%|██████████| 29/29 [00:01<00:00, 24.45it/s]\n",
            "100%|██████████| 13/13 [00:00<00:00, 67.78it/s]\n",
            "  0%|          | 0/29 [00:00<?, ?it/s]"
          ],
          "name": "stderr"
        },
        {
          "output_type": "stream",
          "text": [
            "Epoch: 5 Loss: 564.3594 Validation accuracy: 0.6392\n"
          ],
          "name": "stdout"
        },
        {
          "output_type": "stream",
          "text": [
            "100%|██████████| 29/29 [00:01<00:00, 25.64it/s]\n",
            "100%|██████████| 13/13 [00:00<00:00, 77.28it/s]\n",
            "  0%|          | 0/29 [00:00<?, ?it/s]"
          ],
          "name": "stderr"
        },
        {
          "output_type": "stream",
          "text": [
            "Epoch: 6 Loss: 504.4083 Validation accuracy: 0.6392\n"
          ],
          "name": "stdout"
        },
        {
          "output_type": "stream",
          "text": [
            "100%|██████████| 29/29 [00:01<00:00, 25.12it/s]\n",
            "100%|██████████| 13/13 [00:00<00:00, 70.86it/s]\n",
            "  0%|          | 0/29 [00:00<?, ?it/s]"
          ],
          "name": "stderr"
        },
        {
          "output_type": "stream",
          "text": [
            "Epoch: 7 Loss: 481.8120 Validation accuracy: 0.6392\n"
          ],
          "name": "stdout"
        },
        {
          "output_type": "stream",
          "text": [
            "100%|██████████| 29/29 [00:01<00:00, 25.07it/s]\n",
            "100%|██████████| 13/13 [00:00<00:00, 72.10it/s]\n",
            "  0%|          | 0/29 [00:00<?, ?it/s]"
          ],
          "name": "stderr"
        },
        {
          "output_type": "stream",
          "text": [
            "Epoch: 8 Loss: 465.6790 Validation accuracy: 0.6392\n"
          ],
          "name": "stdout"
        },
        {
          "output_type": "stream",
          "text": [
            "100%|██████████| 29/29 [00:01<00:00, 26.10it/s]\n",
            "100%|██████████| 3/3 [00:00<00:00, 28.56it/s]\n",
            "  0%|          | 0/3 [00:00<?, ?it/s]"
          ],
          "name": "stderr"
        },
        {
          "output_type": "stream",
          "text": [
            "Epoch: 9 Loss: 451.7699 Validation accuracy: 0.7080\n"
          ],
          "name": "stdout"
        },
        {
          "output_type": "stream",
          "text": [
            "100%|██████████| 3/3 [00:00<00:00, 28.54it/s]\n",
            "100%|██████████| 24/24 [00:00<00:00, 107.99it/s]\n",
            "100%|██████████| 29/29 [00:00<00:00, 41.60it/s]\n",
            " 46%|████▌     | 11/24 [00:00<00:00, 105.63it/s]"
          ],
          "name": "stderr"
        },
        {
          "output_type": "stream",
          "text": [
            "Epoch: 0 Loss: 1631.2843 Validation accuracy: 0.4229\n"
          ],
          "name": "stdout"
        },
        {
          "output_type": "stream",
          "text": [
            "100%|██████████| 24/24 [00:00<00:00, 107.90it/s]\n",
            "100%|██████████| 29/29 [00:00<00:00, 41.13it/s]\n",
            " 46%|████▌     | 11/24 [00:00<00:00, 108.54it/s]"
          ],
          "name": "stderr"
        },
        {
          "output_type": "stream",
          "text": [
            "Epoch: 1 Loss: 1250.7335 Validation accuracy: 0.7079\n"
          ],
          "name": "stdout"
        },
        {
          "output_type": "stream",
          "text": [
            "100%|██████████| 24/24 [00:00<00:00, 102.92it/s]\n",
            "100%|██████████| 29/29 [00:00<00:00, 42.89it/s]\n",
            " 50%|█████     | 12/24 [00:00<00:00, 115.07it/s]"
          ],
          "name": "stderr"
        },
        {
          "output_type": "stream",
          "text": [
            "Epoch: 2 Loss: 679.8162 Validation accuracy: 0.7080\n"
          ],
          "name": "stdout"
        },
        {
          "output_type": "stream",
          "text": [
            "100%|██████████| 24/24 [00:00<00:00, 111.52it/s]\n",
            "100%|██████████| 29/29 [00:00<00:00, 40.94it/s]\n",
            " 46%|████▌     | 11/24 [00:00<00:00, 106.55it/s]"
          ],
          "name": "stderr"
        },
        {
          "output_type": "stream",
          "text": [
            "Epoch: 3 Loss: 487.8541 Validation accuracy: 0.7080\n"
          ],
          "name": "stdout"
        },
        {
          "output_type": "stream",
          "text": [
            "100%|██████████| 24/24 [00:00<00:00, 102.28it/s]\n",
            "100%|██████████| 29/29 [00:00<00:00, 41.65it/s]\n",
            " 50%|█████     | 12/24 [00:00<00:00, 111.32it/s]"
          ],
          "name": "stderr"
        },
        {
          "output_type": "stream",
          "text": [
            "Epoch: 4 Loss: 439.8933 Validation accuracy: 0.7080\n"
          ],
          "name": "stdout"
        },
        {
          "output_type": "stream",
          "text": [
            "100%|██████████| 24/24 [00:00<00:00, 107.13it/s]\n",
            "100%|██████████| 29/29 [00:00<00:00, 40.86it/s]\n",
            " 46%|████▌     | 11/24 [00:00<00:00, 103.56it/s]"
          ],
          "name": "stderr"
        },
        {
          "output_type": "stream",
          "text": [
            "Epoch: 5 Loss: 415.4874 Validation accuracy: 0.7080\n"
          ],
          "name": "stdout"
        },
        {
          "output_type": "stream",
          "text": [
            "100%|██████████| 24/24 [00:00<00:00, 107.09it/s]\n",
            "100%|██████████| 29/29 [00:00<00:00, 39.99it/s]\n",
            " 50%|█████     | 12/24 [00:00<00:00, 115.13it/s]"
          ],
          "name": "stderr"
        },
        {
          "output_type": "stream",
          "text": [
            "Epoch: 6 Loss: 395.4569 Validation accuracy: 0.7181\n"
          ],
          "name": "stdout"
        },
        {
          "output_type": "stream",
          "text": [
            "100%|██████████| 24/24 [00:00<00:00, 108.99it/s]\n",
            "100%|██████████| 29/29 [00:00<00:00, 40.67it/s]\n",
            " 46%|████▌     | 11/24 [00:00<00:00, 102.90it/s]"
          ],
          "name": "stderr"
        },
        {
          "output_type": "stream",
          "text": [
            "Epoch: 7 Loss: 375.4500 Validation accuracy: 0.7193\n"
          ],
          "name": "stdout"
        },
        {
          "output_type": "stream",
          "text": [
            "100%|██████████| 24/24 [00:00<00:00, 108.44it/s]\n",
            "100%|██████████| 29/29 [00:00<00:00, 39.13it/s]\n",
            " 46%|████▌     | 11/24 [00:00<00:00, 105.36it/s]"
          ],
          "name": "stderr"
        },
        {
          "output_type": "stream",
          "text": [
            "Epoch: 8 Loss: 356.1261 Validation accuracy: 0.7314\n"
          ],
          "name": "stdout"
        },
        {
          "output_type": "stream",
          "text": [
            "100%|██████████| 24/24 [00:00<00:00, 105.37it/s]\n",
            "100%|██████████| 29/29 [00:00<00:00, 42.42it/s]\n",
            "100%|██████████| 3/3 [00:00<00:00, 44.08it/s]\n",
            " 33%|███▎      | 8/24 [00:00<00:00, 71.56it/s]"
          ],
          "name": "stderr"
        },
        {
          "output_type": "stream",
          "text": [
            "Epoch: 9 Loss: 336.6458 Validation accuracy: 0.7407\n"
          ],
          "name": "stdout"
        },
        {
          "output_type": "stream",
          "text": [
            "100%|██████████| 24/24 [00:00<00:00, 69.01it/s]\n",
            "100%|██████████| 29/29 [00:01<00:00, 24.81it/s]\n",
            " 33%|███▎      | 8/24 [00:00<00:00, 74.92it/s]"
          ],
          "name": "stderr"
        },
        {
          "output_type": "stream",
          "text": [
            "Epoch: 0 Loss: 1681.6584 Validation accuracy: 0.4909\n"
          ],
          "name": "stdout"
        },
        {
          "output_type": "stream",
          "text": [
            "100%|██████████| 24/24 [00:00<00:00, 70.34it/s]\n",
            "100%|██████████| 29/29 [00:01<00:00, 24.76it/s]\n",
            " 29%|██▉       | 7/24 [00:00<00:00, 64.67it/s]"
          ],
          "name": "stderr"
        },
        {
          "output_type": "stream",
          "text": [
            "Epoch: 1 Loss: 1364.7490 Validation accuracy: 0.7080\n"
          ],
          "name": "stdout"
        },
        {
          "output_type": "stream",
          "text": [
            "100%|██████████| 24/24 [00:00<00:00, 70.68it/s]\n",
            "100%|██████████| 29/29 [00:01<00:00, 25.07it/s]\n",
            " 29%|██▉       | 7/24 [00:00<00:00, 66.88it/s]"
          ],
          "name": "stderr"
        },
        {
          "output_type": "stream",
          "text": [
            "Epoch: 2 Loss: 753.3874 Validation accuracy: 0.6392\n"
          ],
          "name": "stdout"
        },
        {
          "output_type": "stream",
          "text": [
            "100%|██████████| 24/24 [00:00<00:00, 64.67it/s]\n",
            "100%|██████████| 29/29 [00:01<00:00, 24.76it/s]\n",
            " 33%|███▎      | 8/24 [00:00<00:00, 78.85it/s]"
          ],
          "name": "stderr"
        },
        {
          "output_type": "stream",
          "text": [
            "Epoch: 3 Loss: 529.0795 Validation accuracy: 0.6392\n"
          ],
          "name": "stdout"
        },
        {
          "output_type": "stream",
          "text": [
            "100%|██████████| 24/24 [00:00<00:00, 68.45it/s]\n",
            "100%|██████████| 29/29 [00:01<00:00, 23.90it/s]\n",
            " 33%|███▎      | 8/24 [00:00<00:00, 74.18it/s]"
          ],
          "name": "stderr"
        },
        {
          "output_type": "stream",
          "text": [
            "Epoch: 4 Loss: 489.8277 Validation accuracy: 0.6392\n"
          ],
          "name": "stdout"
        },
        {
          "output_type": "stream",
          "text": [
            "100%|██████████| 24/24 [00:00<00:00, 70.50it/s]\n",
            "100%|██████████| 29/29 [00:01<00:00, 25.02it/s]\n",
            " 33%|███▎      | 8/24 [00:00<00:00, 78.64it/s]"
          ],
          "name": "stderr"
        },
        {
          "output_type": "stream",
          "text": [
            "Epoch: 5 Loss: 465.7120 Validation accuracy: 0.7080\n"
          ],
          "name": "stdout"
        },
        {
          "output_type": "stream",
          "text": [
            "100%|██████████| 24/24 [00:00<00:00, 68.72it/s]\n",
            "100%|██████████| 29/29 [00:01<00:00, 25.82it/s]\n",
            " 33%|███▎      | 8/24 [00:00<00:00, 72.74it/s]"
          ],
          "name": "stderr"
        },
        {
          "output_type": "stream",
          "text": [
            "Epoch: 6 Loss: 442.7971 Validation accuracy: 0.7080\n"
          ],
          "name": "stdout"
        },
        {
          "output_type": "stream",
          "text": [
            "100%|██████████| 24/24 [00:00<00:00, 69.15it/s]\n",
            "100%|██████████| 29/29 [00:01<00:00, 24.98it/s]\n",
            " 33%|███▎      | 8/24 [00:00<00:00, 74.73it/s]"
          ],
          "name": "stderr"
        },
        {
          "output_type": "stream",
          "text": [
            "Epoch: 7 Loss: 419.2117 Validation accuracy: 0.7080\n"
          ],
          "name": "stdout"
        },
        {
          "output_type": "stream",
          "text": [
            "100%|██████████| 24/24 [00:00<00:00, 68.89it/s]\n",
            "100%|██████████| 29/29 [00:01<00:00, 25.09it/s]\n",
            " 33%|███▎      | 8/24 [00:00<00:00, 72.24it/s]"
          ],
          "name": "stderr"
        },
        {
          "output_type": "stream",
          "text": [
            "Epoch: 8 Loss: 396.7555 Validation accuracy: 0.7080\n"
          ],
          "name": "stdout"
        },
        {
          "output_type": "stream",
          "text": [
            "100%|██████████| 24/24 [00:00<00:00, 68.61it/s]\n",
            "100%|██████████| 29/29 [00:01<00:00, 25.77it/s]\n",
            "100%|██████████| 3/3 [00:00<00:00, 27.58it/s]\n"
          ],
          "name": "stderr"
        },
        {
          "output_type": "stream",
          "text": [
            "Epoch: 9 Loss: 376.0633 Validation accuracy: 0.7080\n"
          ],
          "name": "stdout"
        },
        {
          "output_type": "stream",
          "text": [
            "100%|██████████| 3/3 [00:00<00:00, 29.12it/s]\n",
            "100%|██████████| 35/35 [00:00<00:00, 103.22it/s]\n",
            "100%|██████████| 29/29 [00:00<00:00, 39.28it/s]\n",
            " 31%|███▏      | 11/35 [00:00<00:00, 105.45it/s]"
          ],
          "name": "stderr"
        },
        {
          "output_type": "stream",
          "text": [
            "Epoch: 0 Loss: 1555.5341 Validation accuracy: 0.6890\n"
          ],
          "name": "stdout"
        },
        {
          "output_type": "stream",
          "text": [
            "100%|██████████| 35/35 [00:00<00:00, 109.70it/s]\n",
            "100%|██████████| 29/29 [00:00<00:00, 40.21it/s]\n",
            " 31%|███▏      | 11/35 [00:00<00:00, 107.33it/s]"
          ],
          "name": "stderr"
        },
        {
          "output_type": "stream",
          "text": [
            "Epoch: 1 Loss: 852.5998 Validation accuracy: 0.7080\n"
          ],
          "name": "stdout"
        },
        {
          "output_type": "stream",
          "text": [
            "100%|██████████| 35/35 [00:00<00:00, 101.50it/s]\n",
            "100%|██████████| 29/29 [00:00<00:00, 41.55it/s]\n",
            " 31%|███▏      | 11/35 [00:00<00:00, 101.51it/s]"
          ],
          "name": "stderr"
        },
        {
          "output_type": "stream",
          "text": [
            "Epoch: 2 Loss: 474.7477 Validation accuracy: 0.7080\n"
          ],
          "name": "stdout"
        },
        {
          "output_type": "stream",
          "text": [
            "100%|██████████| 35/35 [00:00<00:00, 102.11it/s]\n",
            "100%|██████████| 29/29 [00:00<00:00, 40.41it/s]\n",
            " 31%|███▏      | 11/35 [00:00<00:00, 103.12it/s]"
          ],
          "name": "stderr"
        },
        {
          "output_type": "stream",
          "text": [
            "Epoch: 3 Loss: 420.4218 Validation accuracy: 0.7080\n"
          ],
          "name": "stdout"
        },
        {
          "output_type": "stream",
          "text": [
            "100%|██████████| 35/35 [00:00<00:00, 108.89it/s]\n",
            "100%|██████████| 29/29 [00:00<00:00, 41.89it/s]\n",
            " 31%|███▏      | 11/35 [00:00<00:00, 105.96it/s]"
          ],
          "name": "stderr"
        },
        {
          "output_type": "stream",
          "text": [
            "Epoch: 4 Loss: 391.6331 Validation accuracy: 0.7181\n"
          ],
          "name": "stdout"
        },
        {
          "output_type": "stream",
          "text": [
            "100%|██████████| 35/35 [00:00<00:00, 107.17it/s]\n",
            "100%|██████████| 29/29 [00:00<00:00, 40.17it/s]\n",
            " 31%|███▏      | 11/35 [00:00<00:00, 105.25it/s]"
          ],
          "name": "stderr"
        },
        {
          "output_type": "stream",
          "text": [
            "Epoch: 5 Loss: 365.0200 Validation accuracy: 0.7277\n"
          ],
          "name": "stdout"
        },
        {
          "output_type": "stream",
          "text": [
            "100%|██████████| 35/35 [00:00<00:00, 105.32it/s]\n",
            "100%|██████████| 29/29 [00:00<00:00, 40.71it/s]\n",
            " 34%|███▍      | 12/35 [00:00<00:00, 111.23it/s]"
          ],
          "name": "stderr"
        },
        {
          "output_type": "stream",
          "text": [
            "Epoch: 6 Loss: 338.2789 Validation accuracy: 0.7348\n"
          ],
          "name": "stdout"
        },
        {
          "output_type": "stream",
          "text": [
            "100%|██████████| 35/35 [00:00<00:00, 104.21it/s]\n",
            "100%|██████████| 29/29 [00:00<00:00, 41.52it/s]\n",
            " 31%|███▏      | 11/35 [00:00<00:00, 106.14it/s]"
          ],
          "name": "stderr"
        },
        {
          "output_type": "stream",
          "text": [
            "Epoch: 7 Loss: 311.1141 Validation accuracy: 0.7649\n"
          ],
          "name": "stdout"
        },
        {
          "output_type": "stream",
          "text": [
            "100%|██████████| 35/35 [00:00<00:00, 98.74it/s]\n",
            "100%|██████████| 29/29 [00:00<00:00, 41.20it/s]\n",
            " 37%|███▋      | 13/35 [00:00<00:00, 119.91it/s]"
          ],
          "name": "stderr"
        },
        {
          "output_type": "stream",
          "text": [
            "Epoch: 8 Loss: 285.1013 Validation accuracy: 0.7926\n"
          ],
          "name": "stdout"
        },
        {
          "output_type": "stream",
          "text": [
            "100%|██████████| 35/35 [00:00<00:00, 113.82it/s]\n",
            "100%|██████████| 29/29 [00:00<00:00, 41.00it/s]\n",
            "100%|██████████| 3/3 [00:00<00:00, 42.66it/s]\n",
            " 20%|██        | 7/35 [00:00<00:00, 68.04it/s]"
          ],
          "name": "stderr"
        },
        {
          "output_type": "stream",
          "text": [
            "Epoch: 9 Loss: 260.6026 Validation accuracy: 0.8089\n"
          ],
          "name": "stdout"
        },
        {
          "output_type": "stream",
          "text": [
            "100%|██████████| 35/35 [00:00<00:00, 67.78it/s]\n",
            "100%|██████████| 29/29 [00:01<00:00, 25.30it/s]\n",
            " 20%|██        | 7/35 [00:00<00:00, 69.05it/s]"
          ],
          "name": "stderr"
        },
        {
          "output_type": "stream",
          "text": [
            "Epoch: 0 Loss: 1628.9710 Validation accuracy: 0.6998\n"
          ],
          "name": "stdout"
        },
        {
          "output_type": "stream",
          "text": [
            "100%|██████████| 35/35 [00:00<00:00, 73.23it/s]\n",
            "100%|██████████| 29/29 [00:01<00:00, 25.97it/s]\n",
            " 23%|██▎       | 8/35 [00:00<00:00, 75.15it/s]"
          ],
          "name": "stderr"
        },
        {
          "output_type": "stream",
          "text": [
            "Epoch: 1 Loss: 942.5964 Validation accuracy: 0.6392\n"
          ],
          "name": "stdout"
        },
        {
          "output_type": "stream",
          "text": [
            "100%|██████████| 35/35 [00:00<00:00, 74.52it/s]\n",
            "100%|██████████| 29/29 [00:01<00:00, 24.77it/s]\n",
            " 23%|██▎       | 8/35 [00:00<00:00, 71.65it/s]"
          ],
          "name": "stderr"
        },
        {
          "output_type": "stream",
          "text": [
            "Epoch: 2 Loss: 519.7292 Validation accuracy: 0.6392\n"
          ],
          "name": "stdout"
        },
        {
          "output_type": "stream",
          "text": [
            "100%|██████████| 35/35 [00:00<00:00, 72.63it/s]\n",
            "100%|██████████| 29/29 [00:01<00:00, 26.20it/s]\n",
            " 23%|██▎       | 8/35 [00:00<00:00, 76.09it/s]"
          ],
          "name": "stderr"
        },
        {
          "output_type": "stream",
          "text": [
            "Epoch: 3 Loss: 467.4152 Validation accuracy: 0.7080\n"
          ],
          "name": "stdout"
        },
        {
          "output_type": "stream",
          "text": [
            "100%|██████████| 35/35 [00:00<00:00, 71.28it/s]\n",
            "100%|██████████| 29/29 [00:01<00:00, 25.33it/s]\n",
            " 23%|██▎       | 8/35 [00:00<00:00, 71.44it/s]"
          ],
          "name": "stderr"
        },
        {
          "output_type": "stream",
          "text": [
            "Epoch: 4 Loss: 434.3063 Validation accuracy: 0.7080\n"
          ],
          "name": "stdout"
        },
        {
          "output_type": "stream",
          "text": [
            "100%|██████████| 35/35 [00:00<00:00, 71.71it/s]\n",
            "100%|██████████| 29/29 [00:01<00:00, 26.30it/s]\n",
            " 23%|██▎       | 8/35 [00:00<00:00, 76.44it/s]"
          ],
          "name": "stderr"
        },
        {
          "output_type": "stream",
          "text": [
            "Epoch: 5 Loss: 402.8978 Validation accuracy: 0.7080\n"
          ],
          "name": "stdout"
        },
        {
          "output_type": "stream",
          "text": [
            "100%|██████████| 35/35 [00:00<00:00, 73.72it/s]\n",
            "100%|██████████| 29/29 [00:01<00:00, 24.77it/s]\n",
            " 20%|██        | 7/35 [00:00<00:00, 69.58it/s]"
          ],
          "name": "stderr"
        },
        {
          "output_type": "stream",
          "text": [
            "Epoch: 6 Loss: 374.6275 Validation accuracy: 0.7080\n"
          ],
          "name": "stdout"
        },
        {
          "output_type": "stream",
          "text": [
            "100%|██████████| 35/35 [00:00<00:00, 70.39it/s]\n",
            "100%|██████████| 29/29 [00:01<00:00, 25.40it/s]\n",
            " 20%|██        | 7/35 [00:00<00:00, 66.28it/s]"
          ],
          "name": "stderr"
        },
        {
          "output_type": "stream",
          "text": [
            "Epoch: 7 Loss: 348.5930 Validation accuracy: 0.7082\n"
          ],
          "name": "stdout"
        },
        {
          "output_type": "stream",
          "text": [
            "100%|██████████| 35/35 [00:00<00:00, 71.09it/s]\n",
            "100%|██████████| 29/29 [00:01<00:00, 25.13it/s]\n",
            " 23%|██▎       | 8/35 [00:00<00:00, 74.84it/s]"
          ],
          "name": "stderr"
        },
        {
          "output_type": "stream",
          "text": [
            "Epoch: 8 Loss: 326.1422 Validation accuracy: 0.7338\n"
          ],
          "name": "stdout"
        },
        {
          "output_type": "stream",
          "text": [
            "100%|██████████| 35/35 [00:00<00:00, 70.29it/s]\n",
            "100%|██████████| 29/29 [00:01<00:00, 25.35it/s]\n",
            "100%|██████████| 3/3 [00:00<00:00, 27.46it/s]\n"
          ],
          "name": "stderr"
        },
        {
          "output_type": "stream",
          "text": [
            "Epoch: 9 Loss: 307.3008 Validation accuracy: 0.7543\n"
          ],
          "name": "stdout"
        },
        {
          "output_type": "stream",
          "text": [
            "100%|██████████| 3/3 [00:00<00:00, 27.22it/s]\n",
            "100%|██████████| 45/45 [00:00<00:00, 110.78it/s]\n",
            "100%|██████████| 29/29 [00:00<00:00, 42.42it/s]\n",
            " 22%|██▏       | 10/45 [00:00<00:00, 99.47it/s]"
          ],
          "name": "stderr"
        },
        {
          "output_type": "stream",
          "text": [
            "Epoch: 0 Loss: 1499.1053 Validation accuracy: 0.7075\n"
          ],
          "name": "stdout"
        },
        {
          "output_type": "stream",
          "text": [
            "100%|██████████| 45/45 [00:00<00:00, 105.92it/s]\n",
            "100%|██████████| 29/29 [00:00<00:00, 40.44it/s]\n",
            " 27%|██▋       | 12/45 [00:00<00:00, 119.03it/s]"
          ],
          "name": "stderr"
        },
        {
          "output_type": "stream",
          "text": [
            "Epoch: 1 Loss: 633.2630 Validation accuracy: 0.7080\n"
          ],
          "name": "stdout"
        },
        {
          "output_type": "stream",
          "text": [
            "100%|██████████| 45/45 [00:00<00:00, 113.89it/s]\n",
            "100%|██████████| 29/29 [00:00<00:00, 41.64it/s]\n",
            " 22%|██▏       | 10/45 [00:00<00:00, 99.62it/s]"
          ],
          "name": "stderr"
        },
        {
          "output_type": "stream",
          "text": [
            "Epoch: 2 Loss: 437.7136 Validation accuracy: 0.7080\n"
          ],
          "name": "stdout"
        },
        {
          "output_type": "stream",
          "text": [
            "100%|██████████| 45/45 [00:00<00:00, 103.37it/s]\n",
            "100%|██████████| 29/29 [00:00<00:00, 42.17it/s]\n",
            " 24%|██▍       | 11/45 [00:00<00:00, 108.63it/s]"
          ],
          "name": "stderr"
        },
        {
          "output_type": "stream",
          "text": [
            "Epoch: 3 Loss: 396.8704 Validation accuracy: 0.7182\n"
          ],
          "name": "stdout"
        },
        {
          "output_type": "stream",
          "text": [
            "100%|██████████| 45/45 [00:00<00:00, 107.36it/s]\n",
            "100%|██████████| 29/29 [00:00<00:00, 38.87it/s]\n",
            " 24%|██▍       | 11/45 [00:00<00:00, 106.21it/s]"
          ],
          "name": "stderr"
        },
        {
          "output_type": "stream",
          "text": [
            "Epoch: 4 Loss: 362.7399 Validation accuracy: 0.7316\n"
          ],
          "name": "stdout"
        },
        {
          "output_type": "stream",
          "text": [
            "100%|██████████| 45/45 [00:00<00:00, 109.78it/s]\n",
            "100%|██████████| 29/29 [00:00<00:00, 42.40it/s]\n",
            " 22%|██▏       | 10/45 [00:00<00:00, 97.96it/s]"
          ],
          "name": "stderr"
        },
        {
          "output_type": "stream",
          "text": [
            "Epoch: 5 Loss: 328.4215 Validation accuracy: 0.7650\n"
          ],
          "name": "stdout"
        },
        {
          "output_type": "stream",
          "text": [
            "100%|██████████| 45/45 [00:00<00:00, 101.99it/s]\n",
            "100%|██████████| 29/29 [00:00<00:00, 35.30it/s]\n",
            " 24%|██▍       | 11/45 [00:00<00:00, 108.35it/s]"
          ],
          "name": "stderr"
        },
        {
          "output_type": "stream",
          "text": [
            "Epoch: 6 Loss: 294.7055 Validation accuracy: 0.7900\n"
          ],
          "name": "stdout"
        },
        {
          "output_type": "stream",
          "text": [
            "100%|██████████| 45/45 [00:00<00:00, 110.48it/s]\n",
            "100%|██████████| 29/29 [00:00<00:00, 42.02it/s]\n",
            " 27%|██▋       | 12/45 [00:00<00:00, 113.07it/s]"
          ],
          "name": "stderr"
        },
        {
          "output_type": "stream",
          "text": [
            "Epoch: 7 Loss: 264.4275 Validation accuracy: 0.8153\n"
          ],
          "name": "stdout"
        },
        {
          "output_type": "stream",
          "text": [
            "100%|██████████| 45/45 [00:00<00:00, 109.98it/s]\n",
            "100%|██████████| 29/29 [00:00<00:00, 42.21it/s]\n",
            " 24%|██▍       | 11/45 [00:00<00:00, 109.35it/s]"
          ],
          "name": "stderr"
        },
        {
          "output_type": "stream",
          "text": [
            "Epoch: 8 Loss: 237.3124 Validation accuracy: 0.8362\n"
          ],
          "name": "stdout"
        },
        {
          "output_type": "stream",
          "text": [
            "100%|██████████| 45/45 [00:00<00:00, 106.22it/s]\n",
            "100%|██████████| 29/29 [00:00<00:00, 42.29it/s]\n",
            "100%|██████████| 3/3 [00:00<00:00, 44.54it/s]\n",
            " 18%|█▊        | 8/45 [00:00<00:00, 73.09it/s]"
          ],
          "name": "stderr"
        },
        {
          "output_type": "stream",
          "text": [
            "Epoch: 9 Loss: 212.5782 Validation accuracy: 0.8515\n"
          ],
          "name": "stdout"
        },
        {
          "output_type": "stream",
          "text": [
            "100%|██████████| 45/45 [00:00<00:00, 72.82it/s]\n",
            "100%|██████████| 29/29 [00:01<00:00, 25.39it/s]\n",
            " 18%|█▊        | 8/45 [00:00<00:00, 75.00it/s]"
          ],
          "name": "stderr"
        },
        {
          "output_type": "stream",
          "text": [
            "Epoch: 0 Loss: 1586.7357 Validation accuracy: 0.7080\n"
          ],
          "name": "stdout"
        },
        {
          "output_type": "stream",
          "text": [
            "100%|██████████| 45/45 [00:00<00:00, 72.49it/s]\n",
            "100%|██████████| 29/29 [00:01<00:00, 25.70it/s]\n",
            " 16%|█▌        | 7/45 [00:00<00:00, 64.62it/s]"
          ],
          "name": "stderr"
        },
        {
          "output_type": "stream",
          "text": [
            "Epoch: 1 Loss: 704.1417 Validation accuracy: 0.6392\n"
          ],
          "name": "stdout"
        },
        {
          "output_type": "stream",
          "text": [
            "100%|██████████| 45/45 [00:00<00:00, 70.21it/s]\n",
            "100%|██████████| 29/29 [00:01<00:00, 26.16it/s]\n",
            " 16%|█▌        | 7/45 [00:00<00:00, 67.43it/s]"
          ],
          "name": "stderr"
        },
        {
          "output_type": "stream",
          "text": [
            "Epoch: 2 Loss: 489.5674 Validation accuracy: 0.7080\n"
          ],
          "name": "stdout"
        },
        {
          "output_type": "stream",
          "text": [
            "100%|██████████| 45/45 [00:00<00:00, 72.44it/s]\n",
            "100%|██████████| 29/29 [00:01<00:00, 24.12it/s]\n",
            " 18%|█▊        | 8/45 [00:00<00:00, 73.66it/s]"
          ],
          "name": "stderr"
        },
        {
          "output_type": "stream",
          "text": [
            "Epoch: 3 Loss: 444.3609 Validation accuracy: 0.7080\n"
          ],
          "name": "stdout"
        },
        {
          "output_type": "stream",
          "text": [
            "100%|██████████| 45/45 [00:00<00:00, 72.50it/s]\n",
            "100%|██████████| 29/29 [00:01<00:00, 24.88it/s]\n",
            " 16%|█▌        | 7/45 [00:00<00:00, 62.50it/s]"
          ],
          "name": "stderr"
        },
        {
          "output_type": "stream",
          "text": [
            "Epoch: 4 Loss: 403.6505 Validation accuracy: 0.7080\n"
          ],
          "name": "stdout"
        },
        {
          "output_type": "stream",
          "text": [
            "100%|██████████| 45/45 [00:00<00:00, 68.21it/s]\n",
            "100%|██████████| 29/29 [00:01<00:00, 25.15it/s]\n",
            " 16%|█▌        | 7/45 [00:00<00:00, 67.83it/s]"
          ],
          "name": "stderr"
        },
        {
          "output_type": "stream",
          "text": [
            "Epoch: 5 Loss: 366.5908 Validation accuracy: 0.7080\n"
          ],
          "name": "stdout"
        },
        {
          "output_type": "stream",
          "text": [
            "100%|██████████| 45/45 [00:00<00:00, 72.62it/s]\n",
            "100%|██████████| 29/29 [00:01<00:00, 25.27it/s]\n",
            " 16%|█▌        | 7/45 [00:00<00:00, 69.21it/s]"
          ],
          "name": "stderr"
        },
        {
          "output_type": "stream",
          "text": [
            "Epoch: 6 Loss: 335.2815 Validation accuracy: 0.7357\n"
          ],
          "name": "stdout"
        },
        {
          "output_type": "stream",
          "text": [
            "100%|██████████| 45/45 [00:00<00:00, 67.40it/s]\n",
            "100%|██████████| 29/29 [00:01<00:00, 25.14it/s]\n",
            " 20%|██        | 9/45 [00:00<00:00, 79.95it/s]"
          ],
          "name": "stderr"
        },
        {
          "output_type": "stream",
          "text": [
            "Epoch: 7 Loss: 310.2755 Validation accuracy: 0.7582\n"
          ],
          "name": "stdout"
        },
        {
          "output_type": "stream",
          "text": [
            "100%|██████████| 45/45 [00:00<00:00, 69.86it/s]\n",
            "100%|██████████| 29/29 [00:01<00:00, 24.84it/s]\n",
            " 18%|█▊        | 8/45 [00:00<00:00, 73.61it/s]"
          ],
          "name": "stderr"
        },
        {
          "output_type": "stream",
          "text": [
            "Epoch: 8 Loss: 290.7629 Validation accuracy: 0.7684\n"
          ],
          "name": "stdout"
        },
        {
          "output_type": "stream",
          "text": [
            "100%|██████████| 45/45 [00:00<00:00, 70.63it/s]\n",
            "100%|██████████| 29/29 [00:01<00:00, 25.44it/s]\n",
            "100%|██████████| 3/3 [00:00<00:00, 25.51it/s]\n"
          ],
          "name": "stderr"
        },
        {
          "output_type": "stream",
          "text": [
            "Epoch: 9 Loss: 274.5113 Validation accuracy: 0.7761\n"
          ],
          "name": "stdout"
        },
        {
          "output_type": "stream",
          "text": [
            "100%|██████████| 3/3 [00:00<00:00, 28.30it/s]\n",
            "100%|██████████| 56/56 [00:00<00:00, 107.41it/s]\n",
            "100%|██████████| 29/29 [00:00<00:00, 42.02it/s]\n",
            " 20%|█▉        | 11/56 [00:00<00:00, 101.88it/s]"
          ],
          "name": "stderr"
        },
        {
          "output_type": "stream",
          "text": [
            "Epoch: 0 Loss: 1372.6300 Validation accuracy: 0.7080\n"
          ],
          "name": "stdout"
        },
        {
          "output_type": "stream",
          "text": [
            "100%|██████████| 56/56 [00:00<00:00, 104.63it/s]\n",
            "100%|██████████| 29/29 [00:00<00:00, 41.40it/s]\n",
            " 20%|█▉        | 11/56 [00:00<00:00, 107.70it/s]"
          ],
          "name": "stderr"
        },
        {
          "output_type": "stream",
          "text": [
            "Epoch: 1 Loss: 523.3904 Validation accuracy: 0.7080\n"
          ],
          "name": "stdout"
        },
        {
          "output_type": "stream",
          "text": [
            "100%|██████████| 56/56 [00:00<00:00, 110.84it/s]\n",
            "100%|██████████| 29/29 [00:00<00:00, 39.62it/s]\n",
            " 21%|██▏       | 12/56 [00:00<00:00, 111.75it/s]"
          ],
          "name": "stderr"
        },
        {
          "output_type": "stream",
          "text": [
            "Epoch: 2 Loss: 420.6828 Validation accuracy: 0.7083\n"
          ],
          "name": "stdout"
        },
        {
          "output_type": "stream",
          "text": [
            "100%|██████████| 56/56 [00:00<00:00, 108.03it/s]\n",
            "100%|██████████| 29/29 [00:00<00:00, 39.79it/s]\n",
            " 18%|█▊        | 10/56 [00:00<00:00, 98.52it/s]"
          ],
          "name": "stderr"
        },
        {
          "output_type": "stream",
          "text": [
            "Epoch: 3 Loss: 379.9135 Validation accuracy: 0.7281\n"
          ],
          "name": "stdout"
        },
        {
          "output_type": "stream",
          "text": [
            "100%|██████████| 56/56 [00:00<00:00, 105.19it/s]\n",
            "100%|██████████| 29/29 [00:00<00:00, 40.58it/s]\n",
            " 18%|█▊        | 10/56 [00:00<00:00, 99.03it/s]"
          ],
          "name": "stderr"
        },
        {
          "output_type": "stream",
          "text": [
            "Epoch: 4 Loss: 337.1805 Validation accuracy: 0.7600\n"
          ],
          "name": "stdout"
        },
        {
          "output_type": "stream",
          "text": [
            "100%|██████████| 56/56 [00:00<00:00, 104.17it/s]\n",
            "100%|██████████| 29/29 [00:00<00:00, 41.36it/s]\n",
            " 18%|█▊        | 10/56 [00:00<00:00, 93.05it/s]"
          ],
          "name": "stderr"
        },
        {
          "output_type": "stream",
          "text": [
            "Epoch: 5 Loss: 296.2579 Validation accuracy: 0.7962\n"
          ],
          "name": "stdout"
        },
        {
          "output_type": "stream",
          "text": [
            "100%|██████████| 56/56 [00:00<00:00, 105.29it/s]\n",
            "100%|██████████| 29/29 [00:00<00:00, 38.89it/s]\n",
            " 20%|█▉        | 11/56 [00:00<00:00, 106.86it/s]"
          ],
          "name": "stderr"
        },
        {
          "output_type": "stream",
          "text": [
            "Epoch: 6 Loss: 259.9468 Validation accuracy: 0.8217\n"
          ],
          "name": "stdout"
        },
        {
          "output_type": "stream",
          "text": [
            "100%|██████████| 56/56 [00:00<00:00, 107.76it/s]\n",
            "100%|██████████| 29/29 [00:00<00:00, 41.20it/s]\n",
            " 20%|█▉        | 11/56 [00:00<00:00, 108.58it/s]"
          ],
          "name": "stderr"
        },
        {
          "output_type": "stream",
          "text": [
            "Epoch: 7 Loss: 228.3587 Validation accuracy: 0.8432\n"
          ],
          "name": "stdout"
        },
        {
          "output_type": "stream",
          "text": [
            "100%|██████████| 56/56 [00:00<00:00, 113.53it/s]\n",
            "100%|██████████| 29/29 [00:00<00:00, 40.78it/s]\n",
            " 23%|██▎       | 13/56 [00:00<00:00, 122.00it/s]"
          ],
          "name": "stderr"
        },
        {
          "output_type": "stream",
          "text": [
            "Epoch: 8 Loss: 200.1833 Validation accuracy: 0.8674\n"
          ],
          "name": "stdout"
        },
        {
          "output_type": "stream",
          "text": [
            "100%|██████████| 56/56 [00:00<00:00, 110.21it/s]\n",
            "100%|██████████| 29/29 [00:00<00:00, 42.50it/s]\n",
            "100%|██████████| 3/3 [00:00<00:00, 46.06it/s]\n",
            " 14%|█▍        | 8/56 [00:00<00:00, 74.56it/s]"
          ],
          "name": "stderr"
        },
        {
          "output_type": "stream",
          "text": [
            "Epoch: 9 Loss: 174.4876 Validation accuracy: 0.8863\n"
          ],
          "name": "stdout"
        },
        {
          "output_type": "stream",
          "text": [
            "100%|██████████| 56/56 [00:00<00:00, 70.96it/s]\n",
            "100%|██████████| 29/29 [00:01<00:00, 26.09it/s]\n",
            " 12%|█▎        | 7/56 [00:00<00:00, 65.73it/s]"
          ],
          "name": "stderr"
        },
        {
          "output_type": "stream",
          "text": [
            "Epoch: 0 Loss: 1467.6974 Validation accuracy: 0.7080\n"
          ],
          "name": "stdout"
        },
        {
          "output_type": "stream",
          "text": [
            "100%|██████████| 56/56 [00:00<00:00, 71.24it/s]\n",
            "100%|██████████| 29/29 [00:01<00:00, 26.03it/s]\n",
            " 12%|█▎        | 7/56 [00:00<00:00, 69.90it/s]"
          ],
          "name": "stderr"
        },
        {
          "output_type": "stream",
          "text": [
            "Epoch: 1 Loss: 565.7352 Validation accuracy: 0.6392\n"
          ],
          "name": "stdout"
        },
        {
          "output_type": "stream",
          "text": [
            "100%|██████████| 56/56 [00:00<00:00, 69.19it/s]\n",
            "100%|██████████| 29/29 [00:01<00:00, 24.02it/s]\n",
            " 12%|█▎        | 7/56 [00:00<00:00, 64.62it/s]"
          ],
          "name": "stderr"
        },
        {
          "output_type": "stream",
          "text": [
            "Epoch: 2 Loss: 459.2323 Validation accuracy: 0.7080\n"
          ],
          "name": "stdout"
        },
        {
          "output_type": "stream",
          "text": [
            "100%|██████████| 56/56 [00:00<00:00, 70.80it/s]\n",
            "100%|██████████| 29/29 [00:01<00:00, 24.89it/s]\n",
            " 14%|█▍        | 8/56 [00:00<00:00, 73.75it/s]"
          ],
          "name": "stderr"
        },
        {
          "output_type": "stream",
          "text": [
            "Epoch: 3 Loss: 408.2270 Validation accuracy: 0.7080\n"
          ],
          "name": "stdout"
        },
        {
          "output_type": "stream",
          "text": [
            "100%|██████████| 56/56 [00:00<00:00, 68.06it/s]\n",
            "100%|██████████| 29/29 [00:01<00:00, 23.23it/s]\n",
            " 12%|█▎        | 7/56 [00:00<00:00, 68.70it/s]"
          ],
          "name": "stderr"
        },
        {
          "output_type": "stream",
          "text": [
            "Epoch: 4 Loss: 364.2057 Validation accuracy: 0.7079\n"
          ],
          "name": "stdout"
        },
        {
          "output_type": "stream",
          "text": [
            "100%|██████████| 56/56 [00:00<00:00, 70.43it/s]\n",
            "100%|██████████| 29/29 [00:01<00:00, 24.78it/s]\n",
            " 12%|█▎        | 7/56 [00:00<00:00, 61.29it/s]"
          ],
          "name": "stderr"
        },
        {
          "output_type": "stream",
          "text": [
            "Epoch: 5 Loss: 327.9786 Validation accuracy: 0.7517\n"
          ],
          "name": "stdout"
        },
        {
          "output_type": "stream",
          "text": [
            "100%|██████████| 56/56 [00:00<00:00, 71.00it/s]\n",
            "100%|██████████| 29/29 [00:01<00:00, 25.47it/s]\n",
            " 12%|█▎        | 7/56 [00:00<00:00, 63.28it/s]"
          ],
          "name": "stderr"
        },
        {
          "output_type": "stream",
          "text": [
            "Epoch: 6 Loss: 300.6566 Validation accuracy: 0.7675\n"
          ],
          "name": "stdout"
        },
        {
          "output_type": "stream",
          "text": [
            "100%|██████████| 56/56 [00:00<00:00, 68.51it/s]\n",
            "100%|██████████| 29/29 [00:01<00:00, 25.43it/s]\n",
            " 14%|█▍        | 8/56 [00:00<00:00, 69.72it/s]"
          ],
          "name": "stderr"
        },
        {
          "output_type": "stream",
          "text": [
            "Epoch: 7 Loss: 279.5624 Validation accuracy: 0.7720\n"
          ],
          "name": "stdout"
        },
        {
          "output_type": "stream",
          "text": [
            "100%|██████████| 56/56 [00:00<00:00, 69.60it/s]\n",
            "100%|██████████| 29/29 [00:01<00:00, 24.55it/s]\n",
            " 14%|█▍        | 8/56 [00:00<00:00, 71.31it/s]"
          ],
          "name": "stderr"
        },
        {
          "output_type": "stream",
          "text": [
            "Epoch: 8 Loss: 261.7022 Validation accuracy: 0.7923\n"
          ],
          "name": "stdout"
        },
        {
          "output_type": "stream",
          "text": [
            "100%|██████████| 56/56 [00:00<00:00, 70.71it/s]\n",
            "100%|██████████| 29/29 [00:01<00:00, 25.19it/s]\n",
            "100%|██████████| 3/3 [00:00<00:00, 26.90it/s]\n"
          ],
          "name": "stderr"
        },
        {
          "output_type": "stream",
          "text": [
            "Epoch: 9 Loss: 245.8411 Validation accuracy: 0.7986\n"
          ],
          "name": "stdout"
        },
        {
          "output_type": "stream",
          "text": [
            "100%|██████████| 3/3 [00:00<00:00, 25.66it/s]\n",
            "100%|██████████| 67/67 [00:00<00:00, 111.46it/s]\n",
            "100%|██████████| 29/29 [00:00<00:00, 41.36it/s]\n",
            " 16%|█▋        | 11/67 [00:00<00:00, 108.91it/s]"
          ],
          "name": "stderr"
        },
        {
          "output_type": "stream",
          "text": [
            "Epoch: 0 Loss: 1264.6000 Validation accuracy: 0.7080\n"
          ],
          "name": "stdout"
        },
        {
          "output_type": "stream",
          "text": [
            "100%|██████████| 67/67 [00:00<00:00, 109.37it/s]\n",
            "100%|██████████| 29/29 [00:00<00:00, 41.60it/s]\n",
            " 16%|█▋        | 11/67 [00:00<00:00, 102.95it/s]"
          ],
          "name": "stderr"
        },
        {
          "output_type": "stream",
          "text": [
            "Epoch: 1 Loss: 465.9891 Validation accuracy: 0.7080\n"
          ],
          "name": "stdout"
        },
        {
          "output_type": "stream",
          "text": [
            "100%|██████████| 67/67 [00:00<00:00, 106.92it/s]\n",
            "100%|██████████| 29/29 [00:00<00:00, 41.40it/s]\n",
            " 16%|█▋        | 11/67 [00:00<00:00, 101.46it/s]"
          ],
          "name": "stderr"
        },
        {
          "output_type": "stream",
          "text": [
            "Epoch: 2 Loss: 393.9175 Validation accuracy: 0.7280\n"
          ],
          "name": "stdout"
        },
        {
          "output_type": "stream",
          "text": [
            "100%|██████████| 67/67 [00:00<00:00, 110.39it/s]\n",
            "100%|██████████| 29/29 [00:00<00:00, 41.20it/s]\n",
            " 16%|█▋        | 11/67 [00:00<00:00, 105.96it/s]"
          ],
          "name": "stderr"
        },
        {
          "output_type": "stream",
          "text": [
            "Epoch: 3 Loss: 343.0825 Validation accuracy: 0.7592\n"
          ],
          "name": "stdout"
        },
        {
          "output_type": "stream",
          "text": [
            "100%|██████████| 67/67 [00:00<00:00, 109.25it/s]\n",
            "100%|██████████| 29/29 [00:00<00:00, 42.65it/s]\n",
            " 15%|█▍        | 10/67 [00:00<00:00, 95.99it/s]"
          ],
          "name": "stderr"
        },
        {
          "output_type": "stream",
          "text": [
            "Epoch: 4 Loss: 294.3240 Validation accuracy: 0.8007\n"
          ],
          "name": "stdout"
        },
        {
          "output_type": "stream",
          "text": [
            "100%|██████████| 67/67 [00:00<00:00, 109.15it/s]\n",
            "100%|██████████| 29/29 [00:00<00:00, 41.77it/s]\n",
            " 16%|█▋        | 11/67 [00:00<00:00, 109.88it/s]"
          ],
          "name": "stderr"
        },
        {
          "output_type": "stream",
          "text": [
            "Epoch: 5 Loss: 251.3514 Validation accuracy: 0.8300\n"
          ],
          "name": "stdout"
        },
        {
          "output_type": "stream",
          "text": [
            "100%|██████████| 67/67 [00:00<00:00, 109.30it/s]\n",
            "100%|██████████| 29/29 [00:00<00:00, 40.45it/s]\n",
            " 18%|█▊        | 12/67 [00:00<00:00, 109.22it/s]"
          ],
          "name": "stderr"
        },
        {
          "output_type": "stream",
          "text": [
            "Epoch: 6 Loss: 214.1415 Validation accuracy: 0.8500\n"
          ],
          "name": "stdout"
        },
        {
          "output_type": "stream",
          "text": [
            "100%|██████████| 67/67 [00:00<00:00, 101.90it/s]\n",
            "100%|██████████| 29/29 [00:00<00:00, 40.93it/s]\n",
            " 18%|█▊        | 12/67 [00:00<00:00, 117.26it/s]"
          ],
          "name": "stderr"
        },
        {
          "output_type": "stream",
          "text": [
            "Epoch: 7 Loss: 181.8829 Validation accuracy: 0.8808\n"
          ],
          "name": "stdout"
        },
        {
          "output_type": "stream",
          "text": [
            "100%|██████████| 67/67 [00:00<00:00, 104.57it/s]\n",
            "100%|██████████| 29/29 [00:00<00:00, 40.66it/s]\n",
            " 16%|█▋        | 11/67 [00:00<00:00, 101.75it/s]"
          ],
          "name": "stderr"
        },
        {
          "output_type": "stream",
          "text": [
            "Epoch: 8 Loss: 156.0620 Validation accuracy: 0.8939\n"
          ],
          "name": "stdout"
        },
        {
          "output_type": "stream",
          "text": [
            "100%|██████████| 67/67 [00:00<00:00, 102.96it/s]\n",
            "100%|██████████| 29/29 [00:00<00:00, 39.01it/s]\n",
            "100%|██████████| 3/3 [00:00<00:00, 45.16it/s]\n",
            " 12%|█▏        | 8/67 [00:00<00:00, 73.36it/s]"
          ],
          "name": "stderr"
        },
        {
          "output_type": "stream",
          "text": [
            "Epoch: 9 Loss: 136.2691 Validation accuracy: 0.9031\n"
          ],
          "name": "stdout"
        },
        {
          "output_type": "stream",
          "text": [
            "100%|██████████| 67/67 [00:00<00:00, 70.31it/s]\n",
            "100%|██████████| 29/29 [00:01<00:00, 25.26it/s]\n",
            " 10%|█         | 7/67 [00:00<00:00, 65.80it/s]"
          ],
          "name": "stderr"
        },
        {
          "output_type": "stream",
          "text": [
            "Epoch: 0 Loss: 1339.0777 Validation accuracy: 0.6392\n"
          ],
          "name": "stdout"
        },
        {
          "output_type": "stream",
          "text": [
            "100%|██████████| 67/67 [00:00<00:00, 70.20it/s]\n",
            "100%|██████████| 29/29 [00:01<00:00, 22.95it/s]\n",
            " 10%|█         | 7/67 [00:00<00:00, 69.25it/s]"
          ],
          "name": "stderr"
        },
        {
          "output_type": "stream",
          "text": [
            "Epoch: 1 Loss: 513.0172 Validation accuracy: 0.7080\n"
          ],
          "name": "stdout"
        },
        {
          "output_type": "stream",
          "text": [
            "100%|██████████| 67/67 [00:00<00:00, 68.20it/s]\n",
            "100%|██████████| 29/29 [00:01<00:00, 26.05it/s]\n",
            " 12%|█▏        | 8/67 [00:00<00:00, 75.30it/s]"
          ],
          "name": "stderr"
        },
        {
          "output_type": "stream",
          "text": [
            "Epoch: 2 Loss: 436.1296 Validation accuracy: 0.7080\n"
          ],
          "name": "stdout"
        },
        {
          "output_type": "stream",
          "text": [
            "100%|██████████| 67/67 [00:00<00:00, 72.52it/s]\n",
            "100%|██████████| 29/29 [00:01<00:00, 26.15it/s]\n",
            " 12%|█▏        | 8/67 [00:00<00:00, 73.65it/s]"
          ],
          "name": "stderr"
        },
        {
          "output_type": "stream",
          "text": [
            "Epoch: 3 Loss: 379.5572 Validation accuracy: 0.7080\n"
          ],
          "name": "stdout"
        },
        {
          "output_type": "stream",
          "text": [
            "100%|██████████| 67/67 [00:00<00:00, 71.69it/s]\n",
            "100%|██████████| 29/29 [00:01<00:00, 26.49it/s]\n",
            " 12%|█▏        | 8/67 [00:00<00:00, 78.22it/s]"
          ],
          "name": "stderr"
        },
        {
          "output_type": "stream",
          "text": [
            "Epoch: 4 Loss: 332.3400 Validation accuracy: 0.7435\n"
          ],
          "name": "stdout"
        },
        {
          "output_type": "stream",
          "text": [
            "100%|██████████| 67/67 [00:00<00:00, 74.11it/s]\n",
            "100%|██████████| 29/29 [00:01<00:00, 25.22it/s]\n",
            " 10%|█         | 7/67 [00:00<00:00, 66.05it/s]"
          ],
          "name": "stderr"
        },
        {
          "output_type": "stream",
          "text": [
            "Epoch: 5 Loss: 298.7606 Validation accuracy: 0.7673\n"
          ],
          "name": "stdout"
        },
        {
          "output_type": "stream",
          "text": [
            "100%|██████████| 67/67 [00:00<00:00, 69.51it/s]\n",
            "100%|██████████| 29/29 [00:01<00:00, 24.53it/s]\n",
            " 10%|█         | 7/67 [00:00<00:00, 67.28it/s]"
          ],
          "name": "stderr"
        },
        {
          "output_type": "stream",
          "text": [
            "Epoch: 6 Loss: 274.4161 Validation accuracy: 0.7885\n"
          ],
          "name": "stdout"
        },
        {
          "output_type": "stream",
          "text": [
            "100%|██████████| 67/67 [00:00<00:00, 72.22it/s]\n",
            "100%|██████████| 29/29 [00:01<00:00, 25.87it/s]\n",
            " 10%|█         | 7/67 [00:00<00:00, 69.34it/s]"
          ],
          "name": "stderr"
        },
        {
          "output_type": "stream",
          "text": [
            "Epoch: 7 Loss: 254.0179 Validation accuracy: 0.7979\n"
          ],
          "name": "stdout"
        },
        {
          "output_type": "stream",
          "text": [
            "100%|██████████| 67/67 [00:00<00:00, 71.12it/s]\n",
            "100%|██████████| 29/29 [00:01<00:00, 25.27it/s]\n",
            " 10%|█         | 7/67 [00:00<00:00, 64.62it/s]"
          ],
          "name": "stderr"
        },
        {
          "output_type": "stream",
          "text": [
            "Epoch: 8 Loss: 236.3025 Validation accuracy: 0.8019\n"
          ],
          "name": "stdout"
        },
        {
          "output_type": "stream",
          "text": [
            "100%|██████████| 67/67 [00:00<00:00, 71.93it/s]\n",
            "100%|██████████| 29/29 [00:01<00:00, 26.41it/s]\n",
            "100%|██████████| 3/3 [00:00<00:00, 27.09it/s]\n"
          ],
          "name": "stderr"
        },
        {
          "output_type": "stream",
          "text": [
            "Epoch: 9 Loss: 220.0684 Validation accuracy: 0.8051\n"
          ],
          "name": "stdout"
        },
        {
          "output_type": "stream",
          "text": [
            "100%|██████████| 3/3 [00:00<00:00, 27.96it/s]\n",
            "100%|██████████| 77/77 [00:00<00:00, 107.18it/s]\n",
            "100%|██████████| 29/29 [00:00<00:00, 40.69it/s]\n",
            " 14%|█▍        | 11/77 [00:00<00:00, 103.09it/s]"
          ],
          "name": "stderr"
        },
        {
          "output_type": "stream",
          "text": [
            "Epoch: 0 Loss: 1169.3900 Validation accuracy: 0.7080\n"
          ],
          "name": "stdout"
        },
        {
          "output_type": "stream",
          "text": [
            "100%|██████████| 77/77 [00:00<00:00, 102.77it/s]\n",
            "100%|██████████| 29/29 [00:00<00:00, 39.62it/s]\n",
            " 14%|█▍        | 11/77 [00:00<00:00, 105.65it/s]"
          ],
          "name": "stderr"
        },
        {
          "output_type": "stream",
          "text": [
            "Epoch: 1 Loss: 448.8788 Validation accuracy: 0.7080\n"
          ],
          "name": "stdout"
        },
        {
          "output_type": "stream",
          "text": [
            "100%|██████████| 77/77 [00:00<00:00, 104.93it/s]\n",
            "100%|██████████| 29/29 [00:00<00:00, 41.02it/s]\n",
            " 14%|█▍        | 11/77 [00:00<00:00, 107.12it/s]"
          ],
          "name": "stderr"
        },
        {
          "output_type": "stream",
          "text": [
            "Epoch: 2 Loss: 383.2189 Validation accuracy: 0.7281\n"
          ],
          "name": "stdout"
        },
        {
          "output_type": "stream",
          "text": [
            "100%|██████████| 77/77 [00:00<00:00, 106.49it/s]\n",
            "100%|██████████| 29/29 [00:00<00:00, 40.96it/s]\n",
            " 14%|█▍        | 11/77 [00:00<00:00, 107.88it/s]"
          ],
          "name": "stderr"
        },
        {
          "output_type": "stream",
          "text": [
            "Epoch: 3 Loss: 325.2427 Validation accuracy: 0.7870\n"
          ],
          "name": "stdout"
        },
        {
          "output_type": "stream",
          "text": [
            "100%|██████████| 77/77 [00:00<00:00, 105.77it/s]\n",
            "100%|██████████| 29/29 [00:00<00:00, 42.82it/s]\n",
            " 14%|█▍        | 11/77 [00:00<00:00, 107.48it/s]"
          ],
          "name": "stderr"
        },
        {
          "output_type": "stream",
          "text": [
            "Epoch: 4 Loss: 271.4762 Validation accuracy: 0.8208\n"
          ],
          "name": "stdout"
        },
        {
          "output_type": "stream",
          "text": [
            "100%|██████████| 77/77 [00:00<00:00, 110.63it/s]\n",
            "100%|██████████| 29/29 [00:00<00:00, 43.15it/s]\n",
            " 14%|█▍        | 11/77 [00:00<00:00, 105.46it/s]"
          ],
          "name": "stderr"
        },
        {
          "output_type": "stream",
          "text": [
            "Epoch: 5 Loss: 226.4331 Validation accuracy: 0.8533\n"
          ],
          "name": "stdout"
        },
        {
          "output_type": "stream",
          "text": [
            "100%|██████████| 77/77 [00:00<00:00, 111.34it/s]\n",
            "100%|██████████| 29/29 [00:00<00:00, 39.12it/s]\n",
            " 14%|█▍        | 11/77 [00:00<00:00, 106.04it/s]"
          ],
          "name": "stderr"
        },
        {
          "output_type": "stream",
          "text": [
            "Epoch: 6 Loss: 188.1862 Validation accuracy: 0.8839\n"
          ],
          "name": "stdout"
        },
        {
          "output_type": "stream",
          "text": [
            "100%|██████████| 77/77 [00:00<00:00, 108.89it/s]\n",
            "100%|██████████| 29/29 [00:00<00:00, 40.77it/s]\n",
            " 14%|█▍        | 11/77 [00:00<00:00, 104.73it/s]"
          ],
          "name": "stderr"
        },
        {
          "output_type": "stream",
          "text": [
            "Epoch: 7 Loss: 158.0511 Validation accuracy: 0.8932\n"
          ],
          "name": "stdout"
        },
        {
          "output_type": "stream",
          "text": [
            "100%|██████████| 77/77 [00:00<00:00, 104.62it/s]\n",
            "100%|██████████| 29/29 [00:00<00:00, 39.58it/s]\n",
            " 16%|█▌        | 12/77 [00:00<00:00, 114.29it/s]"
          ],
          "name": "stderr"
        },
        {
          "output_type": "stream",
          "text": [
            "Epoch: 8 Loss: 135.8594 Validation accuracy: 0.9034\n"
          ],
          "name": "stdout"
        },
        {
          "output_type": "stream",
          "text": [
            "100%|██████████| 77/77 [00:00<00:00, 108.49it/s]\n",
            "100%|██████████| 29/29 [00:00<00:00, 41.50it/s]\n",
            "100%|██████████| 3/3 [00:00<00:00, 46.97it/s]\n",
            "  8%|▊         | 6/77 [00:00<00:01, 55.12it/s]"
          ],
          "name": "stderr"
        },
        {
          "output_type": "stream",
          "text": [
            "Epoch: 9 Loss: 119.0051 Validation accuracy: 0.9129\n"
          ],
          "name": "stdout"
        },
        {
          "output_type": "stream",
          "text": [
            "100%|██████████| 77/77 [00:01<00:00, 69.32it/s]\n",
            "100%|██████████| 29/29 [00:01<00:00, 24.72it/s]\n",
            " 10%|█         | 8/77 [00:00<00:00, 73.31it/s]"
          ],
          "name": "stderr"
        },
        {
          "output_type": "stream",
          "text": [
            "Epoch: 0 Loss: 1268.9653 Validation accuracy: 0.6392\n"
          ],
          "name": "stdout"
        },
        {
          "output_type": "stream",
          "text": [
            "100%|██████████| 77/77 [00:01<00:00, 69.45it/s]\n",
            "100%|██████████| 29/29 [00:01<00:00, 25.48it/s]\n",
            "  9%|▉         | 7/77 [00:00<00:01, 69.93it/s]"
          ],
          "name": "stderr"
        },
        {
          "output_type": "stream",
          "text": [
            "Epoch: 1 Loss: 490.5837 Validation accuracy: 0.7080\n"
          ],
          "name": "stdout"
        },
        {
          "output_type": "stream",
          "text": [
            "100%|██████████| 77/77 [00:01<00:00, 68.62it/s]\n",
            "100%|██████████| 29/29 [00:01<00:00, 25.54it/s]\n",
            "  9%|▉         | 7/77 [00:00<00:01, 66.07it/s]"
          ],
          "name": "stderr"
        },
        {
          "output_type": "stream",
          "text": [
            "Epoch: 2 Loss: 414.6911 Validation accuracy: 0.7080\n"
          ],
          "name": "stdout"
        },
        {
          "output_type": "stream",
          "text": [
            "100%|██████████| 77/77 [00:01<00:00, 68.88it/s]\n",
            "100%|██████████| 29/29 [00:01<00:00, 25.74it/s]\n",
            "  9%|▉         | 7/77 [00:00<00:01, 68.18it/s]"
          ],
          "name": "stderr"
        },
        {
          "output_type": "stream",
          "text": [
            "Epoch: 3 Loss: 355.4129 Validation accuracy: 0.7320\n"
          ],
          "name": "stdout"
        },
        {
          "output_type": "stream",
          "text": [
            "100%|██████████| 77/77 [00:01<00:00, 68.10it/s]\n",
            "100%|██████████| 29/29 [00:01<00:00, 23.97it/s]\n",
            "  9%|▉         | 7/77 [00:00<00:01, 69.65it/s]"
          ],
          "name": "stderr"
        },
        {
          "output_type": "stream",
          "text": [
            "Epoch: 4 Loss: 311.9654 Validation accuracy: 0.7607\n"
          ],
          "name": "stdout"
        },
        {
          "output_type": "stream",
          "text": [
            "100%|██████████| 77/77 [00:01<00:00, 69.01it/s]\n",
            "100%|██████████| 29/29 [00:01<00:00, 25.98it/s]\n",
            " 10%|█         | 8/77 [00:00<00:00, 75.41it/s]"
          ],
          "name": "stderr"
        },
        {
          "output_type": "stream",
          "text": [
            "Epoch: 5 Loss: 281.9289 Validation accuracy: 0.7748\n"
          ],
          "name": "stdout"
        },
        {
          "output_type": "stream",
          "text": [
            "100%|██████████| 77/77 [00:01<00:00, 70.08it/s]\n",
            "100%|██████████| 29/29 [00:01<00:00, 24.89it/s]\n",
            "  9%|▉         | 7/77 [00:00<00:01, 62.24it/s]"
          ],
          "name": "stderr"
        },
        {
          "output_type": "stream",
          "text": [
            "Epoch: 6 Loss: 258.2670 Validation accuracy: 0.7930\n"
          ],
          "name": "stdout"
        },
        {
          "output_type": "stream",
          "text": [
            "100%|██████████| 77/77 [00:01<00:00, 69.99it/s]\n",
            "100%|██████████| 29/29 [00:01<00:00, 24.93it/s]\n",
            " 10%|█         | 8/77 [00:00<00:00, 72.82it/s]"
          ],
          "name": "stderr"
        },
        {
          "output_type": "stream",
          "text": [
            "Epoch: 7 Loss: 237.4263 Validation accuracy: 0.7983\n"
          ],
          "name": "stdout"
        },
        {
          "output_type": "stream",
          "text": [
            "100%|██████████| 77/77 [00:01<00:00, 70.43it/s]\n",
            "100%|██████████| 29/29 [00:01<00:00, 25.22it/s]\n",
            "  9%|▉         | 7/77 [00:00<00:01, 68.79it/s]"
          ],
          "name": "stderr"
        },
        {
          "output_type": "stream",
          "text": [
            "Epoch: 8 Loss: 217.8554 Validation accuracy: 0.8152\n"
          ],
          "name": "stdout"
        },
        {
          "output_type": "stream",
          "text": [
            "100%|██████████| 77/77 [00:01<00:00, 67.26it/s]\n",
            "100%|██████████| 29/29 [00:01<00:00, 25.73it/s]\n",
            "100%|██████████| 3/3 [00:00<00:00, 24.48it/s]\n"
          ],
          "name": "stderr"
        },
        {
          "output_type": "stream",
          "text": [
            "Epoch: 9 Loss: 198.9410 Validation accuracy: 0.8490\n"
          ],
          "name": "stdout"
        },
        {
          "output_type": "stream",
          "text": [
            "100%|██████████| 3/3 [00:00<00:00, 22.18it/s]\n",
            "100%|██████████| 88/88 [00:00<00:00, 101.74it/s]\n",
            "100%|██████████| 29/29 [00:00<00:00, 41.50it/s]\n",
            " 12%|█▎        | 11/88 [00:00<00:00, 107.92it/s]"
          ],
          "name": "stderr"
        },
        {
          "output_type": "stream",
          "text": [
            "Epoch: 0 Loss: 1093.4419 Validation accuracy: 0.7080\n"
          ],
          "name": "stdout"
        },
        {
          "output_type": "stream",
          "text": [
            "100%|██████████| 88/88 [00:00<00:00, 104.26it/s]\n",
            "100%|██████████| 29/29 [00:00<00:00, 36.79it/s]\n",
            " 12%|█▎        | 11/88 [00:00<00:00, 108.89it/s]"
          ],
          "name": "stderr"
        },
        {
          "output_type": "stream",
          "text": [
            "Epoch: 1 Loss: 427.9037 Validation accuracy: 0.7181\n"
          ],
          "name": "stdout"
        },
        {
          "output_type": "stream",
          "text": [
            "100%|██████████| 88/88 [00:00<00:00, 105.42it/s]\n",
            "100%|██████████| 29/29 [00:00<00:00, 42.94it/s]\n",
            " 12%|█▎        | 11/88 [00:00<00:00, 108.48it/s]"
          ],
          "name": "stderr"
        },
        {
          "output_type": "stream",
          "text": [
            "Epoch: 2 Loss: 356.8288 Validation accuracy: 0.7539\n"
          ],
          "name": "stdout"
        },
        {
          "output_type": "stream",
          "text": [
            "100%|██████████| 88/88 [00:00<00:00, 106.43it/s]\n",
            "100%|██████████| 29/29 [00:00<00:00, 43.10it/s]\n",
            " 12%|█▎        | 11/88 [00:00<00:00, 97.94it/s]"
          ],
          "name": "stderr"
        },
        {
          "output_type": "stream",
          "text": [
            "Epoch: 3 Loss: 292.5643 Validation accuracy: 0.8023\n"
          ],
          "name": "stdout"
        },
        {
          "output_type": "stream",
          "text": [
            "100%|██████████| 88/88 [00:00<00:00, 101.03it/s]\n",
            "100%|██████████| 29/29 [00:00<00:00, 41.08it/s]\n",
            " 12%|█▎        | 11/88 [00:00<00:00, 108.66it/s]"
          ],
          "name": "stderr"
        },
        {
          "output_type": "stream",
          "text": [
            "Epoch: 4 Loss: 238.0929 Validation accuracy: 0.8463\n"
          ],
          "name": "stdout"
        },
        {
          "output_type": "stream",
          "text": [
            "100%|██████████| 88/88 [00:00<00:00, 109.11it/s]\n",
            "100%|██████████| 29/29 [00:00<00:00, 42.45it/s]\n",
            " 12%|█▎        | 11/88 [00:00<00:00, 101.96it/s]"
          ],
          "name": "stderr"
        },
        {
          "output_type": "stream",
          "text": [
            "Epoch: 5 Loss: 193.1437 Validation accuracy: 0.8803\n"
          ],
          "name": "stdout"
        },
        {
          "output_type": "stream",
          "text": [
            "100%|██████████| 88/88 [00:00<00:00, 107.59it/s]\n",
            "100%|██████████| 29/29 [00:00<00:00, 40.90it/s]\n",
            " 11%|█▏        | 10/88 [00:00<00:00, 94.51it/s]"
          ],
          "name": "stderr"
        },
        {
          "output_type": "stream",
          "text": [
            "Epoch: 6 Loss: 158.2358 Validation accuracy: 0.8987\n"
          ],
          "name": "stdout"
        },
        {
          "output_type": "stream",
          "text": [
            "100%|██████████| 88/88 [00:00<00:00, 104.01it/s]\n",
            "100%|██████████| 29/29 [00:00<00:00, 40.93it/s]\n",
            " 12%|█▎        | 11/88 [00:00<00:00, 101.12it/s]"
          ],
          "name": "stderr"
        },
        {
          "output_type": "stream",
          "text": [
            "Epoch: 7 Loss: 133.1307 Validation accuracy: 0.9054\n"
          ],
          "name": "stdout"
        },
        {
          "output_type": "stream",
          "text": [
            "100%|██████████| 88/88 [00:00<00:00, 106.66it/s]\n",
            "100%|██████████| 29/29 [00:00<00:00, 41.92it/s]\n",
            " 11%|█▏        | 10/88 [00:00<00:00, 99.05it/s]"
          ],
          "name": "stderr"
        },
        {
          "output_type": "stream",
          "text": [
            "Epoch: 8 Loss: 114.7913 Validation accuracy: 0.9194\n"
          ],
          "name": "stdout"
        },
        {
          "output_type": "stream",
          "text": [
            "100%|██████████| 88/88 [00:00<00:00, 103.05it/s]\n",
            "100%|██████████| 29/29 [00:00<00:00, 41.66it/s]\n",
            "100%|██████████| 3/3 [00:00<00:00, 45.38it/s]\n",
            "  8%|▊         | 7/88 [00:00<00:01, 65.85it/s]"
          ],
          "name": "stderr"
        },
        {
          "output_type": "stream",
          "text": [
            "Epoch: 9 Loss: 100.2827 Validation accuracy: 0.9261\n"
          ],
          "name": "stdout"
        },
        {
          "output_type": "stream",
          "text": [
            "100%|██████████| 88/88 [00:01<00:00, 69.75it/s]\n",
            "100%|██████████| 29/29 [00:01<00:00, 24.58it/s]\n",
            "  8%|▊         | 7/88 [00:00<00:01, 66.94it/s]"
          ],
          "name": "stderr"
        },
        {
          "output_type": "stream",
          "text": [
            "Epoch: 0 Loss: 1165.9767 Validation accuracy: 0.6392\n"
          ],
          "name": "stdout"
        },
        {
          "output_type": "stream",
          "text": [
            "100%|██████████| 88/88 [00:01<00:00, 68.53it/s]\n",
            "100%|██████████| 29/29 [00:01<00:00, 26.10it/s]\n",
            "  9%|▉         | 8/88 [00:00<00:01, 69.54it/s]"
          ],
          "name": "stderr"
        },
        {
          "output_type": "stream",
          "text": [
            "Epoch: 1 Loss: 471.8169 Validation accuracy: 0.7080\n"
          ],
          "name": "stdout"
        },
        {
          "output_type": "stream",
          "text": [
            "100%|██████████| 88/88 [00:01<00:00, 69.75it/s]\n",
            "100%|██████████| 29/29 [00:01<00:00, 26.09it/s]\n",
            "  9%|▉         | 8/88 [00:00<00:01, 70.30it/s]"
          ],
          "name": "stderr"
        },
        {
          "output_type": "stream",
          "text": [
            "Epoch: 2 Loss: 393.9906 Validation accuracy: 0.7080\n"
          ],
          "name": "stdout"
        },
        {
          "output_type": "stream",
          "text": [
            "100%|██████████| 88/88 [00:01<00:00, 71.15it/s]\n",
            "100%|██████████| 29/29 [00:01<00:00, 24.59it/s]\n",
            "  8%|▊         | 7/88 [00:00<00:01, 65.27it/s]"
          ],
          "name": "stderr"
        },
        {
          "output_type": "stream",
          "text": [
            "Epoch: 3 Loss: 333.3492 Validation accuracy: 0.7444\n"
          ],
          "name": "stdout"
        },
        {
          "output_type": "stream",
          "text": [
            "100%|██████████| 88/88 [00:01<00:00, 67.36it/s]\n",
            "100%|██████████| 29/29 [00:01<00:00, 25.62it/s]\n",
            "  8%|▊         | 7/88 [00:00<00:01, 65.30it/s]"
          ],
          "name": "stderr"
        },
        {
          "output_type": "stream",
          "text": [
            "Epoch: 4 Loss: 292.6087 Validation accuracy: 0.7721\n"
          ],
          "name": "stdout"
        },
        {
          "output_type": "stream",
          "text": [
            "100%|██████████| 88/88 [00:01<00:00, 70.16it/s]\n",
            "100%|██████████| 29/29 [00:01<00:00, 25.36it/s]\n",
            "  8%|▊         | 7/88 [00:00<00:01, 68.34it/s]"
          ],
          "name": "stderr"
        },
        {
          "output_type": "stream",
          "text": [
            "Epoch: 5 Loss: 263.5839 Validation accuracy: 0.7909\n"
          ],
          "name": "stdout"
        },
        {
          "output_type": "stream",
          "text": [
            "100%|██████████| 88/88 [00:01<00:00, 70.40it/s]\n",
            "100%|██████████| 29/29 [00:01<00:00, 25.62it/s]\n",
            "  8%|▊         | 7/88 [00:00<00:01, 69.35it/s]"
          ],
          "name": "stderr"
        },
        {
          "output_type": "stream",
          "text": [
            "Epoch: 6 Loss: 239.5326 Validation accuracy: 0.7980\n"
          ],
          "name": "stdout"
        },
        {
          "output_type": "stream",
          "text": [
            "100%|██████████| 88/88 [00:01<00:00, 70.17it/s]\n",
            "100%|██████████| 29/29 [00:01<00:00, 25.05it/s]\n",
            "  8%|▊         | 7/88 [00:00<00:01, 59.99it/s]"
          ],
          "name": "stderr"
        },
        {
          "output_type": "stream",
          "text": [
            "Epoch: 7 Loss: 217.9956 Validation accuracy: 0.8157\n"
          ],
          "name": "stdout"
        },
        {
          "output_type": "stream",
          "text": [
            "100%|██████████| 88/88 [00:01<00:00, 71.47it/s]\n",
            "100%|██████████| 29/29 [00:01<00:00, 25.92it/s]\n",
            "  8%|▊         | 7/88 [00:00<00:01, 63.12it/s]"
          ],
          "name": "stderr"
        },
        {
          "output_type": "stream",
          "text": [
            "Epoch: 8 Loss: 196.9496 Validation accuracy: 0.8496\n"
          ],
          "name": "stdout"
        },
        {
          "output_type": "stream",
          "text": [
            "100%|██████████| 88/88 [00:01<00:00, 70.63it/s]\n",
            "100%|██████████| 29/29 [00:01<00:00, 24.51it/s]\n",
            "100%|██████████| 3/3 [00:00<00:00, 27.23it/s]\n"
          ],
          "name": "stderr"
        },
        {
          "output_type": "stream",
          "text": [
            "Epoch: 9 Loss: 174.6714 Validation accuracy: 0.8708\n"
          ],
          "name": "stdout"
        },
        {
          "output_type": "stream",
          "text": [
            "100%|██████████| 3/3 [00:00<00:00, 28.06it/s]\n",
            "100%|██████████| 99/99 [00:00<00:00, 105.54it/s]\n",
            "100%|██████████| 29/29 [00:00<00:00, 42.82it/s]\n",
            " 11%|█         | 11/99 [00:00<00:00, 107.42it/s]"
          ],
          "name": "stderr"
        },
        {
          "output_type": "stream",
          "text": [
            "Epoch: 0 Loss: 1011.8895 Validation accuracy: 0.7080\n"
          ],
          "name": "stdout"
        },
        {
          "output_type": "stream",
          "text": [
            "100%|██████████| 99/99 [00:00<00:00, 109.03it/s]\n",
            "100%|██████████| 29/29 [00:00<00:00, 40.05it/s]\n",
            " 12%|█▏        | 12/99 [00:00<00:00, 109.02it/s]"
          ],
          "name": "stderr"
        },
        {
          "output_type": "stream",
          "text": [
            "Epoch: 1 Loss: 407.6599 Validation accuracy: 0.7280\n"
          ],
          "name": "stdout"
        },
        {
          "output_type": "stream",
          "text": [
            "100%|██████████| 99/99 [00:00<00:00, 108.51it/s]\n",
            "100%|██████████| 29/29 [00:00<00:00, 40.27it/s]\n",
            " 11%|█         | 11/99 [00:00<00:00, 103.27it/s]"
          ],
          "name": "stderr"
        },
        {
          "output_type": "stream",
          "text": [
            "Epoch: 2 Loss: 328.9386 Validation accuracy: 0.7815\n"
          ],
          "name": "stdout"
        },
        {
          "output_type": "stream",
          "text": [
            "100%|██████████| 99/99 [00:00<00:00, 106.52it/s]\n",
            "100%|██████████| 29/29 [00:00<00:00, 41.41it/s]\n",
            " 10%|█         | 10/99 [00:00<00:00, 93.29it/s]"
          ],
          "name": "stderr"
        },
        {
          "output_type": "stream",
          "text": [
            "Epoch: 3 Loss: 263.3881 Validation accuracy: 0.8324\n"
          ],
          "name": "stdout"
        },
        {
          "output_type": "stream",
          "text": [
            "100%|██████████| 99/99 [00:00<00:00, 101.04it/s]\n",
            "100%|██████████| 29/29 [00:00<00:00, 40.91it/s]\n",
            " 11%|█         | 11/99 [00:00<00:00, 103.87it/s]"
          ],
          "name": "stderr"
        },
        {
          "output_type": "stream",
          "text": [
            "Epoch: 4 Loss: 209.6444 Validation accuracy: 0.8687\n"
          ],
          "name": "stdout"
        },
        {
          "output_type": "stream",
          "text": [
            "100%|██████████| 99/99 [00:00<00:00, 101.63it/s]\n",
            "100%|██████████| 29/29 [00:00<00:00, 39.83it/s]\n",
            " 10%|█         | 10/99 [00:00<00:00, 95.14it/s]"
          ],
          "name": "stderr"
        },
        {
          "output_type": "stream",
          "text": [
            "Epoch: 5 Loss: 166.8195 Validation accuracy: 0.8954\n"
          ],
          "name": "stdout"
        },
        {
          "output_type": "stream",
          "text": [
            "100%|██████████| 99/99 [00:00<00:00, 103.90it/s]\n",
            "100%|██████████| 29/29 [00:00<00:00, 40.34it/s]\n",
            " 10%|█         | 10/99 [00:00<00:00, 97.95it/s]"
          ],
          "name": "stderr"
        },
        {
          "output_type": "stream",
          "text": [
            "Epoch: 6 Loss: 137.1088 Validation accuracy: 0.9063\n"
          ],
          "name": "stdout"
        },
        {
          "output_type": "stream",
          "text": [
            "100%|██████████| 99/99 [00:00<00:00, 103.61it/s]\n",
            "100%|██████████| 29/29 [00:00<00:00, 39.95it/s]\n",
            " 10%|█         | 10/99 [00:00<00:00, 96.73it/s]"
          ],
          "name": "stderr"
        },
        {
          "output_type": "stream",
          "text": [
            "Epoch: 7 Loss: 116.0242 Validation accuracy: 0.9188\n"
          ],
          "name": "stdout"
        },
        {
          "output_type": "stream",
          "text": [
            "100%|██████████| 99/99 [00:00<00:00, 100.98it/s]\n",
            "100%|██████████| 29/29 [00:00<00:00, 41.04it/s]\n",
            " 11%|█         | 11/99 [00:00<00:00, 102.65it/s]"
          ],
          "name": "stderr"
        },
        {
          "output_type": "stream",
          "text": [
            "Epoch: 8 Loss: 99.7493 Validation accuracy: 0.9274\n"
          ],
          "name": "stdout"
        },
        {
          "output_type": "stream",
          "text": [
            "100%|██████████| 99/99 [00:00<00:00, 102.17it/s]\n",
            "100%|██████████| 29/29 [00:00<00:00, 41.77it/s]\n",
            "100%|██████████| 3/3 [00:00<00:00, 41.88it/s]\n",
            "  7%|▋         | 7/99 [00:00<00:01, 67.02it/s]"
          ],
          "name": "stderr"
        },
        {
          "output_type": "stream",
          "text": [
            "Epoch: 9 Loss: 87.0940 Validation accuracy: 0.9332\n"
          ],
          "name": "stdout"
        },
        {
          "output_type": "stream",
          "text": [
            "100%|██████████| 99/99 [00:01<00:00, 68.54it/s]\n",
            "100%|██████████| 29/29 [00:01<00:00, 24.66it/s]\n",
            "  8%|▊         | 8/99 [00:00<00:01, 72.45it/s]"
          ],
          "name": "stderr"
        },
        {
          "output_type": "stream",
          "text": [
            "Epoch: 0 Loss: 1098.1864 Validation accuracy: 0.6392\n"
          ],
          "name": "stdout"
        },
        {
          "output_type": "stream",
          "text": [
            "100%|██████████| 99/99 [00:01<00:00, 70.43it/s]\n",
            "100%|██████████| 29/29 [00:01<00:00, 24.01it/s]\n",
            "  7%|▋         | 7/99 [00:00<00:01, 66.77it/s]"
          ],
          "name": "stderr"
        },
        {
          "output_type": "stream",
          "text": [
            "Epoch: 1 Loss: 453.5746 Validation accuracy: 0.7080\n"
          ],
          "name": "stdout"
        },
        {
          "output_type": "stream",
          "text": [
            "100%|██████████| 99/99 [00:01<00:00, 65.55it/s]\n",
            "100%|██████████| 29/29 [00:01<00:00, 24.32it/s]\n",
            "  7%|▋         | 7/99 [00:00<00:01, 67.99it/s]"
          ],
          "name": "stderr"
        },
        {
          "output_type": "stream",
          "text": [
            "Epoch: 2 Loss: 370.7760 Validation accuracy: 0.7216\n"
          ],
          "name": "stdout"
        },
        {
          "output_type": "stream",
          "text": [
            "100%|██████████| 99/99 [00:01<00:00, 69.41it/s]\n",
            "100%|██████████| 29/29 [00:01<00:00, 24.64it/s]\n",
            "  7%|▋         | 7/99 [00:00<00:01, 63.22it/s]"
          ],
          "name": "stderr"
        },
        {
          "output_type": "stream",
          "text": [
            "Epoch: 3 Loss: 312.2867 Validation accuracy: 0.7661\n"
          ],
          "name": "stdout"
        },
        {
          "output_type": "stream",
          "text": [
            "100%|██████████| 99/99 [00:01<00:00, 66.21it/s]\n",
            "100%|██████████| 29/29 [00:01<00:00, 25.74it/s]\n",
            "  7%|▋         | 7/99 [00:00<00:01, 61.83it/s]"
          ],
          "name": "stderr"
        },
        {
          "output_type": "stream",
          "text": [
            "Epoch: 4 Loss: 274.8171 Validation accuracy: 0.7935\n"
          ],
          "name": "stdout"
        },
        {
          "output_type": "stream",
          "text": [
            "100%|██████████| 99/99 [00:01<00:00, 69.55it/s]\n",
            "100%|██████████| 29/29 [00:01<00:00, 24.59it/s]\n",
            "  7%|▋         | 7/99 [00:00<00:01, 66.88it/s]"
          ],
          "name": "stderr"
        },
        {
          "output_type": "stream",
          "text": [
            "Epoch: 5 Loss: 246.5808 Validation accuracy: 0.7994\n"
          ],
          "name": "stdout"
        },
        {
          "output_type": "stream",
          "text": [
            "100%|██████████| 99/99 [00:01<00:00, 69.42it/s]\n",
            "100%|██████████| 29/29 [00:01<00:00, 25.21it/s]\n",
            "  8%|▊         | 8/99 [00:00<00:01, 68.36it/s]"
          ],
          "name": "stderr"
        },
        {
          "output_type": "stream",
          "text": [
            "Epoch: 6 Loss: 222.1818 Validation accuracy: 0.8121\n"
          ],
          "name": "stdout"
        },
        {
          "output_type": "stream",
          "text": [
            "100%|██████████| 99/99 [00:01<00:00, 68.34it/s]\n",
            "100%|██████████| 29/29 [00:01<00:00, 24.90it/s]\n",
            "  7%|▋         | 7/99 [00:00<00:01, 69.26it/s]"
          ],
          "name": "stderr"
        },
        {
          "output_type": "stream",
          "text": [
            "Epoch: 7 Loss: 198.4157 Validation accuracy: 0.8496\n"
          ],
          "name": "stdout"
        },
        {
          "output_type": "stream",
          "text": [
            "100%|██████████| 99/99 [00:01<00:00, 69.80it/s]\n",
            "100%|██████████| 29/29 [00:01<00:00, 24.66it/s]\n",
            "  7%|▋         | 7/99 [00:00<00:01, 68.46it/s]"
          ],
          "name": "stderr"
        },
        {
          "output_type": "stream",
          "text": [
            "Epoch: 8 Loss: 173.5238 Validation accuracy: 0.8709\n"
          ],
          "name": "stdout"
        },
        {
          "output_type": "stream",
          "text": [
            "100%|██████████| 99/99 [00:01<00:00, 68.27it/s]\n",
            "100%|██████████| 29/29 [00:01<00:00, 24.75it/s]\n",
            "100%|██████████| 3/3 [00:00<00:00, 27.99it/s]\n"
          ],
          "name": "stderr"
        },
        {
          "output_type": "stream",
          "text": [
            "Epoch: 9 Loss: 151.4938 Validation accuracy: 0.8997\n"
          ],
          "name": "stdout"
        },
        {
          "output_type": "stream",
          "text": [
            "100%|██████████| 3/3 [00:00<00:00, 29.10it/s]\n",
            "100%|██████████| 109/109 [00:01<00:00, 101.46it/s]\n",
            "100%|██████████| 29/29 [00:00<00:00, 41.26it/s]\n",
            "  8%|▊         | 9/109 [00:00<00:01, 88.74it/s]"
          ],
          "name": "stderr"
        },
        {
          "output_type": "stream",
          "text": [
            "Epoch: 0 Loss: 977.7952 Validation accuracy: 0.7080\n"
          ],
          "name": "stdout"
        },
        {
          "output_type": "stream",
          "text": [
            "100%|██████████| 109/109 [00:01<00:00, 100.38it/s]\n",
            "100%|██████████| 29/29 [00:00<00:00, 39.80it/s]\n",
            " 10%|█         | 11/109 [00:00<00:00, 103.82it/s]"
          ],
          "name": "stderr"
        },
        {
          "output_type": "stream",
          "text": [
            "Epoch: 1 Loss: 404.6700 Validation accuracy: 0.7273\n"
          ],
          "name": "stdout"
        },
        {
          "output_type": "stream",
          "text": [
            "100%|██████████| 109/109 [00:01<00:00, 104.81it/s]\n",
            "100%|██████████| 29/29 [00:00<00:00, 39.10it/s]\n",
            "  9%|▉         | 10/109 [00:00<00:01, 95.90it/s]"
          ],
          "name": "stderr"
        },
        {
          "output_type": "stream",
          "text": [
            "Epoch: 2 Loss: 322.5352 Validation accuracy: 0.7973\n"
          ],
          "name": "stdout"
        },
        {
          "output_type": "stream",
          "text": [
            "100%|██████████| 109/109 [00:01<00:00, 101.13it/s]\n",
            "100%|██████████| 29/29 [00:00<00:00, 40.11it/s]\n",
            "  9%|▉         | 10/109 [00:00<00:01, 93.96it/s]"
          ],
          "name": "stderr"
        },
        {
          "output_type": "stream",
          "text": [
            "Epoch: 3 Loss: 250.2205 Validation accuracy: 0.8454\n"
          ],
          "name": "stdout"
        },
        {
          "output_type": "stream",
          "text": [
            "100%|██████████| 109/109 [00:01<00:00, 101.59it/s]\n",
            "100%|██████████| 29/29 [00:00<00:00, 41.95it/s]\n",
            "  9%|▉         | 10/109 [00:00<00:01, 93.29it/s]"
          ],
          "name": "stderr"
        },
        {
          "output_type": "stream",
          "text": [
            "Epoch: 4 Loss: 193.5882 Validation accuracy: 0.8846\n"
          ],
          "name": "stdout"
        },
        {
          "output_type": "stream",
          "text": [
            "100%|██████████| 109/109 [00:01<00:00, 102.71it/s]\n",
            "100%|██████████| 29/29 [00:00<00:00, 41.58it/s]\n",
            "  9%|▉         | 10/109 [00:00<00:01, 91.97it/s]"
          ],
          "name": "stderr"
        },
        {
          "output_type": "stream",
          "text": [
            "Epoch: 5 Loss: 153.5473 Validation accuracy: 0.9022\n"
          ],
          "name": "stdout"
        },
        {
          "output_type": "stream",
          "text": [
            "100%|██████████| 109/109 [00:01<00:00, 103.94it/s]\n",
            "100%|██████████| 29/29 [00:00<00:00, 40.57it/s]\n",
            " 10%|█         | 11/109 [00:00<00:00, 109.66it/s]"
          ],
          "name": "stderr"
        },
        {
          "output_type": "stream",
          "text": [
            "Epoch: 6 Loss: 126.3216 Validation accuracy: 0.9175\n"
          ],
          "name": "stdout"
        },
        {
          "output_type": "stream",
          "text": [
            "100%|██████████| 109/109 [00:01<00:00, 104.59it/s]\n",
            "100%|██████████| 29/29 [00:00<00:00, 39.85it/s]\n",
            "  8%|▊         | 9/109 [00:00<00:01, 85.85it/s]"
          ],
          "name": "stderr"
        },
        {
          "output_type": "stream",
          "text": [
            "Epoch: 7 Loss: 106.6927 Validation accuracy: 0.9237\n"
          ],
          "name": "stdout"
        },
        {
          "output_type": "stream",
          "text": [
            "100%|██████████| 109/109 [00:01<00:00, 99.88it/s] \n",
            "100%|██████████| 29/29 [00:00<00:00, 40.77it/s]\n",
            " 10%|█         | 11/109 [00:00<00:00, 104.22it/s]"
          ],
          "name": "stderr"
        },
        {
          "output_type": "stream",
          "text": [
            "Epoch: 8 Loss: 91.6244 Validation accuracy: 0.9317\n"
          ],
          "name": "stdout"
        },
        {
          "output_type": "stream",
          "text": [
            "100%|██████████| 109/109 [00:01<00:00, 103.50it/s]\n",
            "100%|██████████| 29/29 [00:00<00:00, 39.66it/s]\n",
            "100%|██████████| 3/3 [00:00<00:00, 41.67it/s]\n",
            "  6%|▋         | 7/109 [00:00<00:01, 67.89it/s]"
          ],
          "name": "stderr"
        },
        {
          "output_type": "stream",
          "text": [
            "Epoch: 9 Loss: 79.8760 Validation accuracy: 0.9380\n"
          ],
          "name": "stdout"
        },
        {
          "output_type": "stream",
          "text": [
            "100%|██████████| 109/109 [00:01<00:00, 68.62it/s]\n",
            "100%|██████████| 29/29 [00:01<00:00, 24.64it/s]\n",
            "  6%|▋         | 7/109 [00:00<00:01, 60.10it/s]"
          ],
          "name": "stderr"
        },
        {
          "output_type": "stream",
          "text": [
            "Epoch: 0 Loss: 1051.0129 Validation accuracy: 0.6392\n"
          ],
          "name": "stdout"
        },
        {
          "output_type": "stream",
          "text": [
            "100%|██████████| 109/109 [00:01<00:00, 69.15it/s]\n",
            "100%|██████████| 29/29 [00:01<00:00, 24.34it/s]\n",
            "  6%|▋         | 7/109 [00:00<00:01, 69.69it/s]"
          ],
          "name": "stderr"
        },
        {
          "output_type": "stream",
          "text": [
            "Epoch: 1 Loss: 451.1854 Validation accuracy: 0.7080\n"
          ],
          "name": "stdout"
        },
        {
          "output_type": "stream",
          "text": [
            "100%|██████████| 109/109 [00:01<00:00, 69.77it/s]\n",
            "100%|██████████| 29/29 [00:01<00:00, 25.39it/s]\n",
            "  7%|▋         | 8/109 [00:00<00:01, 72.84it/s]"
          ],
          "name": "stderr"
        },
        {
          "output_type": "stream",
          "text": [
            "Epoch: 2 Loss: 359.1006 Validation accuracy: 0.7419\n"
          ],
          "name": "stdout"
        },
        {
          "output_type": "stream",
          "text": [
            "100%|██████████| 109/109 [00:01<00:00, 68.93it/s]\n",
            "100%|██████████| 29/29 [00:01<00:00, 24.49it/s]\n",
            "  6%|▋         | 7/109 [00:00<00:01, 64.68it/s]"
          ],
          "name": "stderr"
        },
        {
          "output_type": "stream",
          "text": [
            "Epoch: 3 Loss: 300.6194 Validation accuracy: 0.7835\n"
          ],
          "name": "stdout"
        },
        {
          "output_type": "stream",
          "text": [
            "100%|██████████| 109/109 [00:01<00:00, 67.95it/s]\n",
            "100%|██████████| 29/29 [00:01<00:00, 24.53it/s]\n",
            "  7%|▋         | 8/109 [00:00<00:01, 72.04it/s]"
          ],
          "name": "stderr"
        },
        {
          "output_type": "stream",
          "text": [
            "Epoch: 4 Loss: 264.0441 Validation accuracy: 0.7945\n"
          ],
          "name": "stdout"
        },
        {
          "output_type": "stream",
          "text": [
            "100%|██████████| 109/109 [00:01<00:00, 70.07it/s]\n",
            "100%|██████████| 29/29 [00:01<00:00, 25.36it/s]\n",
            "  7%|▋         | 8/109 [00:00<00:01, 73.49it/s]"
          ],
          "name": "stderr"
        },
        {
          "output_type": "stream",
          "text": [
            "Epoch: 5 Loss: 235.2646 Validation accuracy: 0.8012\n"
          ],
          "name": "stdout"
        },
        {
          "output_type": "stream",
          "text": [
            "100%|██████████| 109/109 [00:01<00:00, 68.58it/s]\n",
            "100%|██████████| 29/29 [00:01<00:00, 25.63it/s]\n",
            "  7%|▋         | 8/109 [00:00<00:01, 72.69it/s]"
          ],
          "name": "stderr"
        },
        {
          "output_type": "stream",
          "text": [
            "Epoch: 6 Loss: 210.0256 Validation accuracy: 0.8223\n"
          ],
          "name": "stdout"
        },
        {
          "output_type": "stream",
          "text": [
            "100%|██████████| 109/109 [00:01<00:00, 68.39it/s]\n",
            "100%|██████████| 29/29 [00:01<00:00, 24.71it/s]\n",
            "  6%|▋         | 7/109 [00:00<00:01, 65.03it/s]"
          ],
          "name": "stderr"
        },
        {
          "output_type": "stream",
          "text": [
            "Epoch: 7 Loss: 186.4255 Validation accuracy: 0.8522\n"
          ],
          "name": "stdout"
        },
        {
          "output_type": "stream",
          "text": [
            "100%|██████████| 109/109 [00:01<00:00, 67.87it/s]\n",
            "100%|██████████| 29/29 [00:01<00:00, 24.51it/s]\n",
            "  6%|▋         | 7/109 [00:00<00:01, 68.01it/s]"
          ],
          "name": "stderr"
        },
        {
          "output_type": "stream",
          "text": [
            "Epoch: 8 Loss: 163.1740 Validation accuracy: 0.8962\n"
          ],
          "name": "stdout"
        },
        {
          "output_type": "stream",
          "text": [
            "100%|██████████| 109/109 [00:01<00:00, 67.92it/s]\n",
            "100%|██████████| 29/29 [00:01<00:00, 25.76it/s]\n",
            "100%|██████████| 3/3 [00:00<00:00, 24.91it/s]\n"
          ],
          "name": "stderr"
        },
        {
          "output_type": "stream",
          "text": [
            "Epoch: 9 Loss: 140.1467 Validation accuracy: 0.9107\n"
          ],
          "name": "stdout"
        },
        {
          "output_type": "stream",
          "text": [
            "100%|██████████| 3/3 [00:00<00:00, 29.27it/s]\n",
            "100%|██████████| 120/120 [00:01<00:00, 101.77it/s]\n",
            "100%|██████████| 29/29 [00:00<00:00, 41.75it/s]\n",
            "  8%|▊         | 10/120 [00:00<00:01, 95.62it/s]"
          ],
          "name": "stderr"
        },
        {
          "output_type": "stream",
          "text": [
            "Epoch: 0 Loss: 925.2782 Validation accuracy: 0.7080\n"
          ],
          "name": "stdout"
        },
        {
          "output_type": "stream",
          "text": [
            "100%|██████████| 120/120 [00:01<00:00, 105.75it/s]\n",
            "100%|██████████| 29/29 [00:00<00:00, 40.84it/s]\n",
            "  9%|▉         | 11/120 [00:00<00:01, 99.11it/s]"
          ],
          "name": "stderr"
        },
        {
          "output_type": "stream",
          "text": [
            "Epoch: 1 Loss: 389.7240 Validation accuracy: 0.7437\n"
          ],
          "name": "stdout"
        },
        {
          "output_type": "stream",
          "text": [
            "100%|██████████| 120/120 [00:01<00:00, 105.14it/s]\n",
            "100%|██████████| 29/29 [00:00<00:00, 42.22it/s]\n",
            "  8%|▊         | 9/120 [00:00<00:01, 87.74it/s]"
          ],
          "name": "stderr"
        },
        {
          "output_type": "stream",
          "text": [
            "Epoch: 2 Loss: 299.9747 Validation accuracy: 0.8158\n"
          ],
          "name": "stdout"
        },
        {
          "output_type": "stream",
          "text": [
            "100%|██████████| 120/120 [00:01<00:00, 100.27it/s]\n",
            "100%|██████████| 29/29 [00:00<00:00, 41.98it/s]\n",
            "  9%|▉         | 11/120 [00:00<00:01, 103.47it/s]"
          ],
          "name": "stderr"
        },
        {
          "output_type": "stream",
          "text": [
            "Epoch: 3 Loss: 226.1275 Validation accuracy: 0.8619\n"
          ],
          "name": "stdout"
        },
        {
          "output_type": "stream",
          "text": [
            "100%|██████████| 120/120 [00:01<00:00, 103.98it/s]\n",
            "100%|██████████| 29/29 [00:00<00:00, 40.70it/s]\n",
            "  9%|▉         | 11/120 [00:00<00:01, 105.66it/s]"
          ],
          "name": "stderr"
        },
        {
          "output_type": "stream",
          "text": [
            "Epoch: 4 Loss: 170.1508 Validation accuracy: 0.8981\n"
          ],
          "name": "stdout"
        },
        {
          "output_type": "stream",
          "text": [
            "100%|██████████| 120/120 [00:01<00:00, 105.28it/s]\n",
            "100%|██████████| 29/29 [00:00<00:00, 42.99it/s]\n",
            "  8%|▊         | 10/120 [00:00<00:01, 96.34it/s]"
          ],
          "name": "stderr"
        },
        {
          "output_type": "stream",
          "text": [
            "Epoch: 5 Loss: 134.4657 Validation accuracy: 0.9142\n"
          ],
          "name": "stdout"
        },
        {
          "output_type": "stream",
          "text": [
            "100%|██████████| 120/120 [00:01<00:00, 106.83it/s]\n",
            "100%|██████████| 29/29 [00:00<00:00, 41.84it/s]\n",
            "  9%|▉         | 11/120 [00:00<00:01, 104.25it/s]"
          ],
          "name": "stderr"
        },
        {
          "output_type": "stream",
          "text": [
            "Epoch: 6 Loss: 110.4847 Validation accuracy: 0.9211\n"
          ],
          "name": "stdout"
        },
        {
          "output_type": "stream",
          "text": [
            "100%|██████████| 120/120 [00:01<00:00, 107.31it/s]\n",
            "100%|██████████| 29/29 [00:00<00:00, 41.17it/s]\n",
            "  8%|▊         | 10/120 [00:00<00:01, 99.58it/s]"
          ],
          "name": "stderr"
        },
        {
          "output_type": "stream",
          "text": [
            "Epoch: 7 Loss: 93.0236 Validation accuracy: 0.9305\n"
          ],
          "name": "stdout"
        },
        {
          "output_type": "stream",
          "text": [
            "100%|██████████| 120/120 [00:01<00:00, 108.44it/s]\n",
            "100%|██████████| 29/29 [00:00<00:00, 41.83it/s]\n",
            "  9%|▉         | 11/120 [00:00<00:01, 107.50it/s]"
          ],
          "name": "stderr"
        },
        {
          "output_type": "stream",
          "text": [
            "Epoch: 8 Loss: 79.7968 Validation accuracy: 0.9386\n"
          ],
          "name": "stdout"
        },
        {
          "output_type": "stream",
          "text": [
            "100%|██████████| 120/120 [00:01<00:00, 108.88it/s]\n",
            "100%|██████████| 29/29 [00:00<00:00, 42.54it/s]\n",
            "100%|██████████| 3/3 [00:00<00:00, 45.26it/s]\n",
            "  6%|▌         | 7/120 [00:00<00:01, 67.45it/s]"
          ],
          "name": "stderr"
        },
        {
          "output_type": "stream",
          "text": [
            "Epoch: 9 Loss: 69.7896 Validation accuracy: 0.9450\n"
          ],
          "name": "stdout"
        },
        {
          "output_type": "stream",
          "text": [
            "100%|██████████| 120/120 [00:01<00:00, 68.50it/s]\n",
            "100%|██████████| 29/29 [00:01<00:00, 25.27it/s]\n",
            "  6%|▌         | 7/120 [00:00<00:01, 66.15it/s]"
          ],
          "name": "stderr"
        },
        {
          "output_type": "stream",
          "text": [
            "Epoch: 0 Loss: 998.3095 Validation accuracy: 0.7080\n"
          ],
          "name": "stdout"
        },
        {
          "output_type": "stream",
          "text": [
            "100%|██████████| 120/120 [00:01<00:00, 68.61it/s]\n",
            "100%|██████████| 29/29 [00:01<00:00, 25.86it/s]\n",
            "  6%|▌         | 7/120 [00:00<00:01, 68.86it/s]"
          ],
          "name": "stderr"
        },
        {
          "output_type": "stream",
          "text": [
            "Epoch: 1 Loss: 430.5228 Validation accuracy: 0.7080\n"
          ],
          "name": "stdout"
        },
        {
          "output_type": "stream",
          "text": [
            "100%|██████████| 120/120 [00:01<00:00, 67.40it/s]\n",
            "100%|██████████| 29/29 [00:01<00:00, 26.16it/s]\n",
            "  6%|▌         | 7/120 [00:00<00:01, 66.00it/s]"
          ],
          "name": "stderr"
        },
        {
          "output_type": "stream",
          "text": [
            "Epoch: 2 Loss: 340.5874 Validation accuracy: 0.7640\n"
          ],
          "name": "stdout"
        },
        {
          "output_type": "stream",
          "text": [
            "100%|██████████| 120/120 [00:01<00:00, 67.83it/s]\n",
            "100%|██████████| 29/29 [00:01<00:00, 26.15it/s]\n",
            "  7%|▋         | 8/120 [00:00<00:01, 72.00it/s]"
          ],
          "name": "stderr"
        },
        {
          "output_type": "stream",
          "text": [
            "Epoch: 3 Loss: 285.9446 Validation accuracy: 0.7870\n"
          ],
          "name": "stdout"
        },
        {
          "output_type": "stream",
          "text": [
            "100%|██████████| 120/120 [00:01<00:00, 70.52it/s]\n",
            "100%|██████████| 29/29 [00:01<00:00, 25.09it/s]\n",
            "  6%|▌         | 7/120 [00:00<00:01, 67.97it/s]"
          ],
          "name": "stderr"
        },
        {
          "output_type": "stream",
          "text": [
            "Epoch: 4 Loss: 250.0981 Validation accuracy: 0.7988\n"
          ],
          "name": "stdout"
        },
        {
          "output_type": "stream",
          "text": [
            "100%|██████████| 120/120 [00:01<00:00, 70.50it/s]\n",
            "100%|██████████| 29/29 [00:01<00:00, 25.75it/s]\n",
            "  6%|▌         | 7/120 [00:00<00:01, 68.71it/s]"
          ],
          "name": "stderr"
        },
        {
          "output_type": "stream",
          "text": [
            "Epoch: 5 Loss: 220.0677 Validation accuracy: 0.8170\n"
          ],
          "name": "stdout"
        },
        {
          "output_type": "stream",
          "text": [
            "100%|██████████| 120/120 [00:01<00:00, 67.94it/s]\n",
            "100%|██████████| 29/29 [00:01<00:00, 23.61it/s]\n",
            "  7%|▋         | 8/120 [00:00<00:01, 67.56it/s]"
          ],
          "name": "stderr"
        },
        {
          "output_type": "stream",
          "text": [
            "Epoch: 6 Loss: 191.6256 Validation accuracy: 0.8589\n"
          ],
          "name": "stdout"
        },
        {
          "output_type": "stream",
          "text": [
            "100%|██████████| 120/120 [00:01<00:00, 71.57it/s]\n",
            "100%|██████████| 29/29 [00:01<00:00, 25.99it/s]\n",
            "  6%|▌         | 7/120 [00:00<00:01, 67.90it/s]"
          ],
          "name": "stderr"
        },
        {
          "output_type": "stream",
          "text": [
            "Epoch: 7 Loss: 162.7875 Validation accuracy: 0.8912\n"
          ],
          "name": "stdout"
        },
        {
          "output_type": "stream",
          "text": [
            "100%|██████████| 120/120 [00:01<00:00, 70.40it/s]\n",
            "100%|██████████| 29/29 [00:01<00:00, 25.14it/s]\n",
            "  7%|▋         | 8/120 [00:00<00:01, 73.27it/s]"
          ],
          "name": "stderr"
        },
        {
          "output_type": "stream",
          "text": [
            "Epoch: 8 Loss: 138.4917 Validation accuracy: 0.9160\n"
          ],
          "name": "stdout"
        },
        {
          "output_type": "stream",
          "text": [
            "100%|██████████| 120/120 [00:01<00:00, 69.71it/s]\n",
            "100%|██████████| 29/29 [00:01<00:00, 25.32it/s]\n",
            "100%|██████████| 3/3 [00:00<00:00, 28.56it/s]\n"
          ],
          "name": "stderr"
        },
        {
          "output_type": "stream",
          "text": [
            "Epoch: 9 Loss: 119.8697 Validation accuracy: 0.9207\n"
          ],
          "name": "stdout"
        },
        {
          "output_type": "stream",
          "text": [
            "100%|██████████| 3/3 [00:00<00:00, 29.93it/s]\n",
            "100%|██████████| 131/131 [00:01<00:00, 110.39it/s]\n",
            "100%|██████████| 29/29 [00:00<00:00, 42.13it/s]\n",
            "  8%|▊         | 11/131 [00:00<00:01, 107.74it/s]"
          ],
          "name": "stderr"
        },
        {
          "output_type": "stream",
          "text": [
            "Epoch: 0 Loss: 889.6460 Validation accuracy: 0.7080\n"
          ],
          "name": "stdout"
        },
        {
          "output_type": "stream",
          "text": [
            "100%|██████████| 131/131 [00:01<00:00, 104.90it/s]\n",
            "100%|██████████| 29/29 [00:00<00:00, 38.61it/s]\n",
            "  8%|▊         | 11/131 [00:00<00:01, 105.01it/s]"
          ],
          "name": "stderr"
        },
        {
          "output_type": "stream",
          "text": [
            "Epoch: 1 Loss: 377.6204 Validation accuracy: 0.7539\n"
          ],
          "name": "stdout"
        },
        {
          "output_type": "stream",
          "text": [
            "100%|██████████| 131/131 [00:01<00:00, 110.33it/s]\n",
            "100%|██████████| 29/29 [00:00<00:00, 43.08it/s]\n",
            "  9%|▉         | 12/131 [00:00<00:01, 112.92it/s]"
          ],
          "name": "stderr"
        },
        {
          "output_type": "stream",
          "text": [
            "Epoch: 2 Loss: 281.9533 Validation accuracy: 0.8305\n"
          ],
          "name": "stdout"
        },
        {
          "output_type": "stream",
          "text": [
            "100%|██████████| 131/131 [00:01<00:00, 108.48it/s]\n",
            "100%|██████████| 29/29 [00:00<00:00, 40.55it/s]\n",
            "  8%|▊         | 10/131 [00:00<00:01, 94.17it/s]"
          ],
          "name": "stderr"
        },
        {
          "output_type": "stream",
          "text": [
            "Epoch: 3 Loss: 206.7304 Validation accuracy: 0.8800\n"
          ],
          "name": "stdout"
        },
        {
          "output_type": "stream",
          "text": [
            "100%|██████████| 131/131 [00:01<00:00, 108.07it/s]\n",
            "100%|██████████| 29/29 [00:00<00:00, 39.50it/s]\n",
            "  8%|▊         | 11/131 [00:00<00:01, 102.90it/s]"
          ],
          "name": "stderr"
        },
        {
          "output_type": "stream",
          "text": [
            "Epoch: 4 Loss: 154.6309 Validation accuracy: 0.9039\n"
          ],
          "name": "stdout"
        },
        {
          "output_type": "stream",
          "text": [
            "100%|██████████| 131/131 [00:01<00:00, 103.64it/s]\n",
            "100%|██████████| 29/29 [00:00<00:00, 42.15it/s]\n",
            "  8%|▊         | 11/131 [00:00<00:01, 104.30it/s]"
          ],
          "name": "stderr"
        },
        {
          "output_type": "stream",
          "text": [
            "Epoch: 5 Loss: 122.4083 Validation accuracy: 0.9181\n"
          ],
          "name": "stdout"
        },
        {
          "output_type": "stream",
          "text": [
            "100%|██████████| 131/131 [00:01<00:00, 106.11it/s]\n",
            "100%|██████████| 29/29 [00:00<00:00, 38.81it/s]\n",
            "  8%|▊         | 11/131 [00:00<00:01, 102.42it/s]"
          ],
          "name": "stderr"
        },
        {
          "output_type": "stream",
          "text": [
            "Epoch: 6 Loss: 100.7394 Validation accuracy: 0.9265\n"
          ],
          "name": "stdout"
        },
        {
          "output_type": "stream",
          "text": [
            "100%|██████████| 131/131 [00:01<00:00, 107.83it/s]\n",
            "100%|██████████| 29/29 [00:00<00:00, 39.48it/s]\n",
            "  8%|▊         | 11/131 [00:00<00:01, 108.56it/s]"
          ],
          "name": "stderr"
        },
        {
          "output_type": "stream",
          "text": [
            "Epoch: 7 Loss: 84.8835 Validation accuracy: 0.9353\n"
          ],
          "name": "stdout"
        },
        {
          "output_type": "stream",
          "text": [
            "100%|██████████| 131/131 [00:01<00:00, 102.81it/s]\n",
            "100%|██████████| 29/29 [00:00<00:00, 37.51it/s]\n",
            "  8%|▊         | 10/131 [00:00<00:01, 99.14it/s]"
          ],
          "name": "stderr"
        },
        {
          "output_type": "stream",
          "text": [
            "Epoch: 8 Loss: 73.1395 Validation accuracy: 0.9418\n"
          ],
          "name": "stdout"
        },
        {
          "output_type": "stream",
          "text": [
            "100%|██████████| 131/131 [00:01<00:00, 104.13it/s]\n",
            "100%|██████████| 29/29 [00:00<00:00, 43.03it/s]\n",
            "100%|██████████| 3/3 [00:00<00:00, 37.76it/s]\n",
            "  6%|▌         | 8/131 [00:00<00:01, 75.65it/s]"
          ],
          "name": "stderr"
        },
        {
          "output_type": "stream",
          "text": [
            "Epoch: 9 Loss: 64.2611 Validation accuracy: 0.9463\n"
          ],
          "name": "stdout"
        },
        {
          "output_type": "stream",
          "text": [
            "100%|██████████| 131/131 [00:01<00:00, 71.14it/s]\n",
            "100%|██████████| 29/29 [00:01<00:00, 25.80it/s]\n",
            "  5%|▍         | 6/131 [00:00<00:02, 58.32it/s]"
          ],
          "name": "stderr"
        },
        {
          "output_type": "stream",
          "text": [
            "Epoch: 0 Loss: 948.8426 Validation accuracy: 0.7080\n"
          ],
          "name": "stdout"
        },
        {
          "output_type": "stream",
          "text": [
            "100%|██████████| 131/131 [00:01<00:00, 71.87it/s]\n",
            "100%|██████████| 29/29 [00:01<00:00, 25.40it/s]\n",
            "  5%|▍         | 6/131 [00:00<00:02, 59.96it/s]"
          ],
          "name": "stderr"
        },
        {
          "output_type": "stream",
          "text": [
            "Epoch: 1 Loss: 414.2759 Validation accuracy: 0.7080\n"
          ],
          "name": "stdout"
        },
        {
          "output_type": "stream",
          "text": [
            "100%|██████████| 131/131 [00:01<00:00, 69.70it/s]\n",
            "100%|██████████| 29/29 [00:01<00:00, 25.33it/s]\n",
            "  5%|▌         | 7/131 [00:00<00:01, 65.63it/s]"
          ],
          "name": "stderr"
        },
        {
          "output_type": "stream",
          "text": [
            "Epoch: 2 Loss: 325.1158 Validation accuracy: 0.7667\n"
          ],
          "name": "stdout"
        },
        {
          "output_type": "stream",
          "text": [
            "100%|██████████| 131/131 [00:01<00:00, 69.48it/s]\n",
            "100%|██████████| 29/29 [00:01<00:00, 25.10it/s]\n",
            "  5%|▌         | 7/131 [00:00<00:01, 65.94it/s]"
          ],
          "name": "stderr"
        },
        {
          "output_type": "stream",
          "text": [
            "Epoch: 3 Loss: 272.9613 Validation accuracy: 0.7945\n"
          ],
          "name": "stdout"
        },
        {
          "output_type": "stream",
          "text": [
            "100%|██████████| 131/131 [00:01<00:00, 69.97it/s]\n",
            "100%|██████████| 29/29 [00:01<00:00, 25.68it/s]\n",
            "  5%|▍         | 6/131 [00:00<00:02, 52.48it/s]"
          ],
          "name": "stderr"
        },
        {
          "output_type": "stream",
          "text": [
            "Epoch: 4 Loss: 236.4451 Validation accuracy: 0.8034\n"
          ],
          "name": "stdout"
        },
        {
          "output_type": "stream",
          "text": [
            "100%|██████████| 131/131 [00:01<00:00, 69.92it/s]\n",
            "100%|██████████| 29/29 [00:01<00:00, 25.26it/s]\n",
            "  5%|▌         | 7/131 [00:00<00:01, 62.14it/s]"
          ],
          "name": "stderr"
        },
        {
          "output_type": "stream",
          "text": [
            "Epoch: 5 Loss: 204.9138 Validation accuracy: 0.8324\n"
          ],
          "name": "stdout"
        },
        {
          "output_type": "stream",
          "text": [
            "100%|██████████| 131/131 [00:01<00:00, 68.55it/s]\n",
            "100%|██████████| 29/29 [00:01<00:00, 21.60it/s]\n",
            "  5%|▍         | 6/131 [00:00<00:02, 54.72it/s]"
          ],
          "name": "stderr"
        },
        {
          "output_type": "stream",
          "text": [
            "Epoch: 6 Loss: 174.6426 Validation accuracy: 0.8832\n"
          ],
          "name": "stdout"
        },
        {
          "output_type": "stream",
          "text": [
            "100%|██████████| 131/131 [00:01<00:00, 67.59it/s]\n",
            "100%|██████████| 29/29 [00:01<00:00, 24.59it/s]\n",
            "  5%|▌         | 7/131 [00:00<00:01, 69.09it/s]"
          ],
          "name": "stderr"
        },
        {
          "output_type": "stream",
          "text": [
            "Epoch: 7 Loss: 145.4104 Validation accuracy: 0.9128\n"
          ],
          "name": "stdout"
        },
        {
          "output_type": "stream",
          "text": [
            "100%|██████████| 131/131 [00:01<00:00, 67.26it/s]\n",
            "100%|██████████| 29/29 [00:01<00:00, 24.99it/s]\n",
            "  6%|▌         | 8/131 [00:00<00:01, 71.06it/s]"
          ],
          "name": "stderr"
        },
        {
          "output_type": "stream",
          "text": [
            "Epoch: 8 Loss: 121.9651 Validation accuracy: 0.9213\n"
          ],
          "name": "stdout"
        },
        {
          "output_type": "stream",
          "text": [
            "100%|██████████| 131/131 [00:01<00:00, 70.02it/s]\n",
            "100%|██████████| 29/29 [00:01<00:00, 24.46it/s]\n",
            "100%|██████████| 3/3 [00:00<00:00, 27.42it/s]\n"
          ],
          "name": "stderr"
        },
        {
          "output_type": "stream",
          "text": [
            "Epoch: 9 Loss: 104.7409 Validation accuracy: 0.9274\n"
          ],
          "name": "stdout"
        },
        {
          "output_type": "stream",
          "text": [
            "100%|██████████| 3/3 [00:00<00:00, 29.04it/s]\n",
            "100%|██████████| 141/141 [00:01<00:00, 104.24it/s]\n",
            "100%|██████████| 29/29 [00:00<00:00, 40.57it/s]\n",
            "  6%|▋         | 9/141 [00:00<00:01, 86.95it/s]"
          ],
          "name": "stderr"
        },
        {
          "output_type": "stream",
          "text": [
            "Epoch: 0 Loss: 857.3916 Validation accuracy: 0.7080\n"
          ],
          "name": "stdout"
        },
        {
          "output_type": "stream",
          "text": [
            "100%|██████████| 141/141 [00:01<00:00, 103.34it/s]\n",
            "100%|██████████| 29/29 [00:00<00:00, 41.58it/s]\n",
            "  8%|▊         | 11/141 [00:00<00:01, 102.30it/s]"
          ],
          "name": "stderr"
        },
        {
          "output_type": "stream",
          "text": [
            "Epoch: 1 Loss: 364.5915 Validation accuracy: 0.7740\n"
          ],
          "name": "stdout"
        },
        {
          "output_type": "stream",
          "text": [
            "100%|██████████| 141/141 [00:01<00:00, 106.20it/s]\n",
            "100%|██████████| 29/29 [00:00<00:00, 42.15it/s]\n",
            "  7%|▋         | 10/141 [00:00<00:01, 99.95it/s]"
          ],
          "name": "stderr"
        },
        {
          "output_type": "stream",
          "text": [
            "Epoch: 2 Loss: 264.1272 Validation accuracy: 0.8396\n"
          ],
          "name": "stdout"
        },
        {
          "output_type": "stream",
          "text": [
            "100%|██████████| 141/141 [00:01<00:00, 102.49it/s]\n",
            "100%|██████████| 29/29 [00:00<00:00, 41.83it/s]\n",
            "  9%|▊         | 12/141 [00:00<00:01, 113.20it/s]"
          ],
          "name": "stderr"
        },
        {
          "output_type": "stream",
          "text": [
            "Epoch: 3 Loss: 187.5911 Validation accuracy: 0.8927\n"
          ],
          "name": "stdout"
        },
        {
          "output_type": "stream",
          "text": [
            "100%|██████████| 141/141 [00:01<00:00, 104.88it/s]\n",
            "100%|██████████| 29/29 [00:00<00:00, 39.45it/s]\n",
            "  7%|▋         | 10/141 [00:00<00:01, 92.84it/s]"
          ],
          "name": "stderr"
        },
        {
          "output_type": "stream",
          "text": [
            "Epoch: 4 Loss: 139.4177 Validation accuracy: 0.9105\n"
          ],
          "name": "stdout"
        },
        {
          "output_type": "stream",
          "text": [
            "100%|██████████| 141/141 [00:01<00:00, 99.79it/s]\n",
            "100%|██████████| 29/29 [00:00<00:00, 36.92it/s]\n",
            "  7%|▋         | 10/141 [00:00<00:01, 98.90it/s]"
          ],
          "name": "stderr"
        },
        {
          "output_type": "stream",
          "text": [
            "Epoch: 5 Loss: 110.5856 Validation accuracy: 0.9235\n"
          ],
          "name": "stdout"
        },
        {
          "output_type": "stream",
          "text": [
            "100%|██████████| 141/141 [00:01<00:00, 97.75it/s]\n",
            "100%|██████████| 29/29 [00:00<00:00, 39.80it/s]\n",
            "  7%|▋         | 10/141 [00:00<00:01, 98.76it/s]"
          ],
          "name": "stderr"
        },
        {
          "output_type": "stream",
          "text": [
            "Epoch: 6 Loss: 90.8959 Validation accuracy: 0.9332\n"
          ],
          "name": "stdout"
        },
        {
          "output_type": "stream",
          "text": [
            "100%|██████████| 141/141 [00:01<00:00, 103.86it/s]\n",
            "100%|██████████| 29/29 [00:00<00:00, 42.04it/s]\n",
            "  7%|▋         | 10/141 [00:00<00:01, 99.53it/s]"
          ],
          "name": "stderr"
        },
        {
          "output_type": "stream",
          "text": [
            "Epoch: 7 Loss: 76.7565 Validation accuracy: 0.9407\n"
          ],
          "name": "stdout"
        },
        {
          "output_type": "stream",
          "text": [
            "100%|██████████| 141/141 [00:01<00:00, 106.24it/s]\n",
            "100%|██████████| 29/29 [00:00<00:00, 42.93it/s]\n",
            "  8%|▊         | 11/141 [00:00<00:01, 106.84it/s]"
          ],
          "name": "stderr"
        },
        {
          "output_type": "stream",
          "text": [
            "Epoch: 8 Loss: 66.3232 Validation accuracy: 0.9466\n"
          ],
          "name": "stdout"
        },
        {
          "output_type": "stream",
          "text": [
            "100%|██████████| 141/141 [00:01<00:00, 103.88it/s]\n",
            "100%|██████████| 29/29 [00:00<00:00, 40.79it/s]\n",
            "100%|██████████| 3/3 [00:00<00:00, 34.94it/s]\n",
            "  5%|▍         | 7/141 [00:00<00:01, 69.90it/s]"
          ],
          "name": "stderr"
        },
        {
          "output_type": "stream",
          "text": [
            "Epoch: 9 Loss: 58.3842 Validation accuracy: 0.9514\n"
          ],
          "name": "stdout"
        },
        {
          "output_type": "stream",
          "text": [
            "100%|██████████| 141/141 [00:02<00:00, 68.33it/s]\n",
            "100%|██████████| 29/29 [00:01<00:00, 24.43it/s]\n",
            "  5%|▍         | 7/141 [00:00<00:02, 64.36it/s]"
          ],
          "name": "stderr"
        },
        {
          "output_type": "stream",
          "text": [
            "Epoch: 0 Loss: 916.7187 Validation accuracy: 0.7080\n"
          ],
          "name": "stdout"
        },
        {
          "output_type": "stream",
          "text": [
            "100%|██████████| 141/141 [00:02<00:00, 69.22it/s]\n",
            "100%|██████████| 29/29 [00:01<00:00, 25.94it/s]\n",
            "  6%|▌         | 8/141 [00:00<00:01, 71.38it/s]"
          ],
          "name": "stderr"
        },
        {
          "output_type": "stream",
          "text": [
            "Epoch: 1 Loss: 404.1559 Validation accuracy: 0.7082\n"
          ],
          "name": "stdout"
        },
        {
          "output_type": "stream",
          "text": [
            "100%|██████████| 141/141 [00:02<00:00, 70.30it/s]\n",
            "100%|██████████| 29/29 [00:01<00:00, 24.50it/s]\n",
            "  5%|▍         | 7/141 [00:00<00:02, 66.74it/s]"
          ],
          "name": "stderr"
        },
        {
          "output_type": "stream",
          "text": [
            "Epoch: 2 Loss: 313.3305 Validation accuracy: 0.7708\n"
          ],
          "name": "stdout"
        },
        {
          "output_type": "stream",
          "text": [
            "100%|██████████| 141/141 [00:02<00:00, 67.36it/s]\n",
            "100%|██████████| 29/29 [00:01<00:00, 25.21it/s]\n",
            "  5%|▍         | 7/141 [00:00<00:02, 60.71it/s]"
          ],
          "name": "stderr"
        },
        {
          "output_type": "stream",
          "text": [
            "Epoch: 3 Loss: 263.2842 Validation accuracy: 0.7980\n"
          ],
          "name": "stdout"
        },
        {
          "output_type": "stream",
          "text": [
            "100%|██████████| 141/141 [00:02<00:00, 69.01it/s]\n",
            "100%|██████████| 29/29 [00:01<00:00, 24.31it/s]\n",
            "  4%|▍         | 6/141 [00:00<00:02, 56.89it/s]"
          ],
          "name": "stderr"
        },
        {
          "output_type": "stream",
          "text": [
            "Epoch: 4 Loss: 226.4494 Validation accuracy: 0.8104\n"
          ],
          "name": "stdout"
        },
        {
          "output_type": "stream",
          "text": [
            "100%|██████████| 141/141 [00:02<00:00, 70.39it/s]\n",
            "100%|██████████| 29/29 [00:01<00:00, 25.06it/s]\n",
            "  6%|▌         | 8/141 [00:00<00:01, 73.48it/s]"
          ],
          "name": "stderr"
        },
        {
          "output_type": "stream",
          "text": [
            "Epoch: 5 Loss: 193.7782 Validation accuracy: 0.8574\n"
          ],
          "name": "stdout"
        },
        {
          "output_type": "stream",
          "text": [
            "100%|██████████| 141/141 [00:02<00:00, 67.76it/s]\n",
            "100%|██████████| 29/29 [00:01<00:00, 25.60it/s]\n",
            "  5%|▍         | 7/141 [00:00<00:02, 66.95it/s]"
          ],
          "name": "stderr"
        },
        {
          "output_type": "stream",
          "text": [
            "Epoch: 6 Loss: 161.5491 Validation accuracy: 0.8978\n"
          ],
          "name": "stdout"
        },
        {
          "output_type": "stream",
          "text": [
            "100%|██████████| 141/141 [00:02<00:00, 66.84it/s]\n",
            "100%|██████████| 29/29 [00:01<00:00, 24.67it/s]\n",
            "  4%|▍         | 6/141 [00:00<00:02, 59.41it/s]"
          ],
          "name": "stderr"
        },
        {
          "output_type": "stream",
          "text": [
            "Epoch: 7 Loss: 134.5293 Validation accuracy: 0.9189\n"
          ],
          "name": "stdout"
        },
        {
          "output_type": "stream",
          "text": [
            "100%|██████████| 141/141 [00:02<00:00, 69.39it/s]\n",
            "100%|██████████| 29/29 [00:01<00:00, 25.41it/s]\n",
            "  6%|▌         | 8/141 [00:00<00:01, 75.35it/s]"
          ],
          "name": "stderr"
        },
        {
          "output_type": "stream",
          "text": [
            "Epoch: 8 Loss: 114.6373 Validation accuracy: 0.9264\n"
          ],
          "name": "stdout"
        },
        {
          "output_type": "stream",
          "text": [
            "100%|██████████| 141/141 [00:02<00:00, 67.88it/s]\n",
            "100%|██████████| 29/29 [00:01<00:00, 25.77it/s]\n",
            "100%|██████████| 3/3 [00:00<00:00, 26.14it/s]\n"
          ],
          "name": "stderr"
        },
        {
          "output_type": "stream",
          "text": [
            "Epoch: 9 Loss: 99.7396 Validation accuracy: 0.9300\n"
          ],
          "name": "stdout"
        },
        {
          "output_type": "stream",
          "text": [
            "100%|██████████| 3/3 [00:00<00:00, 27.49it/s]\n",
            "100%|██████████| 152/152 [00:01<00:00, 103.04it/s]\n",
            "100%|██████████| 29/29 [00:00<00:00, 40.06it/s]\n",
            "  7%|▋         | 10/152 [00:00<00:01, 97.90it/s]"
          ],
          "name": "stderr"
        },
        {
          "output_type": "stream",
          "text": [
            "Epoch: 0 Loss: 818.1239 Validation accuracy: 0.7080\n"
          ],
          "name": "stdout"
        },
        {
          "output_type": "stream",
          "text": [
            "100%|██████████| 152/152 [00:01<00:00, 105.45it/s]\n",
            "100%|██████████| 29/29 [00:00<00:00, 42.43it/s]\n",
            "  7%|▋         | 10/152 [00:00<00:01, 96.14it/s]"
          ],
          "name": "stderr"
        },
        {
          "output_type": "stream",
          "text": [
            "Epoch: 1 Loss: 358.4481 Validation accuracy: 0.7742\n"
          ],
          "name": "stdout"
        },
        {
          "output_type": "stream",
          "text": [
            "100%|██████████| 152/152 [00:01<00:00, 103.50it/s]\n",
            "100%|██████████| 29/29 [00:00<00:00, 42.09it/s]\n",
            "  7%|▋         | 10/152 [00:00<00:01, 97.34it/s]"
          ],
          "name": "stderr"
        },
        {
          "output_type": "stream",
          "text": [
            "Epoch: 2 Loss: 253.5547 Validation accuracy: 0.8504\n"
          ],
          "name": "stdout"
        },
        {
          "output_type": "stream",
          "text": [
            "100%|██████████| 152/152 [00:01<00:00, 103.57it/s]\n",
            "100%|██████████| 29/29 [00:00<00:00, 40.31it/s]\n",
            "  7%|▋         | 10/152 [00:00<00:01, 92.97it/s]"
          ],
          "name": "stderr"
        },
        {
          "output_type": "stream",
          "text": [
            "Epoch: 3 Loss: 178.6381 Validation accuracy: 0.8958\n"
          ],
          "name": "stdout"
        },
        {
          "output_type": "stream",
          "text": [
            "100%|██████████| 152/152 [00:01<00:00, 104.77it/s]\n",
            "100%|██████████| 29/29 [00:00<00:00, 39.67it/s]\n",
            "  7%|▋         | 10/152 [00:00<00:01, 94.28it/s]"
          ],
          "name": "stderr"
        },
        {
          "output_type": "stream",
          "text": [
            "Epoch: 4 Loss: 132.9615 Validation accuracy: 0.9131\n"
          ],
          "name": "stdout"
        },
        {
          "output_type": "stream",
          "text": [
            "100%|██████████| 152/152 [00:01<00:00, 100.35it/s]\n",
            "100%|██████████| 29/29 [00:00<00:00, 40.62it/s]\n",
            "  7%|▋         | 10/152 [00:00<00:01, 98.14it/s]"
          ],
          "name": "stderr"
        },
        {
          "output_type": "stream",
          "text": [
            "Epoch: 5 Loss: 104.8394 Validation accuracy: 0.9260\n"
          ],
          "name": "stdout"
        },
        {
          "output_type": "stream",
          "text": [
            "100%|██████████| 152/152 [00:01<00:00, 104.21it/s]\n",
            "100%|██████████| 29/29 [00:00<00:00, 40.94it/s]\n",
            "  7%|▋         | 11/152 [00:00<00:01, 103.25it/s]"
          ],
          "name": "stderr"
        },
        {
          "output_type": "stream",
          "text": [
            "Epoch: 6 Loss: 85.5354 Validation accuracy: 0.9373\n"
          ],
          "name": "stdout"
        },
        {
          "output_type": "stream",
          "text": [
            "100%|██████████| 152/152 [00:01<00:00, 98.47it/s]\n",
            "100%|██████████| 29/29 [00:00<00:00, 41.38it/s]\n",
            "  7%|▋         | 10/152 [00:00<00:01, 95.31it/s]"
          ],
          "name": "stderr"
        },
        {
          "output_type": "stream",
          "text": [
            "Epoch: 7 Loss: 72.0507 Validation accuracy: 0.9444\n"
          ],
          "name": "stdout"
        },
        {
          "output_type": "stream",
          "text": [
            "100%|██████████| 152/152 [00:01<00:00, 101.66it/s]\n",
            "100%|██████████| 29/29 [00:00<00:00, 42.00it/s]\n",
            "  7%|▋         | 10/152 [00:00<00:01, 94.20it/s]"
          ],
          "name": "stderr"
        },
        {
          "output_type": "stream",
          "text": [
            "Epoch: 8 Loss: 62.3313 Validation accuracy: 0.9485\n"
          ],
          "name": "stdout"
        },
        {
          "output_type": "stream",
          "text": [
            "100%|██████████| 152/152 [00:01<00:00, 103.80it/s]\n",
            "100%|██████████| 29/29 [00:00<00:00, 42.34it/s]\n",
            "100%|██████████| 3/3 [00:00<00:00, 39.80it/s]\n",
            "  5%|▍         | 7/152 [00:00<00:02, 68.66it/s]"
          ],
          "name": "stderr"
        },
        {
          "output_type": "stream",
          "text": [
            "Epoch: 9 Loss: 55.0377 Validation accuracy: 0.9522\n"
          ],
          "name": "stdout"
        },
        {
          "output_type": "stream",
          "text": [
            "100%|██████████| 152/152 [00:02<00:00, 66.11it/s]\n",
            "100%|██████████| 29/29 [00:01<00:00, 24.84it/s]\n",
            "  5%|▍         | 7/152 [00:00<00:02, 65.10it/s]"
          ],
          "name": "stderr"
        },
        {
          "output_type": "stream",
          "text": [
            "Epoch: 0 Loss: 877.5587 Validation accuracy: 0.7080\n"
          ],
          "name": "stdout"
        },
        {
          "output_type": "stream",
          "text": [
            "100%|██████████| 152/152 [00:02<00:00, 68.45it/s]\n",
            "100%|██████████| 29/29 [00:01<00:00, 25.09it/s]\n",
            "  5%|▍         | 7/152 [00:00<00:02, 64.91it/s]"
          ],
          "name": "stderr"
        },
        {
          "output_type": "stream",
          "text": [
            "Epoch: 1 Loss: 391.1258 Validation accuracy: 0.7286\n"
          ],
          "name": "stdout"
        },
        {
          "output_type": "stream",
          "text": [
            "100%|██████████| 152/152 [00:02<00:00, 68.84it/s]\n",
            "100%|██████████| 29/29 [00:01<00:00, 24.74it/s]\n",
            "  5%|▍         | 7/152 [00:00<00:02, 64.83it/s]"
          ],
          "name": "stderr"
        },
        {
          "output_type": "stream",
          "text": [
            "Epoch: 2 Loss: 301.5830 Validation accuracy: 0.7833\n"
          ],
          "name": "stdout"
        },
        {
          "output_type": "stream",
          "text": [
            "100%|██████████| 152/152 [00:02<00:00, 66.51it/s]\n",
            "100%|██████████| 29/29 [00:01<00:00, 25.65it/s]\n",
            "  5%|▌         | 8/152 [00:00<00:01, 72.76it/s]"
          ],
          "name": "stderr"
        },
        {
          "output_type": "stream",
          "text": [
            "Epoch: 3 Loss: 252.8691 Validation accuracy: 0.7956\n"
          ],
          "name": "stdout"
        },
        {
          "output_type": "stream",
          "text": [
            "100%|██████████| 152/152 [00:02<00:00, 68.22it/s]\n",
            "100%|██████████| 29/29 [00:01<00:00, 24.31it/s]\n",
            "  5%|▍         | 7/152 [00:00<00:02, 63.78it/s]"
          ],
          "name": "stderr"
        },
        {
          "output_type": "stream",
          "text": [
            "Epoch: 4 Loss: 216.3766 Validation accuracy: 0.8253\n"
          ],
          "name": "stdout"
        },
        {
          "output_type": "stream",
          "text": [
            "100%|██████████| 152/152 [00:02<00:00, 68.92it/s]\n",
            "100%|██████████| 29/29 [00:01<00:00, 25.51it/s]\n",
            "  3%|▎         | 5/152 [00:00<00:03, 48.69it/s]"
          ],
          "name": "stderr"
        },
        {
          "output_type": "stream",
          "text": [
            "Epoch: 5 Loss: 181.3808 Validation accuracy: 0.8702\n"
          ],
          "name": "stdout"
        },
        {
          "output_type": "stream",
          "text": [
            "100%|██████████| 152/152 [00:02<00:00, 67.53it/s]\n",
            "100%|██████████| 29/29 [00:01<00:00, 25.08it/s]\n",
            "  4%|▍         | 6/152 [00:00<00:02, 58.72it/s]"
          ],
          "name": "stderr"
        },
        {
          "output_type": "stream",
          "text": [
            "Epoch: 6 Loss: 147.6932 Validation accuracy: 0.9123\n"
          ],
          "name": "stdout"
        },
        {
          "output_type": "stream",
          "text": [
            "100%|██████████| 152/152 [00:02<00:00, 67.72it/s]\n",
            "100%|██████████| 29/29 [00:01<00:00, 25.65it/s]\n",
            "  5%|▍         | 7/152 [00:00<00:02, 66.25it/s]"
          ],
          "name": "stderr"
        },
        {
          "output_type": "stream",
          "text": [
            "Epoch: 7 Loss: 122.9670 Validation accuracy: 0.9219\n"
          ],
          "name": "stdout"
        },
        {
          "output_type": "stream",
          "text": [
            "100%|██████████| 152/152 [00:02<00:00, 68.64it/s]\n",
            "100%|██████████| 29/29 [00:01<00:00, 24.92it/s]\n",
            "  5%|▍         | 7/152 [00:00<00:02, 63.67it/s]"
          ],
          "name": "stderr"
        },
        {
          "output_type": "stream",
          "text": [
            "Epoch: 8 Loss: 104.7849 Validation accuracy: 0.9285\n"
          ],
          "name": "stdout"
        },
        {
          "output_type": "stream",
          "text": [
            "100%|██████████| 152/152 [00:02<00:00, 68.03it/s]\n",
            "100%|██████████| 29/29 [00:01<00:00, 24.97it/s]\n",
            "100%|██████████| 3/3 [00:00<00:00, 27.96it/s]\n"
          ],
          "name": "stderr"
        },
        {
          "output_type": "stream",
          "text": [
            "Epoch: 9 Loss: 91.4384 Validation accuracy: 0.9332\n"
          ],
          "name": "stdout"
        },
        {
          "output_type": "stream",
          "text": [
            "100%|██████████| 3/3 [00:00<00:00, 30.16it/s]\n",
            "100%|██████████| 163/163 [00:01<00:00, 101.40it/s]\n",
            "100%|██████████| 29/29 [00:00<00:00, 39.97it/s]\n",
            "  7%|▋         | 11/163 [00:00<00:01, 107.00it/s]"
          ],
          "name": "stderr"
        },
        {
          "output_type": "stream",
          "text": [
            "Epoch: 0 Loss: 792.4938 Validation accuracy: 0.7080\n"
          ],
          "name": "stdout"
        },
        {
          "output_type": "stream",
          "text": [
            "100%|██████████| 163/163 [00:01<00:00, 104.50it/s]\n",
            "100%|██████████| 29/29 [00:00<00:00, 42.08it/s]\n",
            "  6%|▌         | 9/163 [00:00<00:01, 87.09it/s]"
          ],
          "name": "stderr"
        },
        {
          "output_type": "stream",
          "text": [
            "Epoch: 1 Loss: 343.9883 Validation accuracy: 0.7932\n"
          ],
          "name": "stdout"
        },
        {
          "output_type": "stream",
          "text": [
            "100%|██████████| 163/163 [00:01<00:00, 103.63it/s]\n",
            "100%|██████████| 29/29 [00:00<00:00, 43.00it/s]\n",
            "  7%|▋         | 11/163 [00:00<00:01, 103.12it/s]"
          ],
          "name": "stderr"
        },
        {
          "output_type": "stream",
          "text": [
            "Epoch: 2 Loss: 235.7518 Validation accuracy: 0.8675\n"
          ],
          "name": "stdout"
        },
        {
          "output_type": "stream",
          "text": [
            "100%|██████████| 163/163 [00:01<00:00, 103.45it/s]\n",
            "100%|██████████| 29/29 [00:00<00:00, 39.23it/s]\n",
            "  7%|▋         | 11/163 [00:00<00:01, 108.30it/s]"
          ],
          "name": "stderr"
        },
        {
          "output_type": "stream",
          "text": [
            "Epoch: 3 Loss: 163.7100 Validation accuracy: 0.9046\n"
          ],
          "name": "stdout"
        },
        {
          "output_type": "stream",
          "text": [
            "100%|██████████| 163/163 [00:01<00:00, 103.45it/s]\n",
            "100%|██████████| 29/29 [00:00<00:00, 39.75it/s]\n",
            "  6%|▌         | 10/163 [00:00<00:01, 96.48it/s]"
          ],
          "name": "stderr"
        },
        {
          "output_type": "stream",
          "text": [
            "Epoch: 4 Loss: 122.3138 Validation accuracy: 0.9200\n"
          ],
          "name": "stdout"
        },
        {
          "output_type": "stream",
          "text": [
            "100%|██████████| 163/163 [00:01<00:00, 99.08it/s] \n",
            "100%|██████████| 29/29 [00:00<00:00, 40.11it/s]\n",
            "  6%|▌         | 10/163 [00:00<00:01, 91.89it/s]"
          ],
          "name": "stderr"
        },
        {
          "output_type": "stream",
          "text": [
            "Epoch: 5 Loss: 96.4727 Validation accuracy: 0.9333\n"
          ],
          "name": "stdout"
        },
        {
          "output_type": "stream",
          "text": [
            "100%|██████████| 163/163 [00:01<00:00, 98.65it/s]\n",
            "100%|██████████| 29/29 [00:00<00:00, 39.56it/s]\n",
            "  7%|▋         | 11/163 [00:00<00:01, 102.13it/s]"
          ],
          "name": "stderr"
        },
        {
          "output_type": "stream",
          "text": [
            "Epoch: 6 Loss: 78.8414 Validation accuracy: 0.9420\n"
          ],
          "name": "stdout"
        },
        {
          "output_type": "stream",
          "text": [
            "100%|██████████| 163/163 [00:01<00:00, 99.48it/s]\n",
            "100%|██████████| 29/29 [00:00<00:00, 36.56it/s]\n",
            "  6%|▌         | 10/163 [00:00<00:01, 99.78it/s]"
          ],
          "name": "stderr"
        },
        {
          "output_type": "stream",
          "text": [
            "Epoch: 7 Loss: 66.7256 Validation accuracy: 0.9480\n"
          ],
          "name": "stdout"
        },
        {
          "output_type": "stream",
          "text": [
            "100%|██████████| 163/163 [00:01<00:00, 98.94it/s]\n",
            "100%|██████████| 29/29 [00:00<00:00, 37.53it/s]\n",
            "  6%|▌         | 9/163 [00:00<00:01, 89.65it/s]"
          ],
          "name": "stderr"
        },
        {
          "output_type": "stream",
          "text": [
            "Epoch: 8 Loss: 58.0014 Validation accuracy: 0.9507\n"
          ],
          "name": "stdout"
        },
        {
          "output_type": "stream",
          "text": [
            "100%|██████████| 163/163 [00:01<00:00, 99.33it/s] \n",
            "100%|██████████| 29/29 [00:00<00:00, 41.64it/s]\n",
            "100%|██████████| 3/3 [00:00<00:00, 45.39it/s]\n",
            "  4%|▍         | 7/163 [00:00<00:02, 63.78it/s]"
          ],
          "name": "stderr"
        },
        {
          "output_type": "stream",
          "text": [
            "Epoch: 9 Loss: 51.4304 Validation accuracy: 0.9546\n"
          ],
          "name": "stdout"
        },
        {
          "output_type": "stream",
          "text": [
            "100%|██████████| 163/163 [00:02<00:00, 69.06it/s]\n",
            "100%|██████████| 29/29 [00:01<00:00, 24.35it/s]\n",
            "  4%|▎         | 6/163 [00:00<00:02, 59.26it/s]"
          ],
          "name": "stderr"
        },
        {
          "output_type": "stream",
          "text": [
            "Epoch: 0 Loss: 853.0076 Validation accuracy: 0.7080\n"
          ],
          "name": "stdout"
        },
        {
          "output_type": "stream",
          "text": [
            "100%|██████████| 163/163 [00:02<00:00, 67.92it/s]\n",
            "100%|██████████| 29/29 [00:01<00:00, 25.95it/s]\n",
            "  4%|▎         | 6/163 [00:00<00:02, 55.76it/s]"
          ],
          "name": "stderr"
        },
        {
          "output_type": "stream",
          "text": [
            "Epoch: 1 Loss: 380.0483 Validation accuracy: 0.7388\n"
          ],
          "name": "stdout"
        },
        {
          "output_type": "stream",
          "text": [
            "100%|██████████| 163/163 [00:02<00:00, 67.37it/s]\n",
            "100%|██████████| 29/29 [00:01<00:00, 24.84it/s]\n",
            "  4%|▍         | 7/163 [00:00<00:02, 67.35it/s]"
          ],
          "name": "stderr"
        },
        {
          "output_type": "stream",
          "text": [
            "Epoch: 2 Loss: 291.1319 Validation accuracy: 0.7855\n"
          ],
          "name": "stdout"
        },
        {
          "output_type": "stream",
          "text": [
            "100%|██████████| 163/163 [00:02<00:00, 67.91it/s]\n",
            "100%|██████████| 29/29 [00:01<00:00, 24.20it/s]\n",
            "  4%|▍         | 7/163 [00:00<00:02, 60.98it/s]"
          ],
          "name": "stderr"
        },
        {
          "output_type": "stream",
          "text": [
            "Epoch: 3 Loss: 242.7809 Validation accuracy: 0.8032\n"
          ],
          "name": "stdout"
        },
        {
          "output_type": "stream",
          "text": [
            "100%|██████████| 163/163 [00:02<00:00, 66.19it/s]\n",
            "100%|██████████| 29/29 [00:01<00:00, 25.58it/s]\n",
            "  5%|▍         | 8/163 [00:00<00:02, 67.38it/s]"
          ],
          "name": "stderr"
        },
        {
          "output_type": "stream",
          "text": [
            "Epoch: 4 Loss: 204.5696 Validation accuracy: 0.8540\n"
          ],
          "name": "stdout"
        },
        {
          "output_type": "stream",
          "text": [
            "100%|██████████| 163/163 [00:02<00:00, 67.96it/s]\n",
            "100%|██████████| 29/29 [00:01<00:00, 24.42it/s]\n",
            "  4%|▍         | 7/163 [00:00<00:02, 66.80it/s]"
          ],
          "name": "stderr"
        },
        {
          "output_type": "stream",
          "text": [
            "Epoch: 5 Loss: 165.8191 Validation accuracy: 0.8959\n"
          ],
          "name": "stdout"
        },
        {
          "output_type": "stream",
          "text": [
            "100%|██████████| 163/163 [00:02<00:00, 67.85it/s]\n",
            "100%|██████████| 29/29 [00:01<00:00, 24.64it/s]\n",
            "  4%|▎         | 6/163 [00:00<00:02, 55.32it/s]"
          ],
          "name": "stderr"
        },
        {
          "output_type": "stream",
          "text": [
            "Epoch: 6 Loss: 134.5732 Validation accuracy: 0.9195\n"
          ],
          "name": "stdout"
        },
        {
          "output_type": "stream",
          "text": [
            "100%|██████████| 163/163 [00:02<00:00, 67.52it/s]\n",
            "100%|██████████| 29/29 [00:01<00:00, 25.37it/s]\n",
            "  4%|▍         | 7/163 [00:00<00:02, 63.51it/s]"
          ],
          "name": "stderr"
        },
        {
          "output_type": "stream",
          "text": [
            "Epoch: 7 Loss: 112.1302 Validation accuracy: 0.9271\n"
          ],
          "name": "stdout"
        },
        {
          "output_type": "stream",
          "text": [
            "100%|██████████| 163/163 [00:02<00:00, 68.30it/s]\n",
            "100%|██████████| 29/29 [00:01<00:00, 24.49it/s]\n",
            "  4%|▎         | 6/163 [00:00<00:02, 53.31it/s]"
          ],
          "name": "stderr"
        },
        {
          "output_type": "stream",
          "text": [
            "Epoch: 8 Loss: 95.8586 Validation accuracy: 0.9314\n"
          ],
          "name": "stdout"
        },
        {
          "output_type": "stream",
          "text": [
            "100%|██████████| 163/163 [00:02<00:00, 66.89it/s]\n",
            "100%|██████████| 29/29 [00:01<00:00, 24.63it/s]\n",
            "100%|██████████| 3/3 [00:00<00:00, 28.33it/s]\n"
          ],
          "name": "stderr"
        },
        {
          "output_type": "stream",
          "text": [
            "Epoch: 9 Loss: 83.8454 Validation accuracy: 0.9353\n"
          ],
          "name": "stdout"
        },
        {
          "output_type": "stream",
          "text": [
            "100%|██████████| 3/3 [00:00<00:00, 25.90it/s]\n"
          ],
          "name": "stderr"
        }
      ]
    },
    {
      "cell_type": "code",
      "metadata": {
        "colab": {
          "base_uri": "https://localhost:8080/",
          "height": 265
        },
        "id": "ARilKe5yrikx",
        "outputId": "da45af15-807c-48ef-b0f9-c3ff5d3c8f67"
      },
      "source": [
        "import matplotlib.pyplot as plt\r\n",
        "# red dashes, blue squares and green triangles\r\n",
        "plt.plot(ratio_range, hmm_results, 'r--', ratio_range, rnn_results, 'b--', ratio_range, lstm_results, 'g--')\r\n",
        "plt.show()"
      ],
      "execution_count": 92,
      "outputs": [
        {
          "output_type": "display_data",
          "data": {
            "image/png": "[encoded data removed]",
            "text/plain": [
              "<Figure size 432x288 with 1 Axes>"
            ]
          },
          "metadata": {
            "tags": [],
            "needs_background": "light"
          }
        }
      ]
    },
    {
      "cell_type": "code",
      "metadata": {
        "id": "Ew04jov0tu3a"
      },
      "source": [
        ""
      ],
      "execution_count": null,
      "outputs": []
    },
    {
      "cell_type": "markdown",
      "metadata": {
        "id": "4Hyn8Ge9VC16"
      },
      "source": [
        "# ***The experiment:***\r\n",
        "The models of RNN, LSTM and HMM were trained on the partial datasets accroding to the ratio, in a for-loop manner iterating over different ratio values beggining on 0.01 to 0.8 with steps of 0.05.\r\n",
        "\r\n",
        "# ***Results and conclusions:***\r\n",
        "It can be seen from the plot, where the **red line** is **HMM**, the** blue line** is **RNN** and the **green line** is **LSTM**, that **the HMM is much more consistent with its result**, **it is better the the RNN and LSTM models till some point**, from which can be concluded that **for small amounts of data it performs better then the neural network models**, which is an expectable result, **because networks need as big as possible amounts of data to optimize efficiently their parameters**.** The RNN and LSTM models are pretty close in their accurancy**.** Generally the LSTM outperforms RNN** in cases were there is a lot data, here we can see mostly that RNN outperforms LSTM, which points on the small amount of data, and effect that also had been seen on the whole dataset. **The RNN outperforms both models, the lstm model on pretty early point of ratio\\~0.06**, and **the HMM model about ratio\\~2.6**, which points out as was mentioned that **with enough data it better then an HMM model, but as the amounts of data generally too small, it also outperforms LSTM**.\r\n",
        "**The LSTM also outperform HMM as expected for a neural network model with more data then the RNN, about ratio\\~4.6.**   "
      ]
    },
    {
      "cell_type": "markdown",
      "metadata": {
        "deletable": false,
        "editable": false,
        "id": "iw8j09G5VC16"
      },
      "source": [
        "<!-- BEGIN QUESTION -->\n",
        "\n",
        "## Debrief\n",
        "\n",
        "**Question:** We're interested in any thoughts you have about this project segment so that we can improve it for later years, and to inform later segments for this year. Please list any issues that arose or comments you have to improve the project segment. Useful things to comment on include the following: \n",
        "\n",
        "* Was the project segment clear or unclear? Which portions?\n",
        "* Were the readings appropriate background for the project segment? \n",
        "* Are there additions or changes you think would make the project segment better?\n",
        "\n",
        "<!--\n",
        "BEGIN QUESTION\n",
        "name: open_response_debrief\n",
        "manual: true\n",
        "-->"
      ]
    },
    {
      "cell_type": "markdown",
      "metadata": {
        "id": "uo-5zYwTVC16"
      },
      "source": [
        "* It was very clear.  \r\n",
        "* The reading and the previous labs were a good background for the assigment.\r\n",
        "* Nothing comes to my mind."
      ]
    },
    {
      "cell_type": "markdown",
      "metadata": {
        "id": "cDLnCba0VC17"
      },
      "source": [
        "<!-- END QUESTION -->\n",
        "\n",
        "\n",
        "\n",
        "## Instructions for submission of the project segment\n",
        "\n",
        "This project segment should be submitted to Gradescope, which will be made available some time before the due date.\n",
        "\n",
        "Project segment notebooks are manually graded, not autograded using otter as labs are. (Otter is used within project segment notebooks to synchronize distribution and solution code however.) **We will not run your notebook before grading it.** Instead, we ask that you submit the already freshly run notebook. The best method is to \"restart kernel and run all cells\", allowing time for all cells to be run to completion.\n",
        "\n",
        "We also request that you **submit a PDF of the freshly run notebook**. The simplest method is to use \"Export notebook to PDF\", which will render the notebook to PDF via LaTeX. If that doesn't work, the method that seems to be most reliable is to export the notebook as HTML (if you are using Jupyter Notebook, you can do so using `File -> Print Preview`), open the HTML in a browser, and print it to a file. Then make sure to add the file to your git commit. Please name the file the same name as this notebook, but with a `.pdf` extension. (Conveniently, the methods just described will use that name by default.) You can then perform a git commit and push and submit the commit to Gradescope."
      ]
    },
    {
      "cell_type": "markdown",
      "metadata": {
        "id": "EEHckUT8VC17"
      },
      "source": [
        "# End of project segment 2"
      ]
    }
  ]
}